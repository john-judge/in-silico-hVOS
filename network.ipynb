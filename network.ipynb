{
 "cells": [
  {
   "cell_type": "code",
   "execution_count": 1,
   "metadata": {},
   "outputs": [],
   "source": [
    "from pyneuroml import pynml\n",
    "import urllib.request, json \n",
    "#import requests\n",
    "import os\n",
    "import numpy as np\n",
    "from neuroml import *\n",
    "from neuroml.utils import component_factory, validate_neuroml2\n",
    "from pyneuroml import pynml\n",
    "#from pyneuroml.lems import LEMSSimulation\n",
    "from pyneuroml.lems import generate_lems_file_for_neuroml\n",
    "import neuroml.writers as writers\n",
    "import random\n",
    "from pyneuroml.pynml import read_lems_file, read_neuroml2_file, write_lems_file, write_neuroml2_file\n"
   ]
  },
  {
   "cell_type": "code",
   "execution_count": 2,
   "metadata": {},
   "outputs": [
    {
     "name": "stdout",
     "output_type": "stream",
     "text": [
      "['bAC217_L23_BP_2004171a4c_0_0.cell.nml', 'bAC217_L23_BP_2f6bdee09f_0_0.cell.nml', 'bAC217_L23_BP_4652c9a7e1_0_0.cell.nml', 'bAC217_L23_BP_472b717f1f_0_0.cell.nml', 'bAC217_L23_BP_ca85cefc69_0_0.cell.nml']\n",
      "['bAC217_L23_BP_2004171a4c.net.nml', 'bAC217_L23_BP_2004171a4c.stepcurrent3.net.nml', 'bAC217_L23_BP_2f6bdee09f.net.nml', 'bAC217_L23_BP_2f6bdee09f.stepcurrent3.net.nml', 'bAC217_L23_BP_4652c9a7e1.net.nml']\n",
      "['bAC217_L23_BP_2004171a4c.stepcurrent3.net.nml', 'bAC217_L23_BP_2f6bdee09f.stepcurrent3.net.nml', 'bAC217_L23_BP_4652c9a7e1.stepcurrent3.net.nml', 'bAC217_L23_BP_472b717f1f.stepcurrent3.net.nml', 'bAC217_L23_BP_ca85cefc69.stepcurrent3.net.nml']\n"
     ]
    },
    {
     "data": {
      "text/plain": [
       "'for file in cell_files:\\n    print(\"Validating: \" + file)\\n    validate_neuroml2(cell_data_dir + file)\\nfor file in net_files:\\n    validate_neuroml2(cell_data_dir + file)\\nfor file in current_files:\\n    validate_neuroml2(cell_data_dir + file)\\n'"
      ]
     },
     "execution_count": 2,
     "metadata": {},
     "output_type": "execute_result"
    }
   ],
   "source": [
    "'''https://pyneuroml.readthedocs.io/en/development/pyneuroml.io.html\n",
    "pyneuroml.io.read_lems_file\n",
    "pyneuroml.io.read_neuroml2_file\n",
    "pyneuroml.io.write_lems_file\n",
    "pyneuroml.io.write_neuroml2_file'''\n",
    "\n",
    "# use the above functions to read LEMS and NeuroML files\n",
    "cell_data_dir = \"../NMC_model/NMC.NeuronML2/\"\n",
    "network_data_dir = \"../NMC_model/\"  # contains JSONs for network and connectivity data\n",
    "\n",
    "files = os.listdir(cell_data_dir)\n",
    "cell_files = [f for f in files if f.endswith(\"cell.nml\")]  # .cell.nml -- contains arborization location details\n",
    "net_files = [f for f in files if f.endswith(\"net.nml\")]  # .net.nml -- contains location (0,0,0) in x-y-z space\n",
    "current_files = [f for f in files if (f.endswith(\".nml\") and 'current' in f)]  # .current_clamp.nml -- contains current clamp details\n",
    "print(cell_files[:5])\n",
    "print(net_files[:5])\n",
    "print(current_files[:5])\n",
    "\n",
    "# validate the NeuroML files\n",
    "'''for file in cell_files:\n",
    "    print(\"Validating: \" + file)\n",
    "    validate_neuroml2(cell_data_dir + file)\n",
    "for file in net_files:\n",
    "    validate_neuroml2(cell_data_dir + file)\n",
    "for file in current_files:\n",
    "    validate_neuroml2(cell_data_dir + file)\n",
    "'''"
   ]
  },
  {
   "cell_type": "code",
   "execution_count": null,
   "metadata": {},
   "outputs": [
    {
     "name": "stdout",
     "output_type": "stream",
     "text": [
      "['L1: 0.0 x 0.0 um', 'L23: 10.59 x 10.59 um', 'L4: 10.89 x 10.89 um', 'L5: 11.67 x 11.67 um', 'L6: 11.41 x 11.41 um']\n"
     ]
    }
   ],
   "source": [
    "# read in the network and connection properties from jsons: circuit.json, layers.json\n",
    "with open(network_data_dir + 'circuit.json') as f:\n",
    "    circuit_data = json.load(f)  # layer thickness and neuron counts\n",
    "with open(network_data_dir + 'layers.json') as f:\n",
    "    layers_data = json.load(f)  # layer-specific me-type counts\n",
    "with open(network_data_dir + 'pathways_anatomy.json') as f:\n",
    "    pathways_anatomy_data = json.load(f)  # contains the synapse counts/distributions for each m_type->m_type connection\n",
    "with open(network_data_dir + 'pathways_physiology.json') as f:\n",
    "    pathways_physiology_data = json.load(f)  # contains the synapse properties for each m_type->m_type connection\n",
    "\n",
    "# lock x-dimension None if xy cross-section is square, otherwise lock x-dim to the specified length\n",
    "x_dim_length = None  # in microns  \n",
    "\n",
    "# scale down factor for the network (no. of neurons)\n",
    "# number of neurons is scaled down by this factor,\n",
    "# neuron density, layer thickness, and connection probability are held constant\n",
    "scale_down_factor_neuron = 1000\n",
    "for layer in circuit_data['No. of neurons per layer']:\n",
    "    circuit_data['No. of neurons per layer'][layer] = int(circuit_data['No. of neurons per layer'][layer] / scale_down_factor_neuron)\n",
    "\n",
    "# scale down factor for the synapses\n",
    "# we only look at the first 1 / scale_down_factor_synapse synapses and\n",
    "# preserve the connection probability. \n",
    "scale_down_factor_synapse = 1000\n",
    "\n",
    "# include only these layers (if None, include all layers)\n",
    "filter_include_only_layers = ['L23', 'L4']\n",
    "\n",
    "# add to the circuit_data the location of the top edge of each layer\n",
    "# order is L1, L23, L4, L5, L6\n",
    "layer_thicknesses = circuit_data['Layer thicknesses']\n",
    "layer_thicknesses['L23'] = layer_thicknesses['L2'] + layer_thicknesses['L3']\n",
    "circuit_data['Neuron densities']['L23'] = (circuit_data['Neuron densities']['L2'] + circuit_data['Neuron densities']['L3']) / 2\n",
    "circuit_data['Layer top edges'] = {'L1': 0}\n",
    "layers = ['L1', 'L23', 'L4', 'L5', 'L6']\n",
    "for i_l in range(1, len(layers)):\n",
    "    prev_thickness = circuit_data['Layer top edges'][layers[i_l-1]] + layer_thicknesses[layers[i_l-1]]\n",
    "    circuit_data['Layer top edges'][layers[i_l]] = prev_thickness\n",
    "\n",
    "# add to each the layer-specific xy-area: (cell count / neuron density * 1000^3 )/ layer thickness\n",
    "circuit_data['Layer areas'] = {}\n",
    "circuit_data['x-length'] = {} # in microns\n",
    "circuit_data['y-length'] = {} # in microns\n",
    "for layer in layers:\n",
    "    circuit_data['Layer areas'][layer] = (circuit_data['No. of neurons per layer'][layer] / circuit_data['Neuron densities'][layer] * 1000**3) / layer_thicknesses[layer]\n",
    "    if x_dim_length is None:\n",
    "        circuit_data['x-length'][layer] = np.sqrt(circuit_data['Layer areas'][layer])\n",
    "        circuit_data['y-length'][layer] = circuit_data['x-length'][layer]\n",
    "    else:\n",
    "        circuit_data['x-length'][layer] = x_dim_length\n",
    "        circuit_data['y-length'][layer] = circuit_data['Layer areas'][layer] / x_dim_length\n",
    "    \n",
    "print([layer + \": \" + str(circuit_data['x-length'][layer])[:5] + \" x \"  + \n",
    "       str(circuit_data['y-length'][layer])[:5] + \n",
    "       ' um' for layer in layers])"
   ]
  },
  {
   "cell_type": "code",
   "execution_count": 4,
   "metadata": {},
   "outputs": [
    {
     "name": "stderr",
     "output_type": "stream",
     "text": [
      "pyNeuroML >>> pyneuroml.pynml - INFO - Loading NeuroML2 file: ../NMC_model/NMC.NeuronML2/bNAC219_L6_MC_df869132b9_0_0.cell.nml\n",
      "pyNeuroML >>> 2025-02-03 14:56:00,633 - pyneuroml.pynml - INFO - Loading NeuroML2 file: ../NMC_model/NMC.NeuronML2/bNAC219_L6_MC_df869132b9_0_0.cell.nml\n"
     ]
    },
    {
     "name": "stdout",
     "output_type": "stream",
     "text": [
      "Creating 4 cells of type bNAC219_L6_MC_df869132b9_0_0.cell.nml\n"
     ]
    },
    {
     "name": "stderr",
     "output_type": "stream",
     "text": [
      "pyNeuroML >>> pyneuroml.pynml - INFO - Loading NeuroML2 file: ../NMC_model/NMC.NeuronML2/bNAC219_L6_MC_62cf39b45d_0_0.cell.nml\n",
      "pyNeuroML >>> 2025-02-03 14:56:00,938 - pyneuroml.pynml - INFO - Loading NeuroML2 file: ../NMC_model/NMC.NeuronML2/bNAC219_L6_MC_62cf39b45d_0_0.cell.nml\n"
     ]
    },
    {
     "name": "stdout",
     "output_type": "stream",
     "text": [
      "Creating 7 cells of type bNAC219_L6_MC_62cf39b45d_0_0.cell.nml\n"
     ]
    },
    {
     "name": "stderr",
     "output_type": "stream",
     "text": [
      "pyNeuroML >>> pyneuroml.pynml - INFO - Loading NeuroML2 file: ../NMC_model/NMC.NeuronML2/cNAC187_L6_MC_df869132b9_0_0.cell.nml\n",
      "pyNeuroML >>> 2025-02-03 14:56:01,334 - pyneuroml.pynml - INFO - Loading NeuroML2 file: ../NMC_model/NMC.NeuronML2/cNAC187_L6_MC_df869132b9_0_0.cell.nml\n"
     ]
    },
    {
     "name": "stdout",
     "output_type": "stream",
     "text": [
      "Creating 8 cells of type cNAC187_L6_MC_df869132b9_0_0.cell.nml\n"
     ]
    },
    {
     "name": "stderr",
     "output_type": "stream",
     "text": [
      "pyNeuroML >>> pyneuroml.pynml - INFO - Loading NeuroML2 file: ../NMC_model/NMC.NeuronML2/bIR215_L6_MC_8f46a0ad62_0_0.cell.nml\n",
      "pyNeuroML >>> 2025-02-03 14:56:01,648 - pyneuroml.pynml - INFO - Loading NeuroML2 file: ../NMC_model/NMC.NeuronML2/bIR215_L6_MC_8f46a0ad62_0_0.cell.nml\n"
     ]
    },
    {
     "name": "stdout",
     "output_type": "stream",
     "text": [
      "Creating 11 cells of type bIR215_L6_MC_8f46a0ad62_0_0.cell.nml\n"
     ]
    },
    {
     "name": "stderr",
     "output_type": "stream",
     "text": [
      "pyNeuroML >>> pyneuroml.pynml - INFO - Loading NeuroML2 file: ../NMC_model/NMC.NeuronML2/bNAC219_L6_MC_6c575906a7_0_0.cell.nml\n",
      "pyNeuroML >>> 2025-02-03 14:56:01,921 - pyneuroml.pynml - INFO - Loading NeuroML2 file: ../NMC_model/NMC.NeuronML2/bNAC219_L6_MC_6c575906a7_0_0.cell.nml\n"
     ]
    },
    {
     "name": "stdout",
     "output_type": "stream",
     "text": [
      "Creating 9 cells of type bNAC219_L6_MC_6c575906a7_0_0.cell.nml\n"
     ]
    },
    {
     "name": "stderr",
     "output_type": "stream",
     "text": [
      "pyNeuroML >>> pyneuroml.pynml - INFO - Loading NeuroML2 file: ../NMC_model/NMC.NeuronML2/cACint209_L6_MC_792eb41cce_0_0.cell.nml\n",
      "pyNeuroML >>> 2025-02-03 14:56:02,403 - pyneuroml.pynml - INFO - Loading NeuroML2 file: ../NMC_model/NMC.NeuronML2/cACint209_L6_MC_792eb41cce_0_0.cell.nml\n"
     ]
    },
    {
     "name": "stdout",
     "output_type": "stream",
     "text": [
      "Creating 19 cells of type cACint209_L6_MC_792eb41cce_0_0.cell.nml\n"
     ]
    },
    {
     "name": "stderr",
     "output_type": "stream",
     "text": [
      "pyNeuroML >>> pyneuroml.pynml - INFO - Loading NeuroML2 file: ../NMC_model/NMC.NeuronML2/cNAC187_L6_MC_8f46a0ad62_0_0.cell.nml\n",
      "pyNeuroML >>> 2025-02-03 14:56:02,660 - pyneuroml.pynml - INFO - Loading NeuroML2 file: ../NMC_model/NMC.NeuronML2/cNAC187_L6_MC_8f46a0ad62_0_0.cell.nml\n"
     ]
    },
    {
     "name": "stdout",
     "output_type": "stream",
     "text": [
      "Creating 20 cells of type cNAC187_L6_MC_8f46a0ad62_0_0.cell.nml\n"
     ]
    },
    {
     "name": "stderr",
     "output_type": "stream",
     "text": [
      "pyNeuroML >>> pyneuroml.pynml - INFO - Loading NeuroML2 file: ../NMC_model/NMC.NeuronML2/cACint209_L6_MC_df869132b9_0_0.cell.nml\n",
      "pyNeuroML >>> 2025-02-03 14:56:02,981 - pyneuroml.pynml - INFO - Loading NeuroML2 file: ../NMC_model/NMC.NeuronML2/cACint209_L6_MC_df869132b9_0_0.cell.nml\n"
     ]
    },
    {
     "name": "stdout",
     "output_type": "stream",
     "text": [
      "Creating 21 cells of type cACint209_L6_MC_df869132b9_0_0.cell.nml\n"
     ]
    },
    {
     "name": "stderr",
     "output_type": "stream",
     "text": [
      "pyNeuroML >>> pyneuroml.pynml - INFO - Loading NeuroML2 file: ../NMC_model/NMC.NeuronML2/cACint209_L6_MC_5597e4d536_0_0.cell.nml\n",
      "pyNeuroML >>> 2025-02-03 14:56:03,244 - pyneuroml.pynml - INFO - Loading NeuroML2 file: ../NMC_model/NMC.NeuronML2/cACint209_L6_MC_5597e4d536_0_0.cell.nml\n",
      "pyNeuroML >>> pyneuroml.pynml - INFO - Loading NeuroML2 file: ../NMC_model/NMC.NeuronML2/bSTUT213_L6_MC_5597e4d536_0_0.cell.nml\n",
      "pyNeuroML >>> 2025-02-03 14:56:03,396 - pyneuroml.pynml - INFO - Loading NeuroML2 file: ../NMC_model/NMC.NeuronML2/bSTUT213_L6_MC_5597e4d536_0_0.cell.nml\n"
     ]
    },
    {
     "name": "stdout",
     "output_type": "stream",
     "text": [
      "Creating 24 cells of type cACint209_L6_MC_5597e4d536_0_0.cell.nml\n",
      "Creating 13 cells of type bSTUT213_L6_MC_5597e4d536_0_0.cell.nml\n"
     ]
    },
    {
     "name": "stderr",
     "output_type": "stream",
     "text": [
      "pyNeuroML >>> pyneuroml.pynml - INFO - Loading NeuroML2 file: ../NMC_model/NMC.NeuronML2/bIR215_L6_MC_6ed36072e7_0_0.cell.nml\n",
      "pyNeuroML >>> 2025-02-03 14:56:03,547 - pyneuroml.pynml - INFO - Loading NeuroML2 file: ../NMC_model/NMC.NeuronML2/bIR215_L6_MC_6ed36072e7_0_0.cell.nml\n"
     ]
    },
    {
     "name": "stdout",
     "output_type": "stream",
     "text": [
      "Creating 14 cells of type bIR215_L6_MC_6ed36072e7_0_0.cell.nml\n"
     ]
    },
    {
     "name": "stderr",
     "output_type": "stream",
     "text": [
      "pyNeuroML >>> pyneuroml.pynml - INFO - Loading NeuroML2 file: ../NMC_model/NMC.NeuronML2/bIR215_L6_MC_d379cda689_0_0.cell.nml\n",
      "pyNeuroML >>> 2025-02-03 14:56:03,994 - pyneuroml.pynml - INFO - Loading NeuroML2 file: ../NMC_model/NMC.NeuronML2/bIR215_L6_MC_d379cda689_0_0.cell.nml\n",
      "pyNeuroML >>> pyneuroml.pynml - INFO - Loading NeuroML2 file: ../NMC_model/NMC.NeuronML2/bIR215_L6_MC_6c575906a7_0_0.cell.nml\n",
      "pyNeuroML >>> 2025-02-03 14:56:04,163 - pyneuroml.pynml - INFO - Loading NeuroML2 file: ../NMC_model/NMC.NeuronML2/bIR215_L6_MC_6c575906a7_0_0.cell.nml\n"
     ]
    },
    {
     "name": "stdout",
     "output_type": "stream",
     "text": [
      "Creating 13 cells of type bIR215_L6_MC_d379cda689_0_0.cell.nml\n",
      "Creating 20 cells of type bIR215_L6_MC_6c575906a7_0_0.cell.nml\n"
     ]
    },
    {
     "name": "stderr",
     "output_type": "stream",
     "text": [
      "pyNeuroML >>> pyneuroml.pynml - INFO - Loading NeuroML2 file: ../NMC_model/NMC.NeuronML2/bNAC219_L6_MC_5597e4d536_0_0.cell.nml\n",
      "pyNeuroML >>> 2025-02-03 14:56:04,623 - pyneuroml.pynml - INFO - Loading NeuroML2 file: ../NMC_model/NMC.NeuronML2/bNAC219_L6_MC_5597e4d536_0_0.cell.nml\n",
      "pyNeuroML >>> pyneuroml.pynml - INFO - Loading NeuroML2 file: ../NMC_model/NMC.NeuronML2/bSTUT213_L6_MC_d379cda689_0_0.cell.nml\n",
      "pyNeuroML >>> 2025-02-03 14:56:04,763 - pyneuroml.pynml - INFO - Loading NeuroML2 file: ../NMC_model/NMC.NeuronML2/bSTUT213_L6_MC_d379cda689_0_0.cell.nml\n"
     ]
    },
    {
     "name": "stdout",
     "output_type": "stream",
     "text": [
      "Creating 6 cells of type bNAC219_L6_MC_5597e4d536_0_0.cell.nml\n",
      "Creating 9 cells of type bSTUT213_L6_MC_d379cda689_0_0.cell.nml\n"
     ]
    },
    {
     "name": "stderr",
     "output_type": "stream",
     "text": [
      "pyNeuroML >>> pyneuroml.pynml - INFO - Loading NeuroML2 file: ../NMC_model/NMC.NeuronML2/bSTUT213_L6_MC_df869132b9_0_0.cell.nml\n",
      "pyNeuroML >>> 2025-02-03 14:56:04,935 - pyneuroml.pynml - INFO - Loading NeuroML2 file: ../NMC_model/NMC.NeuronML2/bSTUT213_L6_MC_df869132b9_0_0.cell.nml\n"
     ]
    },
    {
     "name": "stdout",
     "output_type": "stream",
     "text": [
      "Creating 5 cells of type bSTUT213_L6_MC_df869132b9_0_0.cell.nml\n"
     ]
    },
    {
     "name": "stderr",
     "output_type": "stream",
     "text": [
      "pyNeuroML >>> pyneuroml.pynml - INFO - Loading NeuroML2 file: ../NMC_model/NMC.NeuronML2/cNAC187_L6_MC_6c575906a7_0_0.cell.nml\n",
      "pyNeuroML >>> 2025-02-03 14:56:05,250 - pyneuroml.pynml - INFO - Loading NeuroML2 file: ../NMC_model/NMC.NeuronML2/cNAC187_L6_MC_6c575906a7_0_0.cell.nml\n"
     ]
    },
    {
     "name": "stdout",
     "output_type": "stream",
     "text": [
      "Creating 9 cells of type cNAC187_L6_MC_6c575906a7_0_0.cell.nml\n"
     ]
    },
    {
     "name": "stderr",
     "output_type": "stream",
     "text": [
      "pyNeuroML >>> pyneuroml.pynml - INFO - Loading NeuroML2 file: ../NMC_model/NMC.NeuronML2/bIR215_L6_MC_62cf39b45d_0_0.cell.nml\n",
      "pyNeuroML >>> 2025-02-03 14:56:05,756 - pyneuroml.pynml - INFO - Loading NeuroML2 file: ../NMC_model/NMC.NeuronML2/bIR215_L6_MC_62cf39b45d_0_0.cell.nml\n"
     ]
    },
    {
     "name": "stdout",
     "output_type": "stream",
     "text": [
      "Creating 14 cells of type bIR215_L6_MC_62cf39b45d_0_0.cell.nml\n"
     ]
    },
    {
     "name": "stderr",
     "output_type": "stream",
     "text": [
      "pyNeuroML >>> pyneuroml.pynml - INFO - Loading NeuroML2 file: ../NMC_model/NMC.NeuronML2/cACint209_L6_MC_62cf39b45d_0_0.cell.nml\n",
      "pyNeuroML >>> 2025-02-03 14:56:06,108 - pyneuroml.pynml - INFO - Loading NeuroML2 file: ../NMC_model/NMC.NeuronML2/cACint209_L6_MC_62cf39b45d_0_0.cell.nml\n"
     ]
    },
    {
     "name": "stdout",
     "output_type": "stream",
     "text": [
      "Creating 17 cells of type cACint209_L6_MC_62cf39b45d_0_0.cell.nml\n"
     ]
    },
    {
     "name": "stderr",
     "output_type": "stream",
     "text": [
      "pyNeuroML >>> pyneuroml.pynml - INFO - Loading NeuroML2 file: ../NMC_model/NMC.NeuronML2/bAC217_L6_MC_792eb41cce_0_0.cell.nml\n",
      "pyNeuroML >>> 2025-02-03 14:56:06,544 - pyneuroml.pynml - INFO - Loading NeuroML2 file: ../NMC_model/NMC.NeuronML2/bAC217_L6_MC_792eb41cce_0_0.cell.nml\n"
     ]
    },
    {
     "name": "stdout",
     "output_type": "stream",
     "text": [
      "Creating 3 cells of type bAC217_L6_MC_792eb41cce_0_0.cell.nml\n"
     ]
    },
    {
     "name": "stderr",
     "output_type": "stream",
     "text": [
      "pyNeuroML >>> pyneuroml.pynml - INFO - Loading NeuroML2 file: ../NMC_model/NMC.NeuronML2/bAC217_L6_MC_6c575906a7_0_0.cell.nml\n",
      "pyNeuroML >>> 2025-02-03 14:56:06,817 - pyneuroml.pynml - INFO - Loading NeuroML2 file: ../NMC_model/NMC.NeuronML2/bAC217_L6_MC_6c575906a7_0_0.cell.nml\n"
     ]
    },
    {
     "name": "stdout",
     "output_type": "stream",
     "text": [
      "Creating 7 cells of type bAC217_L6_MC_6c575906a7_0_0.cell.nml\n"
     ]
    },
    {
     "name": "stderr",
     "output_type": "stream",
     "text": [
      "pyNeuroML >>> pyneuroml.pynml - INFO - Loading NeuroML2 file: ../NMC_model/NMC.NeuronML2/cNAC187_L6_MC_5597e4d536_0_0.cell.nml\n",
      "pyNeuroML >>> 2025-02-03 14:56:07,367 - pyneuroml.pynml - INFO - Loading NeuroML2 file: ../NMC_model/NMC.NeuronML2/cNAC187_L6_MC_5597e4d536_0_0.cell.nml\n",
      "pyNeuroML >>> pyneuroml.pynml - INFO - Loading NeuroML2 file: ../NMC_model/NMC.NeuronML2/bAC217_L6_MC_d379cda689_0_0.cell.nml\n",
      "pyNeuroML >>> 2025-02-03 14:56:07,519 - pyneuroml.pynml - INFO - Loading NeuroML2 file: ../NMC_model/NMC.NeuronML2/bAC217_L6_MC_d379cda689_0_0.cell.nml\n"
     ]
    },
    {
     "name": "stdout",
     "output_type": "stream",
     "text": [
      "Creating 8 cells of type cNAC187_L6_MC_5597e4d536_0_0.cell.nml\n",
      "Creating 6 cells of type bAC217_L6_MC_d379cda689_0_0.cell.nml\n"
     ]
    },
    {
     "name": "stderr",
     "output_type": "stream",
     "text": [
      "pyNeuroML >>> pyneuroml.pynml - INFO - Loading NeuroML2 file: ../NMC_model/NMC.NeuronML2/cNAC187_L6_MC_d379cda689_0_0.cell.nml\n",
      "pyNeuroML >>> 2025-02-03 14:56:07,690 - pyneuroml.pynml - INFO - Loading NeuroML2 file: ../NMC_model/NMC.NeuronML2/cNAC187_L6_MC_d379cda689_0_0.cell.nml\n"
     ]
    },
    {
     "name": "stdout",
     "output_type": "stream",
     "text": [
      "Creating 10 cells of type cNAC187_L6_MC_d379cda689_0_0.cell.nml\n"
     ]
    },
    {
     "name": "stderr",
     "output_type": "stream",
     "text": [
      "pyNeuroML >>> pyneuroml.pynml - INFO - Loading NeuroML2 file: ../NMC_model/NMC.NeuronML2/cIR216_L6_MC_8f96a2b924_0_0.cell.nml\n",
      "pyNeuroML >>> 2025-02-03 14:56:07,954 - pyneuroml.pynml - INFO - Loading NeuroML2 file: ../NMC_model/NMC.NeuronML2/cIR216_L6_MC_8f96a2b924_0_0.cell.nml\n"
     ]
    },
    {
     "name": "stdout",
     "output_type": "stream",
     "text": [
      "Creating 2 cells of type cIR216_L6_MC_8f96a2b924_0_0.cell.nml\n"
     ]
    },
    {
     "name": "stderr",
     "output_type": "stream",
     "text": [
      "pyNeuroML >>> pyneuroml.pynml - INFO - Loading NeuroML2 file: ../NMC_model/NMC.NeuronML2/cIR216_L6_MC_e8d04feaa6_0_0.cell.nml\n",
      "pyNeuroML >>> 2025-02-03 14:56:08,263 - pyneuroml.pynml - INFO - Loading NeuroML2 file: ../NMC_model/NMC.NeuronML2/cIR216_L6_MC_e8d04feaa6_0_0.cell.nml\n"
     ]
    },
    {
     "name": "stdout",
     "output_type": "stream",
     "text": [
      "Creating 4 cells of type cIR216_L6_MC_e8d04feaa6_0_0.cell.nml\n"
     ]
    },
    {
     "name": "stderr",
     "output_type": "stream",
     "text": [
      "pyNeuroML >>> pyneuroml.pynml - INFO - Loading NeuroML2 file: ../NMC_model/NMC.NeuronML2/bAC217_L6_MC_df869132b9_0_0.cell.nml\n",
      "pyNeuroML >>> 2025-02-03 14:56:08,692 - pyneuroml.pynml - INFO - Loading NeuroML2 file: ../NMC_model/NMC.NeuronML2/bAC217_L6_MC_df869132b9_0_0.cell.nml\n"
     ]
    },
    {
     "name": "stdout",
     "output_type": "stream",
     "text": [
      "Creating 2 cells of type bAC217_L6_MC_df869132b9_0_0.cell.nml\n"
     ]
    },
    {
     "name": "stderr",
     "output_type": "stream",
     "text": [
      "pyNeuroML >>> pyneuroml.pynml - INFO - Loading NeuroML2 file: ../NMC_model/NMC.NeuronML2/bAC217_L6_MC_38015c3bc0_0_0.cell.nml\n",
      "pyNeuroML >>> 2025-02-03 14:56:08,958 - pyneuroml.pynml - INFO - Loading NeuroML2 file: ../NMC_model/NMC.NeuronML2/bAC217_L6_MC_38015c3bc0_0_0.cell.nml\n"
     ]
    },
    {
     "name": "stdout",
     "output_type": "stream",
     "text": [
      "Creating 12 cells of type bAC217_L6_MC_38015c3bc0_0_0.cell.nml\n"
     ]
    },
    {
     "name": "stderr",
     "output_type": "stream",
     "text": [
      "pyNeuroML >>> pyneuroml.pynml - INFO - Loading NeuroML2 file: ../NMC_model/NMC.NeuronML2/bSTUT213_L6_MC_8f46a0ad62_0_0.cell.nml\n",
      "pyNeuroML >>> 2025-02-03 14:56:09,426 - pyneuroml.pynml - INFO - Loading NeuroML2 file: ../NMC_model/NMC.NeuronML2/bSTUT213_L6_MC_8f46a0ad62_0_0.cell.nml\n"
     ]
    },
    {
     "name": "stdout",
     "output_type": "stream",
     "text": [
      "Creating 7 cells of type bSTUT213_L6_MC_8f46a0ad62_0_0.cell.nml\n"
     ]
    },
    {
     "name": "stderr",
     "output_type": "stream",
     "text": [
      "pyNeuroML >>> pyneuroml.pynml - INFO - Loading NeuroML2 file: ../NMC_model/NMC.NeuronML2/cIR216_L6_MC_dc1f55aab0_0_0.cell.nml\n",
      "pyNeuroML >>> 2025-02-03 14:56:09,683 - pyneuroml.pynml - INFO - Loading NeuroML2 file: ../NMC_model/NMC.NeuronML2/cIR216_L6_MC_dc1f55aab0_0_0.cell.nml\n",
      "pyNeuroML >>> pyneuroml.pynml - INFO - Loading NeuroML2 file: ../NMC_model/NMC.NeuronML2/cIR216_L6_MC_87e499e11e_0_0.cell.nml\n",
      "pyNeuroML >>> 2025-02-03 14:56:09,792 - pyneuroml.pynml - INFO - Loading NeuroML2 file: ../NMC_model/NMC.NeuronML2/cIR216_L6_MC_87e499e11e_0_0.cell.nml\n"
     ]
    },
    {
     "name": "stdout",
     "output_type": "stream",
     "text": [
      "Creating 3 cells of type cIR216_L6_MC_dc1f55aab0_0_0.cell.nml\n",
      "Creating 5 cells of type cIR216_L6_MC_87e499e11e_0_0.cell.nml\n"
     ]
    },
    {
     "name": "stderr",
     "output_type": "stream",
     "text": [
      "pyNeuroML >>> pyneuroml.pynml - INFO - Loading NeuroML2 file: ../NMC_model/NMC.NeuronML2/bNAC219_L6_MC_d379cda689_0_0.cell.nml\n",
      "pyNeuroML >>> 2025-02-03 14:56:10,554 - pyneuroml.pynml - INFO - Loading NeuroML2 file: ../NMC_model/NMC.NeuronML2/bNAC219_L6_MC_d379cda689_0_0.cell.nml\n"
     ]
    },
    {
     "name": "stdout",
     "output_type": "stream",
     "text": [
      "Creating 7 cells of type bNAC219_L6_MC_d379cda689_0_0.cell.nml\n"
     ]
    },
    {
     "name": "stderr",
     "output_type": "stream",
     "text": [
      "pyNeuroML >>> pyneuroml.pynml - INFO - Loading NeuroML2 file: ../NMC_model/NMC.NeuronML2/cIR216_L6_MC_a405be0ec4_0_0.cell.nml\n",
      "pyNeuroML >>> 2025-02-03 14:56:10,784 - pyneuroml.pynml - INFO - Loading NeuroML2 file: ../NMC_model/NMC.NeuronML2/cIR216_L6_MC_a405be0ec4_0_0.cell.nml\n"
     ]
    },
    {
     "name": "stdout",
     "output_type": "stream",
     "text": [
      "Creating 4 cells of type cIR216_L6_MC_a405be0ec4_0_0.cell.nml\n"
     ]
    },
    {
     "name": "stderr",
     "output_type": "stream",
     "text": [
      "pyNeuroML >>> pyneuroml.pynml - INFO - Loading NeuroML2 file: ../NMC_model/NMC.NeuronML2/cACint209_L6_MC_0686f3517c_0_0.cell.nml\n",
      "pyNeuroML >>> 2025-02-03 14:56:11,089 - pyneuroml.pynml - INFO - Loading NeuroML2 file: ../NMC_model/NMC.NeuronML2/cACint209_L6_MC_0686f3517c_0_0.cell.nml\n"
     ]
    },
    {
     "name": "stdout",
     "output_type": "stream",
     "text": [
      "Creating 9 cells of type cACint209_L6_MC_0686f3517c_0_0.cell.nml\n"
     ]
    },
    {
     "name": "stderr",
     "output_type": "stream",
     "text": [
      "pyNeuroML >>> pyneuroml.pynml - INFO - Loading NeuroML2 file: ../NMC_model/NMC.NeuronML2/bSTUT213_L6_MC_e8d04feaa6_0_0.cell.nml\n",
      "pyNeuroML >>> 2025-02-03 14:56:11,486 - pyneuroml.pynml - INFO - Loading NeuroML2 file: ../NMC_model/NMC.NeuronML2/bSTUT213_L6_MC_e8d04feaa6_0_0.cell.nml\n"
     ]
    },
    {
     "name": "stdout",
     "output_type": "stream",
     "text": [
      "Creating 4 cells of type bSTUT213_L6_MC_e8d04feaa6_0_0.cell.nml\n"
     ]
    },
    {
     "name": "stderr",
     "output_type": "stream",
     "text": [
      "pyNeuroML >>> pyneuroml.pynml - INFO - Loading NeuroML2 file: ../NMC_model/NMC.NeuronML2/cACint209_L6_ChC_8eec342856_0_0.cell.nml\n",
      "pyNeuroML >>> 2025-02-03 14:56:11,827 - pyneuroml.pynml - INFO - Loading NeuroML2 file: ../NMC_model/NMC.NeuronML2/cACint209_L6_ChC_8eec342856_0_0.cell.nml\n"
     ]
    },
    {
     "name": "stdout",
     "output_type": "stream",
     "text": [
      "Creating 4 cells of type cACint209_L6_ChC_8eec342856_0_0.cell.nml\n"
     ]
    },
    {
     "name": "stderr",
     "output_type": "stream",
     "text": [
      "pyNeuroML >>> pyneuroml.pynml - INFO - Loading NeuroML2 file: ../NMC_model/NMC.NeuronML2/cNAC187_L6_ChC_9b41babcdb_0_0.cell.nml\n",
      "pyNeuroML >>> 2025-02-03 14:56:12,114 - pyneuroml.pynml - INFO - Loading NeuroML2 file: ../NMC_model/NMC.NeuronML2/cNAC187_L6_ChC_9b41babcdb_0_0.cell.nml\n"
     ]
    },
    {
     "name": "stdout",
     "output_type": "stream",
     "text": [
      "Creating 1 cells of type cNAC187_L6_ChC_9b41babcdb_0_0.cell.nml\n"
     ]
    },
    {
     "name": "stderr",
     "output_type": "stream",
     "text": [
      "pyNeuroML >>> pyneuroml.pynml - INFO - Loading NeuroML2 file: ../NMC_model/NMC.NeuronML2/cACint209_L6_ChC_14a89428ba_0_0.cell.nml\n",
      "pyNeuroML >>> 2025-02-03 14:56:12,382 - pyneuroml.pynml - INFO - Loading NeuroML2 file: ../NMC_model/NMC.NeuronML2/cACint209_L6_ChC_14a89428ba_0_0.cell.nml\n"
     ]
    },
    {
     "name": "stdout",
     "output_type": "stream",
     "text": [
      "Creating 3 cells of type cACint209_L6_ChC_14a89428ba_0_0.cell.nml\n"
     ]
    },
    {
     "name": "stderr",
     "output_type": "stream",
     "text": [
      "pyNeuroML >>> pyneuroml.pynml - INFO - Loading NeuroML2 file: ../NMC_model/NMC.NeuronML2/cNAC187_L6_ChC_d1b33e54c2_0_0.cell.nml\n",
      "pyNeuroML >>> 2025-02-03 14:56:12,589 - pyneuroml.pynml - INFO - Loading NeuroML2 file: ../NMC_model/NMC.NeuronML2/cNAC187_L6_ChC_d1b33e54c2_0_0.cell.nml\n"
     ]
    },
    {
     "name": "stdout",
     "output_type": "stream",
     "text": [
      "Creating 2 cells of type cNAC187_L6_ChC_d1b33e54c2_0_0.cell.nml\n"
     ]
    },
    {
     "name": "stderr",
     "output_type": "stream",
     "text": [
      "pyNeuroML >>> pyneuroml.pynml - INFO - Loading NeuroML2 file: ../NMC_model/NMC.NeuronML2/cACint209_L6_ChC_9060a4c27e_0_0.cell.nml\n",
      "pyNeuroML >>> 2025-02-03 14:56:12,921 - pyneuroml.pynml - INFO - Loading NeuroML2 file: ../NMC_model/NMC.NeuronML2/cACint209_L6_ChC_9060a4c27e_0_0.cell.nml\n"
     ]
    },
    {
     "name": "stdout",
     "output_type": "stream",
     "text": [
      "Creating 3 cells of type cACint209_L6_ChC_9060a4c27e_0_0.cell.nml\n"
     ]
    },
    {
     "name": "stderr",
     "output_type": "stream",
     "text": [
      "pyNeuroML >>> pyneuroml.pynml - INFO - Loading NeuroML2 file: ../NMC_model/NMC.NeuronML2/cACint209_L6_ChC_9cc7bcef1d_0_0.cell.nml\n",
      "pyNeuroML >>> 2025-02-03 14:56:13,181 - pyneuroml.pynml - INFO - Loading NeuroML2 file: ../NMC_model/NMC.NeuronML2/cACint209_L6_ChC_9cc7bcef1d_0_0.cell.nml\n",
      "pyNeuroML >>> pyneuroml.pynml - INFO - Loading NeuroML2 file: ../NMC_model/NMC.NeuronML2/cACint209_L6_ChC_6a369a07f4_0_0.cell.nml\n",
      "pyNeuroML >>> 2025-02-03 14:56:13,317 - pyneuroml.pynml - INFO - Loading NeuroML2 file: ../NMC_model/NMC.NeuronML2/cACint209_L6_ChC_6a369a07f4_0_0.cell.nml\n"
     ]
    },
    {
     "name": "stdout",
     "output_type": "stream",
     "text": [
      "Creating 1 cells of type cACint209_L6_ChC_9cc7bcef1d_0_0.cell.nml\n",
      "Creating 2 cells of type cACint209_L6_ChC_6a369a07f4_0_0.cell.nml\n"
     ]
    },
    {
     "name": "stderr",
     "output_type": "stream",
     "text": [
      "pyNeuroML >>> pyneuroml.pynml - INFO - Loading NeuroML2 file: ../NMC_model/NMC.NeuronML2/cACint209_L6_SBC_02fff5e56a_0_0.cell.nml\n",
      "pyNeuroML >>> 2025-02-03 14:56:13,609 - pyneuroml.pynml - INFO - Loading NeuroML2 file: ../NMC_model/NMC.NeuronML2/cACint209_L6_SBC_02fff5e56a_0_0.cell.nml\n",
      "pyNeuroML >>> pyneuroml.pynml - INFO - Loading NeuroML2 file: ../NMC_model/NMC.NeuronML2/cACint209_L6_SBC_1994e395b2_0_0.cell.nml\n",
      "pyNeuroML >>> 2025-02-03 14:56:13,788 - pyneuroml.pynml - INFO - Loading NeuroML2 file: ../NMC_model/NMC.NeuronML2/cACint209_L6_SBC_1994e395b2_0_0.cell.nml\n"
     ]
    },
    {
     "name": "stdout",
     "output_type": "stream",
     "text": [
      "Creating 11 cells of type cACint209_L6_SBC_02fff5e56a_0_0.cell.nml\n",
      "Creating 10 cells of type cACint209_L6_SBC_1994e395b2_0_0.cell.nml\n"
     ]
    },
    {
     "name": "stderr",
     "output_type": "stream",
     "text": [
      "pyNeuroML >>> pyneuroml.pynml - INFO - Loading NeuroML2 file: ../NMC_model/NMC.NeuronML2/bNAC219_L6_SBC_d20c9b88b4_0_0.cell.nml\n",
      "pyNeuroML >>> 2025-02-03 14:56:14,067 - pyneuroml.pynml - INFO - Loading NeuroML2 file: ../NMC_model/NMC.NeuronML2/bNAC219_L6_SBC_d20c9b88b4_0_0.cell.nml\n"
     ]
    },
    {
     "name": "stdout",
     "output_type": "stream",
     "text": [
      "Creating 1 cells of type bNAC219_L6_SBC_d20c9b88b4_0_0.cell.nml\n"
     ]
    },
    {
     "name": "stderr",
     "output_type": "stream",
     "text": [
      "pyNeuroML >>> pyneuroml.pynml - INFO - Loading NeuroML2 file: ../NMC_model/NMC.NeuronML2/cACint209_L6_SBC_6c406e9f09_0_0.cell.nml\n",
      "pyNeuroML >>> 2025-02-03 14:56:14,424 - pyneuroml.pynml - INFO - Loading NeuroML2 file: ../NMC_model/NMC.NeuronML2/cACint209_L6_SBC_6c406e9f09_0_0.cell.nml\n",
      "pyNeuroML >>> pyneuroml.pynml - INFO - Loading NeuroML2 file: ../NMC_model/NMC.NeuronML2/cACint209_L6_SBC_48827298f3_0_0.cell.nml\n",
      "pyNeuroML >>> 2025-02-03 14:56:14,529 - pyneuroml.pynml - INFO - Loading NeuroML2 file: ../NMC_model/NMC.NeuronML2/cACint209_L6_SBC_48827298f3_0_0.cell.nml\n"
     ]
    },
    {
     "name": "stdout",
     "output_type": "stream",
     "text": [
      "Creating 8 cells of type cACint209_L6_SBC_6c406e9f09_0_0.cell.nml\n",
      "Creating 8 cells of type cACint209_L6_SBC_48827298f3_0_0.cell.nml\n"
     ]
    },
    {
     "name": "stderr",
     "output_type": "stream",
     "text": [
      "pyNeuroML >>> pyneuroml.pynml - INFO - Loading NeuroML2 file: ../NMC_model/NMC.NeuronML2/dNAC222_L6_SBC_846dc20ea0_0_0.cell.nml\n",
      "pyNeuroML >>> 2025-02-03 14:56:14,638 - pyneuroml.pynml - INFO - Loading NeuroML2 file: ../NMC_model/NMC.NeuronML2/dNAC222_L6_SBC_846dc20ea0_0_0.cell.nml\n",
      "pyNeuroML >>> pyneuroml.pynml - INFO - Loading NeuroML2 file: ../NMC_model/NMC.NeuronML2/cACint209_L6_SBC_63156a236c_0_0.cell.nml\n",
      "pyNeuroML >>> 2025-02-03 14:56:14,763 - pyneuroml.pynml - INFO - Loading NeuroML2 file: ../NMC_model/NMC.NeuronML2/cACint209_L6_SBC_63156a236c_0_0.cell.nml\n"
     ]
    },
    {
     "name": "stdout",
     "output_type": "stream",
     "text": [
      "Creating 5 cells of type dNAC222_L6_SBC_846dc20ea0_0_0.cell.nml\n",
      "Creating 11 cells of type cACint209_L6_SBC_63156a236c_0_0.cell.nml\n"
     ]
    },
    {
     "name": "stderr",
     "output_type": "stream",
     "text": [
      "pyNeuroML >>> pyneuroml.pynml - INFO - Loading NeuroML2 file: ../NMC_model/NMC.NeuronML2/bNAC219_L6_SBC_6dbc1eb2b9_0_0.cell.nml\n",
      "pyNeuroML >>> 2025-02-03 14:56:15,038 - pyneuroml.pynml - INFO - Loading NeuroML2 file: ../NMC_model/NMC.NeuronML2/bNAC219_L6_SBC_6dbc1eb2b9_0_0.cell.nml\n",
      "pyNeuroML >>> pyneuroml.pynml - INFO - Loading NeuroML2 file: ../NMC_model/NMC.NeuronML2/bNAC219_L6_SBC_28362da21f_0_0.cell.nml\n"
     ]
    },
    {
     "name": "stdout",
     "output_type": "stream",
     "text": [
      "Creating 3 cells of type bNAC219_L6_SBC_6dbc1eb2b9_0_0.cell.nml\n",
      "Creating 1 cells of type bNAC219_L6_SBC_28362da21f_0_0.cell.nml\n"
     ]
    },
    {
     "name": "stderr",
     "output_type": "stream",
     "text": [
      "pyNeuroML >>> 2025-02-03 14:56:15,212 - pyneuroml.pynml - INFO - Loading NeuroML2 file: ../NMC_model/NMC.NeuronML2/bNAC219_L6_SBC_28362da21f_0_0.cell.nml\n",
      "pyNeuroML >>> pyneuroml.pynml - INFO - Loading NeuroML2 file: ../NMC_model/NMC.NeuronML2/bNAC219_L6_SBC_6c1acec83a_0_0.cell.nml\n",
      "pyNeuroML >>> 2025-02-03 14:56:15,347 - pyneuroml.pynml - INFO - Loading NeuroML2 file: ../NMC_model/NMC.NeuronML2/bNAC219_L6_SBC_6c1acec83a_0_0.cell.nml\n",
      "pyNeuroML >>> pyneuroml.pynml - INFO - Loading NeuroML2 file: ../NMC_model/NMC.NeuronML2/dNAC222_L6_SBC_fb9380858b_0_0.cell.nml\n",
      "pyNeuroML >>> 2025-02-03 14:56:15,451 - pyneuroml.pynml - INFO - Loading NeuroML2 file: ../NMC_model/NMC.NeuronML2/dNAC222_L6_SBC_fb9380858b_0_0.cell.nml\n",
      "pyNeuroML >>> pyneuroml.pynml - INFO - Loading NeuroML2 file: ../NMC_model/NMC.NeuronML2/bNAC219_L6_SBC_fb9380858b_0_0.cell.nml\n"
     ]
    },
    {
     "name": "stdout",
     "output_type": "stream",
     "text": [
      "Creating 3 cells of type bNAC219_L6_SBC_6c1acec83a_0_0.cell.nml\n",
      "Creating 2 cells of type dNAC222_L6_SBC_fb9380858b_0_0.cell.nml\n",
      "Creating 2 cells of type bNAC219_L6_SBC_fb9380858b_0_0.cell.nml\n"
     ]
    },
    {
     "name": "stderr",
     "output_type": "stream",
     "text": [
      "pyNeuroML >>> 2025-02-03 14:56:15,546 - pyneuroml.pynml - INFO - Loading NeuroML2 file: ../NMC_model/NMC.NeuronML2/bNAC219_L6_SBC_fb9380858b_0_0.cell.nml\n",
      "pyNeuroML >>> pyneuroml.pynml - INFO - Loading NeuroML2 file: ../NMC_model/NMC.NeuronML2/dNAC222_L6_SBC_194972ee43_0_0.cell.nml\n",
      "pyNeuroML >>> 2025-02-03 14:56:15,643 - pyneuroml.pynml - INFO - Loading NeuroML2 file: ../NMC_model/NMC.NeuronML2/dNAC222_L6_SBC_194972ee43_0_0.cell.nml\n"
     ]
    },
    {
     "name": "stdout",
     "output_type": "stream",
     "text": [
      "Creating 1 cells of type dNAC222_L6_SBC_194972ee43_0_0.cell.nml\n"
     ]
    },
    {
     "name": "stderr",
     "output_type": "stream",
     "text": [
      "pyNeuroML >>> pyneuroml.pynml - INFO - Loading NeuroML2 file: ../NMC_model/NMC.NeuronML2/dNAC222_L6_SBC_1404bc18ce_0_0.cell.nml\n",
      "pyNeuroML >>> 2025-02-03 14:56:15,983 - pyneuroml.pynml - INFO - Loading NeuroML2 file: ../NMC_model/NMC.NeuronML2/dNAC222_L6_SBC_1404bc18ce_0_0.cell.nml\n"
     ]
    },
    {
     "name": "stdout",
     "output_type": "stream",
     "text": [
      "Creating 1 cells of type dNAC222_L6_SBC_1404bc18ce_0_0.cell.nml\n"
     ]
    },
    {
     "name": "stderr",
     "output_type": "stream",
     "text": [
      "pyNeuroML >>> pyneuroml.pynml - INFO - Loading NeuroML2 file: ../NMC_model/NMC.NeuronML2/cNAC187_L6_NGC_f566e0b2a9_0_0.cell.nml\n",
      "pyNeuroML >>> 2025-02-03 14:56:16,249 - pyneuroml.pynml - INFO - Loading NeuroML2 file: ../NMC_model/NMC.NeuronML2/cNAC187_L6_NGC_f566e0b2a9_0_0.cell.nml\n",
      "pyNeuroML >>> pyneuroml.pynml - INFO - Loading NeuroML2 file: ../NMC_model/NMC.NeuronML2/cNAC187_L6_NGC_4eb0813b69_0_0.cell.nml\n",
      "pyNeuroML >>> 2025-02-03 14:56:16,418 - pyneuroml.pynml - INFO - Loading NeuroML2 file: ../NMC_model/NMC.NeuronML2/cNAC187_L6_NGC_4eb0813b69_0_0.cell.nml\n"
     ]
    },
    {
     "name": "stdout",
     "output_type": "stream",
     "text": [
      "Creating 1 cells of type cNAC187_L6_NGC_f566e0b2a9_0_0.cell.nml\n",
      "Creating 2 cells of type cNAC187_L6_NGC_4eb0813b69_0_0.cell.nml\n"
     ]
    },
    {
     "name": "stderr",
     "output_type": "stream",
     "text": [
      "pyNeuroML >>> pyneuroml.pynml - INFO - Loading NeuroML2 file: ../NMC_model/NMC.NeuronML2/cSTUT189_L6_NGC_a138b95b10_0_0.cell.nml\n",
      "pyNeuroML >>> 2025-02-03 14:56:16,654 - pyneuroml.pynml - INFO - Loading NeuroML2 file: ../NMC_model/NMC.NeuronML2/cSTUT189_L6_NGC_a138b95b10_0_0.cell.nml\n",
      "pyNeuroML >>> pyneuroml.pynml - INFO - Loading NeuroML2 file: ../NMC_model/NMC.NeuronML2/cSTUT189_L6_NGC_d2971f01cf_0_0.cell.nml\n",
      "pyNeuroML >>> 2025-02-03 14:56:16,815 - pyneuroml.pynml - INFO - Loading NeuroML2 file: ../NMC_model/NMC.NeuronML2/cSTUT189_L6_NGC_d2971f01cf_0_0.cell.nml\n"
     ]
    },
    {
     "name": "stdout",
     "output_type": "stream",
     "text": [
      "Creating 1 cells of type cSTUT189_L6_NGC_a138b95b10_0_0.cell.nml\n",
      "Creating 1 cells of type cSTUT189_L6_NGC_d2971f01cf_0_0.cell.nml\n"
     ]
    },
    {
     "name": "stderr",
     "output_type": "stream",
     "text": [
      "pyNeuroML >>> pyneuroml.pynml - INFO - Loading NeuroML2 file: ../NMC_model/NMC.NeuronML2/cSTUT189_L6_NGC_4cb459d73b_0_0.cell.nml\n",
      "pyNeuroML >>> 2025-02-03 14:56:16,973 - pyneuroml.pynml - INFO - Loading NeuroML2 file: ../NMC_model/NMC.NeuronML2/cSTUT189_L6_NGC_4cb459d73b_0_0.cell.nml\n"
     ]
    },
    {
     "name": "stdout",
     "output_type": "stream",
     "text": [
      "Creating 1 cells of type cSTUT189_L6_NGC_4cb459d73b_0_0.cell.nml\n"
     ]
    },
    {
     "name": "stderr",
     "output_type": "stream",
     "text": [
      "pyNeuroML >>> pyneuroml.pynml - INFO - Loading NeuroML2 file: ../NMC_model/NMC.NeuronML2/bNAC219_L6_NGC_982f5b1a82_0_0.cell.nml\n",
      "pyNeuroML >>> 2025-02-03 14:56:17,156 - pyneuroml.pynml - INFO - Loading NeuroML2 file: ../NMC_model/NMC.NeuronML2/bNAC219_L6_NGC_982f5b1a82_0_0.cell.nml\n"
     ]
    },
    {
     "name": "stdout",
     "output_type": "stream",
     "text": [
      "Creating 1 cells of type bNAC219_L6_NGC_982f5b1a82_0_0.cell.nml\n"
     ]
    },
    {
     "name": "stderr",
     "output_type": "stream",
     "text": [
      "pyNeuroML >>> pyneuroml.pynml - INFO - Loading NeuroML2 file: ../NMC_model/NMC.NeuronML2/cACint209_L6_NGC_913febfa36_0_0.cell.nml\n",
      "pyNeuroML >>> 2025-02-03 14:56:17,388 - pyneuroml.pynml - INFO - Loading NeuroML2 file: ../NMC_model/NMC.NeuronML2/cACint209_L6_NGC_913febfa36_0_0.cell.nml\n",
      "pyNeuroML >>> pyneuroml.pynml - INFO - Loading NeuroML2 file: ../NMC_model/NMC.NeuronML2/cACint209_L6_NGC_a5e20f50a4_0_0.cell.nml\n",
      "pyNeuroML >>> 2025-02-03 14:56:17,545 - pyneuroml.pynml - INFO - Loading NeuroML2 file: ../NMC_model/NMC.NeuronML2/cACint209_L6_NGC_a5e20f50a4_0_0.cell.nml\n"
     ]
    },
    {
     "name": "stdout",
     "output_type": "stream",
     "text": [
      "Creating 1 cells of type cACint209_L6_NGC_913febfa36_0_0.cell.nml\n",
      "Creating 3 cells of type cACint209_L6_NGC_a5e20f50a4_0_0.cell.nml\n"
     ]
    },
    {
     "name": "stderr",
     "output_type": "stream",
     "text": [
      "pyNeuroML >>> pyneuroml.pynml - INFO - Loading NeuroML2 file: ../NMC_model/NMC.NeuronML2/cNAC187_L6_NGC_b77f2e2b21_0_0.cell.nml\n",
      "pyNeuroML >>> 2025-02-03 14:56:17,709 - pyneuroml.pynml - INFO - Loading NeuroML2 file: ../NMC_model/NMC.NeuronML2/cNAC187_L6_NGC_b77f2e2b21_0_0.cell.nml\n",
      "pyNeuroML >>> pyneuroml.pynml - INFO - Loading NeuroML2 file: ../NMC_model/NMC.NeuronML2/bNAC219_L6_NGC_91137e1b70_0_0.cell.nml\n",
      "pyNeuroML >>> 2025-02-03 14:56:17,866 - pyneuroml.pynml - INFO - Loading NeuroML2 file: ../NMC_model/NMC.NeuronML2/bNAC219_L6_NGC_91137e1b70_0_0.cell.nml\n"
     ]
    },
    {
     "name": "stdout",
     "output_type": "stream",
     "text": [
      "Creating 1 cells of type cNAC187_L6_NGC_b77f2e2b21_0_0.cell.nml\n",
      "Creating 1 cells of type bNAC219_L6_NGC_91137e1b70_0_0.cell.nml\n"
     ]
    },
    {
     "name": "stderr",
     "output_type": "stream",
     "text": [
      "pyNeuroML >>> pyneuroml.pynml - INFO - Loading NeuroML2 file: ../NMC_model/NMC.NeuronML2/cACint209_L6_NGC_48dc33e388_0_0.cell.nml\n",
      "pyNeuroML >>> 2025-02-03 14:56:18,098 - pyneuroml.pynml - INFO - Loading NeuroML2 file: ../NMC_model/NMC.NeuronML2/cACint209_L6_NGC_48dc33e388_0_0.cell.nml\n",
      "pyNeuroML >>> pyneuroml.pynml - INFO - Loading NeuroML2 file: ../NMC_model/NMC.NeuronML2/cNAC187_L6_NGC_43bfe487c7_0_0.cell.nml\n"
     ]
    },
    {
     "name": "stdout",
     "output_type": "stream",
     "text": [
      "Creating 1 cells of type cACint209_L6_NGC_48dc33e388_0_0.cell.nml\n",
      "Creating 1 cells of type cNAC187_L6_NGC_43bfe487c7_0_0.cell.nml\n"
     ]
    },
    {
     "name": "stderr",
     "output_type": "stream",
     "text": [
      "pyNeuroML >>> 2025-02-03 14:56:18,290 - pyneuroml.pynml - INFO - Loading NeuroML2 file: ../NMC_model/NMC.NeuronML2/cNAC187_L6_NGC_43bfe487c7_0_0.cell.nml\n",
      "pyNeuroML >>> pyneuroml.pynml - INFO - Loading NeuroML2 file: ../NMC_model/NMC.NeuronML2/cACint209_L6_NGC_2ab508e906_0_0.cell.nml\n",
      "pyNeuroML >>> 2025-02-03 14:56:18,458 - pyneuroml.pynml - INFO - Loading NeuroML2 file: ../NMC_model/NMC.NeuronML2/cACint209_L6_NGC_2ab508e906_0_0.cell.nml\n",
      "pyNeuroML >>> pyneuroml.pynml - INFO - Loading NeuroML2 file: ../NMC_model/NMC.NeuronML2/cSTUT189_L6_NGC_ed011e4f05_0_0.cell.nml\n",
      "pyNeuroML >>> 2025-02-03 14:56:18,618 - pyneuroml.pynml - INFO - Loading NeuroML2 file: ../NMC_model/NMC.NeuronML2/cSTUT189_L6_NGC_ed011e4f05_0_0.cell.nml\n"
     ]
    },
    {
     "name": "stdout",
     "output_type": "stream",
     "text": [
      "Creating 1 cells of type cACint209_L6_NGC_2ab508e906_0_0.cell.nml\n",
      "Creating 1 cells of type cSTUT189_L6_NGC_ed011e4f05_0_0.cell.nml\n"
     ]
    },
    {
     "name": "stderr",
     "output_type": "stream",
     "text": [
      "pyNeuroML >>> pyneuroml.pynml - INFO - Loading NeuroML2 file: ../NMC_model/NMC.NeuronML2/cNAC187_L6_LBC_f9ea5d0925_0_0.cell.nml\n",
      "pyNeuroML >>> 2025-02-03 14:56:18,866 - pyneuroml.pynml - INFO - Loading NeuroML2 file: ../NMC_model/NMC.NeuronML2/cNAC187_L6_LBC_f9ea5d0925_0_0.cell.nml\n"
     ]
    },
    {
     "name": "stdout",
     "output_type": "stream",
     "text": [
      "Creating 23 cells of type cNAC187_L6_LBC_f9ea5d0925_0_0.cell.nml\n"
     ]
    },
    {
     "name": "stderr",
     "output_type": "stream",
     "text": [
      "pyNeuroML >>> pyneuroml.pynml - INFO - Loading NeuroML2 file: ../NMC_model/NMC.NeuronML2/bSTUT213_L6_LBC_b4f69c277d_0_0.cell.nml\n",
      "pyNeuroML >>> 2025-02-03 14:56:19,134 - pyneuroml.pynml - INFO - Loading NeuroML2 file: ../NMC_model/NMC.NeuronML2/bSTUT213_L6_LBC_b4f69c277d_0_0.cell.nml\n",
      "pyNeuroML >>> pyneuroml.pynml - INFO - Loading NeuroML2 file: ../NMC_model/NMC.NeuronML2/bAC217_L6_LBC_a08d7d7c5e_0_0.cell.nml\n"
     ]
    },
    {
     "name": "stdout",
     "output_type": "stream",
     "text": [
      "Creating 18 cells of type bSTUT213_L6_LBC_b4f69c277d_0_0.cell.nml\n",
      "Creating 8 cells of type bAC217_L6_LBC_a08d7d7c5e_0_0.cell.nml\n"
     ]
    },
    {
     "name": "stderr",
     "output_type": "stream",
     "text": [
      "pyNeuroML >>> 2025-02-03 14:56:19,330 - pyneuroml.pynml - INFO - Loading NeuroML2 file: ../NMC_model/NMC.NeuronML2/bAC217_L6_LBC_a08d7d7c5e_0_0.cell.nml\n",
      "pyNeuroML >>> pyneuroml.pynml - INFO - Loading NeuroML2 file: ../NMC_model/NMC.NeuronML2/cNAC187_L6_LBC_9ab2498c23_0_0.cell.nml\n",
      "pyNeuroML >>> 2025-02-03 14:56:19,515 - pyneuroml.pynml - INFO - Loading NeuroML2 file: ../NMC_model/NMC.NeuronML2/cNAC187_L6_LBC_9ab2498c23_0_0.cell.nml\n",
      "pyNeuroML >>> pyneuroml.pynml - INFO - Loading NeuroML2 file: ../NMC_model/NMC.NeuronML2/bIR215_L6_LBC_f0665c9d1a_0_0.cell.nml\n",
      "pyNeuroML >>> 2025-02-03 14:56:19,635 - pyneuroml.pynml - INFO - Loading NeuroML2 file: ../NMC_model/NMC.NeuronML2/bIR215_L6_LBC_f0665c9d1a_0_0.cell.nml\n"
     ]
    },
    {
     "name": "stdout",
     "output_type": "stream",
     "text": [
      "Creating 19 cells of type cNAC187_L6_LBC_9ab2498c23_0_0.cell.nml\n",
      "Creating 27 cells of type bIR215_L6_LBC_f0665c9d1a_0_0.cell.nml\n"
     ]
    },
    {
     "name": "stderr",
     "output_type": "stream",
     "text": [
      "pyNeuroML >>> pyneuroml.pynml - INFO - Loading NeuroML2 file: ../NMC_model/NMC.NeuronML2/cNAC187_L6_LBC_ae0d738c6e_0_0.cell.nml\n",
      "pyNeuroML >>> 2025-02-03 14:56:19,733 - pyneuroml.pynml - INFO - Loading NeuroML2 file: ../NMC_model/NMC.NeuronML2/cNAC187_L6_LBC_ae0d738c6e_0_0.cell.nml\n"
     ]
    },
    {
     "name": "stdout",
     "output_type": "stream",
     "text": [
      "Creating 22 cells of type cNAC187_L6_LBC_ae0d738c6e_0_0.cell.nml\n"
     ]
    },
    {
     "name": "stderr",
     "output_type": "stream",
     "text": [
      "pyNeuroML >>> pyneuroml.pynml - INFO - Loading NeuroML2 file: ../NMC_model/NMC.NeuronML2/bAC217_L6_LBC_e2449b7b3c_0_0.cell.nml\n",
      "pyNeuroML >>> 2025-02-03 14:56:20,264 - pyneuroml.pynml - INFO - Loading NeuroML2 file: ../NMC_model/NMC.NeuronML2/bAC217_L6_LBC_e2449b7b3c_0_0.cell.nml\n"
     ]
    },
    {
     "name": "stdout",
     "output_type": "stream",
     "text": [
      "Creating 15 cells of type bAC217_L6_LBC_e2449b7b3c_0_0.cell.nml\n"
     ]
    },
    {
     "name": "stderr",
     "output_type": "stream",
     "text": [
      "pyNeuroML >>> pyneuroml.pynml - INFO - Loading NeuroML2 file: ../NMC_model/NMC.NeuronML2/bIR215_L6_LBC_b4586f425b_0_0.cell.nml\n",
      "pyNeuroML >>> 2025-02-03 14:56:20,548 - pyneuroml.pynml - INFO - Loading NeuroML2 file: ../NMC_model/NMC.NeuronML2/bIR215_L6_LBC_b4586f425b_0_0.cell.nml\n",
      "pyNeuroML >>> pyneuroml.pynml - INFO - Loading NeuroML2 file: ../NMC_model/NMC.NeuronML2/bIR215_L6_LBC_05f55c6541_0_0.cell.nml\n",
      "pyNeuroML >>> 2025-02-03 14:56:20,664 - pyneuroml.pynml - INFO - Loading NeuroML2 file: ../NMC_model/NMC.NeuronML2/bIR215_L6_LBC_05f55c6541_0_0.cell.nml\n"
     ]
    },
    {
     "name": "stdout",
     "output_type": "stream",
     "text": [
      "Creating 26 cells of type bIR215_L6_LBC_b4586f425b_0_0.cell.nml\n",
      "Creating 25 cells of type bIR215_L6_LBC_05f55c6541_0_0.cell.nml\n"
     ]
    },
    {
     "name": "stderr",
     "output_type": "stream",
     "text": [
      "pyNeuroML >>> pyneuroml.pynml - INFO - Loading NeuroML2 file: ../NMC_model/NMC.NeuronML2/bSTUT213_L6_LBC_9961376dfe_0_0.cell.nml\n",
      "pyNeuroML >>> 2025-02-03 14:56:21,117 - pyneuroml.pynml - INFO - Loading NeuroML2 file: ../NMC_model/NMC.NeuronML2/bSTUT213_L6_LBC_9961376dfe_0_0.cell.nml\n"
     ]
    },
    {
     "name": "stdout",
     "output_type": "stream",
     "text": [
      "Creating 10 cells of type bSTUT213_L6_LBC_9961376dfe_0_0.cell.nml\n"
     ]
    },
    {
     "name": "stderr",
     "output_type": "stream",
     "text": [
      "pyNeuroML >>> pyneuroml.pynml - INFO - Loading NeuroML2 file: ../NMC_model/NMC.NeuronML2/bNAC219_L6_LBC_0491f28d21_0_0.cell.nml\n",
      "pyNeuroML >>> 2025-02-03 14:56:21,364 - pyneuroml.pynml - INFO - Loading NeuroML2 file: ../NMC_model/NMC.NeuronML2/bNAC219_L6_LBC_0491f28d21_0_0.cell.nml\n",
      "pyNeuroML >>> pyneuroml.pynml - INFO - Loading NeuroML2 file: ../NMC_model/NMC.NeuronML2/bNAC219_L6_LBC_9f176c343a_0_0.cell.nml\n",
      "pyNeuroML >>> 2025-02-03 14:56:21,487 - pyneuroml.pynml - INFO - Loading NeuroML2 file: ../NMC_model/NMC.NeuronML2/bNAC219_L6_LBC_9f176c343a_0_0.cell.nml\n"
     ]
    },
    {
     "name": "stdout",
     "output_type": "stream",
     "text": [
      "Creating 9 cells of type bNAC219_L6_LBC_0491f28d21_0_0.cell.nml\n",
      "Creating 13 cells of type bNAC219_L6_LBC_9f176c343a_0_0.cell.nml\n"
     ]
    },
    {
     "name": "stderr",
     "output_type": "stream",
     "text": [
      "pyNeuroML >>> pyneuroml.pynml - INFO - Loading NeuroML2 file: ../NMC_model/NMC.NeuronML2/cNAC187_L6_LBC_7fd94465af_0_0.cell.nml\n",
      "pyNeuroML >>> 2025-02-03 14:56:21,735 - pyneuroml.pynml - INFO - Loading NeuroML2 file: ../NMC_model/NMC.NeuronML2/cNAC187_L6_LBC_7fd94465af_0_0.cell.nml\n",
      "pyNeuroML >>> pyneuroml.pynml - INFO - Loading NeuroML2 file: ../NMC_model/NMC.NeuronML2/cNAC187_L6_LBC_41f715f2d0_0_0.cell.nml\n",
      "pyNeuroML >>> 2025-02-03 14:56:21,891 - pyneuroml.pynml - INFO - Loading NeuroML2 file: ../NMC_model/NMC.NeuronML2/cNAC187_L6_LBC_41f715f2d0_0_0.cell.nml\n"
     ]
    },
    {
     "name": "stdout",
     "output_type": "stream",
     "text": [
      "Creating 24 cells of type cNAC187_L6_LBC_7fd94465af_0_0.cell.nml\n",
      "Creating 17 cells of type cNAC187_L6_LBC_41f715f2d0_0_0.cell.nml\n"
     ]
    },
    {
     "name": "stderr",
     "output_type": "stream",
     "text": [
      "pyNeuroML >>> pyneuroml.pynml - INFO - Loading NeuroML2 file: ../NMC_model/NMC.NeuronML2/bIR215_L6_LBC_ef1920e6b8_0_0.cell.nml\n",
      "pyNeuroML >>> 2025-02-03 14:56:22,067 - pyneuroml.pynml - INFO - Loading NeuroML2 file: ../NMC_model/NMC.NeuronML2/bIR215_L6_LBC_ef1920e6b8_0_0.cell.nml\n"
     ]
    },
    {
     "name": "stdout",
     "output_type": "stream",
     "text": [
      "Creating 28 cells of type bIR215_L6_LBC_ef1920e6b8_0_0.cell.nml\n"
     ]
    },
    {
     "name": "stderr",
     "output_type": "stream",
     "text": [
      "pyNeuroML >>> pyneuroml.pynml - INFO - Loading NeuroML2 file: ../NMC_model/NMC.NeuronML2/bNAC219_L6_LBC_dbef3c6e51_0_0.cell.nml\n",
      "pyNeuroML >>> 2025-02-03 14:56:22,318 - pyneuroml.pynml - INFO - Loading NeuroML2 file: ../NMC_model/NMC.NeuronML2/bNAC219_L6_LBC_dbef3c6e51_0_0.cell.nml\n"
     ]
    },
    {
     "name": "stdout",
     "output_type": "stream",
     "text": [
      "Creating 15 cells of type bNAC219_L6_LBC_dbef3c6e51_0_0.cell.nml\n"
     ]
    },
    {
     "name": "stderr",
     "output_type": "stream",
     "text": [
      "pyNeuroML >>> pyneuroml.pynml - INFO - Loading NeuroML2 file: ../NMC_model/NMC.NeuronML2/cSTUT189_L6_LBC_1f1d59d3f5_0_0.cell.nml\n",
      "pyNeuroML >>> 2025-02-03 14:56:22,667 - pyneuroml.pynml - INFO - Loading NeuroML2 file: ../NMC_model/NMC.NeuronML2/cSTUT189_L6_LBC_1f1d59d3f5_0_0.cell.nml\n"
     ]
    },
    {
     "name": "stdout",
     "output_type": "stream",
     "text": [
      "Creating 7 cells of type cSTUT189_L6_LBC_1f1d59d3f5_0_0.cell.nml\n"
     ]
    },
    {
     "name": "stderr",
     "output_type": "stream",
     "text": [
      "pyNeuroML >>> pyneuroml.pynml - INFO - Loading NeuroML2 file: ../NMC_model/NMC.NeuronML2/bAC217_L6_LBC_5d73327936_0_0.cell.nml\n",
      "pyNeuroML >>> 2025-02-03 14:56:22,883 - pyneuroml.pynml - INFO - Loading NeuroML2 file: ../NMC_model/NMC.NeuronML2/bAC217_L6_LBC_5d73327936_0_0.cell.nml\n",
      "pyNeuroML >>> pyneuroml.pynml - INFO - Loading NeuroML2 file: ../NMC_model/NMC.NeuronML2/bNAC219_L6_LBC_c5d7d5e5ee_0_0.cell.nml\n",
      "pyNeuroML >>> 2025-02-03 14:56:22,975 - pyneuroml.pynml - INFO - Loading NeuroML2 file: ../NMC_model/NMC.NeuronML2/bNAC219_L6_LBC_c5d7d5e5ee_0_0.cell.nml\n"
     ]
    },
    {
     "name": "stdout",
     "output_type": "stream",
     "text": [
      "Creating 16 cells of type bAC217_L6_LBC_5d73327936_0_0.cell.nml\n",
      "Creating 16 cells of type bNAC219_L6_LBC_c5d7d5e5ee_0_0.cell.nml\n"
     ]
    },
    {
     "name": "stderr",
     "output_type": "stream",
     "text": [
      "pyNeuroML >>> pyneuroml.pynml - INFO - Loading NeuroML2 file: ../NMC_model/NMC.NeuronML2/bSTUT213_L6_LBC_40c756925d_0_0.cell.nml\n",
      "pyNeuroML >>> 2025-02-03 14:56:23,261 - pyneuroml.pynml - INFO - Loading NeuroML2 file: ../NMC_model/NMC.NeuronML2/bSTUT213_L6_LBC_40c756925d_0_0.cell.nml\n",
      "pyNeuroML >>> pyneuroml.pynml - INFO - Loading NeuroML2 file: ../NMC_model/NMC.NeuronML2/bAC217_L6_LBC_2571ecba02_0_0.cell.nml\n",
      "pyNeuroML >>> 2025-02-03 14:56:23,386 - pyneuroml.pynml - INFO - Loading NeuroML2 file: ../NMC_model/NMC.NeuronML2/bAC217_L6_LBC_2571ecba02_0_0.cell.nml\n"
     ]
    },
    {
     "name": "stdout",
     "output_type": "stream",
     "text": [
      "Creating 15 cells of type bSTUT213_L6_LBC_40c756925d_0_0.cell.nml\n",
      "Creating 9 cells of type bAC217_L6_LBC_2571ecba02_0_0.cell.nml\n"
     ]
    },
    {
     "name": "stderr",
     "output_type": "stream",
     "text": [
      "pyNeuroML >>> pyneuroml.pynml - INFO - Loading NeuroML2 file: ../NMC_model/NMC.NeuronML2/bIR215_L6_LBC_d854e4228e_0_0.cell.nml\n",
      "pyNeuroML >>> 2025-02-03 14:56:23,762 - pyneuroml.pynml - INFO - Loading NeuroML2 file: ../NMC_model/NMC.NeuronML2/bIR215_L6_LBC_d854e4228e_0_0.cell.nml\n",
      "pyNeuroML >>> pyneuroml.pynml - INFO - Loading NeuroML2 file: ../NMC_model/NMC.NeuronML2/cSTUT189_L6_LBC_530a402f3f_0_0.cell.nml\n",
      "pyNeuroML >>> 2025-02-03 14:56:23,833 - pyneuroml.pynml - INFO - Loading NeuroML2 file: ../NMC_model/NMC.NeuronML2/cSTUT189_L6_LBC_530a402f3f_0_0.cell.nml\n"
     ]
    },
    {
     "name": "stdout",
     "output_type": "stream",
     "text": [
      "Creating 24 cells of type bIR215_L6_LBC_d854e4228e_0_0.cell.nml\n",
      "Creating 4 cells of type cSTUT189_L6_LBC_530a402f3f_0_0.cell.nml\n"
     ]
    },
    {
     "name": "stderr",
     "output_type": "stream",
     "text": [
      "pyNeuroML >>> pyneuroml.pynml - INFO - Loading NeuroML2 file: ../NMC_model/NMC.NeuronML2/cSTUT189_L6_LBC_6e6465f06a_0_0.cell.nml\n",
      "pyNeuroML >>> 2025-02-03 14:56:24,097 - pyneuroml.pynml - INFO - Loading NeuroML2 file: ../NMC_model/NMC.NeuronML2/cSTUT189_L6_LBC_6e6465f06a_0_0.cell.nml\n",
      "pyNeuroML >>> pyneuroml.pynml - INFO - Loading NeuroML2 file: ../NMC_model/NMC.NeuronML2/bAC217_L6_LBC_e85c51cdb8_0_0.cell.nml\n"
     ]
    },
    {
     "name": "stdout",
     "output_type": "stream",
     "text": [
      "Creating 9 cells of type cSTUT189_L6_LBC_6e6465f06a_0_0.cell.nml\n",
      "Creating 15 cells of type bAC217_L6_LBC_e85c51cdb8_0_0.cell.nml\n"
     ]
    },
    {
     "name": "stderr",
     "output_type": "stream",
     "text": [
      "pyNeuroML >>> 2025-02-03 14:56:24,284 - pyneuroml.pynml - INFO - Loading NeuroML2 file: ../NMC_model/NMC.NeuronML2/bAC217_L6_LBC_e85c51cdb8_0_0.cell.nml\n",
      "pyNeuroML >>> pyneuroml.pynml - INFO - Loading NeuroML2 file: ../NMC_model/NMC.NeuronML2/bNAC219_L6_LBC_9918304f5f_0_0.cell.nml\n",
      "pyNeuroML >>> 2025-02-03 14:56:24,820 - pyneuroml.pynml - INFO - Loading NeuroML2 file: ../NMC_model/NMC.NeuronML2/bNAC219_L6_LBC_9918304f5f_0_0.cell.nml\n",
      "pyNeuroML >>> pyneuroml.pynml - INFO - Loading NeuroML2 file: ../NMC_model/NMC.NeuronML2/cSTUT189_L6_LBC_0f06cad592_0_0.cell.nml\n",
      "pyNeuroML >>> 2025-02-03 14:56:24,952 - pyneuroml.pynml - INFO - Loading NeuroML2 file: ../NMC_model/NMC.NeuronML2/cSTUT189_L6_LBC_0f06cad592_0_0.cell.nml\n"
     ]
    },
    {
     "name": "stdout",
     "output_type": "stream",
     "text": [
      "Creating 13 cells of type bNAC219_L6_LBC_9918304f5f_0_0.cell.nml\n",
      "Creating 13 cells of type cSTUT189_L6_LBC_0f06cad592_0_0.cell.nml\n"
     ]
    },
    {
     "name": "stderr",
     "output_type": "stream",
     "text": [
      "pyNeuroML >>> pyneuroml.pynml - INFO - Loading NeuroML2 file: ../NMC_model/NMC.NeuronML2/bSTUT213_L6_LBC_e36a750de6_0_0.cell.nml\n",
      "pyNeuroML >>> 2025-02-03 14:56:25,149 - pyneuroml.pynml - INFO - Loading NeuroML2 file: ../NMC_model/NMC.NeuronML2/bSTUT213_L6_LBC_e36a750de6_0_0.cell.nml\n"
     ]
    },
    {
     "name": "stdout",
     "output_type": "stream",
     "text": [
      "Creating 8 cells of type bSTUT213_L6_LBC_e36a750de6_0_0.cell.nml\n"
     ]
    },
    {
     "name": "stderr",
     "output_type": "stream",
     "text": [
      "pyNeuroML >>> pyneuroml.pynml - INFO - Loading NeuroML2 file: ../NMC_model/NMC.NeuronML2/cSTUT189_L6_LBC_040eb0bc59_0_0.cell.nml\n",
      "pyNeuroML >>> 2025-02-03 14:56:25,517 - pyneuroml.pynml - INFO - Loading NeuroML2 file: ../NMC_model/NMC.NeuronML2/cSTUT189_L6_LBC_040eb0bc59_0_0.cell.nml\n"
     ]
    },
    {
     "name": "stdout",
     "output_type": "stream",
     "text": [
      "Creating 5 cells of type cSTUT189_L6_LBC_040eb0bc59_0_0.cell.nml\n"
     ]
    },
    {
     "name": "stderr",
     "output_type": "stream",
     "text": [
      "pyNeuroML >>> pyneuroml.pynml - INFO - Loading NeuroML2 file: ../NMC_model/NMC.NeuronML2/bSTUT213_L6_LBC_0823165631_0_0.cell.nml\n",
      "pyNeuroML >>> 2025-02-03 14:56:25,806 - pyneuroml.pynml - INFO - Loading NeuroML2 file: ../NMC_model/NMC.NeuronML2/bSTUT213_L6_LBC_0823165631_0_0.cell.nml\n"
     ]
    },
    {
     "name": "stdout",
     "output_type": "stream",
     "text": [
      "Creating 10 cells of type bSTUT213_L6_LBC_0823165631_0_0.cell.nml\n"
     ]
    },
    {
     "name": "stderr",
     "output_type": "stream",
     "text": [
      "pyNeuroML >>> pyneuroml.pynml - INFO - Loading NeuroML2 file: ../NMC_model/NMC.NeuronML2/cNAC187_L6_BTC_459ef88946_0_0.cell.nml\n",
      "pyNeuroML >>> 2025-02-03 14:56:26,038 - pyneuroml.pynml - INFO - Loading NeuroML2 file: ../NMC_model/NMC.NeuronML2/cNAC187_L6_BTC_459ef88946_0_0.cell.nml\n"
     ]
    },
    {
     "name": "stdout",
     "output_type": "stream",
     "text": [
      "Creating 3 cells of type cNAC187_L6_BTC_459ef88946_0_0.cell.nml\n"
     ]
    },
    {
     "name": "stderr",
     "output_type": "stream",
     "text": [
      "pyNeuroML >>> pyneuroml.pynml - INFO - Loading NeuroML2 file: ../NMC_model/NMC.NeuronML2/cNAC187_L6_BTC_844c3bba88_0_0.cell.nml\n",
      "pyNeuroML >>> 2025-02-03 14:56:26,413 - pyneuroml.pynml - INFO - Loading NeuroML2 file: ../NMC_model/NMC.NeuronML2/cNAC187_L6_BTC_844c3bba88_0_0.cell.nml\n"
     ]
    },
    {
     "name": "stdout",
     "output_type": "stream",
     "text": [
      "Creating 5 cells of type cNAC187_L6_BTC_844c3bba88_0_0.cell.nml\n"
     ]
    },
    {
     "name": "stderr",
     "output_type": "stream",
     "text": [
      "pyNeuroML >>> pyneuroml.pynml - INFO - Loading NeuroML2 file: ../NMC_model/NMC.NeuronML2/cACint209_L6_BTC_bc69dce0ae_0_0.cell.nml\n",
      "pyNeuroML >>> 2025-02-03 14:56:26,649 - pyneuroml.pynml - INFO - Loading NeuroML2 file: ../NMC_model/NMC.NeuronML2/cACint209_L6_BTC_bc69dce0ae_0_0.cell.nml\n"
     ]
    },
    {
     "name": "stdout",
     "output_type": "stream",
     "text": [
      "Creating 4 cells of type cACint209_L6_BTC_bc69dce0ae_0_0.cell.nml\n"
     ]
    },
    {
     "name": "stderr",
     "output_type": "stream",
     "text": [
      "pyNeuroML >>> pyneuroml.pynml - INFO - Loading NeuroML2 file: ../NMC_model/NMC.NeuronML2/cACint209_L6_BTC_0aac470ea8_0_0.cell.nml\n",
      "pyNeuroML >>> 2025-02-03 14:56:26,881 - pyneuroml.pynml - INFO - Loading NeuroML2 file: ../NMC_model/NMC.NeuronML2/cACint209_L6_BTC_0aac470ea8_0_0.cell.nml\n"
     ]
    },
    {
     "name": "stdout",
     "output_type": "stream",
     "text": [
      "Creating 5 cells of type cACint209_L6_BTC_0aac470ea8_0_0.cell.nml\n"
     ]
    },
    {
     "name": "stderr",
     "output_type": "stream",
     "text": [
      "pyNeuroML >>> pyneuroml.pynml - INFO - Loading NeuroML2 file: ../NMC_model/NMC.NeuronML2/cNAC187_L6_BTC_6b85c850ab_0_0.cell.nml\n",
      "pyNeuroML >>> 2025-02-03 14:56:27,214 - pyneuroml.pynml - INFO - Loading NeuroML2 file: ../NMC_model/NMC.NeuronML2/cNAC187_L6_BTC_6b85c850ab_0_0.cell.nml\n"
     ]
    },
    {
     "name": "stdout",
     "output_type": "stream",
     "text": [
      "Creating 3 cells of type cNAC187_L6_BTC_6b85c850ab_0_0.cell.nml\n"
     ]
    },
    {
     "name": "stderr",
     "output_type": "stream",
     "text": [
      "pyNeuroML >>> pyneuroml.pynml - INFO - Loading NeuroML2 file: ../NMC_model/NMC.NeuronML2/bAC217_L6_BTC_c021ea90e3_0_0.cell.nml\n",
      "pyNeuroML >>> 2025-02-03 14:56:27,444 - pyneuroml.pynml - INFO - Loading NeuroML2 file: ../NMC_model/NMC.NeuronML2/bAC217_L6_BTC_c021ea90e3_0_0.cell.nml\n"
     ]
    },
    {
     "name": "stdout",
     "output_type": "stream",
     "text": [
      "Creating 3 cells of type bAC217_L6_BTC_c021ea90e3_0_0.cell.nml\n"
     ]
    },
    {
     "name": "stderr",
     "output_type": "stream",
     "text": [
      "pyNeuroML >>> pyneuroml.pynml - INFO - Loading NeuroML2 file: ../NMC_model/NMC.NeuronML2/bAC217_L6_BTC_0aac470ea8_0_0.cell.nml\n",
      "pyNeuroML >>> 2025-02-03 14:56:27,673 - pyneuroml.pynml - INFO - Loading NeuroML2 file: ../NMC_model/NMC.NeuronML2/bAC217_L6_BTC_0aac470ea8_0_0.cell.nml\n"
     ]
    },
    {
     "name": "stdout",
     "output_type": "stream",
     "text": [
      "Creating 6 cells of type bAC217_L6_BTC_0aac470ea8_0_0.cell.nml\n"
     ]
    },
    {
     "name": "stderr",
     "output_type": "stream",
     "text": [
      "pyNeuroML >>> pyneuroml.pynml - INFO - Loading NeuroML2 file: ../NMC_model/NMC.NeuronML2/bAC217_L6_BTC_459ef88946_0_0.cell.nml\n",
      "pyNeuroML >>> 2025-02-03 14:56:27,996 - pyneuroml.pynml - INFO - Loading NeuroML2 file: ../NMC_model/NMC.NeuronML2/bAC217_L6_BTC_459ef88946_0_0.cell.nml\n"
     ]
    },
    {
     "name": "stdout",
     "output_type": "stream",
     "text": [
      "Creating 5 cells of type bAC217_L6_BTC_459ef88946_0_0.cell.nml\n"
     ]
    },
    {
     "name": "stderr",
     "output_type": "stream",
     "text": [
      "pyNeuroML >>> pyneuroml.pynml - INFO - Loading NeuroML2 file: ../NMC_model/NMC.NeuronML2/cNAC187_L6_BTC_bc69dce0ae_0_0.cell.nml\n",
      "pyNeuroML >>> 2025-02-03 14:56:28,221 - pyneuroml.pynml - INFO - Loading NeuroML2 file: ../NMC_model/NMC.NeuronML2/cNAC187_L6_BTC_bc69dce0ae_0_0.cell.nml\n"
     ]
    },
    {
     "name": "stdout",
     "output_type": "stream",
     "text": [
      "Creating 2 cells of type cNAC187_L6_BTC_bc69dce0ae_0_0.cell.nml\n"
     ]
    },
    {
     "name": "stderr",
     "output_type": "stream",
     "text": [
      "pyNeuroML >>> pyneuroml.pynml - INFO - Loading NeuroML2 file: ../NMC_model/NMC.NeuronML2/cACint209_L6_BTC_c021ea90e3_0_0.cell.nml\n",
      "pyNeuroML >>> 2025-02-03 14:56:28,448 - pyneuroml.pynml - INFO - Loading NeuroML2 file: ../NMC_model/NMC.NeuronML2/cACint209_L6_BTC_c021ea90e3_0_0.cell.nml\n"
     ]
    },
    {
     "name": "stdout",
     "output_type": "stream",
     "text": [
      "Creating 7 cells of type cACint209_L6_BTC_c021ea90e3_0_0.cell.nml\n"
     ]
    },
    {
     "name": "stderr",
     "output_type": "stream",
     "text": [
      "pyNeuroML >>> pyneuroml.pynml - INFO - Loading NeuroML2 file: ../NMC_model/NMC.NeuronML2/cACint209_L6_BTC_045fb87685_0_0.cell.nml\n",
      "pyNeuroML >>> 2025-02-03 14:56:28,765 - pyneuroml.pynml - INFO - Loading NeuroML2 file: ../NMC_model/NMC.NeuronML2/cACint209_L6_BTC_045fb87685_0_0.cell.nml\n"
     ]
    },
    {
     "name": "stdout",
     "output_type": "stream",
     "text": [
      "Creating 7 cells of type cACint209_L6_BTC_045fb87685_0_0.cell.nml\n"
     ]
    },
    {
     "name": "stderr",
     "output_type": "stream",
     "text": [
      "pyNeuroML >>> pyneuroml.pynml - INFO - Loading NeuroML2 file: ../NMC_model/NMC.NeuronML2/bAC217_L6_BTC_9e335e53f6_0_0.cell.nml\n",
      "pyNeuroML >>> 2025-02-03 14:56:29,045 - pyneuroml.pynml - INFO - Loading NeuroML2 file: ../NMC_model/NMC.NeuronML2/bAC217_L6_BTC_9e335e53f6_0_0.cell.nml\n"
     ]
    },
    {
     "name": "stdout",
     "output_type": "stream",
     "text": [
      "Creating 2 cells of type bAC217_L6_BTC_9e335e53f6_0_0.cell.nml\n"
     ]
    },
    {
     "name": "stderr",
     "output_type": "stream",
     "text": [
      "pyNeuroML >>> pyneuroml.pynml - INFO - Loading NeuroML2 file: ../NMC_model/NMC.NeuronML2/bAC217_L6_BTC_bc69dce0ae_0_0.cell.nml\n",
      "pyNeuroML >>> 2025-02-03 14:56:29,360 - pyneuroml.pynml - INFO - Loading NeuroML2 file: ../NMC_model/NMC.NeuronML2/bAC217_L6_BTC_bc69dce0ae_0_0.cell.nml\n"
     ]
    },
    {
     "name": "stdout",
     "output_type": "stream",
     "text": [
      "Creating 1 cells of type bAC217_L6_BTC_bc69dce0ae_0_0.cell.nml\n"
     ]
    },
    {
     "name": "stderr",
     "output_type": "stream",
     "text": [
      "pyNeuroML >>> pyneuroml.pynml - INFO - Loading NeuroML2 file: ../NMC_model/NMC.NeuronML2/cACint209_L6_BTC_2d87a29e8a_0_0.cell.nml\n",
      "pyNeuroML >>> 2025-02-03 14:56:29,587 - pyneuroml.pynml - INFO - Loading NeuroML2 file: ../NMC_model/NMC.NeuronML2/cACint209_L6_BTC_2d87a29e8a_0_0.cell.nml\n"
     ]
    },
    {
     "name": "stdout",
     "output_type": "stream",
     "text": [
      "Creating 1 cells of type cACint209_L6_BTC_2d87a29e8a_0_0.cell.nml\n"
     ]
    },
    {
     "name": "stderr",
     "output_type": "stream",
     "text": [
      "pyNeuroML >>> pyneuroml.pynml - INFO - Loading NeuroML2 file: ../NMC_model/NMC.NeuronML2/cNAC187_L6_NBC_c0fd8f67e2_0_0.cell.nml\n",
      "pyNeuroML >>> 2025-02-03 14:56:29,811 - pyneuroml.pynml - INFO - Loading NeuroML2 file: ../NMC_model/NMC.NeuronML2/cNAC187_L6_NBC_c0fd8f67e2_0_0.cell.nml\n"
     ]
    },
    {
     "name": "stdout",
     "output_type": "stream",
     "text": [
      "Creating 8 cells of type cNAC187_L6_NBC_c0fd8f67e2_0_0.cell.nml\n"
     ]
    },
    {
     "name": "stderr",
     "output_type": "stream",
     "text": [
      "pyNeuroML >>> pyneuroml.pynml - INFO - Loading NeuroML2 file: ../NMC_model/NMC.NeuronML2/cNAC187_L6_NBC_777b9bec91_0_0.cell.nml\n",
      "pyNeuroML >>> 2025-02-03 14:56:30,126 - pyneuroml.pynml - INFO - Loading NeuroML2 file: ../NMC_model/NMC.NeuronML2/cNAC187_L6_NBC_777b9bec91_0_0.cell.nml\n"
     ]
    },
    {
     "name": "stdout",
     "output_type": "stream",
     "text": [
      "Creating 14 cells of type cNAC187_L6_NBC_777b9bec91_0_0.cell.nml\n"
     ]
    },
    {
     "name": "stderr",
     "output_type": "stream",
     "text": [
      "pyNeuroML >>> pyneuroml.pynml - INFO - Loading NeuroML2 file: ../NMC_model/NMC.NeuronML2/bSTUT213_L6_NBC_9c726011d7_0_0.cell.nml\n",
      "pyNeuroML >>> 2025-02-03 14:56:30,389 - pyneuroml.pynml - INFO - Loading NeuroML2 file: ../NMC_model/NMC.NeuronML2/bSTUT213_L6_NBC_9c726011d7_0_0.cell.nml\n",
      "pyNeuroML >>> pyneuroml.pynml - INFO - Loading NeuroML2 file: ../NMC_model/NMC.NeuronML2/cNAC187_L6_NBC_81f6eae6fc_0_0.cell.nml\n"
     ]
    },
    {
     "name": "stdout",
     "output_type": "stream",
     "text": [
      "Creating 4 cells of type bSTUT213_L6_NBC_9c726011d7_0_0.cell.nml\n",
      "Creating 12 cells of type cNAC187_L6_NBC_81f6eae6fc_0_0.cell.nml\n"
     ]
    },
    {
     "name": "stderr",
     "output_type": "stream",
     "text": [
      "pyNeuroML >>> 2025-02-03 14:56:30,586 - pyneuroml.pynml - INFO - Loading NeuroML2 file: ../NMC_model/NMC.NeuronML2/cNAC187_L6_NBC_81f6eae6fc_0_0.cell.nml\n",
      "pyNeuroML >>> pyneuroml.pynml - INFO - Loading NeuroML2 file: ../NMC_model/NMC.NeuronML2/cACint209_L6_NBC_495063b057_0_0.cell.nml\n",
      "pyNeuroML >>> 2025-02-03 14:56:30,875 - pyneuroml.pynml - INFO - Loading NeuroML2 file: ../NMC_model/NMC.NeuronML2/cACint209_L6_NBC_495063b057_0_0.cell.nml\n",
      "pyNeuroML >>> pyneuroml.pynml - INFO - Loading NeuroML2 file: ../NMC_model/NMC.NeuronML2/bIR215_L6_NBC_8c6aecf604_0_0.cell.nml\n",
      "pyNeuroML >>> 2025-02-03 14:56:31,051 - pyneuroml.pynml - INFO - Loading NeuroML2 file: ../NMC_model/NMC.NeuronML2/bIR215_L6_NBC_8c6aecf604_0_0.cell.nml\n"
     ]
    },
    {
     "name": "stdout",
     "output_type": "stream",
     "text": [
      "Creating 11 cells of type cACint209_L6_NBC_495063b057_0_0.cell.nml\n",
      "Creating 9 cells of type bIR215_L6_NBC_8c6aecf604_0_0.cell.nml\n"
     ]
    },
    {
     "name": "stderr",
     "output_type": "stream",
     "text": [
      "pyNeuroML >>> pyneuroml.pynml - INFO - Loading NeuroML2 file: ../NMC_model/NMC.NeuronML2/bAC217_L6_NBC_ee7b52323f_0_0.cell.nml\n",
      "pyNeuroML >>> 2025-02-03 14:56:31,356 - pyneuroml.pynml - INFO - Loading NeuroML2 file: ../NMC_model/NMC.NeuronML2/bAC217_L6_NBC_ee7b52323f_0_0.cell.nml\n"
     ]
    },
    {
     "name": "stdout",
     "output_type": "stream",
     "text": [
      "Creating 6 cells of type bAC217_L6_NBC_ee7b52323f_0_0.cell.nml\n"
     ]
    },
    {
     "name": "stderr",
     "output_type": "stream",
     "text": [
      "pyNeuroML >>> pyneuroml.pynml - INFO - Loading NeuroML2 file: ../NMC_model/NMC.NeuronML2/cACint209_L6_NBC_ad3dd575d2_0_0.cell.nml\n",
      "pyNeuroML >>> 2025-02-03 14:56:31,615 - pyneuroml.pynml - INFO - Loading NeuroML2 file: ../NMC_model/NMC.NeuronML2/cACint209_L6_NBC_ad3dd575d2_0_0.cell.nml\n",
      "pyNeuroML >>> pyneuroml.pynml - INFO - Loading NeuroML2 file: ../NMC_model/NMC.NeuronML2/cACint209_L6_NBC_a3972c5d97_0_0.cell.nml\n"
     ]
    },
    {
     "name": "stdout",
     "output_type": "stream",
     "text": [
      "Creating 15 cells of type cACint209_L6_NBC_ad3dd575d2_0_0.cell.nml\n",
      "Creating 13 cells of type cACint209_L6_NBC_a3972c5d97_0_0.cell.nml\n"
     ]
    },
    {
     "name": "stderr",
     "output_type": "stream",
     "text": [
      "pyNeuroML >>> 2025-02-03 14:56:31,791 - pyneuroml.pynml - INFO - Loading NeuroML2 file: ../NMC_model/NMC.NeuronML2/cACint209_L6_NBC_a3972c5d97_0_0.cell.nml\n",
      "pyNeuroML >>> pyneuroml.pynml - INFO - Loading NeuroML2 file: ../NMC_model/NMC.NeuronML2/bSTUT213_L6_NBC_1873e25157_0_0.cell.nml\n",
      "pyNeuroML >>> 2025-02-03 14:56:32,089 - pyneuroml.pynml - INFO - Loading NeuroML2 file: ../NMC_model/NMC.NeuronML2/bSTUT213_L6_NBC_1873e25157_0_0.cell.nml\n",
      "pyNeuroML >>> pyneuroml.pynml - INFO - Loading NeuroML2 file: ../NMC_model/NMC.NeuronML2/bIR215_L6_NBC_ce39e26284_0_0.cell.nml\n",
      "pyNeuroML >>> 2025-02-03 14:56:32,230 - pyneuroml.pynml - INFO - Loading NeuroML2 file: ../NMC_model/NMC.NeuronML2/bIR215_L6_NBC_ce39e26284_0_0.cell.nml\n"
     ]
    },
    {
     "name": "stdout",
     "output_type": "stream",
     "text": [
      "Creating 1 cells of type bSTUT213_L6_NBC_1873e25157_0_0.cell.nml\n",
      "Creating 11 cells of type bIR215_L6_NBC_ce39e26284_0_0.cell.nml\n"
     ]
    },
    {
     "name": "stderr",
     "output_type": "stream",
     "text": [
      "pyNeuroML >>> pyneuroml.pynml - INFO - Loading NeuroML2 file: ../NMC_model/NMC.NeuronML2/bIR215_L6_NBC_5d97f161ff_0_0.cell.nml\n",
      "pyNeuroML >>> 2025-02-03 14:56:32,575 - pyneuroml.pynml - INFO - Loading NeuroML2 file: ../NMC_model/NMC.NeuronML2/bIR215_L6_NBC_5d97f161ff_0_0.cell.nml\n",
      "pyNeuroML >>> pyneuroml.pynml - INFO - Loading NeuroML2 file: ../NMC_model/NMC.NeuronML2/bIR215_L6_NBC_ebdeb060a6_0_0.cell.nml\n"
     ]
    },
    {
     "name": "stdout",
     "output_type": "stream",
     "text": [
      "Creating 9 cells of type bIR215_L6_NBC_5d97f161ff_0_0.cell.nml\n",
      "Creating 8 cells of type bIR215_L6_NBC_ebdeb060a6_0_0.cell.nml\n"
     ]
    },
    {
     "name": "stderr",
     "output_type": "stream",
     "text": [
      "pyNeuroML >>> 2025-02-03 14:56:32,759 - pyneuroml.pynml - INFO - Loading NeuroML2 file: ../NMC_model/NMC.NeuronML2/bIR215_L6_NBC_ebdeb060a6_0_0.cell.nml\n",
      "pyNeuroML >>> pyneuroml.pynml - INFO - Loading NeuroML2 file: ../NMC_model/NMC.NeuronML2/bIR215_L6_NBC_a104961d30_0_0.cell.nml\n",
      "pyNeuroML >>> 2025-02-03 14:56:32,974 - pyneuroml.pynml - INFO - Loading NeuroML2 file: ../NMC_model/NMC.NeuronML2/bIR215_L6_NBC_a104961d30_0_0.cell.nml\n",
      "pyNeuroML >>> pyneuroml.pynml - INFO - Loading NeuroML2 file: ../NMC_model/NMC.NeuronML2/cSTUT189_L6_NBC_df448fd9b1_0_0.cell.nml\n",
      "pyNeuroML >>> 2025-02-03 14:56:33,107 - pyneuroml.pynml - INFO - Loading NeuroML2 file: ../NMC_model/NMC.NeuronML2/cSTUT189_L6_NBC_df448fd9b1_0_0.cell.nml\n"
     ]
    },
    {
     "name": "stdout",
     "output_type": "stream",
     "text": [
      "Creating 9 cells of type bIR215_L6_NBC_a104961d30_0_0.cell.nml\n",
      "Creating 4 cells of type cSTUT189_L6_NBC_df448fd9b1_0_0.cell.nml\n"
     ]
    },
    {
     "name": "stderr",
     "output_type": "stream",
     "text": [
      "pyNeuroML >>> pyneuroml.pynml - INFO - Loading NeuroML2 file: ../NMC_model/NMC.NeuronML2/cACint209_L6_NBC_780c5f5ae3_0_0.cell.nml\n",
      "pyNeuroML >>> 2025-02-03 14:56:33,674 - pyneuroml.pynml - INFO - Loading NeuroML2 file: ../NMC_model/NMC.NeuronML2/cACint209_L6_NBC_780c5f5ae3_0_0.cell.nml\n",
      "pyNeuroML >>> pyneuroml.pynml - INFO - Loading NeuroML2 file: ../NMC_model/NMC.NeuronML2/cSTUT189_L6_NBC_b88c4c3f75_0_0.cell.nml\n",
      "pyNeuroML >>> 2025-02-03 14:56:33,795 - pyneuroml.pynml - INFO - Loading NeuroML2 file: ../NMC_model/NMC.NeuronML2/cSTUT189_L6_NBC_b88c4c3f75_0_0.cell.nml\n"
     ]
    },
    {
     "name": "stdout",
     "output_type": "stream",
     "text": [
      "Creating 10 cells of type cACint209_L6_NBC_780c5f5ae3_0_0.cell.nml\n",
      "Creating 3 cells of type cSTUT189_L6_NBC_b88c4c3f75_0_0.cell.nml\n"
     ]
    },
    {
     "name": "stderr",
     "output_type": "stream",
     "text": [
      "pyNeuroML >>> pyneuroml.pynml - INFO - Loading NeuroML2 file: ../NMC_model/NMC.NeuronML2/cACint209_L6_NBC_0de57faa51_0_0.cell.nml\n",
      "pyNeuroML >>> 2025-02-03 14:56:33,912 - pyneuroml.pynml - INFO - Loading NeuroML2 file: ../NMC_model/NMC.NeuronML2/cACint209_L6_NBC_0de57faa51_0_0.cell.nml\n"
     ]
    },
    {
     "name": "stdout",
     "output_type": "stream",
     "text": [
      "Creating 6 cells of type cACint209_L6_NBC_0de57faa51_0_0.cell.nml\n"
     ]
    },
    {
     "name": "stderr",
     "output_type": "stream",
     "text": [
      "pyNeuroML >>> pyneuroml.pynml - INFO - Loading NeuroML2 file: ../NMC_model/NMC.NeuronML2/bAC217_L6_NBC_1ef33fd873_0_0.cell.nml\n",
      "pyNeuroML >>> 2025-02-03 14:56:34,349 - pyneuroml.pynml - INFO - Loading NeuroML2 file: ../NMC_model/NMC.NeuronML2/bAC217_L6_NBC_1ef33fd873_0_0.cell.nml\n",
      "pyNeuroML >>> pyneuroml.pynml - INFO - Loading NeuroML2 file: ../NMC_model/NMC.NeuronML2/cSTUT189_L6_NBC_23c8220f56_0_0.cell.nml\n"
     ]
    },
    {
     "name": "stdout",
     "output_type": "stream",
     "text": [
      "Creating 5 cells of type bAC217_L6_NBC_1ef33fd873_0_0.cell.nml\n",
      "Creating 4 cells of type cSTUT189_L6_NBC_23c8220f56_0_0.cell.nml\n"
     ]
    },
    {
     "name": "stderr",
     "output_type": "stream",
     "text": [
      "pyNeuroML >>> 2025-02-03 14:56:34,533 - pyneuroml.pynml - INFO - Loading NeuroML2 file: ../NMC_model/NMC.NeuronML2/cSTUT189_L6_NBC_23c8220f56_0_0.cell.nml\n",
      "pyNeuroML >>> pyneuroml.pynml - INFO - Loading NeuroML2 file: ../NMC_model/NMC.NeuronML2/bAC217_L6_NBC_656e1c0a2d_0_0.cell.nml\n",
      "pyNeuroML >>> 2025-02-03 14:56:34,655 - pyneuroml.pynml - INFO - Loading NeuroML2 file: ../NMC_model/NMC.NeuronML2/bAC217_L6_NBC_656e1c0a2d_0_0.cell.nml\n",
      "pyNeuroML >>> pyneuroml.pynml - INFO - Loading NeuroML2 file: ../NMC_model/NMC.NeuronML2/cIR216_L6_NBC_0546dde601_0_0.cell.nml\n",
      "pyNeuroML >>> 2025-02-03 14:56:34,776 - pyneuroml.pynml - INFO - Loading NeuroML2 file: ../NMC_model/NMC.NeuronML2/cIR216_L6_NBC_0546dde601_0_0.cell.nml\n"
     ]
    },
    {
     "name": "stdout",
     "output_type": "stream",
     "text": [
      "Creating 5 cells of type bAC217_L6_NBC_656e1c0a2d_0_0.cell.nml\n",
      "Creating 2 cells of type cIR216_L6_NBC_0546dde601_0_0.cell.nml\n"
     ]
    },
    {
     "name": "stderr",
     "output_type": "stream",
     "text": [
      "pyNeuroML >>> pyneuroml.pynml - INFO - Loading NeuroML2 file: ../NMC_model/NMC.NeuronML2/bSTUT213_L6_NBC_4b88b7a151_0_0.cell.nml\n",
      "pyNeuroML >>> 2025-02-03 14:56:34,903 - pyneuroml.pynml - INFO - Loading NeuroML2 file: ../NMC_model/NMC.NeuronML2/bSTUT213_L6_NBC_4b88b7a151_0_0.cell.nml\n"
     ]
    },
    {
     "name": "stdout",
     "output_type": "stream",
     "text": [
      "Creating 5 cells of type bSTUT213_L6_NBC_4b88b7a151_0_0.cell.nml\n"
     ]
    },
    {
     "name": "stderr",
     "output_type": "stream",
     "text": [
      "pyNeuroML >>> pyneuroml.pynml - INFO - Loading NeuroML2 file: ../NMC_model/NMC.NeuronML2/cIR216_L6_NBC_e6f3e8d1f4_0_0.cell.nml\n",
      "pyNeuroML >>> 2025-02-03 14:56:35,133 - pyneuroml.pynml - INFO - Loading NeuroML2 file: ../NMC_model/NMC.NeuronML2/cIR216_L6_NBC_e6f3e8d1f4_0_0.cell.nml\n",
      "pyNeuroML >>> pyneuroml.pynml - INFO - Loading NeuroML2 file: ../NMC_model/NMC.NeuronML2/bSTUT213_L6_NBC_91e841ee63_0_0.cell.nml\n",
      "pyNeuroML >>> 2025-02-03 14:56:35,244 - pyneuroml.pynml - INFO - Loading NeuroML2 file: ../NMC_model/NMC.NeuronML2/bSTUT213_L6_NBC_91e841ee63_0_0.cell.nml\n"
     ]
    },
    {
     "name": "stdout",
     "output_type": "stream",
     "text": [
      "Creating 1 cells of type cIR216_L6_NBC_e6f3e8d1f4_0_0.cell.nml\n",
      "Creating 2 cells of type bSTUT213_L6_NBC_91e841ee63_0_0.cell.nml\n"
     ]
    },
    {
     "name": "stderr",
     "output_type": "stream",
     "text": [
      "pyNeuroML >>> pyneuroml.pynml - INFO - Loading NeuroML2 file: ../NMC_model/NMC.NeuronML2/bSTUT213_L6_NBC_a3ddbb0af0_0_0.cell.nml\n",
      "pyNeuroML >>> 2025-02-03 14:56:35,506 - pyneuroml.pynml - INFO - Loading NeuroML2 file: ../NMC_model/NMC.NeuronML2/bSTUT213_L6_NBC_a3ddbb0af0_0_0.cell.nml\n"
     ]
    },
    {
     "name": "stdout",
     "output_type": "stream",
     "text": [
      "Creating 4 cells of type bSTUT213_L6_NBC_a3ddbb0af0_0_0.cell.nml\n"
     ]
    },
    {
     "name": "stderr",
     "output_type": "stream",
     "text": [
      "pyNeuroML >>> pyneuroml.pynml - INFO - Loading NeuroML2 file: ../NMC_model/NMC.NeuronML2/bAC217_L6_NBC_35ea10d24d_0_0.cell.nml\n",
      "pyNeuroML >>> 2025-02-03 14:56:35,744 - pyneuroml.pynml - INFO - Loading NeuroML2 file: ../NMC_model/NMC.NeuronML2/bAC217_L6_NBC_35ea10d24d_0_0.cell.nml\n"
     ]
    },
    {
     "name": "stdout",
     "output_type": "stream",
     "text": [
      "Creating 3 cells of type bAC217_L6_NBC_35ea10d24d_0_0.cell.nml\n"
     ]
    },
    {
     "name": "stderr",
     "output_type": "stream",
     "text": [
      "pyNeuroML >>> pyneuroml.pynml - INFO - Loading NeuroML2 file: ../NMC_model/NMC.NeuronML2/cNAC187_L6_NBC_4225ab5b52_0_0.cell.nml\n",
      "pyNeuroML >>> 2025-02-03 14:56:36,008 - pyneuroml.pynml - INFO - Loading NeuroML2 file: ../NMC_model/NMC.NeuronML2/cNAC187_L6_NBC_4225ab5b52_0_0.cell.nml\n",
      "pyNeuroML >>> pyneuroml.pynml - INFO - Loading NeuroML2 file: ../NMC_model/NMC.NeuronML2/bAC217_L6_NBC_3fc0dff69e_0_0.cell.nml\n",
      "pyNeuroML >>> 2025-02-03 14:56:36,115 - pyneuroml.pynml - INFO - Loading NeuroML2 file: ../NMC_model/NMC.NeuronML2/bAC217_L6_NBC_3fc0dff69e_0_0.cell.nml\n"
     ]
    },
    {
     "name": "stdout",
     "output_type": "stream",
     "text": [
      "Creating 3 cells of type cNAC187_L6_NBC_4225ab5b52_0_0.cell.nml\n",
      "Creating 1 cells of type bAC217_L6_NBC_3fc0dff69e_0_0.cell.nml\n"
     ]
    },
    {
     "name": "stderr",
     "output_type": "stream",
     "text": [
      "pyNeuroML >>> pyneuroml.pynml - INFO - Loading NeuroML2 file: ../NMC_model/NMC.NeuronML2/cSTUT189_L6_NBC_55825b9e30_0_0.cell.nml\n",
      "pyNeuroML >>> 2025-02-03 14:56:36,451 - pyneuroml.pynml - INFO - Loading NeuroML2 file: ../NMC_model/NMC.NeuronML2/cSTUT189_L6_NBC_55825b9e30_0_0.cell.nml\n",
      "pyNeuroML >>> pyneuroml.pynml - INFO - Loading NeuroML2 file: ../NMC_model/NMC.NeuronML2/cIR216_L6_NBC_38e0d4fd81_0_0.cell.nml\n",
      "pyNeuroML >>> 2025-02-03 14:56:36,564 - pyneuroml.pynml - INFO - Loading NeuroML2 file: ../NMC_model/NMC.NeuronML2/cIR216_L6_NBC_38e0d4fd81_0_0.cell.nml\n"
     ]
    },
    {
     "name": "stdout",
     "output_type": "stream",
     "text": [
      "Creating 3 cells of type cSTUT189_L6_NBC_55825b9e30_0_0.cell.nml\n",
      "Creating 1 cells of type cIR216_L6_NBC_38e0d4fd81_0_0.cell.nml\n"
     ]
    },
    {
     "name": "stderr",
     "output_type": "stream",
     "text": [
      "pyNeuroML >>> pyneuroml.pynml - INFO - Loading NeuroML2 file: ../NMC_model/NMC.NeuronML2/cNAC187_L6_NBC_96f68bef66_0_0.cell.nml\n",
      "pyNeuroML >>> 2025-02-03 14:56:36,845 - pyneuroml.pynml - INFO - Loading NeuroML2 file: ../NMC_model/NMC.NeuronML2/cNAC187_L6_NBC_96f68bef66_0_0.cell.nml\n",
      "pyNeuroML >>> pyneuroml.pynml - INFO - Loading NeuroML2 file: ../NMC_model/NMC.NeuronML2/dSTUT214_L6_NBC_750f7ba17d_0_0.cell.nml\n"
     ]
    },
    {
     "name": "stdout",
     "output_type": "stream",
     "text": [
      "Creating 5 cells of type cNAC187_L6_NBC_96f68bef66_0_0.cell.nml\n",
      "Creating 1 cells of type dSTUT214_L6_NBC_750f7ba17d_0_0.cell.nml\n"
     ]
    },
    {
     "name": "stderr",
     "output_type": "stream",
     "text": [
      "pyNeuroML >>> 2025-02-03 14:56:37,039 - pyneuroml.pynml - INFO - Loading NeuroML2 file: ../NMC_model/NMC.NeuronML2/dSTUT214_L6_NBC_750f7ba17d_0_0.cell.nml\n",
      "pyNeuroML >>> pyneuroml.pynml - INFO - Loading NeuroML2 file: ../NMC_model/NMC.NeuronML2/cADpyr231_L6_BPC_2f96fbbd13_0_0.cell.nml\n",
      "pyNeuroML >>> 2025-02-03 14:56:37,282 - pyneuroml.pynml - INFO - Loading NeuroML2 file: ../NMC_model/NMC.NeuronML2/cADpyr231_L6_BPC_2f96fbbd13_0_0.cell.nml\n"
     ]
    },
    {
     "name": "stdout",
     "output_type": "stream",
     "text": [
      "Creating 617 cells of type cADpyr231_L6_BPC_2f96fbbd13_0_0.cell.nml\n"
     ]
    },
    {
     "name": "stderr",
     "output_type": "stream",
     "text": [
      "pyNeuroML >>> pyneuroml.pynml - INFO - Loading NeuroML2 file: ../NMC_model/NMC.NeuronML2/cADpyr231_L6_BPC_1ed55c8860_0_0.cell.nml\n",
      "pyNeuroML >>> 2025-02-03 14:56:38,574 - pyneuroml.pynml - INFO - Loading NeuroML2 file: ../NMC_model/NMC.NeuronML2/cADpyr231_L6_BPC_1ed55c8860_0_0.cell.nml\n"
     ]
    },
    {
     "name": "stdout",
     "output_type": "stream",
     "text": [
      "Creating 618 cells of type cADpyr231_L6_BPC_1ed55c8860_0_0.cell.nml\n"
     ]
    },
    {
     "name": "stderr",
     "output_type": "stream",
     "text": [
      "pyNeuroML >>> pyneuroml.pynml - INFO - Loading NeuroML2 file: ../NMC_model/NMC.NeuronML2/cADpyr231_L6_BPC_4e9a9465d3_0_0.cell.nml\n",
      "pyNeuroML >>> 2025-02-03 14:56:40,069 - pyneuroml.pynml - INFO - Loading NeuroML2 file: ../NMC_model/NMC.NeuronML2/cADpyr231_L6_BPC_4e9a9465d3_0_0.cell.nml\n"
     ]
    },
    {
     "name": "stdout",
     "output_type": "stream",
     "text": [
      "Creating 630 cells of type cADpyr231_L6_BPC_4e9a9465d3_0_0.cell.nml\n"
     ]
    },
    {
     "name": "stderr",
     "output_type": "stream",
     "text": [
      "pyNeuroML >>> pyneuroml.pynml - INFO - Loading NeuroML2 file: ../NMC_model/NMC.NeuronML2/cADpyr231_L6_BPC_3406e7f0b2_0_0.cell.nml\n",
      "pyNeuroML >>> 2025-02-03 14:56:41,549 - pyneuroml.pynml - INFO - Loading NeuroML2 file: ../NMC_model/NMC.NeuronML2/cADpyr231_L6_BPC_3406e7f0b2_0_0.cell.nml\n"
     ]
    },
    {
     "name": "stdout",
     "output_type": "stream",
     "text": [
      "Creating 658 cells of type cADpyr231_L6_BPC_3406e7f0b2_0_0.cell.nml\n"
     ]
    },
    {
     "name": "stderr",
     "output_type": "stream",
     "text": [
      "pyNeuroML >>> pyneuroml.pynml - INFO - Loading NeuroML2 file: ../NMC_model/NMC.NeuronML2/cADpyr231_L6_BPC_05f7073f5f_0_0.cell.nml\n",
      "pyNeuroML >>> 2025-02-03 14:56:43,193 - pyneuroml.pynml - INFO - Loading NeuroML2 file: ../NMC_model/NMC.NeuronML2/cADpyr231_L6_BPC_05f7073f5f_0_0.cell.nml\n"
     ]
    },
    {
     "name": "stdout",
     "output_type": "stream",
     "text": [
      "Creating 651 cells of type cADpyr231_L6_BPC_05f7073f5f_0_0.cell.nml\n"
     ]
    },
    {
     "name": "stderr",
     "output_type": "stream",
     "text": [
      "pyNeuroML >>> pyneuroml.pynml - INFO - Loading NeuroML2 file: ../NMC_model/NMC.NeuronML2/cADpyr231_L6_IPC_80ec904753_0_0.cell.nml\n",
      "pyNeuroML >>> 2025-02-03 14:56:44,536 - pyneuroml.pynml - INFO - Loading NeuroML2 file: ../NMC_model/NMC.NeuronML2/cADpyr231_L6_IPC_80ec904753_0_0.cell.nml\n"
     ]
    },
    {
     "name": "stdout",
     "output_type": "stream",
     "text": [
      "Creating 694 cells of type cADpyr231_L6_IPC_80ec904753_0_0.cell.nml\n"
     ]
    },
    {
     "name": "stderr",
     "output_type": "stream",
     "text": [
      "pyNeuroML >>> pyneuroml.pynml - INFO - Loading NeuroML2 file: ../NMC_model/NMC.NeuronML2/cADpyr231_L6_IPC_c56c0e0779_0_0.cell.nml\n",
      "pyNeuroML >>> 2025-02-03 14:56:46,248 - pyneuroml.pynml - INFO - Loading NeuroML2 file: ../NMC_model/NMC.NeuronML2/cADpyr231_L6_IPC_c56c0e0779_0_0.cell.nml\n"
     ]
    },
    {
     "name": "stdout",
     "output_type": "stream",
     "text": [
      "Creating 686 cells of type cADpyr231_L6_IPC_c56c0e0779_0_0.cell.nml\n"
     ]
    },
    {
     "name": "stderr",
     "output_type": "stream",
     "text": [
      "pyNeuroML >>> pyneuroml.pynml - INFO - Loading NeuroML2 file: ../NMC_model/NMC.NeuronML2/cADpyr231_L6_IPC_8d0f3a7d2e_0_0.cell.nml\n",
      "pyNeuroML >>> 2025-02-03 14:56:47,894 - pyneuroml.pynml - INFO - Loading NeuroML2 file: ../NMC_model/NMC.NeuronML2/cADpyr231_L6_IPC_8d0f3a7d2e_0_0.cell.nml\n"
     ]
    },
    {
     "name": "stdout",
     "output_type": "stream",
     "text": [
      "Creating 704 cells of type cADpyr231_L6_IPC_8d0f3a7d2e_0_0.cell.nml\n"
     ]
    },
    {
     "name": "stderr",
     "output_type": "stream",
     "text": [
      "pyNeuroML >>> pyneuroml.pynml - INFO - Loading NeuroML2 file: ../NMC_model/NMC.NeuronML2/cADpyr231_L6_IPC_5ada6448ea_0_0.cell.nml\n",
      "pyNeuroML >>> 2025-02-03 14:56:49,539 - pyneuroml.pynml - INFO - Loading NeuroML2 file: ../NMC_model/NMC.NeuronML2/cADpyr231_L6_IPC_5ada6448ea_0_0.cell.nml\n"
     ]
    },
    {
     "name": "stdout",
     "output_type": "stream",
     "text": [
      "Creating 723 cells of type cADpyr231_L6_IPC_5ada6448ea_0_0.cell.nml\n"
     ]
    },
    {
     "name": "stderr",
     "output_type": "stream",
     "text": [
      "pyNeuroML >>> pyneuroml.pynml - INFO - Loading NeuroML2 file: ../NMC_model/NMC.NeuronML2/cADpyr231_L6_IPC_c95b8bde99_0_0.cell.nml\n",
      "pyNeuroML >>> 2025-02-03 14:56:51,292 - pyneuroml.pynml - INFO - Loading NeuroML2 file: ../NMC_model/NMC.NeuronML2/cADpyr231_L6_IPC_c95b8bde99_0_0.cell.nml\n"
     ]
    },
    {
     "name": "stdout",
     "output_type": "stream",
     "text": [
      "Creating 669 cells of type cADpyr231_L6_IPC_c95b8bde99_0_0.cell.nml\n"
     ]
    },
    {
     "name": "stderr",
     "output_type": "stream",
     "text": [
      "pyNeuroML >>> pyneuroml.pynml - INFO - Loading NeuroML2 file: ../NMC_model/NMC.NeuronML2/cADpyr231_L6_TPC_L1_7fc2c927c9_0_0.cell.nml\n",
      "pyNeuroML >>> 2025-02-03 14:56:52,996 - pyneuroml.pynml - INFO - Loading NeuroML2 file: ../NMC_model/NMC.NeuronML2/cADpyr231_L6_TPC_L1_7fc2c927c9_0_0.cell.nml\n"
     ]
    },
    {
     "name": "stdout",
     "output_type": "stream",
     "text": [
      "Creating 331 cells of type cADpyr231_L6_TPC_L1_7fc2c927c9_0_0.cell.nml\n"
     ]
    },
    {
     "name": "stderr",
     "output_type": "stream",
     "text": [
      "pyNeuroML >>> pyneuroml.pynml - INFO - Loading NeuroML2 file: ../NMC_model/NMC.NeuronML2/cADpyr231_L6_TPC_L1_f2d985e7ff_0_0.cell.nml\n",
      "pyNeuroML >>> 2025-02-03 14:56:53,775 - pyneuroml.pynml - INFO - Loading NeuroML2 file: ../NMC_model/NMC.NeuronML2/cADpyr231_L6_TPC_L1_f2d985e7ff_0_0.cell.nml\n"
     ]
    },
    {
     "name": "stdout",
     "output_type": "stream",
     "text": [
      "Creating 339 cells of type cADpyr231_L6_TPC_L1_f2d985e7ff_0_0.cell.nml\n"
     ]
    },
    {
     "name": "stderr",
     "output_type": "stream",
     "text": [
      "pyNeuroML >>> pyneuroml.pynml - INFO - Loading NeuroML2 file: ../NMC_model/NMC.NeuronML2/cADpyr231_L6_TPC_L1_1856ba2db5_0_0.cell.nml\n",
      "pyNeuroML >>> 2025-02-03 14:56:54,562 - pyneuroml.pynml - INFO - Loading NeuroML2 file: ../NMC_model/NMC.NeuronML2/cADpyr231_L6_TPC_L1_1856ba2db5_0_0.cell.nml\n"
     ]
    },
    {
     "name": "stdout",
     "output_type": "stream",
     "text": [
      "Creating 318 cells of type cADpyr231_L6_TPC_L1_1856ba2db5_0_0.cell.nml\n"
     ]
    },
    {
     "name": "stderr",
     "output_type": "stream",
     "text": [
      "pyNeuroML >>> pyneuroml.pynml - INFO - Loading NeuroML2 file: ../NMC_model/NMC.NeuronML2/cADpyr231_L6_TPC_L1_44f2206f70_0_0.cell.nml\n",
      "pyNeuroML >>> 2025-02-03 14:56:55,337 - pyneuroml.pynml - INFO - Loading NeuroML2 file: ../NMC_model/NMC.NeuronML2/cADpyr231_L6_TPC_L1_44f2206f70_0_0.cell.nml\n"
     ]
    },
    {
     "name": "stdout",
     "output_type": "stream",
     "text": [
      "Creating 325 cells of type cADpyr231_L6_TPC_L1_44f2206f70_0_0.cell.nml\n"
     ]
    },
    {
     "name": "stderr",
     "output_type": "stream",
     "text": [
      "pyNeuroML >>> pyneuroml.pynml - INFO - Loading NeuroML2 file: ../NMC_model/NMC.NeuronML2/cADpyr231_L6_TPC_L1_68efb03f39_0_0.cell.nml\n",
      "pyNeuroML >>> 2025-02-03 14:56:56,072 - pyneuroml.pynml - INFO - Loading NeuroML2 file: ../NMC_model/NMC.NeuronML2/cADpyr231_L6_TPC_L1_68efb03f39_0_0.cell.nml\n"
     ]
    },
    {
     "name": "stdout",
     "output_type": "stream",
     "text": [
      "Creating 324 cells of type cADpyr231_L6_TPC_L1_68efb03f39_0_0.cell.nml\n"
     ]
    },
    {
     "name": "stderr",
     "output_type": "stream",
     "text": [
      "pyNeuroML >>> pyneuroml.pynml - INFO - Loading NeuroML2 file: ../NMC_model/NMC.NeuronML2/cNAC187_L6_DBC_d59edbb45e_0_0.cell.nml\n",
      "pyNeuroML >>> 2025-02-03 14:56:57,064 - pyneuroml.pynml - INFO - Loading NeuroML2 file: ../NMC_model/NMC.NeuronML2/cNAC187_L6_DBC_d59edbb45e_0_0.cell.nml\n"
     ]
    },
    {
     "name": "stdout",
     "output_type": "stream",
     "text": [
      "Creating 3 cells of type cNAC187_L6_DBC_d59edbb45e_0_0.cell.nml\n"
     ]
    },
    {
     "name": "stderr",
     "output_type": "stream",
     "text": [
      "pyNeuroML >>> pyneuroml.pynml - INFO - Loading NeuroML2 file: ../NMC_model/NMC.NeuronML2/bIR215_L6_DBC_0271760b42_0_0.cell.nml\n",
      "pyNeuroML >>> 2025-02-03 14:56:57,378 - pyneuroml.pynml - INFO - Loading NeuroML2 file: ../NMC_model/NMC.NeuronML2/bIR215_L6_DBC_0271760b42_0_0.cell.nml\n"
     ]
    },
    {
     "name": "stdout",
     "output_type": "stream",
     "text": [
      "Creating 1 cells of type bIR215_L6_DBC_0271760b42_0_0.cell.nml\n"
     ]
    },
    {
     "name": "stderr",
     "output_type": "stream",
     "text": [
      "pyNeuroML >>> pyneuroml.pynml - INFO - Loading NeuroML2 file: ../NMC_model/NMC.NeuronML2/bIR215_L6_DBC_a60ab35166_0_0.cell.nml\n",
      "pyNeuroML >>> 2025-02-03 14:56:57,763 - pyneuroml.pynml - INFO - Loading NeuroML2 file: ../NMC_model/NMC.NeuronML2/bIR215_L6_DBC_a60ab35166_0_0.cell.nml\n"
     ]
    },
    {
     "name": "stdout",
     "output_type": "stream",
     "text": [
      "Creating 2 cells of type bIR215_L6_DBC_a60ab35166_0_0.cell.nml\n"
     ]
    },
    {
     "name": "stderr",
     "output_type": "stream",
     "text": [
      "pyNeuroML >>> pyneuroml.pynml - INFO - Loading NeuroML2 file: ../NMC_model/NMC.NeuronML2/cNAC187_L6_DBC_8be7b81168_0_0.cell.nml\n",
      "pyNeuroML >>> 2025-02-03 14:56:58,347 - pyneuroml.pynml - INFO - Loading NeuroML2 file: ../NMC_model/NMC.NeuronML2/cNAC187_L6_DBC_8be7b81168_0_0.cell.nml\n"
     ]
    },
    {
     "name": "stdout",
     "output_type": "stream",
     "text": [
      "Creating 1 cells of type cNAC187_L6_DBC_8be7b81168_0_0.cell.nml\n"
     ]
    },
    {
     "name": "stderr",
     "output_type": "stream",
     "text": [
      "pyNeuroML >>> pyneuroml.pynml - INFO - Loading NeuroML2 file: ../NMC_model/NMC.NeuronML2/bAC217_L6_DBC_d59edbb45e_0_0.cell.nml\n",
      "pyNeuroML >>> 2025-02-03 14:56:58,934 - pyneuroml.pynml - INFO - Loading NeuroML2 file: ../NMC_model/NMC.NeuronML2/bAC217_L6_DBC_d59edbb45e_0_0.cell.nml\n"
     ]
    },
    {
     "name": "stdout",
     "output_type": "stream",
     "text": [
      "Creating 2 cells of type bAC217_L6_DBC_d59edbb45e_0_0.cell.nml\n"
     ]
    },
    {
     "name": "stderr",
     "output_type": "stream",
     "text": [
      "pyNeuroML >>> pyneuroml.pynml - INFO - Loading NeuroML2 file: ../NMC_model/NMC.NeuronML2/bIR215_L6_DBC_53b6888784_0_0.cell.nml\n",
      "pyNeuroML >>> 2025-02-03 14:56:59,187 - pyneuroml.pynml - INFO - Loading NeuroML2 file: ../NMC_model/NMC.NeuronML2/bIR215_L6_DBC_53b6888784_0_0.cell.nml\n"
     ]
    },
    {
     "name": "stdout",
     "output_type": "stream",
     "text": [
      "Creating 1 cells of type bIR215_L6_DBC_53b6888784_0_0.cell.nml\n"
     ]
    },
    {
     "name": "stderr",
     "output_type": "stream",
     "text": [
      "pyNeuroML >>> pyneuroml.pynml - INFO - Loading NeuroML2 file: ../NMC_model/NMC.NeuronML2/cNAC187_L6_DBC_166d3f579a_0_0.cell.nml\n",
      "pyNeuroML >>> 2025-02-03 14:56:59,547 - pyneuroml.pynml - INFO - Loading NeuroML2 file: ../NMC_model/NMC.NeuronML2/cNAC187_L6_DBC_166d3f579a_0_0.cell.nml\n"
     ]
    },
    {
     "name": "stdout",
     "output_type": "stream",
     "text": [
      "Creating 3 cells of type cNAC187_L6_DBC_166d3f579a_0_0.cell.nml\n"
     ]
    },
    {
     "name": "stderr",
     "output_type": "stream",
     "text": [
      "pyNeuroML >>> pyneuroml.pynml - INFO - Loading NeuroML2 file: ../NMC_model/NMC.NeuronML2/bAC217_L6_DBC_52e1730bbd_0_0.cell.nml\n",
      "pyNeuroML >>> 2025-02-03 14:56:59,934 - pyneuroml.pynml - INFO - Loading NeuroML2 file: ../NMC_model/NMC.NeuronML2/bAC217_L6_DBC_52e1730bbd_0_0.cell.nml\n"
     ]
    },
    {
     "name": "stdout",
     "output_type": "stream",
     "text": [
      "Creating 3 cells of type bAC217_L6_DBC_52e1730bbd_0_0.cell.nml\n"
     ]
    },
    {
     "name": "stderr",
     "output_type": "stream",
     "text": [
      "pyNeuroML >>> pyneuroml.pynml - INFO - Loading NeuroML2 file: ../NMC_model/NMC.NeuronML2/bNAC219_L6_DBC_e08f2b8ef4_0_0.cell.nml\n",
      "pyNeuroML >>> 2025-02-03 14:57:00,406 - pyneuroml.pynml - INFO - Loading NeuroML2 file: ../NMC_model/NMC.NeuronML2/bNAC219_L6_DBC_e08f2b8ef4_0_0.cell.nml\n"
     ]
    },
    {
     "name": "stdout",
     "output_type": "stream",
     "text": [
      "Creating 1 cells of type bNAC219_L6_DBC_e08f2b8ef4_0_0.cell.nml\n"
     ]
    },
    {
     "name": "stderr",
     "output_type": "stream",
     "text": [
      "pyNeuroML >>> pyneuroml.pynml - INFO - Loading NeuroML2 file: ../NMC_model/NMC.NeuronML2/bAC217_L6_DBC_2005a958c4_0_0.cell.nml\n",
      "pyNeuroML >>> 2025-02-03 14:57:00,883 - pyneuroml.pynml - INFO - Loading NeuroML2 file: ../NMC_model/NMC.NeuronML2/bAC217_L6_DBC_2005a958c4_0_0.cell.nml\n"
     ]
    },
    {
     "name": "stdout",
     "output_type": "stream",
     "text": [
      "Creating 1 cells of type bAC217_L6_DBC_2005a958c4_0_0.cell.nml\n"
     ]
    },
    {
     "name": "stderr",
     "output_type": "stream",
     "text": [
      "pyNeuroML >>> pyneuroml.pynml - INFO - Loading NeuroML2 file: ../NMC_model/NMC.NeuronML2/bNAC219_L6_DBC_b8f064ed89_0_0.cell.nml\n",
      "pyNeuroML >>> 2025-02-03 14:57:01,104 - pyneuroml.pynml - INFO - Loading NeuroML2 file: ../NMC_model/NMC.NeuronML2/bNAC219_L6_DBC_b8f064ed89_0_0.cell.nml\n",
      "pyNeuroML >>> pyneuroml.pynml - INFO - Loading NeuroML2 file: ../NMC_model/NMC.NeuronML2/cACint209_L6_DBC_98012db3f3_0_0.cell.nml\n",
      "pyNeuroML >>> 2025-02-03 14:57:01,283 - pyneuroml.pynml - INFO - Loading NeuroML2 file: ../NMC_model/NMC.NeuronML2/cACint209_L6_DBC_98012db3f3_0_0.cell.nml\n"
     ]
    },
    {
     "name": "stdout",
     "output_type": "stream",
     "text": [
      "Creating 1 cells of type bNAC219_L6_DBC_b8f064ed89_0_0.cell.nml\n",
      "Creating 3 cells of type cACint209_L6_DBC_98012db3f3_0_0.cell.nml\n"
     ]
    },
    {
     "name": "stderr",
     "output_type": "stream",
     "text": [
      "pyNeuroML >>> pyneuroml.pynml - INFO - Loading NeuroML2 file: ../NMC_model/NMC.NeuronML2/cACint209_L6_DBC_42ed26968e_0_0.cell.nml\n",
      "pyNeuroML >>> 2025-02-03 14:57:01,374 - pyneuroml.pynml - INFO - Loading NeuroML2 file: ../NMC_model/NMC.NeuronML2/cACint209_L6_DBC_42ed26968e_0_0.cell.nml\n"
     ]
    },
    {
     "name": "stdout",
     "output_type": "stream",
     "text": [
      "Creating 1 cells of type cACint209_L6_DBC_42ed26968e_0_0.cell.nml\n"
     ]
    },
    {
     "name": "stderr",
     "output_type": "stream",
     "text": [
      "pyNeuroML >>> pyneuroml.pynml - INFO - Loading NeuroML2 file: ../NMC_model/NMC.NeuronML2/bSTUT213_L6_DBC_4765d943f4_0_0.cell.nml\n",
      "pyNeuroML >>> 2025-02-03 14:57:01,974 - pyneuroml.pynml - INFO - Loading NeuroML2 file: ../NMC_model/NMC.NeuronML2/bSTUT213_L6_DBC_4765d943f4_0_0.cell.nml\n",
      "pyNeuroML >>> pyneuroml.pynml - INFO - Loading NeuroML2 file: ../NMC_model/NMC.NeuronML2/cACint209_L6_DBC_d59edbb45e_0_0.cell.nml\n",
      "pyNeuroML >>> 2025-02-03 14:57:02,127 - pyneuroml.pynml - INFO - Loading NeuroML2 file: ../NMC_model/NMC.NeuronML2/cACint209_L6_DBC_d59edbb45e_0_0.cell.nml\n"
     ]
    },
    {
     "name": "stdout",
     "output_type": "stream",
     "text": [
      "Creating 2 cells of type bSTUT213_L6_DBC_4765d943f4_0_0.cell.nml\n",
      "Creating 3 cells of type cACint209_L6_DBC_d59edbb45e_0_0.cell.nml\n"
     ]
    },
    {
     "name": "stderr",
     "output_type": "stream",
     "text": [
      "pyNeuroML >>> pyneuroml.pynml - INFO - Loading NeuroML2 file: ../NMC_model/NMC.NeuronML2/cIR216_L6_DBC_be42e7893c_0_0.cell.nml\n",
      "pyNeuroML >>> 2025-02-03 14:57:02,455 - pyneuroml.pynml - INFO - Loading NeuroML2 file: ../NMC_model/NMC.NeuronML2/cIR216_L6_DBC_be42e7893c_0_0.cell.nml\n",
      "pyNeuroML >>> pyneuroml.pynml - INFO - Loading NeuroML2 file: ../NMC_model/NMC.NeuronML2/cACint209_L6_DBC_0271760b42_0_0.cell.nml\n",
      "pyNeuroML >>> 2025-02-03 14:57:02,539 - pyneuroml.pynml - INFO - Loading NeuroML2 file: ../NMC_model/NMC.NeuronML2/cACint209_L6_DBC_0271760b42_0_0.cell.nml\n"
     ]
    },
    {
     "name": "stdout",
     "output_type": "stream",
     "text": [
      "Creating 1 cells of type cIR216_L6_DBC_be42e7893c_0_0.cell.nml\n",
      "Creating 1 cells of type cACint209_L6_DBC_0271760b42_0_0.cell.nml\n"
     ]
    },
    {
     "name": "stderr",
     "output_type": "stream",
     "text": [
      "pyNeuroML >>> pyneuroml.pynml - INFO - Loading NeuroML2 file: ../NMC_model/NMC.NeuronML2/cNAC187_L6_DBC_2bb1f65738_0_0.cell.nml\n",
      "pyNeuroML >>> 2025-02-03 14:57:03,010 - pyneuroml.pynml - INFO - Loading NeuroML2 file: ../NMC_model/NMC.NeuronML2/cNAC187_L6_DBC_2bb1f65738_0_0.cell.nml\n",
      "pyNeuroML >>> pyneuroml.pynml - INFO - Loading NeuroML2 file: ../NMC_model/NMC.NeuronML2/cADpyr231_L6_TPC_L4_184fd5677b_0_0.cell.nml\n",
      "pyNeuroML >>> 2025-02-03 14:57:03,192 - pyneuroml.pynml - INFO - Loading NeuroML2 file: ../NMC_model/NMC.NeuronML2/cADpyr231_L6_TPC_L4_184fd5677b_0_0.cell.nml\n"
     ]
    },
    {
     "name": "stdout",
     "output_type": "stream",
     "text": [
      "Creating 1 cells of type cNAC187_L6_DBC_2bb1f65738_0_0.cell.nml\n",
      "Creating 258 cells of type cADpyr231_L6_TPC_L4_184fd5677b_0_0.cell.nml\n"
     ]
    },
    {
     "name": "stderr",
     "output_type": "stream",
     "text": [
      "pyNeuroML >>> pyneuroml.pynml - INFO - Loading NeuroML2 file: ../NMC_model/NMC.NeuronML2/cADpyr231_L6_TPC_L4_91b667d362_0_0.cell.nml\n",
      "pyNeuroML >>> 2025-02-03 14:57:03,998 - pyneuroml.pynml - INFO - Loading NeuroML2 file: ../NMC_model/NMC.NeuronML2/cADpyr231_L6_TPC_L4_91b667d362_0_0.cell.nml\n"
     ]
    },
    {
     "name": "stdout",
     "output_type": "stream",
     "text": [
      "Creating 304 cells of type cADpyr231_L6_TPC_L4_91b667d362_0_0.cell.nml\n"
     ]
    },
    {
     "name": "stderr",
     "output_type": "stream",
     "text": [
      "pyNeuroML >>> pyneuroml.pynml - INFO - Loading NeuroML2 file: ../NMC_model/NMC.NeuronML2/cADpyr231_L6_TPC_L4_3f1b0bd478_0_0.cell.nml\n",
      "pyNeuroML >>> 2025-02-03 14:57:04,824 - pyneuroml.pynml - INFO - Loading NeuroML2 file: ../NMC_model/NMC.NeuronML2/cADpyr231_L6_TPC_L4_3f1b0bd478_0_0.cell.nml\n"
     ]
    },
    {
     "name": "stdout",
     "output_type": "stream",
     "text": [
      "Creating 298 cells of type cADpyr231_L6_TPC_L4_3f1b0bd478_0_0.cell.nml\n"
     ]
    },
    {
     "name": "stderr",
     "output_type": "stream",
     "text": [
      "pyNeuroML >>> pyneuroml.pynml - INFO - Loading NeuroML2 file: ../NMC_model/NMC.NeuronML2/cADpyr231_L6_TPC_L4_117b9dfb71_0_0.cell.nml\n",
      "pyNeuroML >>> 2025-02-03 14:57:05,666 - pyneuroml.pynml - INFO - Loading NeuroML2 file: ../NMC_model/NMC.NeuronML2/cADpyr231_L6_TPC_L4_117b9dfb71_0_0.cell.nml\n"
     ]
    },
    {
     "name": "stdout",
     "output_type": "stream",
     "text": [
      "Creating 266 cells of type cADpyr231_L6_TPC_L4_117b9dfb71_0_0.cell.nml\n"
     ]
    },
    {
     "name": "stderr",
     "output_type": "stream",
     "text": [
      "pyNeuroML >>> pyneuroml.pynml - INFO - Loading NeuroML2 file: ../NMC_model/NMC.NeuronML2/cADpyr231_L6_TPC_L4_0cb1e9aa6b_0_0.cell.nml\n",
      "pyNeuroML >>> 2025-02-03 14:57:06,379 - pyneuroml.pynml - INFO - Loading NeuroML2 file: ../NMC_model/NMC.NeuronML2/cADpyr231_L6_TPC_L4_0cb1e9aa6b_0_0.cell.nml\n"
     ]
    },
    {
     "name": "stdout",
     "output_type": "stream",
     "text": [
      "Creating 314 cells of type cADpyr231_L6_TPC_L4_0cb1e9aa6b_0_0.cell.nml\n"
     ]
    },
    {
     "name": "stderr",
     "output_type": "stream",
     "text": [
      "pyNeuroML >>> pyneuroml.pynml - INFO - Loading NeuroML2 file: ../NMC_model/NMC.NeuronML2/cADpyr231_L6_UTPC_186e8dd6aa_0_0.cell.nml\n",
      "pyNeuroML >>> 2025-02-03 14:57:07,282 - pyneuroml.pynml - INFO - Loading NeuroML2 file: ../NMC_model/NMC.NeuronML2/cADpyr231_L6_UTPC_186e8dd6aa_0_0.cell.nml\n"
     ]
    },
    {
     "name": "stdout",
     "output_type": "stream",
     "text": [
      "Creating 360 cells of type cADpyr231_L6_UTPC_186e8dd6aa_0_0.cell.nml\n"
     ]
    },
    {
     "name": "stderr",
     "output_type": "stream",
     "text": [
      "pyNeuroML >>> pyneuroml.pynml - INFO - Loading NeuroML2 file: ../NMC_model/NMC.NeuronML2/cADpyr231_L6_UTPC_295f0e6025_0_0.cell.nml\n",
      "pyNeuroML >>> 2025-02-03 14:57:07,977 - pyneuroml.pynml - INFO - Loading NeuroML2 file: ../NMC_model/NMC.NeuronML2/cADpyr231_L6_UTPC_295f0e6025_0_0.cell.nml\n"
     ]
    },
    {
     "name": "stdout",
     "output_type": "stream",
     "text": [
      "Creating 325 cells of type cADpyr231_L6_UTPC_295f0e6025_0_0.cell.nml\n"
     ]
    },
    {
     "name": "stderr",
     "output_type": "stream",
     "text": [
      "pyNeuroML >>> pyneuroml.pynml - INFO - Loading NeuroML2 file: ../NMC_model/NMC.NeuronML2/cADpyr231_L6_UTPC_9d28264fcd_0_0.cell.nml\n",
      "pyNeuroML >>> 2025-02-03 14:57:09,018 - pyneuroml.pynml - INFO - Loading NeuroML2 file: ../NMC_model/NMC.NeuronML2/cADpyr231_L6_UTPC_9d28264fcd_0_0.cell.nml\n"
     ]
    },
    {
     "name": "stdout",
     "output_type": "stream",
     "text": [
      "Creating 325 cells of type cADpyr231_L6_UTPC_9d28264fcd_0_0.cell.nml\n"
     ]
    },
    {
     "name": "stderr",
     "output_type": "stream",
     "text": [
      "pyNeuroML >>> pyneuroml.pynml - INFO - Loading NeuroML2 file: ../NMC_model/NMC.NeuronML2/cADpyr231_L6_UTPC_9f3da79327_0_0.cell.nml\n",
      "pyNeuroML >>> 2025-02-03 14:57:09,564 - pyneuroml.pynml - INFO - Loading NeuroML2 file: ../NMC_model/NMC.NeuronML2/cADpyr231_L6_UTPC_9f3da79327_0_0.cell.nml\n"
     ]
    },
    {
     "name": "stdout",
     "output_type": "stream",
     "text": [
      "Creating 367 cells of type cADpyr231_L6_UTPC_9f3da79327_0_0.cell.nml\n"
     ]
    },
    {
     "name": "stderr",
     "output_type": "stream",
     "text": [
      "pyNeuroML >>> pyneuroml.pynml - INFO - Loading NeuroML2 file: ../NMC_model/NMC.NeuronML2/cADpyr231_L6_UTPC_15731e5081_0_0.cell.nml\n",
      "pyNeuroML >>> 2025-02-03 14:57:10,354 - pyneuroml.pynml - INFO - Loading NeuroML2 file: ../NMC_model/NMC.NeuronML2/cADpyr231_L6_UTPC_15731e5081_0_0.cell.nml\n"
     ]
    },
    {
     "name": "stdout",
     "output_type": "stream",
     "text": [
      "Creating 358 cells of type cADpyr231_L6_UTPC_15731e5081_0_0.cell.nml\n"
     ]
    },
    {
     "name": "stderr",
     "output_type": "stream",
     "text": [
      "pyNeuroML >>> pyneuroml.pynml - INFO - Loading NeuroML2 file: ../NMC_model/NMC.NeuronML2/cADpyr231_L6_BPC_3406e7f0b2_0_0.cell.nml\n",
      "pyNeuroML >>> 2025-02-03 14:57:11,389 - pyneuroml.pynml - INFO - Loading NeuroML2 file: ../NMC_model/NMC.NeuronML2/cADpyr231_L6_BPC_3406e7f0b2_0_0.cell.nml\n"
     ]
    },
    {
     "name": "stdout",
     "output_type": "stream",
     "text": [
      "Creating 4 cells of type cADpyr231_L6_BPC_3406e7f0b2_0_0.cell.nml\n"
     ]
    },
    {
     "name": "stderr",
     "output_type": "stream",
     "text": [
      "pyNeuroML >>> 2025-02-03 14:57:11,978 - neuroml.nml.generatedssupersuper - WARNING - <IncludeType href=\"../NMC_model/NMC.NeuronML2/cADpyr231_L6_BPC_3406e7f0b2_0_0.cell.nml\"/>\n",
      " already exists in includes. Use `force=True` to force readdition.\n",
      "pyNeuroML >>> pyneuroml.pynml - INFO - Loading NeuroML2 file: ../NMC_model/NMC.NeuronML2/cADpyr231_L6_BPC_1ed55c8860_0_0.cell.nml\n",
      "pyNeuroML >>> 2025-02-03 14:57:11,979 - pyneuroml.pynml - INFO - Loading NeuroML2 file: ../NMC_model/NMC.NeuronML2/cADpyr231_L6_BPC_1ed55c8860_0_0.cell.nml\n"
     ]
    },
    {
     "name": "stdout",
     "output_type": "stream",
     "text": [
      "Creating 2 cells of type cADpyr231_L6_BPC_1ed55c8860_0_0.cell.nml\n"
     ]
    },
    {
     "name": "stderr",
     "output_type": "stream",
     "text": [
      "pyNeuroML >>> 2025-02-03 14:57:12,398 - neuroml.nml.generatedssupersuper - WARNING - <IncludeType href=\"../NMC_model/NMC.NeuronML2/cADpyr231_L6_BPC_1ed55c8860_0_0.cell.nml\"/>\n",
      " already exists in includes. Use `force=True` to force readdition.\n",
      "pyNeuroML >>> pyneuroml.pynml - INFO - Loading NeuroML2 file: ../NMC_model/NMC.NeuronML2/cACint209_L6_BP_a6fb2fe3a5_0_0.cell.nml\n",
      "pyNeuroML >>> 2025-02-03 14:57:12,399 - pyneuroml.pynml - INFO - Loading NeuroML2 file: ../NMC_model/NMC.NeuronML2/cACint209_L6_BP_a6fb2fe3a5_0_0.cell.nml\n"
     ]
    },
    {
     "name": "stdout",
     "output_type": "stream",
     "text": [
      "Creating 1 cells of type cACint209_L6_BP_a6fb2fe3a5_0_0.cell.nml\n"
     ]
    },
    {
     "name": "stderr",
     "output_type": "stream",
     "text": [
      "pyNeuroML >>> pyneuroml.pynml - INFO - Loading NeuroML2 file: ../NMC_model/NMC.NeuronML2/bNAC219_L23_DBC_8b03af6e83_0_0.cell.nml\n",
      "pyNeuroML >>> 2025-02-03 14:57:12,612 - pyneuroml.pynml - INFO - Loading NeuroML2 file: ../NMC_model/NMC.NeuronML2/bNAC219_L23_DBC_8b03af6e83_0_0.cell.nml\n",
      "pyNeuroML >>> pyneuroml.pynml - INFO - Loading NeuroML2 file: ../NMC_model/NMC.NeuronML2/cACint209_L23_DBC_d6b3e3e96c_0_0.cell.nml\n",
      "pyNeuroML >>> 2025-02-03 14:57:12,703 - pyneuroml.pynml - INFO - Loading NeuroML2 file: ../NMC_model/NMC.NeuronML2/cACint209_L23_DBC_d6b3e3e96c_0_0.cell.nml\n",
      "pyNeuroML >>> pyneuroml.pynml - INFO - Loading NeuroML2 file: ../NMC_model/NMC.NeuronML2/cACint209_L23_DBC_4041312e0d_0_0.cell.nml\n",
      "pyNeuroML >>> 2025-02-03 14:57:12,773 - pyneuroml.pynml - INFO - Loading NeuroML2 file: ../NMC_model/NMC.NeuronML2/cACint209_L23_DBC_4041312e0d_0_0.cell.nml\n"
     ]
    },
    {
     "name": "stdout",
     "output_type": "stream",
     "text": [
      "Creating 10 cells of type bNAC219_L23_DBC_8b03af6e83_0_0.cell.nml\n",
      "Creating 5 cells of type cACint209_L23_DBC_d6b3e3e96c_0_0.cell.nml\n",
      "Creating 8 cells of type cACint209_L23_DBC_4041312e0d_0_0.cell.nml\n"
     ]
    },
    {
     "name": "stderr",
     "output_type": "stream",
     "text": [
      "pyNeuroML >>> pyneuroml.pynml - INFO - Loading NeuroML2 file: ../NMC_model/NMC.NeuronML2/bNAC219_L23_DBC_f7a3d54a01_0_0.cell.nml\n",
      "pyNeuroML >>> 2025-02-03 14:57:12,871 - pyneuroml.pynml - INFO - Loading NeuroML2 file: ../NMC_model/NMC.NeuronML2/bNAC219_L23_DBC_f7a3d54a01_0_0.cell.nml\n",
      "pyNeuroML >>> pyneuroml.pynml - INFO - Loading NeuroML2 file: ../NMC_model/NMC.NeuronML2/cACint209_L23_DBC_8060414f1a_0_0.cell.nml\n",
      "pyNeuroML >>> 2025-02-03 14:57:12,976 - pyneuroml.pynml - INFO - Loading NeuroML2 file: ../NMC_model/NMC.NeuronML2/cACint209_L23_DBC_8060414f1a_0_0.cell.nml\n"
     ]
    },
    {
     "name": "stdout",
     "output_type": "stream",
     "text": [
      "Creating 4 cells of type bNAC219_L23_DBC_f7a3d54a01_0_0.cell.nml\n",
      "Creating 8 cells of type cACint209_L23_DBC_8060414f1a_0_0.cell.nml\n"
     ]
    },
    {
     "name": "stderr",
     "output_type": "stream",
     "text": [
      "pyNeuroML >>> pyneuroml.pynml - INFO - Loading NeuroML2 file: ../NMC_model/NMC.NeuronML2/cACint209_L23_DBC_2907e308d8_0_0.cell.nml\n",
      "pyNeuroML >>> 2025-02-03 14:57:13,402 - pyneuroml.pynml - INFO - Loading NeuroML2 file: ../NMC_model/NMC.NeuronML2/cACint209_L23_DBC_2907e308d8_0_0.cell.nml\n",
      "pyNeuroML >>> pyneuroml.pynml - INFO - Loading NeuroML2 file: ../NMC_model/NMC.NeuronML2/bAC217_L23_DBC_3f985b6ce2_0_0.cell.nml\n",
      "pyNeuroML >>> 2025-02-03 14:57:13,534 - pyneuroml.pynml - INFO - Loading NeuroML2 file: ../NMC_model/NMC.NeuronML2/bAC217_L23_DBC_3f985b6ce2_0_0.cell.nml\n"
     ]
    },
    {
     "name": "stdout",
     "output_type": "stream",
     "text": [
      "Creating 9 cells of type cACint209_L23_DBC_2907e308d8_0_0.cell.nml\n",
      "Creating 3 cells of type bAC217_L23_DBC_3f985b6ce2_0_0.cell.nml\n"
     ]
    },
    {
     "name": "stderr",
     "output_type": "stream",
     "text": [
      "pyNeuroML >>> pyneuroml.pynml - INFO - Loading NeuroML2 file: ../NMC_model/NMC.NeuronML2/bNAC219_L23_DBC_1441fd5669_0_0.cell.nml\n",
      "pyNeuroML >>> 2025-02-03 14:57:13,641 - pyneuroml.pynml - INFO - Loading NeuroML2 file: ../NMC_model/NMC.NeuronML2/bNAC219_L23_DBC_1441fd5669_0_0.cell.nml\n",
      "pyNeuroML >>> pyneuroml.pynml - INFO - Loading NeuroML2 file: ../NMC_model/NMC.NeuronML2/bAC217_L23_DBC_55c1d16c8c_0_0.cell.nml\n",
      "pyNeuroML >>> 2025-02-03 14:57:13,753 - pyneuroml.pynml - INFO - Loading NeuroML2 file: ../NMC_model/NMC.NeuronML2/bAC217_L23_DBC_55c1d16c8c_0_0.cell.nml\n"
     ]
    },
    {
     "name": "stdout",
     "output_type": "stream",
     "text": [
      "Creating 3 cells of type bNAC219_L23_DBC_1441fd5669_0_0.cell.nml\n",
      "Creating 3 cells of type bAC217_L23_DBC_55c1d16c8c_0_0.cell.nml\n"
     ]
    },
    {
     "name": "stderr",
     "output_type": "stream",
     "text": [
      "pyNeuroML >>> pyneuroml.pynml - INFO - Loading NeuroML2 file: ../NMC_model/NMC.NeuronML2/bNAC219_L23_DBC_c9af6970b4_0_0.cell.nml\n",
      "pyNeuroML >>> 2025-02-03 14:57:13,873 - pyneuroml.pynml - INFO - Loading NeuroML2 file: ../NMC_model/NMC.NeuronML2/bNAC219_L23_DBC_c9af6970b4_0_0.cell.nml\n"
     ]
    },
    {
     "name": "stdout",
     "output_type": "stream",
     "text": [
      "Creating 6 cells of type bNAC219_L23_DBC_c9af6970b4_0_0.cell.nml\n"
     ]
    },
    {
     "name": "stderr",
     "output_type": "stream",
     "text": [
      "pyNeuroML >>> pyneuroml.pynml - INFO - Loading NeuroML2 file: ../NMC_model/NMC.NeuronML2/bAC217_L23_DBC_e5ab405051_0_0.cell.nml\n",
      "pyNeuroML >>> 2025-02-03 14:57:14,320 - pyneuroml.pynml - INFO - Loading NeuroML2 file: ../NMC_model/NMC.NeuronML2/bAC217_L23_DBC_e5ab405051_0_0.cell.nml\n",
      "pyNeuroML >>> pyneuroml.pynml - INFO - Loading NeuroML2 file: ../NMC_model/NMC.NeuronML2/bAC217_L23_DBC_d6bea44209_0_0.cell.nml\n",
      "pyNeuroML >>> 2025-02-03 14:57:14,426 - pyneuroml.pynml - INFO - Loading NeuroML2 file: ../NMC_model/NMC.NeuronML2/bAC217_L23_DBC_d6bea44209_0_0.cell.nml\n"
     ]
    },
    {
     "name": "stdout",
     "output_type": "stream",
     "text": [
      "Creating 1 cells of type bAC217_L23_DBC_e5ab405051_0_0.cell.nml\n",
      "Creating 1 cells of type bAC217_L23_DBC_d6bea44209_0_0.cell.nml\n"
     ]
    },
    {
     "name": "stderr",
     "output_type": "stream",
     "text": [
      "pyNeuroML >>> pyneuroml.pynml - INFO - Loading NeuroML2 file: ../NMC_model/NMC.NeuronML2/bNAC219_L23_DBC_4c3b81ee8f_0_0.cell.nml\n",
      "pyNeuroML >>> 2025-02-03 14:57:14,824 - pyneuroml.pynml - INFO - Loading NeuroML2 file: ../NMC_model/NMC.NeuronML2/bNAC219_L23_DBC_4c3b81ee8f_0_0.cell.nml\n",
      "pyNeuroML >>> pyneuroml.pynml - INFO - Loading NeuroML2 file: ../NMC_model/NMC.NeuronML2/cACint209_L23_DBC_4114c4c36c_0_0.cell.nml\n",
      "pyNeuroML >>> 2025-02-03 14:57:14,893 - pyneuroml.pynml - INFO - Loading NeuroML2 file: ../NMC_model/NMC.NeuronML2/cACint209_L23_DBC_4114c4c36c_0_0.cell.nml\n",
      "pyNeuroML >>> pyneuroml.pynml - INFO - Loading NeuroML2 file: ../NMC_model/NMC.NeuronML2/bAC217_L23_DBC_393cc5cca5_0_0.cell.nml\n",
      "pyNeuroML >>> 2025-02-03 14:57:15,004 - pyneuroml.pynml - INFO - Loading NeuroML2 file: ../NMC_model/NMC.NeuronML2/bAC217_L23_DBC_393cc5cca5_0_0.cell.nml\n"
     ]
    },
    {
     "name": "stdout",
     "output_type": "stream",
     "text": [
      "Creating 1 cells of type bNAC219_L23_DBC_4c3b81ee8f_0_0.cell.nml\n",
      "Creating 5 cells of type cACint209_L23_DBC_4114c4c36c_0_0.cell.nml\n",
      "Creating 1 cells of type bAC217_L23_DBC_393cc5cca5_0_0.cell.nml\n"
     ]
    },
    {
     "name": "stderr",
     "output_type": "stream",
     "text": [
      "pyNeuroML >>> pyneuroml.pynml - INFO - Loading NeuroML2 file: ../NMC_model/NMC.NeuronML2/bIR215_L23_DBC_8485afb4d4_0_0.cell.nml\n",
      "pyNeuroML >>> 2025-02-03 14:57:15,102 - pyneuroml.pynml - INFO - Loading NeuroML2 file: ../NMC_model/NMC.NeuronML2/bIR215_L23_DBC_8485afb4d4_0_0.cell.nml\n",
      "pyNeuroML >>> pyneuroml.pynml - INFO - Loading NeuroML2 file: ../NMC_model/NMC.NeuronML2/bNAC219_L23_BP_e8c88c2686_0_0.cell.nml\n",
      "pyNeuroML >>> 2025-02-03 14:57:15,209 - pyneuroml.pynml - INFO - Loading NeuroML2 file: ../NMC_model/NMC.NeuronML2/bNAC219_L23_BP_e8c88c2686_0_0.cell.nml\n",
      "pyNeuroML >>> pyneuroml.pynml - INFO - Loading NeuroML2 file: ../NMC_model/NMC.NeuronML2/bAC217_L23_BP_ca85cefc69_0_0.cell.nml\n",
      "pyNeuroML >>> 2025-02-03 14:57:15,235 - pyneuroml.pynml - INFO - Loading NeuroML2 file: ../NMC_model/NMC.NeuronML2/bAC217_L23_BP_ca85cefc69_0_0.cell.nml\n",
      "pyNeuroML >>> pyneuroml.pynml - INFO - Loading NeuroML2 file: ../NMC_model/NMC.NeuronML2/bNAC219_L23_BP_023bbf4d99_0_0.cell.nml\n",
      "pyNeuroML >>> 2025-02-03 14:57:15,262 - pyneuroml.pynml - INFO - Loading NeuroML2 file: ../NMC_model/NMC.NeuronML2/bNAC219_L23_BP_023bbf4d99_0_0.cell.nml\n",
      "pyNeuroML >>> pyneuroml.pynml - INFO - Loading NeuroML2 file: ../NMC_model/NMC.NeuronML2/cNAC187_L23_BP_911ebd8254_0_0.cell.nml\n",
      "pyNeuroML >>> 2025-02-03 14:57:15,286 - pyneuroml.pynml - INFO - Loading NeuroML2 file: ../NMC_model/NMC.NeuronML2/cNAC187_L23_BP_911ebd8254_0_0.cell.nml\n",
      "pyNeuroML >>> pyneuroml.pynml - INFO - Loading NeuroML2 file: ../NMC_model/NMC.NeuronML2/bNAC219_L23_BP_40adbb9f96_0_0.cell.nml\n"
     ]
    },
    {
     "name": "stdout",
     "output_type": "stream",
     "text": [
      "Creating 1 cells of type bIR215_L23_DBC_8485afb4d4_0_0.cell.nml\n",
      "Creating 1 cells of type bNAC219_L23_BP_e8c88c2686_0_0.cell.nml\n",
      "Creating 2 cells of type bAC217_L23_BP_ca85cefc69_0_0.cell.nml\n",
      "Creating 1 cells of type bNAC219_L23_BP_023bbf4d99_0_0.cell.nml\n",
      "Creating 1 cells of type cNAC187_L23_BP_911ebd8254_0_0.cell.nml\n",
      "Creating 1 cells of type bNAC219_L23_BP_40adbb9f96_0_0.cell.nml\n"
     ]
    },
    {
     "name": "stderr",
     "output_type": "stream",
     "text": [
      "pyNeuroML >>> 2025-02-03 14:57:15,311 - pyneuroml.pynml - INFO - Loading NeuroML2 file: ../NMC_model/NMC.NeuronML2/bNAC219_L23_BP_40adbb9f96_0_0.cell.nml\n",
      "pyNeuroML >>> pyneuroml.pynml - INFO - Loading NeuroML2 file: ../NMC_model/NMC.NeuronML2/bAC217_L23_BP_472b717f1f_0_0.cell.nml\n",
      "pyNeuroML >>> 2025-02-03 14:57:15,437 - pyneuroml.pynml - INFO - Loading NeuroML2 file: ../NMC_model/NMC.NeuronML2/bAC217_L23_BP_472b717f1f_0_0.cell.nml\n",
      "pyNeuroML >>> pyneuroml.pynml - INFO - Loading NeuroML2 file: ../NMC_model/NMC.NeuronML2/cNAC187_L23_BP_2004171a4c_0_0.cell.nml\n",
      "pyNeuroML >>> 2025-02-03 14:57:15,461 - pyneuroml.pynml - INFO - Loading NeuroML2 file: ../NMC_model/NMC.NeuronML2/cNAC187_L23_BP_2004171a4c_0_0.cell.nml\n",
      "pyNeuroML >>> pyneuroml.pynml - INFO - Loading NeuroML2 file: ../NMC_model/NMC.NeuronML2/cNAC187_L23_BP_a9d486b0d6_0_0.cell.nml\n",
      "pyNeuroML >>> 2025-02-03 14:57:15,487 - pyneuroml.pynml - INFO - Loading NeuroML2 file: ../NMC_model/NMC.NeuronML2/cNAC187_L23_BP_a9d486b0d6_0_0.cell.nml\n",
      "pyNeuroML >>> pyneuroml.pynml - INFO - Loading NeuroML2 file: ../NMC_model/NMC.NeuronML2/cACint209_L23_BP_ca85cefc69_0_0.cell.nml\n",
      "pyNeuroML >>> 2025-02-03 14:57:15,512 - pyneuroml.pynml - INFO - Loading NeuroML2 file: ../NMC_model/NMC.NeuronML2/cACint209_L23_BP_ca85cefc69_0_0.cell.nml\n",
      "pyNeuroML >>> pyneuroml.pynml - INFO - Loading NeuroML2 file: ../NMC_model/NMC.NeuronML2/cACint209_L23_BP_13d0a0f335_0_0.cell.nml\n",
      "pyNeuroML >>> 2025-02-03 14:57:15,540 - pyneuroml.pynml - INFO - Loading NeuroML2 file: ../NMC_model/NMC.NeuronML2/cACint209_L23_BP_13d0a0f335_0_0.cell.nml\n",
      "pyNeuroML >>> pyneuroml.pynml - INFO - Loading NeuroML2 file: ../NMC_model/NMC.NeuronML2/cACint209_L23_BP_4c3a004bfc_0_0.cell.nml\n",
      "pyNeuroML >>> 2025-02-03 14:57:15,568 - pyneuroml.pynml - INFO - Loading NeuroML2 file: ../NMC_model/NMC.NeuronML2/cACint209_L23_BP_4c3a004bfc_0_0.cell.nml\n",
      "pyNeuroML >>> pyneuroml.pynml - INFO - Loading NeuroML2 file: ../NMC_model/NMC.NeuronML2/dNAC222_L23_LBC_1b6313448d_0_0.cell.nml\n",
      "pyNeuroML >>> 2025-02-03 14:57:15,594 - pyneuroml.pynml - INFO - Loading NeuroML2 file: ../NMC_model/NMC.NeuronML2/dNAC222_L23_LBC_1b6313448d_0_0.cell.nml\n"
     ]
    },
    {
     "name": "stdout",
     "output_type": "stream",
     "text": [
      "Creating 1 cells of type bAC217_L23_BP_472b717f1f_0_0.cell.nml\n",
      "Creating 1 cells of type cNAC187_L23_BP_2004171a4c_0_0.cell.nml\n",
      "Creating 1 cells of type cNAC187_L23_BP_a9d486b0d6_0_0.cell.nml\n",
      "Creating 1 cells of type cACint209_L23_BP_ca85cefc69_0_0.cell.nml\n",
      "Creating 1 cells of type cACint209_L23_BP_13d0a0f335_0_0.cell.nml\n",
      "Creating 1 cells of type cACint209_L23_BP_4c3a004bfc_0_0.cell.nml\n",
      "Creating 7 cells of type dNAC222_L23_LBC_1b6313448d_0_0.cell.nml\n"
     ]
    },
    {
     "name": "stderr",
     "output_type": "stream",
     "text": [
      "pyNeuroML >>> pyneuroml.pynml - INFO - Loading NeuroML2 file: ../NMC_model/NMC.NeuronML2/cACint209_L23_LBC_d5fa8128ae_0_0.cell.nml\n",
      "pyNeuroML >>> 2025-02-03 14:57:15,755 - pyneuroml.pynml - INFO - Loading NeuroML2 file: ../NMC_model/NMC.NeuronML2/cACint209_L23_LBC_d5fa8128ae_0_0.cell.nml\n",
      "pyNeuroML >>> pyneuroml.pynml - INFO - Loading NeuroML2 file: ../NMC_model/NMC.NeuronML2/dNAC222_L23_LBC_df15689e81_0_0.cell.nml\n",
      "pyNeuroML >>> 2025-02-03 14:57:15,885 - pyneuroml.pynml - INFO - Loading NeuroML2 file: ../NMC_model/NMC.NeuronML2/dNAC222_L23_LBC_df15689e81_0_0.cell.nml\n"
     ]
    },
    {
     "name": "stdout",
     "output_type": "stream",
     "text": [
      "Creating 13 cells of type cACint209_L23_LBC_d5fa8128ae_0_0.cell.nml\n",
      "Creating 10 cells of type dNAC222_L23_LBC_df15689e81_0_0.cell.nml\n"
     ]
    },
    {
     "name": "stderr",
     "output_type": "stream",
     "text": [
      "pyNeuroML >>> pyneuroml.pynml - INFO - Loading NeuroML2 file: ../NMC_model/NMC.NeuronML2/bAC217_L23_LBC_aebca8458d_0_0.cell.nml\n",
      "pyNeuroML >>> 2025-02-03 14:57:16,010 - pyneuroml.pynml - INFO - Loading NeuroML2 file: ../NMC_model/NMC.NeuronML2/bAC217_L23_LBC_aebca8458d_0_0.cell.nml\n",
      "pyNeuroML >>> pyneuroml.pynml - INFO - Loading NeuroML2 file: ../NMC_model/NMC.NeuronML2/cACint209_L23_LBC_fece30537a_0_0.cell.nml\n"
     ]
    },
    {
     "name": "stdout",
     "output_type": "stream",
     "text": [
      "Creating 1 cells of type bAC217_L23_LBC_aebca8458d_0_0.cell.nml\n",
      "Creating 10 cells of type cACint209_L23_LBC_fece30537a_0_0.cell.nml\n"
     ]
    },
    {
     "name": "stderr",
     "output_type": "stream",
     "text": [
      "pyNeuroML >>> 2025-02-03 14:57:16,198 - pyneuroml.pynml - INFO - Loading NeuroML2 file: ../NMC_model/NMC.NeuronML2/cACint209_L23_LBC_fece30537a_0_0.cell.nml\n",
      "pyNeuroML >>> pyneuroml.pynml - INFO - Loading NeuroML2 file: ../NMC_model/NMC.NeuronML2/cACint209_L23_LBC_c6138544ab_0_0.cell.nml\n",
      "pyNeuroML >>> 2025-02-03 14:57:16,600 - pyneuroml.pynml - INFO - Loading NeuroML2 file: ../NMC_model/NMC.NeuronML2/cACint209_L23_LBC_c6138544ab_0_0.cell.nml\n",
      "pyNeuroML >>> pyneuroml.pynml - INFO - Loading NeuroML2 file: ../NMC_model/NMC.NeuronML2/cSTUT189_L23_LBC_91044b50b3_0_0.cell.nml\n",
      "pyNeuroML >>> 2025-02-03 14:57:16,706 - pyneuroml.pynml - INFO - Loading NeuroML2 file: ../NMC_model/NMC.NeuronML2/cSTUT189_L23_LBC_91044b50b3_0_0.cell.nml\n",
      "pyNeuroML >>> pyneuroml.pynml - INFO - Loading NeuroML2 file: ../NMC_model/NMC.NeuronML2/dNAC222_L23_LBC_19cea46eb3_0_0.cell.nml\n"
     ]
    },
    {
     "name": "stdout",
     "output_type": "stream",
     "text": [
      "Creating 7 cells of type cACint209_L23_LBC_c6138544ab_0_0.cell.nml\n",
      "Creating 1 cells of type cSTUT189_L23_LBC_91044b50b3_0_0.cell.nml\n",
      "Creating 6 cells of type dNAC222_L23_LBC_19cea46eb3_0_0.cell.nml\n"
     ]
    },
    {
     "name": "stderr",
     "output_type": "stream",
     "text": [
      "pyNeuroML >>> 2025-02-03 14:57:16,791 - pyneuroml.pynml - INFO - Loading NeuroML2 file: ../NMC_model/NMC.NeuronML2/dNAC222_L23_LBC_19cea46eb3_0_0.cell.nml\n",
      "pyNeuroML >>> pyneuroml.pynml - INFO - Loading NeuroML2 file: ../NMC_model/NMC.NeuronML2/cNAC187_L23_LBC_d3f79b893e_0_0.cell.nml\n",
      "pyNeuroML >>> 2025-02-03 14:57:17,107 - pyneuroml.pynml - INFO - Loading NeuroML2 file: ../NMC_model/NMC.NeuronML2/cNAC187_L23_LBC_d3f79b893e_0_0.cell.nml\n",
      "pyNeuroML >>> pyneuroml.pynml - INFO - Loading NeuroML2 file: ../NMC_model/NMC.NeuronML2/cACint209_L23_LBC_10ecac904b_0_0.cell.nml\n",
      "pyNeuroML >>> 2025-02-03 14:57:17,195 - pyneuroml.pynml - INFO - Loading NeuroML2 file: ../NMC_model/NMC.NeuronML2/cACint209_L23_LBC_10ecac904b_0_0.cell.nml\n",
      "pyNeuroML >>> pyneuroml.pynml - INFO - Loading NeuroML2 file: ../NMC_model/NMC.NeuronML2/dNAC222_L23_LBC_3872d55b42_0_0.cell.nml\n"
     ]
    },
    {
     "name": "stdout",
     "output_type": "stream",
     "text": [
      "Creating 9 cells of type cNAC187_L23_LBC_d3f79b893e_0_0.cell.nml\n",
      "Creating 12 cells of type cACint209_L23_LBC_10ecac904b_0_0.cell.nml\n",
      "Creating 11 cells of type dNAC222_L23_LBC_3872d55b42_0_0.cell.nml\n"
     ]
    },
    {
     "name": "stderr",
     "output_type": "stream",
     "text": [
      "pyNeuroML >>> 2025-02-03 14:57:17,290 - pyneuroml.pynml - INFO - Loading NeuroML2 file: ../NMC_model/NMC.NeuronML2/dNAC222_L23_LBC_3872d55b42_0_0.cell.nml\n",
      "pyNeuroML >>> pyneuroml.pynml - INFO - Loading NeuroML2 file: ../NMC_model/NMC.NeuronML2/bAC217_L23_LBC_4738b5c12c_0_0.cell.nml\n",
      "pyNeuroML >>> 2025-02-03 14:57:17,371 - pyneuroml.pynml - INFO - Loading NeuroML2 file: ../NMC_model/NMC.NeuronML2/bAC217_L23_LBC_4738b5c12c_0_0.cell.nml\n",
      "pyNeuroML >>> pyneuroml.pynml - INFO - Loading NeuroML2 file: ../NMC_model/NMC.NeuronML2/bNAC219_L23_LBC_b35128281c_0_0.cell.nml\n",
      "pyNeuroML >>> 2025-02-03 14:57:17,459 - pyneuroml.pynml - INFO - Loading NeuroML2 file: ../NMC_model/NMC.NeuronML2/bNAC219_L23_LBC_b35128281c_0_0.cell.nml\n"
     ]
    },
    {
     "name": "stdout",
     "output_type": "stream",
     "text": [
      "Creating 3 cells of type bAC217_L23_LBC_4738b5c12c_0_0.cell.nml\n",
      "Creating 10 cells of type bNAC219_L23_LBC_b35128281c_0_0.cell.nml\n"
     ]
    },
    {
     "name": "stderr",
     "output_type": "stream",
     "text": [
      "pyNeuroML >>> pyneuroml.pynml - INFO - Loading NeuroML2 file: ../NMC_model/NMC.NeuronML2/bNAC219_L23_LBC_936c35a9e1_0_0.cell.nml\n",
      "pyNeuroML >>> 2025-02-03 14:57:17,632 - pyneuroml.pynml - INFO - Loading NeuroML2 file: ../NMC_model/NMC.NeuronML2/bNAC219_L23_LBC_936c35a9e1_0_0.cell.nml\n",
      "pyNeuroML >>> pyneuroml.pynml - INFO - Loading NeuroML2 file: ../NMC_model/NMC.NeuronML2/cNAC187_L23_LBC_95f37b59ec_0_0.cell.nml\n",
      "pyNeuroML >>> 2025-02-03 14:57:17,687 - pyneuroml.pynml - INFO - Loading NeuroML2 file: ../NMC_model/NMC.NeuronML2/cNAC187_L23_LBC_95f37b59ec_0_0.cell.nml\n"
     ]
    },
    {
     "name": "stdout",
     "output_type": "stream",
     "text": [
      "Creating 6 cells of type bNAC219_L23_LBC_936c35a9e1_0_0.cell.nml\n",
      "Creating 10 cells of type cNAC187_L23_LBC_95f37b59ec_0_0.cell.nml\n"
     ]
    },
    {
     "name": "stderr",
     "output_type": "stream",
     "text": [
      "pyNeuroML >>> pyneuroml.pynml - INFO - Loading NeuroML2 file: ../NMC_model/NMC.NeuronML2/bAC217_L23_LBC_361cffb4c6_0_0.cell.nml\n",
      "pyNeuroML >>> 2025-02-03 14:57:17,845 - pyneuroml.pynml - INFO - Loading NeuroML2 file: ../NMC_model/NMC.NeuronML2/bAC217_L23_LBC_361cffb4c6_0_0.cell.nml\n",
      "pyNeuroML >>> pyneuroml.pynml - INFO - Loading NeuroML2 file: ../NMC_model/NMC.NeuronML2/cNAC187_L23_LBC_d031f0be22_0_0.cell.nml\n",
      "pyNeuroML >>> 2025-02-03 14:57:17,954 - pyneuroml.pynml - INFO - Loading NeuroML2 file: ../NMC_model/NMC.NeuronML2/cNAC187_L23_LBC_d031f0be22_0_0.cell.nml\n",
      "pyNeuroML >>> pyneuroml.pynml - INFO - Loading NeuroML2 file: ../NMC_model/NMC.NeuronML2/cACint209_L23_LBC_78b571a886_0_0.cell.nml\n"
     ]
    },
    {
     "name": "stdout",
     "output_type": "stream",
     "text": [
      "Creating 5 cells of type bAC217_L23_LBC_361cffb4c6_0_0.cell.nml\n",
      "Creating 10 cells of type cNAC187_L23_LBC_d031f0be22_0_0.cell.nml\n",
      "Creating 14 cells of type cACint209_L23_LBC_78b571a886_0_0.cell.nml\n"
     ]
    },
    {
     "name": "stderr",
     "output_type": "stream",
     "text": [
      "pyNeuroML >>> 2025-02-03 14:57:18,036 - pyneuroml.pynml - INFO - Loading NeuroML2 file: ../NMC_model/NMC.NeuronML2/cACint209_L23_LBC_78b571a886_0_0.cell.nml\n",
      "pyNeuroML >>> pyneuroml.pynml - INFO - Loading NeuroML2 file: ../NMC_model/NMC.NeuronML2/bAC217_L23_LBC_c5ee2b20c2_0_0.cell.nml\n",
      "pyNeuroML >>> 2025-02-03 14:57:18,123 - pyneuroml.pynml - INFO - Loading NeuroML2 file: ../NMC_model/NMC.NeuronML2/bAC217_L23_LBC_c5ee2b20c2_0_0.cell.nml\n"
     ]
    },
    {
     "name": "stdout",
     "output_type": "stream",
     "text": [
      "Creating 2 cells of type bAC217_L23_LBC_c5ee2b20c2_0_0.cell.nml\n"
     ]
    },
    {
     "name": "stderr",
     "output_type": "stream",
     "text": [
      "pyNeuroML >>> pyneuroml.pynml - INFO - Loading NeuroML2 file: ../NMC_model/NMC.NeuronML2/bNAC219_L23_LBC_fe2122c75c_0_0.cell.nml\n",
      "pyNeuroML >>> 2025-02-03 14:57:18,367 - pyneuroml.pynml - INFO - Loading NeuroML2 file: ../NMC_model/NMC.NeuronML2/bNAC219_L23_LBC_fe2122c75c_0_0.cell.nml\n",
      "pyNeuroML >>> pyneuroml.pynml - INFO - Loading NeuroML2 file: ../NMC_model/NMC.NeuronML2/cSTUT189_L23_LBC_e6e8f83407_0_0.cell.nml\n",
      "pyNeuroML >>> 2025-02-03 14:57:18,490 - pyneuroml.pynml - INFO - Loading NeuroML2 file: ../NMC_model/NMC.NeuronML2/cSTUT189_L23_LBC_e6e8f83407_0_0.cell.nml\n"
     ]
    },
    {
     "name": "stdout",
     "output_type": "stream",
     "text": [
      "Creating 1 cells of type bNAC219_L23_LBC_fe2122c75c_0_0.cell.nml\n",
      "Creating 1 cells of type cSTUT189_L23_LBC_e6e8f83407_0_0.cell.nml\n"
     ]
    },
    {
     "name": "stderr",
     "output_type": "stream",
     "text": [
      "pyNeuroML >>> pyneuroml.pynml - INFO - Loading NeuroML2 file: ../NMC_model/NMC.NeuronML2/cNAC187_L23_LBC_df15689e81_0_0.cell.nml\n",
      "pyNeuroML >>> 2025-02-03 14:57:18,616 - pyneuroml.pynml - INFO - Loading NeuroML2 file: ../NMC_model/NMC.NeuronML2/cNAC187_L23_LBC_df15689e81_0_0.cell.nml\n",
      "pyNeuroML >>> pyneuroml.pynml - INFO - Loading NeuroML2 file: ../NMC_model/NMC.NeuronML2/bNAC219_L23_LBC_97118d2391_0_0.cell.nml\n",
      "pyNeuroML >>> 2025-02-03 14:57:18,738 - pyneuroml.pynml - INFO - Loading NeuroML2 file: ../NMC_model/NMC.NeuronML2/bNAC219_L23_LBC_97118d2391_0_0.cell.nml\n"
     ]
    },
    {
     "name": "stdout",
     "output_type": "stream",
     "text": [
      "Creating 12 cells of type cNAC187_L23_LBC_df15689e81_0_0.cell.nml\n",
      "Creating 7 cells of type bNAC219_L23_LBC_97118d2391_0_0.cell.nml\n"
     ]
    },
    {
     "name": "stderr",
     "output_type": "stream",
     "text": [
      "pyNeuroML >>> pyneuroml.pynml - INFO - Loading NeuroML2 file: ../NMC_model/NMC.NeuronML2/cNAC187_L23_LBC_f39fa9100b_0_0.cell.nml\n",
      "pyNeuroML >>> 2025-02-03 14:57:18,890 - pyneuroml.pynml - INFO - Loading NeuroML2 file: ../NMC_model/NMC.NeuronML2/cNAC187_L23_LBC_f39fa9100b_0_0.cell.nml\n",
      "pyNeuroML >>> pyneuroml.pynml - INFO - Loading NeuroML2 file: ../NMC_model/NMC.NeuronML2/bAC217_L23_LBC_72e65525d3_0_0.cell.nml\n",
      "pyNeuroML >>> 2025-02-03 14:57:18,947 - pyneuroml.pynml - INFO - Loading NeuroML2 file: ../NMC_model/NMC.NeuronML2/bAC217_L23_LBC_72e65525d3_0_0.cell.nml\n"
     ]
    },
    {
     "name": "stdout",
     "output_type": "stream",
     "text": [
      "Creating 3 cells of type cNAC187_L23_LBC_f39fa9100b_0_0.cell.nml\n",
      "Creating 2 cells of type bAC217_L23_LBC_72e65525d3_0_0.cell.nml\n"
     ]
    },
    {
     "name": "stderr",
     "output_type": "stream",
     "text": [
      "pyNeuroML >>> pyneuroml.pynml - INFO - Loading NeuroML2 file: ../NMC_model/NMC.NeuronML2/bNAC219_L23_LBC_91044b50b3_0_0.cell.nml\n",
      "pyNeuroML >>> 2025-02-03 14:57:19,247 - pyneuroml.pynml - INFO - Loading NeuroML2 file: ../NMC_model/NMC.NeuronML2/bNAC219_L23_LBC_91044b50b3_0_0.cell.nml\n",
      "pyNeuroML >>> pyneuroml.pynml - INFO - Loading NeuroML2 file: ../NMC_model/NMC.NeuronML2/dNAC222_L23_LBC_936c35a9e1_0_0.cell.nml\n",
      "pyNeuroML >>> 2025-02-03 14:57:19,326 - pyneuroml.pynml - INFO - Loading NeuroML2 file: ../NMC_model/NMC.NeuronML2/dNAC222_L23_LBC_936c35a9e1_0_0.cell.nml\n",
      "pyNeuroML >>> pyneuroml.pynml - INFO - Loading NeuroML2 file: ../NMC_model/NMC.NeuronML2/bNAC219_L23_NGC_d600988347_0_0.cell.nml\n",
      "pyNeuroML >>> 2025-02-03 14:57:19,383 - pyneuroml.pynml - INFO - Loading NeuroML2 file: ../NMC_model/NMC.NeuronML2/bNAC219_L23_NGC_d600988347_0_0.cell.nml\n"
     ]
    },
    {
     "name": "stdout",
     "output_type": "stream",
     "text": [
      "Creating 3 cells of type bNAC219_L23_LBC_91044b50b3_0_0.cell.nml\n",
      "Creating 3 cells of type dNAC222_L23_LBC_936c35a9e1_0_0.cell.nml\n",
      "Creating 1 cells of type bNAC219_L23_NGC_d600988347_0_0.cell.nml\n"
     ]
    },
    {
     "name": "stderr",
     "output_type": "stream",
     "text": [
      "pyNeuroML >>> pyneuroml.pynml - INFO - Loading NeuroML2 file: ../NMC_model/NMC.NeuronML2/cNAC187_L23_NGC_e831b433a9_0_0.cell.nml\n",
      "pyNeuroML >>> 2025-02-03 14:57:19,540 - pyneuroml.pynml - INFO - Loading NeuroML2 file: ../NMC_model/NMC.NeuronML2/cNAC187_L23_NGC_e831b433a9_0_0.cell.nml\n",
      "pyNeuroML >>> pyneuroml.pynml - INFO - Loading NeuroML2 file: ../NMC_model/NMC.NeuronML2/cNAC187_L23_NGC_d79ffc246d_0_0.cell.nml\n",
      "pyNeuroML >>> 2025-02-03 14:57:19,697 - pyneuroml.pynml - INFO - Loading NeuroML2 file: ../NMC_model/NMC.NeuronML2/cNAC187_L23_NGC_d79ffc246d_0_0.cell.nml\n"
     ]
    },
    {
     "name": "stdout",
     "output_type": "stream",
     "text": [
      "Creating 1 cells of type cNAC187_L23_NGC_e831b433a9_0_0.cell.nml\n",
      "Creating 2 cells of type cNAC187_L23_NGC_d79ffc246d_0_0.cell.nml\n"
     ]
    },
    {
     "name": "stderr",
     "output_type": "stream",
     "text": [
      "pyNeuroML >>> pyneuroml.pynml - INFO - Loading NeuroML2 file: ../NMC_model/NMC.NeuronML2/bNAC219_L23_NGC_8d6df1ab35_0_0.cell.nml\n",
      "pyNeuroML >>> 2025-02-03 14:57:19,921 - pyneuroml.pynml - INFO - Loading NeuroML2 file: ../NMC_model/NMC.NeuronML2/bNAC219_L23_NGC_8d6df1ab35_0_0.cell.nml\n",
      "pyNeuroML >>> pyneuroml.pynml - INFO - Loading NeuroML2 file: ../NMC_model/NMC.NeuronML2/cACint209_L23_NGC_be2ffb9c7d_0_0.cell.nml\n",
      "pyNeuroML >>> 2025-02-03 14:57:20,049 - pyneuroml.pynml - INFO - Loading NeuroML2 file: ../NMC_model/NMC.NeuronML2/cACint209_L23_NGC_be2ffb9c7d_0_0.cell.nml\n"
     ]
    },
    {
     "name": "stdout",
     "output_type": "stream",
     "text": [
      "Creating 1 cells of type bNAC219_L23_NGC_8d6df1ab35_0_0.cell.nml\n",
      "Creating 4 cells of type cACint209_L23_NGC_be2ffb9c7d_0_0.cell.nml\n"
     ]
    },
    {
     "name": "stderr",
     "output_type": "stream",
     "text": [
      "pyNeuroML >>> pyneuroml.pynml - INFO - Loading NeuroML2 file: ../NMC_model/NMC.NeuronML2/bNAC219_L23_NGC_1c20d72451_0_0.cell.nml\n",
      "pyNeuroML >>> 2025-02-03 14:57:20,187 - pyneuroml.pynml - INFO - Loading NeuroML2 file: ../NMC_model/NMC.NeuronML2/bNAC219_L23_NGC_1c20d72451_0_0.cell.nml\n",
      "pyNeuroML >>> pyneuroml.pynml - INFO - Loading NeuroML2 file: ../NMC_model/NMC.NeuronML2/cACint209_L23_NGC_8a9ea95bee_0_0.cell.nml\n",
      "pyNeuroML >>> 2025-02-03 14:57:20,324 - pyneuroml.pynml - INFO - Loading NeuroML2 file: ../NMC_model/NMC.NeuronML2/cACint209_L23_NGC_8a9ea95bee_0_0.cell.nml\n"
     ]
    },
    {
     "name": "stdout",
     "output_type": "stream",
     "text": [
      "Creating 2 cells of type bNAC219_L23_NGC_1c20d72451_0_0.cell.nml\n",
      "Creating 1 cells of type cACint209_L23_NGC_8a9ea95bee_0_0.cell.nml\n"
     ]
    },
    {
     "name": "stderr",
     "output_type": "stream",
     "text": [
      "pyNeuroML >>> pyneuroml.pynml - INFO - Loading NeuroML2 file: ../NMC_model/NMC.NeuronML2/cACint209_L23_NGC_5d66592f99_0_0.cell.nml\n",
      "pyNeuroML >>> 2025-02-03 14:57:20,545 - pyneuroml.pynml - INFO - Loading NeuroML2 file: ../NMC_model/NMC.NeuronML2/cACint209_L23_NGC_5d66592f99_0_0.cell.nml\n",
      "pyNeuroML >>> pyneuroml.pynml - INFO - Loading NeuroML2 file: ../NMC_model/NMC.NeuronML2/cNAC187_L23_NGC_4cc11d30bc_0_0.cell.nml\n",
      "pyNeuroML >>> 2025-02-03 14:57:20,690 - pyneuroml.pynml - INFO - Loading NeuroML2 file: ../NMC_model/NMC.NeuronML2/cNAC187_L23_NGC_4cc11d30bc_0_0.cell.nml\n"
     ]
    },
    {
     "name": "stdout",
     "output_type": "stream",
     "text": [
      "Creating 3 cells of type cACint209_L23_NGC_5d66592f99_0_0.cell.nml\n",
      "Creating 2 cells of type cNAC187_L23_NGC_4cc11d30bc_0_0.cell.nml\n"
     ]
    },
    {
     "name": "stderr",
     "output_type": "stream",
     "text": [
      "pyNeuroML >>> pyneuroml.pynml - INFO - Loading NeuroML2 file: ../NMC_model/NMC.NeuronML2/cACint209_L23_NGC_ec67e9ba9b_0_0.cell.nml\n",
      "pyNeuroML >>> 2025-02-03 14:57:20,838 - pyneuroml.pynml - INFO - Loading NeuroML2 file: ../NMC_model/NMC.NeuronML2/cACint209_L23_NGC_ec67e9ba9b_0_0.cell.nml\n",
      "pyNeuroML >>> pyneuroml.pynml - INFO - Loading NeuroML2 file: ../NMC_model/NMC.NeuronML2/bNAC219_L23_NGC_025b2126a1_0_0.cell.nml\n",
      "pyNeuroML >>> 2025-02-03 14:57:20,979 - pyneuroml.pynml - INFO - Loading NeuroML2 file: ../NMC_model/NMC.NeuronML2/bNAC219_L23_NGC_025b2126a1_0_0.cell.nml\n"
     ]
    },
    {
     "name": "stdout",
     "output_type": "stream",
     "text": [
      "Creating 3 cells of type cACint209_L23_NGC_ec67e9ba9b_0_0.cell.nml\n",
      "Creating 1 cells of type bNAC219_L23_NGC_025b2126a1_0_0.cell.nml\n"
     ]
    },
    {
     "name": "stderr",
     "output_type": "stream",
     "text": [
      "pyNeuroML >>> pyneuroml.pynml - INFO - Loading NeuroML2 file: ../NMC_model/NMC.NeuronML2/cNAC187_L23_NGC_2477403bcb_0_0.cell.nml\n",
      "pyNeuroML >>> 2025-02-03 14:57:21,207 - pyneuroml.pynml - INFO - Loading NeuroML2 file: ../NMC_model/NMC.NeuronML2/cNAC187_L23_NGC_2477403bcb_0_0.cell.nml\n",
      "pyNeuroML >>> pyneuroml.pynml - INFO - Loading NeuroML2 file: ../NMC_model/NMC.NeuronML2/cNAC187_L23_NBC_7f97b8e83f_0_0.cell.nml\n",
      "pyNeuroML >>> 2025-02-03 14:57:21,351 - pyneuroml.pynml - INFO - Loading NeuroML2 file: ../NMC_model/NMC.NeuronML2/cNAC187_L23_NBC_7f97b8e83f_0_0.cell.nml\n"
     ]
    },
    {
     "name": "stdout",
     "output_type": "stream",
     "text": [
      "Creating 1 cells of type cNAC187_L23_NGC_2477403bcb_0_0.cell.nml\n",
      "Creating 6 cells of type cNAC187_L23_NBC_7f97b8e83f_0_0.cell.nml\n"
     ]
    },
    {
     "name": "stderr",
     "output_type": "stream",
     "text": [
      "pyNeuroML >>> pyneuroml.pynml - INFO - Loading NeuroML2 file: ../NMC_model/NMC.NeuronML2/cACint209_L23_NBC_2d5f9c7a57_0_0.cell.nml\n",
      "pyNeuroML >>> 2025-02-03 14:57:21,436 - pyneuroml.pynml - INFO - Loading NeuroML2 file: ../NMC_model/NMC.NeuronML2/cACint209_L23_NBC_2d5f9c7a57_0_0.cell.nml\n",
      "pyNeuroML >>> pyneuroml.pynml - INFO - Loading NeuroML2 file: ../NMC_model/NMC.NeuronML2/dNAC222_L23_NBC_df01e73cd3_0_0.cell.nml\n",
      "pyNeuroML >>> 2025-02-03 14:57:21,525 - pyneuroml.pynml - INFO - Loading NeuroML2 file: ../NMC_model/NMC.NeuronML2/dNAC222_L23_NBC_df01e73cd3_0_0.cell.nml\n"
     ]
    },
    {
     "name": "stdout",
     "output_type": "stream",
     "text": [
      "Creating 13 cells of type cACint209_L23_NBC_2d5f9c7a57_0_0.cell.nml\n",
      "Creating 5 cells of type dNAC222_L23_NBC_df01e73cd3_0_0.cell.nml\n"
     ]
    },
    {
     "name": "stderr",
     "output_type": "stream",
     "text": [
      "pyNeuroML >>> pyneuroml.pynml - INFO - Loading NeuroML2 file: ../NMC_model/NMC.NeuronML2/cACint209_L23_NBC_ad562fc72b_0_0.cell.nml\n",
      "pyNeuroML >>> 2025-02-03 14:57:21,661 - pyneuroml.pynml - INFO - Loading NeuroML2 file: ../NMC_model/NMC.NeuronML2/cACint209_L23_NBC_ad562fc72b_0_0.cell.nml\n",
      "pyNeuroML >>> pyneuroml.pynml - INFO - Loading NeuroML2 file: ../NMC_model/NMC.NeuronML2/cACint209_L23_NBC_7e8781b0f2_0_0.cell.nml\n",
      "pyNeuroML >>> 2025-02-03 14:57:21,741 - pyneuroml.pynml - INFO - Loading NeuroML2 file: ../NMC_model/NMC.NeuronML2/cACint209_L23_NBC_7e8781b0f2_0_0.cell.nml\n"
     ]
    },
    {
     "name": "stdout",
     "output_type": "stream",
     "text": [
      "Creating 10 cells of type cACint209_L23_NBC_ad562fc72b_0_0.cell.nml\n",
      "Creating 11 cells of type cACint209_L23_NBC_7e8781b0f2_0_0.cell.nml\n"
     ]
    },
    {
     "name": "stderr",
     "output_type": "stream",
     "text": [
      "pyNeuroML >>> pyneuroml.pynml - INFO - Loading NeuroML2 file: ../NMC_model/NMC.NeuronML2/cNAC187_L23_NBC_1bb1c095e5_0_0.cell.nml\n",
      "pyNeuroML >>> 2025-02-03 14:57:21,983 - pyneuroml.pynml - INFO - Loading NeuroML2 file: ../NMC_model/NMC.NeuronML2/cNAC187_L23_NBC_1bb1c095e5_0_0.cell.nml\n",
      "pyNeuroML >>> pyneuroml.pynml - INFO - Loading NeuroML2 file: ../NMC_model/NMC.NeuronML2/bNAC219_L23_NBC_ff73785e1d_0_0.cell.nml\n",
      "pyNeuroML >>> 2025-02-03 14:57:22,112 - pyneuroml.pynml - INFO - Loading NeuroML2 file: ../NMC_model/NMC.NeuronML2/bNAC219_L23_NBC_ff73785e1d_0_0.cell.nml\n"
     ]
    },
    {
     "name": "stdout",
     "output_type": "stream",
     "text": [
      "Creating 4 cells of type cNAC187_L23_NBC_1bb1c095e5_0_0.cell.nml\n",
      "Creating 2 cells of type bNAC219_L23_NBC_ff73785e1d_0_0.cell.nml\n",
      "Creating 2 cells of type bAC217_L23_NBC_711b6a838e_0_0.cell.nml\n"
     ]
    },
    {
     "name": "stderr",
     "output_type": "stream",
     "text": [
      "pyNeuroML >>> pyneuroml.pynml - INFO - Loading NeuroML2 file: ../NMC_model/NMC.NeuronML2/bAC217_L23_NBC_711b6a838e_0_0.cell.nml\n",
      "pyNeuroML >>> 2025-02-03 14:57:22,191 - pyneuroml.pynml - INFO - Loading NeuroML2 file: ../NMC_model/NMC.NeuronML2/bAC217_L23_NBC_711b6a838e_0_0.cell.nml\n",
      "pyNeuroML >>> pyneuroml.pynml - INFO - Loading NeuroML2 file: ../NMC_model/NMC.NeuronML2/bNAC219_L23_NBC_01d2e3caa6_0_0.cell.nml\n",
      "pyNeuroML >>> 2025-02-03 14:57:22,316 - pyneuroml.pynml - INFO - Loading NeuroML2 file: ../NMC_model/NMC.NeuronML2/bNAC219_L23_NBC_01d2e3caa6_0_0.cell.nml\n",
      "pyNeuroML >>> pyneuroml.pynml - INFO - Loading NeuroML2 file: ../NMC_model/NMC.NeuronML2/dNAC222_L23_NBC_2f216c0d74_0_0.cell.nml\n",
      "pyNeuroML >>> 2025-02-03 14:57:22,458 - pyneuroml.pynml - INFO - Loading NeuroML2 file: ../NMC_model/NMC.NeuronML2/dNAC222_L23_NBC_2f216c0d74_0_0.cell.nml\n"
     ]
    },
    {
     "name": "stdout",
     "output_type": "stream",
     "text": [
      "Creating 1 cells of type bNAC219_L23_NBC_01d2e3caa6_0_0.cell.nml\n",
      "Creating 3 cells of type dNAC222_L23_NBC_2f216c0d74_0_0.cell.nml\n"
     ]
    },
    {
     "name": "stderr",
     "output_type": "stream",
     "text": [
      "pyNeuroML >>> pyneuroml.pynml - INFO - Loading NeuroML2 file: ../NMC_model/NMC.NeuronML2/cACint209_L23_NBC_2f018ce735_0_0.cell.nml\n",
      "pyNeuroML >>> 2025-02-03 14:57:22,678 - pyneuroml.pynml - INFO - Loading NeuroML2 file: ../NMC_model/NMC.NeuronML2/cACint209_L23_NBC_2f018ce735_0_0.cell.nml\n",
      "pyNeuroML >>> pyneuroml.pynml - INFO - Loading NeuroML2 file: ../NMC_model/NMC.NeuronML2/dNAC222_L23_NBC_ec4aba2351_0_0.cell.nml\n",
      "pyNeuroML >>> 2025-02-03 14:57:22,779 - pyneuroml.pynml - INFO - Loading NeuroML2 file: ../NMC_model/NMC.NeuronML2/dNAC222_L23_NBC_ec4aba2351_0_0.cell.nml\n",
      "pyNeuroML >>> pyneuroml.pynml - INFO - Loading NeuroML2 file: ../NMC_model/NMC.NeuronML2/cACint209_L23_NBC_f831ad7a1f_0_0.cell.nml\n"
     ]
    },
    {
     "name": "stdout",
     "output_type": "stream",
     "text": [
      "Creating 8 cells of type cACint209_L23_NBC_2f018ce735_0_0.cell.nml\n",
      "Creating 2 cells of type dNAC222_L23_NBC_ec4aba2351_0_0.cell.nml\n",
      "Creating 12 cells of type cACint209_L23_NBC_f831ad7a1f_0_0.cell.nml\n"
     ]
    },
    {
     "name": "stderr",
     "output_type": "stream",
     "text": [
      "pyNeuroML >>> 2025-02-03 14:57:22,866 - pyneuroml.pynml - INFO - Loading NeuroML2 file: ../NMC_model/NMC.NeuronML2/cACint209_L23_NBC_f831ad7a1f_0_0.cell.nml\n",
      "pyNeuroML >>> pyneuroml.pynml - INFO - Loading NeuroML2 file: ../NMC_model/NMC.NeuronML2/cNAC187_L23_NBC_9004ab9cec_0_0.cell.nml\n",
      "pyNeuroML >>> 2025-02-03 14:57:23,005 - pyneuroml.pynml - INFO - Loading NeuroML2 file: ../NMC_model/NMC.NeuronML2/cNAC187_L23_NBC_9004ab9cec_0_0.cell.nml\n",
      "pyNeuroML >>> pyneuroml.pynml - INFO - Loading NeuroML2 file: ../NMC_model/NMC.NeuronML2/bNAC219_L23_NBC_68416e1f93_0_0.cell.nml\n",
      "pyNeuroML >>> 2025-02-03 14:57:23,103 - pyneuroml.pynml - INFO - Loading NeuroML2 file: ../NMC_model/NMC.NeuronML2/bNAC219_L23_NBC_68416e1f93_0_0.cell.nml\n",
      "pyNeuroML >>> pyneuroml.pynml - INFO - Loading NeuroML2 file: ../NMC_model/NMC.NeuronML2/cNAC187_L23_NBC_9d37c4b1f8_0_0.cell.nml\n"
     ]
    },
    {
     "name": "stdout",
     "output_type": "stream",
     "text": [
      "Creating 3 cells of type cNAC187_L23_NBC_9004ab9cec_0_0.cell.nml\n",
      "Creating 4 cells of type bNAC219_L23_NBC_68416e1f93_0_0.cell.nml\n",
      "Creating 3 cells of type cNAC187_L23_NBC_9d37c4b1f8_0_0.cell.nml\n"
     ]
    },
    {
     "name": "stderr",
     "output_type": "stream",
     "text": [
      "pyNeuroML >>> 2025-02-03 14:57:23,192 - pyneuroml.pynml - INFO - Loading NeuroML2 file: ../NMC_model/NMC.NeuronML2/cNAC187_L23_NBC_9d37c4b1f8_0_0.cell.nml\n",
      "pyNeuroML >>> pyneuroml.pynml - INFO - Loading NeuroML2 file: ../NMC_model/NMC.NeuronML2/bNAC219_L23_NBC_d27deeaf6a_0_0.cell.nml\n",
      "pyNeuroML >>> 2025-02-03 14:57:23,382 - pyneuroml.pynml - INFO - Loading NeuroML2 file: ../NMC_model/NMC.NeuronML2/bNAC219_L23_NBC_d27deeaf6a_0_0.cell.nml\n",
      "pyNeuroML >>> pyneuroml.pynml - INFO - Loading NeuroML2 file: ../NMC_model/NMC.NeuronML2/bAC217_L23_NBC_dc5e34b933_0_0.cell.nml\n",
      "pyNeuroML >>> 2025-02-03 14:57:23,476 - pyneuroml.pynml - INFO - Loading NeuroML2 file: ../NMC_model/NMC.NeuronML2/bAC217_L23_NBC_dc5e34b933_0_0.cell.nml\n"
     ]
    },
    {
     "name": "stdout",
     "output_type": "stream",
     "text": [
      "Creating 3 cells of type bNAC219_L23_NBC_d27deeaf6a_0_0.cell.nml\n",
      "Creating 1 cells of type bAC217_L23_NBC_dc5e34b933_0_0.cell.nml\n"
     ]
    },
    {
     "name": "stderr",
     "output_type": "stream",
     "text": [
      "pyNeuroML >>> pyneuroml.pynml - INFO - Loading NeuroML2 file: ../NMC_model/NMC.NeuronML2/dNAC222_L23_NBC_46256e0cca_0_0.cell.nml\n",
      "pyNeuroML >>> 2025-02-03 14:57:23,631 - pyneuroml.pynml - INFO - Loading NeuroML2 file: ../NMC_model/NMC.NeuronML2/dNAC222_L23_NBC_46256e0cca_0_0.cell.nml\n",
      "pyNeuroML >>> pyneuroml.pynml - INFO - Loading NeuroML2 file: ../NMC_model/NMC.NeuronML2/bAC217_L23_NBC_da24c6bffc_0_0.cell.nml\n",
      "pyNeuroML >>> 2025-02-03 14:57:23,778 - pyneuroml.pynml - INFO - Loading NeuroML2 file: ../NMC_model/NMC.NeuronML2/bAC217_L23_NBC_da24c6bffc_0_0.cell.nml\n"
     ]
    },
    {
     "name": "stdout",
     "output_type": "stream",
     "text": [
      "Creating 5 cells of type dNAC222_L23_NBC_46256e0cca_0_0.cell.nml\n",
      "Creating 1 cells of type bAC217_L23_NBC_da24c6bffc_0_0.cell.nml\n"
     ]
    },
    {
     "name": "stderr",
     "output_type": "stream",
     "text": [
      "pyNeuroML >>> pyneuroml.pynml - INFO - Loading NeuroML2 file: ../NMC_model/NMC.NeuronML2/bNAC219_L23_NBC_6561f8d865_0_0.cell.nml\n",
      "pyNeuroML >>> 2025-02-03 14:57:23,908 - pyneuroml.pynml - INFO - Loading NeuroML2 file: ../NMC_model/NMC.NeuronML2/bNAC219_L23_NBC_6561f8d865_0_0.cell.nml\n"
     ]
    },
    {
     "name": "stdout",
     "output_type": "stream",
     "text": [
      "Creating 3 cells of type bNAC219_L23_NBC_6561f8d865_0_0.cell.nml\n"
     ]
    },
    {
     "name": "stderr",
     "output_type": "stream",
     "text": [
      "pyNeuroML >>> pyneuroml.pynml - INFO - Loading NeuroML2 file: ../NMC_model/NMC.NeuronML2/cNAC187_L23_NBC_98c1faeec7_0_0.cell.nml\n",
      "pyNeuroML >>> 2025-02-03 14:57:24,118 - pyneuroml.pynml - INFO - Loading NeuroML2 file: ../NMC_model/NMC.NeuronML2/cNAC187_L23_NBC_98c1faeec7_0_0.cell.nml\n",
      "pyNeuroML >>> pyneuroml.pynml - INFO - Loading NeuroML2 file: ../NMC_model/NMC.NeuronML2/bAC217_L23_NBC_421c200e4e_0_0.cell.nml\n",
      "pyNeuroML >>> 2025-02-03 14:57:24,199 - pyneuroml.pynml - INFO - Loading NeuroML2 file: ../NMC_model/NMC.NeuronML2/bAC217_L23_NBC_421c200e4e_0_0.cell.nml\n"
     ]
    },
    {
     "name": "stdout",
     "output_type": "stream",
     "text": [
      "Creating 1 cells of type cNAC187_L23_NBC_98c1faeec7_0_0.cell.nml\n",
      "Creating 1 cells of type bAC217_L23_NBC_421c200e4e_0_0.cell.nml\n"
     ]
    },
    {
     "name": "stderr",
     "output_type": "stream",
     "text": [
      "pyNeuroML >>> pyneuroml.pynml - INFO - Loading NeuroML2 file: ../NMC_model/NMC.NeuronML2/dNAC222_L23_NBC_ed12f3afab_0_0.cell.nml\n",
      "pyNeuroML >>> 2025-02-03 14:57:24,350 - pyneuroml.pynml - INFO - Loading NeuroML2 file: ../NMC_model/NMC.NeuronML2/dNAC222_L23_NBC_ed12f3afab_0_0.cell.nml\n",
      "pyNeuroML >>> pyneuroml.pynml - INFO - Loading NeuroML2 file: ../NMC_model/NMC.NeuronML2/cACint209_L23_SBC_afc0be559d_0_0.cell.nml\n",
      "pyNeuroML >>> 2025-02-03 14:57:24,427 - pyneuroml.pynml - INFO - Loading NeuroML2 file: ../NMC_model/NMC.NeuronML2/cACint209_L23_SBC_afc0be559d_0_0.cell.nml\n",
      "pyNeuroML >>> pyneuroml.pynml - INFO - Loading NeuroML2 file: ../NMC_model/NMC.NeuronML2/cACint209_L23_SBC_0869c1fd12_0_0.cell.nml\n",
      "pyNeuroML >>> 2025-02-03 14:57:24,499 - pyneuroml.pynml - INFO - Loading NeuroML2 file: ../NMC_model/NMC.NeuronML2/cACint209_L23_SBC_0869c1fd12_0_0.cell.nml\n",
      "pyNeuroML >>> pyneuroml.pynml - INFO - Loading NeuroML2 file: ../NMC_model/NMC.NeuronML2/dNAC222_L23_SBC_0c85d8e325_0_0.cell.nml\n"
     ]
    },
    {
     "name": "stdout",
     "output_type": "stream",
     "text": [
      "Creating 4 cells of type dNAC222_L23_NBC_ed12f3afab_0_0.cell.nml\n",
      "Creating 4 cells of type cACint209_L23_SBC_afc0be559d_0_0.cell.nml\n",
      "Creating 14 cells of type cACint209_L23_SBC_0869c1fd12_0_0.cell.nml\n",
      "Creating 5 cells of type dNAC222_L23_SBC_0c85d8e325_0_0.cell.nml\n"
     ]
    },
    {
     "name": "stderr",
     "output_type": "stream",
     "text": [
      "pyNeuroML >>> 2025-02-03 14:57:24,557 - pyneuroml.pynml - INFO - Loading NeuroML2 file: ../NMC_model/NMC.NeuronML2/dNAC222_L23_SBC_0c85d8e325_0_0.cell.nml\n",
      "pyNeuroML >>> pyneuroml.pynml - INFO - Loading NeuroML2 file: ../NMC_model/NMC.NeuronML2/cACint209_L23_SBC_1fa95380bf_0_0.cell.nml\n",
      "pyNeuroML >>> 2025-02-03 14:57:24,651 - pyneuroml.pynml - INFO - Loading NeuroML2 file: ../NMC_model/NMC.NeuronML2/cACint209_L23_SBC_1fa95380bf_0_0.cell.nml\n"
     ]
    },
    {
     "name": "stdout",
     "output_type": "stream",
     "text": [
      "Creating 7 cells of type cACint209_L23_SBC_1fa95380bf_0_0.cell.nml\n"
     ]
    },
    {
     "name": "stderr",
     "output_type": "stream",
     "text": [
      "pyNeuroML >>> pyneuroml.pynml - INFO - Loading NeuroML2 file: ../NMC_model/NMC.NeuronML2/cACint209_L23_SBC_c2414afe0b_0_0.cell.nml\n",
      "pyNeuroML >>> 2025-02-03 14:57:24,993 - pyneuroml.pynml - INFO - Loading NeuroML2 file: ../NMC_model/NMC.NeuronML2/cACint209_L23_SBC_c2414afe0b_0_0.cell.nml\n",
      "pyNeuroML >>> pyneuroml.pynml - INFO - Loading NeuroML2 file: ../NMC_model/NMC.NeuronML2/cACint209_L23_SBC_7b122f5ac9_0_0.cell.nml\n",
      "pyNeuroML >>> 2025-02-03 14:57:25,088 - pyneuroml.pynml - INFO - Loading NeuroML2 file: ../NMC_model/NMC.NeuronML2/cACint209_L23_SBC_7b122f5ac9_0_0.cell.nml\n"
     ]
    },
    {
     "name": "stdout",
     "output_type": "stream",
     "text": [
      "Creating 13 cells of type cACint209_L23_SBC_c2414afe0b_0_0.cell.nml\n",
      "Creating 6 cells of type cACint209_L23_SBC_7b122f5ac9_0_0.cell.nml\n"
     ]
    },
    {
     "name": "stderr",
     "output_type": "stream",
     "text": [
      "pyNeuroML >>> pyneuroml.pynml - INFO - Loading NeuroML2 file: ../NMC_model/NMC.NeuronML2/dNAC222_L23_SBC_ef99b8a177_0_0.cell.nml\n",
      "pyNeuroML >>> 2025-02-03 14:57:25,397 - pyneuroml.pynml - INFO - Loading NeuroML2 file: ../NMC_model/NMC.NeuronML2/dNAC222_L23_SBC_ef99b8a177_0_0.cell.nml\n",
      "pyNeuroML >>> pyneuroml.pynml - INFO - Loading NeuroML2 file: ../NMC_model/NMC.NeuronML2/dNAC222_L23_SBC_7b122f5ac9_0_0.cell.nml\n",
      "pyNeuroML >>> 2025-02-03 14:57:25,564 - pyneuroml.pynml - INFO - Loading NeuroML2 file: ../NMC_model/NMC.NeuronML2/dNAC222_L23_SBC_7b122f5ac9_0_0.cell.nml\n"
     ]
    },
    {
     "name": "stdout",
     "output_type": "stream",
     "text": [
      "Creating 6 cells of type dNAC222_L23_SBC_ef99b8a177_0_0.cell.nml\n",
      "Creating 2 cells of type dNAC222_L23_SBC_7b122f5ac9_0_0.cell.nml\n"
     ]
    },
    {
     "name": "stderr",
     "output_type": "stream",
     "text": [
      "pyNeuroML >>> pyneuroml.pynml - INFO - Loading NeuroML2 file: ../NMC_model/NMC.NeuronML2/bNAC219_L23_SBC_cf92e1b802_0_0.cell.nml\n",
      "pyNeuroML >>> 2025-02-03 14:57:25,862 - pyneuroml.pynml - INFO - Loading NeuroML2 file: ../NMC_model/NMC.NeuronML2/bNAC219_L23_SBC_cf92e1b802_0_0.cell.nml\n",
      "pyNeuroML >>> pyneuroml.pynml - INFO - Loading NeuroML2 file: ../NMC_model/NMC.NeuronML2/dNAC222_L23_SBC_cf92e1b802_0_0.cell.nml\n",
      "pyNeuroML >>> 2025-02-03 14:57:25,902 - pyneuroml.pynml - INFO - Loading NeuroML2 file: ../NMC_model/NMC.NeuronML2/dNAC222_L23_SBC_cf92e1b802_0_0.cell.nml\n",
      "pyNeuroML >>> pyneuroml.pynml - INFO - Loading NeuroML2 file: ../NMC_model/NMC.NeuronML2/bNAC219_L23_SBC_6d12eabed9_0_0.cell.nml\n",
      "pyNeuroML >>> 2025-02-03 14:57:25,943 - pyneuroml.pynml - INFO - Loading NeuroML2 file: ../NMC_model/NMC.NeuronML2/bNAC219_L23_SBC_6d12eabed9_0_0.cell.nml\n",
      "pyNeuroML >>> pyneuroml.pynml - INFO - Loading NeuroML2 file: ../NMC_model/NMC.NeuronML2/bNAC219_L23_SBC_da4a711a61_0_0.cell.nml\n",
      "pyNeuroML >>> 2025-02-03 14:57:26,032 - pyneuroml.pynml - INFO - Loading NeuroML2 file: ../NMC_model/NMC.NeuronML2/bNAC219_L23_SBC_da4a711a61_0_0.cell.nml\n"
     ]
    },
    {
     "name": "stdout",
     "output_type": "stream",
     "text": [
      "Creating 1 cells of type bNAC219_L23_SBC_cf92e1b802_0_0.cell.nml\n",
      "Creating 5 cells of type dNAC222_L23_SBC_cf92e1b802_0_0.cell.nml\n",
      "Creating 1 cells of type bNAC219_L23_SBC_6d12eabed9_0_0.cell.nml\n",
      "Creating 1 cells of type bNAC219_L23_SBC_da4a711a61_0_0.cell.nml\n"
     ]
    },
    {
     "name": "stderr",
     "output_type": "stream",
     "text": [
      "pyNeuroML >>> pyneuroml.pynml - INFO - Loading NeuroML2 file: ../NMC_model/NMC.NeuronML2/dNAC222_L23_SBC_48c120ddd5_0_0.cell.nml\n",
      "pyNeuroML >>> 2025-02-03 14:57:26,081 - pyneuroml.pynml - INFO - Loading NeuroML2 file: ../NMC_model/NMC.NeuronML2/dNAC222_L23_SBC_48c120ddd5_0_0.cell.nml\n",
      "pyNeuroML >>> pyneuroml.pynml - INFO - Loading NeuroML2 file: ../NMC_model/NMC.NeuronML2/bNAC219_L23_SBC_1361ded4e5_0_0.cell.nml\n",
      "pyNeuroML >>> 2025-02-03 14:57:26,170 - pyneuroml.pynml - INFO - Loading NeuroML2 file: ../NMC_model/NMC.NeuronML2/bNAC219_L23_SBC_1361ded4e5_0_0.cell.nml\n",
      "pyNeuroML >>> pyneuroml.pynml - INFO - Loading NeuroML2 file: ../NMC_model/NMC.NeuronML2/cACint209_L23_ChC_9b21151736_0_0.cell.nml\n",
      "pyNeuroML >>> 2025-02-03 14:57:26,238 - pyneuroml.pynml - INFO - Loading NeuroML2 file: ../NMC_model/NMC.NeuronML2/cACint209_L23_ChC_9b21151736_0_0.cell.nml\n"
     ]
    },
    {
     "name": "stdout",
     "output_type": "stream",
     "text": [
      "Creating 1 cells of type dNAC222_L23_SBC_48c120ddd5_0_0.cell.nml\n",
      "Creating 1 cells of type bNAC219_L23_SBC_1361ded4e5_0_0.cell.nml\n",
      "Creating 4 cells of type cACint209_L23_ChC_9b21151736_0_0.cell.nml\n"
     ]
    },
    {
     "name": "stderr",
     "output_type": "stream",
     "text": [
      "pyNeuroML >>> pyneuroml.pynml - INFO - Loading NeuroML2 file: ../NMC_model/NMC.NeuronML2/dNAC222_L23_ChC_97f4d271eb_0_0.cell.nml\n",
      "pyNeuroML >>> 2025-02-03 14:57:26,463 - pyneuroml.pynml - INFO - Loading NeuroML2 file: ../NMC_model/NMC.NeuronML2/dNAC222_L23_ChC_97f4d271eb_0_0.cell.nml\n",
      "pyNeuroML >>> pyneuroml.pynml - INFO - Loading NeuroML2 file: ../NMC_model/NMC.NeuronML2/cNAC187_L23_ChC_6f06a0ce3d_0_0.cell.nml\n",
      "pyNeuroML >>> 2025-02-03 14:57:26,574 - pyneuroml.pynml - INFO - Loading NeuroML2 file: ../NMC_model/NMC.NeuronML2/cNAC187_L23_ChC_6f06a0ce3d_0_0.cell.nml\n"
     ]
    },
    {
     "name": "stdout",
     "output_type": "stream",
     "text": [
      "Creating 1 cells of type dNAC222_L23_ChC_97f4d271eb_0_0.cell.nml\n",
      "Creating 3 cells of type cNAC187_L23_ChC_6f06a0ce3d_0_0.cell.nml\n"
     ]
    },
    {
     "name": "stderr",
     "output_type": "stream",
     "text": [
      "pyNeuroML >>> pyneuroml.pynml - INFO - Loading NeuroML2 file: ../NMC_model/NMC.NeuronML2/cACint209_L23_ChC_cfcfe12e37_0_0.cell.nml\n",
      "pyNeuroML >>> 2025-02-03 14:57:26,793 - pyneuroml.pynml - INFO - Loading NeuroML2 file: ../NMC_model/NMC.NeuronML2/cACint209_L23_ChC_cfcfe12e37_0_0.cell.nml\n",
      "pyNeuroML >>> pyneuroml.pynml - INFO - Loading NeuroML2 file: ../NMC_model/NMC.NeuronML2/cACint209_L23_ChC_a7e068ee2e_0_0.cell.nml\n",
      "pyNeuroML >>> 2025-02-03 14:57:26,916 - pyneuroml.pynml - INFO - Loading NeuroML2 file: ../NMC_model/NMC.NeuronML2/cACint209_L23_ChC_a7e068ee2e_0_0.cell.nml\n"
     ]
    },
    {
     "name": "stdout",
     "output_type": "stream",
     "text": [
      "Creating 2 cells of type cACint209_L23_ChC_cfcfe12e37_0_0.cell.nml\n",
      "Creating 4 cells of type cACint209_L23_ChC_a7e068ee2e_0_0.cell.nml\n"
     ]
    },
    {
     "name": "stderr",
     "output_type": "stream",
     "text": [
      "pyNeuroML >>> pyneuroml.pynml - INFO - Loading NeuroML2 file: ../NMC_model/NMC.NeuronML2/cNAC187_L23_ChC_ec689de5f2_0_0.cell.nml\n",
      "pyNeuroML >>> 2025-02-03 14:57:27,216 - pyneuroml.pynml - INFO - Loading NeuroML2 file: ../NMC_model/NMC.NeuronML2/cNAC187_L23_ChC_ec689de5f2_0_0.cell.nml\n",
      "pyNeuroML >>> pyneuroml.pynml - INFO - Loading NeuroML2 file: ../NMC_model/NMC.NeuronML2/cACint209_L23_ChC_34ad1ccef7_0_0.cell.nml\n",
      "pyNeuroML >>> 2025-02-03 14:57:27,330 - pyneuroml.pynml - INFO - Loading NeuroML2 file: ../NMC_model/NMC.NeuronML2/cACint209_L23_ChC_34ad1ccef7_0_0.cell.nml\n"
     ]
    },
    {
     "name": "stdout",
     "output_type": "stream",
     "text": [
      "Creating 3 cells of type cNAC187_L23_ChC_ec689de5f2_0_0.cell.nml\n",
      "Creating 3 cells of type cACint209_L23_ChC_34ad1ccef7_0_0.cell.nml\n"
     ]
    },
    {
     "name": "stderr",
     "output_type": "stream",
     "text": [
      "pyNeuroML >>> pyneuroml.pynml - INFO - Loading NeuroML2 file: ../NMC_model/NMC.NeuronML2/dNAC222_L23_ChC_cfcfe12e37_0_0.cell.nml\n",
      "pyNeuroML >>> 2025-02-03 14:57:27,450 - pyneuroml.pynml - INFO - Loading NeuroML2 file: ../NMC_model/NMC.NeuronML2/dNAC222_L23_ChC_cfcfe12e37_0_0.cell.nml\n",
      "pyNeuroML >>> pyneuroml.pynml - INFO - Loading NeuroML2 file: ../NMC_model/NMC.NeuronML2/dNAC222_L23_ChC_4587365020_0_0.cell.nml\n",
      "pyNeuroML >>> 2025-02-03 14:57:27,564 - pyneuroml.pynml - INFO - Loading NeuroML2 file: ../NMC_model/NMC.NeuronML2/dNAC222_L23_ChC_4587365020_0_0.cell.nml\n"
     ]
    },
    {
     "name": "stdout",
     "output_type": "stream",
     "text": [
      "Creating 2 cells of type dNAC222_L23_ChC_cfcfe12e37_0_0.cell.nml\n",
      "Creating 1 cells of type dNAC222_L23_ChC_4587365020_0_0.cell.nml\n"
     ]
    },
    {
     "name": "stderr",
     "output_type": "stream",
     "text": [
      "pyNeuroML >>> pyneuroml.pynml - INFO - Loading NeuroML2 file: ../NMC_model/NMC.NeuronML2/cNAC187_L23_ChC_85582ca6d2_0_0.cell.nml\n",
      "pyNeuroML >>> 2025-02-03 14:57:27,766 - pyneuroml.pynml - INFO - Loading NeuroML2 file: ../NMC_model/NMC.NeuronML2/cNAC187_L23_ChC_85582ca6d2_0_0.cell.nml\n",
      "pyNeuroML >>> pyneuroml.pynml - INFO - Loading NeuroML2 file: ../NMC_model/NMC.NeuronML2/cACint209_L23_BTC_acb33d4029_0_0.cell.nml\n"
     ]
    },
    {
     "name": "stdout",
     "output_type": "stream",
     "text": [
      "Creating 1 cells of type cNAC187_L23_ChC_85582ca6d2_0_0.cell.nml\n",
      "Creating 2 cells of type cACint209_L23_BTC_acb33d4029_0_0.cell.nml\n"
     ]
    },
    {
     "name": "stderr",
     "output_type": "stream",
     "text": [
      "pyNeuroML >>> 2025-02-03 14:57:27,975 - pyneuroml.pynml - INFO - Loading NeuroML2 file: ../NMC_model/NMC.NeuronML2/cACint209_L23_BTC_acb33d4029_0_0.cell.nml\n",
      "pyNeuroML >>> pyneuroml.pynml - INFO - Loading NeuroML2 file: ../NMC_model/NMC.NeuronML2/bIR215_L23_BTC_b7a569ac13_0_0.cell.nml\n",
      "pyNeuroML >>> 2025-02-03 14:57:28,094 - pyneuroml.pynml - INFO - Loading NeuroML2 file: ../NMC_model/NMC.NeuronML2/bIR215_L23_BTC_b7a569ac13_0_0.cell.nml\n",
      "pyNeuroML >>> pyneuroml.pynml - INFO - Loading NeuroML2 file: ../NMC_model/NMC.NeuronML2/cACint209_L23_BTC_4f730ef7d0_0_0.cell.nml\n"
     ]
    },
    {
     "name": "stdout",
     "output_type": "stream",
     "text": [
      "Creating 1 cells of type bIR215_L23_BTC_b7a569ac13_0_0.cell.nml\n",
      "Creating 7 cells of type cACint209_L23_BTC_4f730ef7d0_0_0.cell.nml\n"
     ]
    },
    {
     "name": "stderr",
     "output_type": "stream",
     "text": [
      "pyNeuroML >>> 2025-02-03 14:57:28,282 - pyneuroml.pynml - INFO - Loading NeuroML2 file: ../NMC_model/NMC.NeuronML2/cACint209_L23_BTC_4f730ef7d0_0_0.cell.nml\n",
      "pyNeuroML >>> pyneuroml.pynml - INFO - Loading NeuroML2 file: ../NMC_model/NMC.NeuronML2/bAC217_L23_BTC_d9b97f1242_0_0.cell.nml\n",
      "pyNeuroML >>> 2025-02-03 14:57:28,464 - pyneuroml.pynml - INFO - Loading NeuroML2 file: ../NMC_model/NMC.NeuronML2/bAC217_L23_BTC_d9b97f1242_0_0.cell.nml\n"
     ]
    },
    {
     "name": "stdout",
     "output_type": "stream",
     "text": [
      "Creating 2 cells of type bAC217_L23_BTC_d9b97f1242_0_0.cell.nml\n"
     ]
    },
    {
     "name": "stderr",
     "output_type": "stream",
     "text": [
      "pyNeuroML >>> pyneuroml.pynml - INFO - Loading NeuroML2 file: ../NMC_model/NMC.NeuronML2/bAC217_L23_BTC_9ad0430657_0_0.cell.nml\n",
      "pyNeuroML >>> 2025-02-03 14:57:28,771 - pyneuroml.pynml - INFO - Loading NeuroML2 file: ../NMC_model/NMC.NeuronML2/bAC217_L23_BTC_9ad0430657_0_0.cell.nml\n",
      "pyNeuroML >>> pyneuroml.pynml - INFO - Loading NeuroML2 file: ../NMC_model/NMC.NeuronML2/cNAC187_L23_BTC_9deeb00a62_0_0.cell.nml\n"
     ]
    },
    {
     "name": "stdout",
     "output_type": "stream",
     "text": [
      "Creating 1 cells of type bAC217_L23_BTC_9ad0430657_0_0.cell.nml\n",
      "Creating 2 cells of type cNAC187_L23_BTC_9deeb00a62_0_0.cell.nml\n"
     ]
    },
    {
     "name": "stderr",
     "output_type": "stream",
     "text": [
      "pyNeuroML >>> 2025-02-03 14:57:28,961 - pyneuroml.pynml - INFO - Loading NeuroML2 file: ../NMC_model/NMC.NeuronML2/cNAC187_L23_BTC_9deeb00a62_0_0.cell.nml\n",
      "pyNeuroML >>> pyneuroml.pynml - INFO - Loading NeuroML2 file: ../NMC_model/NMC.NeuronML2/bAC217_L23_BTC_e5d9eb2ec3_0_0.cell.nml\n",
      "pyNeuroML >>> 2025-02-03 14:57:29,058 - pyneuroml.pynml - INFO - Loading NeuroML2 file: ../NMC_model/NMC.NeuronML2/bAC217_L23_BTC_e5d9eb2ec3_0_0.cell.nml\n",
      "pyNeuroML >>> pyneuroml.pynml - INFO - Loading NeuroML2 file: ../NMC_model/NMC.NeuronML2/cNAC187_L23_BTC_9902cd4960_0_0.cell.nml\n"
     ]
    },
    {
     "name": "stdout",
     "output_type": "stream",
     "text": [
      "Creating 1 cells of type bAC217_L23_BTC_e5d9eb2ec3_0_0.cell.nml\n",
      "Creating 2 cells of type cNAC187_L23_BTC_9902cd4960_0_0.cell.nml\n"
     ]
    },
    {
     "name": "stderr",
     "output_type": "stream",
     "text": [
      "pyNeuroML >>> 2025-02-03 14:57:29,250 - pyneuroml.pynml - INFO - Loading NeuroML2 file: ../NMC_model/NMC.NeuronML2/cNAC187_L23_BTC_9902cd4960_0_0.cell.nml\n",
      "pyNeuroML >>> pyneuroml.pynml - INFO - Loading NeuroML2 file: ../NMC_model/NMC.NeuronML2/bNAC219_L23_BTC_07c7c10a30_0_0.cell.nml\n",
      "pyNeuroML >>> 2025-02-03 14:57:29,365 - pyneuroml.pynml - INFO - Loading NeuroML2 file: ../NMC_model/NMC.NeuronML2/bNAC219_L23_BTC_07c7c10a30_0_0.cell.nml\n"
     ]
    },
    {
     "name": "stdout",
     "output_type": "stream",
     "text": [
      "Creating 2 cells of type bNAC219_L23_BTC_07c7c10a30_0_0.cell.nml\n"
     ]
    },
    {
     "name": "stderr",
     "output_type": "stream",
     "text": [
      "pyNeuroML >>> pyneuroml.pynml - INFO - Loading NeuroML2 file: ../NMC_model/NMC.NeuronML2/cNAC187_L23_BTC_13a502998f_0_0.cell.nml\n",
      "pyNeuroML >>> 2025-02-03 14:57:29,665 - pyneuroml.pynml - INFO - Loading NeuroML2 file: ../NMC_model/NMC.NeuronML2/cNAC187_L23_BTC_13a502998f_0_0.cell.nml\n",
      "pyNeuroML >>> pyneuroml.pynml - INFO - Loading NeuroML2 file: ../NMC_model/NMC.NeuronML2/cACint209_L23_BTC_3ac7d39218_0_0.cell.nml\n",
      "pyNeuroML >>> 2025-02-03 14:57:29,733 - pyneuroml.pynml - INFO - Loading NeuroML2 file: ../NMC_model/NMC.NeuronML2/cACint209_L23_BTC_3ac7d39218_0_0.cell.nml\n",
      "pyNeuroML >>> pyneuroml.pynml - INFO - Loading NeuroML2 file: ../NMC_model/NMC.NeuronML2/cNAC187_L23_BTC_eb8366ca09_0_0.cell.nml\n",
      "pyNeuroML >>> 2025-02-03 14:57:29,802 - pyneuroml.pynml - INFO - Loading NeuroML2 file: ../NMC_model/NMC.NeuronML2/cNAC187_L23_BTC_eb8366ca09_0_0.cell.nml\n"
     ]
    },
    {
     "name": "stdout",
     "output_type": "stream",
     "text": [
      "Creating 1 cells of type cNAC187_L23_BTC_13a502998f_0_0.cell.nml\n",
      "Creating 5 cells of type cACint209_L23_BTC_3ac7d39218_0_0.cell.nml\n",
      "Creating 1 cells of type cNAC187_L23_BTC_eb8366ca09_0_0.cell.nml\n"
     ]
    },
    {
     "name": "stderr",
     "output_type": "stream",
     "text": [
      "pyNeuroML >>> pyneuroml.pynml - INFO - Loading NeuroML2 file: ../NMC_model/NMC.NeuronML2/bNAC219_L23_BTC_f83ba90238_0_0.cell.nml\n",
      "pyNeuroML >>> 2025-02-03 14:57:30,193 - pyneuroml.pynml - INFO - Loading NeuroML2 file: ../NMC_model/NMC.NeuronML2/bNAC219_L23_BTC_f83ba90238_0_0.cell.nml\n",
      "pyNeuroML >>> pyneuroml.pynml - INFO - Loading NeuroML2 file: ../NMC_model/NMC.NeuronML2/bNAC219_L23_BTC_38a5da4025_0_0.cell.nml\n",
      "pyNeuroML >>> 2025-02-03 14:57:30,265 - pyneuroml.pynml - INFO - Loading NeuroML2 file: ../NMC_model/NMC.NeuronML2/bNAC219_L23_BTC_38a5da4025_0_0.cell.nml\n",
      "pyNeuroML >>> pyneuroml.pynml - INFO - Loading NeuroML2 file: ../NMC_model/NMC.NeuronML2/bNAC219_L23_BTC_08c8d4004b_0_0.cell.nml\n",
      "pyNeuroML >>> 2025-02-03 14:57:30,336 - pyneuroml.pynml - INFO - Loading NeuroML2 file: ../NMC_model/NMC.NeuronML2/bNAC219_L23_BTC_08c8d4004b_0_0.cell.nml\n"
     ]
    },
    {
     "name": "stdout",
     "output_type": "stream",
     "text": [
      "Creating 1 cells of type bNAC219_L23_BTC_f83ba90238_0_0.cell.nml\n",
      "Creating 1 cells of type bNAC219_L23_BTC_38a5da4025_0_0.cell.nml\n",
      "Creating 1 cells of type bNAC219_L23_BTC_08c8d4004b_0_0.cell.nml\n"
     ]
    },
    {
     "name": "stderr",
     "output_type": "stream",
     "text": [
      "pyNeuroML >>> pyneuroml.pynml - INFO - Loading NeuroML2 file: ../NMC_model/NMC.NeuronML2/cACint209_L23_BTC_59062d6e7d_0_0.cell.nml\n",
      "pyNeuroML >>> 2025-02-03 14:57:30,524 - pyneuroml.pynml - INFO - Loading NeuroML2 file: ../NMC_model/NMC.NeuronML2/cACint209_L23_BTC_59062d6e7d_0_0.cell.nml\n",
      "pyNeuroML >>> pyneuroml.pynml - INFO - Loading NeuroML2 file: ../NMC_model/NMC.NeuronML2/cNAC187_L23_BTC_b7a569ac13_0_0.cell.nml\n",
      "pyNeuroML >>> 2025-02-03 14:57:30,686 - pyneuroml.pynml - INFO - Loading NeuroML2 file: ../NMC_model/NMC.NeuronML2/cNAC187_L23_BTC_b7a569ac13_0_0.cell.nml\n"
     ]
    },
    {
     "name": "stdout",
     "output_type": "stream",
     "text": [
      "Creating 5 cells of type cACint209_L23_BTC_59062d6e7d_0_0.cell.nml\n",
      "Creating 1 cells of type cNAC187_L23_BTC_b7a569ac13_0_0.cell.nml\n"
     ]
    },
    {
     "name": "stderr",
     "output_type": "stream",
     "text": [
      "pyNeuroML >>> pyneuroml.pynml - INFO - Loading NeuroML2 file: ../NMC_model/NMC.NeuronML2/cACint209_L23_BTC_c745595fbe_0_0.cell.nml\n",
      "pyNeuroML >>> 2025-02-03 14:57:30,876 - pyneuroml.pynml - INFO - Loading NeuroML2 file: ../NMC_model/NMC.NeuronML2/cACint209_L23_BTC_c745595fbe_0_0.cell.nml\n"
     ]
    },
    {
     "name": "stdout",
     "output_type": "stream",
     "text": [
      "Creating 2 cells of type cACint209_L23_BTC_c745595fbe_0_0.cell.nml\n"
     ]
    },
    {
     "name": "stderr",
     "output_type": "stream",
     "text": [
      "pyNeuroML >>> pyneuroml.pynml - INFO - Loading NeuroML2 file: ../NMC_model/NMC.NeuronML2/bAC217_L23_BTC_e561810e0d_0_0.cell.nml\n",
      "pyNeuroML >>> 2025-02-03 14:57:31,205 - pyneuroml.pynml - INFO - Loading NeuroML2 file: ../NMC_model/NMC.NeuronML2/bAC217_L23_BTC_e561810e0d_0_0.cell.nml\n",
      "pyNeuroML >>> pyneuroml.pynml - INFO - Loading NeuroML2 file: ../NMC_model/NMC.NeuronML2/bIR215_L23_BTC_e051419629_0_0.cell.nml\n"
     ]
    },
    {
     "name": "stdout",
     "output_type": "stream",
     "text": [
      "Creating 1 cells of type bAC217_L23_BTC_e561810e0d_0_0.cell.nml\n",
      "Creating 1 cells of type bIR215_L23_BTC_e051419629_0_0.cell.nml\n"
     ]
    },
    {
     "name": "stderr",
     "output_type": "stream",
     "text": [
      "pyNeuroML >>> 2025-02-03 14:57:31,402 - pyneuroml.pynml - INFO - Loading NeuroML2 file: ../NMC_model/NMC.NeuronML2/bIR215_L23_BTC_e051419629_0_0.cell.nml\n",
      "pyNeuroML >>> pyneuroml.pynml - INFO - Loading NeuroML2 file: ../NMC_model/NMC.NeuronML2/bIR215_L23_BTC_fcf6c1f59c_0_0.cell.nml\n",
      "pyNeuroML >>> 2025-02-03 14:57:31,489 - pyneuroml.pynml - INFO - Loading NeuroML2 file: ../NMC_model/NMC.NeuronML2/bIR215_L23_BTC_fcf6c1f59c_0_0.cell.nml\n"
     ]
    },
    {
     "name": "stdout",
     "output_type": "stream",
     "text": [
      "Creating 1 cells of type bIR215_L23_BTC_fcf6c1f59c_0_0.cell.nml\n"
     ]
    },
    {
     "name": "stderr",
     "output_type": "stream",
     "text": [
      "pyNeuroML >>> pyneuroml.pynml - INFO - Loading NeuroML2 file: ../NMC_model/NMC.NeuronML2/cADpyr229_L23_PC_c2e79db05a_0_0.cell.nml\n",
      "pyNeuroML >>> 2025-02-03 14:57:31,811 - pyneuroml.pynml - INFO - Loading NeuroML2 file: ../NMC_model/NMC.NeuronML2/cADpyr229_L23_PC_c2e79db05a_0_0.cell.nml\n"
     ]
    },
    {
     "name": "stdout",
     "output_type": "stream",
     "text": [
      "Creating 716 cells of type cADpyr229_L23_PC_c2e79db05a_0_0.cell.nml\n"
     ]
    },
    {
     "name": "stderr",
     "output_type": "stream",
     "text": [
      "pyNeuroML >>> pyneuroml.pynml - INFO - Loading NeuroML2 file: ../NMC_model/NMC.NeuronML2/cADpyr229_L23_PC_c292d67a2e_0_0.cell.nml\n",
      "pyNeuroML >>> 2025-02-03 14:57:33,231 - pyneuroml.pynml - INFO - Loading NeuroML2 file: ../NMC_model/NMC.NeuronML2/cADpyr229_L23_PC_c292d67a2e_0_0.cell.nml\n"
     ]
    },
    {
     "name": "stdout",
     "output_type": "stream",
     "text": [
      "Creating 707 cells of type cADpyr229_L23_PC_c292d67a2e_0_0.cell.nml\n"
     ]
    },
    {
     "name": "stderr",
     "output_type": "stream",
     "text": [
      "pyNeuroML >>> pyneuroml.pynml - INFO - Loading NeuroML2 file: ../NMC_model/NMC.NeuronML2/cADpyr229_L23_PC_863902f300_0_0.cell.nml\n",
      "pyNeuroML >>> 2025-02-03 14:57:34,764 - pyneuroml.pynml - INFO - Loading NeuroML2 file: ../NMC_model/NMC.NeuronML2/cADpyr229_L23_PC_863902f300_0_0.cell.nml\n"
     ]
    },
    {
     "name": "stdout",
     "output_type": "stream",
     "text": [
      "Creating 692 cells of type cADpyr229_L23_PC_863902f300_0_0.cell.nml\n"
     ]
    },
    {
     "name": "stderr",
     "output_type": "stream",
     "text": [
      "pyNeuroML >>> pyneuroml.pynml - INFO - Loading NeuroML2 file: ../NMC_model/NMC.NeuronML2/cADpyr229_L23_PC_5ecbf9b163_0_0.cell.nml\n",
      "pyNeuroML >>> 2025-02-03 14:57:36,124 - pyneuroml.pynml - INFO - Loading NeuroML2 file: ../NMC_model/NMC.NeuronML2/cADpyr229_L23_PC_5ecbf9b163_0_0.cell.nml\n"
     ]
    },
    {
     "name": "stdout",
     "output_type": "stream",
     "text": [
      "Creating 669 cells of type cADpyr229_L23_PC_5ecbf9b163_0_0.cell.nml\n"
     ]
    },
    {
     "name": "stderr",
     "output_type": "stream",
     "text": [
      "pyNeuroML >>> pyneuroml.pynml - INFO - Loading NeuroML2 file: ../NMC_model/NMC.NeuronML2/cADpyr229_L23_PC_8ef1aa6602_0_0.cell.nml\n",
      "pyNeuroML >>> 2025-02-03 14:57:37,369 - pyneuroml.pynml - INFO - Loading NeuroML2 file: ../NMC_model/NMC.NeuronML2/cADpyr229_L23_PC_8ef1aa6602_0_0.cell.nml\n"
     ]
    },
    {
     "name": "stdout",
     "output_type": "stream",
     "text": [
      "Creating 672 cells of type cADpyr229_L23_PC_8ef1aa6602_0_0.cell.nml\n"
     ]
    },
    {
     "name": "stderr",
     "output_type": "stream",
     "text": [
      "pyNeuroML >>> pyneuroml.pynml - INFO - Loading NeuroML2 file: ../NMC_model/NMC.NeuronML2/cNAC187_L23_MC_44b474bb8f_0_0.cell.nml\n",
      "pyNeuroML >>> 2025-02-03 14:57:38,731 - pyneuroml.pynml - INFO - Loading NeuroML2 file: ../NMC_model/NMC.NeuronML2/cNAC187_L23_MC_44b474bb8f_0_0.cell.nml\n",
      "pyNeuroML >>> pyneuroml.pynml - INFO - Loading NeuroML2 file: ../NMC_model/NMC.NeuronML2/cACint209_L23_MC_3303d0ff68_0_0.cell.nml\n",
      "pyNeuroML >>> 2025-02-03 14:57:38,861 - pyneuroml.pynml - INFO - Loading NeuroML2 file: ../NMC_model/NMC.NeuronML2/cACint209_L23_MC_3303d0ff68_0_0.cell.nml\n"
     ]
    },
    {
     "name": "stdout",
     "output_type": "stream",
     "text": [
      "Creating 5 cells of type cNAC187_L23_MC_44b474bb8f_0_0.cell.nml\n",
      "Creating 12 cells of type cACint209_L23_MC_3303d0ff68_0_0.cell.nml\n"
     ]
    },
    {
     "name": "stderr",
     "output_type": "stream",
     "text": [
      "pyNeuroML >>> pyneuroml.pynml - INFO - Loading NeuroML2 file: ../NMC_model/NMC.NeuronML2/cACint209_L23_MC_31f333a601_0_0.cell.nml\n",
      "pyNeuroML >>> 2025-02-03 14:57:38,959 - pyneuroml.pynml - INFO - Loading NeuroML2 file: ../NMC_model/NMC.NeuronML2/cACint209_L23_MC_31f333a601_0_0.cell.nml\n",
      "pyNeuroML >>> pyneuroml.pynml - INFO - Loading NeuroML2 file: ../NMC_model/NMC.NeuronML2/cNAC187_L23_MC_3110386c07_0_0.cell.nml\n"
     ]
    },
    {
     "name": "stdout",
     "output_type": "stream",
     "text": [
      "Creating 11 cells of type cACint209_L23_MC_31f333a601_0_0.cell.nml\n",
      "Creating 6 cells of type cNAC187_L23_MC_3110386c07_0_0.cell.nml\n"
     ]
    },
    {
     "name": "stderr",
     "output_type": "stream",
     "text": [
      "pyNeuroML >>> 2025-02-03 14:57:39,167 - pyneuroml.pynml - INFO - Loading NeuroML2 file: ../NMC_model/NMC.NeuronML2/cNAC187_L23_MC_3110386c07_0_0.cell.nml\n",
      "pyNeuroML >>> pyneuroml.pynml - INFO - Loading NeuroML2 file: ../NMC_model/NMC.NeuronML2/dNAC222_L23_MC_55e4a7c88f_0_0.cell.nml\n",
      "pyNeuroML >>> 2025-02-03 14:57:39,378 - pyneuroml.pynml - INFO - Loading NeuroML2 file: ../NMC_model/NMC.NeuronML2/dNAC222_L23_MC_55e4a7c88f_0_0.cell.nml\n",
      "pyNeuroML >>> pyneuroml.pynml - INFO - Loading NeuroML2 file: ../NMC_model/NMC.NeuronML2/cACint209_L23_MC_55e4a7c88f_0_0.cell.nml\n",
      "pyNeuroML >>> 2025-02-03 14:57:39,438 - pyneuroml.pynml - INFO - Loading NeuroML2 file: ../NMC_model/NMC.NeuronML2/cACint209_L23_MC_55e4a7c88f_0_0.cell.nml\n",
      "pyNeuroML >>> pyneuroml.pynml - INFO - Loading NeuroML2 file: ../NMC_model/NMC.NeuronML2/cNAC187_L23_MC_2c0a7badf4_0_0.cell.nml\n",
      "pyNeuroML >>> 2025-02-03 14:57:39,507 - pyneuroml.pynml - INFO - Loading NeuroML2 file: ../NMC_model/NMC.NeuronML2/cNAC187_L23_MC_2c0a7badf4_0_0.cell.nml\n"
     ]
    },
    {
     "name": "stdout",
     "output_type": "stream",
     "text": [
      "Creating 3 cells of type dNAC222_L23_MC_55e4a7c88f_0_0.cell.nml\n",
      "Creating 18 cells of type cACint209_L23_MC_55e4a7c88f_0_0.cell.nml\n",
      "Creating 4 cells of type cNAC187_L23_MC_2c0a7badf4_0_0.cell.nml\n"
     ]
    },
    {
     "name": "stderr",
     "output_type": "stream",
     "text": [
      "pyNeuroML >>> pyneuroml.pynml - INFO - Loading NeuroML2 file: ../NMC_model/NMC.NeuronML2/bAC217_L23_MC_44b474bb8f_0_0.cell.nml\n",
      "pyNeuroML >>> 2025-02-03 14:57:39,581 - pyneuroml.pynml - INFO - Loading NeuroML2 file: ../NMC_model/NMC.NeuronML2/bAC217_L23_MC_44b474bb8f_0_0.cell.nml\n",
      "pyNeuroML >>> pyneuroml.pynml - INFO - Loading NeuroML2 file: ../NMC_model/NMC.NeuronML2/bNAC219_L23_MC_44b474bb8f_0_0.cell.nml\n",
      "pyNeuroML >>> 2025-02-03 14:57:39,699 - pyneuroml.pynml - INFO - Loading NeuroML2 file: ../NMC_model/NMC.NeuronML2/bNAC219_L23_MC_44b474bb8f_0_0.cell.nml\n"
     ]
    },
    {
     "name": "stdout",
     "output_type": "stream",
     "text": [
      "Creating 2 cells of type bAC217_L23_MC_44b474bb8f_0_0.cell.nml\n",
      "Creating 3 cells of type bNAC219_L23_MC_44b474bb8f_0_0.cell.nml\n"
     ]
    },
    {
     "name": "stderr",
     "output_type": "stream",
     "text": [
      "pyNeuroML >>> pyneuroml.pynml - INFO - Loading NeuroML2 file: ../NMC_model/NMC.NeuronML2/dNAC222_L23_MC_b7a2c9d0ae_0_0.cell.nml\n",
      "pyNeuroML >>> 2025-02-03 14:57:39,834 - pyneuroml.pynml - INFO - Loading NeuroML2 file: ../NMC_model/NMC.NeuronML2/dNAC222_L23_MC_b7a2c9d0ae_0_0.cell.nml\n"
     ]
    },
    {
     "name": "stdout",
     "output_type": "stream",
     "text": [
      "Creating 7 cells of type dNAC222_L23_MC_b7a2c9d0ae_0_0.cell.nml\n"
     ]
    },
    {
     "name": "stderr",
     "output_type": "stream",
     "text": [
      "pyNeuroML >>> pyneuroml.pynml - INFO - Loading NeuroML2 file: ../NMC_model/NMC.NeuronML2/cACint209_L23_MC_940ffcbb27_0_0.cell.nml\n",
      "pyNeuroML >>> 2025-02-03 14:57:40,040 - pyneuroml.pynml - INFO - Loading NeuroML2 file: ../NMC_model/NMC.NeuronML2/cACint209_L23_MC_940ffcbb27_0_0.cell.nml\n",
      "pyNeuroML >>> pyneuroml.pynml - INFO - Loading NeuroML2 file: ../NMC_model/NMC.NeuronML2/dNAC222_L23_MC_940ffcbb27_0_0.cell.nml\n",
      "pyNeuroML >>> 2025-02-03 14:57:40,183 - pyneuroml.pynml - INFO - Loading NeuroML2 file: ../NMC_model/NMC.NeuronML2/dNAC222_L23_MC_940ffcbb27_0_0.cell.nml\n"
     ]
    },
    {
     "name": "stdout",
     "output_type": "stream",
     "text": [
      "Creating 9 cells of type cACint209_L23_MC_940ffcbb27_0_0.cell.nml\n",
      "Creating 7 cells of type dNAC222_L23_MC_940ffcbb27_0_0.cell.nml\n"
     ]
    },
    {
     "name": "stderr",
     "output_type": "stream",
     "text": [
      "pyNeuroML >>> pyneuroml.pynml - INFO - Loading NeuroML2 file: ../NMC_model/NMC.NeuronML2/bNAC219_L23_MC_31f333a601_0_0.cell.nml\n",
      "pyNeuroML >>> 2025-02-03 14:57:40,319 - pyneuroml.pynml - INFO - Loading NeuroML2 file: ../NMC_model/NMC.NeuronML2/bNAC219_L23_MC_31f333a601_0_0.cell.nml\n"
     ]
    },
    {
     "name": "stdout",
     "output_type": "stream",
     "text": [
      "Creating 2 cells of type bNAC219_L23_MC_31f333a601_0_0.cell.nml\n"
     ]
    },
    {
     "name": "stderr",
     "output_type": "stream",
     "text": [
      "pyNeuroML >>> pyneuroml.pynml - INFO - Loading NeuroML2 file: ../NMC_model/NMC.NeuronML2/dNAC222_L23_MC_1490f15199_0_0.cell.nml\n",
      "pyNeuroML >>> 2025-02-03 14:57:40,546 - pyneuroml.pynml - INFO - Loading NeuroML2 file: ../NMC_model/NMC.NeuronML2/dNAC222_L23_MC_1490f15199_0_0.cell.nml\n"
     ]
    },
    {
     "name": "stdout",
     "output_type": "stream",
     "text": [
      "Creating 8 cells of type dNAC222_L23_MC_1490f15199_0_0.cell.nml\n"
     ]
    },
    {
     "name": "stderr",
     "output_type": "stream",
     "text": [
      "pyNeuroML >>> pyneuroml.pynml - INFO - Loading NeuroML2 file: ../NMC_model/NMC.NeuronML2/cNAC187_L23_MC_4a274f4915_0_0.cell.nml\n",
      "pyNeuroML >>> 2025-02-03 14:57:40,850 - pyneuroml.pynml - INFO - Loading NeuroML2 file: ../NMC_model/NMC.NeuronML2/cNAC187_L23_MC_4a274f4915_0_0.cell.nml\n",
      "pyNeuroML >>> pyneuroml.pynml - INFO - Loading NeuroML2 file: ../NMC_model/NMC.NeuronML2/bNAC219_L23_MC_940ffcbb27_0_0.cell.nml\n",
      "pyNeuroML >>> 2025-02-03 14:57:40,999 - pyneuroml.pynml - INFO - Loading NeuroML2 file: ../NMC_model/NMC.NeuronML2/bNAC219_L23_MC_940ffcbb27_0_0.cell.nml\n"
     ]
    },
    {
     "name": "stdout",
     "output_type": "stream",
     "text": [
      "Creating 2 cells of type cNAC187_L23_MC_4a274f4915_0_0.cell.nml\n",
      "Creating 3 cells of type bNAC219_L23_MC_940ffcbb27_0_0.cell.nml\n"
     ]
    },
    {
     "name": "stderr",
     "output_type": "stream",
     "text": [
      "pyNeuroML >>> pyneuroml.pynml - INFO - Loading NeuroML2 file: ../NMC_model/NMC.NeuronML2/bAC217_L23_MC_1490f15199_0_0.cell.nml\n",
      "pyNeuroML >>> 2025-02-03 14:57:41,132 - pyneuroml.pynml - INFO - Loading NeuroML2 file: ../NMC_model/NMC.NeuronML2/bAC217_L23_MC_1490f15199_0_0.cell.nml\n",
      "pyNeuroML >>> pyneuroml.pynml - INFO - Loading NeuroML2 file: ../NMC_model/NMC.NeuronML2/bNAC219_L23_MC_b7a2c9d0ae_0_0.cell.nml\n"
     ]
    },
    {
     "name": "stdout",
     "output_type": "stream",
     "text": [
      "Creating 2 cells of type bAC217_L23_MC_1490f15199_0_0.cell.nml\n",
      "Creating 5 cells of type bNAC219_L23_MC_b7a2c9d0ae_0_0.cell.nml\n"
     ]
    },
    {
     "name": "stderr",
     "output_type": "stream",
     "text": [
      "pyNeuroML >>> 2025-02-03 14:57:41,320 - pyneuroml.pynml - INFO - Loading NeuroML2 file: ../NMC_model/NMC.NeuronML2/bNAC219_L23_MC_b7a2c9d0ae_0_0.cell.nml\n",
      "pyNeuroML >>> pyneuroml.pynml - INFO - Loading NeuroML2 file: ../NMC_model/NMC.NeuronML2/dNAC222_L23_MC_31f333a601_0_0.cell.nml\n",
      "pyNeuroML >>> 2025-02-03 14:57:41,524 - pyneuroml.pynml - INFO - Loading NeuroML2 file: ../NMC_model/NMC.NeuronML2/dNAC222_L23_MC_31f333a601_0_0.cell.nml\n"
     ]
    },
    {
     "name": "stdout",
     "output_type": "stream",
     "text": [
      "Creating 4 cells of type dNAC222_L23_MC_31f333a601_0_0.cell.nml\n",
      "Creating 10 cells of type cACint209_L23_MC_ba3c5063e4_0_0.cell.nml\n"
     ]
    },
    {
     "name": "stderr",
     "output_type": "stream",
     "text": [
      "pyNeuroML >>> pyneuroml.pynml - INFO - Loading NeuroML2 file: ../NMC_model/NMC.NeuronML2/cACint209_L23_MC_ba3c5063e4_0_0.cell.nml\n",
      "pyNeuroML >>> 2025-02-03 14:57:41,733 - pyneuroml.pynml - INFO - Loading NeuroML2 file: ../NMC_model/NMC.NeuronML2/cACint209_L23_MC_ba3c5063e4_0_0.cell.nml\n",
      "pyNeuroML >>> pyneuroml.pynml - INFO - Loading NeuroML2 file: ../NMC_model/NMC.NeuronML2/bNAC219_L23_MC_55e4a7c88f_0_0.cell.nml\n",
      "pyNeuroML >>> 2025-02-03 14:57:41,850 - pyneuroml.pynml - INFO - Loading NeuroML2 file: ../NMC_model/NMC.NeuronML2/bNAC219_L23_MC_55e4a7c88f_0_0.cell.nml\n",
      "pyNeuroML >>> pyneuroml.pynml - INFO - Loading NeuroML2 file: ../NMC_model/NMC.NeuronML2/bAC217_L23_MC_40be3bf0e8_0_0.cell.nml\n",
      "pyNeuroML >>> 2025-02-03 14:57:41,911 - pyneuroml.pynml - INFO - Loading NeuroML2 file: ../NMC_model/NMC.NeuronML2/bAC217_L23_MC_40be3bf0e8_0_0.cell.nml\n",
      "pyNeuroML >>> pyneuroml.pynml - INFO - Loading NeuroML2 file: ../NMC_model/NMC.NeuronML2/cNAC187_L23_MC_940ffcbb27_0_0.cell.nml\n",
      "pyNeuroML >>> 2025-02-03 14:57:42,021 - pyneuroml.pynml - INFO - Loading NeuroML2 file: ../NMC_model/NMC.NeuronML2/cNAC187_L23_MC_940ffcbb27_0_0.cell.nml\n"
     ]
    },
    {
     "name": "stdout",
     "output_type": "stream",
     "text": [
      "Creating 2 cells of type bNAC219_L23_MC_55e4a7c88f_0_0.cell.nml\n",
      "Creating 1 cells of type bAC217_L23_MC_40be3bf0e8_0_0.cell.nml\n",
      "Creating 4 cells of type cNAC187_L23_MC_940ffcbb27_0_0.cell.nml\n"
     ]
    },
    {
     "name": "stderr",
     "output_type": "stream",
     "text": [
      "pyNeuroML >>> pyneuroml.pynml - INFO - Loading NeuroML2 file: ../NMC_model/NMC.NeuronML2/bAC217_L23_MC_464f0bd828_0_0.cell.nml\n",
      "pyNeuroML >>> 2025-02-03 14:57:42,243 - pyneuroml.pynml - INFO - Loading NeuroML2 file: ../NMC_model/NMC.NeuronML2/bAC217_L23_MC_464f0bd828_0_0.cell.nml\n"
     ]
    },
    {
     "name": "stdout",
     "output_type": "stream",
     "text": [
      "Creating 1 cells of type bAC217_L23_MC_464f0bd828_0_0.cell.nml\n"
     ]
    },
    {
     "name": "stderr",
     "output_type": "stream",
     "text": [
      "pyNeuroML >>> pyneuroml.pynml - INFO - Loading NeuroML2 file: ../NMC_model/NMC.NeuronML2/cACint209_L5_DBC_e2f2301440_0_0.cell.nml\n",
      "pyNeuroML >>> 2025-02-03 14:57:42,503 - pyneuroml.pynml - INFO - Loading NeuroML2 file: ../NMC_model/NMC.NeuronML2/cACint209_L5_DBC_e2f2301440_0_0.cell.nml\n"
     ]
    },
    {
     "name": "stdout",
     "output_type": "stream",
     "text": [
      "Creating 2 cells of type cACint209_L5_DBC_e2f2301440_0_0.cell.nml\n"
     ]
    },
    {
     "name": "stderr",
     "output_type": "stream",
     "text": [
      "pyNeuroML >>> pyneuroml.pynml - INFO - Loading NeuroML2 file: ../NMC_model/NMC.NeuronML2/cNAC187_L5_DBC_ad487d347d_0_0.cell.nml\n",
      "pyNeuroML >>> 2025-02-03 14:57:43,087 - pyneuroml.pynml - INFO - Loading NeuroML2 file: ../NMC_model/NMC.NeuronML2/cNAC187_L5_DBC_ad487d347d_0_0.cell.nml\n",
      "pyNeuroML >>> pyneuroml.pynml - INFO - Loading NeuroML2 file: ../NMC_model/NMC.NeuronML2/cACint209_L5_DBC_5f1980557e_0_0.cell.nml\n",
      "pyNeuroML >>> 2025-02-03 14:57:43,182 - pyneuroml.pynml - INFO - Loading NeuroML2 file: ../NMC_model/NMC.NeuronML2/cACint209_L5_DBC_5f1980557e_0_0.cell.nml\n"
     ]
    },
    {
     "name": "stdout",
     "output_type": "stream",
     "text": [
      "Creating 3 cells of type cNAC187_L5_DBC_ad487d347d_0_0.cell.nml\n",
      "Creating 10 cells of type cACint209_L5_DBC_5f1980557e_0_0.cell.nml\n"
     ]
    },
    {
     "name": "stderr",
     "output_type": "stream",
     "text": [
      "pyNeuroML >>> pyneuroml.pynml - INFO - Loading NeuroML2 file: ../NMC_model/NMC.NeuronML2/cACint209_L5_DBC_74050baf6d_0_0.cell.nml\n",
      "pyNeuroML >>> 2025-02-03 14:57:43,702 - pyneuroml.pynml - INFO - Loading NeuroML2 file: ../NMC_model/NMC.NeuronML2/cACint209_L5_DBC_74050baf6d_0_0.cell.nml\n",
      "pyNeuroML >>> pyneuroml.pynml - INFO - Loading NeuroML2 file: ../NMC_model/NMC.NeuronML2/cNAC187_L5_DBC_d8e0abdc7c_0_0.cell.nml\n",
      "pyNeuroML >>> 2025-02-03 14:57:43,802 - pyneuroml.pynml - INFO - Loading NeuroML2 file: ../NMC_model/NMC.NeuronML2/cNAC187_L5_DBC_d8e0abdc7c_0_0.cell.nml\n",
      "pyNeuroML >>> pyneuroml.pynml - INFO - Loading NeuroML2 file: ../NMC_model/NMC.NeuronML2/bIR215_L5_DBC_893b78d08e_0_0.cell.nml\n"
     ]
    },
    {
     "name": "stdout",
     "output_type": "stream",
     "text": [
      "Creating 7 cells of type cACint209_L5_DBC_74050baf6d_0_0.cell.nml\n",
      "Creating 7 cells of type cNAC187_L5_DBC_d8e0abdc7c_0_0.cell.nml\n",
      "Creating 5 cells of type bIR215_L5_DBC_893b78d08e_0_0.cell.nml\n"
     ]
    },
    {
     "name": "stderr",
     "output_type": "stream",
     "text": [
      "pyNeuroML >>> 2025-02-03 14:57:43,898 - pyneuroml.pynml - INFO - Loading NeuroML2 file: ../NMC_model/NMC.NeuronML2/bIR215_L5_DBC_893b78d08e_0_0.cell.nml\n",
      "pyNeuroML >>> pyneuroml.pynml - INFO - Loading NeuroML2 file: ../NMC_model/NMC.NeuronML2/bAC217_L5_DBC_a60ab35166_0_0.cell.nml\n",
      "pyNeuroML >>> 2025-02-03 14:57:44,074 - pyneuroml.pynml - INFO - Loading NeuroML2 file: ../NMC_model/NMC.NeuronML2/bAC217_L5_DBC_a60ab35166_0_0.cell.nml\n"
     ]
    },
    {
     "name": "stdout",
     "output_type": "stream",
     "text": [
      "Creating 4 cells of type bAC217_L5_DBC_a60ab35166_0_0.cell.nml\n"
     ]
    },
    {
     "name": "stderr",
     "output_type": "stream",
     "text": [
      "pyNeuroML >>> pyneuroml.pynml - INFO - Loading NeuroML2 file: ../NMC_model/NMC.NeuronML2/cACint209_L5_DBC_189fcfd9e0_0_0.cell.nml\n",
      "pyNeuroML >>> 2025-02-03 14:57:44,664 - pyneuroml.pynml - INFO - Loading NeuroML2 file: ../NMC_model/NMC.NeuronML2/cACint209_L5_DBC_189fcfd9e0_0_0.cell.nml\n",
      "pyNeuroML >>> pyneuroml.pynml - INFO - Loading NeuroML2 file: ../NMC_model/NMC.NeuronML2/bAC217_L5_DBC_e2f2301440_0_0.cell.nml\n",
      "pyNeuroML >>> 2025-02-03 14:57:44,750 - pyneuroml.pynml - INFO - Loading NeuroML2 file: ../NMC_model/NMC.NeuronML2/bAC217_L5_DBC_e2f2301440_0_0.cell.nml\n"
     ]
    },
    {
     "name": "stdout",
     "output_type": "stream",
     "text": [
      "Creating 10 cells of type cACint209_L5_DBC_189fcfd9e0_0_0.cell.nml\n",
      "Creating 4 cells of type bAC217_L5_DBC_e2f2301440_0_0.cell.nml\n"
     ]
    },
    {
     "name": "stderr",
     "output_type": "stream",
     "text": [
      "pyNeuroML >>> pyneuroml.pynml - INFO - Loading NeuroML2 file: ../NMC_model/NMC.NeuronML2/bNAC219_L5_DBC_ec8ca02d79_0_0.cell.nml\n",
      "pyNeuroML >>> 2025-02-03 14:57:45,338 - pyneuroml.pynml - INFO - Loading NeuroML2 file: ../NMC_model/NMC.NeuronML2/bNAC219_L5_DBC_ec8ca02d79_0_0.cell.nml\n",
      "pyNeuroML >>> pyneuroml.pynml - INFO - Loading NeuroML2 file: ../NMC_model/NMC.NeuronML2/cIR216_L5_DBC_b81a484394_0_0.cell.nml\n",
      "pyNeuroML >>> 2025-02-03 14:57:45,426 - pyneuroml.pynml - INFO - Loading NeuroML2 file: ../NMC_model/NMC.NeuronML2/cIR216_L5_DBC_b81a484394_0_0.cell.nml\n",
      "pyNeuroML >>> pyneuroml.pynml - INFO - Loading NeuroML2 file: ../NMC_model/NMC.NeuronML2/cNAC187_L5_DBC_893b78d08e_0_0.cell.nml\n",
      "pyNeuroML >>> 2025-02-03 14:57:45,521 - pyneuroml.pynml - INFO - Loading NeuroML2 file: ../NMC_model/NMC.NeuronML2/cNAC187_L5_DBC_893b78d08e_0_0.cell.nml\n"
     ]
    },
    {
     "name": "stdout",
     "output_type": "stream",
     "text": [
      "Creating 2 cells of type bNAC219_L5_DBC_ec8ca02d79_0_0.cell.nml\n",
      "Creating 1 cells of type cIR216_L5_DBC_b81a484394_0_0.cell.nml\n",
      "Creating 3 cells of type cNAC187_L5_DBC_893b78d08e_0_0.cell.nml\n"
     ]
    },
    {
     "name": "stderr",
     "output_type": "stream",
     "text": [
      "pyNeuroML >>> pyneuroml.pynml - INFO - Loading NeuroML2 file: ../NMC_model/NMC.NeuronML2/cNAC187_L5_DBC_8be7b81168_0_0.cell.nml\n",
      "pyNeuroML >>> 2025-02-03 14:57:45,703 - pyneuroml.pynml - INFO - Loading NeuroML2 file: ../NMC_model/NMC.NeuronML2/cNAC187_L5_DBC_8be7b81168_0_0.cell.nml\n"
     ]
    },
    {
     "name": "stdout",
     "output_type": "stream",
     "text": [
      "Creating 3 cells of type cNAC187_L5_DBC_8be7b81168_0_0.cell.nml\n"
     ]
    },
    {
     "name": "stderr",
     "output_type": "stream",
     "text": [
      "pyNeuroML >>> pyneuroml.pynml - INFO - Loading NeuroML2 file: ../NMC_model/NMC.NeuronML2/cIR216_L5_DBC_d8e0abdc7c_0_0.cell.nml\n",
      "pyNeuroML >>> 2025-02-03 14:57:46,323 - pyneuroml.pynml - INFO - Loading NeuroML2 file: ../NMC_model/NMC.NeuronML2/cIR216_L5_DBC_d8e0abdc7c_0_0.cell.nml\n",
      "pyNeuroML >>> pyneuroml.pynml - INFO - Loading NeuroML2 file: ../NMC_model/NMC.NeuronML2/cACint209_L5_DBC_6a2bbf2a1b_0_0.cell.nml\n",
      "pyNeuroML >>> 2025-02-03 14:57:46,409 - pyneuroml.pynml - INFO - Loading NeuroML2 file: ../NMC_model/NMC.NeuronML2/cACint209_L5_DBC_6a2bbf2a1b_0_0.cell.nml\n"
     ]
    },
    {
     "name": "stdout",
     "output_type": "stream",
     "text": [
      "Creating 2 cells of type cIR216_L5_DBC_d8e0abdc7c_0_0.cell.nml\n",
      "Creating 6 cells of type cACint209_L5_DBC_6a2bbf2a1b_0_0.cell.nml\n"
     ]
    },
    {
     "name": "stderr",
     "output_type": "stream",
     "text": [
      "pyNeuroML >>> pyneuroml.pynml - INFO - Loading NeuroML2 file: ../NMC_model/NMC.NeuronML2/bIR215_L5_DBC_50ea904e54_0_0.cell.nml\n",
      "pyNeuroML >>> 2025-02-03 14:57:46,576 - pyneuroml.pynml - INFO - Loading NeuroML2 file: ../NMC_model/NMC.NeuronML2/bIR215_L5_DBC_50ea904e54_0_0.cell.nml\n",
      "pyNeuroML >>> pyneuroml.pynml - INFO - Loading NeuroML2 file: ../NMC_model/NMC.NeuronML2/bSTUT213_L5_DBC_44eae19442_0_0.cell.nml\n"
     ]
    },
    {
     "name": "stdout",
     "output_type": "stream",
     "text": [
      "Creating 4 cells of type bIR215_L5_DBC_50ea904e54_0_0.cell.nml\n",
      "Creating 1 cells of type bSTUT213_L5_DBC_44eae19442_0_0.cell.nml\n"
     ]
    },
    {
     "name": "stderr",
     "output_type": "stream",
     "text": [
      "pyNeuroML >>> 2025-02-03 14:57:46,764 - pyneuroml.pynml - INFO - Loading NeuroML2 file: ../NMC_model/NMC.NeuronML2/bSTUT213_L5_DBC_44eae19442_0_0.cell.nml\n",
      "pyNeuroML >>> pyneuroml.pynml - INFO - Loading NeuroML2 file: ../NMC_model/NMC.NeuronML2/bAC217_L5_DBC_4765d943f4_0_0.cell.nml\n",
      "pyNeuroML >>> 2025-02-03 14:57:46,852 - pyneuroml.pynml - INFO - Loading NeuroML2 file: ../NMC_model/NMC.NeuronML2/bAC217_L5_DBC_4765d943f4_0_0.cell.nml\n",
      "pyNeuroML >>> pyneuroml.pynml - INFO - Loading NeuroML2 file: ../NMC_model/NMC.NeuronML2/bIR215_L5_DBC_7f0bb8efe9_0_0.cell.nml\n",
      "pyNeuroML >>> 2025-02-03 14:57:47,022 - pyneuroml.pynml - INFO - Loading NeuroML2 file: ../NMC_model/NMC.NeuronML2/bIR215_L5_DBC_7f0bb8efe9_0_0.cell.nml\n"
     ]
    },
    {
     "name": "stdout",
     "output_type": "stream",
     "text": [
      "Creating 3 cells of type bAC217_L5_DBC_4765d943f4_0_0.cell.nml\n",
      "Creating 1 cells of type bIR215_L5_DBC_7f0bb8efe9_0_0.cell.nml\n"
     ]
    },
    {
     "name": "stderr",
     "output_type": "stream",
     "text": [
      "pyNeuroML >>> pyneuroml.pynml - INFO - Loading NeuroML2 file: ../NMC_model/NMC.NeuronML2/cNAC187_L5_DBC_d900bc4e97_0_0.cell.nml\n",
      "pyNeuroML >>> 2025-02-03 14:57:47,509 - pyneuroml.pynml - INFO - Loading NeuroML2 file: ../NMC_model/NMC.NeuronML2/cNAC187_L5_DBC_d900bc4e97_0_0.cell.nml\n"
     ]
    },
    {
     "name": "stdout",
     "output_type": "stream",
     "text": [
      "Creating 3 cells of type cNAC187_L5_DBC_d900bc4e97_0_0.cell.nml\n"
     ]
    },
    {
     "name": "stderr",
     "output_type": "stream",
     "text": [
      "pyNeuroML >>> pyneuroml.pynml - INFO - Loading NeuroML2 file: ../NMC_model/NMC.NeuronML2/bIR215_L5_DBC_e2f2301440_0_0.cell.nml\n",
      "pyNeuroML >>> 2025-02-03 14:57:47,936 - pyneuroml.pynml - INFO - Loading NeuroML2 file: ../NMC_model/NMC.NeuronML2/bIR215_L5_DBC_e2f2301440_0_0.cell.nml\n"
     ]
    },
    {
     "name": "stdout",
     "output_type": "stream",
     "text": [
      "Creating 1 cells of type bIR215_L5_DBC_e2f2301440_0_0.cell.nml\n"
     ]
    },
    {
     "name": "stderr",
     "output_type": "stream",
     "text": [
      "pyNeuroML >>> pyneuroml.pynml - INFO - Loading NeuroML2 file: ../NMC_model/NMC.NeuronML2/bSTUT213_L5_DBC_b770304226_0_0.cell.nml\n",
      "pyNeuroML >>> 2025-02-03 14:57:48,524 - pyneuroml.pynml - INFO - Loading NeuroML2 file: ../NMC_model/NMC.NeuronML2/bSTUT213_L5_DBC_b770304226_0_0.cell.nml\n",
      "pyNeuroML >>> pyneuroml.pynml - INFO - Loading NeuroML2 file: ../NMC_model/NMC.NeuronML2/cIR216_L5_DBC_5f1980557e_0_0.cell.nml\n",
      "pyNeuroML >>> 2025-02-03 14:57:48,609 - pyneuroml.pynml - INFO - Loading NeuroML2 file: ../NMC_model/NMC.NeuronML2/cIR216_L5_DBC_5f1980557e_0_0.cell.nml\n"
     ]
    },
    {
     "name": "stdout",
     "output_type": "stream",
     "text": [
      "Creating 2 cells of type bSTUT213_L5_DBC_b770304226_0_0.cell.nml\n",
      "Creating 2 cells of type cIR216_L5_DBC_5f1980557e_0_0.cell.nml\n"
     ]
    },
    {
     "name": "stderr",
     "output_type": "stream",
     "text": [
      "pyNeuroML >>> pyneuroml.pynml - INFO - Loading NeuroML2 file: ../NMC_model/NMC.NeuronML2/bAC217_L5_DBC_e731906688_0_0.cell.nml\n",
      "pyNeuroML >>> 2025-02-03 14:57:49,108 - pyneuroml.pynml - INFO - Loading NeuroML2 file: ../NMC_model/NMC.NeuronML2/bAC217_L5_DBC_e731906688_0_0.cell.nml\n",
      "pyNeuroML >>> pyneuroml.pynml - INFO - Loading NeuroML2 file: ../NMC_model/NMC.NeuronML2/bNAC219_L5_DBC_0024418c1a_0_0.cell.nml\n",
      "pyNeuroML >>> 2025-02-03 14:57:49,201 - pyneuroml.pynml - INFO - Loading NeuroML2 file: ../NMC_model/NMC.NeuronML2/bNAC219_L5_DBC_0024418c1a_0_0.cell.nml\n",
      "pyNeuroML >>> pyneuroml.pynml - INFO - Loading NeuroML2 file: ../NMC_model/NMC.NeuronML2/cIR216_L5_DBC_44eae19442_0_0.cell.nml\n"
     ]
    },
    {
     "name": "stdout",
     "output_type": "stream",
     "text": [
      "Creating 2 cells of type bAC217_L5_DBC_e731906688_0_0.cell.nml\n",
      "Creating 1 cells of type bNAC219_L5_DBC_0024418c1a_0_0.cell.nml\n",
      "Creating 2 cells of type cIR216_L5_DBC_44eae19442_0_0.cell.nml\n"
     ]
    },
    {
     "name": "stderr",
     "output_type": "stream",
     "text": [
      "pyNeuroML >>> 2025-02-03 14:57:49,291 - pyneuroml.pynml - INFO - Loading NeuroML2 file: ../NMC_model/NMC.NeuronML2/cIR216_L5_DBC_44eae19442_0_0.cell.nml\n",
      "pyNeuroML >>> pyneuroml.pynml - INFO - Loading NeuroML2 file: ../NMC_model/NMC.NeuronML2/bNAC219_L5_DBC_0271760b42_0_0.cell.nml\n",
      "pyNeuroML >>> 2025-02-03 14:57:49,381 - pyneuroml.pynml - INFO - Loading NeuroML2 file: ../NMC_model/NMC.NeuronML2/bNAC219_L5_DBC_0271760b42_0_0.cell.nml\n"
     ]
    },
    {
     "name": "stdout",
     "output_type": "stream",
     "text": [
      "Creating 1 cells of type bNAC219_L5_DBC_0271760b42_0_0.cell.nml\n"
     ]
    },
    {
     "name": "stderr",
     "output_type": "stream",
     "text": [
      "pyNeuroML >>> pyneuroml.pynml - INFO - Loading NeuroML2 file: ../NMC_model/NMC.NeuronML2/bNAC219_L5_DBC_8be7b81168_0_0.cell.nml\n",
      "pyNeuroML >>> 2025-02-03 14:57:49,868 - pyneuroml.pynml - INFO - Loading NeuroML2 file: ../NMC_model/NMC.NeuronML2/bNAC219_L5_DBC_8be7b81168_0_0.cell.nml\n"
     ]
    },
    {
     "name": "stdout",
     "output_type": "stream",
     "text": [
      "Creating 2 cells of type bNAC219_L5_DBC_8be7b81168_0_0.cell.nml\n"
     ]
    },
    {
     "name": "stderr",
     "output_type": "stream",
     "text": [
      "pyNeuroML >>> pyneuroml.pynml - INFO - Loading NeuroML2 file: ../NMC_model/NMC.NeuronML2/bAC217_L5_DBC_7f0bb8efe9_0_0.cell.nml\n",
      "pyNeuroML >>> 2025-02-03 14:57:50,446 - pyneuroml.pynml - INFO - Loading NeuroML2 file: ../NMC_model/NMC.NeuronML2/bAC217_L5_DBC_7f0bb8efe9_0_0.cell.nml\n"
     ]
    },
    {
     "name": "stdout",
     "output_type": "stream",
     "text": [
      "Creating 2 cells of type bAC217_L5_DBC_7f0bb8efe9_0_0.cell.nml\n"
     ]
    },
    {
     "name": "stderr",
     "output_type": "stream",
     "text": [
      "pyNeuroML >>> pyneuroml.pynml - INFO - Loading NeuroML2 file: ../NMC_model/NMC.NeuronML2/cACint209_L5_BP_f600080385_0_0.cell.nml\n",
      "pyNeuroML >>> 2025-02-03 14:57:50,872 - pyneuroml.pynml - INFO - Loading NeuroML2 file: ../NMC_model/NMC.NeuronML2/cACint209_L5_BP_f600080385_0_0.cell.nml\n",
      "pyNeuroML >>> pyneuroml.pynml - INFO - Loading NeuroML2 file: ../NMC_model/NMC.NeuronML2/bIR215_L5_BP_03b3d4a19f_0_0.cell.nml\n",
      "pyNeuroML >>> 2025-02-03 14:57:50,975 - pyneuroml.pynml - INFO - Loading NeuroML2 file: ../NMC_model/NMC.NeuronML2/bIR215_L5_BP_03b3d4a19f_0_0.cell.nml\n",
      "pyNeuroML >>> pyneuroml.pynml - INFO - Loading NeuroML2 file: ../NMC_model/NMC.NeuronML2/bAC217_L5_BP_a122f83294_0_0.cell.nml\n"
     ]
    },
    {
     "name": "stdout",
     "output_type": "stream",
     "text": [
      "Creating 3 cells of type cACint209_L5_BP_f600080385_0_0.cell.nml\n",
      "Creating 2 cells of type bIR215_L5_BP_03b3d4a19f_0_0.cell.nml\n",
      "Creating 1 cells of type bAC217_L5_BP_a122f83294_0_0.cell.nml\n"
     ]
    },
    {
     "name": "stderr",
     "output_type": "stream",
     "text": [
      "pyNeuroML >>> 2025-02-03 14:57:51,075 - pyneuroml.pynml - INFO - Loading NeuroML2 file: ../NMC_model/NMC.NeuronML2/bAC217_L5_BP_a122f83294_0_0.cell.nml\n",
      "pyNeuroML >>> pyneuroml.pynml - INFO - Loading NeuroML2 file: ../NMC_model/NMC.NeuronML2/bNAC219_L5_BP_aae4b53a29_0_0.cell.nml\n",
      "pyNeuroML >>> 2025-02-03 14:57:51,175 - pyneuroml.pynml - INFO - Loading NeuroML2 file: ../NMC_model/NMC.NeuronML2/bNAC219_L5_BP_aae4b53a29_0_0.cell.nml\n"
     ]
    },
    {
     "name": "stdout",
     "output_type": "stream",
     "text": [
      "Creating 2 cells of type bNAC219_L5_BP_aae4b53a29_0_0.cell.nml\n"
     ]
    },
    {
     "name": "stderr",
     "output_type": "stream",
     "text": [
      "pyNeuroML >>> pyneuroml.pynml - INFO - Loading NeuroML2 file: ../NMC_model/NMC.NeuronML2/bIR215_L5_BP_706acf4049_0_0.cell.nml\n",
      "pyNeuroML >>> 2025-02-03 14:57:51,420 - pyneuroml.pynml - INFO - Loading NeuroML2 file: ../NMC_model/NMC.NeuronML2/bIR215_L5_BP_706acf4049_0_0.cell.nml\n",
      "pyNeuroML >>> pyneuroml.pynml - INFO - Loading NeuroML2 file: ../NMC_model/NMC.NeuronML2/cACint209_L5_BP_946d6468c0_0_0.cell.nml\n",
      "pyNeuroML >>> 2025-02-03 14:57:51,532 - pyneuroml.pynml - INFO - Loading NeuroML2 file: ../NMC_model/NMC.NeuronML2/cACint209_L5_BP_946d6468c0_0_0.cell.nml\n"
     ]
    },
    {
     "name": "stdout",
     "output_type": "stream",
     "text": [
      "Creating 1 cells of type bIR215_L5_BP_706acf4049_0_0.cell.nml\n",
      "Creating 1 cells of type cACint209_L5_BP_946d6468c0_0_0.cell.nml\n",
      "Creating 1 cells of type bAC217_L5_BP_d0cc8d7615_0_0.cell.nml\n"
     ]
    },
    {
     "name": "stderr",
     "output_type": "stream",
     "text": [
      "pyNeuroML >>> pyneuroml.pynml - INFO - Loading NeuroML2 file: ../NMC_model/NMC.NeuronML2/bAC217_L5_BP_d0cc8d7615_0_0.cell.nml\n",
      "pyNeuroML >>> 2025-02-03 14:57:51,635 - pyneuroml.pynml - INFO - Loading NeuroML2 file: ../NMC_model/NMC.NeuronML2/bAC217_L5_BP_d0cc8d7615_0_0.cell.nml\n",
      "pyNeuroML >>> pyneuroml.pynml - INFO - Loading NeuroML2 file: ../NMC_model/NMC.NeuronML2/bNAC219_L5_BP_46b0f41def_0_0.cell.nml\n",
      "pyNeuroML >>> 2025-02-03 14:57:51,738 - pyneuroml.pynml - INFO - Loading NeuroML2 file: ../NMC_model/NMC.NeuronML2/bNAC219_L5_BP_46b0f41def_0_0.cell.nml\n",
      "pyNeuroML >>> pyneuroml.pynml - INFO - Loading NeuroML2 file: ../NMC_model/NMC.NeuronML2/cACint209_L5_BP_46b07f0520_0_0.cell.nml\n",
      "pyNeuroML >>> 2025-02-03 14:57:51,841 - pyneuroml.pynml - INFO - Loading NeuroML2 file: ../NMC_model/NMC.NeuronML2/cACint209_L5_BP_46b07f0520_0_0.cell.nml\n"
     ]
    },
    {
     "name": "stdout",
     "output_type": "stream",
     "text": [
      "Creating 1 cells of type bNAC219_L5_BP_46b0f41def_0_0.cell.nml\n",
      "Creating 6 cells of type cACint209_L5_BP_46b07f0520_0_0.cell.nml\n"
     ]
    },
    {
     "name": "stderr",
     "output_type": "stream",
     "text": [
      "pyNeuroML >>> pyneuroml.pynml - INFO - Loading NeuroML2 file: ../NMC_model/NMC.NeuronML2/cACint209_L5_BP_94d2820eba_0_0.cell.nml\n",
      "pyNeuroML >>> 2025-02-03 14:57:51,946 - pyneuroml.pynml - INFO - Loading NeuroML2 file: ../NMC_model/NMC.NeuronML2/cACint209_L5_BP_94d2820eba_0_0.cell.nml\n",
      "pyNeuroML >>> pyneuroml.pynml - INFO - Loading NeuroML2 file: ../NMC_model/NMC.NeuronML2/bAC217_L5_BP_e3706556cb_0_0.cell.nml\n"
     ]
    },
    {
     "name": "stdout",
     "output_type": "stream",
     "text": [
      "Creating 5 cells of type cACint209_L5_BP_94d2820eba_0_0.cell.nml\n",
      "Creating 1 cells of type bAC217_L5_BP_e3706556cb_0_0.cell.nml\n"
     ]
    },
    {
     "name": "stderr",
     "output_type": "stream",
     "text": [
      "pyNeuroML >>> 2025-02-03 14:57:52,143 - pyneuroml.pynml - INFO - Loading NeuroML2 file: ../NMC_model/NMC.NeuronML2/bAC217_L5_BP_e3706556cb_0_0.cell.nml\n",
      "pyNeuroML >>> pyneuroml.pynml - INFO - Loading NeuroML2 file: ../NMC_model/NMC.NeuronML2/bAC217_L5_BP_55bc20256d_0_0.cell.nml\n",
      "pyNeuroML >>> 2025-02-03 14:57:52,245 - pyneuroml.pynml - INFO - Loading NeuroML2 file: ../NMC_model/NMC.NeuronML2/bAC217_L5_BP_55bc20256d_0_0.cell.nml\n",
      "pyNeuroML >>> pyneuroml.pynml - INFO - Loading NeuroML2 file: ../NMC_model/NMC.NeuronML2/bNAC219_L5_BP_77ea5abf2a_0_0.cell.nml\n",
      "pyNeuroML >>> 2025-02-03 14:57:52,351 - pyneuroml.pynml - INFO - Loading NeuroML2 file: ../NMC_model/NMC.NeuronML2/bNAC219_L5_BP_77ea5abf2a_0_0.cell.nml\n",
      "pyNeuroML >>> pyneuroml.pynml - INFO - Loading NeuroML2 file: ../NMC_model/NMC.NeuronML2/bAC217_L5_BP_4bf5a32d90_0_0.cell.nml\n"
     ]
    },
    {
     "name": "stdout",
     "output_type": "stream",
     "text": [
      "Creating 4 cells of type bAC217_L5_BP_55bc20256d_0_0.cell.nml\n",
      "Creating 1 cells of type bNAC219_L5_BP_77ea5abf2a_0_0.cell.nml\n",
      "Creating 2 cells of type bAC217_L5_BP_4bf5a32d90_0_0.cell.nml\n"
     ]
    },
    {
     "name": "stderr",
     "output_type": "stream",
     "text": [
      "pyNeuroML >>> 2025-02-03 14:57:52,453 - pyneuroml.pynml - INFO - Loading NeuroML2 file: ../NMC_model/NMC.NeuronML2/bAC217_L5_BP_4bf5a32d90_0_0.cell.nml\n",
      "pyNeuroML >>> pyneuroml.pynml - INFO - Loading NeuroML2 file: ../NMC_model/NMC.NeuronML2/cACint209_L5_BP_b43315e986_0_0.cell.nml\n",
      "pyNeuroML >>> 2025-02-03 14:57:52,557 - pyneuroml.pynml - INFO - Loading NeuroML2 file: ../NMC_model/NMC.NeuronML2/cACint209_L5_BP_b43315e986_0_0.cell.nml\n",
      "pyNeuroML >>> pyneuroml.pynml - INFO - Loading NeuroML2 file: ../NMC_model/NMC.NeuronML2/bNAC219_L5_BP_bc09d28ed4_0_0.cell.nml\n",
      "pyNeuroML >>> 2025-02-03 14:57:52,663 - pyneuroml.pynml - INFO - Loading NeuroML2 file: ../NMC_model/NMC.NeuronML2/bNAC219_L5_BP_bc09d28ed4_0_0.cell.nml\n"
     ]
    },
    {
     "name": "stdout",
     "output_type": "stream",
     "text": [
      "Creating 1 cells of type cACint209_L5_BP_b43315e986_0_0.cell.nml\n",
      "Creating 1 cells of type bNAC219_L5_BP_bc09d28ed4_0_0.cell.nml\n"
     ]
    },
    {
     "name": "stderr",
     "output_type": "stream",
     "text": [
      "pyNeuroML >>> pyneuroml.pynml - INFO - Loading NeuroML2 file: ../NMC_model/NMC.NeuronML2/dSTUT214_L5_BP_55f9b731a1_0_0.cell.nml\n",
      "pyNeuroML >>> 2025-02-03 14:57:52,868 - pyneuroml.pynml - INFO - Loading NeuroML2 file: ../NMC_model/NMC.NeuronML2/dSTUT214_L5_BP_55f9b731a1_0_0.cell.nml\n",
      "pyNeuroML >>> pyneuroml.pynml - INFO - Loading NeuroML2 file: ../NMC_model/NMC.NeuronML2/cACint209_L5_LBC_09c47b4905_0_0.cell.nml\n",
      "pyNeuroML >>> 2025-02-03 14:57:52,975 - pyneuroml.pynml - INFO - Loading NeuroML2 file: ../NMC_model/NMC.NeuronML2/cACint209_L5_LBC_09c47b4905_0_0.cell.nml\n"
     ]
    },
    {
     "name": "stdout",
     "output_type": "stream",
     "text": [
      "Creating 1 cells of type dSTUT214_L5_BP_55f9b731a1_0_0.cell.nml\n",
      "Creating 21 cells of type cACint209_L5_LBC_09c47b4905_0_0.cell.nml\n"
     ]
    },
    {
     "name": "stderr",
     "output_type": "stream",
     "text": [
      "pyNeuroML >>> pyneuroml.pynml - INFO - Loading NeuroML2 file: ../NMC_model/NMC.NeuronML2/dNAC222_L5_LBC_99ab75ea98_0_0.cell.nml\n",
      "pyNeuroML >>> 2025-02-03 14:57:53,431 - pyneuroml.pynml - INFO - Loading NeuroML2 file: ../NMC_model/NMC.NeuronML2/dNAC222_L5_LBC_99ab75ea98_0_0.cell.nml\n"
     ]
    },
    {
     "name": "stdout",
     "output_type": "stream",
     "text": [
      "Creating 6 cells of type dNAC222_L5_LBC_99ab75ea98_0_0.cell.nml\n"
     ]
    },
    {
     "name": "stderr",
     "output_type": "stream",
     "text": [
      "pyNeuroML >>> pyneuroml.pynml - INFO - Loading NeuroML2 file: ../NMC_model/NMC.NeuronML2/cNAC187_L5_LBC_078d827ab9_0_0.cell.nml\n",
      "pyNeuroML >>> 2025-02-03 14:57:53,691 - pyneuroml.pynml - INFO - Loading NeuroML2 file: ../NMC_model/NMC.NeuronML2/cNAC187_L5_LBC_078d827ab9_0_0.cell.nml\n",
      "pyNeuroML >>> pyneuroml.pynml - INFO - Loading NeuroML2 file: ../NMC_model/NMC.NeuronML2/cSTUT189_L5_LBC_7e5297a36c_0_0.cell.nml\n",
      "pyNeuroML >>> 2025-02-03 14:57:53,794 - pyneuroml.pynml - INFO - Loading NeuroML2 file: ../NMC_model/NMC.NeuronML2/cSTUT189_L5_LBC_7e5297a36c_0_0.cell.nml\n",
      "pyNeuroML >>> pyneuroml.pynml - INFO - Loading NeuroML2 file: ../NMC_model/NMC.NeuronML2/bAC217_L5_LBC_5fcaa92b0e_0_0.cell.nml\n"
     ]
    },
    {
     "name": "stdout",
     "output_type": "stream",
     "text": [
      "Creating 8 cells of type cNAC187_L5_LBC_078d827ab9_0_0.cell.nml\n",
      "Creating 5 cells of type cSTUT189_L5_LBC_7e5297a36c_0_0.cell.nml\n",
      "Creating 5 cells of type bAC217_L5_LBC_5fcaa92b0e_0_0.cell.nml\n"
     ]
    },
    {
     "name": "stderr",
     "output_type": "stream",
     "text": [
      "pyNeuroML >>> 2025-02-03 14:57:53,890 - pyneuroml.pynml - INFO - Loading NeuroML2 file: ../NMC_model/NMC.NeuronML2/bAC217_L5_LBC_5fcaa92b0e_0_0.cell.nml\n",
      "pyNeuroML >>> pyneuroml.pynml - INFO - Loading NeuroML2 file: ../NMC_model/NMC.NeuronML2/cACint209_L5_LBC_126a82ac08_0_0.cell.nml\n",
      "pyNeuroML >>> 2025-02-03 14:57:54,412 - pyneuroml.pynml - INFO - Loading NeuroML2 file: ../NMC_model/NMC.NeuronML2/cACint209_L5_LBC_126a82ac08_0_0.cell.nml\n",
      "pyNeuroML >>> pyneuroml.pynml - INFO - Loading NeuroML2 file: ../NMC_model/NMC.NeuronML2/cACint209_L5_LBC_e7a596714b_0_0.cell.nml\n",
      "pyNeuroML >>> 2025-02-03 14:57:54,515 - pyneuroml.pynml - INFO - Loading NeuroML2 file: ../NMC_model/NMC.NeuronML2/cACint209_L5_LBC_e7a596714b_0_0.cell.nml\n"
     ]
    },
    {
     "name": "stdout",
     "output_type": "stream",
     "text": [
      "Creating 24 cells of type cACint209_L5_LBC_126a82ac08_0_0.cell.nml\n",
      "Creating 11 cells of type cACint209_L5_LBC_e7a596714b_0_0.cell.nml\n"
     ]
    },
    {
     "name": "stderr",
     "output_type": "stream",
     "text": [
      "pyNeuroML >>> pyneuroml.pynml - INFO - Loading NeuroML2 file: ../NMC_model/NMC.NeuronML2/cACint209_L5_LBC_b1fb5cc4b0_0_0.cell.nml\n",
      "pyNeuroML >>> 2025-02-03 14:57:54,773 - pyneuroml.pynml - INFO - Loading NeuroML2 file: ../NMC_model/NMC.NeuronML2/cACint209_L5_LBC_b1fb5cc4b0_0_0.cell.nml\n",
      "pyNeuroML >>> pyneuroml.pynml - INFO - Loading NeuroML2 file: ../NMC_model/NMC.NeuronML2/cNAC187_L5_LBC_ebed230edd_0_0.cell.nml\n",
      "pyNeuroML >>> 2025-02-03 14:57:54,843 - pyneuroml.pynml - INFO - Loading NeuroML2 file: ../NMC_model/NMC.NeuronML2/cNAC187_L5_LBC_ebed230edd_0_0.cell.nml\n",
      "pyNeuroML >>> pyneuroml.pynml - INFO - Loading NeuroML2 file: ../NMC_model/NMC.NeuronML2/dNAC222_L5_LBC_f906bb679c_0_0.cell.nml\n",
      "pyNeuroML >>> 2025-02-03 14:57:54,911 - pyneuroml.pynml - INFO - Loading NeuroML2 file: ../NMC_model/NMC.NeuronML2/dNAC222_L5_LBC_f906bb679c_0_0.cell.nml\n"
     ]
    },
    {
     "name": "stdout",
     "output_type": "stream",
     "text": [
      "Creating 15 cells of type cACint209_L5_LBC_b1fb5cc4b0_0_0.cell.nml\n",
      "Creating 5 cells of type cNAC187_L5_LBC_ebed230edd_0_0.cell.nml\n",
      "Creating 5 cells of type dNAC222_L5_LBC_f906bb679c_0_0.cell.nml\n"
     ]
    },
    {
     "name": "stderr",
     "output_type": "stream",
     "text": [
      "pyNeuroML >>> pyneuroml.pynml - INFO - Loading NeuroML2 file: ../NMC_model/NMC.NeuronML2/cSTUT189_L5_LBC_640a1cef1d_0_0.cell.nml\n",
      "pyNeuroML >>> 2025-02-03 14:57:55,291 - pyneuroml.pynml - INFO - Loading NeuroML2 file: ../NMC_model/NMC.NeuronML2/cSTUT189_L5_LBC_640a1cef1d_0_0.cell.nml\n"
     ]
    },
    {
     "name": "stdout",
     "output_type": "stream",
     "text": [
      "Creating 5 cells of type cSTUT189_L5_LBC_640a1cef1d_0_0.cell.nml\n"
     ]
    },
    {
     "name": "stderr",
     "output_type": "stream",
     "text": [
      "pyNeuroML >>> pyneuroml.pynml - INFO - Loading NeuroML2 file: ../NMC_model/NMC.NeuronML2/cNAC187_L5_LBC_d19674cc92_0_0.cell.nml\n",
      "pyNeuroML >>> 2025-02-03 14:57:55,509 - pyneuroml.pynml - INFO - Loading NeuroML2 file: ../NMC_model/NMC.NeuronML2/cNAC187_L5_LBC_d19674cc92_0_0.cell.nml\n"
     ]
    },
    {
     "name": "stdout",
     "output_type": "stream",
     "text": [
      "Creating 9 cells of type cNAC187_L5_LBC_d19674cc92_0_0.cell.nml\n"
     ]
    },
    {
     "name": "stderr",
     "output_type": "stream",
     "text": [
      "pyNeuroML >>> pyneuroml.pynml - INFO - Loading NeuroML2 file: ../NMC_model/NMC.NeuronML2/bAC217_L5_LBC_01750e1e18_0_0.cell.nml\n",
      "pyNeuroML >>> 2025-02-03 14:57:55,732 - pyneuroml.pynml - INFO - Loading NeuroML2 file: ../NMC_model/NMC.NeuronML2/bAC217_L5_LBC_01750e1e18_0_0.cell.nml\n"
     ]
    },
    {
     "name": "stdout",
     "output_type": "stream",
     "text": [
      "Creating 7 cells of type bAC217_L5_LBC_01750e1e18_0_0.cell.nml\n"
     ]
    },
    {
     "name": "stderr",
     "output_type": "stream",
     "text": [
      "pyNeuroML >>> pyneuroml.pynml - INFO - Loading NeuroML2 file: ../NMC_model/NMC.NeuronML2/dNAC222_L5_LBC_0ffcc91920_0_0.cell.nml\n",
      "pyNeuroML >>> 2025-02-03 14:57:56,022 - pyneuroml.pynml - INFO - Loading NeuroML2 file: ../NMC_model/NMC.NeuronML2/dNAC222_L5_LBC_0ffcc91920_0_0.cell.nml\n",
      "pyNeuroML >>> pyneuroml.pynml - INFO - Loading NeuroML2 file: ../NMC_model/NMC.NeuronML2/bAC217_L5_LBC_3daa582d70_0_0.cell.nml\n"
     ]
    },
    {
     "name": "stdout",
     "output_type": "stream",
     "text": [
      "Creating 11 cells of type dNAC222_L5_LBC_0ffcc91920_0_0.cell.nml\n",
      "Creating 4 cells of type bAC217_L5_LBC_3daa582d70_0_0.cell.nml\n"
     ]
    },
    {
     "name": "stderr",
     "output_type": "stream",
     "text": [
      "pyNeuroML >>> 2025-02-03 14:57:56,213 - pyneuroml.pynml - INFO - Loading NeuroML2 file: ../NMC_model/NMC.NeuronML2/bAC217_L5_LBC_3daa582d70_0_0.cell.nml\n",
      "pyNeuroML >>> pyneuroml.pynml - INFO - Loading NeuroML2 file: ../NMC_model/NMC.NeuronML2/cSTUT189_L5_LBC_6f185d799a_0_0.cell.nml\n",
      "pyNeuroML >>> 2025-02-03 14:57:56,273 - pyneuroml.pynml - INFO - Loading NeuroML2 file: ../NMC_model/NMC.NeuronML2/cSTUT189_L5_LBC_6f185d799a_0_0.cell.nml\n",
      "pyNeuroML >>> pyneuroml.pynml - INFO - Loading NeuroML2 file: ../NMC_model/NMC.NeuronML2/dNAC222_L5_LBC_58bb1b2407_0_0.cell.nml\n",
      "pyNeuroML >>> 2025-02-03 14:57:56,438 - pyneuroml.pynml - INFO - Loading NeuroML2 file: ../NMC_model/NMC.NeuronML2/dNAC222_L5_LBC_58bb1b2407_0_0.cell.nml\n"
     ]
    },
    {
     "name": "stdout",
     "output_type": "stream",
     "text": [
      "Creating 3 cells of type cSTUT189_L5_LBC_6f185d799a_0_0.cell.nml\n",
      "Creating 2 cells of type dNAC222_L5_LBC_58bb1b2407_0_0.cell.nml\n"
     ]
    },
    {
     "name": "stderr",
     "output_type": "stream",
     "text": [
      "pyNeuroML >>> pyneuroml.pynml - INFO - Loading NeuroML2 file: ../NMC_model/NMC.NeuronML2/cIR216_L5_LBC_34458d6725_0_0.cell.nml\n",
      "pyNeuroML >>> 2025-02-03 14:57:56,497 - pyneuroml.pynml - INFO - Loading NeuroML2 file: ../NMC_model/NMC.NeuronML2/cIR216_L5_LBC_34458d6725_0_0.cell.nml\n"
     ]
    },
    {
     "name": "stdout",
     "output_type": "stream",
     "text": [
      "Creating 4 cells of type cIR216_L5_LBC_34458d6725_0_0.cell.nml\n"
     ]
    },
    {
     "name": "stderr",
     "output_type": "stream",
     "text": [
      "pyNeuroML >>> pyneuroml.pynml - INFO - Loading NeuroML2 file: ../NMC_model/NMC.NeuronML2/dSTUT214_L5_LBC_5dc27443f3_0_0.cell.nml\n",
      "pyNeuroML >>> 2025-02-03 14:57:57,034 - pyneuroml.pynml - INFO - Loading NeuroML2 file: ../NMC_model/NMC.NeuronML2/dSTUT214_L5_LBC_5dc27443f3_0_0.cell.nml\n",
      "pyNeuroML >>> pyneuroml.pynml - INFO - Loading NeuroML2 file: ../NMC_model/NMC.NeuronML2/cIR216_L5_LBC_c5448109e7_0_0.cell.nml\n"
     ]
    },
    {
     "name": "stdout",
     "output_type": "stream",
     "text": [
      "Creating 3 cells of type dSTUT214_L5_LBC_5dc27443f3_0_0.cell.nml\n",
      "Creating 3 cells of type cIR216_L5_LBC_c5448109e7_0_0.cell.nml\n"
     ]
    },
    {
     "name": "stderr",
     "output_type": "stream",
     "text": [
      "pyNeuroML >>> 2025-02-03 14:57:57,236 - pyneuroml.pynml - INFO - Loading NeuroML2 file: ../NMC_model/NMC.NeuronML2/cIR216_L5_LBC_c5448109e7_0_0.cell.nml\n",
      "pyNeuroML >>> pyneuroml.pynml - INFO - Loading NeuroML2 file: ../NMC_model/NMC.NeuronML2/cIR216_L5_LBC_8ce13ea42d_0_0.cell.nml\n",
      "pyNeuroML >>> 2025-02-03 14:57:57,390 - pyneuroml.pynml - INFO - Loading NeuroML2 file: ../NMC_model/NMC.NeuronML2/cIR216_L5_LBC_8ce13ea42d_0_0.cell.nml\n",
      "pyNeuroML >>> pyneuroml.pynml - INFO - Loading NeuroML2 file: ../NMC_model/NMC.NeuronML2/dSTUT214_L5_LBC_82d782e650_0_0.cell.nml\n",
      "pyNeuroML >>> 2025-02-03 14:57:57,490 - pyneuroml.pynml - INFO - Loading NeuroML2 file: ../NMC_model/NMC.NeuronML2/dSTUT214_L5_LBC_82d782e650_0_0.cell.nml\n"
     ]
    },
    {
     "name": "stdout",
     "output_type": "stream",
     "text": [
      "Creating 2 cells of type cIR216_L5_LBC_8ce13ea42d_0_0.cell.nml\n",
      "Creating 6 cells of type dSTUT214_L5_LBC_82d782e650_0_0.cell.nml\n"
     ]
    },
    {
     "name": "stderr",
     "output_type": "stream",
     "text": [
      "pyNeuroML >>> pyneuroml.pynml - INFO - Loading NeuroML2 file: ../NMC_model/NMC.NeuronML2/cACint209_L5_LBC_3285d77dba_0_0.cell.nml\n",
      "pyNeuroML >>> 2025-02-03 14:57:57,691 - pyneuroml.pynml - INFO - Loading NeuroML2 file: ../NMC_model/NMC.NeuronML2/cACint209_L5_LBC_3285d77dba_0_0.cell.nml\n"
     ]
    },
    {
     "name": "stdout",
     "output_type": "stream",
     "text": [
      "Creating 18 cells of type cACint209_L5_LBC_3285d77dba_0_0.cell.nml\n"
     ]
    },
    {
     "name": "stderr",
     "output_type": "stream",
     "text": [
      "pyNeuroML >>> pyneuroml.pynml - INFO - Loading NeuroML2 file: ../NMC_model/NMC.NeuronML2/cNAC187_L5_LBC_1e4112fe69_0_0.cell.nml\n",
      "pyNeuroML >>> 2025-02-03 14:57:57,915 - pyneuroml.pynml - INFO - Loading NeuroML2 file: ../NMC_model/NMC.NeuronML2/cNAC187_L5_LBC_1e4112fe69_0_0.cell.nml\n"
     ]
    },
    {
     "name": "stdout",
     "output_type": "stream",
     "text": [
      "Creating 6 cells of type cNAC187_L5_LBC_1e4112fe69_0_0.cell.nml\n"
     ]
    },
    {
     "name": "stderr",
     "output_type": "stream",
     "text": [
      "pyNeuroML >>> pyneuroml.pynml - INFO - Loading NeuroML2 file: ../NMC_model/NMC.NeuronML2/bAC217_L5_LBC_c2cff91741_0_0.cell.nml\n",
      "pyNeuroML >>> 2025-02-03 14:57:58,466 - pyneuroml.pynml - INFO - Loading NeuroML2 file: ../NMC_model/NMC.NeuronML2/bAC217_L5_LBC_c2cff91741_0_0.cell.nml\n"
     ]
    },
    {
     "name": "stdout",
     "output_type": "stream",
     "text": [
      "Creating 2 cells of type bAC217_L5_LBC_c2cff91741_0_0.cell.nml\n"
     ]
    },
    {
     "name": "stderr",
     "output_type": "stream",
     "text": [
      "pyNeuroML >>> pyneuroml.pynml - INFO - Loading NeuroML2 file: ../NMC_model/NMC.NeuronML2/cIR216_L5_LBC_c3984af99c_0_0.cell.nml\n",
      "pyNeuroML >>> 2025-02-03 14:57:58,821 - pyneuroml.pynml - INFO - Loading NeuroML2 file: ../NMC_model/NMC.NeuronML2/cIR216_L5_LBC_c3984af99c_0_0.cell.nml\n"
     ]
    },
    {
     "name": "stdout",
     "output_type": "stream",
     "text": [
      "Creating 2 cells of type cIR216_L5_LBC_c3984af99c_0_0.cell.nml\n"
     ]
    },
    {
     "name": "stderr",
     "output_type": "stream",
     "text": [
      "pyNeuroML >>> pyneuroml.pynml - INFO - Loading NeuroML2 file: ../NMC_model/NMC.NeuronML2/cIR216_L5_LBC_b2c5f59c1a_0_0.cell.nml\n",
      "pyNeuroML >>> 2025-02-03 14:57:59,259 - pyneuroml.pynml - INFO - Loading NeuroML2 file: ../NMC_model/NMC.NeuronML2/cIR216_L5_LBC_b2c5f59c1a_0_0.cell.nml\n",
      "pyNeuroML >>> pyneuroml.pynml - INFO - Loading NeuroML2 file: ../NMC_model/NMC.NeuronML2/cNAC187_L5_LBC_b883da43ff_0_0.cell.nml\n"
     ]
    },
    {
     "name": "stdout",
     "output_type": "stream",
     "text": [
      "Creating 3 cells of type cIR216_L5_LBC_b2c5f59c1a_0_0.cell.nml\n",
      "Creating 5 cells of type cNAC187_L5_LBC_b883da43ff_0_0.cell.nml\n"
     ]
    },
    {
     "name": "stderr",
     "output_type": "stream",
     "text": [
      "pyNeuroML >>> 2025-02-03 14:57:59,465 - pyneuroml.pynml - INFO - Loading NeuroML2 file: ../NMC_model/NMC.NeuronML2/cNAC187_L5_LBC_b883da43ff_0_0.cell.nml\n",
      "pyNeuroML >>> pyneuroml.pynml - INFO - Loading NeuroML2 file: ../NMC_model/NMC.NeuronML2/bAC217_L5_LBC_b66dd6b653_0_0.cell.nml\n",
      "pyNeuroML >>> 2025-02-03 14:57:59,798 - pyneuroml.pynml - INFO - Loading NeuroML2 file: ../NMC_model/NMC.NeuronML2/bAC217_L5_LBC_b66dd6b653_0_0.cell.nml\n"
     ]
    },
    {
     "name": "stdout",
     "output_type": "stream",
     "text": [
      "Creating 7 cells of type bAC217_L5_LBC_b66dd6b653_0_0.cell.nml\n"
     ]
    },
    {
     "name": "stderr",
     "output_type": "stream",
     "text": [
      "pyNeuroML >>> pyneuroml.pynml - INFO - Loading NeuroML2 file: ../NMC_model/NMC.NeuronML2/cSTUT189_L5_LBC_29803173bd_0_0.cell.nml\n",
      "pyNeuroML >>> 2025-02-03 14:58:00,266 - pyneuroml.pynml - INFO - Loading NeuroML2 file: ../NMC_model/NMC.NeuronML2/cSTUT189_L5_LBC_29803173bd_0_0.cell.nml\n",
      "pyNeuroML >>> pyneuroml.pynml - INFO - Loading NeuroML2 file: ../NMC_model/NMC.NeuronML2/cSTUT189_L5_LBC_0ffcc91920_0_0.cell.nml\n",
      "pyNeuroML >>> 2025-02-03 14:58:00,417 - pyneuroml.pynml - INFO - Loading NeuroML2 file: ../NMC_model/NMC.NeuronML2/cSTUT189_L5_LBC_0ffcc91920_0_0.cell.nml\n"
     ]
    },
    {
     "name": "stdout",
     "output_type": "stream",
     "text": [
      "Creating 1 cells of type cSTUT189_L5_LBC_29803173bd_0_0.cell.nml\n",
      "Creating 1 cells of type cSTUT189_L5_LBC_0ffcc91920_0_0.cell.nml\n"
     ]
    },
    {
     "name": "stderr",
     "output_type": "stream",
     "text": [
      "pyNeuroML >>> pyneuroml.pynml - INFO - Loading NeuroML2 file: ../NMC_model/NMC.NeuronML2/dSTUT214_L5_LBC_6a6d472ca8_0_0.cell.nml\n",
      "pyNeuroML >>> 2025-02-03 14:58:00,616 - pyneuroml.pynml - INFO - Loading NeuroML2 file: ../NMC_model/NMC.NeuronML2/dSTUT214_L5_LBC_6a6d472ca8_0_0.cell.nml\n",
      "pyNeuroML >>> pyneuroml.pynml - INFO - Loading NeuroML2 file: ../NMC_model/NMC.NeuronML2/cADpyr232_L5_STPC_a78c3cbca8_0_0.cell.nml\n",
      "pyNeuroML >>> 2025-02-03 14:58:00,716 - pyneuroml.pynml - INFO - Loading NeuroML2 file: ../NMC_model/NMC.NeuronML2/cADpyr232_L5_STPC_a78c3cbca8_0_0.cell.nml\n"
     ]
    },
    {
     "name": "stdout",
     "output_type": "stream",
     "text": [
      "Creating 1 cells of type dSTUT214_L5_LBC_6a6d472ca8_0_0.cell.nml\n",
      "Creating 52 cells of type cADpyr232_L5_STPC_a78c3cbca8_0_0.cell.nml\n"
     ]
    },
    {
     "name": "stderr",
     "output_type": "stream",
     "text": [
      "pyNeuroML >>> pyneuroml.pynml - INFO - Loading NeuroML2 file: ../NMC_model/NMC.NeuronML2/cADpyr232_L5_STPC_d16b0be14e_0_0.cell.nml\n",
      "pyNeuroML >>> 2025-02-03 14:58:01,465 - pyneuroml.pynml - INFO - Loading NeuroML2 file: ../NMC_model/NMC.NeuronML2/cADpyr232_L5_STPC_d16b0be14e_0_0.cell.nml\n"
     ]
    },
    {
     "name": "stdout",
     "output_type": "stream",
     "text": [
      "Creating 58 cells of type cADpyr232_L5_STPC_d16b0be14e_0_0.cell.nml\n"
     ]
    },
    {
     "name": "stderr",
     "output_type": "stream",
     "text": [
      "pyNeuroML >>> pyneuroml.pynml - INFO - Loading NeuroML2 file: ../NMC_model/NMC.NeuronML2/cADpyr232_L5_STPC_6d41d50fcb_0_0.cell.nml\n",
      "pyNeuroML >>> 2025-02-03 14:58:01,698 - pyneuroml.pynml - INFO - Loading NeuroML2 file: ../NMC_model/NMC.NeuronML2/cADpyr232_L5_STPC_6d41d50fcb_0_0.cell.nml\n"
     ]
    },
    {
     "name": "stdout",
     "output_type": "stream",
     "text": [
      "Creating 64 cells of type cADpyr232_L5_STPC_6d41d50fcb_0_0.cell.nml\n"
     ]
    },
    {
     "name": "stderr",
     "output_type": "stream",
     "text": [
      "pyNeuroML >>> pyneuroml.pynml - INFO - Loading NeuroML2 file: ../NMC_model/NMC.NeuronML2/cADpyr232_L5_STPC_d63221b7a8_0_0.cell.nml\n",
      "pyNeuroML >>> 2025-02-03 14:58:02,432 - pyneuroml.pynml - INFO - Loading NeuroML2 file: ../NMC_model/NMC.NeuronML2/cADpyr232_L5_STPC_d63221b7a8_0_0.cell.nml\n"
     ]
    },
    {
     "name": "stdout",
     "output_type": "stream",
     "text": [
      "Creating 58 cells of type cADpyr232_L5_STPC_d63221b7a8_0_0.cell.nml\n"
     ]
    },
    {
     "name": "stderr",
     "output_type": "stream",
     "text": [
      "pyNeuroML >>> pyneuroml.pynml - INFO - Loading NeuroML2 file: ../NMC_model/NMC.NeuronML2/cADpyr232_L5_STPC_4ec7a36770_0_0.cell.nml\n",
      "pyNeuroML >>> 2025-02-03 14:58:03,429 - pyneuroml.pynml - INFO - Loading NeuroML2 file: ../NMC_model/NMC.NeuronML2/cADpyr232_L5_STPC_4ec7a36770_0_0.cell.nml\n"
     ]
    },
    {
     "name": "stdout",
     "output_type": "stream",
     "text": [
      "Creating 70 cells of type cADpyr232_L5_STPC_4ec7a36770_0_0.cell.nml\n"
     ]
    },
    {
     "name": "stderr",
     "output_type": "stream",
     "text": [
      "pyNeuroML >>> pyneuroml.pynml - INFO - Loading NeuroML2 file: ../NMC_model/NMC.NeuronML2/cSTUT189_L5_NGC_ed87bd926f_0_0.cell.nml\n",
      "pyNeuroML >>> 2025-02-03 14:58:04,449 - pyneuroml.pynml - INFO - Loading NeuroML2 file: ../NMC_model/NMC.NeuronML2/cSTUT189_L5_NGC_ed87bd926f_0_0.cell.nml\n",
      "pyNeuroML >>> pyneuroml.pynml - INFO - Loading NeuroML2 file: ../NMC_model/NMC.NeuronML2/cNAC187_L5_NGC_86e570892b_0_0.cell.nml\n",
      "pyNeuroML >>> 2025-02-03 14:58:04,599 - pyneuroml.pynml - INFO - Loading NeuroML2 file: ../NMC_model/NMC.NeuronML2/cNAC187_L5_NGC_86e570892b_0_0.cell.nml\n"
     ]
    },
    {
     "name": "stdout",
     "output_type": "stream",
     "text": [
      "Creating 1 cells of type cSTUT189_L5_NGC_ed87bd926f_0_0.cell.nml\n",
      "Creating 1 cells of type cNAC187_L5_NGC_86e570892b_0_0.cell.nml\n"
     ]
    },
    {
     "name": "stderr",
     "output_type": "stream",
     "text": [
      "pyNeuroML >>> pyneuroml.pynml - INFO - Loading NeuroML2 file: ../NMC_model/NMC.NeuronML2/cACint209_L5_NGC_82e62003c9_0_0.cell.nml\n",
      "pyNeuroML >>> 2025-02-03 14:58:04,755 - pyneuroml.pynml - INFO - Loading NeuroML2 file: ../NMC_model/NMC.NeuronML2/cACint209_L5_NGC_82e62003c9_0_0.cell.nml\n"
     ]
    },
    {
     "name": "stdout",
     "output_type": "stream",
     "text": [
      "Creating 1 cells of type cACint209_L5_NGC_82e62003c9_0_0.cell.nml\n"
     ]
    },
    {
     "name": "stderr",
     "output_type": "stream",
     "text": [
      "pyNeuroML >>> pyneuroml.pynml - INFO - Loading NeuroML2 file: ../NMC_model/NMC.NeuronML2/cSTUT189_L5_NGC_de4f4a2b62_0_0.cell.nml\n",
      "pyNeuroML >>> 2025-02-03 14:58:05,116 - pyneuroml.pynml - INFO - Loading NeuroML2 file: ../NMC_model/NMC.NeuronML2/cSTUT189_L5_NGC_de4f4a2b62_0_0.cell.nml\n",
      "pyNeuroML >>> pyneuroml.pynml - INFO - Loading NeuroML2 file: ../NMC_model/NMC.NeuronML2/cNAC187_L5_NGC_73e8f0de9d_0_0.cell.nml\n",
      "pyNeuroML >>> 2025-02-03 14:58:05,270 - pyneuroml.pynml - INFO - Loading NeuroML2 file: ../NMC_model/NMC.NeuronML2/cNAC187_L5_NGC_73e8f0de9d_0_0.cell.nml\n"
     ]
    },
    {
     "name": "stdout",
     "output_type": "stream",
     "text": [
      "Creating 2 cells of type cSTUT189_L5_NGC_de4f4a2b62_0_0.cell.nml\n",
      "Creating 1 cells of type cNAC187_L5_NGC_73e8f0de9d_0_0.cell.nml\n"
     ]
    },
    {
     "name": "stderr",
     "output_type": "stream",
     "text": [
      "pyNeuroML >>> pyneuroml.pynml - INFO - Loading NeuroML2 file: ../NMC_model/NMC.NeuronML2/cACint209_L5_NGC_2ab508e906_0_0.cell.nml\n",
      "pyNeuroML >>> 2025-02-03 14:58:05,437 - pyneuroml.pynml - INFO - Loading NeuroML2 file: ../NMC_model/NMC.NeuronML2/cACint209_L5_NGC_2ab508e906_0_0.cell.nml\n",
      "pyNeuroML >>> pyneuroml.pynml - INFO - Loading NeuroML2 file: ../NMC_model/NMC.NeuronML2/cACint209_L5_NGC_182e4f4a95_0_0.cell.nml\n",
      "pyNeuroML >>> 2025-02-03 14:58:05,599 - pyneuroml.pynml - INFO - Loading NeuroML2 file: ../NMC_model/NMC.NeuronML2/cACint209_L5_NGC_182e4f4a95_0_0.cell.nml\n"
     ]
    },
    {
     "name": "stdout",
     "output_type": "stream",
     "text": [
      "Creating 1 cells of type cACint209_L5_NGC_2ab508e906_0_0.cell.nml\n",
      "Creating 1 cells of type cACint209_L5_NGC_182e4f4a95_0_0.cell.nml\n"
     ]
    },
    {
     "name": "stderr",
     "output_type": "stream",
     "text": [
      "pyNeuroML >>> pyneuroml.pynml - INFO - Loading NeuroML2 file: ../NMC_model/NMC.NeuronML2/cACint209_L5_SBC_5318cbf0cb_0_0.cell.nml\n",
      "pyNeuroML >>> 2025-02-03 14:58:05,867 - pyneuroml.pynml - INFO - Loading NeuroML2 file: ../NMC_model/NMC.NeuronML2/cACint209_L5_SBC_5318cbf0cb_0_0.cell.nml\n"
     ]
    },
    {
     "name": "stdout",
     "output_type": "stream",
     "text": [
      "Creating 5 cells of type cACint209_L5_SBC_5318cbf0cb_0_0.cell.nml\n"
     ]
    },
    {
     "name": "stderr",
     "output_type": "stream",
     "text": [
      "pyNeuroML >>> pyneuroml.pynml - INFO - Loading NeuroML2 file: ../NMC_model/NMC.NeuronML2/bNAC219_L5_SBC_77ab259b7f_0_0.cell.nml\n",
      "pyNeuroML >>> 2025-02-03 14:58:06,083 - pyneuroml.pynml - INFO - Loading NeuroML2 file: ../NMC_model/NMC.NeuronML2/bNAC219_L5_SBC_77ab259b7f_0_0.cell.nml\n",
      "pyNeuroML >>> pyneuroml.pynml - INFO - Loading NeuroML2 file: ../NMC_model/NMC.NeuronML2/cACint209_L5_SBC_61a753bff1_0_0.cell.nml\n",
      "pyNeuroML >>> 2025-02-03 14:58:06,201 - pyneuroml.pynml - INFO - Loading NeuroML2 file: ../NMC_model/NMC.NeuronML2/cACint209_L5_SBC_61a753bff1_0_0.cell.nml\n"
     ]
    },
    {
     "name": "stdout",
     "output_type": "stream",
     "text": [
      "Creating 2 cells of type bNAC219_L5_SBC_77ab259b7f_0_0.cell.nml\n",
      "Creating 2 cells of type cACint209_L5_SBC_61a753bff1_0_0.cell.nml\n"
     ]
    },
    {
     "name": "stderr",
     "output_type": "stream",
     "text": [
      "pyNeuroML >>> pyneuroml.pynml - INFO - Loading NeuroML2 file: ../NMC_model/NMC.NeuronML2/dNAC222_L5_SBC_64157b3c40_0_0.cell.nml\n",
      "pyNeuroML >>> 2025-02-03 14:58:06,315 - pyneuroml.pynml - INFO - Loading NeuroML2 file: ../NMC_model/NMC.NeuronML2/dNAC222_L5_SBC_64157b3c40_0_0.cell.nml\n"
     ]
    },
    {
     "name": "stdout",
     "output_type": "stream",
     "text": [
      "Creating 1 cells of type dNAC222_L5_SBC_64157b3c40_0_0.cell.nml\n"
     ]
    },
    {
     "name": "stderr",
     "output_type": "stream",
     "text": [
      "pyNeuroML >>> pyneuroml.pynml - INFO - Loading NeuroML2 file: ../NMC_model/NMC.NeuronML2/cACint209_L5_SBC_0e6ba49679_0_0.cell.nml\n",
      "pyNeuroML >>> 2025-02-03 14:58:06,608 - pyneuroml.pynml - INFO - Loading NeuroML2 file: ../NMC_model/NMC.NeuronML2/cACint209_L5_SBC_0e6ba49679_0_0.cell.nml\n",
      "pyNeuroML >>> pyneuroml.pynml - INFO - Loading NeuroML2 file: ../NMC_model/NMC.NeuronML2/cACint209_L5_SBC_e8567af242_0_0.cell.nml\n"
     ]
    },
    {
     "name": "stdout",
     "output_type": "stream",
     "text": [
      "Creating 4 cells of type cACint209_L5_SBC_0e6ba49679_0_0.cell.nml\n",
      "Creating 4 cells of type cACint209_L5_SBC_e8567af242_0_0.cell.nml\n"
     ]
    },
    {
     "name": "stderr",
     "output_type": "stream",
     "text": [
      "pyNeuroML >>> 2025-02-03 14:58:06,804 - pyneuroml.pynml - INFO - Loading NeuroML2 file: ../NMC_model/NMC.NeuronML2/cACint209_L5_SBC_e8567af242_0_0.cell.nml\n",
      "pyNeuroML >>> pyneuroml.pynml - INFO - Loading NeuroML2 file: ../NMC_model/NMC.NeuronML2/dNAC222_L5_SBC_365080b27f_0_0.cell.nml\n",
      "pyNeuroML >>> 2025-02-03 14:58:06,999 - pyneuroml.pynml - INFO - Loading NeuroML2 file: ../NMC_model/NMC.NeuronML2/dNAC222_L5_SBC_365080b27f_0_0.cell.nml\n"
     ]
    },
    {
     "name": "stdout",
     "output_type": "stream",
     "text": [
      "Creating 1 cells of type dNAC222_L5_SBC_365080b27f_0_0.cell.nml\n"
     ]
    },
    {
     "name": "stderr",
     "output_type": "stream",
     "text": [
      "pyNeuroML >>> pyneuroml.pynml - INFO - Loading NeuroML2 file: ../NMC_model/NMC.NeuronML2/dNAC222_L5_SBC_513d1f1596_0_0.cell.nml\n",
      "pyNeuroML >>> 2025-02-03 14:58:07,289 - pyneuroml.pynml - INFO - Loading NeuroML2 file: ../NMC_model/NMC.NeuronML2/dNAC222_L5_SBC_513d1f1596_0_0.cell.nml\n",
      "pyNeuroML >>> pyneuroml.pynml - INFO - Loading NeuroML2 file: ../NMC_model/NMC.NeuronML2/cACint209_L5_SBC_3ba116236f_0_0.cell.nml\n",
      "pyNeuroML >>> 2025-02-03 14:58:07,391 - pyneuroml.pynml - INFO - Loading NeuroML2 file: ../NMC_model/NMC.NeuronML2/cACint209_L5_SBC_3ba116236f_0_0.cell.nml\n"
     ]
    },
    {
     "name": "stdout",
     "output_type": "stream",
     "text": [
      "Creating 1 cells of type dNAC222_L5_SBC_513d1f1596_0_0.cell.nml\n",
      "Creating 3 cells of type cACint209_L5_SBC_3ba116236f_0_0.cell.nml\n"
     ]
    },
    {
     "name": "stderr",
     "output_type": "stream",
     "text": [
      "pyNeuroML >>> pyneuroml.pynml - INFO - Loading NeuroML2 file: ../NMC_model/NMC.NeuronML2/bNAC219_L5_SBC_30bda13a76_0_0.cell.nml\n",
      "pyNeuroML >>> 2025-02-03 14:58:08,052 - pyneuroml.pynml - INFO - Loading NeuroML2 file: ../NMC_model/NMC.NeuronML2/bNAC219_L5_SBC_30bda13a76_0_0.cell.nml\n",
      "pyNeuroML >>> pyneuroml.pynml - INFO - Loading NeuroML2 file: ../NMC_model/NMC.NeuronML2/dNAC222_L5_SBC_e37bc9bae0_0_0.cell.nml\n",
      "pyNeuroML >>> 2025-02-03 14:58:08,161 - pyneuroml.pynml - INFO - Loading NeuroML2 file: ../NMC_model/NMC.NeuronML2/dNAC222_L5_SBC_e37bc9bae0_0_0.cell.nml\n"
     ]
    },
    {
     "name": "stdout",
     "output_type": "stream",
     "text": [
      "Creating 1 cells of type bNAC219_L5_SBC_30bda13a76_0_0.cell.nml\n",
      "Creating 1 cells of type dNAC222_L5_SBC_e37bc9bae0_0_0.cell.nml\n",
      "Creating 12 cells of type bAC217_L5_NBC_2db880c523_0_0.cell.nml\n"
     ]
    },
    {
     "name": "stderr",
     "output_type": "stream",
     "text": [
      "pyNeuroML >>> pyneuroml.pynml - INFO - Loading NeuroML2 file: ../NMC_model/NMC.NeuronML2/bAC217_L5_NBC_2db880c523_0_0.cell.nml\n",
      "pyNeuroML >>> 2025-02-03 14:58:08,266 - pyneuroml.pynml - INFO - Loading NeuroML2 file: ../NMC_model/NMC.NeuronML2/bAC217_L5_NBC_2db880c523_0_0.cell.nml\n",
      "pyNeuroML >>> pyneuroml.pynml - INFO - Loading NeuroML2 file: ../NMC_model/NMC.NeuronML2/cACint209_L5_NBC_63fe8b2e25_0_0.cell.nml\n",
      "pyNeuroML >>> 2025-02-03 14:58:08,450 - pyneuroml.pynml - INFO - Loading NeuroML2 file: ../NMC_model/NMC.NeuronML2/cACint209_L5_NBC_63fe8b2e25_0_0.cell.nml\n",
      "pyNeuroML >>> pyneuroml.pynml - INFO - Loading NeuroML2 file: ../NMC_model/NMC.NeuronML2/bAC217_L5_NBC_e943473349_0_0.cell.nml\n"
     ]
    },
    {
     "name": "stdout",
     "output_type": "stream",
     "text": [
      "Creating 8 cells of type cACint209_L5_NBC_63fe8b2e25_0_0.cell.nml\n",
      "Creating 11 cells of type bAC217_L5_NBC_e943473349_0_0.cell.nml\n"
     ]
    },
    {
     "name": "stderr",
     "output_type": "stream",
     "text": [
      "pyNeuroML >>> 2025-02-03 14:58:08,637 - pyneuroml.pynml - INFO - Loading NeuroML2 file: ../NMC_model/NMC.NeuronML2/bAC217_L5_NBC_e943473349_0_0.cell.nml\n",
      "pyNeuroML >>> pyneuroml.pynml - INFO - Loading NeuroML2 file: ../NMC_model/NMC.NeuronML2/cSTUT189_L5_NBC_42f781cf08_0_0.cell.nml\n",
      "pyNeuroML >>> 2025-02-03 14:58:08,968 - pyneuroml.pynml - INFO - Loading NeuroML2 file: ../NMC_model/NMC.NeuronML2/cSTUT189_L5_NBC_42f781cf08_0_0.cell.nml\n",
      "pyNeuroML >>> pyneuroml.pynml - INFO - Loading NeuroML2 file: ../NMC_model/NMC.NeuronML2/cACint209_L5_NBC_3064d86d49_0_0.cell.nml\n",
      "pyNeuroML >>> 2025-02-03 14:58:09,123 - pyneuroml.pynml - INFO - Loading NeuroML2 file: ../NMC_model/NMC.NeuronML2/cACint209_L5_NBC_3064d86d49_0_0.cell.nml\n"
     ]
    },
    {
     "name": "stdout",
     "output_type": "stream",
     "text": [
      "Creating 3 cells of type cSTUT189_L5_NBC_42f781cf08_0_0.cell.nml\n",
      "Creating 12 cells of type cACint209_L5_NBC_3064d86d49_0_0.cell.nml\n"
     ]
    },
    {
     "name": "stderr",
     "output_type": "stream",
     "text": [
      "pyNeuroML >>> pyneuroml.pynml - INFO - Loading NeuroML2 file: ../NMC_model/NMC.NeuronML2/bIR215_L5_NBC_809407f588_0_0.cell.nml\n",
      "pyNeuroML >>> 2025-02-03 14:58:09,408 - pyneuroml.pynml - INFO - Loading NeuroML2 file: ../NMC_model/NMC.NeuronML2/bIR215_L5_NBC_809407f588_0_0.cell.nml\n"
     ]
    },
    {
     "name": "stdout",
     "output_type": "stream",
     "text": [
      "Creating 2 cells of type bIR215_L5_NBC_809407f588_0_0.cell.nml\n"
     ]
    },
    {
     "name": "stderr",
     "output_type": "stream",
     "text": [
      "pyNeuroML >>> pyneuroml.pynml - INFO - Loading NeuroML2 file: ../NMC_model/NMC.NeuronML2/bIR215_L5_NBC_913c40083e_0_0.cell.nml\n",
      "pyNeuroML >>> 2025-02-03 14:58:09,689 - pyneuroml.pynml - INFO - Loading NeuroML2 file: ../NMC_model/NMC.NeuronML2/bIR215_L5_NBC_913c40083e_0_0.cell.nml\n",
      "pyNeuroML >>> pyneuroml.pynml - INFO - Loading NeuroML2 file: ../NMC_model/NMC.NeuronML2/dSTUT214_L5_NBC_3a23cf60a6_0_0.cell.nml\n",
      "pyNeuroML >>> 2025-02-03 14:58:09,798 - pyneuroml.pynml - INFO - Loading NeuroML2 file: ../NMC_model/NMC.NeuronML2/dSTUT214_L5_NBC_3a23cf60a6_0_0.cell.nml\n"
     ]
    },
    {
     "name": "stdout",
     "output_type": "stream",
     "text": [
      "Creating 4 cells of type bIR215_L5_NBC_913c40083e_0_0.cell.nml\n",
      "Creating 5 cells of type dSTUT214_L5_NBC_3a23cf60a6_0_0.cell.nml\n"
     ]
    },
    {
     "name": "stderr",
     "output_type": "stream",
     "text": [
      "pyNeuroML >>> pyneuroml.pynml - INFO - Loading NeuroML2 file: ../NMC_model/NMC.NeuronML2/bAC217_L5_NBC_913c40083e_0_0.cell.nml\n",
      "pyNeuroML >>> 2025-02-03 14:58:09,995 - pyneuroml.pynml - INFO - Loading NeuroML2 file: ../NMC_model/NMC.NeuronML2/bAC217_L5_NBC_913c40083e_0_0.cell.nml\n",
      "pyNeuroML >>> pyneuroml.pynml - INFO - Loading NeuroML2 file: ../NMC_model/NMC.NeuronML2/bSTUT213_L5_NBC_e7c18ce52f_0_0.cell.nml\n",
      "pyNeuroML >>> 2025-02-03 14:58:10,118 - pyneuroml.pynml - INFO - Loading NeuroML2 file: ../NMC_model/NMC.NeuronML2/bSTUT213_L5_NBC_e7c18ce52f_0_0.cell.nml\n"
     ]
    },
    {
     "name": "stdout",
     "output_type": "stream",
     "text": [
      "Creating 7 cells of type bAC217_L5_NBC_913c40083e_0_0.cell.nml\n",
      "Creating 3 cells of type bSTUT213_L5_NBC_e7c18ce52f_0_0.cell.nml\n"
     ]
    },
    {
     "name": "stderr",
     "output_type": "stream",
     "text": [
      "pyNeuroML >>> pyneuroml.pynml - INFO - Loading NeuroML2 file: ../NMC_model/NMC.NeuronML2/cIR216_L5_NBC_12baea0593_0_0.cell.nml\n",
      "pyNeuroML >>> 2025-02-03 14:58:10,375 - pyneuroml.pynml - INFO - Loading NeuroML2 file: ../NMC_model/NMC.NeuronML2/cIR216_L5_NBC_12baea0593_0_0.cell.nml\n",
      "pyNeuroML >>> pyneuroml.pynml - INFO - Loading NeuroML2 file: ../NMC_model/NMC.NeuronML2/cACint209_L5_NBC_e9641cafc3_0_0.cell.nml\n",
      "pyNeuroML >>> 2025-02-03 14:58:10,541 - pyneuroml.pynml - INFO - Loading NeuroML2 file: ../NMC_model/NMC.NeuronML2/cACint209_L5_NBC_e9641cafc3_0_0.cell.nml\n"
     ]
    },
    {
     "name": "stdout",
     "output_type": "stream",
     "text": [
      "Creating 1 cells of type cIR216_L5_NBC_12baea0593_0_0.cell.nml\n",
      "Creating 15 cells of type cACint209_L5_NBC_e9641cafc3_0_0.cell.nml\n"
     ]
    },
    {
     "name": "stderr",
     "output_type": "stream",
     "text": [
      "pyNeuroML >>> pyneuroml.pynml - INFO - Loading NeuroML2 file: ../NMC_model/NMC.NeuronML2/cACint209_L5_NBC_ac16f8ddcb_0_0.cell.nml\n",
      "pyNeuroML >>> 2025-02-03 14:58:10,852 - pyneuroml.pynml - INFO - Loading NeuroML2 file: ../NMC_model/NMC.NeuronML2/cACint209_L5_NBC_ac16f8ddcb_0_0.cell.nml\n"
     ]
    },
    {
     "name": "stdout",
     "output_type": "stream",
     "text": [
      "Creating 16 cells of type cACint209_L5_NBC_ac16f8ddcb_0_0.cell.nml\n"
     ]
    },
    {
     "name": "stderr",
     "output_type": "stream",
     "text": [
      "pyNeuroML >>> pyneuroml.pynml - INFO - Loading NeuroML2 file: ../NMC_model/NMC.NeuronML2/dSTUT214_L5_NBC_4a41f068df_0_0.cell.nml\n",
      "pyNeuroML >>> 2025-02-03 14:58:11,239 - pyneuroml.pynml - INFO - Loading NeuroML2 file: ../NMC_model/NMC.NeuronML2/dSTUT214_L5_NBC_4a41f068df_0_0.cell.nml\n"
     ]
    },
    {
     "name": "stdout",
     "output_type": "stream",
     "text": [
      "Creating 5 cells of type dSTUT214_L5_NBC_4a41f068df_0_0.cell.nml\n"
     ]
    },
    {
     "name": "stderr",
     "output_type": "stream",
     "text": [
      "pyNeuroML >>> pyneuroml.pynml - INFO - Loading NeuroML2 file: ../NMC_model/NMC.NeuronML2/cSTUT189_L5_NBC_031c89778f_0_0.cell.nml\n",
      "pyNeuroML >>> 2025-02-03 14:58:11,526 - pyneuroml.pynml - INFO - Loading NeuroML2 file: ../NMC_model/NMC.NeuronML2/cSTUT189_L5_NBC_031c89778f_0_0.cell.nml\n",
      "pyNeuroML >>> pyneuroml.pynml - INFO - Loading NeuroML2 file: ../NMC_model/NMC.NeuronML2/bIR215_L5_NBC_0871cd68c5_0_0.cell.nml\n",
      "pyNeuroML >>> 2025-02-03 14:58:11,681 - pyneuroml.pynml - INFO - Loading NeuroML2 file: ../NMC_model/NMC.NeuronML2/bIR215_L5_NBC_0871cd68c5_0_0.cell.nml\n"
     ]
    },
    {
     "name": "stdout",
     "output_type": "stream",
     "text": [
      "Creating 2 cells of type cSTUT189_L5_NBC_031c89778f_0_0.cell.nml\n",
      "Creating 4 cells of type bIR215_L5_NBC_0871cd68c5_0_0.cell.nml\n"
     ]
    },
    {
     "name": "stderr",
     "output_type": "stream",
     "text": [
      "pyNeuroML >>> pyneuroml.pynml - INFO - Loading NeuroML2 file: ../NMC_model/NMC.NeuronML2/bAC217_L5_NBC_768f1bf7ac_0_0.cell.nml\n",
      "pyNeuroML >>> 2025-02-03 14:58:11,960 - pyneuroml.pynml - INFO - Loading NeuroML2 file: ../NMC_model/NMC.NeuronML2/bAC217_L5_NBC_768f1bf7ac_0_0.cell.nml\n",
      "pyNeuroML >>> pyneuroml.pynml - INFO - Loading NeuroML2 file: ../NMC_model/NMC.NeuronML2/cNAC187_L5_NBC_ded84149de_0_0.cell.nml\n",
      "pyNeuroML >>> 2025-02-03 14:58:12,093 - pyneuroml.pynml - INFO - Loading NeuroML2 file: ../NMC_model/NMC.NeuronML2/cNAC187_L5_NBC_ded84149de_0_0.cell.nml\n"
     ]
    },
    {
     "name": "stdout",
     "output_type": "stream",
     "text": [
      "Creating 10 cells of type bAC217_L5_NBC_768f1bf7ac_0_0.cell.nml\n",
      "Creating 8 cells of type cNAC187_L5_NBC_ded84149de_0_0.cell.nml\n"
     ]
    },
    {
     "name": "stderr",
     "output_type": "stream",
     "text": [
      "pyNeuroML >>> pyneuroml.pynml - INFO - Loading NeuroML2 file: ../NMC_model/NMC.NeuronML2/cNAC187_L5_NBC_8d74f99eef_0_0.cell.nml\n",
      "pyNeuroML >>> 2025-02-03 14:58:12,274 - pyneuroml.pynml - INFO - Loading NeuroML2 file: ../NMC_model/NMC.NeuronML2/cNAC187_L5_NBC_8d74f99eef_0_0.cell.nml\n",
      "pyNeuroML >>> pyneuroml.pynml - INFO - Loading NeuroML2 file: ../NMC_model/NMC.NeuronML2/cSTUT189_L5_NBC_cb87ec754a_0_0.cell.nml\n",
      "pyNeuroML >>> 2025-02-03 14:58:12,374 - pyneuroml.pynml - INFO - Loading NeuroML2 file: ../NMC_model/NMC.NeuronML2/cSTUT189_L5_NBC_cb87ec754a_0_0.cell.nml\n"
     ]
    },
    {
     "name": "stdout",
     "output_type": "stream",
     "text": [
      "Creating 5 cells of type cNAC187_L5_NBC_8d74f99eef_0_0.cell.nml\n",
      "Creating 4 cells of type cSTUT189_L5_NBC_cb87ec754a_0_0.cell.nml\n"
     ]
    },
    {
     "name": "stderr",
     "output_type": "stream",
     "text": [
      "pyNeuroML >>> pyneuroml.pynml - INFO - Loading NeuroML2 file: ../NMC_model/NMC.NeuronML2/cNAC187_L5_NBC_a91e150b71_0_0.cell.nml\n",
      "pyNeuroML >>> 2025-02-03 14:58:12,766 - pyneuroml.pynml - INFO - Loading NeuroML2 file: ../NMC_model/NMC.NeuronML2/cNAC187_L5_NBC_a91e150b71_0_0.cell.nml\n"
     ]
    },
    {
     "name": "stdout",
     "output_type": "stream",
     "text": [
      "Creating 4 cells of type cNAC187_L5_NBC_a91e150b71_0_0.cell.nml\n"
     ]
    },
    {
     "name": "stderr",
     "output_type": "stream",
     "text": [
      "pyNeuroML >>> pyneuroml.pynml - INFO - Loading NeuroML2 file: ../NMC_model/NMC.NeuronML2/bSTUT213_L5_NBC_bb8fc44e15_0_0.cell.nml\n",
      "pyNeuroML >>> 2025-02-03 14:58:13,068 - pyneuroml.pynml - INFO - Loading NeuroML2 file: ../NMC_model/NMC.NeuronML2/bSTUT213_L5_NBC_bb8fc44e15_0_0.cell.nml\n"
     ]
    },
    {
     "name": "stdout",
     "output_type": "stream",
     "text": [
      "Creating 2 cells of type bSTUT213_L5_NBC_bb8fc44e15_0_0.cell.nml\n",
      "Creating 2 cells of type bSTUT213_L5_NBC_650c18e6aa_0_0.cell.nml\n"
     ]
    },
    {
     "name": "stderr",
     "output_type": "stream",
     "text": [
      "pyNeuroML >>> pyneuroml.pynml - INFO - Loading NeuroML2 file: ../NMC_model/NMC.NeuronML2/bSTUT213_L5_NBC_650c18e6aa_0_0.cell.nml\n",
      "pyNeuroML >>> 2025-02-03 14:58:13,261 - pyneuroml.pynml - INFO - Loading NeuroML2 file: ../NMC_model/NMC.NeuronML2/bSTUT213_L5_NBC_650c18e6aa_0_0.cell.nml\n",
      "pyNeuroML >>> pyneuroml.pynml - INFO - Loading NeuroML2 file: ../NMC_model/NMC.NeuronML2/dSTUT214_L5_NBC_2518b7a9e0_0_0.cell.nml\n",
      "pyNeuroML >>> 2025-02-03 14:58:13,526 - pyneuroml.pynml - INFO - Loading NeuroML2 file: ../NMC_model/NMC.NeuronML2/dSTUT214_L5_NBC_2518b7a9e0_0_0.cell.nml\n"
     ]
    },
    {
     "name": "stdout",
     "output_type": "stream",
     "text": [
      "Creating 5 cells of type dSTUT214_L5_NBC_2518b7a9e0_0_0.cell.nml\n"
     ]
    },
    {
     "name": "stderr",
     "output_type": "stream",
     "text": [
      "pyNeuroML >>> pyneuroml.pynml - INFO - Loading NeuroML2 file: ../NMC_model/NMC.NeuronML2/cIR216_L5_NBC_650c18e6aa_0_0.cell.nml\n",
      "pyNeuroML >>> 2025-02-03 14:58:13,755 - pyneuroml.pynml - INFO - Loading NeuroML2 file: ../NMC_model/NMC.NeuronML2/cIR216_L5_NBC_650c18e6aa_0_0.cell.nml\n",
      "pyNeuroML >>> pyneuroml.pynml - INFO - Loading NeuroML2 file: ../NMC_model/NMC.NeuronML2/dSTUT214_L5_NBC_d4cc42ae25_0_0.cell.nml\n",
      "pyNeuroML >>> 2025-02-03 14:58:13,861 - pyneuroml.pynml - INFO - Loading NeuroML2 file: ../NMC_model/NMC.NeuronML2/dSTUT214_L5_NBC_d4cc42ae25_0_0.cell.nml\n"
     ]
    },
    {
     "name": "stdout",
     "output_type": "stream",
     "text": [
      "Creating 2 cells of type cIR216_L5_NBC_650c18e6aa_0_0.cell.nml\n",
      "Creating 1 cells of type dSTUT214_L5_NBC_d4cc42ae25_0_0.cell.nml\n"
     ]
    },
    {
     "name": "stderr",
     "output_type": "stream",
     "text": [
      "pyNeuroML >>> pyneuroml.pynml - INFO - Loading NeuroML2 file: ../NMC_model/NMC.NeuronML2/cACint209_L5_NBC_3bb78a3daa_0_0.cell.nml\n",
      "pyNeuroML >>> 2025-02-03 14:58:14,013 - pyneuroml.pynml - INFO - Loading NeuroML2 file: ../NMC_model/NMC.NeuronML2/cACint209_L5_NBC_3bb78a3daa_0_0.cell.nml\n"
     ]
    },
    {
     "name": "stdout",
     "output_type": "stream",
     "text": [
      "Creating 8 cells of type cACint209_L5_NBC_3bb78a3daa_0_0.cell.nml\n"
     ]
    },
    {
     "name": "stderr",
     "output_type": "stream",
     "text": [
      "pyNeuroML >>> pyneuroml.pynml - INFO - Loading NeuroML2 file: ../NMC_model/NMC.NeuronML2/cSTUT189_L5_NBC_adc0ce53be_0_0.cell.nml\n",
      "pyNeuroML >>> 2025-02-03 14:58:14,304 - pyneuroml.pynml - INFO - Loading NeuroML2 file: ../NMC_model/NMC.NeuronML2/cSTUT189_L5_NBC_adc0ce53be_0_0.cell.nml\n",
      "pyNeuroML >>> pyneuroml.pynml - INFO - Loading NeuroML2 file: ../NMC_model/NMC.NeuronML2/bIR215_L5_NBC_83f56a1270_0_0.cell.nml\n",
      "pyNeuroML >>> 2025-02-03 14:58:14,488 - pyneuroml.pynml - INFO - Loading NeuroML2 file: ../NMC_model/NMC.NeuronML2/bIR215_L5_NBC_83f56a1270_0_0.cell.nml\n"
     ]
    },
    {
     "name": "stdout",
     "output_type": "stream",
     "text": [
      "Creating 2 cells of type cSTUT189_L5_NBC_adc0ce53be_0_0.cell.nml\n",
      "Creating 1 cells of type bIR215_L5_NBC_83f56a1270_0_0.cell.nml\n"
     ]
    },
    {
     "name": "stderr",
     "output_type": "stream",
     "text": [
      "pyNeuroML >>> pyneuroml.pynml - INFO - Loading NeuroML2 file: ../NMC_model/NMC.NeuronML2/cNAC187_L5_NBC_2444ed2bac_0_0.cell.nml\n",
      "pyNeuroML >>> 2025-02-03 14:58:14,708 - pyneuroml.pynml - INFO - Loading NeuroML2 file: ../NMC_model/NMC.NeuronML2/cNAC187_L5_NBC_2444ed2bac_0_0.cell.nml\n",
      "pyNeuroML >>> pyneuroml.pynml - INFO - Loading NeuroML2 file: ../NMC_model/NMC.NeuronML2/cNAC187_L5_NBC_d4cc42ae25_0_0.cell.nml\n",
      "pyNeuroML >>> 2025-02-03 14:58:14,877 - pyneuroml.pynml - INFO - Loading NeuroML2 file: ../NMC_model/NMC.NeuronML2/cNAC187_L5_NBC_d4cc42ae25_0_0.cell.nml\n"
     ]
    },
    {
     "name": "stdout",
     "output_type": "stream",
     "text": [
      "Creating 6 cells of type cNAC187_L5_NBC_2444ed2bac_0_0.cell.nml\n",
      "Creating 10 cells of type cNAC187_L5_NBC_d4cc42ae25_0_0.cell.nml\n"
     ]
    },
    {
     "name": "stderr",
     "output_type": "stream",
     "text": [
      "pyNeuroML >>> pyneuroml.pynml - INFO - Loading NeuroML2 file: ../NMC_model/NMC.NeuronML2/bAC217_L5_NBC_a34c1bf418_0_0.cell.nml\n",
      "pyNeuroML >>> 2025-02-03 14:58:15,183 - pyneuroml.pynml - INFO - Loading NeuroML2 file: ../NMC_model/NMC.NeuronML2/bAC217_L5_NBC_a34c1bf418_0_0.cell.nml\n"
     ]
    },
    {
     "name": "stdout",
     "output_type": "stream",
     "text": [
      "Creating 7 cells of type bAC217_L5_NBC_a34c1bf418_0_0.cell.nml\n"
     ]
    },
    {
     "name": "stderr",
     "output_type": "stream",
     "text": [
      "pyNeuroML >>> pyneuroml.pynml - INFO - Loading NeuroML2 file: ../NMC_model/NMC.NeuronML2/bSTUT213_L5_NBC_e0eb22f024_0_0.cell.nml\n",
      "pyNeuroML >>> 2025-02-03 14:58:15,413 - pyneuroml.pynml - INFO - Loading NeuroML2 file: ../NMC_model/NMC.NeuronML2/bSTUT213_L5_NBC_e0eb22f024_0_0.cell.nml\n"
     ]
    },
    {
     "name": "stdout",
     "output_type": "stream",
     "text": [
      "Creating 1 cells of type bSTUT213_L5_NBC_e0eb22f024_0_0.cell.nml\n"
     ]
    },
    {
     "name": "stderr",
     "output_type": "stream",
     "text": [
      "pyNeuroML >>> pyneuroml.pynml - INFO - Loading NeuroML2 file: ../NMC_model/NMC.NeuronML2/bSTUT213_L5_NBC_6c09f2f610_0_0.cell.nml\n",
      "pyNeuroML >>> 2025-02-03 14:58:15,647 - pyneuroml.pynml - INFO - Loading NeuroML2 file: ../NMC_model/NMC.NeuronML2/bSTUT213_L5_NBC_6c09f2f610_0_0.cell.nml\n"
     ]
    },
    {
     "name": "stdout",
     "output_type": "stream",
     "text": [
      "Creating 3 cells of type bSTUT213_L5_NBC_6c09f2f610_0_0.cell.nml\n"
     ]
    },
    {
     "name": "stderr",
     "output_type": "stream",
     "text": [
      "pyNeuroML >>> pyneuroml.pynml - INFO - Loading NeuroML2 file: ../NMC_model/NMC.NeuronML2/cSTUT189_L5_NBC_4126235f8b_0_0.cell.nml\n",
      "pyNeuroML >>> 2025-02-03 14:58:15,913 - pyneuroml.pynml - INFO - Loading NeuroML2 file: ../NMC_model/NMC.NeuronML2/cSTUT189_L5_NBC_4126235f8b_0_0.cell.nml\n"
     ]
    },
    {
     "name": "stdout",
     "output_type": "stream",
     "text": [
      "Creating 5 cells of type cSTUT189_L5_NBC_4126235f8b_0_0.cell.nml\n"
     ]
    },
    {
     "name": "stderr",
     "output_type": "stream",
     "text": [
      "pyNeuroML >>> pyneuroml.pynml - INFO - Loading NeuroML2 file: ../NMC_model/NMC.NeuronML2/bIR215_L5_NBC_cb87ec754a_0_0.cell.nml\n",
      "pyNeuroML >>> 2025-02-03 14:58:16,132 - pyneuroml.pynml - INFO - Loading NeuroML2 file: ../NMC_model/NMC.NeuronML2/bIR215_L5_NBC_cb87ec754a_0_0.cell.nml\n"
     ]
    },
    {
     "name": "stdout",
     "output_type": "stream",
     "text": [
      "Creating 2 cells of type bIR215_L5_NBC_cb87ec754a_0_0.cell.nml\n"
     ]
    },
    {
     "name": "stderr",
     "output_type": "stream",
     "text": [
      "pyNeuroML >>> pyneuroml.pynml - INFO - Loading NeuroML2 file: ../NMC_model/NMC.NeuronML2/cIR216_L5_NBC_ded84149de_0_0.cell.nml\n",
      "pyNeuroML >>> 2025-02-03 14:58:16,416 - pyneuroml.pynml - INFO - Loading NeuroML2 file: ../NMC_model/NMC.NeuronML2/cIR216_L5_NBC_ded84149de_0_0.cell.nml\n"
     ]
    },
    {
     "name": "stdout",
     "output_type": "stream",
     "text": [
      "Creating 1 cells of type cIR216_L5_NBC_ded84149de_0_0.cell.nml\n"
     ]
    },
    {
     "name": "stderr",
     "output_type": "stream",
     "text": [
      "pyNeuroML >>> pyneuroml.pynml - INFO - Loading NeuroML2 file: ../NMC_model/NMC.NeuronML2/dSTUT214_L5_NBC_283ce5d859_0_0.cell.nml\n",
      "pyNeuroML >>> 2025-02-03 14:58:16,706 - pyneuroml.pynml - INFO - Loading NeuroML2 file: ../NMC_model/NMC.NeuronML2/dSTUT214_L5_NBC_283ce5d859_0_0.cell.nml\n",
      "pyNeuroML >>> pyneuroml.pynml - INFO - Loading NeuroML2 file: ../NMC_model/NMC.NeuronML2/cACint209_L5_ChC_759d7f7dc1_0_0.cell.nml\n"
     ]
    },
    {
     "name": "stdout",
     "output_type": "stream",
     "text": [
      "Creating 2 cells of type dSTUT214_L5_NBC_283ce5d859_0_0.cell.nml\n",
      "Creating 1 cells of type cACint209_L5_ChC_759d7f7dc1_0_0.cell.nml\n"
     ]
    },
    {
     "name": "stderr",
     "output_type": "stream",
     "text": [
      "pyNeuroML >>> 2025-02-03 14:58:16,893 - pyneuroml.pynml - INFO - Loading NeuroML2 file: ../NMC_model/NMC.NeuronML2/cACint209_L5_ChC_759d7f7dc1_0_0.cell.nml\n",
      "pyNeuroML >>> pyneuroml.pynml - INFO - Loading NeuroML2 file: ../NMC_model/NMC.NeuronML2/cACint209_L5_ChC_e98f63217d_0_0.cell.nml\n",
      "pyNeuroML >>> 2025-02-03 14:58:17,179 - pyneuroml.pynml - INFO - Loading NeuroML2 file: ../NMC_model/NMC.NeuronML2/cACint209_L5_ChC_e98f63217d_0_0.cell.nml\n"
     ]
    },
    {
     "name": "stdout",
     "output_type": "stream",
     "text": [
      "Creating 3 cells of type cACint209_L5_ChC_e98f63217d_0_0.cell.nml\n"
     ]
    },
    {
     "name": "stderr",
     "output_type": "stream",
     "text": [
      "pyNeuroML >>> pyneuroml.pynml - INFO - Loading NeuroML2 file: ../NMC_model/NMC.NeuronML2/cNAC187_L5_ChC_dfe3a6b301_0_0.cell.nml\n",
      "pyNeuroML >>> 2025-02-03 14:58:17,420 - pyneuroml.pynml - INFO - Loading NeuroML2 file: ../NMC_model/NMC.NeuronML2/cNAC187_L5_ChC_dfe3a6b301_0_0.cell.nml\n"
     ]
    },
    {
     "name": "stdout",
     "output_type": "stream",
     "text": [
      "Creating 3 cells of type cNAC187_L5_ChC_dfe3a6b301_0_0.cell.nml\n"
     ]
    },
    {
     "name": "stderr",
     "output_type": "stream",
     "text": [
      "pyNeuroML >>> pyneuroml.pynml - INFO - Loading NeuroML2 file: ../NMC_model/NMC.NeuronML2/cNAC187_L5_ChC_b51988187a_0_0.cell.nml\n",
      "pyNeuroML >>> 2025-02-03 14:58:17,662 - pyneuroml.pynml - INFO - Loading NeuroML2 file: ../NMC_model/NMC.NeuronML2/cNAC187_L5_ChC_b51988187a_0_0.cell.nml\n"
     ]
    },
    {
     "name": "stdout",
     "output_type": "stream",
     "text": [
      "Creating 3 cells of type cNAC187_L5_ChC_b51988187a_0_0.cell.nml\n"
     ]
    },
    {
     "name": "stderr",
     "output_type": "stream",
     "text": [
      "pyNeuroML >>> pyneuroml.pynml - INFO - Loading NeuroML2 file: ../NMC_model/NMC.NeuronML2/cACint209_L5_ChC_ab30296908_0_0.cell.nml\n",
      "pyNeuroML >>> 2025-02-03 14:58:17,925 - pyneuroml.pynml - INFO - Loading NeuroML2 file: ../NMC_model/NMC.NeuronML2/cACint209_L5_ChC_ab30296908_0_0.cell.nml\n"
     ]
    },
    {
     "name": "stdout",
     "output_type": "stream",
     "text": [
      "Creating 4 cells of type cACint209_L5_ChC_ab30296908_0_0.cell.nml\n"
     ]
    },
    {
     "name": "stderr",
     "output_type": "stream",
     "text": [
      "pyNeuroML >>> pyneuroml.pynml - INFO - Loading NeuroML2 file: ../NMC_model/NMC.NeuronML2/cACint209_L5_ChC_c38923facb_0_0.cell.nml\n",
      "pyNeuroML >>> 2025-02-03 14:58:18,282 - pyneuroml.pynml - INFO - Loading NeuroML2 file: ../NMC_model/NMC.NeuronML2/cACint209_L5_ChC_c38923facb_0_0.cell.nml\n"
     ]
    },
    {
     "name": "stdout",
     "output_type": "stream",
     "text": [
      "Creating 2 cells of type cACint209_L5_ChC_c38923facb_0_0.cell.nml\n"
     ]
    },
    {
     "name": "stderr",
     "output_type": "stream",
     "text": [
      "pyNeuroML >>> pyneuroml.pynml - INFO - Loading NeuroML2 file: ../NMC_model/NMC.NeuronML2/cACint209_L5_ChC_8eec342856_0_0.cell.nml\n",
      "pyNeuroML >>> 2025-02-03 14:58:18,528 - pyneuroml.pynml - INFO - Loading NeuroML2 file: ../NMC_model/NMC.NeuronML2/cACint209_L5_ChC_8eec342856_0_0.cell.nml\n"
     ]
    },
    {
     "name": "stdout",
     "output_type": "stream",
     "text": [
      "Creating 1 cells of type cACint209_L5_ChC_8eec342856_0_0.cell.nml\n"
     ]
    },
    {
     "name": "stderr",
     "output_type": "stream",
     "text": [
      "pyNeuroML >>> pyneuroml.pynml - INFO - Loading NeuroML2 file: ../NMC_model/NMC.NeuronML2/dNAC222_L5_ChC_6493f67bad_0_0.cell.nml\n",
      "pyNeuroML >>> 2025-02-03 14:58:18,750 - pyneuroml.pynml - INFO - Loading NeuroML2 file: ../NMC_model/NMC.NeuronML2/dNAC222_L5_ChC_6493f67bad_0_0.cell.nml\n"
     ]
    },
    {
     "name": "stdout",
     "output_type": "stream",
     "text": [
      "Creating 1 cells of type dNAC222_L5_ChC_6493f67bad_0_0.cell.nml\n"
     ]
    },
    {
     "name": "stderr",
     "output_type": "stream",
     "text": [
      "pyNeuroML >>> pyneuroml.pynml - INFO - Loading NeuroML2 file: ../NMC_model/NMC.NeuronML2/cNAC187_L5_ChC_7c8be3c828_0_0.cell.nml\n",
      "pyNeuroML >>> 2025-02-03 14:58:19,111 - pyneuroml.pynml - INFO - Loading NeuroML2 file: ../NMC_model/NMC.NeuronML2/cNAC187_L5_ChC_7c8be3c828_0_0.cell.nml\n"
     ]
    },
    {
     "name": "stdout",
     "output_type": "stream",
     "text": [
      "Creating 1 cells of type cNAC187_L5_ChC_7c8be3c828_0_0.cell.nml\n"
     ]
    },
    {
     "name": "stderr",
     "output_type": "stream",
     "text": [
      "pyNeuroML >>> pyneuroml.pynml - INFO - Loading NeuroML2 file: ../NMC_model/NMC.NeuronML2/bAC217_L5_BTC_8807af3a2b_0_0.cell.nml\n",
      "pyNeuroML >>> 2025-02-03 14:58:19,339 - pyneuroml.pynml - INFO - Loading NeuroML2 file: ../NMC_model/NMC.NeuronML2/bAC217_L5_BTC_8807af3a2b_0_0.cell.nml\n"
     ]
    },
    {
     "name": "stdout",
     "output_type": "stream",
     "text": [
      "Creating 8 cells of type bAC217_L5_BTC_8807af3a2b_0_0.cell.nml\n"
     ]
    },
    {
     "name": "stderr",
     "output_type": "stream",
     "text": [
      "pyNeuroML >>> pyneuroml.pynml - INFO - Loading NeuroML2 file: ../NMC_model/NMC.NeuronML2/cACint209_L5_BTC_a4bce5d682_0_0.cell.nml\n",
      "pyNeuroML >>> 2025-02-03 14:58:19,822 - pyneuroml.pynml - INFO - Loading NeuroML2 file: ../NMC_model/NMC.NeuronML2/cACint209_L5_BTC_a4bce5d682_0_0.cell.nml\n"
     ]
    },
    {
     "name": "stdout",
     "output_type": "stream",
     "text": [
      "Creating 11 cells of type cACint209_L5_BTC_a4bce5d682_0_0.cell.nml\n"
     ]
    },
    {
     "name": "stderr",
     "output_type": "stream",
     "text": [
      "pyNeuroML >>> pyneuroml.pynml - INFO - Loading NeuroML2 file: ../NMC_model/NMC.NeuronML2/cNAC187_L5_BTC_af3d0dad8e_0_0.cell.nml\n",
      "pyNeuroML >>> 2025-02-03 14:58:20,295 - pyneuroml.pynml - INFO - Loading NeuroML2 file: ../NMC_model/NMC.NeuronML2/cNAC187_L5_BTC_af3d0dad8e_0_0.cell.nml\n"
     ]
    },
    {
     "name": "stdout",
     "output_type": "stream",
     "text": [
      "Creating 1 cells of type cNAC187_L5_BTC_af3d0dad8e_0_0.cell.nml\n"
     ]
    },
    {
     "name": "stderr",
     "output_type": "stream",
     "text": [
      "pyNeuroML >>> pyneuroml.pynml - INFO - Loading NeuroML2 file: ../NMC_model/NMC.NeuronML2/bAC217_L5_BTC_160272643a_0_0.cell.nml\n",
      "pyNeuroML >>> 2025-02-03 14:58:20,809 - pyneuroml.pynml - INFO - Loading NeuroML2 file: ../NMC_model/NMC.NeuronML2/bAC217_L5_BTC_160272643a_0_0.cell.nml\n",
      "pyNeuroML >>> pyneuroml.pynml - INFO - Loading NeuroML2 file: ../NMC_model/NMC.NeuronML2/cACint209_L5_BTC_41f7db5b85_0_0.cell.nml\n",
      "pyNeuroML >>> 2025-02-03 14:58:20,891 - pyneuroml.pynml - INFO - Loading NeuroML2 file: ../NMC_model/NMC.NeuronML2/cACint209_L5_BTC_41f7db5b85_0_0.cell.nml\n",
      "pyNeuroML >>> pyneuroml.pynml - INFO - Loading NeuroML2 file: ../NMC_model/NMC.NeuronML2/cACint209_L5_BTC_7412fd9a84_0_0.cell.nml\n",
      "pyNeuroML >>> 2025-02-03 14:58:20,972 - pyneuroml.pynml - INFO - Loading NeuroML2 file: ../NMC_model/NMC.NeuronML2/cACint209_L5_BTC_7412fd9a84_0_0.cell.nml\n"
     ]
    },
    {
     "name": "stdout",
     "output_type": "stream",
     "text": [
      "Creating 3 cells of type bAC217_L5_BTC_160272643a_0_0.cell.nml\n",
      "Creating 5 cells of type cACint209_L5_BTC_41f7db5b85_0_0.cell.nml\n",
      "Creating 10 cells of type cACint209_L5_BTC_7412fd9a84_0_0.cell.nml\n"
     ]
    },
    {
     "name": "stderr",
     "output_type": "stream",
     "text": [
      "pyNeuroML >>> pyneuroml.pynml - INFO - Loading NeuroML2 file: ../NMC_model/NMC.NeuronML2/cACint209_L5_BTC_6ab22ae2e0_0_0.cell.nml\n",
      "pyNeuroML >>> 2025-02-03 14:58:21,462 - pyneuroml.pynml - INFO - Loading NeuroML2 file: ../NMC_model/NMC.NeuronML2/cACint209_L5_BTC_6ab22ae2e0_0_0.cell.nml\n",
      "pyNeuroML >>> pyneuroml.pynml - INFO - Loading NeuroML2 file: ../NMC_model/NMC.NeuronML2/cNAC187_L5_BTC_0a43e2f3e5_0_0.cell.nml\n",
      "pyNeuroML >>> 2025-02-03 14:58:21,626 - pyneuroml.pynml - INFO - Loading NeuroML2 file: ../NMC_model/NMC.NeuronML2/cNAC187_L5_BTC_0a43e2f3e5_0_0.cell.nml\n"
     ]
    },
    {
     "name": "stdout",
     "output_type": "stream",
     "text": [
      "Creating 8 cells of type cACint209_L5_BTC_6ab22ae2e0_0_0.cell.nml\n",
      "Creating 3 cells of type cNAC187_L5_BTC_0a43e2f3e5_0_0.cell.nml\n"
     ]
    },
    {
     "name": "stderr",
     "output_type": "stream",
     "text": [
      "pyNeuroML >>> pyneuroml.pynml - INFO - Loading NeuroML2 file: ../NMC_model/NMC.NeuronML2/cNAC187_L5_BTC_a47bfc03bb_0_0.cell.nml\n",
      "pyNeuroML >>> 2025-02-03 14:58:21,697 - pyneuroml.pynml - INFO - Loading NeuroML2 file: ../NMC_model/NMC.NeuronML2/cNAC187_L5_BTC_a47bfc03bb_0_0.cell.nml\n"
     ]
    },
    {
     "name": "stdout",
     "output_type": "stream",
     "text": [
      "Creating 3 cells of type cNAC187_L5_BTC_a47bfc03bb_0_0.cell.nml\n"
     ]
    },
    {
     "name": "stderr",
     "output_type": "stream",
     "text": [
      "pyNeuroML >>> pyneuroml.pynml - INFO - Loading NeuroML2 file: ../NMC_model/NMC.NeuronML2/cNAC187_L5_BTC_18584bfae6_0_0.cell.nml\n",
      "pyNeuroML >>> 2025-02-03 14:58:21,931 - pyneuroml.pynml - INFO - Loading NeuroML2 file: ../NMC_model/NMC.NeuronML2/cNAC187_L5_BTC_18584bfae6_0_0.cell.nml\n"
     ]
    },
    {
     "name": "stdout",
     "output_type": "stream",
     "text": [
      "Creating 5 cells of type cNAC187_L5_BTC_18584bfae6_0_0.cell.nml\n"
     ]
    },
    {
     "name": "stderr",
     "output_type": "stream",
     "text": [
      "pyNeuroML >>> pyneuroml.pynml - INFO - Loading NeuroML2 file: ../NMC_model/NMC.NeuronML2/bAC217_L5_BTC_9b82f426e5_0_0.cell.nml\n",
      "pyNeuroML >>> 2025-02-03 14:58:22,209 - pyneuroml.pynml - INFO - Loading NeuroML2 file: ../NMC_model/NMC.NeuronML2/bAC217_L5_BTC_9b82f426e5_0_0.cell.nml\n"
     ]
    },
    {
     "name": "stdout",
     "output_type": "stream",
     "text": [
      "Creating 3 cells of type bAC217_L5_BTC_9b82f426e5_0_0.cell.nml\n"
     ]
    },
    {
     "name": "stderr",
     "output_type": "stream",
     "text": [
      "pyNeuroML >>> pyneuroml.pynml - INFO - Loading NeuroML2 file: ../NMC_model/NMC.NeuronML2/bAC217_L5_BTC_5b195d0631_0_0.cell.nml\n",
      "pyNeuroML >>> 2025-02-03 14:58:22,459 - pyneuroml.pynml - INFO - Loading NeuroML2 file: ../NMC_model/NMC.NeuronML2/bAC217_L5_BTC_5b195d0631_0_0.cell.nml\n"
     ]
    },
    {
     "name": "stdout",
     "output_type": "stream",
     "text": [
      "Creating 2 cells of type bAC217_L5_BTC_5b195d0631_0_0.cell.nml\n"
     ]
    },
    {
     "name": "stderr",
     "output_type": "stream",
     "text": [
      "pyNeuroML >>> pyneuroml.pynml - INFO - Loading NeuroML2 file: ../NMC_model/NMC.NeuronML2/cACint209_L5_BTC_0a7f6392e3_0_0.cell.nml\n",
      "pyNeuroML >>> 2025-02-03 14:58:23,036 - pyneuroml.pynml - INFO - Loading NeuroML2 file: ../NMC_model/NMC.NeuronML2/cACint209_L5_BTC_0a7f6392e3_0_0.cell.nml\n"
     ]
    },
    {
     "name": "stdout",
     "output_type": "stream",
     "text": [
      "Creating 7 cells of type cACint209_L5_BTC_0a7f6392e3_0_0.cell.nml\n"
     ]
    },
    {
     "name": "stderr",
     "output_type": "stream",
     "text": [
      "pyNeuroML >>> pyneuroml.pynml - INFO - Loading NeuroML2 file: ../NMC_model/NMC.NeuronML2/bAC217_L5_BTC_3d68fea85d_0_0.cell.nml\n",
      "pyNeuroML >>> 2025-02-03 14:58:23,272 - pyneuroml.pynml - INFO - Loading NeuroML2 file: ../NMC_model/NMC.NeuronML2/bAC217_L5_BTC_3d68fea85d_0_0.cell.nml\n",
      "pyNeuroML >>> pyneuroml.pynml - INFO - Loading NeuroML2 file: ../NMC_model/NMC.NeuronML2/cNAC187_L5_BTC_87f7404d17_0_0.cell.nml\n",
      "pyNeuroML >>> 2025-02-03 14:58:23,423 - pyneuroml.pynml - INFO - Loading NeuroML2 file: ../NMC_model/NMC.NeuronML2/cNAC187_L5_BTC_87f7404d17_0_0.cell.nml\n"
     ]
    },
    {
     "name": "stdout",
     "output_type": "stream",
     "text": [
      "Creating 3 cells of type bAC217_L5_BTC_3d68fea85d_0_0.cell.nml\n",
      "Creating 4 cells of type cNAC187_L5_BTC_87f7404d17_0_0.cell.nml\n"
     ]
    },
    {
     "name": "stderr",
     "output_type": "stream",
     "text": [
      "pyNeuroML >>> pyneuroml.pynml - INFO - Loading NeuroML2 file: ../NMC_model/NMC.NeuronML2/cADpyr232_L5_TTPC1_0fb1ca4724_0_0.cell.nml\n",
      "pyNeuroML >>> 2025-02-03 14:58:24,037 - pyneuroml.pynml - INFO - Loading NeuroML2 file: ../NMC_model/NMC.NeuronML2/cADpyr232_L5_TTPC1_0fb1ca4724_0_0.cell.nml\n"
     ]
    },
    {
     "name": "stdout",
     "output_type": "stream",
     "text": [
      "Creating 470 cells of type cADpyr232_L5_TTPC1_0fb1ca4724_0_0.cell.nml\n"
     ]
    },
    {
     "name": "stderr",
     "output_type": "stream",
     "text": [
      "pyNeuroML >>> pyneuroml.pynml - INFO - Loading NeuroML2 file: ../NMC_model/NMC.NeuronML2/cADpyr232_L5_TTPC1_b6836fcf6f_0_0.cell.nml\n",
      "pyNeuroML >>> 2025-02-03 14:58:25,498 - pyneuroml.pynml - INFO - Loading NeuroML2 file: ../NMC_model/NMC.NeuronML2/cADpyr232_L5_TTPC1_b6836fcf6f_0_0.cell.nml\n"
     ]
    },
    {
     "name": "stdout",
     "output_type": "stream",
     "text": [
      "Creating 468 cells of type cADpyr232_L5_TTPC1_b6836fcf6f_0_0.cell.nml\n"
     ]
    },
    {
     "name": "stderr",
     "output_type": "stream",
     "text": [
      "pyNeuroML >>> pyneuroml.pynml - INFO - Loading NeuroML2 file: ../NMC_model/NMC.NeuronML2/cADpyr232_L5_TTPC1_ded64abc4d_0_0.cell.nml\n",
      "pyNeuroML >>> 2025-02-03 14:58:26,644 - pyneuroml.pynml - INFO - Loading NeuroML2 file: ../NMC_model/NMC.NeuronML2/cADpyr232_L5_TTPC1_ded64abc4d_0_0.cell.nml\n"
     ]
    },
    {
     "name": "stdout",
     "output_type": "stream",
     "text": [
      "Creating 492 cells of type cADpyr232_L5_TTPC1_ded64abc4d_0_0.cell.nml\n"
     ]
    },
    {
     "name": "stderr",
     "output_type": "stream",
     "text": [
      "pyNeuroML >>> pyneuroml.pynml - INFO - Loading NeuroML2 file: ../NMC_model/NMC.NeuronML2/cADpyr232_L5_TTPC1_fc944c2cf3_0_0.cell.nml\n",
      "pyNeuroML >>> 2025-02-03 14:58:28,342 - pyneuroml.pynml - INFO - Loading NeuroML2 file: ../NMC_model/NMC.NeuronML2/cADpyr232_L5_TTPC1_fc944c2cf3_0_0.cell.nml\n"
     ]
    },
    {
     "name": "stdout",
     "output_type": "stream",
     "text": [
      "Creating 468 cells of type cADpyr232_L5_TTPC1_fc944c2cf3_0_0.cell.nml\n"
     ]
    },
    {
     "name": "stderr",
     "output_type": "stream",
     "text": [
      "pyNeuroML >>> pyneuroml.pynml - INFO - Loading NeuroML2 file: ../NMC_model/NMC.NeuronML2/cADpyr232_L5_TTPC1_da1088139b_0_0.cell.nml\n",
      "pyNeuroML >>> 2025-02-03 14:58:29,624 - pyneuroml.pynml - INFO - Loading NeuroML2 file: ../NMC_model/NMC.NeuronML2/cADpyr232_L5_TTPC1_da1088139b_0_0.cell.nml\n"
     ]
    },
    {
     "name": "stdout",
     "output_type": "stream",
     "text": [
      "Creating 505 cells of type cADpyr232_L5_TTPC1_da1088139b_0_0.cell.nml\n"
     ]
    },
    {
     "name": "stderr",
     "output_type": "stream",
     "text": [
      "pyNeuroML >>> pyneuroml.pynml - INFO - Loading NeuroML2 file: ../NMC_model/NMC.NeuronML2/bIR215_L5_MC_7eeb7cff0f_0_0.cell.nml\n",
      "pyNeuroML >>> 2025-02-03 14:58:31,385 - pyneuroml.pynml - INFO - Loading NeuroML2 file: ../NMC_model/NMC.NeuronML2/bIR215_L5_MC_7eeb7cff0f_0_0.cell.nml\n"
     ]
    },
    {
     "name": "stdout",
     "output_type": "stream",
     "text": [
      "Creating 7 cells of type bIR215_L5_MC_7eeb7cff0f_0_0.cell.nml\n"
     ]
    },
    {
     "name": "stderr",
     "output_type": "stream",
     "text": [
      "pyNeuroML >>> pyneuroml.pynml - INFO - Loading NeuroML2 file: ../NMC_model/NMC.NeuronML2/cNAC187_L5_MC_8a4a02932c_0_0.cell.nml\n",
      "pyNeuroML >>> 2025-02-03 14:58:31,772 - pyneuroml.pynml - INFO - Loading NeuroML2 file: ../NMC_model/NMC.NeuronML2/cNAC187_L5_MC_8a4a02932c_0_0.cell.nml\n",
      "pyNeuroML >>> pyneuroml.pynml - INFO - Loading NeuroML2 file: ../NMC_model/NMC.NeuronML2/cNAC187_L5_MC_575d31ccfd_0_0.cell.nml\n",
      "pyNeuroML >>> 2025-02-03 14:58:31,956 - pyneuroml.pynml - INFO - Loading NeuroML2 file: ../NMC_model/NMC.NeuronML2/cNAC187_L5_MC_575d31ccfd_0_0.cell.nml\n"
     ]
    },
    {
     "name": "stdout",
     "output_type": "stream",
     "text": [
      "Creating 17 cells of type cNAC187_L5_MC_8a4a02932c_0_0.cell.nml\n",
      "Creating 9 cells of type cNAC187_L5_MC_575d31ccfd_0_0.cell.nml\n"
     ]
    },
    {
     "name": "stderr",
     "output_type": "stream",
     "text": [
      "pyNeuroML >>> pyneuroml.pynml - INFO - Loading NeuroML2 file: ../NMC_model/NMC.NeuronML2/dNAC222_L5_MC_c135727743_0_0.cell.nml\n",
      "pyNeuroML >>> 2025-02-03 14:58:32,202 - pyneuroml.pynml - INFO - Loading NeuroML2 file: ../NMC_model/NMC.NeuronML2/dNAC222_L5_MC_c135727743_0_0.cell.nml\n"
     ]
    },
    {
     "name": "stdout",
     "output_type": "stream",
     "text": [
      "Creating 8 cells of type dNAC222_L5_MC_c135727743_0_0.cell.nml\n"
     ]
    },
    {
     "name": "stderr",
     "output_type": "stream",
     "text": [
      "pyNeuroML >>> pyneuroml.pynml - INFO - Loading NeuroML2 file: ../NMC_model/NMC.NeuronML2/cACint209_L5_MC_42542e071a_0_0.cell.nml\n",
      "pyNeuroML >>> 2025-02-03 14:58:32,440 - pyneuroml.pynml - INFO - Loading NeuroML2 file: ../NMC_model/NMC.NeuronML2/cACint209_L5_MC_42542e071a_0_0.cell.nml\n"
     ]
    },
    {
     "name": "stdout",
     "output_type": "stream",
     "text": [
      "Creating 27 cells of type cACint209_L5_MC_42542e071a_0_0.cell.nml\n"
     ]
    },
    {
     "name": "stderr",
     "output_type": "stream",
     "text": [
      "pyNeuroML >>> pyneuroml.pynml - INFO - Loading NeuroML2 file: ../NMC_model/NMC.NeuronML2/cACint209_L5_MC_fdc7bd1d07_0_0.cell.nml\n",
      "pyNeuroML >>> 2025-02-03 14:58:32,825 - pyneuroml.pynml - INFO - Loading NeuroML2 file: ../NMC_model/NMC.NeuronML2/cACint209_L5_MC_fdc7bd1d07_0_0.cell.nml\n",
      "pyNeuroML >>> pyneuroml.pynml - INFO - Loading NeuroML2 file: ../NMC_model/NMC.NeuronML2/cNAC187_L5_MC_9935c06ba6_0_0.cell.nml\n",
      "pyNeuroML >>> 2025-02-03 14:58:32,907 - pyneuroml.pynml - INFO - Loading NeuroML2 file: ../NMC_model/NMC.NeuronML2/cNAC187_L5_MC_9935c06ba6_0_0.cell.nml\n"
     ]
    },
    {
     "name": "stdout",
     "output_type": "stream",
     "text": [
      "Creating 29 cells of type cACint209_L5_MC_fdc7bd1d07_0_0.cell.nml\n",
      "Creating 12 cells of type cNAC187_L5_MC_9935c06ba6_0_0.cell.nml\n"
     ]
    },
    {
     "name": "stderr",
     "output_type": "stream",
     "text": [
      "pyNeuroML >>> pyneuroml.pynml - INFO - Loading NeuroML2 file: ../NMC_model/NMC.NeuronML2/cACint209_L5_MC_575d31ccfd_0_0.cell.nml\n",
      "pyNeuroML >>> 2025-02-03 14:58:33,049 - pyneuroml.pynml - INFO - Loading NeuroML2 file: ../NMC_model/NMC.NeuronML2/cACint209_L5_MC_575d31ccfd_0_0.cell.nml\n"
     ]
    },
    {
     "name": "stdout",
     "output_type": "stream",
     "text": [
      "Creating 37 cells of type cACint209_L5_MC_575d31ccfd_0_0.cell.nml\n"
     ]
    },
    {
     "name": "stderr",
     "output_type": "stream",
     "text": [
      "pyNeuroML >>> pyneuroml.pynml - INFO - Loading NeuroML2 file: ../NMC_model/NMC.NeuronML2/cSTUT189_L5_MC_bf2b2fbcbf_0_0.cell.nml\n",
      "pyNeuroML >>> 2025-02-03 14:58:33,297 - pyneuroml.pynml - INFO - Loading NeuroML2 file: ../NMC_model/NMC.NeuronML2/cSTUT189_L5_MC_bf2b2fbcbf_0_0.cell.nml\n"
     ]
    },
    {
     "name": "stdout",
     "output_type": "stream",
     "text": [
      "Creating 10 cells of type cSTUT189_L5_MC_bf2b2fbcbf_0_0.cell.nml\n"
     ]
    },
    {
     "name": "stderr",
     "output_type": "stream",
     "text": [
      "pyNeuroML >>> pyneuroml.pynml - INFO - Loading NeuroML2 file: ../NMC_model/NMC.NeuronML2/cACint209_L5_MC_bf2b2fbcbf_0_0.cell.nml\n",
      "pyNeuroML >>> 2025-02-03 14:58:34,170 - pyneuroml.pynml - INFO - Loading NeuroML2 file: ../NMC_model/NMC.NeuronML2/cACint209_L5_MC_bf2b2fbcbf_0_0.cell.nml\n"
     ]
    },
    {
     "name": "stdout",
     "output_type": "stream",
     "text": [
      "Creating 40 cells of type cACint209_L5_MC_bf2b2fbcbf_0_0.cell.nml\n"
     ]
    },
    {
     "name": "stderr",
     "output_type": "stream",
     "text": [
      "pyNeuroML >>> pyneuroml.pynml - INFO - Loading NeuroML2 file: ../NMC_model/NMC.NeuronML2/dNAC222_L5_MC_7eeb7cff0f_0_0.cell.nml\n",
      "pyNeuroML >>> 2025-02-03 14:58:34,998 - pyneuroml.pynml - INFO - Loading NeuroML2 file: ../NMC_model/NMC.NeuronML2/dNAC222_L5_MC_7eeb7cff0f_0_0.cell.nml\n"
     ]
    },
    {
     "name": "stdout",
     "output_type": "stream",
     "text": [
      "Creating 5 cells of type dNAC222_L5_MC_7eeb7cff0f_0_0.cell.nml\n"
     ]
    },
    {
     "name": "stderr",
     "output_type": "stream",
     "text": [
      "pyNeuroML >>> pyneuroml.pynml - INFO - Loading NeuroML2 file: ../NMC_model/NMC.NeuronML2/bAC217_L5_MC_c135727743_0_0.cell.nml\n",
      "pyNeuroML >>> 2025-02-03 14:58:35,375 - pyneuroml.pynml - INFO - Loading NeuroML2 file: ../NMC_model/NMC.NeuronML2/bAC217_L5_MC_c135727743_0_0.cell.nml\n"
     ]
    },
    {
     "name": "stdout",
     "output_type": "stream",
     "text": [
      "Creating 13 cells of type bAC217_L5_MC_c135727743_0_0.cell.nml\n"
     ]
    },
    {
     "name": "stderr",
     "output_type": "stream",
     "text": [
      "pyNeuroML >>> pyneuroml.pynml - INFO - Loading NeuroML2 file: ../NMC_model/NMC.NeuronML2/bIR215_L5_MC_8a4a02932c_0_0.cell.nml\n",
      "pyNeuroML >>> 2025-02-03 14:58:35,639 - pyneuroml.pynml - INFO - Loading NeuroML2 file: ../NMC_model/NMC.NeuronML2/bIR215_L5_MC_8a4a02932c_0_0.cell.nml\n",
      "pyNeuroML >>> pyneuroml.pynml - INFO - Loading NeuroML2 file: ../NMC_model/NMC.NeuronML2/dNAC222_L5_MC_9935c06ba6_0_0.cell.nml\n"
     ]
    },
    {
     "name": "stdout",
     "output_type": "stream",
     "text": [
      "Creating 7 cells of type bIR215_L5_MC_8a4a02932c_0_0.cell.nml\n",
      "Creating 5 cells of type dNAC222_L5_MC_9935c06ba6_0_0.cell.nml\n"
     ]
    },
    {
     "name": "stderr",
     "output_type": "stream",
     "text": [
      "pyNeuroML >>> 2025-02-03 14:58:35,834 - pyneuroml.pynml - INFO - Loading NeuroML2 file: ../NMC_model/NMC.NeuronML2/dNAC222_L5_MC_9935c06ba6_0_0.cell.nml\n",
      "pyNeuroML >>> pyneuroml.pynml - INFO - Loading NeuroML2 file: ../NMC_model/NMC.NeuronML2/bAC217_L5_MC_bf2b2fbcbf_0_0.cell.nml\n",
      "pyNeuroML >>> 2025-02-03 14:58:36,019 - pyneuroml.pynml - INFO - Loading NeuroML2 file: ../NMC_model/NMC.NeuronML2/bAC217_L5_MC_bf2b2fbcbf_0_0.cell.nml\n"
     ]
    },
    {
     "name": "stdout",
     "output_type": "stream",
     "text": [
      "Creating 15 cells of type bAC217_L5_MC_bf2b2fbcbf_0_0.cell.nml\n"
     ]
    },
    {
     "name": "stderr",
     "output_type": "stream",
     "text": [
      "pyNeuroML >>> pyneuroml.pynml - INFO - Loading NeuroML2 file: ../NMC_model/NMC.NeuronML2/bSTUT213_L5_MC_fdc7bd1d07_0_0.cell.nml\n",
      "pyNeuroML >>> 2025-02-03 14:58:36,890 - pyneuroml.pynml - INFO - Loading NeuroML2 file: ../NMC_model/NMC.NeuronML2/bSTUT213_L5_MC_fdc7bd1d07_0_0.cell.nml\n",
      "pyNeuroML >>> pyneuroml.pynml - INFO - Loading NeuroML2 file: ../NMC_model/NMC.NeuronML2/dNAC222_L5_MC_8a4a02932c_0_0.cell.nml\n",
      "pyNeuroML >>> 2025-02-03 14:58:36,966 - pyneuroml.pynml - INFO - Loading NeuroML2 file: ../NMC_model/NMC.NeuronML2/dNAC222_L5_MC_8a4a02932c_0_0.cell.nml\n"
     ]
    },
    {
     "name": "stdout",
     "output_type": "stream",
     "text": [
      "Creating 1 cells of type bSTUT213_L5_MC_fdc7bd1d07_0_0.cell.nml\n",
      "Creating 10 cells of type dNAC222_L5_MC_8a4a02932c_0_0.cell.nml\n"
     ]
    },
    {
     "name": "stderr",
     "output_type": "stream",
     "text": [
      "pyNeuroML >>> pyneuroml.pynml - INFO - Loading NeuroML2 file: ../NMC_model/NMC.NeuronML2/cACint209_L5_MC_cc2a170ef6_0_0.cell.nml\n",
      "pyNeuroML >>> 2025-02-03 14:58:37,256 - pyneuroml.pynml - INFO - Loading NeuroML2 file: ../NMC_model/NMC.NeuronML2/cACint209_L5_MC_cc2a170ef6_0_0.cell.nml\n",
      "pyNeuroML >>> pyneuroml.pynml - INFO - Loading NeuroML2 file: ../NMC_model/NMC.NeuronML2/bAC217_L5_MC_8a4a02932c_0_0.cell.nml\n",
      "pyNeuroML >>> 2025-02-03 14:58:37,425 - pyneuroml.pynml - INFO - Loading NeuroML2 file: ../NMC_model/NMC.NeuronML2/bAC217_L5_MC_8a4a02932c_0_0.cell.nml\n"
     ]
    },
    {
     "name": "stdout",
     "output_type": "stream",
     "text": [
      "Creating 28 cells of type cACint209_L5_MC_cc2a170ef6_0_0.cell.nml\n",
      "Creating 13 cells of type bAC217_L5_MC_8a4a02932c_0_0.cell.nml\n"
     ]
    },
    {
     "name": "stderr",
     "output_type": "stream",
     "text": [
      "pyNeuroML >>> pyneuroml.pynml - INFO - Loading NeuroML2 file: ../NMC_model/NMC.NeuronML2/bAC217_L5_MC_cc2a170ef6_0_0.cell.nml\n",
      "pyNeuroML >>> 2025-02-03 14:58:37,595 - pyneuroml.pynml - INFO - Loading NeuroML2 file: ../NMC_model/NMC.NeuronML2/bAC217_L5_MC_cc2a170ef6_0_0.cell.nml\n",
      "pyNeuroML >>> pyneuroml.pynml - INFO - Loading NeuroML2 file: ../NMC_model/NMC.NeuronML2/bSTUT213_L5_MC_13c5267e91_0_0.cell.nml\n",
      "pyNeuroML >>> 2025-02-03 14:58:37,741 - pyneuroml.pynml - INFO - Loading NeuroML2 file: ../NMC_model/NMC.NeuronML2/bSTUT213_L5_MC_13c5267e91_0_0.cell.nml\n"
     ]
    },
    {
     "name": "stdout",
     "output_type": "stream",
     "text": [
      "Creating 14 cells of type bAC217_L5_MC_cc2a170ef6_0_0.cell.nml\n",
      "Creating 6 cells of type bSTUT213_L5_MC_13c5267e91_0_0.cell.nml\n"
     ]
    },
    {
     "name": "stderr",
     "output_type": "stream",
     "text": [
      "pyNeuroML >>> pyneuroml.pynml - INFO - Loading NeuroML2 file: ../NMC_model/NMC.NeuronML2/bAC217_L5_MC_7eeb7cff0f_0_0.cell.nml\n",
      "pyNeuroML >>> 2025-02-03 14:58:38,017 - pyneuroml.pynml - INFO - Loading NeuroML2 file: ../NMC_model/NMC.NeuronML2/bAC217_L5_MC_7eeb7cff0f_0_0.cell.nml\n"
     ]
    },
    {
     "name": "stdout",
     "output_type": "stream",
     "text": [
      "Creating 14 cells of type bAC217_L5_MC_7eeb7cff0f_0_0.cell.nml\n"
     ]
    },
    {
     "name": "stderr",
     "output_type": "stream",
     "text": [
      "pyNeuroML >>> pyneuroml.pynml - INFO - Loading NeuroML2 file: ../NMC_model/NMC.NeuronML2/dNAC222_L5_MC_bf2b2fbcbf_0_0.cell.nml\n",
      "pyNeuroML >>> 2025-02-03 14:58:38,236 - pyneuroml.pynml - INFO - Loading NeuroML2 file: ../NMC_model/NMC.NeuronML2/dNAC222_L5_MC_bf2b2fbcbf_0_0.cell.nml\n"
     ]
    },
    {
     "name": "stdout",
     "output_type": "stream",
     "text": [
      "Creating 5 cells of type dNAC222_L5_MC_bf2b2fbcbf_0_0.cell.nml\n"
     ]
    },
    {
     "name": "stderr",
     "output_type": "stream",
     "text": [
      "pyNeuroML >>> pyneuroml.pynml - INFO - Loading NeuroML2 file: ../NMC_model/NMC.NeuronML2/cSTUT189_L5_MC_575d31ccfd_0_0.cell.nml\n",
      "pyNeuroML >>> 2025-02-03 14:58:39,227 - pyneuroml.pynml - INFO - Loading NeuroML2 file: ../NMC_model/NMC.NeuronML2/cSTUT189_L5_MC_575d31ccfd_0_0.cell.nml\n"
     ]
    },
    {
     "name": "stdout",
     "output_type": "stream",
     "text": [
      "Creating 5 cells of type cSTUT189_L5_MC_575d31ccfd_0_0.cell.nml\n"
     ]
    },
    {
     "name": "stderr",
     "output_type": "stream",
     "text": [
      "pyNeuroML >>> pyneuroml.pynml - INFO - Loading NeuroML2 file: ../NMC_model/NMC.NeuronML2/cSTUT189_L5_MC_8a4a02932c_0_0.cell.nml\n",
      "pyNeuroML >>> 2025-02-03 14:58:39,747 - pyneuroml.pynml - INFO - Loading NeuroML2 file: ../NMC_model/NMC.NeuronML2/cSTUT189_L5_MC_8a4a02932c_0_0.cell.nml\n"
     ]
    },
    {
     "name": "stdout",
     "output_type": "stream",
     "text": [
      "Creating 5 cells of type cSTUT189_L5_MC_8a4a02932c_0_0.cell.nml\n"
     ]
    },
    {
     "name": "stderr",
     "output_type": "stream",
     "text": [
      "pyNeuroML >>> pyneuroml.pynml - INFO - Loading NeuroML2 file: ../NMC_model/NMC.NeuronML2/bIR215_L5_MC_fdc7bd1d07_0_0.cell.nml\n",
      "pyNeuroML >>> 2025-02-03 14:58:40,089 - pyneuroml.pynml - INFO - Loading NeuroML2 file: ../NMC_model/NMC.NeuronML2/bIR215_L5_MC_fdc7bd1d07_0_0.cell.nml\n",
      "pyNeuroML >>> pyneuroml.pynml - INFO - Loading NeuroML2 file: ../NMC_model/NMC.NeuronML2/bSTUT213_L5_MC_8a4a02932c_0_0.cell.nml\n",
      "pyNeuroML >>> 2025-02-03 14:58:40,255 - pyneuroml.pynml - INFO - Loading NeuroML2 file: ../NMC_model/NMC.NeuronML2/bSTUT213_L5_MC_8a4a02932c_0_0.cell.nml\n"
     ]
    },
    {
     "name": "stdout",
     "output_type": "stream",
     "text": [
      "Creating 5 cells of type bIR215_L5_MC_fdc7bd1d07_0_0.cell.nml\n",
      "Creating 4 cells of type bSTUT213_L5_MC_8a4a02932c_0_0.cell.nml\n"
     ]
    },
    {
     "name": "stderr",
     "output_type": "stream",
     "text": [
      "pyNeuroML >>> pyneuroml.pynml - INFO - Loading NeuroML2 file: ../NMC_model/NMC.NeuronML2/bIR215_L5_MC_cc2a170ef6_0_0.cell.nml\n",
      "pyNeuroML >>> 2025-02-03 14:58:40,600 - pyneuroml.pynml - INFO - Loading NeuroML2 file: ../NMC_model/NMC.NeuronML2/bIR215_L5_MC_cc2a170ef6_0_0.cell.nml\n",
      "pyNeuroML >>> pyneuroml.pynml - INFO - Loading NeuroML2 file: ../NMC_model/NMC.NeuronML2/bSTUT213_L5_MC_abb77ac4ef_0_0.cell.nml\n",
      "pyNeuroML >>> 2025-02-03 14:58:40,770 - pyneuroml.pynml - INFO - Loading NeuroML2 file: ../NMC_model/NMC.NeuronML2/bSTUT213_L5_MC_abb77ac4ef_0_0.cell.nml\n"
     ]
    },
    {
     "name": "stdout",
     "output_type": "stream",
     "text": [
      "Creating 4 cells of type bIR215_L5_MC_cc2a170ef6_0_0.cell.nml\n",
      "Creating 4 cells of type bSTUT213_L5_MC_abb77ac4ef_0_0.cell.nml\n"
     ]
    },
    {
     "name": "stderr",
     "output_type": "stream",
     "text": [
      "pyNeuroML >>> pyneuroml.pynml - INFO - Loading NeuroML2 file: ../NMC_model/NMC.NeuronML2/bIR215_L5_MC_bf2b2fbcbf_0_0.cell.nml\n",
      "pyNeuroML >>> 2025-02-03 14:58:41,064 - pyneuroml.pynml - INFO - Loading NeuroML2 file: ../NMC_model/NMC.NeuronML2/bIR215_L5_MC_bf2b2fbcbf_0_0.cell.nml\n"
     ]
    },
    {
     "name": "stdout",
     "output_type": "stream",
     "text": [
      "Creating 5 cells of type bIR215_L5_MC_bf2b2fbcbf_0_0.cell.nml\n"
     ]
    },
    {
     "name": "stderr",
     "output_type": "stream",
     "text": [
      "pyNeuroML >>> pyneuroml.pynml - INFO - Loading NeuroML2 file: ../NMC_model/NMC.NeuronML2/cNAC187_L5_MC_42542e071a_0_0.cell.nml\n",
      "pyNeuroML >>> 2025-02-03 14:58:42,015 - pyneuroml.pynml - INFO - Loading NeuroML2 file: ../NMC_model/NMC.NeuronML2/cNAC187_L5_MC_42542e071a_0_0.cell.nml\n"
     ]
    },
    {
     "name": "stdout",
     "output_type": "stream",
     "text": [
      "Creating 12 cells of type cNAC187_L5_MC_42542e071a_0_0.cell.nml\n"
     ]
    },
    {
     "name": "stderr",
     "output_type": "stream",
     "text": [
      "pyNeuroML >>> pyneuroml.pynml - INFO - Loading NeuroML2 file: ../NMC_model/NMC.NeuronML2/cNAC187_L5_MC_bf2b2fbcbf_0_0.cell.nml\n",
      "pyNeuroML >>> 2025-02-03 14:58:42,367 - pyneuroml.pynml - INFO - Loading NeuroML2 file: ../NMC_model/NMC.NeuronML2/cNAC187_L5_MC_bf2b2fbcbf_0_0.cell.nml\n"
     ]
    },
    {
     "name": "stdout",
     "output_type": "stream",
     "text": [
      "Creating 9 cells of type cNAC187_L5_MC_bf2b2fbcbf_0_0.cell.nml\n"
     ]
    },
    {
     "name": "stderr",
     "output_type": "stream",
     "text": [
      "pyNeuroML >>> pyneuroml.pynml - INFO - Loading NeuroML2 file: ../NMC_model/NMC.NeuronML2/cSTUT189_L5_MC_cc2a170ef6_0_0.cell.nml\n",
      "pyNeuroML >>> 2025-02-03 14:58:43,888 - pyneuroml.pynml - INFO - Loading NeuroML2 file: ../NMC_model/NMC.NeuronML2/cSTUT189_L5_MC_cc2a170ef6_0_0.cell.nml\n",
      "pyNeuroML >>> pyneuroml.pynml - INFO - Loading NeuroML2 file: ../NMC_model/NMC.NeuronML2/bSTUT213_L5_MC_162814b80d_0_0.cell.nml\n",
      "pyNeuroML >>> 2025-02-03 14:58:44,068 - pyneuroml.pynml - INFO - Loading NeuroML2 file: ../NMC_model/NMC.NeuronML2/bSTUT213_L5_MC_162814b80d_0_0.cell.nml\n"
     ]
    },
    {
     "name": "stdout",
     "output_type": "stream",
     "text": [
      "Creating 3 cells of type cSTUT189_L5_MC_cc2a170ef6_0_0.cell.nml\n",
      "Creating 2 cells of type bSTUT213_L5_MC_162814b80d_0_0.cell.nml\n"
     ]
    },
    {
     "name": "stderr",
     "output_type": "stream",
     "text": [
      "pyNeuroML >>> pyneuroml.pynml - INFO - Loading NeuroML2 file: ../NMC_model/NMC.NeuronML2/cSTUT189_L5_MC_42542e071a_0_0.cell.nml\n",
      "pyNeuroML >>> 2025-02-03 14:58:44,286 - pyneuroml.pynml - INFO - Loading NeuroML2 file: ../NMC_model/NMC.NeuronML2/cSTUT189_L5_MC_42542e071a_0_0.cell.nml\n"
     ]
    },
    {
     "name": "stdout",
     "output_type": "stream",
     "text": [
      "Creating 5 cells of type cSTUT189_L5_MC_42542e071a_0_0.cell.nml\n"
     ]
    },
    {
     "name": "stderr",
     "output_type": "stream",
     "text": [
      "pyNeuroML >>> pyneuroml.pynml - INFO - Loading NeuroML2 file: ../NMC_model/NMC.NeuronML2/cADpyr232_L5_UTPC_79412a7e72_0_0.cell.nml\n",
      "pyNeuroML >>> 2025-02-03 14:58:44,676 - pyneuroml.pynml - INFO - Loading NeuroML2 file: ../NMC_model/NMC.NeuronML2/cADpyr232_L5_UTPC_79412a7e72_0_0.cell.nml\n"
     ]
    },
    {
     "name": "stdout",
     "output_type": "stream",
     "text": [
      "Creating 73 cells of type cADpyr232_L5_UTPC_79412a7e72_0_0.cell.nml\n"
     ]
    },
    {
     "name": "stderr",
     "output_type": "stream",
     "text": [
      "pyNeuroML >>> pyneuroml.pynml - INFO - Loading NeuroML2 file: ../NMC_model/NMC.NeuronML2/cADpyr232_L5_UTPC_34f655e7f8_0_0.cell.nml\n",
      "pyNeuroML >>> 2025-02-03 14:58:45,463 - pyneuroml.pynml - INFO - Loading NeuroML2 file: ../NMC_model/NMC.NeuronML2/cADpyr232_L5_UTPC_34f655e7f8_0_0.cell.nml\n"
     ]
    },
    {
     "name": "stdout",
     "output_type": "stream",
     "text": [
      "Creating 70 cells of type cADpyr232_L5_UTPC_34f655e7f8_0_0.cell.nml\n"
     ]
    },
    {
     "name": "stderr",
     "output_type": "stream",
     "text": [
      "pyNeuroML >>> pyneuroml.pynml - INFO - Loading NeuroML2 file: ../NMC_model/NMC.NeuronML2/cADpyr232_L5_UTPC_5e3840b51e_0_0.cell.nml\n",
      "pyNeuroML >>> 2025-02-03 14:58:46,130 - pyneuroml.pynml - INFO - Loading NeuroML2 file: ../NMC_model/NMC.NeuronML2/cADpyr232_L5_UTPC_5e3840b51e_0_0.cell.nml\n"
     ]
    },
    {
     "name": "stdout",
     "output_type": "stream",
     "text": [
      "Creating 60 cells of type cADpyr232_L5_UTPC_5e3840b51e_0_0.cell.nml\n"
     ]
    },
    {
     "name": "stderr",
     "output_type": "stream",
     "text": [
      "pyNeuroML >>> pyneuroml.pynml - INFO - Loading NeuroML2 file: ../NMC_model/NMC.NeuronML2/cADpyr232_L5_UTPC_da1143b075_0_0.cell.nml\n",
      "pyNeuroML >>> 2025-02-03 14:58:46,692 - pyneuroml.pynml - INFO - Loading NeuroML2 file: ../NMC_model/NMC.NeuronML2/cADpyr232_L5_UTPC_da1143b075_0_0.cell.nml\n"
     ]
    },
    {
     "name": "stdout",
     "output_type": "stream",
     "text": [
      "Creating 72 cells of type cADpyr232_L5_UTPC_da1143b075_0_0.cell.nml\n"
     ]
    },
    {
     "name": "stderr",
     "output_type": "stream",
     "text": [
      "pyNeuroML >>> pyneuroml.pynml - INFO - Loading NeuroML2 file: ../NMC_model/NMC.NeuronML2/cADpyr232_L5_UTPC_d736225429_0_0.cell.nml\n",
      "pyNeuroML >>> 2025-02-03 14:58:47,482 - pyneuroml.pynml - INFO - Loading NeuroML2 file: ../NMC_model/NMC.NeuronML2/cADpyr232_L5_UTPC_d736225429_0_0.cell.nml\n"
     ]
    },
    {
     "name": "stdout",
     "output_type": "stream",
     "text": [
      "Creating 67 cells of type cADpyr232_L5_UTPC_d736225429_0_0.cell.nml\n"
     ]
    },
    {
     "name": "stderr",
     "output_type": "stream",
     "text": [
      "pyNeuroML >>> pyneuroml.pynml - INFO - Loading NeuroML2 file: ../NMC_model/NMC.NeuronML2/cADpyr232_L5_TTPC2_a28017c6c7_0_0.cell.nml\n",
      "pyNeuroML >>> 2025-02-03 14:58:48,180 - pyneuroml.pynml - INFO - Loading NeuroML2 file: ../NMC_model/NMC.NeuronML2/cADpyr232_L5_TTPC2_a28017c6c7_0_0.cell.nml\n"
     ]
    },
    {
     "name": "stdout",
     "output_type": "stream",
     "text": [
      "Creating 385 cells of type cADpyr232_L5_TTPC2_a28017c6c7_0_0.cell.nml\n"
     ]
    },
    {
     "name": "stderr",
     "output_type": "stream",
     "text": [
      "pyNeuroML >>> pyneuroml.pynml - INFO - Loading NeuroML2 file: ../NMC_model/NMC.NeuronML2/cADpyr232_L5_TTPC2_a467781f53_0_0.cell.nml\n",
      "pyNeuroML >>> 2025-02-03 14:58:49,087 - pyneuroml.pynml - INFO - Loading NeuroML2 file: ../NMC_model/NMC.NeuronML2/cADpyr232_L5_TTPC2_a467781f53_0_0.cell.nml\n"
     ]
    },
    {
     "name": "stdout",
     "output_type": "stream",
     "text": [
      "Creating 391 cells of type cADpyr232_L5_TTPC2_a467781f53_0_0.cell.nml\n"
     ]
    },
    {
     "name": "stderr",
     "output_type": "stream",
     "text": [
      "pyNeuroML >>> pyneuroml.pynml - INFO - Loading NeuroML2 file: ../NMC_model/NMC.NeuronML2/cADpyr232_L5_TTPC2_8bab918b58_0_0.cell.nml\n",
      "pyNeuroML >>> 2025-02-03 14:58:50,108 - pyneuroml.pynml - INFO - Loading NeuroML2 file: ../NMC_model/NMC.NeuronML2/cADpyr232_L5_TTPC2_8bab918b58_0_0.cell.nml\n"
     ]
    },
    {
     "name": "stdout",
     "output_type": "stream",
     "text": [
      "Creating 440 cells of type cADpyr232_L5_TTPC2_8bab918b58_0_0.cell.nml\n"
     ]
    },
    {
     "name": "stderr",
     "output_type": "stream",
     "text": [
      "pyNeuroML >>> pyneuroml.pynml - INFO - Loading NeuroML2 file: ../NMC_model/NMC.NeuronML2/cADpyr232_L5_TTPC2_c46a93702c_0_0.cell.nml\n",
      "pyNeuroML >>> 2025-02-03 14:58:51,250 - pyneuroml.pynml - INFO - Loading NeuroML2 file: ../NMC_model/NMC.NeuronML2/cADpyr232_L5_TTPC2_c46a93702c_0_0.cell.nml\n"
     ]
    },
    {
     "name": "stdout",
     "output_type": "stream",
     "text": [
      "Creating 378 cells of type cADpyr232_L5_TTPC2_c46a93702c_0_0.cell.nml\n"
     ]
    },
    {
     "name": "stderr",
     "output_type": "stream",
     "text": [
      "pyNeuroML >>> pyneuroml.pynml - INFO - Loading NeuroML2 file: ../NMC_model/NMC.NeuronML2/cADpyr232_L5_TTPC2_8052133265_0_0.cell.nml\n",
      "pyNeuroML >>> 2025-02-03 14:58:52,124 - pyneuroml.pynml - INFO - Loading NeuroML2 file: ../NMC_model/NMC.NeuronML2/cADpyr232_L5_TTPC2_8052133265_0_0.cell.nml\n"
     ]
    },
    {
     "name": "stdout",
     "output_type": "stream",
     "text": [
      "Creating 409 cells of type cADpyr232_L5_TTPC2_8052133265_0_0.cell.nml\n"
     ]
    },
    {
     "name": "stderr",
     "output_type": "stream",
     "text": [
      "pyNeuroML >>> pyneuroml.pynml - INFO - Loading NeuroML2 file: ../NMC_model/NMC.NeuronML2/cNAC187_L4_ChC_38a9a8850a_0_0.cell.nml\n",
      "pyNeuroML >>> 2025-02-03 14:58:53,260 - pyneuroml.pynml - INFO - Loading NeuroML2 file: ../NMC_model/NMC.NeuronML2/cNAC187_L4_ChC_38a9a8850a_0_0.cell.nml\n"
     ]
    },
    {
     "name": "stdout",
     "output_type": "stream",
     "text": [
      "Creating 1 cells of type cNAC187_L4_ChC_38a9a8850a_0_0.cell.nml\n"
     ]
    },
    {
     "name": "stderr",
     "output_type": "stream",
     "text": [
      "pyNeuroML >>> pyneuroml.pynml - INFO - Loading NeuroML2 file: ../NMC_model/NMC.NeuronML2/cACint209_L4_ChC_85076eeecc_0_0.cell.nml\n",
      "pyNeuroML >>> 2025-02-03 14:58:53,476 - pyneuroml.pynml - INFO - Loading NeuroML2 file: ../NMC_model/NMC.NeuronML2/cACint209_L4_ChC_85076eeecc_0_0.cell.nml\n"
     ]
    },
    {
     "name": "stdout",
     "output_type": "stream",
     "text": [
      "Creating 1 cells of type cACint209_L4_ChC_85076eeecc_0_0.cell.nml\n"
     ]
    },
    {
     "name": "stderr",
     "output_type": "stream",
     "text": [
      "pyNeuroML >>> pyneuroml.pynml - INFO - Loading NeuroML2 file: ../NMC_model/NMC.NeuronML2/dNAC222_L4_ChC_a3c657441e_0_0.cell.nml\n",
      "pyNeuroML >>> 2025-02-03 14:58:53,867 - pyneuroml.pynml - INFO - Loading NeuroML2 file: ../NMC_model/NMC.NeuronML2/dNAC222_L4_ChC_a3c657441e_0_0.cell.nml\n",
      "pyNeuroML >>> pyneuroml.pynml - INFO - Loading NeuroML2 file: ../NMC_model/NMC.NeuronML2/cACint209_L4_ChC_a78ee53c37_0_0.cell.nml\n",
      "pyNeuroML >>> 2025-02-03 14:58:53,997 - pyneuroml.pynml - INFO - Loading NeuroML2 file: ../NMC_model/NMC.NeuronML2/cACint209_L4_ChC_a78ee53c37_0_0.cell.nml\n"
     ]
    },
    {
     "name": "stdout",
     "output_type": "stream",
     "text": [
      "Creating 2 cells of type dNAC222_L4_ChC_a3c657441e_0_0.cell.nml\n",
      "Creating 1 cells of type cACint209_L4_ChC_a78ee53c37_0_0.cell.nml\n"
     ]
    },
    {
     "name": "stderr",
     "output_type": "stream",
     "text": [
      "pyNeuroML >>> pyneuroml.pynml - INFO - Loading NeuroML2 file: ../NMC_model/NMC.NeuronML2/dNAC222_L4_ChC_9b41babcdb_0_0.cell.nml\n",
      "pyNeuroML >>> 2025-02-03 14:58:54,231 - pyneuroml.pynml - INFO - Loading NeuroML2 file: ../NMC_model/NMC.NeuronML2/dNAC222_L4_ChC_9b41babcdb_0_0.cell.nml\n"
     ]
    },
    {
     "name": "stdout",
     "output_type": "stream",
     "text": [
      "Creating 2 cells of type dNAC222_L4_ChC_9b41babcdb_0_0.cell.nml\n"
     ]
    },
    {
     "name": "stderr",
     "output_type": "stream",
     "text": [
      "pyNeuroML >>> pyneuroml.pynml - INFO - Loading NeuroML2 file: ../NMC_model/NMC.NeuronML2/cNAC187_L4_ChC_fa7ba30f35_0_0.cell.nml\n",
      "pyNeuroML >>> 2025-02-03 14:58:54,496 - pyneuroml.pynml - INFO - Loading NeuroML2 file: ../NMC_model/NMC.NeuronML2/cNAC187_L4_ChC_fa7ba30f35_0_0.cell.nml\n"
     ]
    },
    {
     "name": "stdout",
     "output_type": "stream",
     "text": [
      "Creating 1 cells of type cNAC187_L4_ChC_fa7ba30f35_0_0.cell.nml\n"
     ]
    },
    {
     "name": "stderr",
     "output_type": "stream",
     "text": [
      "pyNeuroML >>> pyneuroml.pynml - INFO - Loading NeuroML2 file: ../NMC_model/NMC.NeuronML2/cACint209_L4_NBC_2eca058e75_0_0.cell.nml\n",
      "pyNeuroML >>> 2025-02-03 14:58:54,875 - pyneuroml.pynml - INFO - Loading NeuroML2 file: ../NMC_model/NMC.NeuronML2/cACint209_L4_NBC_2eca058e75_0_0.cell.nml\n",
      "pyNeuroML >>> pyneuroml.pynml - INFO - Loading NeuroML2 file: ../NMC_model/NMC.NeuronML2/cNAC187_L4_NBC_327fc63584_0_0.cell.nml\n",
      "pyNeuroML >>> 2025-02-03 14:58:54,980 - pyneuroml.pynml - INFO - Loading NeuroML2 file: ../NMC_model/NMC.NeuronML2/cNAC187_L4_NBC_327fc63584_0_0.cell.nml\n"
     ]
    },
    {
     "name": "stdout",
     "output_type": "stream",
     "text": [
      "Creating 4 cells of type cACint209_L4_NBC_2eca058e75_0_0.cell.nml\n",
      "Creating 6 cells of type cNAC187_L4_NBC_327fc63584_0_0.cell.nml\n"
     ]
    },
    {
     "name": "stderr",
     "output_type": "stream",
     "text": [
      "pyNeuroML >>> pyneuroml.pynml - INFO - Loading NeuroML2 file: ../NMC_model/NMC.NeuronML2/cACint209_L4_NBC_7b7132634e_0_0.cell.nml\n",
      "pyNeuroML >>> 2025-02-03 14:58:55,090 - pyneuroml.pynml - INFO - Loading NeuroML2 file: ../NMC_model/NMC.NeuronML2/cACint209_L4_NBC_7b7132634e_0_0.cell.nml\n"
     ]
    },
    {
     "name": "stdout",
     "output_type": "stream",
     "text": [
      "Creating 8 cells of type cACint209_L4_NBC_7b7132634e_0_0.cell.nml\n"
     ]
    },
    {
     "name": "stderr",
     "output_type": "stream",
     "text": [
      "pyNeuroML >>> pyneuroml.pynml - INFO - Loading NeuroML2 file: ../NMC_model/NMC.NeuronML2/cACint209_L4_NBC_70775a2036_0_0.cell.nml\n",
      "pyNeuroML >>> 2025-02-03 14:58:55,349 - pyneuroml.pynml - INFO - Loading NeuroML2 file: ../NMC_model/NMC.NeuronML2/cACint209_L4_NBC_70775a2036_0_0.cell.nml\n"
     ]
    },
    {
     "name": "stdout",
     "output_type": "stream",
     "text": [
      "Creating 10 cells of type cACint209_L4_NBC_70775a2036_0_0.cell.nml\n"
     ]
    },
    {
     "name": "stderr",
     "output_type": "stream",
     "text": [
      "pyNeuroML >>> pyneuroml.pynml - INFO - Loading NeuroML2 file: ../NMC_model/NMC.NeuronML2/cNAC187_L4_NBC_0bf743ff25_0_0.cell.nml\n",
      "pyNeuroML >>> 2025-02-03 14:58:55,553 - pyneuroml.pynml - INFO - Loading NeuroML2 file: ../NMC_model/NMC.NeuronML2/cNAC187_L4_NBC_0bf743ff25_0_0.cell.nml\n",
      "pyNeuroML >>> pyneuroml.pynml - INFO - Loading NeuroML2 file: ../NMC_model/NMC.NeuronML2/dNAC222_L4_NBC_695ce74c39_0_0.cell.nml\n",
      "pyNeuroML >>> 2025-02-03 14:58:55,668 - pyneuroml.pynml - INFO - Loading NeuroML2 file: ../NMC_model/NMC.NeuronML2/dNAC222_L4_NBC_695ce74c39_0_0.cell.nml\n"
     ]
    },
    {
     "name": "stdout",
     "output_type": "stream",
     "text": [
      "Creating 8 cells of type cNAC187_L4_NBC_0bf743ff25_0_0.cell.nml\n",
      "Creating 7 cells of type dNAC222_L4_NBC_695ce74c39_0_0.cell.nml\n"
     ]
    },
    {
     "name": "stderr",
     "output_type": "stream",
     "text": [
      "pyNeuroML >>> pyneuroml.pynml - INFO - Loading NeuroML2 file: ../NMC_model/NMC.NeuronML2/cIR216_L4_NBC_c28326d13b_0_0.cell.nml\n",
      "pyNeuroML >>> 2025-02-03 14:58:55,988 - pyneuroml.pynml - INFO - Loading NeuroML2 file: ../NMC_model/NMC.NeuronML2/cIR216_L4_NBC_c28326d13b_0_0.cell.nml\n",
      "pyNeuroML >>> pyneuroml.pynml - INFO - Loading NeuroML2 file: ../NMC_model/NMC.NeuronML2/dNAC222_L4_NBC_c61eec6aeb_0_0.cell.nml\n",
      "pyNeuroML >>> 2025-02-03 14:58:56,075 - pyneuroml.pynml - INFO - Loading NeuroML2 file: ../NMC_model/NMC.NeuronML2/dNAC222_L4_NBC_c61eec6aeb_0_0.cell.nml\n",
      "pyNeuroML >>> pyneuroml.pynml - INFO - Loading NeuroML2 file: ../NMC_model/NMC.NeuronML2/dNAC222_L4_NBC_4cad2587d3_0_0.cell.nml\n"
     ]
    },
    {
     "name": "stdout",
     "output_type": "stream",
     "text": [
      "Creating 2 cells of type cIR216_L4_NBC_c28326d13b_0_0.cell.nml\n",
      "Creating 6 cells of type dNAC222_L4_NBC_c61eec6aeb_0_0.cell.nml\n",
      "Creating 7 cells of type dNAC222_L4_NBC_4cad2587d3_0_0.cell.nml\n"
     ]
    },
    {
     "name": "stderr",
     "output_type": "stream",
     "text": [
      "pyNeuroML >>> 2025-02-03 14:58:56,185 - pyneuroml.pynml - INFO - Loading NeuroML2 file: ../NMC_model/NMC.NeuronML2/dNAC222_L4_NBC_4cad2587d3_0_0.cell.nml\n",
      "pyNeuroML >>> pyneuroml.pynml - INFO - Loading NeuroML2 file: ../NMC_model/NMC.NeuronML2/cACint209_L4_NBC_3552e1f34a_0_0.cell.nml\n",
      "pyNeuroML >>> 2025-02-03 14:58:56,569 - pyneuroml.pynml - INFO - Loading NeuroML2 file: ../NMC_model/NMC.NeuronML2/cACint209_L4_NBC_3552e1f34a_0_0.cell.nml\n",
      "pyNeuroML >>> pyneuroml.pynml - INFO - Loading NeuroML2 file: ../NMC_model/NMC.NeuronML2/cNAC187_L4_NBC_36cd91dc08_0_0.cell.nml\n",
      "pyNeuroML >>> 2025-02-03 14:58:56,661 - pyneuroml.pynml - INFO - Loading NeuroML2 file: ../NMC_model/NMC.NeuronML2/cNAC187_L4_NBC_36cd91dc08_0_0.cell.nml\n",
      "pyNeuroML >>> pyneuroml.pynml - INFO - Loading NeuroML2 file: ../NMC_model/NMC.NeuronML2/cNAC187_L4_NBC_bfc793de90_0_0.cell.nml\n"
     ]
    },
    {
     "name": "stdout",
     "output_type": "stream",
     "text": [
      "Creating 9 cells of type cACint209_L4_NBC_3552e1f34a_0_0.cell.nml\n",
      "Creating 6 cells of type cNAC187_L4_NBC_36cd91dc08_0_0.cell.nml\n",
      "Creating 5 cells of type cNAC187_L4_NBC_bfc793de90_0_0.cell.nml\n"
     ]
    },
    {
     "name": "stderr",
     "output_type": "stream",
     "text": [
      "pyNeuroML >>> 2025-02-03 14:58:56,765 - pyneuroml.pynml - INFO - Loading NeuroML2 file: ../NMC_model/NMC.NeuronML2/cNAC187_L4_NBC_bfc793de90_0_0.cell.nml\n",
      "pyNeuroML >>> pyneuroml.pynml - INFO - Loading NeuroML2 file: ../NMC_model/NMC.NeuronML2/dNAC222_L4_NBC_0dd32b6386_0_0.cell.nml\n",
      "pyNeuroML >>> 2025-02-03 14:58:56,857 - pyneuroml.pynml - INFO - Loading NeuroML2 file: ../NMC_model/NMC.NeuronML2/dNAC222_L4_NBC_0dd32b6386_0_0.cell.nml\n",
      "pyNeuroML >>> pyneuroml.pynml - INFO - Loading NeuroML2 file: ../NMC_model/NMC.NeuronML2/cIR216_L4_NBC_7eb58fa61e_0_0.cell.nml\n",
      "pyNeuroML >>> 2025-02-03 14:58:56,948 - pyneuroml.pynml - INFO - Loading NeuroML2 file: ../NMC_model/NMC.NeuronML2/cIR216_L4_NBC_7eb58fa61e_0_0.cell.nml\n",
      "pyNeuroML >>> pyneuroml.pynml - INFO - Loading NeuroML2 file: ../NMC_model/NMC.NeuronML2/cACint209_L4_NBC_9060dda08b_0_0.cell.nml\n"
     ]
    },
    {
     "name": "stdout",
     "output_type": "stream",
     "text": [
      "Creating 4 cells of type dNAC222_L4_NBC_0dd32b6386_0_0.cell.nml\n",
      "Creating 1 cells of type cIR216_L4_NBC_7eb58fa61e_0_0.cell.nml\n",
      "Creating 8 cells of type cACint209_L4_NBC_9060dda08b_0_0.cell.nml\n"
     ]
    },
    {
     "name": "stderr",
     "output_type": "stream",
     "text": [
      "pyNeuroML >>> 2025-02-03 14:58:57,051 - pyneuroml.pynml - INFO - Loading NeuroML2 file: ../NMC_model/NMC.NeuronML2/cACint209_L4_NBC_9060dda08b_0_0.cell.nml\n",
      "pyNeuroML >>> pyneuroml.pynml - INFO - Loading NeuroML2 file: ../NMC_model/NMC.NeuronML2/cNAC187_L4_NBC_900ac15b61_0_0.cell.nml\n",
      "pyNeuroML >>> 2025-02-03 14:58:57,350 - pyneuroml.pynml - INFO - Loading NeuroML2 file: ../NMC_model/NMC.NeuronML2/cNAC187_L4_NBC_900ac15b61_0_0.cell.nml\n",
      "pyNeuroML >>> pyneuroml.pynml - INFO - Loading NeuroML2 file: ../NMC_model/NMC.NeuronML2/dNAC222_L4_NBC_aa36da75a3_0_0.cell.nml\n",
      "pyNeuroML >>> 2025-02-03 14:58:57,452 - pyneuroml.pynml - INFO - Loading NeuroML2 file: ../NMC_model/NMC.NeuronML2/dNAC222_L4_NBC_aa36da75a3_0_0.cell.nml\n"
     ]
    },
    {
     "name": "stdout",
     "output_type": "stream",
     "text": [
      "Creating 4 cells of type cNAC187_L4_NBC_900ac15b61_0_0.cell.nml\n",
      "Creating 1 cells of type dNAC222_L4_NBC_aa36da75a3_0_0.cell.nml\n"
     ]
    },
    {
     "name": "stderr",
     "output_type": "stream",
     "text": [
      "pyNeuroML >>> pyneuroml.pynml - INFO - Loading NeuroML2 file: ../NMC_model/NMC.NeuronML2/dNAC222_L4_LBC_f6a71a338d_0_0.cell.nml\n",
      "pyNeuroML >>> 2025-02-03 14:58:57,586 - pyneuroml.pynml - INFO - Loading NeuroML2 file: ../NMC_model/NMC.NeuronML2/dNAC222_L4_LBC_f6a71a338d_0_0.cell.nml\n",
      "pyNeuroML >>> pyneuroml.pynml - INFO - Loading NeuroML2 file: ../NMC_model/NMC.NeuronML2/cACint209_L4_LBC_db543bcdea_0_0.cell.nml\n",
      "pyNeuroML >>> 2025-02-03 14:58:57,726 - pyneuroml.pynml - INFO - Loading NeuroML2 file: ../NMC_model/NMC.NeuronML2/cACint209_L4_LBC_db543bcdea_0_0.cell.nml\n"
     ]
    },
    {
     "name": "stdout",
     "output_type": "stream",
     "text": [
      "Creating 8 cells of type dNAC222_L4_LBC_f6a71a338d_0_0.cell.nml\n",
      "Creating 11 cells of type cACint209_L4_LBC_db543bcdea_0_0.cell.nml\n"
     ]
    },
    {
     "name": "stderr",
     "output_type": "stream",
     "text": [
      "pyNeuroML >>> pyneuroml.pynml - INFO - Loading NeuroML2 file: ../NMC_model/NMC.NeuronML2/cACint209_L4_LBC_45f62e2816_0_0.cell.nml\n",
      "pyNeuroML >>> 2025-02-03 14:58:57,880 - pyneuroml.pynml - INFO - Loading NeuroML2 file: ../NMC_model/NMC.NeuronML2/cACint209_L4_LBC_45f62e2816_0_0.cell.nml\n"
     ]
    },
    {
     "name": "stdout",
     "output_type": "stream",
     "text": [
      "Creating 12 cells of type cACint209_L4_LBC_45f62e2816_0_0.cell.nml\n"
     ]
    },
    {
     "name": "stderr",
     "output_type": "stream",
     "text": [
      "pyNeuroML >>> pyneuroml.pynml - INFO - Loading NeuroML2 file: ../NMC_model/NMC.NeuronML2/cNAC187_L4_LBC_cf3f064b85_0_0.cell.nml\n",
      "pyNeuroML >>> 2025-02-03 14:58:58,113 - pyneuroml.pynml - INFO - Loading NeuroML2 file: ../NMC_model/NMC.NeuronML2/cNAC187_L4_LBC_cf3f064b85_0_0.cell.nml\n",
      "pyNeuroML >>> pyneuroml.pynml - INFO - Loading NeuroML2 file: ../NMC_model/NMC.NeuronML2/cNAC187_L4_LBC_990b7ac7df_0_0.cell.nml\n",
      "pyNeuroML >>> 2025-02-03 14:58:58,206 - pyneuroml.pynml - INFO - Loading NeuroML2 file: ../NMC_model/NMC.NeuronML2/cNAC187_L4_LBC_990b7ac7df_0_0.cell.nml\n",
      "pyNeuroML >>> pyneuroml.pynml - INFO - Loading NeuroML2 file: ../NMC_model/NMC.NeuronML2/cNAC187_L4_LBC_0226c205f1_0_0.cell.nml\n"
     ]
    },
    {
     "name": "stdout",
     "output_type": "stream",
     "text": [
      "Creating 1 cells of type cNAC187_L4_LBC_cf3f064b85_0_0.cell.nml\n",
      "Creating 4 cells of type cNAC187_L4_LBC_990b7ac7df_0_0.cell.nml\n",
      "Creating 4 cells of type cNAC187_L4_LBC_0226c205f1_0_0.cell.nml\n"
     ]
    },
    {
     "name": "stderr",
     "output_type": "stream",
     "text": [
      "pyNeuroML >>> 2025-02-03 14:58:58,315 - pyneuroml.pynml - INFO - Loading NeuroML2 file: ../NMC_model/NMC.NeuronML2/cNAC187_L4_LBC_0226c205f1_0_0.cell.nml\n",
      "pyNeuroML >>> pyneuroml.pynml - INFO - Loading NeuroML2 file: ../NMC_model/NMC.NeuronML2/cACint209_L4_LBC_66ec8fed8f_0_0.cell.nml\n",
      "pyNeuroML >>> 2025-02-03 14:58:58,428 - pyneuroml.pynml - INFO - Loading NeuroML2 file: ../NMC_model/NMC.NeuronML2/cACint209_L4_LBC_66ec8fed8f_0_0.cell.nml\n"
     ]
    },
    {
     "name": "stdout",
     "output_type": "stream",
     "text": [
      "Creating 7 cells of type cACint209_L4_LBC_66ec8fed8f_0_0.cell.nml\n"
     ]
    },
    {
     "name": "stderr",
     "output_type": "stream",
     "text": [
      "pyNeuroML >>> pyneuroml.pynml - INFO - Loading NeuroML2 file: ../NMC_model/NMC.NeuronML2/cACint209_L4_LBC_baa757490e_0_0.cell.nml\n",
      "pyNeuroML >>> 2025-02-03 14:58:58,639 - pyneuroml.pynml - INFO - Loading NeuroML2 file: ../NMC_model/NMC.NeuronML2/cACint209_L4_LBC_baa757490e_0_0.cell.nml\n"
     ]
    },
    {
     "name": "stdout",
     "output_type": "stream",
     "text": [
      "Creating 11 cells of type cACint209_L4_LBC_baa757490e_0_0.cell.nml\n"
     ]
    },
    {
     "name": "stderr",
     "output_type": "stream",
     "text": [
      "pyNeuroML >>> pyneuroml.pynml - INFO - Loading NeuroML2 file: ../NMC_model/NMC.NeuronML2/dNAC222_L4_LBC_f0975c96e7_0_0.cell.nml\n",
      "pyNeuroML >>> 2025-02-03 14:58:58,893 - pyneuroml.pynml - INFO - Loading NeuroML2 file: ../NMC_model/NMC.NeuronML2/dNAC222_L4_LBC_f0975c96e7_0_0.cell.nml\n",
      "pyNeuroML >>> pyneuroml.pynml - INFO - Loading NeuroML2 file: ../NMC_model/NMC.NeuronML2/cACint209_L4_LBC_852c3c018f_0_0.cell.nml\n",
      "pyNeuroML >>> 2025-02-03 14:58:59,002 - pyneuroml.pynml - INFO - Loading NeuroML2 file: ../NMC_model/NMC.NeuronML2/cACint209_L4_LBC_852c3c018f_0_0.cell.nml\n"
     ]
    },
    {
     "name": "stdout",
     "output_type": "stream",
     "text": [
      "Creating 5 cells of type dNAC222_L4_LBC_f0975c96e7_0_0.cell.nml\n",
      "Creating 15 cells of type cACint209_L4_LBC_852c3c018f_0_0.cell.nml\n"
     ]
    },
    {
     "name": "stderr",
     "output_type": "stream",
     "text": [
      "pyNeuroML >>> pyneuroml.pynml - INFO - Loading NeuroML2 file: ../NMC_model/NMC.NeuronML2/cSTUT189_L4_LBC_28153c03c4_0_0.cell.nml\n",
      "pyNeuroML >>> 2025-02-03 14:58:59,099 - pyneuroml.pynml - INFO - Loading NeuroML2 file: ../NMC_model/NMC.NeuronML2/cSTUT189_L4_LBC_28153c03c4_0_0.cell.nml\n",
      "pyNeuroML >>> pyneuroml.pynml - INFO - Loading NeuroML2 file: ../NMC_model/NMC.NeuronML2/cSTUT189_L4_LBC_11016afdad_0_0.cell.nml\n",
      "pyNeuroML >>> 2025-02-03 14:58:59,271 - pyneuroml.pynml - INFO - Loading NeuroML2 file: ../NMC_model/NMC.NeuronML2/cSTUT189_L4_LBC_11016afdad_0_0.cell.nml\n"
     ]
    },
    {
     "name": "stdout",
     "output_type": "stream",
     "text": [
      "Creating 2 cells of type cSTUT189_L4_LBC_28153c03c4_0_0.cell.nml\n",
      "Creating 4 cells of type cSTUT189_L4_LBC_11016afdad_0_0.cell.nml\n"
     ]
    },
    {
     "name": "stderr",
     "output_type": "stream",
     "text": [
      "pyNeuroML >>> pyneuroml.pynml - INFO - Loading NeuroML2 file: ../NMC_model/NMC.NeuronML2/cSTUT189_L4_LBC_fe3c0498a4_0_0.cell.nml\n",
      "pyNeuroML >>> 2025-02-03 14:58:59,400 - pyneuroml.pynml - INFO - Loading NeuroML2 file: ../NMC_model/NMC.NeuronML2/cSTUT189_L4_LBC_fe3c0498a4_0_0.cell.nml\n",
      "pyNeuroML >>> pyneuroml.pynml - INFO - Loading NeuroML2 file: ../NMC_model/NMC.NeuronML2/dNAC222_L4_LBC_a6205ed0df_0_0.cell.nml\n",
      "pyNeuroML >>> 2025-02-03 14:58:59,519 - pyneuroml.pynml - INFO - Loading NeuroML2 file: ../NMC_model/NMC.NeuronML2/dNAC222_L4_LBC_a6205ed0df_0_0.cell.nml\n"
     ]
    },
    {
     "name": "stdout",
     "output_type": "stream",
     "text": [
      "Creating 1 cells of type cSTUT189_L4_LBC_fe3c0498a4_0_0.cell.nml\n",
      "Creating 8 cells of type dNAC222_L4_LBC_a6205ed0df_0_0.cell.nml\n"
     ]
    },
    {
     "name": "stderr",
     "output_type": "stream",
     "text": [
      "pyNeuroML >>> pyneuroml.pynml - INFO - Loading NeuroML2 file: ../NMC_model/NMC.NeuronML2/cNAC187_L4_LBC_8e834c24cb_0_0.cell.nml\n",
      "pyNeuroML >>> 2025-02-03 14:58:59,757 - pyneuroml.pynml - INFO - Loading NeuroML2 file: ../NMC_model/NMC.NeuronML2/cNAC187_L4_LBC_8e834c24cb_0_0.cell.nml\n",
      "pyNeuroML >>> pyneuroml.pynml - INFO - Loading NeuroML2 file: ../NMC_model/NMC.NeuronML2/dNAC222_L4_LBC_3530c2c05e_0_0.cell.nml\n",
      "pyNeuroML >>> 2025-02-03 14:58:59,885 - pyneuroml.pynml - INFO - Loading NeuroML2 file: ../NMC_model/NMC.NeuronML2/dNAC222_L4_LBC_3530c2c05e_0_0.cell.nml\n"
     ]
    },
    {
     "name": "stdout",
     "output_type": "stream",
     "text": [
      "Creating 9 cells of type cNAC187_L4_LBC_8e834c24cb_0_0.cell.nml\n",
      "Creating 9 cells of type dNAC222_L4_LBC_3530c2c05e_0_0.cell.nml\n"
     ]
    },
    {
     "name": "stderr",
     "output_type": "stream",
     "text": [
      "pyNeuroML >>> pyneuroml.pynml - INFO - Loading NeuroML2 file: ../NMC_model/NMC.NeuronML2/cSTUT189_L4_LBC_2a3578f975_0_0.cell.nml\n",
      "pyNeuroML >>> 2025-02-03 14:58:59,986 - pyneuroml.pynml - INFO - Loading NeuroML2 file: ../NMC_model/NMC.NeuronML2/cSTUT189_L4_LBC_2a3578f975_0_0.cell.nml\n"
     ]
    },
    {
     "name": "stdout",
     "output_type": "stream",
     "text": [
      "Creating 2 cells of type cSTUT189_L4_LBC_2a3578f975_0_0.cell.nml\n"
     ]
    },
    {
     "name": "stderr",
     "output_type": "stream",
     "text": [
      "pyNeuroML >>> pyneuroml.pynml - INFO - Loading NeuroML2 file: ../NMC_model/NMC.NeuronML2/cNAC187_L4_LBC_1cf329956f_0_0.cell.nml\n",
      "pyNeuroML >>> 2025-02-03 14:59:00,227 - pyneuroml.pynml - INFO - Loading NeuroML2 file: ../NMC_model/NMC.NeuronML2/cNAC187_L4_LBC_1cf329956f_0_0.cell.nml\n",
      "pyNeuroML >>> pyneuroml.pynml - INFO - Loading NeuroML2 file: ../NMC_model/NMC.NeuronML2/dSTUT214_L4_LBC_aecec7aee9_0_0.cell.nml\n",
      "pyNeuroML >>> 2025-02-03 14:59:00,394 - pyneuroml.pynml - INFO - Loading NeuroML2 file: ../NMC_model/NMC.NeuronML2/dSTUT214_L4_LBC_aecec7aee9_0_0.cell.nml\n"
     ]
    },
    {
     "name": "stdout",
     "output_type": "stream",
     "text": [
      "Creating 6 cells of type cNAC187_L4_LBC_1cf329956f_0_0.cell.nml\n",
      "Creating 1 cells of type dSTUT214_L4_LBC_aecec7aee9_0_0.cell.nml\n"
     ]
    },
    {
     "name": "stderr",
     "output_type": "stream",
     "text": [
      "pyNeuroML >>> pyneuroml.pynml - INFO - Loading NeuroML2 file: ../NMC_model/NMC.NeuronML2/dNAC222_L4_LBC_992411393b_0_0.cell.nml\n",
      "pyNeuroML >>> 2025-02-03 14:59:00,495 - pyneuroml.pynml - INFO - Loading NeuroML2 file: ../NMC_model/NMC.NeuronML2/dNAC222_L4_LBC_992411393b_0_0.cell.nml\n"
     ]
    },
    {
     "name": "stdout",
     "output_type": "stream",
     "text": [
      "Creating 2 cells of type dNAC222_L4_LBC_992411393b_0_0.cell.nml\n"
     ]
    },
    {
     "name": "stderr",
     "output_type": "stream",
     "text": [
      "pyNeuroML >>> pyneuroml.pynml - INFO - Loading NeuroML2 file: ../NMC_model/NMC.NeuronML2/cNAC187_L4_MC_29457dde26_0_0.cell.nml\n",
      "pyNeuroML >>> 2025-02-03 14:59:00,734 - pyneuroml.pynml - INFO - Loading NeuroML2 file: ../NMC_model/NMC.NeuronML2/cNAC187_L4_MC_29457dde26_0_0.cell.nml\n"
     ]
    },
    {
     "name": "stdout",
     "output_type": "stream",
     "text": [
      "Creating 4 cells of type cNAC187_L4_MC_29457dde26_0_0.cell.nml\n"
     ]
    },
    {
     "name": "stderr",
     "output_type": "stream",
     "text": [
      "pyNeuroML >>> pyneuroml.pynml - INFO - Loading NeuroML2 file: ../NMC_model/NMC.NeuronML2/bNAC219_L4_MC_2eb83e1eed_0_0.cell.nml\n",
      "pyNeuroML >>> 2025-02-03 14:59:01,176 - pyneuroml.pynml - INFO - Loading NeuroML2 file: ../NMC_model/NMC.NeuronML2/bNAC219_L4_MC_2eb83e1eed_0_0.cell.nml\n",
      "pyNeuroML >>> pyneuroml.pynml - INFO - Loading NeuroML2 file: ../NMC_model/NMC.NeuronML2/cACint209_L4_MC_f8c62d11b0_0_0.cell.nml\n"
     ]
    },
    {
     "name": "stdout",
     "output_type": "stream",
     "text": [
      "Creating 5 cells of type bNAC219_L4_MC_2eb83e1eed_0_0.cell.nml\n",
      "Creating 8 cells of type cACint209_L4_MC_f8c62d11b0_0_0.cell.nml\n"
     ]
    },
    {
     "name": "stderr",
     "output_type": "stream",
     "text": [
      "pyNeuroML >>> 2025-02-03 14:59:01,389 - pyneuroml.pynml - INFO - Loading NeuroML2 file: ../NMC_model/NMC.NeuronML2/cACint209_L4_MC_f8c62d11b0_0_0.cell.nml\n",
      "pyNeuroML >>> pyneuroml.pynml - INFO - Loading NeuroML2 file: ../NMC_model/NMC.NeuronML2/cACint209_L4_MC_ba3c5063e4_0_0.cell.nml\n",
      "pyNeuroML >>> 2025-02-03 14:59:01,463 - pyneuroml.pynml - INFO - Loading NeuroML2 file: ../NMC_model/NMC.NeuronML2/cACint209_L4_MC_ba3c5063e4_0_0.cell.nml\n"
     ]
    },
    {
     "name": "stdout",
     "output_type": "stream",
     "text": [
      "Creating 15 cells of type cACint209_L4_MC_ba3c5063e4_0_0.cell.nml\n"
     ]
    },
    {
     "name": "stderr",
     "output_type": "stream",
     "text": [
      "pyNeuroML >>> pyneuroml.pynml - INFO - Loading NeuroML2 file: ../NMC_model/NMC.NeuronML2/bNAC219_L4_MC_ba3c5063e4_0_0.cell.nml\n",
      "pyNeuroML >>> 2025-02-03 14:59:01,838 - pyneuroml.pynml - INFO - Loading NeuroML2 file: ../NMC_model/NMC.NeuronML2/bNAC219_L4_MC_ba3c5063e4_0_0.cell.nml\n"
     ]
    },
    {
     "name": "stdout",
     "output_type": "stream",
     "text": [
      "Creating 4 cells of type bNAC219_L4_MC_ba3c5063e4_0_0.cell.nml\n"
     ]
    },
    {
     "name": "stderr",
     "output_type": "stream",
     "text": [
      "pyNeuroML >>> pyneuroml.pynml - INFO - Loading NeuroML2 file: ../NMC_model/NMC.NeuronML2/cACint209_L4_MC_5fa0a62bd0_0_0.cell.nml\n",
      "pyNeuroML >>> 2025-02-03 14:59:02,095 - pyneuroml.pynml - INFO - Loading NeuroML2 file: ../NMC_model/NMC.NeuronML2/cACint209_L4_MC_5fa0a62bd0_0_0.cell.nml\n"
     ]
    },
    {
     "name": "stdout",
     "output_type": "stream",
     "text": [
      "Creating 13 cells of type cACint209_L4_MC_5fa0a62bd0_0_0.cell.nml\n"
     ]
    },
    {
     "name": "stderr",
     "output_type": "stream",
     "text": [
      "pyNeuroML >>> pyneuroml.pynml - INFO - Loading NeuroML2 file: ../NMC_model/NMC.NeuronML2/dNAC222_L4_MC_3110386c07_0_0.cell.nml\n",
      "pyNeuroML >>> 2025-02-03 14:59:02,771 - pyneuroml.pynml - INFO - Loading NeuroML2 file: ../NMC_model/NMC.NeuronML2/dNAC222_L4_MC_3110386c07_0_0.cell.nml\n"
     ]
    },
    {
     "name": "stdout",
     "output_type": "stream",
     "text": [
      "Creating 6 cells of type dNAC222_L4_MC_3110386c07_0_0.cell.nml\n"
     ]
    },
    {
     "name": "stderr",
     "output_type": "stream",
     "text": [
      "pyNeuroML >>> pyneuroml.pynml - INFO - Loading NeuroML2 file: ../NMC_model/NMC.NeuronML2/cACint209_L4_MC_fa0d941a0b_0_0.cell.nml\n",
      "pyNeuroML >>> 2025-02-03 14:59:03,026 - pyneuroml.pynml - INFO - Loading NeuroML2 file: ../NMC_model/NMC.NeuronML2/cACint209_L4_MC_fa0d941a0b_0_0.cell.nml\n"
     ]
    },
    {
     "name": "stdout",
     "output_type": "stream",
     "text": [
      "Creating 10 cells of type cACint209_L4_MC_fa0d941a0b_0_0.cell.nml\n"
     ]
    },
    {
     "name": "stderr",
     "output_type": "stream",
     "text": [
      "pyNeuroML >>> pyneuroml.pynml - INFO - Loading NeuroML2 file: ../NMC_model/NMC.NeuronML2/cNAC187_L4_MC_f8c62d11b0_0_0.cell.nml\n",
      "pyNeuroML >>> 2025-02-03 14:59:03,520 - pyneuroml.pynml - INFO - Loading NeuroML2 file: ../NMC_model/NMC.NeuronML2/cNAC187_L4_MC_f8c62d11b0_0_0.cell.nml\n",
      "pyNeuroML >>> pyneuroml.pynml - INFO - Loading NeuroML2 file: ../NMC_model/NMC.NeuronML2/cNAC187_L4_MC_2eb83e1eed_0_0.cell.nml\n",
      "pyNeuroML >>> 2025-02-03 14:59:03,593 - pyneuroml.pynml - INFO - Loading NeuroML2 file: ../NMC_model/NMC.NeuronML2/cNAC187_L4_MC_2eb83e1eed_0_0.cell.nml\n"
     ]
    },
    {
     "name": "stdout",
     "output_type": "stream",
     "text": [
      "Creating 8 cells of type cNAC187_L4_MC_f8c62d11b0_0_0.cell.nml\n",
      "Creating 3 cells of type cNAC187_L4_MC_2eb83e1eed_0_0.cell.nml\n"
     ]
    },
    {
     "name": "stderr",
     "output_type": "stream",
     "text": [
      "pyNeuroML >>> pyneuroml.pynml - INFO - Loading NeuroML2 file: ../NMC_model/NMC.NeuronML2/cNAC187_L4_MC_3110386c07_0_0.cell.nml\n",
      "pyNeuroML >>> 2025-02-03 14:59:03,799 - pyneuroml.pynml - INFO - Loading NeuroML2 file: ../NMC_model/NMC.NeuronML2/cNAC187_L4_MC_3110386c07_0_0.cell.nml\n"
     ]
    },
    {
     "name": "stdout",
     "output_type": "stream",
     "text": [
      "Creating 5 cells of type cNAC187_L4_MC_3110386c07_0_0.cell.nml\n"
     ]
    },
    {
     "name": "stderr",
     "output_type": "stream",
     "text": [
      "pyNeuroML >>> pyneuroml.pynml - INFO - Loading NeuroML2 file: ../NMC_model/NMC.NeuronML2/bAC217_L4_MC_8a4a02932c_0_0.cell.nml\n",
      "pyNeuroML >>> 2025-02-03 14:59:04,095 - pyneuroml.pynml - INFO - Loading NeuroML2 file: ../NMC_model/NMC.NeuronML2/bAC217_L4_MC_8a4a02932c_0_0.cell.nml\n",
      "pyNeuroML >>> pyneuroml.pynml - INFO - Loading NeuroML2 file: ../NMC_model/NMC.NeuronML2/cACint209_L4_MC_8a4a02932c_0_0.cell.nml\n"
     ]
    },
    {
     "name": "stdout",
     "output_type": "stream",
     "text": [
      "Creating 1 cells of type bAC217_L4_MC_8a4a02932c_0_0.cell.nml\n",
      "Creating 10 cells of type cACint209_L4_MC_8a4a02932c_0_0.cell.nml\n"
     ]
    },
    {
     "name": "stderr",
     "output_type": "stream",
     "text": [
      "pyNeuroML >>> 2025-02-03 14:59:04,275 - pyneuroml.pynml - INFO - Loading NeuroML2 file: ../NMC_model/NMC.NeuronML2/cACint209_L4_MC_8a4a02932c_0_0.cell.nml\n",
      "pyNeuroML >>> pyneuroml.pynml - INFO - Loading NeuroML2 file: ../NMC_model/NMC.NeuronML2/dNAC222_L4_MC_f8c62d11b0_0_0.cell.nml\n",
      "pyNeuroML >>> 2025-02-03 14:59:04,451 - pyneuroml.pynml - INFO - Loading NeuroML2 file: ../NMC_model/NMC.NeuronML2/dNAC222_L4_MC_f8c62d11b0_0_0.cell.nml\n",
      "pyNeuroML >>> pyneuroml.pynml - INFO - Loading NeuroML2 file: ../NMC_model/NMC.NeuronML2/dNAC222_L4_MC_29457dde26_0_0.cell.nml\n",
      "pyNeuroML >>> 2025-02-03 14:59:04,524 - pyneuroml.pynml - INFO - Loading NeuroML2 file: ../NMC_model/NMC.NeuronML2/dNAC222_L4_MC_29457dde26_0_0.cell.nml\n"
     ]
    },
    {
     "name": "stdout",
     "output_type": "stream",
     "text": [
      "Creating 4 cells of type dNAC222_L4_MC_f8c62d11b0_0_0.cell.nml\n",
      "Creating 3 cells of type dNAC222_L4_MC_29457dde26_0_0.cell.nml\n"
     ]
    },
    {
     "name": "stderr",
     "output_type": "stream",
     "text": [
      "pyNeuroML >>> pyneuroml.pynml - INFO - Loading NeuroML2 file: ../NMC_model/NMC.NeuronML2/bAC217_L4_MC_29457dde26_0_0.cell.nml\n",
      "pyNeuroML >>> 2025-02-03 14:59:05,321 - pyneuroml.pynml - INFO - Loading NeuroML2 file: ../NMC_model/NMC.NeuronML2/bAC217_L4_MC_29457dde26_0_0.cell.nml\n"
     ]
    },
    {
     "name": "stdout",
     "output_type": "stream",
     "text": [
      "Creating 1 cells of type bAC217_L4_MC_29457dde26_0_0.cell.nml\n"
     ]
    },
    {
     "name": "stderr",
     "output_type": "stream",
     "text": [
      "pyNeuroML >>> pyneuroml.pynml - INFO - Loading NeuroML2 file: ../NMC_model/NMC.NeuronML2/dNAC222_L4_MC_2eb83e1eed_0_0.cell.nml\n",
      "pyNeuroML >>> 2025-02-03 14:59:05,973 - pyneuroml.pynml - INFO - Loading NeuroML2 file: ../NMC_model/NMC.NeuronML2/dNAC222_L4_MC_2eb83e1eed_0_0.cell.nml\n",
      "pyNeuroML >>> pyneuroml.pynml - INFO - Loading NeuroML2 file: ../NMC_model/NMC.NeuronML2/cNAC187_L4_MC_8a4a02932c_0_0.cell.nml\n"
     ]
    },
    {
     "name": "stdout",
     "output_type": "stream",
     "text": [
      "Creating 3 cells of type dNAC222_L4_MC_2eb83e1eed_0_0.cell.nml\n",
      "Creating 2 cells of type cNAC187_L4_MC_8a4a02932c_0_0.cell.nml\n"
     ]
    },
    {
     "name": "stderr",
     "output_type": "stream",
     "text": [
      "pyNeuroML >>> 2025-02-03 14:59:06,179 - pyneuroml.pynml - INFO - Loading NeuroML2 file: ../NMC_model/NMC.NeuronML2/cNAC187_L4_MC_8a4a02932c_0_0.cell.nml\n",
      "pyNeuroML >>> pyneuroml.pynml - INFO - Loading NeuroML2 file: ../NMC_model/NMC.NeuronML2/bNAC219_L4_MC_8a4a02932c_0_0.cell.nml\n",
      "pyNeuroML >>> 2025-02-03 14:59:06,477 - pyneuroml.pynml - INFO - Loading NeuroML2 file: ../NMC_model/NMC.NeuronML2/bNAC219_L4_MC_8a4a02932c_0_0.cell.nml\n",
      "pyNeuroML >>> pyneuroml.pynml - INFO - Loading NeuroML2 file: ../NMC_model/NMC.NeuronML2/bAC217_L4_MC_2eb83e1eed_0_0.cell.nml\n"
     ]
    },
    {
     "name": "stdout",
     "output_type": "stream",
     "text": [
      "Creating 4 cells of type bNAC219_L4_MC_8a4a02932c_0_0.cell.nml\n",
      "Creating 2 cells of type bAC217_L4_MC_2eb83e1eed_0_0.cell.nml\n"
     ]
    },
    {
     "name": "stderr",
     "output_type": "stream",
     "text": [
      "pyNeuroML >>> 2025-02-03 14:59:06,662 - pyneuroml.pynml - INFO - Loading NeuroML2 file: ../NMC_model/NMC.NeuronML2/bAC217_L4_MC_2eb83e1eed_0_0.cell.nml\n",
      "pyNeuroML >>> pyneuroml.pynml - INFO - Loading NeuroML2 file: ../NMC_model/NMC.NeuronML2/bNAC219_L4_MC_29457dde26_0_0.cell.nml\n",
      "pyNeuroML >>> 2025-02-03 14:59:06,873 - pyneuroml.pynml - INFO - Loading NeuroML2 file: ../NMC_model/NMC.NeuronML2/bNAC219_L4_MC_29457dde26_0_0.cell.nml\n"
     ]
    },
    {
     "name": "stdout",
     "output_type": "stream",
     "text": [
      "Creating 2 cells of type bNAC219_L4_MC_29457dde26_0_0.cell.nml\n"
     ]
    },
    {
     "name": "stderr",
     "output_type": "stream",
     "text": [
      "pyNeuroML >>> pyneuroml.pynml - INFO - Loading NeuroML2 file: ../NMC_model/NMC.NeuronML2/bAC217_L4_MC_5fa0a62bd0_0_0.cell.nml\n",
      "pyNeuroML >>> 2025-02-03 14:59:07,425 - pyneuroml.pynml - INFO - Loading NeuroML2 file: ../NMC_model/NMC.NeuronML2/bAC217_L4_MC_5fa0a62bd0_0_0.cell.nml\n"
     ]
    },
    {
     "name": "stdout",
     "output_type": "stream",
     "text": [
      "Creating 2 cells of type bAC217_L4_MC_5fa0a62bd0_0_0.cell.nml\n"
     ]
    },
    {
     "name": "stderr",
     "output_type": "stream",
     "text": [
      "pyNeuroML >>> pyneuroml.pynml - INFO - Loading NeuroML2 file: ../NMC_model/NMC.NeuronML2/bNAC219_L4_MC_5fa0a62bd0_0_0.cell.nml\n",
      "pyNeuroML >>> 2025-02-03 14:59:07,861 - pyneuroml.pynml - INFO - Loading NeuroML2 file: ../NMC_model/NMC.NeuronML2/bNAC219_L4_MC_5fa0a62bd0_0_0.cell.nml\n"
     ]
    },
    {
     "name": "stdout",
     "output_type": "stream",
     "text": [
      "Creating 2 cells of type bNAC219_L4_MC_5fa0a62bd0_0_0.cell.nml\n"
     ]
    },
    {
     "name": "stderr",
     "output_type": "stream",
     "text": [
      "pyNeuroML >>> pyneuroml.pynml - INFO - Loading NeuroML2 file: ../NMC_model/NMC.NeuronML2/dNAC222_L4_MC_8a4a02932c_0_0.cell.nml\n",
      "pyNeuroML >>> 2025-02-03 14:59:08,242 - pyneuroml.pynml - INFO - Loading NeuroML2 file: ../NMC_model/NMC.NeuronML2/dNAC222_L4_MC_8a4a02932c_0_0.cell.nml\n"
     ]
    },
    {
     "name": "stdout",
     "output_type": "stream",
     "text": [
      "Creating 1 cells of type dNAC222_L4_MC_8a4a02932c_0_0.cell.nml\n"
     ]
    },
    {
     "name": "stderr",
     "output_type": "stream",
     "text": [
      "pyNeuroML >>> pyneuroml.pynml - INFO - Loading NeuroML2 file: ../NMC_model/NMC.NeuronML2/cADpyr230_L4_SS_9e49de205b_0_0.cell.nml\n",
      "pyNeuroML >>> 2025-02-03 14:59:08,532 - pyneuroml.pynml - INFO - Loading NeuroML2 file: ../NMC_model/NMC.NeuronML2/cADpyr230_L4_SS_9e49de205b_0_0.cell.nml\n",
      "pyNeuroML >>> pyneuroml.pynml - INFO - Loading NeuroML2 file: ../NMC_model/NMC.NeuronML2/cADpyr230_L4_SS_a8ef0f9d97_0_0.cell.nml\n"
     ]
    },
    {
     "name": "stdout",
     "output_type": "stream",
     "text": [
      "Creating 87 cells of type cADpyr230_L4_SS_9e49de205b_0_0.cell.nml\n",
      "Creating 91 cells of type cADpyr230_L4_SS_a8ef0f9d97_0_0.cell.nml\n"
     ]
    },
    {
     "name": "stderr",
     "output_type": "stream",
     "text": [
      "pyNeuroML >>> 2025-02-03 14:59:08,710 - pyneuroml.pynml - INFO - Loading NeuroML2 file: ../NMC_model/NMC.NeuronML2/cADpyr230_L4_SS_a8ef0f9d97_0_0.cell.nml\n",
      "pyNeuroML >>> pyneuroml.pynml - INFO - Loading NeuroML2 file: ../NMC_model/NMC.NeuronML2/cADpyr230_L4_SS_08eefff078_0_0.cell.nml\n",
      "pyNeuroML >>> 2025-02-03 14:59:08,814 - pyneuroml.pynml - INFO - Loading NeuroML2 file: ../NMC_model/NMC.NeuronML2/cADpyr230_L4_SS_08eefff078_0_0.cell.nml\n",
      "pyNeuroML >>> pyneuroml.pynml - INFO - Loading NeuroML2 file: ../NMC_model/NMC.NeuronML2/cADpyr230_L4_SS_a5ca6392b3_0_0.cell.nml\n",
      "pyNeuroML >>> 2025-02-03 14:59:08,914 - pyneuroml.pynml - INFO - Loading NeuroML2 file: ../NMC_model/NMC.NeuronML2/cADpyr230_L4_SS_a5ca6392b3_0_0.cell.nml\n"
     ]
    },
    {
     "name": "stdout",
     "output_type": "stream",
     "text": [
      "Creating 68 cells of type cADpyr230_L4_SS_08eefff078_0_0.cell.nml\n",
      "Creating 80 cells of type cADpyr230_L4_SS_a5ca6392b3_0_0.cell.nml\n"
     ]
    },
    {
     "name": "stderr",
     "output_type": "stream",
     "text": [
      "pyNeuroML >>> pyneuroml.pynml - INFO - Loading NeuroML2 file: ../NMC_model/NMC.NeuronML2/cADpyr230_L4_SS_1afeb14f17_0_0.cell.nml\n",
      "pyNeuroML >>> 2025-02-03 14:59:09,051 - pyneuroml.pynml - INFO - Loading NeuroML2 file: ../NMC_model/NMC.NeuronML2/cADpyr230_L4_SS_1afeb14f17_0_0.cell.nml\n",
      "pyNeuroML >>> pyneuroml.pynml - INFO - Loading NeuroML2 file: ../NMC_model/NMC.NeuronML2/bNAC219_L4_SBC_3845e9299a_0_0.cell.nml\n",
      "pyNeuroML >>> 2025-02-03 14:59:09,218 - pyneuroml.pynml - INFO - Loading NeuroML2 file: ../NMC_model/NMC.NeuronML2/bNAC219_L4_SBC_3845e9299a_0_0.cell.nml\n"
     ]
    },
    {
     "name": "stdout",
     "output_type": "stream",
     "text": [
      "Creating 80 cells of type cADpyr230_L4_SS_1afeb14f17_0_0.cell.nml\n",
      "Creating 1 cells of type bNAC219_L4_SBC_3845e9299a_0_0.cell.nml\n"
     ]
    },
    {
     "name": "stderr",
     "output_type": "stream",
     "text": [
      "pyNeuroML >>> pyneuroml.pynml - INFO - Loading NeuroML2 file: ../NMC_model/NMC.NeuronML2/cACint209_L4_SBC_fc7c18ae57_0_0.cell.nml\n",
      "pyNeuroML >>> 2025-02-03 14:59:09,564 - pyneuroml.pynml - INFO - Loading NeuroML2 file: ../NMC_model/NMC.NeuronML2/cACint209_L4_SBC_fc7c18ae57_0_0.cell.nml\n",
      "pyNeuroML >>> pyneuroml.pynml - INFO - Loading NeuroML2 file: ../NMC_model/NMC.NeuronML2/cACint209_L4_SBC_12caedd28c_0_0.cell.nml\n"
     ]
    },
    {
     "name": "stdout",
     "output_type": "stream",
     "text": [
      "Creating 4 cells of type cACint209_L4_SBC_fc7c18ae57_0_0.cell.nml\n",
      "Creating 6 cells of type cACint209_L4_SBC_12caedd28c_0_0.cell.nml\n"
     ]
    },
    {
     "name": "stderr",
     "output_type": "stream",
     "text": [
      "pyNeuroML >>> 2025-02-03 14:59:09,761 - pyneuroml.pynml - INFO - Loading NeuroML2 file: ../NMC_model/NMC.NeuronML2/cACint209_L4_SBC_12caedd28c_0_0.cell.nml\n",
      "pyNeuroML >>> pyneuroml.pynml - INFO - Loading NeuroML2 file: ../NMC_model/NMC.NeuronML2/dNAC222_L4_SBC_dcee829578_0_0.cell.nml\n",
      "pyNeuroML >>> 2025-02-03 14:59:09,977 - pyneuroml.pynml - INFO - Loading NeuroML2 file: ../NMC_model/NMC.NeuronML2/dNAC222_L4_SBC_dcee829578_0_0.cell.nml\n",
      "pyNeuroML >>> pyneuroml.pynml - INFO - Loading NeuroML2 file: ../NMC_model/NMC.NeuronML2/cACint209_L4_SBC_684e05d4eb_0_0.cell.nml\n",
      "pyNeuroML >>> 2025-02-03 14:59:10,004 - pyneuroml.pynml - INFO - Loading NeuroML2 file: ../NMC_model/NMC.NeuronML2/cACint209_L4_SBC_684e05d4eb_0_0.cell.nml\n",
      "pyNeuroML >>> pyneuroml.pynml - INFO - Loading NeuroML2 file: ../NMC_model/NMC.NeuronML2/dNAC222_L4_SBC_1bad5bb92b_0_0.cell.nml\n",
      "pyNeuroML >>> 2025-02-03 14:59:10,074 - pyneuroml.pynml - INFO - Loading NeuroML2 file: ../NMC_model/NMC.NeuronML2/dNAC222_L4_SBC_1bad5bb92b_0_0.cell.nml\n"
     ]
    },
    {
     "name": "stdout",
     "output_type": "stream",
     "text": [
      "Creating 4 cells of type dNAC222_L4_SBC_dcee829578_0_0.cell.nml\n",
      "Creating 13 cells of type cACint209_L4_SBC_684e05d4eb_0_0.cell.nml\n",
      "Creating 4 cells of type dNAC222_L4_SBC_1bad5bb92b_0_0.cell.nml\n"
     ]
    },
    {
     "name": "stderr",
     "output_type": "stream",
     "text": [
      "pyNeuroML >>> pyneuroml.pynml - INFO - Loading NeuroML2 file: ../NMC_model/NMC.NeuronML2/dNAC222_L4_SBC_9995bf5c97_0_0.cell.nml\n",
      "pyNeuroML >>> 2025-02-03 14:59:10,459 - pyneuroml.pynml - INFO - Loading NeuroML2 file: ../NMC_model/NMC.NeuronML2/dNAC222_L4_SBC_9995bf5c97_0_0.cell.nml\n"
     ]
    },
    {
     "name": "stdout",
     "output_type": "stream",
     "text": [
      "Creating 3 cells of type dNAC222_L4_SBC_9995bf5c97_0_0.cell.nml\n"
     ]
    },
    {
     "name": "stderr",
     "output_type": "stream",
     "text": [
      "pyNeuroML >>> pyneuroml.pynml - INFO - Loading NeuroML2 file: ../NMC_model/NMC.NeuronML2/cACint209_L4_SBC_4148f86d4f_0_0.cell.nml\n",
      "pyNeuroML >>> 2025-02-03 14:59:10,687 - pyneuroml.pynml - INFO - Loading NeuroML2 file: ../NMC_model/NMC.NeuronML2/cACint209_L4_SBC_4148f86d4f_0_0.cell.nml\n",
      "pyNeuroML >>> pyneuroml.pynml - INFO - Loading NeuroML2 file: ../NMC_model/NMC.NeuronML2/dNAC222_L4_SBC_f48f4f7670_0_0.cell.nml\n",
      "pyNeuroML >>> 2025-02-03 14:59:10,824 - pyneuroml.pynml - INFO - Loading NeuroML2 file: ../NMC_model/NMC.NeuronML2/dNAC222_L4_SBC_f48f4f7670_0_0.cell.nml\n",
      "pyNeuroML >>> pyneuroml.pynml - INFO - Loading NeuroML2 file: ../NMC_model/NMC.NeuronML2/bNAC219_L4_SBC_140df1eca7_0_0.cell.nml\n"
     ]
    },
    {
     "name": "stdout",
     "output_type": "stream",
     "text": [
      "Creating 9 cells of type cACint209_L4_SBC_4148f86d4f_0_0.cell.nml\n",
      "Creating 3 cells of type dNAC222_L4_SBC_f48f4f7670_0_0.cell.nml\n",
      "Creating 2 cells of type bNAC219_L4_SBC_140df1eca7_0_0.cell.nml\n"
     ]
    },
    {
     "name": "stderr",
     "output_type": "stream",
     "text": [
      "pyNeuroML >>> 2025-02-03 14:59:10,888 - pyneuroml.pynml - INFO - Loading NeuroML2 file: ../NMC_model/NMC.NeuronML2/bNAC219_L4_SBC_140df1eca7_0_0.cell.nml\n",
      "pyNeuroML >>> pyneuroml.pynml - INFO - Loading NeuroML2 file: ../NMC_model/NMC.NeuronML2/dNAC222_L4_SBC_799e027057_0_0.cell.nml\n",
      "pyNeuroML >>> 2025-02-03 14:59:10,914 - pyneuroml.pynml - INFO - Loading NeuroML2 file: ../NMC_model/NMC.NeuronML2/dNAC222_L4_SBC_799e027057_0_0.cell.nml\n"
     ]
    },
    {
     "name": "stdout",
     "output_type": "stream",
     "text": [
      "Creating 3 cells of type dNAC222_L4_SBC_799e027057_0_0.cell.nml\n"
     ]
    },
    {
     "name": "stderr",
     "output_type": "stream",
     "text": [
      "pyNeuroML >>> pyneuroml.pynml - INFO - Loading NeuroML2 file: ../NMC_model/NMC.NeuronML2/cACint209_L4_SBC_7382b080d8_0_0.cell.nml\n",
      "pyNeuroML >>> 2025-02-03 14:59:11,250 - pyneuroml.pynml - INFO - Loading NeuroML2 file: ../NMC_model/NMC.NeuronML2/cACint209_L4_SBC_7382b080d8_0_0.cell.nml\n",
      "pyNeuroML >>> pyneuroml.pynml - INFO - Loading NeuroML2 file: ../NMC_model/NMC.NeuronML2/bNAC219_L4_SBC_dbf40425f3_0_0.cell.nml\n"
     ]
    },
    {
     "name": "stdout",
     "output_type": "stream",
     "text": [
      "Creating 7 cells of type cACint209_L4_SBC_7382b080d8_0_0.cell.nml\n",
      "Creating 1 cells of type bNAC219_L4_SBC_dbf40425f3_0_0.cell.nml\n"
     ]
    },
    {
     "name": "stderr",
     "output_type": "stream",
     "text": [
      "pyNeuroML >>> 2025-02-03 14:59:11,450 - pyneuroml.pynml - INFO - Loading NeuroML2 file: ../NMC_model/NMC.NeuronML2/bNAC219_L4_SBC_dbf40425f3_0_0.cell.nml\n",
      "pyNeuroML >>> pyneuroml.pynml - INFO - Loading NeuroML2 file: ../NMC_model/NMC.NeuronML2/cACint209_L4_DBC_78b422a17a_0_0.cell.nml\n",
      "pyNeuroML >>> 2025-02-03 14:59:11,513 - pyneuroml.pynml - INFO - Loading NeuroML2 file: ../NMC_model/NMC.NeuronML2/cACint209_L4_DBC_78b422a17a_0_0.cell.nml\n",
      "pyNeuroML >>> pyneuroml.pynml - INFO - Loading NeuroML2 file: ../NMC_model/NMC.NeuronML2/cACint209_L4_DBC_a7aa7154d8_0_0.cell.nml\n",
      "pyNeuroML >>> 2025-02-03 14:59:11,619 - pyneuroml.pynml - INFO - Loading NeuroML2 file: ../NMC_model/NMC.NeuronML2/cACint209_L4_DBC_a7aa7154d8_0_0.cell.nml\n"
     ]
    },
    {
     "name": "stdout",
     "output_type": "stream",
     "text": [
      "Creating 5 cells of type cACint209_L4_DBC_78b422a17a_0_0.cell.nml\n",
      "Creating 3 cells of type cACint209_L4_DBC_a7aa7154d8_0_0.cell.nml\n"
     ]
    },
    {
     "name": "stderr",
     "output_type": "stream",
     "text": [
      "pyNeuroML >>> pyneuroml.pynml - INFO - Loading NeuroML2 file: ../NMC_model/NMC.NeuronML2/cNAC187_L4_DBC_c6dae7aa61_0_0.cell.nml\n",
      "pyNeuroML >>> 2025-02-03 14:59:11,741 - pyneuroml.pynml - INFO - Loading NeuroML2 file: ../NMC_model/NMC.NeuronML2/cNAC187_L4_DBC_c6dae7aa61_0_0.cell.nml\n",
      "pyNeuroML >>> pyneuroml.pynml - INFO - Loading NeuroML2 file: ../NMC_model/NMC.NeuronML2/cNAC187_L4_DBC_cf9508af7b_0_0.cell.nml\n"
     ]
    },
    {
     "name": "stdout",
     "output_type": "stream",
     "text": [
      "Creating 2 cells of type cNAC187_L4_DBC_c6dae7aa61_0_0.cell.nml\n",
      "Creating 3 cells of type cNAC187_L4_DBC_cf9508af7b_0_0.cell.nml\n"
     ]
    },
    {
     "name": "stderr",
     "output_type": "stream",
     "text": [
      "pyNeuroML >>> 2025-02-03 14:59:11,951 - pyneuroml.pynml - INFO - Loading NeuroML2 file: ../NMC_model/NMC.NeuronML2/cNAC187_L4_DBC_cf9508af7b_0_0.cell.nml\n",
      "pyNeuroML >>> pyneuroml.pynml - INFO - Loading NeuroML2 file: ../NMC_model/NMC.NeuronML2/cACint209_L4_DBC_280e20a247_0_0.cell.nml\n",
      "pyNeuroML >>> 2025-02-03 14:59:12,249 - pyneuroml.pynml - INFO - Loading NeuroML2 file: ../NMC_model/NMC.NeuronML2/cACint209_L4_DBC_280e20a247_0_0.cell.nml\n",
      "pyNeuroML >>> pyneuroml.pynml - INFO - Loading NeuroML2 file: ../NMC_model/NMC.NeuronML2/cNAC187_L4_DBC_23ffe29c8b_0_0.cell.nml\n",
      "pyNeuroML >>> 2025-02-03 14:59:12,358 - pyneuroml.pynml - INFO - Loading NeuroML2 file: ../NMC_model/NMC.NeuronML2/cNAC187_L4_DBC_23ffe29c8b_0_0.cell.nml\n"
     ]
    },
    {
     "name": "stdout",
     "output_type": "stream",
     "text": [
      "Creating 4 cells of type cACint209_L4_DBC_280e20a247_0_0.cell.nml\n",
      "Creating 7 cells of type cNAC187_L4_DBC_23ffe29c8b_0_0.cell.nml\n"
     ]
    },
    {
     "name": "stderr",
     "output_type": "stream",
     "text": [
      "pyNeuroML >>> pyneuroml.pynml - INFO - Loading NeuroML2 file: ../NMC_model/NMC.NeuronML2/cNAC187_L4_DBC_efeb05a196_0_0.cell.nml\n",
      "pyNeuroML >>> 2025-02-03 14:59:12,489 - pyneuroml.pynml - INFO - Loading NeuroML2 file: ../NMC_model/NMC.NeuronML2/cNAC187_L4_DBC_efeb05a196_0_0.cell.nml\n"
     ]
    },
    {
     "name": "stdout",
     "output_type": "stream",
     "text": [
      "Creating 2 cells of type cNAC187_L4_DBC_efeb05a196_0_0.cell.nml\n"
     ]
    },
    {
     "name": "stderr",
     "output_type": "stream",
     "text": [
      "pyNeuroML >>> pyneuroml.pynml - INFO - Loading NeuroML2 file: ../NMC_model/NMC.NeuronML2/bNAC219_L4_DBC_519f8feedc_0_0.cell.nml\n",
      "pyNeuroML >>> 2025-02-03 14:59:12,907 - pyneuroml.pynml - INFO - Loading NeuroML2 file: ../NMC_model/NMC.NeuronML2/bNAC219_L4_DBC_519f8feedc_0_0.cell.nml\n"
     ]
    },
    {
     "name": "stdout",
     "output_type": "stream",
     "text": [
      "Creating 3 cells of type bNAC219_L4_DBC_519f8feedc_0_0.cell.nml\n"
     ]
    },
    {
     "name": "stderr",
     "output_type": "stream",
     "text": [
      "pyNeuroML >>> pyneuroml.pynml - INFO - Loading NeuroML2 file: ../NMC_model/NMC.NeuronML2/bIR215_L4_DBC_01d21bd888_0_0.cell.nml\n",
      "pyNeuroML >>> 2025-02-03 14:59:13,224 - pyneuroml.pynml - INFO - Loading NeuroML2 file: ../NMC_model/NMC.NeuronML2/bIR215_L4_DBC_01d21bd888_0_0.cell.nml\n"
     ]
    },
    {
     "name": "stdout",
     "output_type": "stream",
     "text": [
      "Creating 1 cells of type bIR215_L4_DBC_01d21bd888_0_0.cell.nml\n"
     ]
    },
    {
     "name": "stderr",
     "output_type": "stream",
     "text": [
      "pyNeuroML >>> pyneuroml.pynml - INFO - Loading NeuroML2 file: ../NMC_model/NMC.NeuronML2/cNAC187_L4_DBC_d99bd73381_0_0.cell.nml\n",
      "pyNeuroML >>> 2025-02-03 14:59:13,611 - pyneuroml.pynml - INFO - Loading NeuroML2 file: ../NMC_model/NMC.NeuronML2/cNAC187_L4_DBC_d99bd73381_0_0.cell.nml\n"
     ]
    },
    {
     "name": "stdout",
     "output_type": "stream",
     "text": [
      "Creating 2 cells of type cNAC187_L4_DBC_d99bd73381_0_0.cell.nml\n"
     ]
    },
    {
     "name": "stderr",
     "output_type": "stream",
     "text": [
      "pyNeuroML >>> pyneuroml.pynml - INFO - Loading NeuroML2 file: ../NMC_model/NMC.NeuronML2/cACint209_L4_DBC_cd818dfadf_0_0.cell.nml\n",
      "pyNeuroML >>> 2025-02-03 14:59:13,868 - pyneuroml.pynml - INFO - Loading NeuroML2 file: ../NMC_model/NMC.NeuronML2/cACint209_L4_DBC_cd818dfadf_0_0.cell.nml\n"
     ]
    },
    {
     "name": "stdout",
     "output_type": "stream",
     "text": [
      "Creating 2 cells of type cACint209_L4_DBC_cd818dfadf_0_0.cell.nml\n"
     ]
    },
    {
     "name": "stderr",
     "output_type": "stream",
     "text": [
      "pyNeuroML >>> pyneuroml.pynml - INFO - Loading NeuroML2 file: ../NMC_model/NMC.NeuronML2/bNAC219_L4_DBC_0d7219bf46_0_0.cell.nml\n",
      "pyNeuroML >>> 2025-02-03 14:59:14,122 - pyneuroml.pynml - INFO - Loading NeuroML2 file: ../NMC_model/NMC.NeuronML2/bNAC219_L4_DBC_0d7219bf46_0_0.cell.nml\n"
     ]
    },
    {
     "name": "stdout",
     "output_type": "stream",
     "text": [
      "Creating 2 cells of type bNAC219_L4_DBC_0d7219bf46_0_0.cell.nml\n"
     ]
    },
    {
     "name": "stderr",
     "output_type": "stream",
     "text": [
      "pyNeuroML >>> pyneuroml.pynml - INFO - Loading NeuroML2 file: ../NMC_model/NMC.NeuronML2/cACint209_L4_DBC_e8a6fe8924_0_0.cell.nml\n",
      "pyNeuroML >>> 2025-02-03 14:59:14,525 - pyneuroml.pynml - INFO - Loading NeuroML2 file: ../NMC_model/NMC.NeuronML2/cACint209_L4_DBC_e8a6fe8924_0_0.cell.nml\n"
     ]
    },
    {
     "name": "stdout",
     "output_type": "stream",
     "text": [
      "Creating 2 cells of type cACint209_L4_DBC_e8a6fe8924_0_0.cell.nml\n"
     ]
    },
    {
     "name": "stderr",
     "output_type": "stream",
     "text": [
      "pyNeuroML >>> pyneuroml.pynml - INFO - Loading NeuroML2 file: ../NMC_model/NMC.NeuronML2/bSTUT213_L4_DBC_c5d29c2b17_0_0.cell.nml\n",
      "pyNeuroML >>> 2025-02-03 14:59:14,836 - pyneuroml.pynml - INFO - Loading NeuroML2 file: ../NMC_model/NMC.NeuronML2/bSTUT213_L4_DBC_c5d29c2b17_0_0.cell.nml\n"
     ]
    },
    {
     "name": "stdout",
     "output_type": "stream",
     "text": [
      "Creating 1 cells of type bSTUT213_L4_DBC_c5d29c2b17_0_0.cell.nml\n"
     ]
    },
    {
     "name": "stderr",
     "output_type": "stream",
     "text": [
      "pyNeuroML >>> pyneuroml.pynml - INFO - Loading NeuroML2 file: ../NMC_model/NMC.NeuronML2/bNAC219_L4_DBC_beb47bee0e_0_0.cell.nml\n",
      "pyNeuroML >>> 2025-02-03 14:59:15,141 - pyneuroml.pynml - INFO - Loading NeuroML2 file: ../NMC_model/NMC.NeuronML2/bNAC219_L4_DBC_beb47bee0e_0_0.cell.nml\n",
      "pyNeuroML >>> pyneuroml.pynml - INFO - Loading NeuroML2 file: ../NMC_model/NMC.NeuronML2/cADpyr230_L4_SP_6fe41ae9cd_0_0.cell.nml\n",
      "pyNeuroML >>> 2025-02-03 14:59:15,275 - pyneuroml.pynml - INFO - Loading NeuroML2 file: ../NMC_model/NMC.NeuronML2/cADpyr230_L4_SP_6fe41ae9cd_0_0.cell.nml\n"
     ]
    },
    {
     "name": "stdout",
     "output_type": "stream",
     "text": [
      "Creating 1 cells of type bNAC219_L4_DBC_beb47bee0e_0_0.cell.nml\n",
      "Creating 226 cells of type cADpyr230_L4_SP_6fe41ae9cd_0_0.cell.nml\n"
     ]
    },
    {
     "name": "stderr",
     "output_type": "stream",
     "text": [
      "pyNeuroML >>> pyneuroml.pynml - INFO - Loading NeuroML2 file: ../NMC_model/NMC.NeuronML2/cADpyr230_L4_SP_1c98df1fde_0_0.cell.nml\n",
      "pyNeuroML >>> 2025-02-03 14:59:15,678 - pyneuroml.pynml - INFO - Loading NeuroML2 file: ../NMC_model/NMC.NeuronML2/cADpyr230_L4_SP_1c98df1fde_0_0.cell.nml\n"
     ]
    },
    {
     "name": "stdout",
     "output_type": "stream",
     "text": [
      "Creating 226 cells of type cADpyr230_L4_SP_1c98df1fde_0_0.cell.nml\n"
     ]
    },
    {
     "name": "stderr",
     "output_type": "stream",
     "text": [
      "pyNeuroML >>> pyneuroml.pynml - INFO - Loading NeuroML2 file: ../NMC_model/NMC.NeuronML2/cADpyr230_L4_SP_0dc3a9acaf_0_0.cell.nml\n",
      "pyNeuroML >>> 2025-02-03 14:59:15,941 - pyneuroml.pynml - INFO - Loading NeuroML2 file: ../NMC_model/NMC.NeuronML2/cADpyr230_L4_SP_0dc3a9acaf_0_0.cell.nml\n"
     ]
    },
    {
     "name": "stdout",
     "output_type": "stream",
     "text": [
      "Creating 229 cells of type cADpyr230_L4_SP_0dc3a9acaf_0_0.cell.nml\n"
     ]
    },
    {
     "name": "stderr",
     "output_type": "stream",
     "text": [
      "pyNeuroML >>> pyneuroml.pynml - INFO - Loading NeuroML2 file: ../NMC_model/NMC.NeuronML2/cADpyr230_L4_SP_274e5a90fb_0_0.cell.nml\n",
      "pyNeuroML >>> 2025-02-03 14:59:16,212 - pyneuroml.pynml - INFO - Loading NeuroML2 file: ../NMC_model/NMC.NeuronML2/cADpyr230_L4_SP_274e5a90fb_0_0.cell.nml\n"
     ]
    },
    {
     "name": "stdout",
     "output_type": "stream",
     "text": [
      "Creating 214 cells of type cADpyr230_L4_SP_274e5a90fb_0_0.cell.nml\n"
     ]
    },
    {
     "name": "stderr",
     "output_type": "stream",
     "text": [
      "pyNeuroML >>> pyneuroml.pynml - INFO - Loading NeuroML2 file: ../NMC_model/NMC.NeuronML2/cADpyr230_L4_SP_c3f779f565_0_0.cell.nml\n",
      "pyNeuroML >>> 2025-02-03 14:59:16,469 - pyneuroml.pynml - INFO - Loading NeuroML2 file: ../NMC_model/NMC.NeuronML2/cADpyr230_L4_SP_c3f779f565_0_0.cell.nml\n"
     ]
    },
    {
     "name": "stdout",
     "output_type": "stream",
     "text": [
      "Creating 203 cells of type cADpyr230_L4_SP_c3f779f565_0_0.cell.nml\n"
     ]
    },
    {
     "name": "stderr",
     "output_type": "stream",
     "text": [
      "pyNeuroML >>> pyneuroml.pynml - INFO - Loading NeuroML2 file: ../NMC_model/NMC.NeuronML2/cADpyr230_L4_PC_2d5807a37b_0_0.cell.nml\n",
      "pyNeuroML >>> 2025-02-03 14:59:16,728 - pyneuroml.pynml - INFO - Loading NeuroML2 file: ../NMC_model/NMC.NeuronML2/cADpyr230_L4_PC_2d5807a37b_0_0.cell.nml\n"
     ]
    },
    {
     "name": "stdout",
     "output_type": "stream",
     "text": [
      "Creating 523 cells of type cADpyr230_L4_PC_2d5807a37b_0_0.cell.nml\n"
     ]
    },
    {
     "name": "stderr",
     "output_type": "stream",
     "text": [
      "pyNeuroML >>> pyneuroml.pynml - INFO - Loading NeuroML2 file: ../NMC_model/NMC.NeuronML2/cADpyr230_L4_PC_0dbf678e7f_0_0.cell.nml\n",
      "pyNeuroML >>> 2025-02-03 14:59:17,700 - pyneuroml.pynml - INFO - Loading NeuroML2 file: ../NMC_model/NMC.NeuronML2/cADpyr230_L4_PC_0dbf678e7f_0_0.cell.nml\n"
     ]
    },
    {
     "name": "stdout",
     "output_type": "stream",
     "text": [
      "Creating 540 cells of type cADpyr230_L4_PC_0dbf678e7f_0_0.cell.nml\n"
     ]
    },
    {
     "name": "stderr",
     "output_type": "stream",
     "text": [
      "pyNeuroML >>> pyneuroml.pynml - INFO - Loading NeuroML2 file: ../NMC_model/NMC.NeuronML2/cADpyr230_L4_PC_f15e35e578_0_0.cell.nml\n",
      "pyNeuroML >>> 2025-02-03 14:59:18,576 - pyneuroml.pynml - INFO - Loading NeuroML2 file: ../NMC_model/NMC.NeuronML2/cADpyr230_L4_PC_f15e35e578_0_0.cell.nml\n"
     ]
    },
    {
     "name": "stdout",
     "output_type": "stream",
     "text": [
      "Creating 525 cells of type cADpyr230_L4_PC_f15e35e578_0_0.cell.nml\n"
     ]
    },
    {
     "name": "stderr",
     "output_type": "stream",
     "text": [
      "pyNeuroML >>> pyneuroml.pynml - INFO - Loading NeuroML2 file: ../NMC_model/NMC.NeuronML2/cADpyr230_L4_PC_d3b8beb606_0_0.cell.nml\n",
      "pyNeuroML >>> 2025-02-03 14:59:19,476 - pyneuroml.pynml - INFO - Loading NeuroML2 file: ../NMC_model/NMC.NeuronML2/cADpyr230_L4_PC_d3b8beb606_0_0.cell.nml\n"
     ]
    },
    {
     "name": "stdout",
     "output_type": "stream",
     "text": [
      "Creating 537 cells of type cADpyr230_L4_PC_d3b8beb606_0_0.cell.nml\n"
     ]
    },
    {
     "name": "stderr",
     "output_type": "stream",
     "text": [
      "pyNeuroML >>> pyneuroml.pynml - INFO - Loading NeuroML2 file: ../NMC_model/NMC.NeuronML2/cADpyr230_L4_PC_75e11d6cee_0_0.cell.nml\n",
      "pyNeuroML >>> 2025-02-03 14:59:20,359 - pyneuroml.pynml - INFO - Loading NeuroML2 file: ../NMC_model/NMC.NeuronML2/cADpyr230_L4_PC_75e11d6cee_0_0.cell.nml\n"
     ]
    },
    {
     "name": "stdout",
     "output_type": "stream",
     "text": [
      "Creating 549 cells of type cADpyr230_L4_PC_75e11d6cee_0_0.cell.nml\n"
     ]
    },
    {
     "name": "stderr",
     "output_type": "stream",
     "text": [
      "pyNeuroML >>> pyneuroml.pynml - INFO - Loading NeuroML2 file: ../NMC_model/NMC.NeuronML2/cACint209_L4_BTC_87c80e7368_0_0.cell.nml\n",
      "pyNeuroML >>> 2025-02-03 14:59:21,380 - pyneuroml.pynml - INFO - Loading NeuroML2 file: ../NMC_model/NMC.NeuronML2/cACint209_L4_BTC_87c80e7368_0_0.cell.nml\n"
     ]
    },
    {
     "name": "stdout",
     "output_type": "stream",
     "text": [
      "Creating 1 cells of type cACint209_L4_BTC_87c80e7368_0_0.cell.nml\n"
     ]
    },
    {
     "name": "stderr",
     "output_type": "stream",
     "text": [
      "pyNeuroML >>> pyneuroml.pynml - INFO - Loading NeuroML2 file: ../NMC_model/NMC.NeuronML2/dNAC222_L4_BTC_627d6addbc_0_0.cell.nml\n",
      "pyNeuroML >>> 2025-02-03 14:59:21,893 - pyneuroml.pynml - INFO - Loading NeuroML2 file: ../NMC_model/NMC.NeuronML2/dNAC222_L4_BTC_627d6addbc_0_0.cell.nml\n",
      "pyNeuroML >>> pyneuroml.pynml - INFO - Loading NeuroML2 file: ../NMC_model/NMC.NeuronML2/bIR215_L4_BTC_4e26f3a393_0_0.cell.nml\n",
      "pyNeuroML >>> 2025-02-03 14:59:21,986 - pyneuroml.pynml - INFO - Loading NeuroML2 file: ../NMC_model/NMC.NeuronML2/bIR215_L4_BTC_4e26f3a393_0_0.cell.nml\n",
      "pyNeuroML >>> pyneuroml.pynml - INFO - Loading NeuroML2 file: ../NMC_model/NMC.NeuronML2/cNAC187_L4_BTC_dbb05c9cf3_0_0.cell.nml\n"
     ]
    },
    {
     "name": "stdout",
     "output_type": "stream",
     "text": [
      "Creating 2 cells of type dNAC222_L4_BTC_627d6addbc_0_0.cell.nml\n",
      "Creating 1 cells of type bIR215_L4_BTC_4e26f3a393_0_0.cell.nml\n",
      "Creating 3 cells of type cNAC187_L4_BTC_dbb05c9cf3_0_0.cell.nml\n"
     ]
    },
    {
     "name": "stderr",
     "output_type": "stream",
     "text": [
      "pyNeuroML >>> 2025-02-03 14:59:22,074 - pyneuroml.pynml - INFO - Loading NeuroML2 file: ../NMC_model/NMC.NeuronML2/cNAC187_L4_BTC_dbb05c9cf3_0_0.cell.nml\n",
      "pyNeuroML >>> pyneuroml.pynml - INFO - Loading NeuroML2 file: ../NMC_model/NMC.NeuronML2/cNAC187_L4_BTC_32b27576a9_0_0.cell.nml\n",
      "pyNeuroML >>> 2025-02-03 14:59:22,849 - pyneuroml.pynml - INFO - Loading NeuroML2 file: ../NMC_model/NMC.NeuronML2/cNAC187_L4_BTC_32b27576a9_0_0.cell.nml\n",
      "pyNeuroML >>> pyneuroml.pynml - INFO - Loading NeuroML2 file: ../NMC_model/NMC.NeuronML2/cACint209_L4_BTC_20d24e55d5_0_0.cell.nml\n",
      "pyNeuroML >>> 2025-02-03 14:59:22,938 - pyneuroml.pynml - INFO - Loading NeuroML2 file: ../NMC_model/NMC.NeuronML2/cACint209_L4_BTC_20d24e55d5_0_0.cell.nml\n"
     ]
    },
    {
     "name": "stdout",
     "output_type": "stream",
     "text": [
      "Creating 3 cells of type cNAC187_L4_BTC_32b27576a9_0_0.cell.nml\n",
      "Creating 2 cells of type cACint209_L4_BTC_20d24e55d5_0_0.cell.nml\n"
     ]
    },
    {
     "name": "stderr",
     "output_type": "stream",
     "text": [
      "pyNeuroML >>> pyneuroml.pynml - INFO - Loading NeuroML2 file: ../NMC_model/NMC.NeuronML2/dNAC222_L4_BTC_5612242ada_0_0.cell.nml\n",
      "pyNeuroML >>> 2025-02-03 14:59:23,078 - pyneuroml.pynml - INFO - Loading NeuroML2 file: ../NMC_model/NMC.NeuronML2/dNAC222_L4_BTC_5612242ada_0_0.cell.nml\n"
     ]
    },
    {
     "name": "stdout",
     "output_type": "stream",
     "text": [
      "Creating 2 cells of type dNAC222_L4_BTC_5612242ada_0_0.cell.nml\n"
     ]
    },
    {
     "name": "stderr",
     "output_type": "stream",
     "text": [
      "pyNeuroML >>> pyneuroml.pynml - INFO - Loading NeuroML2 file: ../NMC_model/NMC.NeuronML2/bSTUT213_L4_BTC_32b27576a9_0_0.cell.nml\n",
      "pyNeuroML >>> 2025-02-03 14:59:23,320 - pyneuroml.pynml - INFO - Loading NeuroML2 file: ../NMC_model/NMC.NeuronML2/bSTUT213_L4_BTC_32b27576a9_0_0.cell.nml\n",
      "pyNeuroML >>> pyneuroml.pynml - INFO - Loading NeuroML2 file: ../NMC_model/NMC.NeuronML2/dNAC222_L4_BTC_7345a3c5cd_0_0.cell.nml\n",
      "pyNeuroML >>> 2025-02-03 14:59:23,414 - pyneuroml.pynml - INFO - Loading NeuroML2 file: ../NMC_model/NMC.NeuronML2/dNAC222_L4_BTC_7345a3c5cd_0_0.cell.nml\n",
      "pyNeuroML >>> pyneuroml.pynml - INFO - Loading NeuroML2 file: ../NMC_model/NMC.NeuronML2/bIR215_L4_BTC_d656c19ac5_0_0.cell.nml\n",
      "pyNeuroML >>> 2025-02-03 14:59:23,501 - pyneuroml.pynml - INFO - Loading NeuroML2 file: ../NMC_model/NMC.NeuronML2/bIR215_L4_BTC_d656c19ac5_0_0.cell.nml\n"
     ]
    },
    {
     "name": "stdout",
     "output_type": "stream",
     "text": [
      "Creating 1 cells of type bSTUT213_L4_BTC_32b27576a9_0_0.cell.nml\n",
      "Creating 2 cells of type dNAC222_L4_BTC_7345a3c5cd_0_0.cell.nml\n",
      "Creating 1 cells of type bIR215_L4_BTC_d656c19ac5_0_0.cell.nml\n"
     ]
    },
    {
     "name": "stderr",
     "output_type": "stream",
     "text": [
      "pyNeuroML >>> pyneuroml.pynml - INFO - Loading NeuroML2 file: ../NMC_model/NMC.NeuronML2/bIR215_L4_BTC_7ea9933f77_0_0.cell.nml\n",
      "pyNeuroML >>> 2025-02-03 14:59:23,594 - pyneuroml.pynml - INFO - Loading NeuroML2 file: ../NMC_model/NMC.NeuronML2/bIR215_L4_BTC_7ea9933f77_0_0.cell.nml\n"
     ]
    },
    {
     "name": "stdout",
     "output_type": "stream",
     "text": [
      "Creating 1 cells of type bIR215_L4_BTC_7ea9933f77_0_0.cell.nml\n"
     ]
    },
    {
     "name": "stderr",
     "output_type": "stream",
     "text": [
      "pyNeuroML >>> pyneuroml.pynml - INFO - Loading NeuroML2 file: ../NMC_model/NMC.NeuronML2/cNAC187_L4_BTC_5612242ada_0_0.cell.nml\n",
      "pyNeuroML >>> 2025-02-03 14:59:24,303 - pyneuroml.pynml - INFO - Loading NeuroML2 file: ../NMC_model/NMC.NeuronML2/cNAC187_L4_BTC_5612242ada_0_0.cell.nml\n",
      "pyNeuroML >>> pyneuroml.pynml - INFO - Loading NeuroML2 file: ../NMC_model/NMC.NeuronML2/bAC217_L4_BP_d04c4872bd_0_0.cell.nml\n",
      "pyNeuroML >>> 2025-02-03 14:59:24,404 - pyneuroml.pynml - INFO - Loading NeuroML2 file: ../NMC_model/NMC.NeuronML2/bAC217_L4_BP_d04c4872bd_0_0.cell.nml\n",
      "pyNeuroML >>> pyneuroml.pynml - INFO - Loading NeuroML2 file: ../NMC_model/NMC.NeuronML2/cACint209_L4_BP_5e74f0aae9_0_0.cell.nml\n",
      "pyNeuroML >>> 2025-02-03 14:59:24,445 - pyneuroml.pynml - INFO - Loading NeuroML2 file: ../NMC_model/NMC.NeuronML2/cACint209_L4_BP_5e74f0aae9_0_0.cell.nml\n",
      "pyNeuroML >>> pyneuroml.pynml - INFO - Loading NeuroML2 file: ../NMC_model/NMC.NeuronML2/bNAC219_L4_BP_ff2b6d7b3d_0_0.cell.nml\n"
     ]
    },
    {
     "name": "stdout",
     "output_type": "stream",
     "text": [
      "Creating 1 cells of type cNAC187_L4_BTC_5612242ada_0_0.cell.nml\n",
      "Creating 1 cells of type bAC217_L4_BP_d04c4872bd_0_0.cell.nml\n",
      "Creating 1 cells of type cACint209_L4_BP_5e74f0aae9_0_0.cell.nml\n",
      "Creating 1 cells of type bNAC219_L4_BP_ff2b6d7b3d_0_0.cell.nml\n"
     ]
    },
    {
     "name": "stderr",
     "output_type": "stream",
     "text": [
      "pyNeuroML >>> 2025-02-03 14:59:24,490 - pyneuroml.pynml - INFO - Loading NeuroML2 file: ../NMC_model/NMC.NeuronML2/bNAC219_L4_BP_ff2b6d7b3d_0_0.cell.nml\n",
      "pyNeuroML >>> pyneuroml.pynml - INFO - Loading NeuroML2 file: ../NMC_model/NMC.NeuronML2/cACint209_L4_BP_ff2b6d7b3d_0_0.cell.nml\n",
      "pyNeuroML >>> 2025-02-03 14:59:24,534 - pyneuroml.pynml - INFO - Loading NeuroML2 file: ../NMC_model/NMC.NeuronML2/cACint209_L4_BP_ff2b6d7b3d_0_0.cell.nml\n",
      "pyNeuroML >>> pyneuroml.pynml - INFO - Loading NeuroML2 file: ../NMC_model/NMC.NeuronML2/cNAC187_L4_BP_e936f4d8ba_0_0.cell.nml\n",
      "pyNeuroML >>> 2025-02-03 14:59:24,574 - pyneuroml.pynml - INFO - Loading NeuroML2 file: ../NMC_model/NMC.NeuronML2/cNAC187_L4_BP_e936f4d8ba_0_0.cell.nml\n",
      "pyNeuroML >>> pyneuroml.pynml - INFO - Loading NeuroML2 file: ../NMC_model/NMC.NeuronML2/cACint209_L4_BP_a436dc77d5_0_0.cell.nml\n",
      "pyNeuroML >>> 2025-02-03 14:59:24,617 - pyneuroml.pynml - INFO - Loading NeuroML2 file: ../NMC_model/NMC.NeuronML2/cACint209_L4_BP_a436dc77d5_0_0.cell.nml\n",
      "pyNeuroML >>> pyneuroml.pynml - INFO - Loading NeuroML2 file: ../NMC_model/NMC.NeuronML2/cNAC187_L4_BP_ad80b53045_0_0.cell.nml\n",
      "pyNeuroML >>> 2025-02-03 14:59:24,654 - pyneuroml.pynml - INFO - Loading NeuroML2 file: ../NMC_model/NMC.NeuronML2/cNAC187_L4_BP_ad80b53045_0_0.cell.nml\n",
      "pyNeuroML >>> pyneuroml.pynml - INFO - Loading NeuroML2 file: ../NMC_model/NMC.NeuronML2/cACint209_L4_NGC_9f0f008375_0_0.cell.nml\n",
      "pyNeuroML >>> 2025-02-03 14:59:24,688 - pyneuroml.pynml - INFO - Loading NeuroML2 file: ../NMC_model/NMC.NeuronML2/cACint209_L4_NGC_9f0f008375_0_0.cell.nml\n"
     ]
    },
    {
     "name": "stdout",
     "output_type": "stream",
     "text": [
      "Creating 2 cells of type cACint209_L4_BP_ff2b6d7b3d_0_0.cell.nml\n",
      "Creating 1 cells of type cNAC187_L4_BP_e936f4d8ba_0_0.cell.nml\n",
      "Creating 1 cells of type cACint209_L4_BP_a436dc77d5_0_0.cell.nml\n",
      "Creating 1 cells of type cNAC187_L4_BP_ad80b53045_0_0.cell.nml\n",
      "Creating 2 cells of type cACint209_L4_NGC_9f0f008375_0_0.cell.nml\n"
     ]
    },
    {
     "name": "stderr",
     "output_type": "stream",
     "text": [
      "pyNeuroML >>> pyneuroml.pynml - INFO - Loading NeuroML2 file: ../NMC_model/NMC.NeuronML2/cACint209_L4_NGC_ceb889b1bc_0_0.cell.nml\n",
      "pyNeuroML >>> 2025-02-03 14:59:24,878 - pyneuroml.pynml - INFO - Loading NeuroML2 file: ../NMC_model/NMC.NeuronML2/cACint209_L4_NGC_ceb889b1bc_0_0.cell.nml\n",
      "pyNeuroML >>> pyneuroml.pynml - INFO - Loading NeuroML2 file: ../NMC_model/NMC.NeuronML2/bNAC219_L4_NGC_c0136fa0a8_0_0.cell.nml\n",
      "pyNeuroML >>> 2025-02-03 14:59:25,033 - pyneuroml.pynml - INFO - Loading NeuroML2 file: ../NMC_model/NMC.NeuronML2/bNAC219_L4_NGC_c0136fa0a8_0_0.cell.nml\n"
     ]
    },
    {
     "name": "stdout",
     "output_type": "stream",
     "text": [
      "Creating 2 cells of type cACint209_L4_NGC_ceb889b1bc_0_0.cell.nml\n",
      "Creating 2 cells of type bNAC219_L4_NGC_c0136fa0a8_0_0.cell.nml\n"
     ]
    },
    {
     "name": "stderr",
     "output_type": "stream",
     "text": [
      "pyNeuroML >>> pyneuroml.pynml - INFO - Loading NeuroML2 file: ../NMC_model/NMC.NeuronML2/cNAC187_L1_DAC_2e9c9967f8_0_0.cell.nml\n",
      "pyNeuroML >>> 2025-02-03 14:59:25,194 - pyneuroml.pynml - INFO - Loading NeuroML2 file: ../NMC_model/NMC.NeuronML2/cNAC187_L1_DAC_2e9c9967f8_0_0.cell.nml\n"
     ]
    },
    {
     "name": "stdout",
     "output_type": "stream",
     "text": [
      "Creating 9 cells of type cNAC187_L1_DAC_2e9c9967f8_0_0.cell.nml\n"
     ]
    },
    {
     "name": "stderr",
     "output_type": "stream",
     "text": [
      "pyNeuroML >>> pyneuroml.pynml - INFO - Loading NeuroML2 file: ../NMC_model/NMC.NeuronML2/bNAC219_L1_DAC_a9ae5cbbf5_0_0.cell.nml\n",
      "pyNeuroML >>> 2025-02-03 14:59:25,473 - pyneuroml.pynml - INFO - Loading NeuroML2 file: ../NMC_model/NMC.NeuronML2/bNAC219_L1_DAC_a9ae5cbbf5_0_0.cell.nml\n",
      "pyNeuroML >>> pyneuroml.pynml - INFO - Loading NeuroML2 file: ../NMC_model/NMC.NeuronML2/cNAC187_L1_DAC_a4cb1c245c_0_0.cell.nml\n",
      "pyNeuroML >>> 2025-02-03 14:59:25,598 - pyneuroml.pynml - INFO - Loading NeuroML2 file: ../NMC_model/NMC.NeuronML2/cNAC187_L1_DAC_a4cb1c245c_0_0.cell.nml\n"
     ]
    },
    {
     "name": "stdout",
     "output_type": "stream",
     "text": [
      "Creating 2 cells of type bNAC219_L1_DAC_a9ae5cbbf5_0_0.cell.nml\n",
      "Creating 9 cells of type cNAC187_L1_DAC_a4cb1c245c_0_0.cell.nml\n"
     ]
    },
    {
     "name": "stderr",
     "output_type": "stream",
     "text": [
      "pyNeuroML >>> pyneuroml.pynml - INFO - Loading NeuroML2 file: ../NMC_model/NMC.NeuronML2/cNAC187_L1_DAC_8c45268d6a_0_0.cell.nml\n",
      "pyNeuroML >>> 2025-02-03 14:59:25,712 - pyneuroml.pynml - INFO - Loading NeuroML2 file: ../NMC_model/NMC.NeuronML2/cNAC187_L1_DAC_8c45268d6a_0_0.cell.nml\n"
     ]
    },
    {
     "name": "stdout",
     "output_type": "stream",
     "text": [
      "Creating 12 cells of type cNAC187_L1_DAC_8c45268d6a_0_0.cell.nml\n"
     ]
    },
    {
     "name": "stderr",
     "output_type": "stream",
     "text": [
      "pyNeuroML >>> pyneuroml.pynml - INFO - Loading NeuroML2 file: ../NMC_model/NMC.NeuronML2/bNAC219_L1_DAC_81e928d216_0_0.cell.nml\n",
      "pyNeuroML >>> 2025-02-03 14:59:25,990 - pyneuroml.pynml - INFO - Loading NeuroML2 file: ../NMC_model/NMC.NeuronML2/bNAC219_L1_DAC_81e928d216_0_0.cell.nml\n",
      "pyNeuroML >>> pyneuroml.pynml - INFO - Loading NeuroML2 file: ../NMC_model/NMC.NeuronML2/cNAC187_L1_DAC_81e928d216_0_0.cell.nml\n",
      "pyNeuroML >>> 2025-02-03 14:59:26,151 - pyneuroml.pynml - INFO - Loading NeuroML2 file: ../NMC_model/NMC.NeuronML2/cNAC187_L1_DAC_81e928d216_0_0.cell.nml\n"
     ]
    },
    {
     "name": "stdout",
     "output_type": "stream",
     "text": [
      "Creating 2 cells of type bNAC219_L1_DAC_81e928d216_0_0.cell.nml\n",
      "Creating 11 cells of type cNAC187_L1_DAC_81e928d216_0_0.cell.nml\n"
     ]
    },
    {
     "name": "stderr",
     "output_type": "stream",
     "text": [
      "pyNeuroML >>> pyneuroml.pynml - INFO - Loading NeuroML2 file: ../NMC_model/NMC.NeuronML2/cNAC187_L1_DAC_1e259ec3b0_0_0.cell.nml\n",
      "pyNeuroML >>> 2025-02-03 14:59:26,312 - pyneuroml.pynml - INFO - Loading NeuroML2 file: ../NMC_model/NMC.NeuronML2/cNAC187_L1_DAC_1e259ec3b0_0_0.cell.nml\n"
     ]
    },
    {
     "name": "stdout",
     "output_type": "stream",
     "text": [
      "Creating 6 cells of type cNAC187_L1_DAC_1e259ec3b0_0_0.cell.nml\n"
     ]
    },
    {
     "name": "stderr",
     "output_type": "stream",
     "text": [
      "pyNeuroML >>> pyneuroml.pynml - INFO - Loading NeuroML2 file: ../NMC_model/NMC.NeuronML2/bNAC219_L1_DAC_56906d7a99_0_0.cell.nml\n",
      "pyNeuroML >>> 2025-02-03 14:59:26,573 - pyneuroml.pynml - INFO - Loading NeuroML2 file: ../NMC_model/NMC.NeuronML2/bNAC219_L1_DAC_56906d7a99_0_0.cell.nml\n",
      "pyNeuroML >>> pyneuroml.pynml - INFO - Loading NeuroML2 file: ../NMC_model/NMC.NeuronML2/bNAC219_L1_DAC_ec2fc5f0de_0_0.cell.nml\n",
      "pyNeuroML >>> 2025-02-03 14:59:26,719 - pyneuroml.pynml - INFO - Loading NeuroML2 file: ../NMC_model/NMC.NeuronML2/bNAC219_L1_DAC_ec2fc5f0de_0_0.cell.nml\n"
     ]
    },
    {
     "name": "stdout",
     "output_type": "stream",
     "text": [
      "Creating 3 cells of type bNAC219_L1_DAC_56906d7a99_0_0.cell.nml\n",
      "Creating 1 cells of type bNAC219_L1_DAC_ec2fc5f0de_0_0.cell.nml\n"
     ]
    },
    {
     "name": "stderr",
     "output_type": "stream",
     "text": [
      "pyNeuroML >>> pyneuroml.pynml - INFO - Loading NeuroML2 file: ../NMC_model/NMC.NeuronML2/bNAC219_L1_DAC_0d58fdf14a_0_0.cell.nml\n",
      "pyNeuroML >>> 2025-02-03 14:59:26,991 - pyneuroml.pynml - INFO - Loading NeuroML2 file: ../NMC_model/NMC.NeuronML2/bNAC219_L1_DAC_0d58fdf14a_0_0.cell.nml\n",
      "pyNeuroML >>> pyneuroml.pynml - INFO - Loading NeuroML2 file: ../NMC_model/NMC.NeuronML2/cNAC187_L1_DLAC_3a1208130a_0_0.cell.nml\n",
      "pyNeuroML >>> 2025-02-03 14:59:27,113 - pyneuroml.pynml - INFO - Loading NeuroML2 file: ../NMC_model/NMC.NeuronML2/cNAC187_L1_DLAC_3a1208130a_0_0.cell.nml\n"
     ]
    },
    {
     "name": "stdout",
     "output_type": "stream",
     "text": [
      "Creating 3 cells of type bNAC219_L1_DAC_0d58fdf14a_0_0.cell.nml\n",
      "Creating 6 cells of type cNAC187_L1_DLAC_3a1208130a_0_0.cell.nml\n"
     ]
    },
    {
     "name": "stderr",
     "output_type": "stream",
     "text": [
      "pyNeuroML >>> pyneuroml.pynml - INFO - Loading NeuroML2 file: ../NMC_model/NMC.NeuronML2/cNAC187_L1_DLAC_d80e9f2875_0_0.cell.nml\n",
      "pyNeuroML >>> 2025-02-03 14:59:27,295 - pyneuroml.pynml - INFO - Loading NeuroML2 file: ../NMC_model/NMC.NeuronML2/cNAC187_L1_DLAC_d80e9f2875_0_0.cell.nml\n"
     ]
    },
    {
     "name": "stdout",
     "output_type": "stream",
     "text": [
      "Creating 5 cells of type cNAC187_L1_DLAC_d80e9f2875_0_0.cell.nml\n"
     ]
    },
    {
     "name": "stderr",
     "output_type": "stream",
     "text": [
      "pyNeuroML >>> pyneuroml.pynml - INFO - Loading NeuroML2 file: ../NMC_model/NMC.NeuronML2/cNAC187_L1_DLAC_4822ddb519_0_0.cell.nml\n",
      "pyNeuroML >>> 2025-02-03 14:59:27,630 - pyneuroml.pynml - INFO - Loading NeuroML2 file: ../NMC_model/NMC.NeuronML2/cNAC187_L1_DLAC_4822ddb519_0_0.cell.nml\n",
      "pyNeuroML >>> pyneuroml.pynml - INFO - Loading NeuroML2 file: ../NMC_model/NMC.NeuronML2/cNAC187_L1_DLAC_d51b8a96ed_0_0.cell.nml\n",
      "pyNeuroML >>> 2025-02-03 14:59:27,748 - pyneuroml.pynml - INFO - Loading NeuroML2 file: ../NMC_model/NMC.NeuronML2/cNAC187_L1_DLAC_d51b8a96ed_0_0.cell.nml\n"
     ]
    },
    {
     "name": "stdout",
     "output_type": "stream",
     "text": [
      "Creating 4 cells of type cNAC187_L1_DLAC_4822ddb519_0_0.cell.nml\n",
      "Creating 6 cells of type cNAC187_L1_DLAC_d51b8a96ed_0_0.cell.nml\n"
     ]
    },
    {
     "name": "stderr",
     "output_type": "stream",
     "text": [
      "pyNeuroML >>> pyneuroml.pynml - INFO - Loading NeuroML2 file: ../NMC_model/NMC.NeuronML2/cNAC187_L1_DLAC_612b4ae64f_0_0.cell.nml\n",
      "pyNeuroML >>> 2025-02-03 14:59:27,908 - pyneuroml.pynml - INFO - Loading NeuroML2 file: ../NMC_model/NMC.NeuronML2/cNAC187_L1_DLAC_612b4ae64f_0_0.cell.nml\n"
     ]
    },
    {
     "name": "stdout",
     "output_type": "stream",
     "text": [
      "Creating 3 cells of type cNAC187_L1_DLAC_612b4ae64f_0_0.cell.nml\n"
     ]
    },
    {
     "name": "stderr",
     "output_type": "stream",
     "text": [
      "pyNeuroML >>> pyneuroml.pynml - INFO - Loading NeuroML2 file: ../NMC_model/NMC.NeuronML2/cNAC187_L1_HAC_f8c9772d9d_0_0.cell.nml\n",
      "pyNeuroML >>> 2025-02-03 14:59:28,150 - pyneuroml.pynml - INFO - Loading NeuroML2 file: ../NMC_model/NMC.NeuronML2/cNAC187_L1_HAC_f8c9772d9d_0_0.cell.nml\n",
      "pyNeuroML >>> pyneuroml.pynml - INFO - Loading NeuroML2 file: ../NMC_model/NMC.NeuronML2/cNAC187_L1_HAC_369e749269_0_0.cell.nml\n",
      "pyNeuroML >>> 2025-02-03 14:59:28,322 - pyneuroml.pynml - INFO - Loading NeuroML2 file: ../NMC_model/NMC.NeuronML2/cNAC187_L1_HAC_369e749269_0_0.cell.nml\n"
     ]
    },
    {
     "name": "stdout",
     "output_type": "stream",
     "text": [
      "Creating 19 cells of type cNAC187_L1_HAC_f8c9772d9d_0_0.cell.nml\n",
      "Creating 15 cells of type cNAC187_L1_HAC_369e749269_0_0.cell.nml\n"
     ]
    },
    {
     "name": "stderr",
     "output_type": "stream",
     "text": [
      "pyNeuroML >>> pyneuroml.pynml - INFO - Loading NeuroML2 file: ../NMC_model/NMC.NeuronML2/cNAC187_L1_HAC_f7023f0666_0_0.cell.nml\n",
      "pyNeuroML >>> 2025-02-03 14:59:28,560 - pyneuroml.pynml - INFO - Loading NeuroML2 file: ../NMC_model/NMC.NeuronML2/cNAC187_L1_HAC_f7023f0666_0_0.cell.nml\n",
      "pyNeuroML >>> pyneuroml.pynml - INFO - Loading NeuroML2 file: ../NMC_model/NMC.NeuronML2/cNAC187_L1_HAC_dfd993e67b_0_0.cell.nml\n",
      "pyNeuroML >>> 2025-02-03 14:59:28,627 - pyneuroml.pynml - INFO - Loading NeuroML2 file: ../NMC_model/NMC.NeuronML2/cNAC187_L1_HAC_dfd993e67b_0_0.cell.nml\n",
      "pyNeuroML >>> pyneuroml.pynml - INFO - Loading NeuroML2 file: ../NMC_model/NMC.NeuronML2/cNAC187_L1_HAC_cc210b8244_0_0.cell.nml\n"
     ]
    },
    {
     "name": "stdout",
     "output_type": "stream",
     "text": [
      "Creating 13 cells of type cNAC187_L1_HAC_f7023f0666_0_0.cell.nml\n",
      "Creating 17 cells of type cNAC187_L1_HAC_dfd993e67b_0_0.cell.nml\n",
      "Creating 14 cells of type cNAC187_L1_HAC_cc210b8244_0_0.cell.nml\n"
     ]
    },
    {
     "name": "stderr",
     "output_type": "stream",
     "text": [
      "pyNeuroML >>> 2025-02-03 14:59:28,754 - pyneuroml.pynml - INFO - Loading NeuroML2 file: ../NMC_model/NMC.NeuronML2/cNAC187_L1_HAC_cc210b8244_0_0.cell.nml\n",
      "pyNeuroML >>> pyneuroml.pynml - INFO - Loading NeuroML2 file: ../NMC_model/NMC.NeuronML2/bNAC219_L1_HAC_dfd993e67b_0_0.cell.nml\n",
      "pyNeuroML >>> 2025-02-03 14:59:28,868 - pyneuroml.pynml - INFO - Loading NeuroML2 file: ../NMC_model/NMC.NeuronML2/bNAC219_L1_HAC_dfd993e67b_0_0.cell.nml\n",
      "pyNeuroML >>> pyneuroml.pynml - INFO - Loading NeuroML2 file: ../NMC_model/NMC.NeuronML2/bNAC219_L1_HAC_f7023f0666_0_0.cell.nml\n",
      "pyNeuroML >>> 2025-02-03 14:59:29,002 - pyneuroml.pynml - INFO - Loading NeuroML2 file: ../NMC_model/NMC.NeuronML2/bNAC219_L1_HAC_f7023f0666_0_0.cell.nml\n",
      "pyNeuroML >>> pyneuroml.pynml - INFO - Loading NeuroML2 file: ../NMC_model/NMC.NeuronML2/bNAC219_L1_HAC_369e749269_0_0.cell.nml\n"
     ]
    },
    {
     "name": "stdout",
     "output_type": "stream",
     "text": [
      "Creating 3 cells of type bNAC219_L1_HAC_dfd993e67b_0_0.cell.nml\n",
      "Creating 4 cells of type bNAC219_L1_HAC_f7023f0666_0_0.cell.nml\n",
      "Creating 2 cells of type bNAC219_L1_HAC_369e749269_0_0.cell.nml\n"
     ]
    },
    {
     "name": "stderr",
     "output_type": "stream",
     "text": [
      "pyNeuroML >>> 2025-02-03 14:59:29,070 - pyneuroml.pynml - INFO - Loading NeuroML2 file: ../NMC_model/NMC.NeuronML2/bNAC219_L1_HAC_369e749269_0_0.cell.nml\n",
      "pyNeuroML >>> pyneuroml.pynml - INFO - Loading NeuroML2 file: ../NMC_model/NMC.NeuronML2/bNAC219_L1_HAC_f8c9772d9d_0_0.cell.nml\n",
      "pyNeuroML >>> 2025-02-03 14:59:29,159 - pyneuroml.pynml - INFO - Loading NeuroML2 file: ../NMC_model/NMC.NeuronML2/bNAC219_L1_HAC_f8c9772d9d_0_0.cell.nml\n",
      "pyNeuroML >>> pyneuroml.pynml - INFO - Loading NeuroML2 file: ../NMC_model/NMC.NeuronML2/bNAC219_L1_SLAC_9f043bb71a_0_0.cell.nml\n",
      "pyNeuroML >>> 2025-02-03 14:59:29,328 - pyneuroml.pynml - INFO - Loading NeuroML2 file: ../NMC_model/NMC.NeuronML2/bNAC219_L1_SLAC_9f043bb71a_0_0.cell.nml\n"
     ]
    },
    {
     "name": "stdout",
     "output_type": "stream",
     "text": [
      "Creating 4 cells of type bNAC219_L1_HAC_f8c9772d9d_0_0.cell.nml\n",
      "Creating 3 cells of type bNAC219_L1_SLAC_9f043bb71a_0_0.cell.nml\n"
     ]
    },
    {
     "name": "stderr",
     "output_type": "stream",
     "text": [
      "pyNeuroML >>> pyneuroml.pynml - INFO - Loading NeuroML2 file: ../NMC_model/NMC.NeuronML2/cNAC187_L1_SLAC_16735ed026_0_0.cell.nml\n",
      "pyNeuroML >>> 2025-02-03 14:59:29,570 - pyneuroml.pynml - INFO - Loading NeuroML2 file: ../NMC_model/NMC.NeuronML2/cNAC187_L1_SLAC_16735ed026_0_0.cell.nml\n",
      "pyNeuroML >>> pyneuroml.pynml - INFO - Loading NeuroML2 file: ../NMC_model/NMC.NeuronML2/bNAC219_L1_SLAC_bb26216f9f_0_0.cell.nml\n",
      "pyNeuroML >>> 2025-02-03 14:59:29,744 - pyneuroml.pynml - INFO - Loading NeuroML2 file: ../NMC_model/NMC.NeuronML2/bNAC219_L1_SLAC_bb26216f9f_0_0.cell.nml\n"
     ]
    },
    {
     "name": "stdout",
     "output_type": "stream",
     "text": [
      "Creating 8 cells of type cNAC187_L1_SLAC_16735ed026_0_0.cell.nml\n",
      "Creating 2 cells of type bNAC219_L1_SLAC_bb26216f9f_0_0.cell.nml\n"
     ]
    },
    {
     "name": "stderr",
     "output_type": "stream",
     "text": [
      "pyNeuroML >>> pyneuroml.pynml - INFO - Loading NeuroML2 file: ../NMC_model/NMC.NeuronML2/cNAC187_L1_SLAC_26e7460577_0_0.cell.nml\n",
      "pyNeuroML >>> 2025-02-03 14:59:29,842 - pyneuroml.pynml - INFO - Loading NeuroML2 file: ../NMC_model/NMC.NeuronML2/cNAC187_L1_SLAC_26e7460577_0_0.cell.nml\n",
      "pyNeuroML >>> pyneuroml.pynml - INFO - Loading NeuroML2 file: ../NMC_model/NMC.NeuronML2/cACint209_L1_SLAC_9fb2ec760b_0_0.cell.nml\n",
      "pyNeuroML >>> 2025-02-03 14:59:29,936 - pyneuroml.pynml - INFO - Loading NeuroML2 file: ../NMC_model/NMC.NeuronML2/cACint209_L1_SLAC_9fb2ec760b_0_0.cell.nml\n",
      "pyNeuroML >>> pyneuroml.pynml - INFO - Loading NeuroML2 file: ../NMC_model/NMC.NeuronML2/cNAC187_L1_SLAC_3759bf3d94_0_0.cell.nml\n"
     ]
    },
    {
     "name": "stdout",
     "output_type": "stream",
     "text": [
      "Creating 5 cells of type cNAC187_L1_SLAC_26e7460577_0_0.cell.nml\n",
      "Creating 3 cells of type cACint209_L1_SLAC_9fb2ec760b_0_0.cell.nml\n",
      "Creating 5 cells of type cNAC187_L1_SLAC_3759bf3d94_0_0.cell.nml\n"
     ]
    },
    {
     "name": "stderr",
     "output_type": "stream",
     "text": [
      "pyNeuroML >>> 2025-02-03 14:59:30,027 - pyneuroml.pynml - INFO - Loading NeuroML2 file: ../NMC_model/NMC.NeuronML2/cNAC187_L1_SLAC_3759bf3d94_0_0.cell.nml\n",
      "pyNeuroML >>> pyneuroml.pynml - INFO - Loading NeuroML2 file: ../NMC_model/NMC.NeuronML2/cNAC187_L1_SLAC_9d4b6f19da_0_0.cell.nml\n",
      "pyNeuroML >>> 2025-02-03 14:59:30,089 - pyneuroml.pynml - INFO - Loading NeuroML2 file: ../NMC_model/NMC.NeuronML2/cNAC187_L1_SLAC_9d4b6f19da_0_0.cell.nml\n",
      "pyNeuroML >>> pyneuroml.pynml - INFO - Loading NeuroML2 file: ../NMC_model/NMC.NeuronML2/cNAC187_L1_SLAC_1b78a7b294_0_0.cell.nml\n",
      "pyNeuroML >>> 2025-02-03 14:59:30,198 - pyneuroml.pynml - INFO - Loading NeuroML2 file: ../NMC_model/NMC.NeuronML2/cNAC187_L1_SLAC_1b78a7b294_0_0.cell.nml\n",
      "pyNeuroML >>> pyneuroml.pynml - INFO - Loading NeuroML2 file: ../NMC_model/NMC.NeuronML2/bNAC219_L1_SLAC_d22d584760_0_0.cell.nml\n",
      "pyNeuroML >>> 2025-02-03 14:59:30,250 - pyneuroml.pynml - INFO - Loading NeuroML2 file: ../NMC_model/NMC.NeuronML2/bNAC219_L1_SLAC_d22d584760_0_0.cell.nml\n"
     ]
    },
    {
     "name": "stdout",
     "output_type": "stream",
     "text": [
      "Creating 4 cells of type cNAC187_L1_SLAC_9d4b6f19da_0_0.cell.nml\n",
      "Creating 6 cells of type cNAC187_L1_SLAC_1b78a7b294_0_0.cell.nml\n",
      "Creating 4 cells of type bNAC219_L1_SLAC_d22d584760_0_0.cell.nml\n"
     ]
    },
    {
     "name": "stderr",
     "output_type": "stream",
     "text": [
      "pyNeuroML >>> pyneuroml.pynml - INFO - Loading NeuroML2 file: ../NMC_model/NMC.NeuronML2/bNAC219_L1_SLAC_1aa0a09b13_0_0.cell.nml\n",
      "pyNeuroML >>> 2025-02-03 14:59:30,306 - pyneuroml.pynml - INFO - Loading NeuroML2 file: ../NMC_model/NMC.NeuronML2/bNAC219_L1_SLAC_1aa0a09b13_0_0.cell.nml\n"
     ]
    },
    {
     "name": "stdout",
     "output_type": "stream",
     "text": [
      "Creating 1 cells of type bNAC219_L1_SLAC_1aa0a09b13_0_0.cell.nml\n"
     ]
    }
   ],
   "source": [
    "nml_doc = component_factory(\"NeuroMLDocument\", id=\"Cortex_Network\")\n",
    "\n",
    "### Create the network\n",
    "net = nml_doc.add(\"Network\", id=\"Cortex_Network\", validate=False)\n",
    "net.type=\"networkWithTemperature\" \n",
    "net.temperature=\"34.0degC\"\n",
    "\n",
    "neuron_population_dict = {}  # neuron_population_dict[m_type][e_type] = population_object\n",
    "microcircuit_volume = circuit_data[\"Microcircuit volume\"]\n",
    "microcircuit_thickness = sum(circuit_data[\"Layer thicknesses\"].values())\n",
    "\n",
    "for layer in layers_data:\n",
    "    if layer not in filter_include_only_layers:\n",
    "        continue\n",
    "    layer_dict = layers_data[layer]\n",
    "    e_type_counts = layer_dict['No. of neurons per electrical types']\n",
    "    m_type_counts = layer_dict['No. of neurons per morphological types']\n",
    "\n",
    "    # layer thickness\n",
    "    layer_thickness = circuit_data[\"Layer thicknesses\"][layer]\n",
    "    layer_neuron_density = circuit_data[\"Neuron densities\"][layer]\n",
    "    layer_neuron_count = circuit_data[\"No. of neurons per layer\"][layer]\n",
    "\n",
    "    for m_type in m_type_counts:\n",
    "        m_type_cells = [f for f in cell_files if m_type in f]\n",
    "        m_count = m_type_counts[m_type]\n",
    "\n",
    "        # for the e-types that match this m-type, build a relative probability distribution of these e-types based on their counts\n",
    "        me_type_probs = {}\n",
    "        e_count_sum = 0\n",
    "\n",
    "        for e_type in e_type_counts:\n",
    "            me_type_matches = [f for f in m_type_cells if e_type in f]\n",
    "            for match in me_type_matches:\n",
    "                me_type_probs[match] = e_type_counts[e_type] / len(me_type_matches)\n",
    "            if len(me_type_matches) > 0:\n",
    "                e_count_sum += e_type_counts[e_type]\n",
    "        \n",
    "        # normalize the probabilities\n",
    "        for e_type in me_type_probs:\n",
    "            me_type_probs[e_type] /= e_count_sum\n",
    "        #print(me_type_probs)\n",
    "\n",
    "        # probabilities should sum to 1\n",
    "        if abs(1 - sum(me_type_probs.values())) > 0.0001 and len(me_type_probs.keys()) > 0:\n",
    "            print(\"Error: probabilities do not sum to 1\")\n",
    "            print(sum(me_type_probs.values()))\n",
    "            print(me_type_probs)\n",
    "\n",
    "        # sample from the me-type distribution to get the number of cells of each type\n",
    "        me_type_counts = {}  # maps me-type to # neurons of that type\n",
    "        for i_morp in range(m_count):\n",
    "            m_type_cells = list(me_type_probs.keys())\n",
    "            m_type_probs = list(me_type_probs.values())\n",
    "            if len(m_type_cells) == 0 or len(m_type_probs) == 0:\n",
    "                continue\n",
    "            me_type_sample = random.choices(m_type_cells, m_type_probs)[0]\n",
    "            if me_type_sample not in me_type_counts:\n",
    "                me_type_counts[me_type_sample] = 1\n",
    "            else:\n",
    "                me_type_counts[me_type_sample] += 1\n",
    "\n",
    "        # create the neurons and place them in the network for this layer. Record in neuron_population_dict\n",
    "        for me_type_sample in me_type_counts:\n",
    "            print(\"Creating \" + str(me_type_counts[me_type_sample]) + \" cells of type \" + me_type_sample)\n",
    "            # read in the cell file\n",
    "            cell_model = read_neuroml2_file(cell_data_dir + me_type_sample)\n",
    "\n",
    "            # create the neuron population object and place them in the network for this layer\n",
    "            size_pop1 = me_type_counts[me_type_sample]\n",
    "            nml_doc.add(\"IncludeType\", href=cell_data_dir + me_type_sample)\n",
    "\n",
    "            population_obj = component_factory(\"Population\", id=\"Exc\", component=cell_model.id, size=size_pop1, type=\"populationList\")\n",
    "            \n",
    "            # Set optional color property. Note: used later when generating plots\n",
    "            ##pop0.add(\"Property\", tag=\"color\", value=\"0 0 .8\")\n",
    "            \n",
    "            # set the x,y,z location of the population, based on layer thickness (z), model x,y dimensions, and cell count of this population\n",
    "            # place the population at a random x,y location within the layer,\n",
    "            #  uniformly distributed according to layer_thickness, layer_neuron_density, and layer_neuron_count\n",
    "            xy_avail_area = circuit_data['Layer areas'][layer]\n",
    "            x_y_length = np.sqrt(xy_avail_area)\n",
    "            z_start_bound = circuit_data['Layer top edges'][layer]\n",
    "            z_end_bound = z_start_bound + layer_thickness\n",
    "            for i_cell in range(size_pop1):\n",
    "                x = random.uniform(0, x_y_length)\n",
    "                y = random.uniform(0, x_y_length)\n",
    "                z = random.uniform(z_start_bound, z_end_bound)\n",
    "                population_obj.add(\"Instance\", id=str(i_cell), location=component_factory(\"Location\", x=x, y=y, z=z))\n",
    "\n",
    "            # add to neuron_population_dict\n",
    "            if m_type not in neuron_population_dict:\n",
    "                neuron_population_dict[m_type] = {}\n",
    "            neuron_population_dict[m_type][me_type_sample] = population_obj\n"
   ]
  },
  {
   "cell_type": "code",
   "execution_count": 5,
   "metadata": {},
   "outputs": [
    {
     "name": "stdout",
     "output_type": "stream",
     "text": [
      "\tAdded 198 connections from cADpyr231_L6_BPC_3406e7f0b2_0_0.cell.nml to cADpyr230_L4_SS_9e49de205b_0_0.cell.nml\n",
      "\tAdded 198 connections from cADpyr231_L6_BPC_3406e7f0b2_0_0.cell.nml to cADpyr230_L4_SS_a8ef0f9d97_0_0.cell.nml\n",
      "\tAdded 149 connections from cADpyr231_L6_BPC_3406e7f0b2_0_0.cell.nml to cADpyr230_L4_SS_08eefff078_0_0.cell.nml\n",
      "\tAdded 200 connections from cADpyr231_L6_BPC_3406e7f0b2_0_0.cell.nml to cADpyr230_L4_SS_a5ca6392b3_0_0.cell.nml\n",
      "\tAdded 184 connections from cADpyr231_L6_BPC_3406e7f0b2_0_0.cell.nml to cADpyr230_L4_SS_1afeb14f17_0_0.cell.nml\n",
      "\tAdded 98 connections from cADpyr231_L6_BPC_1ed55c8860_0_0.cell.nml to cADpyr230_L4_SS_9e49de205b_0_0.cell.nml\n",
      "\tAdded 105 connections from cADpyr231_L6_BPC_1ed55c8860_0_0.cell.nml to cADpyr230_L4_SS_a8ef0f9d97_0_0.cell.nml\n",
      "\tAdded 82 connections from cADpyr231_L6_BPC_1ed55c8860_0_0.cell.nml to cADpyr230_L4_SS_08eefff078_0_0.cell.nml\n",
      "\tAdded 92 connections from cADpyr231_L6_BPC_1ed55c8860_0_0.cell.nml to cADpyr230_L4_SS_a5ca6392b3_0_0.cell.nml\n",
      "\tAdded 92 connections from cADpyr231_L6_BPC_1ed55c8860_0_0.cell.nml to cADpyr230_L4_SS_1afeb14f17_0_0.cell.nml\n",
      "\tAdded 54 connections from cACint209_L6_BP_a6fb2fe3a5_0_0.cell.nml to cADpyr230_L4_SS_9e49de205b_0_0.cell.nml\n",
      "\tAdded 57 connections from cACint209_L6_BP_a6fb2fe3a5_0_0.cell.nml to cADpyr230_L4_SS_a8ef0f9d97_0_0.cell.nml\n",
      "\tAdded 41 connections from cACint209_L6_BP_a6fb2fe3a5_0_0.cell.nml to cADpyr230_L4_SS_08eefff078_0_0.cell.nml\n",
      "\tAdded 56 connections from cACint209_L6_BP_a6fb2fe3a5_0_0.cell.nml to cADpyr230_L4_SS_a5ca6392b3_0_0.cell.nml\n",
      "\tAdded 47 connections from cACint209_L6_BP_a6fb2fe3a5_0_0.cell.nml to cADpyr230_L4_SS_1afeb14f17_0_0.cell.nml\n",
      "\tAdded 8 connections from cNAC187_L4_MC_29457dde26_0_0.cell.nml to cACint209_L23_BTC_acb33d4029_0_0.cell.nml\n",
      "\tAdded 4 connections from cNAC187_L4_MC_29457dde26_0_0.cell.nml to bIR215_L23_BTC_b7a569ac13_0_0.cell.nml\n",
      "\tAdded 28 connections from cNAC187_L4_MC_29457dde26_0_0.cell.nml to cACint209_L23_BTC_4f730ef7d0_0_0.cell.nml\n",
      "\tAdded 8 connections from cNAC187_L4_MC_29457dde26_0_0.cell.nml to bAC217_L23_BTC_d9b97f1242_0_0.cell.nml\n",
      "\tAdded 4 connections from cNAC187_L4_MC_29457dde26_0_0.cell.nml to bAC217_L23_BTC_9ad0430657_0_0.cell.nml\n",
      "\tAdded 8 connections from cNAC187_L4_MC_29457dde26_0_0.cell.nml to cNAC187_L23_BTC_9deeb00a62_0_0.cell.nml\n",
      "\tAdded 4 connections from cNAC187_L4_MC_29457dde26_0_0.cell.nml to bAC217_L23_BTC_e5d9eb2ec3_0_0.cell.nml\n",
      "\tAdded 8 connections from cNAC187_L4_MC_29457dde26_0_0.cell.nml to cNAC187_L23_BTC_9902cd4960_0_0.cell.nml\n",
      "\tAdded 8 connections from cNAC187_L4_MC_29457dde26_0_0.cell.nml to bNAC219_L23_BTC_07c7c10a30_0_0.cell.nml\n",
      "\tAdded 4 connections from cNAC187_L4_MC_29457dde26_0_0.cell.nml to cNAC187_L23_BTC_13a502998f_0_0.cell.nml\n",
      "\tAdded 20 connections from cNAC187_L4_MC_29457dde26_0_0.cell.nml to cACint209_L23_BTC_3ac7d39218_0_0.cell.nml\n",
      "\tAdded 4 connections from cNAC187_L4_MC_29457dde26_0_0.cell.nml to cNAC187_L23_BTC_eb8366ca09_0_0.cell.nml\n",
      "\tAdded 4 connections from cNAC187_L4_MC_29457dde26_0_0.cell.nml to bNAC219_L23_BTC_f83ba90238_0_0.cell.nml\n",
      "\tAdded 4 connections from cNAC187_L4_MC_29457dde26_0_0.cell.nml to bNAC219_L23_BTC_38a5da4025_0_0.cell.nml\n",
      "\tAdded 4 connections from cNAC187_L4_MC_29457dde26_0_0.cell.nml to bNAC219_L23_BTC_08c8d4004b_0_0.cell.nml\n",
      "\tAdded 20 connections from cNAC187_L4_MC_29457dde26_0_0.cell.nml to cACint209_L23_BTC_59062d6e7d_0_0.cell.nml\n",
      "\tAdded 4 connections from cNAC187_L4_MC_29457dde26_0_0.cell.nml to cNAC187_L23_BTC_b7a569ac13_0_0.cell.nml\n",
      "\tAdded 8 connections from cNAC187_L4_MC_29457dde26_0_0.cell.nml to cACint209_L23_BTC_c745595fbe_0_0.cell.nml\n",
      "\tAdded 4 connections from cNAC187_L4_MC_29457dde26_0_0.cell.nml to bAC217_L23_BTC_e561810e0d_0_0.cell.nml\n",
      "\tAdded 4 connections from cNAC187_L4_MC_29457dde26_0_0.cell.nml to bIR215_L23_BTC_e051419629_0_0.cell.nml\n",
      "\tAdded 4 connections from cNAC187_L4_MC_29457dde26_0_0.cell.nml to bIR215_L23_BTC_fcf6c1f59c_0_0.cell.nml\n",
      "\tAdded 10 connections from bNAC219_L4_MC_2eb83e1eed_0_0.cell.nml to cACint209_L23_BTC_acb33d4029_0_0.cell.nml\n",
      "\tAdded 5 connections from bNAC219_L4_MC_2eb83e1eed_0_0.cell.nml to bIR215_L23_BTC_b7a569ac13_0_0.cell.nml\n",
      "\tAdded 35 connections from bNAC219_L4_MC_2eb83e1eed_0_0.cell.nml to cACint209_L23_BTC_4f730ef7d0_0_0.cell.nml\n",
      "\tAdded 10 connections from bNAC219_L4_MC_2eb83e1eed_0_0.cell.nml to bAC217_L23_BTC_d9b97f1242_0_0.cell.nml\n",
      "\tAdded 5 connections from bNAC219_L4_MC_2eb83e1eed_0_0.cell.nml to bAC217_L23_BTC_9ad0430657_0_0.cell.nml\n",
      "\tAdded 10 connections from bNAC219_L4_MC_2eb83e1eed_0_0.cell.nml to cNAC187_L23_BTC_9deeb00a62_0_0.cell.nml\n",
      "\tAdded 5 connections from bNAC219_L4_MC_2eb83e1eed_0_0.cell.nml to bAC217_L23_BTC_e5d9eb2ec3_0_0.cell.nml\n",
      "\tAdded 10 connections from bNAC219_L4_MC_2eb83e1eed_0_0.cell.nml to cNAC187_L23_BTC_9902cd4960_0_0.cell.nml\n",
      "\tAdded 10 connections from bNAC219_L4_MC_2eb83e1eed_0_0.cell.nml to bNAC219_L23_BTC_07c7c10a30_0_0.cell.nml\n",
      "\tAdded 5 connections from bNAC219_L4_MC_2eb83e1eed_0_0.cell.nml to cNAC187_L23_BTC_13a502998f_0_0.cell.nml\n",
      "\tAdded 25 connections from bNAC219_L4_MC_2eb83e1eed_0_0.cell.nml to cACint209_L23_BTC_3ac7d39218_0_0.cell.nml\n",
      "\tAdded 5 connections from bNAC219_L4_MC_2eb83e1eed_0_0.cell.nml to cNAC187_L23_BTC_eb8366ca09_0_0.cell.nml\n",
      "\tAdded 5 connections from bNAC219_L4_MC_2eb83e1eed_0_0.cell.nml to bNAC219_L23_BTC_f83ba90238_0_0.cell.nml\n",
      "\tAdded 5 connections from bNAC219_L4_MC_2eb83e1eed_0_0.cell.nml to bNAC219_L23_BTC_38a5da4025_0_0.cell.nml\n",
      "\tAdded 5 connections from bNAC219_L4_MC_2eb83e1eed_0_0.cell.nml to bNAC219_L23_BTC_08c8d4004b_0_0.cell.nml\n",
      "\tAdded 25 connections from bNAC219_L4_MC_2eb83e1eed_0_0.cell.nml to cACint209_L23_BTC_59062d6e7d_0_0.cell.nml\n",
      "\tAdded 5 connections from bNAC219_L4_MC_2eb83e1eed_0_0.cell.nml to cNAC187_L23_BTC_b7a569ac13_0_0.cell.nml\n",
      "\tAdded 10 connections from bNAC219_L4_MC_2eb83e1eed_0_0.cell.nml to cACint209_L23_BTC_c745595fbe_0_0.cell.nml\n",
      "\tAdded 5 connections from bNAC219_L4_MC_2eb83e1eed_0_0.cell.nml to bAC217_L23_BTC_e561810e0d_0_0.cell.nml\n",
      "\tAdded 5 connections from bNAC219_L4_MC_2eb83e1eed_0_0.cell.nml to bIR215_L23_BTC_e051419629_0_0.cell.nml\n",
      "\tAdded 5 connections from bNAC219_L4_MC_2eb83e1eed_0_0.cell.nml to bIR215_L23_BTC_fcf6c1f59c_0_0.cell.nml\n",
      "\tAdded 16 connections from cACint209_L4_MC_f8c62d11b0_0_0.cell.nml to cACint209_L23_BTC_acb33d4029_0_0.cell.nml\n",
      "\tAdded 8 connections from cACint209_L4_MC_f8c62d11b0_0_0.cell.nml to bIR215_L23_BTC_b7a569ac13_0_0.cell.nml\n",
      "\tAdded 56 connections from cACint209_L4_MC_f8c62d11b0_0_0.cell.nml to cACint209_L23_BTC_4f730ef7d0_0_0.cell.nml\n",
      "\tAdded 16 connections from cACint209_L4_MC_f8c62d11b0_0_0.cell.nml to bAC217_L23_BTC_d9b97f1242_0_0.cell.nml\n",
      "\tAdded 8 connections from cACint209_L4_MC_f8c62d11b0_0_0.cell.nml to bAC217_L23_BTC_9ad0430657_0_0.cell.nml\n",
      "\tAdded 16 connections from cACint209_L4_MC_f8c62d11b0_0_0.cell.nml to cNAC187_L23_BTC_9deeb00a62_0_0.cell.nml\n",
      "\tAdded 8 connections from cACint209_L4_MC_f8c62d11b0_0_0.cell.nml to bAC217_L23_BTC_e5d9eb2ec3_0_0.cell.nml\n",
      "\tAdded 16 connections from cACint209_L4_MC_f8c62d11b0_0_0.cell.nml to cNAC187_L23_BTC_9902cd4960_0_0.cell.nml\n",
      "\tAdded 16 connections from cACint209_L4_MC_f8c62d11b0_0_0.cell.nml to bNAC219_L23_BTC_07c7c10a30_0_0.cell.nml\n",
      "\tAdded 8 connections from cACint209_L4_MC_f8c62d11b0_0_0.cell.nml to cNAC187_L23_BTC_13a502998f_0_0.cell.nml\n",
      "\tAdded 40 connections from cACint209_L4_MC_f8c62d11b0_0_0.cell.nml to cACint209_L23_BTC_3ac7d39218_0_0.cell.nml\n",
      "\tAdded 8 connections from cACint209_L4_MC_f8c62d11b0_0_0.cell.nml to cNAC187_L23_BTC_eb8366ca09_0_0.cell.nml\n",
      "\tAdded 8 connections from cACint209_L4_MC_f8c62d11b0_0_0.cell.nml to bNAC219_L23_BTC_f83ba90238_0_0.cell.nml\n",
      "\tAdded 8 connections from cACint209_L4_MC_f8c62d11b0_0_0.cell.nml to bNAC219_L23_BTC_38a5da4025_0_0.cell.nml\n",
      "\tAdded 8 connections from cACint209_L4_MC_f8c62d11b0_0_0.cell.nml to bNAC219_L23_BTC_08c8d4004b_0_0.cell.nml\n",
      "\tAdded 40 connections from cACint209_L4_MC_f8c62d11b0_0_0.cell.nml to cACint209_L23_BTC_59062d6e7d_0_0.cell.nml\n",
      "\tAdded 8 connections from cACint209_L4_MC_f8c62d11b0_0_0.cell.nml to cNAC187_L23_BTC_b7a569ac13_0_0.cell.nml\n",
      "\tAdded 16 connections from cACint209_L4_MC_f8c62d11b0_0_0.cell.nml to cACint209_L23_BTC_c745595fbe_0_0.cell.nml\n",
      "\tAdded 8 connections from cACint209_L4_MC_f8c62d11b0_0_0.cell.nml to bAC217_L23_BTC_e561810e0d_0_0.cell.nml\n",
      "\tAdded 8 connections from cACint209_L4_MC_f8c62d11b0_0_0.cell.nml to bIR215_L23_BTC_e051419629_0_0.cell.nml\n",
      "\tAdded 8 connections from cACint209_L4_MC_f8c62d11b0_0_0.cell.nml to bIR215_L23_BTC_fcf6c1f59c_0_0.cell.nml\n",
      "\tAdded 30 connections from cACint209_L4_MC_ba3c5063e4_0_0.cell.nml to cACint209_L23_BTC_acb33d4029_0_0.cell.nml\n",
      "\tAdded 15 connections from cACint209_L4_MC_ba3c5063e4_0_0.cell.nml to bIR215_L23_BTC_b7a569ac13_0_0.cell.nml\n",
      "\tAdded 105 connections from cACint209_L4_MC_ba3c5063e4_0_0.cell.nml to cACint209_L23_BTC_4f730ef7d0_0_0.cell.nml\n",
      "\tAdded 30 connections from cACint209_L4_MC_ba3c5063e4_0_0.cell.nml to bAC217_L23_BTC_d9b97f1242_0_0.cell.nml\n",
      "\tAdded 15 connections from cACint209_L4_MC_ba3c5063e4_0_0.cell.nml to bAC217_L23_BTC_9ad0430657_0_0.cell.nml\n",
      "\tAdded 30 connections from cACint209_L4_MC_ba3c5063e4_0_0.cell.nml to cNAC187_L23_BTC_9deeb00a62_0_0.cell.nml\n",
      "\tAdded 15 connections from cACint209_L4_MC_ba3c5063e4_0_0.cell.nml to bAC217_L23_BTC_e5d9eb2ec3_0_0.cell.nml\n",
      "\tAdded 30 connections from cACint209_L4_MC_ba3c5063e4_0_0.cell.nml to cNAC187_L23_BTC_9902cd4960_0_0.cell.nml\n",
      "\tAdded 30 connections from cACint209_L4_MC_ba3c5063e4_0_0.cell.nml to bNAC219_L23_BTC_07c7c10a30_0_0.cell.nml\n",
      "\tAdded 15 connections from cACint209_L4_MC_ba3c5063e4_0_0.cell.nml to cNAC187_L23_BTC_13a502998f_0_0.cell.nml\n",
      "\tAdded 75 connections from cACint209_L4_MC_ba3c5063e4_0_0.cell.nml to cACint209_L23_BTC_3ac7d39218_0_0.cell.nml\n",
      "\tAdded 15 connections from cACint209_L4_MC_ba3c5063e4_0_0.cell.nml to cNAC187_L23_BTC_eb8366ca09_0_0.cell.nml\n",
      "\tAdded 15 connections from cACint209_L4_MC_ba3c5063e4_0_0.cell.nml to bNAC219_L23_BTC_f83ba90238_0_0.cell.nml\n",
      "\tAdded 15 connections from cACint209_L4_MC_ba3c5063e4_0_0.cell.nml to bNAC219_L23_BTC_38a5da4025_0_0.cell.nml\n",
      "\tAdded 15 connections from cACint209_L4_MC_ba3c5063e4_0_0.cell.nml to bNAC219_L23_BTC_08c8d4004b_0_0.cell.nml\n",
      "\tAdded 75 connections from cACint209_L4_MC_ba3c5063e4_0_0.cell.nml to cACint209_L23_BTC_59062d6e7d_0_0.cell.nml\n",
      "\tAdded 15 connections from cACint209_L4_MC_ba3c5063e4_0_0.cell.nml to cNAC187_L23_BTC_b7a569ac13_0_0.cell.nml\n",
      "\tAdded 30 connections from cACint209_L4_MC_ba3c5063e4_0_0.cell.nml to cACint209_L23_BTC_c745595fbe_0_0.cell.nml\n",
      "\tAdded 15 connections from cACint209_L4_MC_ba3c5063e4_0_0.cell.nml to bAC217_L23_BTC_e561810e0d_0_0.cell.nml\n",
      "\tAdded 15 connections from cACint209_L4_MC_ba3c5063e4_0_0.cell.nml to bIR215_L23_BTC_e051419629_0_0.cell.nml\n",
      "\tAdded 15 connections from cACint209_L4_MC_ba3c5063e4_0_0.cell.nml to bIR215_L23_BTC_fcf6c1f59c_0_0.cell.nml\n",
      "\tAdded 8 connections from bNAC219_L4_MC_ba3c5063e4_0_0.cell.nml to cACint209_L23_BTC_acb33d4029_0_0.cell.nml\n",
      "\tAdded 4 connections from bNAC219_L4_MC_ba3c5063e4_0_0.cell.nml to bIR215_L23_BTC_b7a569ac13_0_0.cell.nml\n",
      "\tAdded 28 connections from bNAC219_L4_MC_ba3c5063e4_0_0.cell.nml to cACint209_L23_BTC_4f730ef7d0_0_0.cell.nml\n",
      "\tAdded 8 connections from bNAC219_L4_MC_ba3c5063e4_0_0.cell.nml to bAC217_L23_BTC_d9b97f1242_0_0.cell.nml\n",
      "\tAdded 4 connections from bNAC219_L4_MC_ba3c5063e4_0_0.cell.nml to bAC217_L23_BTC_9ad0430657_0_0.cell.nml\n",
      "\tAdded 8 connections from bNAC219_L4_MC_ba3c5063e4_0_0.cell.nml to cNAC187_L23_BTC_9deeb00a62_0_0.cell.nml\n",
      "\tAdded 4 connections from bNAC219_L4_MC_ba3c5063e4_0_0.cell.nml to bAC217_L23_BTC_e5d9eb2ec3_0_0.cell.nml\n",
      "\tAdded 8 connections from bNAC219_L4_MC_ba3c5063e4_0_0.cell.nml to cNAC187_L23_BTC_9902cd4960_0_0.cell.nml\n",
      "\tAdded 8 connections from bNAC219_L4_MC_ba3c5063e4_0_0.cell.nml to bNAC219_L23_BTC_07c7c10a30_0_0.cell.nml\n",
      "\tAdded 4 connections from bNAC219_L4_MC_ba3c5063e4_0_0.cell.nml to cNAC187_L23_BTC_13a502998f_0_0.cell.nml\n",
      "\tAdded 20 connections from bNAC219_L4_MC_ba3c5063e4_0_0.cell.nml to cACint209_L23_BTC_3ac7d39218_0_0.cell.nml\n",
      "\tAdded 4 connections from bNAC219_L4_MC_ba3c5063e4_0_0.cell.nml to cNAC187_L23_BTC_eb8366ca09_0_0.cell.nml\n",
      "\tAdded 4 connections from bNAC219_L4_MC_ba3c5063e4_0_0.cell.nml to bNAC219_L23_BTC_f83ba90238_0_0.cell.nml\n",
      "\tAdded 4 connections from bNAC219_L4_MC_ba3c5063e4_0_0.cell.nml to bNAC219_L23_BTC_38a5da4025_0_0.cell.nml\n",
      "\tAdded 4 connections from bNAC219_L4_MC_ba3c5063e4_0_0.cell.nml to bNAC219_L23_BTC_08c8d4004b_0_0.cell.nml\n",
      "\tAdded 20 connections from bNAC219_L4_MC_ba3c5063e4_0_0.cell.nml to cACint209_L23_BTC_59062d6e7d_0_0.cell.nml\n",
      "\tAdded 4 connections from bNAC219_L4_MC_ba3c5063e4_0_0.cell.nml to cNAC187_L23_BTC_b7a569ac13_0_0.cell.nml\n",
      "\tAdded 8 connections from bNAC219_L4_MC_ba3c5063e4_0_0.cell.nml to cACint209_L23_BTC_c745595fbe_0_0.cell.nml\n",
      "\tAdded 4 connections from bNAC219_L4_MC_ba3c5063e4_0_0.cell.nml to bAC217_L23_BTC_e561810e0d_0_0.cell.nml\n",
      "\tAdded 4 connections from bNAC219_L4_MC_ba3c5063e4_0_0.cell.nml to bIR215_L23_BTC_e051419629_0_0.cell.nml\n",
      "\tAdded 4 connections from bNAC219_L4_MC_ba3c5063e4_0_0.cell.nml to bIR215_L23_BTC_fcf6c1f59c_0_0.cell.nml\n",
      "\tAdded 26 connections from cACint209_L4_MC_5fa0a62bd0_0_0.cell.nml to cACint209_L23_BTC_acb33d4029_0_0.cell.nml\n",
      "\tAdded 13 connections from cACint209_L4_MC_5fa0a62bd0_0_0.cell.nml to bIR215_L23_BTC_b7a569ac13_0_0.cell.nml\n",
      "\tAdded 91 connections from cACint209_L4_MC_5fa0a62bd0_0_0.cell.nml to cACint209_L23_BTC_4f730ef7d0_0_0.cell.nml\n",
      "\tAdded 26 connections from cACint209_L4_MC_5fa0a62bd0_0_0.cell.nml to bAC217_L23_BTC_d9b97f1242_0_0.cell.nml\n",
      "\tAdded 13 connections from cACint209_L4_MC_5fa0a62bd0_0_0.cell.nml to bAC217_L23_BTC_9ad0430657_0_0.cell.nml\n",
      "\tAdded 26 connections from cACint209_L4_MC_5fa0a62bd0_0_0.cell.nml to cNAC187_L23_BTC_9deeb00a62_0_0.cell.nml\n",
      "\tAdded 13 connections from cACint209_L4_MC_5fa0a62bd0_0_0.cell.nml to bAC217_L23_BTC_e5d9eb2ec3_0_0.cell.nml\n",
      "\tAdded 26 connections from cACint209_L4_MC_5fa0a62bd0_0_0.cell.nml to cNAC187_L23_BTC_9902cd4960_0_0.cell.nml\n",
      "\tAdded 26 connections from cACint209_L4_MC_5fa0a62bd0_0_0.cell.nml to bNAC219_L23_BTC_07c7c10a30_0_0.cell.nml\n",
      "\tAdded 13 connections from cACint209_L4_MC_5fa0a62bd0_0_0.cell.nml to cNAC187_L23_BTC_13a502998f_0_0.cell.nml\n",
      "\tAdded 65 connections from cACint209_L4_MC_5fa0a62bd0_0_0.cell.nml to cACint209_L23_BTC_3ac7d39218_0_0.cell.nml\n",
      "\tAdded 13 connections from cACint209_L4_MC_5fa0a62bd0_0_0.cell.nml to cNAC187_L23_BTC_eb8366ca09_0_0.cell.nml\n",
      "\tAdded 13 connections from cACint209_L4_MC_5fa0a62bd0_0_0.cell.nml to bNAC219_L23_BTC_f83ba90238_0_0.cell.nml\n",
      "\tAdded 13 connections from cACint209_L4_MC_5fa0a62bd0_0_0.cell.nml to bNAC219_L23_BTC_38a5da4025_0_0.cell.nml\n",
      "\tAdded 13 connections from cACint209_L4_MC_5fa0a62bd0_0_0.cell.nml to bNAC219_L23_BTC_08c8d4004b_0_0.cell.nml\n",
      "\tAdded 65 connections from cACint209_L4_MC_5fa0a62bd0_0_0.cell.nml to cACint209_L23_BTC_59062d6e7d_0_0.cell.nml\n",
      "\tAdded 13 connections from cACint209_L4_MC_5fa0a62bd0_0_0.cell.nml to cNAC187_L23_BTC_b7a569ac13_0_0.cell.nml\n",
      "\tAdded 26 connections from cACint209_L4_MC_5fa0a62bd0_0_0.cell.nml to cACint209_L23_BTC_c745595fbe_0_0.cell.nml\n",
      "\tAdded 13 connections from cACint209_L4_MC_5fa0a62bd0_0_0.cell.nml to bAC217_L23_BTC_e561810e0d_0_0.cell.nml\n",
      "\tAdded 13 connections from cACint209_L4_MC_5fa0a62bd0_0_0.cell.nml to bIR215_L23_BTC_e051419629_0_0.cell.nml\n",
      "\tAdded 13 connections from cACint209_L4_MC_5fa0a62bd0_0_0.cell.nml to bIR215_L23_BTC_fcf6c1f59c_0_0.cell.nml\n",
      "\tAdded 12 connections from dNAC222_L4_MC_3110386c07_0_0.cell.nml to cACint209_L23_BTC_acb33d4029_0_0.cell.nml\n",
      "\tAdded 6 connections from dNAC222_L4_MC_3110386c07_0_0.cell.nml to bIR215_L23_BTC_b7a569ac13_0_0.cell.nml\n",
      "\tAdded 42 connections from dNAC222_L4_MC_3110386c07_0_0.cell.nml to cACint209_L23_BTC_4f730ef7d0_0_0.cell.nml\n",
      "\tAdded 12 connections from dNAC222_L4_MC_3110386c07_0_0.cell.nml to bAC217_L23_BTC_d9b97f1242_0_0.cell.nml\n",
      "\tAdded 6 connections from dNAC222_L4_MC_3110386c07_0_0.cell.nml to bAC217_L23_BTC_9ad0430657_0_0.cell.nml\n",
      "\tAdded 12 connections from dNAC222_L4_MC_3110386c07_0_0.cell.nml to cNAC187_L23_BTC_9deeb00a62_0_0.cell.nml\n",
      "\tAdded 6 connections from dNAC222_L4_MC_3110386c07_0_0.cell.nml to bAC217_L23_BTC_e5d9eb2ec3_0_0.cell.nml\n",
      "\tAdded 12 connections from dNAC222_L4_MC_3110386c07_0_0.cell.nml to cNAC187_L23_BTC_9902cd4960_0_0.cell.nml\n",
      "\tAdded 12 connections from dNAC222_L4_MC_3110386c07_0_0.cell.nml to bNAC219_L23_BTC_07c7c10a30_0_0.cell.nml\n",
      "\tAdded 6 connections from dNAC222_L4_MC_3110386c07_0_0.cell.nml to cNAC187_L23_BTC_13a502998f_0_0.cell.nml\n",
      "\tAdded 30 connections from dNAC222_L4_MC_3110386c07_0_0.cell.nml to cACint209_L23_BTC_3ac7d39218_0_0.cell.nml\n",
      "\tAdded 6 connections from dNAC222_L4_MC_3110386c07_0_0.cell.nml to cNAC187_L23_BTC_eb8366ca09_0_0.cell.nml\n",
      "\tAdded 6 connections from dNAC222_L4_MC_3110386c07_0_0.cell.nml to bNAC219_L23_BTC_f83ba90238_0_0.cell.nml\n",
      "\tAdded 6 connections from dNAC222_L4_MC_3110386c07_0_0.cell.nml to bNAC219_L23_BTC_38a5da4025_0_0.cell.nml\n",
      "\tAdded 6 connections from dNAC222_L4_MC_3110386c07_0_0.cell.nml to bNAC219_L23_BTC_08c8d4004b_0_0.cell.nml\n",
      "\tAdded 30 connections from dNAC222_L4_MC_3110386c07_0_0.cell.nml to cACint209_L23_BTC_59062d6e7d_0_0.cell.nml\n",
      "\tAdded 6 connections from dNAC222_L4_MC_3110386c07_0_0.cell.nml to cNAC187_L23_BTC_b7a569ac13_0_0.cell.nml\n",
      "\tAdded 12 connections from dNAC222_L4_MC_3110386c07_0_0.cell.nml to cACint209_L23_BTC_c745595fbe_0_0.cell.nml\n",
      "\tAdded 6 connections from dNAC222_L4_MC_3110386c07_0_0.cell.nml to bAC217_L23_BTC_e561810e0d_0_0.cell.nml\n",
      "\tAdded 6 connections from dNAC222_L4_MC_3110386c07_0_0.cell.nml to bIR215_L23_BTC_e051419629_0_0.cell.nml\n",
      "\tAdded 6 connections from dNAC222_L4_MC_3110386c07_0_0.cell.nml to bIR215_L23_BTC_fcf6c1f59c_0_0.cell.nml\n",
      "\tAdded 20 connections from cACint209_L4_MC_fa0d941a0b_0_0.cell.nml to cACint209_L23_BTC_acb33d4029_0_0.cell.nml\n",
      "\tAdded 10 connections from cACint209_L4_MC_fa0d941a0b_0_0.cell.nml to bIR215_L23_BTC_b7a569ac13_0_0.cell.nml\n",
      "\tAdded 70 connections from cACint209_L4_MC_fa0d941a0b_0_0.cell.nml to cACint209_L23_BTC_4f730ef7d0_0_0.cell.nml\n",
      "\tAdded 20 connections from cACint209_L4_MC_fa0d941a0b_0_0.cell.nml to bAC217_L23_BTC_d9b97f1242_0_0.cell.nml\n",
      "\tAdded 10 connections from cACint209_L4_MC_fa0d941a0b_0_0.cell.nml to bAC217_L23_BTC_9ad0430657_0_0.cell.nml\n",
      "\tAdded 20 connections from cACint209_L4_MC_fa0d941a0b_0_0.cell.nml to cNAC187_L23_BTC_9deeb00a62_0_0.cell.nml\n",
      "\tAdded 10 connections from cACint209_L4_MC_fa0d941a0b_0_0.cell.nml to bAC217_L23_BTC_e5d9eb2ec3_0_0.cell.nml\n",
      "\tAdded 20 connections from cACint209_L4_MC_fa0d941a0b_0_0.cell.nml to cNAC187_L23_BTC_9902cd4960_0_0.cell.nml\n",
      "\tAdded 20 connections from cACint209_L4_MC_fa0d941a0b_0_0.cell.nml to bNAC219_L23_BTC_07c7c10a30_0_0.cell.nml\n",
      "\tAdded 10 connections from cACint209_L4_MC_fa0d941a0b_0_0.cell.nml to cNAC187_L23_BTC_13a502998f_0_0.cell.nml\n",
      "\tAdded 50 connections from cACint209_L4_MC_fa0d941a0b_0_0.cell.nml to cACint209_L23_BTC_3ac7d39218_0_0.cell.nml\n",
      "\tAdded 10 connections from cACint209_L4_MC_fa0d941a0b_0_0.cell.nml to cNAC187_L23_BTC_eb8366ca09_0_0.cell.nml\n",
      "\tAdded 10 connections from cACint209_L4_MC_fa0d941a0b_0_0.cell.nml to bNAC219_L23_BTC_f83ba90238_0_0.cell.nml\n",
      "\tAdded 10 connections from cACint209_L4_MC_fa0d941a0b_0_0.cell.nml to bNAC219_L23_BTC_38a5da4025_0_0.cell.nml\n",
      "\tAdded 10 connections from cACint209_L4_MC_fa0d941a0b_0_0.cell.nml to bNAC219_L23_BTC_08c8d4004b_0_0.cell.nml\n",
      "\tAdded 50 connections from cACint209_L4_MC_fa0d941a0b_0_0.cell.nml to cACint209_L23_BTC_59062d6e7d_0_0.cell.nml\n",
      "\tAdded 10 connections from cACint209_L4_MC_fa0d941a0b_0_0.cell.nml to cNAC187_L23_BTC_b7a569ac13_0_0.cell.nml\n",
      "\tAdded 20 connections from cACint209_L4_MC_fa0d941a0b_0_0.cell.nml to cACint209_L23_BTC_c745595fbe_0_0.cell.nml\n",
      "\tAdded 10 connections from cACint209_L4_MC_fa0d941a0b_0_0.cell.nml to bAC217_L23_BTC_e561810e0d_0_0.cell.nml\n",
      "\tAdded 10 connections from cACint209_L4_MC_fa0d941a0b_0_0.cell.nml to bIR215_L23_BTC_e051419629_0_0.cell.nml\n",
      "\tAdded 10 connections from cACint209_L4_MC_fa0d941a0b_0_0.cell.nml to bIR215_L23_BTC_fcf6c1f59c_0_0.cell.nml\n",
      "\tAdded 16 connections from cNAC187_L4_MC_f8c62d11b0_0_0.cell.nml to cACint209_L23_BTC_acb33d4029_0_0.cell.nml\n",
      "\tAdded 8 connections from cNAC187_L4_MC_f8c62d11b0_0_0.cell.nml to bIR215_L23_BTC_b7a569ac13_0_0.cell.nml\n",
      "\tAdded 56 connections from cNAC187_L4_MC_f8c62d11b0_0_0.cell.nml to cACint209_L23_BTC_4f730ef7d0_0_0.cell.nml\n",
      "\tAdded 16 connections from cNAC187_L4_MC_f8c62d11b0_0_0.cell.nml to bAC217_L23_BTC_d9b97f1242_0_0.cell.nml\n",
      "\tAdded 8 connections from cNAC187_L4_MC_f8c62d11b0_0_0.cell.nml to bAC217_L23_BTC_9ad0430657_0_0.cell.nml\n",
      "\tAdded 16 connections from cNAC187_L4_MC_f8c62d11b0_0_0.cell.nml to cNAC187_L23_BTC_9deeb00a62_0_0.cell.nml\n",
      "\tAdded 8 connections from cNAC187_L4_MC_f8c62d11b0_0_0.cell.nml to bAC217_L23_BTC_e5d9eb2ec3_0_0.cell.nml\n",
      "\tAdded 16 connections from cNAC187_L4_MC_f8c62d11b0_0_0.cell.nml to cNAC187_L23_BTC_9902cd4960_0_0.cell.nml\n",
      "\tAdded 16 connections from cNAC187_L4_MC_f8c62d11b0_0_0.cell.nml to bNAC219_L23_BTC_07c7c10a30_0_0.cell.nml\n",
      "\tAdded 8 connections from cNAC187_L4_MC_f8c62d11b0_0_0.cell.nml to cNAC187_L23_BTC_13a502998f_0_0.cell.nml\n",
      "\tAdded 40 connections from cNAC187_L4_MC_f8c62d11b0_0_0.cell.nml to cACint209_L23_BTC_3ac7d39218_0_0.cell.nml\n",
      "\tAdded 8 connections from cNAC187_L4_MC_f8c62d11b0_0_0.cell.nml to cNAC187_L23_BTC_eb8366ca09_0_0.cell.nml\n",
      "\tAdded 8 connections from cNAC187_L4_MC_f8c62d11b0_0_0.cell.nml to bNAC219_L23_BTC_f83ba90238_0_0.cell.nml\n",
      "\tAdded 8 connections from cNAC187_L4_MC_f8c62d11b0_0_0.cell.nml to bNAC219_L23_BTC_38a5da4025_0_0.cell.nml\n",
      "\tAdded 8 connections from cNAC187_L4_MC_f8c62d11b0_0_0.cell.nml to bNAC219_L23_BTC_08c8d4004b_0_0.cell.nml\n",
      "\tAdded 40 connections from cNAC187_L4_MC_f8c62d11b0_0_0.cell.nml to cACint209_L23_BTC_59062d6e7d_0_0.cell.nml\n",
      "\tAdded 8 connections from cNAC187_L4_MC_f8c62d11b0_0_0.cell.nml to cNAC187_L23_BTC_b7a569ac13_0_0.cell.nml\n",
      "\tAdded 16 connections from cNAC187_L4_MC_f8c62d11b0_0_0.cell.nml to cACint209_L23_BTC_c745595fbe_0_0.cell.nml\n",
      "\tAdded 8 connections from cNAC187_L4_MC_f8c62d11b0_0_0.cell.nml to bAC217_L23_BTC_e561810e0d_0_0.cell.nml\n",
      "\tAdded 8 connections from cNAC187_L4_MC_f8c62d11b0_0_0.cell.nml to bIR215_L23_BTC_e051419629_0_0.cell.nml\n",
      "\tAdded 8 connections from cNAC187_L4_MC_f8c62d11b0_0_0.cell.nml to bIR215_L23_BTC_fcf6c1f59c_0_0.cell.nml\n",
      "\tAdded 6 connections from cNAC187_L4_MC_2eb83e1eed_0_0.cell.nml to cACint209_L23_BTC_acb33d4029_0_0.cell.nml\n",
      "\tAdded 3 connections from cNAC187_L4_MC_2eb83e1eed_0_0.cell.nml to bIR215_L23_BTC_b7a569ac13_0_0.cell.nml\n",
      "\tAdded 21 connections from cNAC187_L4_MC_2eb83e1eed_0_0.cell.nml to cACint209_L23_BTC_4f730ef7d0_0_0.cell.nml\n",
      "\tAdded 6 connections from cNAC187_L4_MC_2eb83e1eed_0_0.cell.nml to bAC217_L23_BTC_d9b97f1242_0_0.cell.nml\n",
      "\tAdded 3 connections from cNAC187_L4_MC_2eb83e1eed_0_0.cell.nml to bAC217_L23_BTC_9ad0430657_0_0.cell.nml\n",
      "\tAdded 6 connections from cNAC187_L4_MC_2eb83e1eed_0_0.cell.nml to cNAC187_L23_BTC_9deeb00a62_0_0.cell.nml\n",
      "\tAdded 3 connections from cNAC187_L4_MC_2eb83e1eed_0_0.cell.nml to bAC217_L23_BTC_e5d9eb2ec3_0_0.cell.nml\n",
      "\tAdded 6 connections from cNAC187_L4_MC_2eb83e1eed_0_0.cell.nml to cNAC187_L23_BTC_9902cd4960_0_0.cell.nml\n",
      "\tAdded 6 connections from cNAC187_L4_MC_2eb83e1eed_0_0.cell.nml to bNAC219_L23_BTC_07c7c10a30_0_0.cell.nml\n",
      "\tAdded 3 connections from cNAC187_L4_MC_2eb83e1eed_0_0.cell.nml to cNAC187_L23_BTC_13a502998f_0_0.cell.nml\n",
      "\tAdded 15 connections from cNAC187_L4_MC_2eb83e1eed_0_0.cell.nml to cACint209_L23_BTC_3ac7d39218_0_0.cell.nml\n",
      "\tAdded 3 connections from cNAC187_L4_MC_2eb83e1eed_0_0.cell.nml to cNAC187_L23_BTC_eb8366ca09_0_0.cell.nml\n",
      "\tAdded 3 connections from cNAC187_L4_MC_2eb83e1eed_0_0.cell.nml to bNAC219_L23_BTC_f83ba90238_0_0.cell.nml\n",
      "\tAdded 3 connections from cNAC187_L4_MC_2eb83e1eed_0_0.cell.nml to bNAC219_L23_BTC_38a5da4025_0_0.cell.nml\n",
      "\tAdded 3 connections from cNAC187_L4_MC_2eb83e1eed_0_0.cell.nml to bNAC219_L23_BTC_08c8d4004b_0_0.cell.nml\n",
      "\tAdded 15 connections from cNAC187_L4_MC_2eb83e1eed_0_0.cell.nml to cACint209_L23_BTC_59062d6e7d_0_0.cell.nml\n",
      "\tAdded 3 connections from cNAC187_L4_MC_2eb83e1eed_0_0.cell.nml to cNAC187_L23_BTC_b7a569ac13_0_0.cell.nml\n",
      "\tAdded 6 connections from cNAC187_L4_MC_2eb83e1eed_0_0.cell.nml to cACint209_L23_BTC_c745595fbe_0_0.cell.nml\n",
      "\tAdded 3 connections from cNAC187_L4_MC_2eb83e1eed_0_0.cell.nml to bAC217_L23_BTC_e561810e0d_0_0.cell.nml\n",
      "\tAdded 3 connections from cNAC187_L4_MC_2eb83e1eed_0_0.cell.nml to bIR215_L23_BTC_e051419629_0_0.cell.nml\n",
      "\tAdded 3 connections from cNAC187_L4_MC_2eb83e1eed_0_0.cell.nml to bIR215_L23_BTC_fcf6c1f59c_0_0.cell.nml\n",
      "\tAdded 10 connections from cNAC187_L4_MC_3110386c07_0_0.cell.nml to cACint209_L23_BTC_acb33d4029_0_0.cell.nml\n",
      "\tAdded 5 connections from cNAC187_L4_MC_3110386c07_0_0.cell.nml to bIR215_L23_BTC_b7a569ac13_0_0.cell.nml\n",
      "\tAdded 35 connections from cNAC187_L4_MC_3110386c07_0_0.cell.nml to cACint209_L23_BTC_4f730ef7d0_0_0.cell.nml\n",
      "\tAdded 10 connections from cNAC187_L4_MC_3110386c07_0_0.cell.nml to bAC217_L23_BTC_d9b97f1242_0_0.cell.nml\n",
      "\tAdded 5 connections from cNAC187_L4_MC_3110386c07_0_0.cell.nml to bAC217_L23_BTC_9ad0430657_0_0.cell.nml\n",
      "\tAdded 10 connections from cNAC187_L4_MC_3110386c07_0_0.cell.nml to cNAC187_L23_BTC_9deeb00a62_0_0.cell.nml\n",
      "\tAdded 5 connections from cNAC187_L4_MC_3110386c07_0_0.cell.nml to bAC217_L23_BTC_e5d9eb2ec3_0_0.cell.nml\n",
      "\tAdded 10 connections from cNAC187_L4_MC_3110386c07_0_0.cell.nml to cNAC187_L23_BTC_9902cd4960_0_0.cell.nml\n",
      "\tAdded 10 connections from cNAC187_L4_MC_3110386c07_0_0.cell.nml to bNAC219_L23_BTC_07c7c10a30_0_0.cell.nml\n",
      "\tAdded 5 connections from cNAC187_L4_MC_3110386c07_0_0.cell.nml to cNAC187_L23_BTC_13a502998f_0_0.cell.nml\n",
      "\tAdded 25 connections from cNAC187_L4_MC_3110386c07_0_0.cell.nml to cACint209_L23_BTC_3ac7d39218_0_0.cell.nml\n",
      "\tAdded 5 connections from cNAC187_L4_MC_3110386c07_0_0.cell.nml to cNAC187_L23_BTC_eb8366ca09_0_0.cell.nml\n",
      "\tAdded 5 connections from cNAC187_L4_MC_3110386c07_0_0.cell.nml to bNAC219_L23_BTC_f83ba90238_0_0.cell.nml\n",
      "\tAdded 5 connections from cNAC187_L4_MC_3110386c07_0_0.cell.nml to bNAC219_L23_BTC_38a5da4025_0_0.cell.nml\n",
      "\tAdded 5 connections from cNAC187_L4_MC_3110386c07_0_0.cell.nml to bNAC219_L23_BTC_08c8d4004b_0_0.cell.nml\n",
      "\tAdded 25 connections from cNAC187_L4_MC_3110386c07_0_0.cell.nml to cACint209_L23_BTC_59062d6e7d_0_0.cell.nml\n",
      "\tAdded 5 connections from cNAC187_L4_MC_3110386c07_0_0.cell.nml to cNAC187_L23_BTC_b7a569ac13_0_0.cell.nml\n",
      "\tAdded 10 connections from cNAC187_L4_MC_3110386c07_0_0.cell.nml to cACint209_L23_BTC_c745595fbe_0_0.cell.nml\n",
      "\tAdded 5 connections from cNAC187_L4_MC_3110386c07_0_0.cell.nml to bAC217_L23_BTC_e561810e0d_0_0.cell.nml\n",
      "\tAdded 5 connections from cNAC187_L4_MC_3110386c07_0_0.cell.nml to bIR215_L23_BTC_e051419629_0_0.cell.nml\n",
      "\tAdded 5 connections from cNAC187_L4_MC_3110386c07_0_0.cell.nml to bIR215_L23_BTC_fcf6c1f59c_0_0.cell.nml\n",
      "\tAdded 2 connections from bAC217_L4_MC_8a4a02932c_0_0.cell.nml to cACint209_L23_BTC_acb33d4029_0_0.cell.nml\n",
      "\tAdded 1 connections from bAC217_L4_MC_8a4a02932c_0_0.cell.nml to bIR215_L23_BTC_b7a569ac13_0_0.cell.nml\n",
      "\tAdded 7 connections from bAC217_L4_MC_8a4a02932c_0_0.cell.nml to cACint209_L23_BTC_4f730ef7d0_0_0.cell.nml\n",
      "\tAdded 2 connections from bAC217_L4_MC_8a4a02932c_0_0.cell.nml to bAC217_L23_BTC_d9b97f1242_0_0.cell.nml\n",
      "\tAdded 1 connections from bAC217_L4_MC_8a4a02932c_0_0.cell.nml to bAC217_L23_BTC_9ad0430657_0_0.cell.nml\n",
      "\tAdded 2 connections from bAC217_L4_MC_8a4a02932c_0_0.cell.nml to cNAC187_L23_BTC_9deeb00a62_0_0.cell.nml\n",
      "\tAdded 1 connections from bAC217_L4_MC_8a4a02932c_0_0.cell.nml to bAC217_L23_BTC_e5d9eb2ec3_0_0.cell.nml\n",
      "\tAdded 2 connections from bAC217_L4_MC_8a4a02932c_0_0.cell.nml to cNAC187_L23_BTC_9902cd4960_0_0.cell.nml\n",
      "\tAdded 2 connections from bAC217_L4_MC_8a4a02932c_0_0.cell.nml to bNAC219_L23_BTC_07c7c10a30_0_0.cell.nml\n",
      "\tAdded 1 connections from bAC217_L4_MC_8a4a02932c_0_0.cell.nml to cNAC187_L23_BTC_13a502998f_0_0.cell.nml\n",
      "\tAdded 5 connections from bAC217_L4_MC_8a4a02932c_0_0.cell.nml to cACint209_L23_BTC_3ac7d39218_0_0.cell.nml\n",
      "\tAdded 1 connections from bAC217_L4_MC_8a4a02932c_0_0.cell.nml to cNAC187_L23_BTC_eb8366ca09_0_0.cell.nml\n",
      "\tAdded 1 connections from bAC217_L4_MC_8a4a02932c_0_0.cell.nml to bNAC219_L23_BTC_f83ba90238_0_0.cell.nml\n",
      "\tAdded 1 connections from bAC217_L4_MC_8a4a02932c_0_0.cell.nml to bNAC219_L23_BTC_38a5da4025_0_0.cell.nml\n",
      "\tAdded 1 connections from bAC217_L4_MC_8a4a02932c_0_0.cell.nml to bNAC219_L23_BTC_08c8d4004b_0_0.cell.nml\n",
      "\tAdded 5 connections from bAC217_L4_MC_8a4a02932c_0_0.cell.nml to cACint209_L23_BTC_59062d6e7d_0_0.cell.nml\n",
      "\tAdded 1 connections from bAC217_L4_MC_8a4a02932c_0_0.cell.nml to cNAC187_L23_BTC_b7a569ac13_0_0.cell.nml\n",
      "\tAdded 2 connections from bAC217_L4_MC_8a4a02932c_0_0.cell.nml to cACint209_L23_BTC_c745595fbe_0_0.cell.nml\n",
      "\tAdded 1 connections from bAC217_L4_MC_8a4a02932c_0_0.cell.nml to bAC217_L23_BTC_e561810e0d_0_0.cell.nml\n",
      "\tAdded 1 connections from bAC217_L4_MC_8a4a02932c_0_0.cell.nml to bIR215_L23_BTC_e051419629_0_0.cell.nml\n",
      "\tAdded 1 connections from bAC217_L4_MC_8a4a02932c_0_0.cell.nml to bIR215_L23_BTC_fcf6c1f59c_0_0.cell.nml\n",
      "\tAdded 20 connections from cACint209_L4_MC_8a4a02932c_0_0.cell.nml to cACint209_L23_BTC_acb33d4029_0_0.cell.nml\n",
      "\tAdded 10 connections from cACint209_L4_MC_8a4a02932c_0_0.cell.nml to bIR215_L23_BTC_b7a569ac13_0_0.cell.nml\n",
      "\tAdded 70 connections from cACint209_L4_MC_8a4a02932c_0_0.cell.nml to cACint209_L23_BTC_4f730ef7d0_0_0.cell.nml\n",
      "\tAdded 20 connections from cACint209_L4_MC_8a4a02932c_0_0.cell.nml to bAC217_L23_BTC_d9b97f1242_0_0.cell.nml\n",
      "\tAdded 10 connections from cACint209_L4_MC_8a4a02932c_0_0.cell.nml to bAC217_L23_BTC_9ad0430657_0_0.cell.nml\n",
      "\tAdded 20 connections from cACint209_L4_MC_8a4a02932c_0_0.cell.nml to cNAC187_L23_BTC_9deeb00a62_0_0.cell.nml\n",
      "\tAdded 10 connections from cACint209_L4_MC_8a4a02932c_0_0.cell.nml to bAC217_L23_BTC_e5d9eb2ec3_0_0.cell.nml\n",
      "\tAdded 20 connections from cACint209_L4_MC_8a4a02932c_0_0.cell.nml to cNAC187_L23_BTC_9902cd4960_0_0.cell.nml\n",
      "\tAdded 20 connections from cACint209_L4_MC_8a4a02932c_0_0.cell.nml to bNAC219_L23_BTC_07c7c10a30_0_0.cell.nml\n",
      "\tAdded 10 connections from cACint209_L4_MC_8a4a02932c_0_0.cell.nml to cNAC187_L23_BTC_13a502998f_0_0.cell.nml\n",
      "\tAdded 50 connections from cACint209_L4_MC_8a4a02932c_0_0.cell.nml to cACint209_L23_BTC_3ac7d39218_0_0.cell.nml\n",
      "\tAdded 10 connections from cACint209_L4_MC_8a4a02932c_0_0.cell.nml to cNAC187_L23_BTC_eb8366ca09_0_0.cell.nml\n",
      "\tAdded 10 connections from cACint209_L4_MC_8a4a02932c_0_0.cell.nml to bNAC219_L23_BTC_f83ba90238_0_0.cell.nml\n",
      "\tAdded 10 connections from cACint209_L4_MC_8a4a02932c_0_0.cell.nml to bNAC219_L23_BTC_38a5da4025_0_0.cell.nml\n",
      "\tAdded 10 connections from cACint209_L4_MC_8a4a02932c_0_0.cell.nml to bNAC219_L23_BTC_08c8d4004b_0_0.cell.nml\n",
      "\tAdded 50 connections from cACint209_L4_MC_8a4a02932c_0_0.cell.nml to cACint209_L23_BTC_59062d6e7d_0_0.cell.nml\n",
      "\tAdded 10 connections from cACint209_L4_MC_8a4a02932c_0_0.cell.nml to cNAC187_L23_BTC_b7a569ac13_0_0.cell.nml\n",
      "\tAdded 20 connections from cACint209_L4_MC_8a4a02932c_0_0.cell.nml to cACint209_L23_BTC_c745595fbe_0_0.cell.nml\n",
      "\tAdded 10 connections from cACint209_L4_MC_8a4a02932c_0_0.cell.nml to bAC217_L23_BTC_e561810e0d_0_0.cell.nml\n",
      "\tAdded 10 connections from cACint209_L4_MC_8a4a02932c_0_0.cell.nml to bIR215_L23_BTC_e051419629_0_0.cell.nml\n",
      "\tAdded 10 connections from cACint209_L4_MC_8a4a02932c_0_0.cell.nml to bIR215_L23_BTC_fcf6c1f59c_0_0.cell.nml\n",
      "\tAdded 8 connections from dNAC222_L4_MC_f8c62d11b0_0_0.cell.nml to cACint209_L23_BTC_acb33d4029_0_0.cell.nml\n",
      "\tAdded 4 connections from dNAC222_L4_MC_f8c62d11b0_0_0.cell.nml to bIR215_L23_BTC_b7a569ac13_0_0.cell.nml\n",
      "\tAdded 28 connections from dNAC222_L4_MC_f8c62d11b0_0_0.cell.nml to cACint209_L23_BTC_4f730ef7d0_0_0.cell.nml\n",
      "\tAdded 8 connections from dNAC222_L4_MC_f8c62d11b0_0_0.cell.nml to bAC217_L23_BTC_d9b97f1242_0_0.cell.nml\n",
      "\tAdded 4 connections from dNAC222_L4_MC_f8c62d11b0_0_0.cell.nml to bAC217_L23_BTC_9ad0430657_0_0.cell.nml\n",
      "\tAdded 8 connections from dNAC222_L4_MC_f8c62d11b0_0_0.cell.nml to cNAC187_L23_BTC_9deeb00a62_0_0.cell.nml\n",
      "\tAdded 4 connections from dNAC222_L4_MC_f8c62d11b0_0_0.cell.nml to bAC217_L23_BTC_e5d9eb2ec3_0_0.cell.nml\n",
      "\tAdded 8 connections from dNAC222_L4_MC_f8c62d11b0_0_0.cell.nml to cNAC187_L23_BTC_9902cd4960_0_0.cell.nml\n",
      "\tAdded 8 connections from dNAC222_L4_MC_f8c62d11b0_0_0.cell.nml to bNAC219_L23_BTC_07c7c10a30_0_0.cell.nml\n",
      "\tAdded 4 connections from dNAC222_L4_MC_f8c62d11b0_0_0.cell.nml to cNAC187_L23_BTC_13a502998f_0_0.cell.nml\n",
      "\tAdded 20 connections from dNAC222_L4_MC_f8c62d11b0_0_0.cell.nml to cACint209_L23_BTC_3ac7d39218_0_0.cell.nml\n",
      "\tAdded 4 connections from dNAC222_L4_MC_f8c62d11b0_0_0.cell.nml to cNAC187_L23_BTC_eb8366ca09_0_0.cell.nml\n",
      "\tAdded 4 connections from dNAC222_L4_MC_f8c62d11b0_0_0.cell.nml to bNAC219_L23_BTC_f83ba90238_0_0.cell.nml\n",
      "\tAdded 4 connections from dNAC222_L4_MC_f8c62d11b0_0_0.cell.nml to bNAC219_L23_BTC_38a5da4025_0_0.cell.nml\n",
      "\tAdded 4 connections from dNAC222_L4_MC_f8c62d11b0_0_0.cell.nml to bNAC219_L23_BTC_08c8d4004b_0_0.cell.nml\n",
      "\tAdded 20 connections from dNAC222_L4_MC_f8c62d11b0_0_0.cell.nml to cACint209_L23_BTC_59062d6e7d_0_0.cell.nml\n",
      "\tAdded 4 connections from dNAC222_L4_MC_f8c62d11b0_0_0.cell.nml to cNAC187_L23_BTC_b7a569ac13_0_0.cell.nml\n",
      "\tAdded 8 connections from dNAC222_L4_MC_f8c62d11b0_0_0.cell.nml to cACint209_L23_BTC_c745595fbe_0_0.cell.nml\n",
      "\tAdded 4 connections from dNAC222_L4_MC_f8c62d11b0_0_0.cell.nml to bAC217_L23_BTC_e561810e0d_0_0.cell.nml\n",
      "\tAdded 4 connections from dNAC222_L4_MC_f8c62d11b0_0_0.cell.nml to bIR215_L23_BTC_e051419629_0_0.cell.nml\n",
      "\tAdded 4 connections from dNAC222_L4_MC_f8c62d11b0_0_0.cell.nml to bIR215_L23_BTC_fcf6c1f59c_0_0.cell.nml\n",
      "\tAdded 6 connections from dNAC222_L4_MC_29457dde26_0_0.cell.nml to cACint209_L23_BTC_acb33d4029_0_0.cell.nml\n",
      "\tAdded 3 connections from dNAC222_L4_MC_29457dde26_0_0.cell.nml to bIR215_L23_BTC_b7a569ac13_0_0.cell.nml\n",
      "\tAdded 21 connections from dNAC222_L4_MC_29457dde26_0_0.cell.nml to cACint209_L23_BTC_4f730ef7d0_0_0.cell.nml\n",
      "\tAdded 6 connections from dNAC222_L4_MC_29457dde26_0_0.cell.nml to bAC217_L23_BTC_d9b97f1242_0_0.cell.nml\n",
      "\tAdded 3 connections from dNAC222_L4_MC_29457dde26_0_0.cell.nml to bAC217_L23_BTC_9ad0430657_0_0.cell.nml\n",
      "\tAdded 6 connections from dNAC222_L4_MC_29457dde26_0_0.cell.nml to cNAC187_L23_BTC_9deeb00a62_0_0.cell.nml\n",
      "\tAdded 3 connections from dNAC222_L4_MC_29457dde26_0_0.cell.nml to bAC217_L23_BTC_e5d9eb2ec3_0_0.cell.nml\n",
      "\tAdded 6 connections from dNAC222_L4_MC_29457dde26_0_0.cell.nml to cNAC187_L23_BTC_9902cd4960_0_0.cell.nml\n",
      "\tAdded 6 connections from dNAC222_L4_MC_29457dde26_0_0.cell.nml to bNAC219_L23_BTC_07c7c10a30_0_0.cell.nml\n",
      "\tAdded 3 connections from dNAC222_L4_MC_29457dde26_0_0.cell.nml to cNAC187_L23_BTC_13a502998f_0_0.cell.nml\n",
      "\tAdded 15 connections from dNAC222_L4_MC_29457dde26_0_0.cell.nml to cACint209_L23_BTC_3ac7d39218_0_0.cell.nml\n",
      "\tAdded 3 connections from dNAC222_L4_MC_29457dde26_0_0.cell.nml to cNAC187_L23_BTC_eb8366ca09_0_0.cell.nml\n",
      "\tAdded 3 connections from dNAC222_L4_MC_29457dde26_0_0.cell.nml to bNAC219_L23_BTC_f83ba90238_0_0.cell.nml\n",
      "\tAdded 3 connections from dNAC222_L4_MC_29457dde26_0_0.cell.nml to bNAC219_L23_BTC_38a5da4025_0_0.cell.nml\n",
      "\tAdded 3 connections from dNAC222_L4_MC_29457dde26_0_0.cell.nml to bNAC219_L23_BTC_08c8d4004b_0_0.cell.nml\n",
      "\tAdded 15 connections from dNAC222_L4_MC_29457dde26_0_0.cell.nml to cACint209_L23_BTC_59062d6e7d_0_0.cell.nml\n",
      "\tAdded 3 connections from dNAC222_L4_MC_29457dde26_0_0.cell.nml to cNAC187_L23_BTC_b7a569ac13_0_0.cell.nml\n",
      "\tAdded 6 connections from dNAC222_L4_MC_29457dde26_0_0.cell.nml to cACint209_L23_BTC_c745595fbe_0_0.cell.nml\n",
      "\tAdded 3 connections from dNAC222_L4_MC_29457dde26_0_0.cell.nml to bAC217_L23_BTC_e561810e0d_0_0.cell.nml\n",
      "\tAdded 3 connections from dNAC222_L4_MC_29457dde26_0_0.cell.nml to bIR215_L23_BTC_e051419629_0_0.cell.nml\n",
      "\tAdded 3 connections from dNAC222_L4_MC_29457dde26_0_0.cell.nml to bIR215_L23_BTC_fcf6c1f59c_0_0.cell.nml\n",
      "\tAdded 2 connections from bAC217_L4_MC_29457dde26_0_0.cell.nml to cACint209_L23_BTC_acb33d4029_0_0.cell.nml\n",
      "\tAdded 1 connections from bAC217_L4_MC_29457dde26_0_0.cell.nml to bIR215_L23_BTC_b7a569ac13_0_0.cell.nml\n",
      "\tAdded 7 connections from bAC217_L4_MC_29457dde26_0_0.cell.nml to cACint209_L23_BTC_4f730ef7d0_0_0.cell.nml\n",
      "\tAdded 2 connections from bAC217_L4_MC_29457dde26_0_0.cell.nml to bAC217_L23_BTC_d9b97f1242_0_0.cell.nml\n",
      "\tAdded 1 connections from bAC217_L4_MC_29457dde26_0_0.cell.nml to bAC217_L23_BTC_9ad0430657_0_0.cell.nml\n",
      "\tAdded 2 connections from bAC217_L4_MC_29457dde26_0_0.cell.nml to cNAC187_L23_BTC_9deeb00a62_0_0.cell.nml\n",
      "\tAdded 1 connections from bAC217_L4_MC_29457dde26_0_0.cell.nml to bAC217_L23_BTC_e5d9eb2ec3_0_0.cell.nml\n",
      "\tAdded 2 connections from bAC217_L4_MC_29457dde26_0_0.cell.nml to cNAC187_L23_BTC_9902cd4960_0_0.cell.nml\n",
      "\tAdded 2 connections from bAC217_L4_MC_29457dde26_0_0.cell.nml to bNAC219_L23_BTC_07c7c10a30_0_0.cell.nml\n",
      "\tAdded 1 connections from bAC217_L4_MC_29457dde26_0_0.cell.nml to cNAC187_L23_BTC_13a502998f_0_0.cell.nml\n",
      "\tAdded 5 connections from bAC217_L4_MC_29457dde26_0_0.cell.nml to cACint209_L23_BTC_3ac7d39218_0_0.cell.nml\n",
      "\tAdded 1 connections from bAC217_L4_MC_29457dde26_0_0.cell.nml to cNAC187_L23_BTC_eb8366ca09_0_0.cell.nml\n",
      "\tAdded 1 connections from bAC217_L4_MC_29457dde26_0_0.cell.nml to bNAC219_L23_BTC_f83ba90238_0_0.cell.nml\n",
      "\tAdded 1 connections from bAC217_L4_MC_29457dde26_0_0.cell.nml to bNAC219_L23_BTC_38a5da4025_0_0.cell.nml\n",
      "\tAdded 1 connections from bAC217_L4_MC_29457dde26_0_0.cell.nml to bNAC219_L23_BTC_08c8d4004b_0_0.cell.nml\n",
      "\tAdded 5 connections from bAC217_L4_MC_29457dde26_0_0.cell.nml to cACint209_L23_BTC_59062d6e7d_0_0.cell.nml\n",
      "\tAdded 1 connections from bAC217_L4_MC_29457dde26_0_0.cell.nml to cNAC187_L23_BTC_b7a569ac13_0_0.cell.nml\n",
      "\tAdded 2 connections from bAC217_L4_MC_29457dde26_0_0.cell.nml to cACint209_L23_BTC_c745595fbe_0_0.cell.nml\n",
      "\tAdded 1 connections from bAC217_L4_MC_29457dde26_0_0.cell.nml to bAC217_L23_BTC_e561810e0d_0_0.cell.nml\n",
      "\tAdded 1 connections from bAC217_L4_MC_29457dde26_0_0.cell.nml to bIR215_L23_BTC_e051419629_0_0.cell.nml\n",
      "\tAdded 1 connections from bAC217_L4_MC_29457dde26_0_0.cell.nml to bIR215_L23_BTC_fcf6c1f59c_0_0.cell.nml\n",
      "\tAdded 6 connections from dNAC222_L4_MC_2eb83e1eed_0_0.cell.nml to cACint209_L23_BTC_acb33d4029_0_0.cell.nml\n",
      "\tAdded 3 connections from dNAC222_L4_MC_2eb83e1eed_0_0.cell.nml to bIR215_L23_BTC_b7a569ac13_0_0.cell.nml\n",
      "\tAdded 21 connections from dNAC222_L4_MC_2eb83e1eed_0_0.cell.nml to cACint209_L23_BTC_4f730ef7d0_0_0.cell.nml\n",
      "\tAdded 6 connections from dNAC222_L4_MC_2eb83e1eed_0_0.cell.nml to bAC217_L23_BTC_d9b97f1242_0_0.cell.nml\n",
      "\tAdded 3 connections from dNAC222_L4_MC_2eb83e1eed_0_0.cell.nml to bAC217_L23_BTC_9ad0430657_0_0.cell.nml\n",
      "\tAdded 6 connections from dNAC222_L4_MC_2eb83e1eed_0_0.cell.nml to cNAC187_L23_BTC_9deeb00a62_0_0.cell.nml\n",
      "\tAdded 3 connections from dNAC222_L4_MC_2eb83e1eed_0_0.cell.nml to bAC217_L23_BTC_e5d9eb2ec3_0_0.cell.nml\n",
      "\tAdded 6 connections from dNAC222_L4_MC_2eb83e1eed_0_0.cell.nml to cNAC187_L23_BTC_9902cd4960_0_0.cell.nml\n",
      "\tAdded 6 connections from dNAC222_L4_MC_2eb83e1eed_0_0.cell.nml to bNAC219_L23_BTC_07c7c10a30_0_0.cell.nml\n",
      "\tAdded 3 connections from dNAC222_L4_MC_2eb83e1eed_0_0.cell.nml to cNAC187_L23_BTC_13a502998f_0_0.cell.nml\n",
      "\tAdded 15 connections from dNAC222_L4_MC_2eb83e1eed_0_0.cell.nml to cACint209_L23_BTC_3ac7d39218_0_0.cell.nml\n",
      "\tAdded 3 connections from dNAC222_L4_MC_2eb83e1eed_0_0.cell.nml to cNAC187_L23_BTC_eb8366ca09_0_0.cell.nml\n",
      "\tAdded 3 connections from dNAC222_L4_MC_2eb83e1eed_0_0.cell.nml to bNAC219_L23_BTC_f83ba90238_0_0.cell.nml\n",
      "\tAdded 3 connections from dNAC222_L4_MC_2eb83e1eed_0_0.cell.nml to bNAC219_L23_BTC_38a5da4025_0_0.cell.nml\n",
      "\tAdded 3 connections from dNAC222_L4_MC_2eb83e1eed_0_0.cell.nml to bNAC219_L23_BTC_08c8d4004b_0_0.cell.nml\n",
      "\tAdded 15 connections from dNAC222_L4_MC_2eb83e1eed_0_0.cell.nml to cACint209_L23_BTC_59062d6e7d_0_0.cell.nml\n",
      "\tAdded 3 connections from dNAC222_L4_MC_2eb83e1eed_0_0.cell.nml to cNAC187_L23_BTC_b7a569ac13_0_0.cell.nml\n",
      "\tAdded 6 connections from dNAC222_L4_MC_2eb83e1eed_0_0.cell.nml to cACint209_L23_BTC_c745595fbe_0_0.cell.nml\n",
      "\tAdded 3 connections from dNAC222_L4_MC_2eb83e1eed_0_0.cell.nml to bAC217_L23_BTC_e561810e0d_0_0.cell.nml\n",
      "\tAdded 3 connections from dNAC222_L4_MC_2eb83e1eed_0_0.cell.nml to bIR215_L23_BTC_e051419629_0_0.cell.nml\n",
      "\tAdded 3 connections from dNAC222_L4_MC_2eb83e1eed_0_0.cell.nml to bIR215_L23_BTC_fcf6c1f59c_0_0.cell.nml\n",
      "\tAdded 4 connections from cNAC187_L4_MC_8a4a02932c_0_0.cell.nml to cACint209_L23_BTC_acb33d4029_0_0.cell.nml\n",
      "\tAdded 2 connections from cNAC187_L4_MC_8a4a02932c_0_0.cell.nml to bIR215_L23_BTC_b7a569ac13_0_0.cell.nml\n",
      "\tAdded 14 connections from cNAC187_L4_MC_8a4a02932c_0_0.cell.nml to cACint209_L23_BTC_4f730ef7d0_0_0.cell.nml\n",
      "\tAdded 4 connections from cNAC187_L4_MC_8a4a02932c_0_0.cell.nml to bAC217_L23_BTC_d9b97f1242_0_0.cell.nml\n",
      "\tAdded 2 connections from cNAC187_L4_MC_8a4a02932c_0_0.cell.nml to bAC217_L23_BTC_9ad0430657_0_0.cell.nml\n",
      "\tAdded 4 connections from cNAC187_L4_MC_8a4a02932c_0_0.cell.nml to cNAC187_L23_BTC_9deeb00a62_0_0.cell.nml\n",
      "\tAdded 2 connections from cNAC187_L4_MC_8a4a02932c_0_0.cell.nml to bAC217_L23_BTC_e5d9eb2ec3_0_0.cell.nml\n",
      "\tAdded 4 connections from cNAC187_L4_MC_8a4a02932c_0_0.cell.nml to cNAC187_L23_BTC_9902cd4960_0_0.cell.nml\n",
      "\tAdded 4 connections from cNAC187_L4_MC_8a4a02932c_0_0.cell.nml to bNAC219_L23_BTC_07c7c10a30_0_0.cell.nml\n",
      "\tAdded 2 connections from cNAC187_L4_MC_8a4a02932c_0_0.cell.nml to cNAC187_L23_BTC_13a502998f_0_0.cell.nml\n",
      "\tAdded 10 connections from cNAC187_L4_MC_8a4a02932c_0_0.cell.nml to cACint209_L23_BTC_3ac7d39218_0_0.cell.nml\n",
      "\tAdded 2 connections from cNAC187_L4_MC_8a4a02932c_0_0.cell.nml to cNAC187_L23_BTC_eb8366ca09_0_0.cell.nml\n",
      "\tAdded 2 connections from cNAC187_L4_MC_8a4a02932c_0_0.cell.nml to bNAC219_L23_BTC_f83ba90238_0_0.cell.nml\n",
      "\tAdded 2 connections from cNAC187_L4_MC_8a4a02932c_0_0.cell.nml to bNAC219_L23_BTC_38a5da4025_0_0.cell.nml\n",
      "\tAdded 2 connections from cNAC187_L4_MC_8a4a02932c_0_0.cell.nml to bNAC219_L23_BTC_08c8d4004b_0_0.cell.nml\n",
      "\tAdded 10 connections from cNAC187_L4_MC_8a4a02932c_0_0.cell.nml to cACint209_L23_BTC_59062d6e7d_0_0.cell.nml\n",
      "\tAdded 2 connections from cNAC187_L4_MC_8a4a02932c_0_0.cell.nml to cNAC187_L23_BTC_b7a569ac13_0_0.cell.nml\n",
      "\tAdded 4 connections from cNAC187_L4_MC_8a4a02932c_0_0.cell.nml to cACint209_L23_BTC_c745595fbe_0_0.cell.nml\n",
      "\tAdded 2 connections from cNAC187_L4_MC_8a4a02932c_0_0.cell.nml to bAC217_L23_BTC_e561810e0d_0_0.cell.nml\n",
      "\tAdded 2 connections from cNAC187_L4_MC_8a4a02932c_0_0.cell.nml to bIR215_L23_BTC_e051419629_0_0.cell.nml\n",
      "\tAdded 2 connections from cNAC187_L4_MC_8a4a02932c_0_0.cell.nml to bIR215_L23_BTC_fcf6c1f59c_0_0.cell.nml\n",
      "\tAdded 8 connections from bNAC219_L4_MC_8a4a02932c_0_0.cell.nml to cACint209_L23_BTC_acb33d4029_0_0.cell.nml\n",
      "\tAdded 4 connections from bNAC219_L4_MC_8a4a02932c_0_0.cell.nml to bIR215_L23_BTC_b7a569ac13_0_0.cell.nml\n",
      "\tAdded 28 connections from bNAC219_L4_MC_8a4a02932c_0_0.cell.nml to cACint209_L23_BTC_4f730ef7d0_0_0.cell.nml\n",
      "\tAdded 8 connections from bNAC219_L4_MC_8a4a02932c_0_0.cell.nml to bAC217_L23_BTC_d9b97f1242_0_0.cell.nml\n",
      "\tAdded 4 connections from bNAC219_L4_MC_8a4a02932c_0_0.cell.nml to bAC217_L23_BTC_9ad0430657_0_0.cell.nml\n",
      "\tAdded 8 connections from bNAC219_L4_MC_8a4a02932c_0_0.cell.nml to cNAC187_L23_BTC_9deeb00a62_0_0.cell.nml\n",
      "\tAdded 4 connections from bNAC219_L4_MC_8a4a02932c_0_0.cell.nml to bAC217_L23_BTC_e5d9eb2ec3_0_0.cell.nml\n",
      "\tAdded 8 connections from bNAC219_L4_MC_8a4a02932c_0_0.cell.nml to cNAC187_L23_BTC_9902cd4960_0_0.cell.nml\n",
      "\tAdded 8 connections from bNAC219_L4_MC_8a4a02932c_0_0.cell.nml to bNAC219_L23_BTC_07c7c10a30_0_0.cell.nml\n",
      "\tAdded 4 connections from bNAC219_L4_MC_8a4a02932c_0_0.cell.nml to cNAC187_L23_BTC_13a502998f_0_0.cell.nml\n",
      "\tAdded 20 connections from bNAC219_L4_MC_8a4a02932c_0_0.cell.nml to cACint209_L23_BTC_3ac7d39218_0_0.cell.nml\n",
      "\tAdded 4 connections from bNAC219_L4_MC_8a4a02932c_0_0.cell.nml to cNAC187_L23_BTC_eb8366ca09_0_0.cell.nml\n",
      "\tAdded 4 connections from bNAC219_L4_MC_8a4a02932c_0_0.cell.nml to bNAC219_L23_BTC_f83ba90238_0_0.cell.nml\n",
      "\tAdded 4 connections from bNAC219_L4_MC_8a4a02932c_0_0.cell.nml to bNAC219_L23_BTC_38a5da4025_0_0.cell.nml\n",
      "\tAdded 4 connections from bNAC219_L4_MC_8a4a02932c_0_0.cell.nml to bNAC219_L23_BTC_08c8d4004b_0_0.cell.nml\n",
      "\tAdded 20 connections from bNAC219_L4_MC_8a4a02932c_0_0.cell.nml to cACint209_L23_BTC_59062d6e7d_0_0.cell.nml\n",
      "\tAdded 4 connections from bNAC219_L4_MC_8a4a02932c_0_0.cell.nml to cNAC187_L23_BTC_b7a569ac13_0_0.cell.nml\n",
      "\tAdded 8 connections from bNAC219_L4_MC_8a4a02932c_0_0.cell.nml to cACint209_L23_BTC_c745595fbe_0_0.cell.nml\n",
      "\tAdded 4 connections from bNAC219_L4_MC_8a4a02932c_0_0.cell.nml to bAC217_L23_BTC_e561810e0d_0_0.cell.nml\n",
      "\tAdded 4 connections from bNAC219_L4_MC_8a4a02932c_0_0.cell.nml to bIR215_L23_BTC_e051419629_0_0.cell.nml\n",
      "\tAdded 4 connections from bNAC219_L4_MC_8a4a02932c_0_0.cell.nml to bIR215_L23_BTC_fcf6c1f59c_0_0.cell.nml\n",
      "\tAdded 4 connections from bAC217_L4_MC_2eb83e1eed_0_0.cell.nml to cACint209_L23_BTC_acb33d4029_0_0.cell.nml\n",
      "\tAdded 2 connections from bAC217_L4_MC_2eb83e1eed_0_0.cell.nml to bIR215_L23_BTC_b7a569ac13_0_0.cell.nml\n",
      "\tAdded 14 connections from bAC217_L4_MC_2eb83e1eed_0_0.cell.nml to cACint209_L23_BTC_4f730ef7d0_0_0.cell.nml\n",
      "\tAdded 4 connections from bAC217_L4_MC_2eb83e1eed_0_0.cell.nml to bAC217_L23_BTC_d9b97f1242_0_0.cell.nml\n",
      "\tAdded 2 connections from bAC217_L4_MC_2eb83e1eed_0_0.cell.nml to bAC217_L23_BTC_9ad0430657_0_0.cell.nml\n",
      "\tAdded 4 connections from bAC217_L4_MC_2eb83e1eed_0_0.cell.nml to cNAC187_L23_BTC_9deeb00a62_0_0.cell.nml\n",
      "\tAdded 2 connections from bAC217_L4_MC_2eb83e1eed_0_0.cell.nml to bAC217_L23_BTC_e5d9eb2ec3_0_0.cell.nml\n",
      "\tAdded 4 connections from bAC217_L4_MC_2eb83e1eed_0_0.cell.nml to cNAC187_L23_BTC_9902cd4960_0_0.cell.nml\n",
      "\tAdded 4 connections from bAC217_L4_MC_2eb83e1eed_0_0.cell.nml to bNAC219_L23_BTC_07c7c10a30_0_0.cell.nml\n",
      "\tAdded 2 connections from bAC217_L4_MC_2eb83e1eed_0_0.cell.nml to cNAC187_L23_BTC_13a502998f_0_0.cell.nml\n",
      "\tAdded 10 connections from bAC217_L4_MC_2eb83e1eed_0_0.cell.nml to cACint209_L23_BTC_3ac7d39218_0_0.cell.nml\n",
      "\tAdded 2 connections from bAC217_L4_MC_2eb83e1eed_0_0.cell.nml to cNAC187_L23_BTC_eb8366ca09_0_0.cell.nml\n",
      "\tAdded 2 connections from bAC217_L4_MC_2eb83e1eed_0_0.cell.nml to bNAC219_L23_BTC_f83ba90238_0_0.cell.nml\n",
      "\tAdded 2 connections from bAC217_L4_MC_2eb83e1eed_0_0.cell.nml to bNAC219_L23_BTC_38a5da4025_0_0.cell.nml\n",
      "\tAdded 2 connections from bAC217_L4_MC_2eb83e1eed_0_0.cell.nml to bNAC219_L23_BTC_08c8d4004b_0_0.cell.nml\n",
      "\tAdded 10 connections from bAC217_L4_MC_2eb83e1eed_0_0.cell.nml to cACint209_L23_BTC_59062d6e7d_0_0.cell.nml\n",
      "\tAdded 2 connections from bAC217_L4_MC_2eb83e1eed_0_0.cell.nml to cNAC187_L23_BTC_b7a569ac13_0_0.cell.nml\n",
      "\tAdded 4 connections from bAC217_L4_MC_2eb83e1eed_0_0.cell.nml to cACint209_L23_BTC_c745595fbe_0_0.cell.nml\n",
      "\tAdded 2 connections from bAC217_L4_MC_2eb83e1eed_0_0.cell.nml to bAC217_L23_BTC_e561810e0d_0_0.cell.nml\n",
      "\tAdded 2 connections from bAC217_L4_MC_2eb83e1eed_0_0.cell.nml to bIR215_L23_BTC_e051419629_0_0.cell.nml\n",
      "\tAdded 2 connections from bAC217_L4_MC_2eb83e1eed_0_0.cell.nml to bIR215_L23_BTC_fcf6c1f59c_0_0.cell.nml\n",
      "\tAdded 4 connections from bNAC219_L4_MC_29457dde26_0_0.cell.nml to cACint209_L23_BTC_acb33d4029_0_0.cell.nml\n",
      "\tAdded 2 connections from bNAC219_L4_MC_29457dde26_0_0.cell.nml to bIR215_L23_BTC_b7a569ac13_0_0.cell.nml\n",
      "\tAdded 14 connections from bNAC219_L4_MC_29457dde26_0_0.cell.nml to cACint209_L23_BTC_4f730ef7d0_0_0.cell.nml\n",
      "\tAdded 4 connections from bNAC219_L4_MC_29457dde26_0_0.cell.nml to bAC217_L23_BTC_d9b97f1242_0_0.cell.nml\n",
      "\tAdded 2 connections from bNAC219_L4_MC_29457dde26_0_0.cell.nml to bAC217_L23_BTC_9ad0430657_0_0.cell.nml\n",
      "\tAdded 4 connections from bNAC219_L4_MC_29457dde26_0_0.cell.nml to cNAC187_L23_BTC_9deeb00a62_0_0.cell.nml\n",
      "\tAdded 2 connections from bNAC219_L4_MC_29457dde26_0_0.cell.nml to bAC217_L23_BTC_e5d9eb2ec3_0_0.cell.nml\n",
      "\tAdded 4 connections from bNAC219_L4_MC_29457dde26_0_0.cell.nml to cNAC187_L23_BTC_9902cd4960_0_0.cell.nml\n",
      "\tAdded 4 connections from bNAC219_L4_MC_29457dde26_0_0.cell.nml to bNAC219_L23_BTC_07c7c10a30_0_0.cell.nml\n",
      "\tAdded 2 connections from bNAC219_L4_MC_29457dde26_0_0.cell.nml to cNAC187_L23_BTC_13a502998f_0_0.cell.nml\n",
      "\tAdded 10 connections from bNAC219_L4_MC_29457dde26_0_0.cell.nml to cACint209_L23_BTC_3ac7d39218_0_0.cell.nml\n",
      "\tAdded 2 connections from bNAC219_L4_MC_29457dde26_0_0.cell.nml to cNAC187_L23_BTC_eb8366ca09_0_0.cell.nml\n",
      "\tAdded 2 connections from bNAC219_L4_MC_29457dde26_0_0.cell.nml to bNAC219_L23_BTC_f83ba90238_0_0.cell.nml\n",
      "\tAdded 2 connections from bNAC219_L4_MC_29457dde26_0_0.cell.nml to bNAC219_L23_BTC_38a5da4025_0_0.cell.nml\n",
      "\tAdded 2 connections from bNAC219_L4_MC_29457dde26_0_0.cell.nml to bNAC219_L23_BTC_08c8d4004b_0_0.cell.nml\n",
      "\tAdded 10 connections from bNAC219_L4_MC_29457dde26_0_0.cell.nml to cACint209_L23_BTC_59062d6e7d_0_0.cell.nml\n",
      "\tAdded 2 connections from bNAC219_L4_MC_29457dde26_0_0.cell.nml to cNAC187_L23_BTC_b7a569ac13_0_0.cell.nml\n",
      "\tAdded 4 connections from bNAC219_L4_MC_29457dde26_0_0.cell.nml to cACint209_L23_BTC_c745595fbe_0_0.cell.nml\n",
      "\tAdded 2 connections from bNAC219_L4_MC_29457dde26_0_0.cell.nml to bAC217_L23_BTC_e561810e0d_0_0.cell.nml\n",
      "\tAdded 2 connections from bNAC219_L4_MC_29457dde26_0_0.cell.nml to bIR215_L23_BTC_e051419629_0_0.cell.nml\n",
      "\tAdded 2 connections from bNAC219_L4_MC_29457dde26_0_0.cell.nml to bIR215_L23_BTC_fcf6c1f59c_0_0.cell.nml\n",
      "\tAdded 4 connections from bAC217_L4_MC_5fa0a62bd0_0_0.cell.nml to cACint209_L23_BTC_acb33d4029_0_0.cell.nml\n",
      "\tAdded 2 connections from bAC217_L4_MC_5fa0a62bd0_0_0.cell.nml to bIR215_L23_BTC_b7a569ac13_0_0.cell.nml\n",
      "\tAdded 14 connections from bAC217_L4_MC_5fa0a62bd0_0_0.cell.nml to cACint209_L23_BTC_4f730ef7d0_0_0.cell.nml\n",
      "\tAdded 4 connections from bAC217_L4_MC_5fa0a62bd0_0_0.cell.nml to bAC217_L23_BTC_d9b97f1242_0_0.cell.nml\n",
      "\tAdded 2 connections from bAC217_L4_MC_5fa0a62bd0_0_0.cell.nml to bAC217_L23_BTC_9ad0430657_0_0.cell.nml\n",
      "\tAdded 4 connections from bAC217_L4_MC_5fa0a62bd0_0_0.cell.nml to cNAC187_L23_BTC_9deeb00a62_0_0.cell.nml\n",
      "\tAdded 2 connections from bAC217_L4_MC_5fa0a62bd0_0_0.cell.nml to bAC217_L23_BTC_e5d9eb2ec3_0_0.cell.nml\n",
      "\tAdded 4 connections from bAC217_L4_MC_5fa0a62bd0_0_0.cell.nml to cNAC187_L23_BTC_9902cd4960_0_0.cell.nml\n",
      "\tAdded 4 connections from bAC217_L4_MC_5fa0a62bd0_0_0.cell.nml to bNAC219_L23_BTC_07c7c10a30_0_0.cell.nml\n",
      "\tAdded 2 connections from bAC217_L4_MC_5fa0a62bd0_0_0.cell.nml to cNAC187_L23_BTC_13a502998f_0_0.cell.nml\n",
      "\tAdded 10 connections from bAC217_L4_MC_5fa0a62bd0_0_0.cell.nml to cACint209_L23_BTC_3ac7d39218_0_0.cell.nml\n",
      "\tAdded 2 connections from bAC217_L4_MC_5fa0a62bd0_0_0.cell.nml to cNAC187_L23_BTC_eb8366ca09_0_0.cell.nml\n",
      "\tAdded 2 connections from bAC217_L4_MC_5fa0a62bd0_0_0.cell.nml to bNAC219_L23_BTC_f83ba90238_0_0.cell.nml\n",
      "\tAdded 2 connections from bAC217_L4_MC_5fa0a62bd0_0_0.cell.nml to bNAC219_L23_BTC_38a5da4025_0_0.cell.nml\n",
      "\tAdded 2 connections from bAC217_L4_MC_5fa0a62bd0_0_0.cell.nml to bNAC219_L23_BTC_08c8d4004b_0_0.cell.nml\n",
      "\tAdded 10 connections from bAC217_L4_MC_5fa0a62bd0_0_0.cell.nml to cACint209_L23_BTC_59062d6e7d_0_0.cell.nml\n",
      "\tAdded 2 connections from bAC217_L4_MC_5fa0a62bd0_0_0.cell.nml to cNAC187_L23_BTC_b7a569ac13_0_0.cell.nml\n",
      "\tAdded 4 connections from bAC217_L4_MC_5fa0a62bd0_0_0.cell.nml to cACint209_L23_BTC_c745595fbe_0_0.cell.nml\n",
      "\tAdded 2 connections from bAC217_L4_MC_5fa0a62bd0_0_0.cell.nml to bAC217_L23_BTC_e561810e0d_0_0.cell.nml\n",
      "\tAdded 2 connections from bAC217_L4_MC_5fa0a62bd0_0_0.cell.nml to bIR215_L23_BTC_e051419629_0_0.cell.nml\n",
      "\tAdded 2 connections from bAC217_L4_MC_5fa0a62bd0_0_0.cell.nml to bIR215_L23_BTC_fcf6c1f59c_0_0.cell.nml\n",
      "\tAdded 4 connections from bNAC219_L4_MC_5fa0a62bd0_0_0.cell.nml to cACint209_L23_BTC_acb33d4029_0_0.cell.nml\n",
      "\tAdded 2 connections from bNAC219_L4_MC_5fa0a62bd0_0_0.cell.nml to bIR215_L23_BTC_b7a569ac13_0_0.cell.nml\n",
      "\tAdded 14 connections from bNAC219_L4_MC_5fa0a62bd0_0_0.cell.nml to cACint209_L23_BTC_4f730ef7d0_0_0.cell.nml\n",
      "\tAdded 4 connections from bNAC219_L4_MC_5fa0a62bd0_0_0.cell.nml to bAC217_L23_BTC_d9b97f1242_0_0.cell.nml\n",
      "\tAdded 2 connections from bNAC219_L4_MC_5fa0a62bd0_0_0.cell.nml to bAC217_L23_BTC_9ad0430657_0_0.cell.nml\n",
      "\tAdded 4 connections from bNAC219_L4_MC_5fa0a62bd0_0_0.cell.nml to cNAC187_L23_BTC_9deeb00a62_0_0.cell.nml\n",
      "\tAdded 2 connections from bNAC219_L4_MC_5fa0a62bd0_0_0.cell.nml to bAC217_L23_BTC_e5d9eb2ec3_0_0.cell.nml\n",
      "\tAdded 4 connections from bNAC219_L4_MC_5fa0a62bd0_0_0.cell.nml to cNAC187_L23_BTC_9902cd4960_0_0.cell.nml\n",
      "\tAdded 4 connections from bNAC219_L4_MC_5fa0a62bd0_0_0.cell.nml to bNAC219_L23_BTC_07c7c10a30_0_0.cell.nml\n",
      "\tAdded 2 connections from bNAC219_L4_MC_5fa0a62bd0_0_0.cell.nml to cNAC187_L23_BTC_13a502998f_0_0.cell.nml\n",
      "\tAdded 10 connections from bNAC219_L4_MC_5fa0a62bd0_0_0.cell.nml to cACint209_L23_BTC_3ac7d39218_0_0.cell.nml\n",
      "\tAdded 2 connections from bNAC219_L4_MC_5fa0a62bd0_0_0.cell.nml to cNAC187_L23_BTC_eb8366ca09_0_0.cell.nml\n",
      "\tAdded 2 connections from bNAC219_L4_MC_5fa0a62bd0_0_0.cell.nml to bNAC219_L23_BTC_f83ba90238_0_0.cell.nml\n",
      "\tAdded 2 connections from bNAC219_L4_MC_5fa0a62bd0_0_0.cell.nml to bNAC219_L23_BTC_38a5da4025_0_0.cell.nml\n",
      "\tAdded 2 connections from bNAC219_L4_MC_5fa0a62bd0_0_0.cell.nml to bNAC219_L23_BTC_08c8d4004b_0_0.cell.nml\n",
      "\tAdded 10 connections from bNAC219_L4_MC_5fa0a62bd0_0_0.cell.nml to cACint209_L23_BTC_59062d6e7d_0_0.cell.nml\n",
      "\tAdded 2 connections from bNAC219_L4_MC_5fa0a62bd0_0_0.cell.nml to cNAC187_L23_BTC_b7a569ac13_0_0.cell.nml\n",
      "\tAdded 4 connections from bNAC219_L4_MC_5fa0a62bd0_0_0.cell.nml to cACint209_L23_BTC_c745595fbe_0_0.cell.nml\n",
      "\tAdded 2 connections from bNAC219_L4_MC_5fa0a62bd0_0_0.cell.nml to bAC217_L23_BTC_e561810e0d_0_0.cell.nml\n",
      "\tAdded 2 connections from bNAC219_L4_MC_5fa0a62bd0_0_0.cell.nml to bIR215_L23_BTC_e051419629_0_0.cell.nml\n",
      "\tAdded 2 connections from bNAC219_L4_MC_5fa0a62bd0_0_0.cell.nml to bIR215_L23_BTC_fcf6c1f59c_0_0.cell.nml\n",
      "\tAdded 2 connections from dNAC222_L4_MC_8a4a02932c_0_0.cell.nml to cACint209_L23_BTC_acb33d4029_0_0.cell.nml\n",
      "\tAdded 1 connections from dNAC222_L4_MC_8a4a02932c_0_0.cell.nml to bIR215_L23_BTC_b7a569ac13_0_0.cell.nml\n",
      "\tAdded 7 connections from dNAC222_L4_MC_8a4a02932c_0_0.cell.nml to cACint209_L23_BTC_4f730ef7d0_0_0.cell.nml\n",
      "\tAdded 2 connections from dNAC222_L4_MC_8a4a02932c_0_0.cell.nml to bAC217_L23_BTC_d9b97f1242_0_0.cell.nml\n",
      "\tAdded 1 connections from dNAC222_L4_MC_8a4a02932c_0_0.cell.nml to bAC217_L23_BTC_9ad0430657_0_0.cell.nml\n",
      "\tAdded 2 connections from dNAC222_L4_MC_8a4a02932c_0_0.cell.nml to cNAC187_L23_BTC_9deeb00a62_0_0.cell.nml\n",
      "\tAdded 1 connections from dNAC222_L4_MC_8a4a02932c_0_0.cell.nml to bAC217_L23_BTC_e5d9eb2ec3_0_0.cell.nml\n",
      "\tAdded 2 connections from dNAC222_L4_MC_8a4a02932c_0_0.cell.nml to cNAC187_L23_BTC_9902cd4960_0_0.cell.nml\n",
      "\tAdded 2 connections from dNAC222_L4_MC_8a4a02932c_0_0.cell.nml to bNAC219_L23_BTC_07c7c10a30_0_0.cell.nml\n",
      "\tAdded 1 connections from dNAC222_L4_MC_8a4a02932c_0_0.cell.nml to cNAC187_L23_BTC_13a502998f_0_0.cell.nml\n",
      "\tAdded 5 connections from dNAC222_L4_MC_8a4a02932c_0_0.cell.nml to cACint209_L23_BTC_3ac7d39218_0_0.cell.nml\n",
      "\tAdded 1 connections from dNAC222_L4_MC_8a4a02932c_0_0.cell.nml to cNAC187_L23_BTC_eb8366ca09_0_0.cell.nml\n",
      "\tAdded 1 connections from dNAC222_L4_MC_8a4a02932c_0_0.cell.nml to bNAC219_L23_BTC_f83ba90238_0_0.cell.nml\n",
      "\tAdded 1 connections from dNAC222_L4_MC_8a4a02932c_0_0.cell.nml to bNAC219_L23_BTC_38a5da4025_0_0.cell.nml\n",
      "\tAdded 1 connections from dNAC222_L4_MC_8a4a02932c_0_0.cell.nml to bNAC219_L23_BTC_08c8d4004b_0_0.cell.nml\n",
      "\tAdded 5 connections from dNAC222_L4_MC_8a4a02932c_0_0.cell.nml to cACint209_L23_BTC_59062d6e7d_0_0.cell.nml\n",
      "\tAdded 1 connections from dNAC222_L4_MC_8a4a02932c_0_0.cell.nml to cNAC187_L23_BTC_b7a569ac13_0_0.cell.nml\n",
      "\tAdded 2 connections from dNAC222_L4_MC_8a4a02932c_0_0.cell.nml to cACint209_L23_BTC_c745595fbe_0_0.cell.nml\n",
      "\tAdded 1 connections from dNAC222_L4_MC_8a4a02932c_0_0.cell.nml to bAC217_L23_BTC_e561810e0d_0_0.cell.nml\n",
      "\tAdded 1 connections from dNAC222_L4_MC_8a4a02932c_0_0.cell.nml to bIR215_L23_BTC_e051419629_0_0.cell.nml\n",
      "\tAdded 1 connections from dNAC222_L4_MC_8a4a02932c_0_0.cell.nml to bIR215_L23_BTC_fcf6c1f59c_0_0.cell.nml\n",
      "\tAdded 15 connections from cNAC187_L23_MC_44b474bb8f_0_0.cell.nml to bNAC219_L1_SLAC_9f043bb71a_0_0.cell.nml\n",
      "\tAdded 40 connections from cNAC187_L23_MC_44b474bb8f_0_0.cell.nml to cNAC187_L1_SLAC_16735ed026_0_0.cell.nml\n",
      "\tAdded 10 connections from cNAC187_L23_MC_44b474bb8f_0_0.cell.nml to bNAC219_L1_SLAC_bb26216f9f_0_0.cell.nml\n",
      "\tAdded 25 connections from cNAC187_L23_MC_44b474bb8f_0_0.cell.nml to cNAC187_L1_SLAC_26e7460577_0_0.cell.nml\n",
      "\tAdded 15 connections from cNAC187_L23_MC_44b474bb8f_0_0.cell.nml to cACint209_L1_SLAC_9fb2ec760b_0_0.cell.nml\n",
      "\tAdded 25 connections from cNAC187_L23_MC_44b474bb8f_0_0.cell.nml to cNAC187_L1_SLAC_3759bf3d94_0_0.cell.nml\n",
      "\tAdded 20 connections from cNAC187_L23_MC_44b474bb8f_0_0.cell.nml to cNAC187_L1_SLAC_9d4b6f19da_0_0.cell.nml\n",
      "\tAdded 30 connections from cNAC187_L23_MC_44b474bb8f_0_0.cell.nml to cNAC187_L1_SLAC_1b78a7b294_0_0.cell.nml\n",
      "\tAdded 20 connections from cNAC187_L23_MC_44b474bb8f_0_0.cell.nml to bNAC219_L1_SLAC_d22d584760_0_0.cell.nml\n",
      "\tAdded 5 connections from cNAC187_L23_MC_44b474bb8f_0_0.cell.nml to bNAC219_L1_SLAC_1aa0a09b13_0_0.cell.nml\n",
      "\tAdded 36 connections from cACint209_L23_MC_3303d0ff68_0_0.cell.nml to bNAC219_L1_SLAC_9f043bb71a_0_0.cell.nml\n",
      "\tAdded 96 connections from cACint209_L23_MC_3303d0ff68_0_0.cell.nml to cNAC187_L1_SLAC_16735ed026_0_0.cell.nml\n",
      "\tAdded 24 connections from cACint209_L23_MC_3303d0ff68_0_0.cell.nml to bNAC219_L1_SLAC_bb26216f9f_0_0.cell.nml\n",
      "\tAdded 60 connections from cACint209_L23_MC_3303d0ff68_0_0.cell.nml to cNAC187_L1_SLAC_26e7460577_0_0.cell.nml\n",
      "\tAdded 36 connections from cACint209_L23_MC_3303d0ff68_0_0.cell.nml to cACint209_L1_SLAC_9fb2ec760b_0_0.cell.nml\n",
      "\tAdded 60 connections from cACint209_L23_MC_3303d0ff68_0_0.cell.nml to cNAC187_L1_SLAC_3759bf3d94_0_0.cell.nml\n",
      "\tAdded 48 connections from cACint209_L23_MC_3303d0ff68_0_0.cell.nml to cNAC187_L1_SLAC_9d4b6f19da_0_0.cell.nml\n",
      "\tAdded 72 connections from cACint209_L23_MC_3303d0ff68_0_0.cell.nml to cNAC187_L1_SLAC_1b78a7b294_0_0.cell.nml\n",
      "\tAdded 48 connections from cACint209_L23_MC_3303d0ff68_0_0.cell.nml to bNAC219_L1_SLAC_d22d584760_0_0.cell.nml\n",
      "\tAdded 12 connections from cACint209_L23_MC_3303d0ff68_0_0.cell.nml to bNAC219_L1_SLAC_1aa0a09b13_0_0.cell.nml\n",
      "\tAdded 33 connections from cACint209_L23_MC_31f333a601_0_0.cell.nml to bNAC219_L1_SLAC_9f043bb71a_0_0.cell.nml\n",
      "\tAdded 88 connections from cACint209_L23_MC_31f333a601_0_0.cell.nml to cNAC187_L1_SLAC_16735ed026_0_0.cell.nml\n",
      "\tAdded 22 connections from cACint209_L23_MC_31f333a601_0_0.cell.nml to bNAC219_L1_SLAC_bb26216f9f_0_0.cell.nml\n",
      "\tAdded 55 connections from cACint209_L23_MC_31f333a601_0_0.cell.nml to cNAC187_L1_SLAC_26e7460577_0_0.cell.nml\n",
      "\tAdded 33 connections from cACint209_L23_MC_31f333a601_0_0.cell.nml to cACint209_L1_SLAC_9fb2ec760b_0_0.cell.nml\n",
      "\tAdded 55 connections from cACint209_L23_MC_31f333a601_0_0.cell.nml to cNAC187_L1_SLAC_3759bf3d94_0_0.cell.nml\n",
      "\tAdded 44 connections from cACint209_L23_MC_31f333a601_0_0.cell.nml to cNAC187_L1_SLAC_9d4b6f19da_0_0.cell.nml\n",
      "\tAdded 66 connections from cACint209_L23_MC_31f333a601_0_0.cell.nml to cNAC187_L1_SLAC_1b78a7b294_0_0.cell.nml\n",
      "\tAdded 44 connections from cACint209_L23_MC_31f333a601_0_0.cell.nml to bNAC219_L1_SLAC_d22d584760_0_0.cell.nml\n",
      "\tAdded 11 connections from cACint209_L23_MC_31f333a601_0_0.cell.nml to bNAC219_L1_SLAC_1aa0a09b13_0_0.cell.nml\n",
      "\tAdded 18 connections from cNAC187_L23_MC_3110386c07_0_0.cell.nml to bNAC219_L1_SLAC_9f043bb71a_0_0.cell.nml\n",
      "\tAdded 48 connections from cNAC187_L23_MC_3110386c07_0_0.cell.nml to cNAC187_L1_SLAC_16735ed026_0_0.cell.nml\n",
      "\tAdded 12 connections from cNAC187_L23_MC_3110386c07_0_0.cell.nml to bNAC219_L1_SLAC_bb26216f9f_0_0.cell.nml\n",
      "\tAdded 30 connections from cNAC187_L23_MC_3110386c07_0_0.cell.nml to cNAC187_L1_SLAC_26e7460577_0_0.cell.nml\n",
      "\tAdded 18 connections from cNAC187_L23_MC_3110386c07_0_0.cell.nml to cACint209_L1_SLAC_9fb2ec760b_0_0.cell.nml\n",
      "\tAdded 30 connections from cNAC187_L23_MC_3110386c07_0_0.cell.nml to cNAC187_L1_SLAC_3759bf3d94_0_0.cell.nml\n",
      "\tAdded 24 connections from cNAC187_L23_MC_3110386c07_0_0.cell.nml to cNAC187_L1_SLAC_9d4b6f19da_0_0.cell.nml\n",
      "\tAdded 36 connections from cNAC187_L23_MC_3110386c07_0_0.cell.nml to cNAC187_L1_SLAC_1b78a7b294_0_0.cell.nml\n",
      "\tAdded 24 connections from cNAC187_L23_MC_3110386c07_0_0.cell.nml to bNAC219_L1_SLAC_d22d584760_0_0.cell.nml\n",
      "\tAdded 6 connections from cNAC187_L23_MC_3110386c07_0_0.cell.nml to bNAC219_L1_SLAC_1aa0a09b13_0_0.cell.nml\n",
      "\tAdded 9 connections from dNAC222_L23_MC_55e4a7c88f_0_0.cell.nml to bNAC219_L1_SLAC_9f043bb71a_0_0.cell.nml\n",
      "\tAdded 24 connections from dNAC222_L23_MC_55e4a7c88f_0_0.cell.nml to cNAC187_L1_SLAC_16735ed026_0_0.cell.nml\n",
      "\tAdded 6 connections from dNAC222_L23_MC_55e4a7c88f_0_0.cell.nml to bNAC219_L1_SLAC_bb26216f9f_0_0.cell.nml\n",
      "\tAdded 15 connections from dNAC222_L23_MC_55e4a7c88f_0_0.cell.nml to cNAC187_L1_SLAC_26e7460577_0_0.cell.nml\n",
      "\tAdded 9 connections from dNAC222_L23_MC_55e4a7c88f_0_0.cell.nml to cACint209_L1_SLAC_9fb2ec760b_0_0.cell.nml\n",
      "\tAdded 15 connections from dNAC222_L23_MC_55e4a7c88f_0_0.cell.nml to cNAC187_L1_SLAC_3759bf3d94_0_0.cell.nml\n",
      "\tAdded 12 connections from dNAC222_L23_MC_55e4a7c88f_0_0.cell.nml to cNAC187_L1_SLAC_9d4b6f19da_0_0.cell.nml\n",
      "\tAdded 18 connections from dNAC222_L23_MC_55e4a7c88f_0_0.cell.nml to cNAC187_L1_SLAC_1b78a7b294_0_0.cell.nml\n",
      "\tAdded 12 connections from dNAC222_L23_MC_55e4a7c88f_0_0.cell.nml to bNAC219_L1_SLAC_d22d584760_0_0.cell.nml\n",
      "\tAdded 3 connections from dNAC222_L23_MC_55e4a7c88f_0_0.cell.nml to bNAC219_L1_SLAC_1aa0a09b13_0_0.cell.nml\n",
      "\tAdded 54 connections from cACint209_L23_MC_55e4a7c88f_0_0.cell.nml to bNAC219_L1_SLAC_9f043bb71a_0_0.cell.nml\n",
      "\tAdded 144 connections from cACint209_L23_MC_55e4a7c88f_0_0.cell.nml to cNAC187_L1_SLAC_16735ed026_0_0.cell.nml\n",
      "\tAdded 36 connections from cACint209_L23_MC_55e4a7c88f_0_0.cell.nml to bNAC219_L1_SLAC_bb26216f9f_0_0.cell.nml\n",
      "\tAdded 90 connections from cACint209_L23_MC_55e4a7c88f_0_0.cell.nml to cNAC187_L1_SLAC_26e7460577_0_0.cell.nml\n",
      "\tAdded 54 connections from cACint209_L23_MC_55e4a7c88f_0_0.cell.nml to cACint209_L1_SLAC_9fb2ec760b_0_0.cell.nml\n",
      "\tAdded 90 connections from cACint209_L23_MC_55e4a7c88f_0_0.cell.nml to cNAC187_L1_SLAC_3759bf3d94_0_0.cell.nml\n",
      "\tAdded 72 connections from cACint209_L23_MC_55e4a7c88f_0_0.cell.nml to cNAC187_L1_SLAC_9d4b6f19da_0_0.cell.nml\n",
      "\tAdded 108 connections from cACint209_L23_MC_55e4a7c88f_0_0.cell.nml to cNAC187_L1_SLAC_1b78a7b294_0_0.cell.nml\n",
      "\tAdded 72 connections from cACint209_L23_MC_55e4a7c88f_0_0.cell.nml to bNAC219_L1_SLAC_d22d584760_0_0.cell.nml\n",
      "\tAdded 18 connections from cACint209_L23_MC_55e4a7c88f_0_0.cell.nml to bNAC219_L1_SLAC_1aa0a09b13_0_0.cell.nml\n",
      "\tAdded 12 connections from cNAC187_L23_MC_2c0a7badf4_0_0.cell.nml to bNAC219_L1_SLAC_9f043bb71a_0_0.cell.nml\n",
      "\tAdded 32 connections from cNAC187_L23_MC_2c0a7badf4_0_0.cell.nml to cNAC187_L1_SLAC_16735ed026_0_0.cell.nml\n",
      "\tAdded 8 connections from cNAC187_L23_MC_2c0a7badf4_0_0.cell.nml to bNAC219_L1_SLAC_bb26216f9f_0_0.cell.nml\n",
      "\tAdded 20 connections from cNAC187_L23_MC_2c0a7badf4_0_0.cell.nml to cNAC187_L1_SLAC_26e7460577_0_0.cell.nml\n",
      "\tAdded 12 connections from cNAC187_L23_MC_2c0a7badf4_0_0.cell.nml to cACint209_L1_SLAC_9fb2ec760b_0_0.cell.nml\n",
      "\tAdded 20 connections from cNAC187_L23_MC_2c0a7badf4_0_0.cell.nml to cNAC187_L1_SLAC_3759bf3d94_0_0.cell.nml\n",
      "\tAdded 16 connections from cNAC187_L23_MC_2c0a7badf4_0_0.cell.nml to cNAC187_L1_SLAC_9d4b6f19da_0_0.cell.nml\n",
      "\tAdded 24 connections from cNAC187_L23_MC_2c0a7badf4_0_0.cell.nml to cNAC187_L1_SLAC_1b78a7b294_0_0.cell.nml\n",
      "\tAdded 16 connections from cNAC187_L23_MC_2c0a7badf4_0_0.cell.nml to bNAC219_L1_SLAC_d22d584760_0_0.cell.nml\n",
      "\tAdded 4 connections from cNAC187_L23_MC_2c0a7badf4_0_0.cell.nml to bNAC219_L1_SLAC_1aa0a09b13_0_0.cell.nml\n",
      "\tAdded 6 connections from bAC217_L23_MC_44b474bb8f_0_0.cell.nml to bNAC219_L1_SLAC_9f043bb71a_0_0.cell.nml\n",
      "\tAdded 16 connections from bAC217_L23_MC_44b474bb8f_0_0.cell.nml to cNAC187_L1_SLAC_16735ed026_0_0.cell.nml\n",
      "\tAdded 4 connections from bAC217_L23_MC_44b474bb8f_0_0.cell.nml to bNAC219_L1_SLAC_bb26216f9f_0_0.cell.nml\n",
      "\tAdded 10 connections from bAC217_L23_MC_44b474bb8f_0_0.cell.nml to cNAC187_L1_SLAC_26e7460577_0_0.cell.nml\n",
      "\tAdded 6 connections from bAC217_L23_MC_44b474bb8f_0_0.cell.nml to cACint209_L1_SLAC_9fb2ec760b_0_0.cell.nml\n",
      "\tAdded 10 connections from bAC217_L23_MC_44b474bb8f_0_0.cell.nml to cNAC187_L1_SLAC_3759bf3d94_0_0.cell.nml\n",
      "\tAdded 8 connections from bAC217_L23_MC_44b474bb8f_0_0.cell.nml to cNAC187_L1_SLAC_9d4b6f19da_0_0.cell.nml\n",
      "\tAdded 12 connections from bAC217_L23_MC_44b474bb8f_0_0.cell.nml to cNAC187_L1_SLAC_1b78a7b294_0_0.cell.nml\n",
      "\tAdded 8 connections from bAC217_L23_MC_44b474bb8f_0_0.cell.nml to bNAC219_L1_SLAC_d22d584760_0_0.cell.nml\n",
      "\tAdded 2 connections from bAC217_L23_MC_44b474bb8f_0_0.cell.nml to bNAC219_L1_SLAC_1aa0a09b13_0_0.cell.nml\n",
      "\tAdded 9 connections from bNAC219_L23_MC_44b474bb8f_0_0.cell.nml to bNAC219_L1_SLAC_9f043bb71a_0_0.cell.nml\n",
      "\tAdded 24 connections from bNAC219_L23_MC_44b474bb8f_0_0.cell.nml to cNAC187_L1_SLAC_16735ed026_0_0.cell.nml\n",
      "\tAdded 6 connections from bNAC219_L23_MC_44b474bb8f_0_0.cell.nml to bNAC219_L1_SLAC_bb26216f9f_0_0.cell.nml\n",
      "\tAdded 15 connections from bNAC219_L23_MC_44b474bb8f_0_0.cell.nml to cNAC187_L1_SLAC_26e7460577_0_0.cell.nml\n",
      "\tAdded 9 connections from bNAC219_L23_MC_44b474bb8f_0_0.cell.nml to cACint209_L1_SLAC_9fb2ec760b_0_0.cell.nml\n",
      "\tAdded 15 connections from bNAC219_L23_MC_44b474bb8f_0_0.cell.nml to cNAC187_L1_SLAC_3759bf3d94_0_0.cell.nml\n",
      "\tAdded 12 connections from bNAC219_L23_MC_44b474bb8f_0_0.cell.nml to cNAC187_L1_SLAC_9d4b6f19da_0_0.cell.nml\n",
      "\tAdded 18 connections from bNAC219_L23_MC_44b474bb8f_0_0.cell.nml to cNAC187_L1_SLAC_1b78a7b294_0_0.cell.nml\n",
      "\tAdded 12 connections from bNAC219_L23_MC_44b474bb8f_0_0.cell.nml to bNAC219_L1_SLAC_d22d584760_0_0.cell.nml\n",
      "\tAdded 3 connections from bNAC219_L23_MC_44b474bb8f_0_0.cell.nml to bNAC219_L1_SLAC_1aa0a09b13_0_0.cell.nml\n",
      "\tAdded 21 connections from dNAC222_L23_MC_b7a2c9d0ae_0_0.cell.nml to bNAC219_L1_SLAC_9f043bb71a_0_0.cell.nml\n",
      "\tAdded 56 connections from dNAC222_L23_MC_b7a2c9d0ae_0_0.cell.nml to cNAC187_L1_SLAC_16735ed026_0_0.cell.nml\n",
      "\tAdded 14 connections from dNAC222_L23_MC_b7a2c9d0ae_0_0.cell.nml to bNAC219_L1_SLAC_bb26216f9f_0_0.cell.nml\n",
      "\tAdded 35 connections from dNAC222_L23_MC_b7a2c9d0ae_0_0.cell.nml to cNAC187_L1_SLAC_26e7460577_0_0.cell.nml\n",
      "\tAdded 21 connections from dNAC222_L23_MC_b7a2c9d0ae_0_0.cell.nml to cACint209_L1_SLAC_9fb2ec760b_0_0.cell.nml\n",
      "\tAdded 35 connections from dNAC222_L23_MC_b7a2c9d0ae_0_0.cell.nml to cNAC187_L1_SLAC_3759bf3d94_0_0.cell.nml\n",
      "\tAdded 28 connections from dNAC222_L23_MC_b7a2c9d0ae_0_0.cell.nml to cNAC187_L1_SLAC_9d4b6f19da_0_0.cell.nml\n",
      "\tAdded 42 connections from dNAC222_L23_MC_b7a2c9d0ae_0_0.cell.nml to cNAC187_L1_SLAC_1b78a7b294_0_0.cell.nml\n",
      "\tAdded 28 connections from dNAC222_L23_MC_b7a2c9d0ae_0_0.cell.nml to bNAC219_L1_SLAC_d22d584760_0_0.cell.nml\n",
      "\tAdded 7 connections from dNAC222_L23_MC_b7a2c9d0ae_0_0.cell.nml to bNAC219_L1_SLAC_1aa0a09b13_0_0.cell.nml\n",
      "\tAdded 27 connections from cACint209_L23_MC_940ffcbb27_0_0.cell.nml to bNAC219_L1_SLAC_9f043bb71a_0_0.cell.nml\n",
      "\tAdded 72 connections from cACint209_L23_MC_940ffcbb27_0_0.cell.nml to cNAC187_L1_SLAC_16735ed026_0_0.cell.nml\n",
      "\tAdded 18 connections from cACint209_L23_MC_940ffcbb27_0_0.cell.nml to bNAC219_L1_SLAC_bb26216f9f_0_0.cell.nml\n",
      "\tAdded 45 connections from cACint209_L23_MC_940ffcbb27_0_0.cell.nml to cNAC187_L1_SLAC_26e7460577_0_0.cell.nml\n",
      "\tAdded 27 connections from cACint209_L23_MC_940ffcbb27_0_0.cell.nml to cACint209_L1_SLAC_9fb2ec760b_0_0.cell.nml\n",
      "\tAdded 45 connections from cACint209_L23_MC_940ffcbb27_0_0.cell.nml to cNAC187_L1_SLAC_3759bf3d94_0_0.cell.nml\n",
      "\tAdded 36 connections from cACint209_L23_MC_940ffcbb27_0_0.cell.nml to cNAC187_L1_SLAC_9d4b6f19da_0_0.cell.nml\n",
      "\tAdded 54 connections from cACint209_L23_MC_940ffcbb27_0_0.cell.nml to cNAC187_L1_SLAC_1b78a7b294_0_0.cell.nml\n",
      "\tAdded 36 connections from cACint209_L23_MC_940ffcbb27_0_0.cell.nml to bNAC219_L1_SLAC_d22d584760_0_0.cell.nml\n",
      "\tAdded 9 connections from cACint209_L23_MC_940ffcbb27_0_0.cell.nml to bNAC219_L1_SLAC_1aa0a09b13_0_0.cell.nml\n",
      "\tAdded 21 connections from dNAC222_L23_MC_940ffcbb27_0_0.cell.nml to bNAC219_L1_SLAC_9f043bb71a_0_0.cell.nml\n",
      "\tAdded 56 connections from dNAC222_L23_MC_940ffcbb27_0_0.cell.nml to cNAC187_L1_SLAC_16735ed026_0_0.cell.nml\n",
      "\tAdded 14 connections from dNAC222_L23_MC_940ffcbb27_0_0.cell.nml to bNAC219_L1_SLAC_bb26216f9f_0_0.cell.nml\n",
      "\tAdded 35 connections from dNAC222_L23_MC_940ffcbb27_0_0.cell.nml to cNAC187_L1_SLAC_26e7460577_0_0.cell.nml\n",
      "\tAdded 21 connections from dNAC222_L23_MC_940ffcbb27_0_0.cell.nml to cACint209_L1_SLAC_9fb2ec760b_0_0.cell.nml\n",
      "\tAdded 35 connections from dNAC222_L23_MC_940ffcbb27_0_0.cell.nml to cNAC187_L1_SLAC_3759bf3d94_0_0.cell.nml\n",
      "\tAdded 28 connections from dNAC222_L23_MC_940ffcbb27_0_0.cell.nml to cNAC187_L1_SLAC_9d4b6f19da_0_0.cell.nml\n",
      "\tAdded 42 connections from dNAC222_L23_MC_940ffcbb27_0_0.cell.nml to cNAC187_L1_SLAC_1b78a7b294_0_0.cell.nml\n",
      "\tAdded 28 connections from dNAC222_L23_MC_940ffcbb27_0_0.cell.nml to bNAC219_L1_SLAC_d22d584760_0_0.cell.nml\n",
      "\tAdded 7 connections from dNAC222_L23_MC_940ffcbb27_0_0.cell.nml to bNAC219_L1_SLAC_1aa0a09b13_0_0.cell.nml\n",
      "\tAdded 6 connections from bNAC219_L23_MC_31f333a601_0_0.cell.nml to bNAC219_L1_SLAC_9f043bb71a_0_0.cell.nml\n",
      "\tAdded 16 connections from bNAC219_L23_MC_31f333a601_0_0.cell.nml to cNAC187_L1_SLAC_16735ed026_0_0.cell.nml\n",
      "\tAdded 4 connections from bNAC219_L23_MC_31f333a601_0_0.cell.nml to bNAC219_L1_SLAC_bb26216f9f_0_0.cell.nml\n",
      "\tAdded 10 connections from bNAC219_L23_MC_31f333a601_0_0.cell.nml to cNAC187_L1_SLAC_26e7460577_0_0.cell.nml\n",
      "\tAdded 6 connections from bNAC219_L23_MC_31f333a601_0_0.cell.nml to cACint209_L1_SLAC_9fb2ec760b_0_0.cell.nml\n",
      "\tAdded 10 connections from bNAC219_L23_MC_31f333a601_0_0.cell.nml to cNAC187_L1_SLAC_3759bf3d94_0_0.cell.nml\n",
      "\tAdded 8 connections from bNAC219_L23_MC_31f333a601_0_0.cell.nml to cNAC187_L1_SLAC_9d4b6f19da_0_0.cell.nml\n",
      "\tAdded 12 connections from bNAC219_L23_MC_31f333a601_0_0.cell.nml to cNAC187_L1_SLAC_1b78a7b294_0_0.cell.nml\n",
      "\tAdded 8 connections from bNAC219_L23_MC_31f333a601_0_0.cell.nml to bNAC219_L1_SLAC_d22d584760_0_0.cell.nml\n",
      "\tAdded 2 connections from bNAC219_L23_MC_31f333a601_0_0.cell.nml to bNAC219_L1_SLAC_1aa0a09b13_0_0.cell.nml\n",
      "\tAdded 24 connections from dNAC222_L23_MC_1490f15199_0_0.cell.nml to bNAC219_L1_SLAC_9f043bb71a_0_0.cell.nml\n",
      "\tAdded 64 connections from dNAC222_L23_MC_1490f15199_0_0.cell.nml to cNAC187_L1_SLAC_16735ed026_0_0.cell.nml\n",
      "\tAdded 16 connections from dNAC222_L23_MC_1490f15199_0_0.cell.nml to bNAC219_L1_SLAC_bb26216f9f_0_0.cell.nml\n",
      "\tAdded 40 connections from dNAC222_L23_MC_1490f15199_0_0.cell.nml to cNAC187_L1_SLAC_26e7460577_0_0.cell.nml\n",
      "\tAdded 24 connections from dNAC222_L23_MC_1490f15199_0_0.cell.nml to cACint209_L1_SLAC_9fb2ec760b_0_0.cell.nml\n",
      "\tAdded 40 connections from dNAC222_L23_MC_1490f15199_0_0.cell.nml to cNAC187_L1_SLAC_3759bf3d94_0_0.cell.nml\n",
      "\tAdded 32 connections from dNAC222_L23_MC_1490f15199_0_0.cell.nml to cNAC187_L1_SLAC_9d4b6f19da_0_0.cell.nml\n",
      "\tAdded 48 connections from dNAC222_L23_MC_1490f15199_0_0.cell.nml to cNAC187_L1_SLAC_1b78a7b294_0_0.cell.nml\n",
      "\tAdded 32 connections from dNAC222_L23_MC_1490f15199_0_0.cell.nml to bNAC219_L1_SLAC_d22d584760_0_0.cell.nml\n",
      "\tAdded 8 connections from dNAC222_L23_MC_1490f15199_0_0.cell.nml to bNAC219_L1_SLAC_1aa0a09b13_0_0.cell.nml\n",
      "\tAdded 6 connections from cNAC187_L23_MC_4a274f4915_0_0.cell.nml to bNAC219_L1_SLAC_9f043bb71a_0_0.cell.nml\n",
      "\tAdded 16 connections from cNAC187_L23_MC_4a274f4915_0_0.cell.nml to cNAC187_L1_SLAC_16735ed026_0_0.cell.nml\n",
      "\tAdded 4 connections from cNAC187_L23_MC_4a274f4915_0_0.cell.nml to bNAC219_L1_SLAC_bb26216f9f_0_0.cell.nml\n",
      "\tAdded 10 connections from cNAC187_L23_MC_4a274f4915_0_0.cell.nml to cNAC187_L1_SLAC_26e7460577_0_0.cell.nml\n",
      "\tAdded 6 connections from cNAC187_L23_MC_4a274f4915_0_0.cell.nml to cACint209_L1_SLAC_9fb2ec760b_0_0.cell.nml\n",
      "\tAdded 10 connections from cNAC187_L23_MC_4a274f4915_0_0.cell.nml to cNAC187_L1_SLAC_3759bf3d94_0_0.cell.nml\n",
      "\tAdded 8 connections from cNAC187_L23_MC_4a274f4915_0_0.cell.nml to cNAC187_L1_SLAC_9d4b6f19da_0_0.cell.nml\n",
      "\tAdded 12 connections from cNAC187_L23_MC_4a274f4915_0_0.cell.nml to cNAC187_L1_SLAC_1b78a7b294_0_0.cell.nml\n",
      "\tAdded 8 connections from cNAC187_L23_MC_4a274f4915_0_0.cell.nml to bNAC219_L1_SLAC_d22d584760_0_0.cell.nml\n",
      "\tAdded 2 connections from cNAC187_L23_MC_4a274f4915_0_0.cell.nml to bNAC219_L1_SLAC_1aa0a09b13_0_0.cell.nml\n",
      "\tAdded 9 connections from bNAC219_L23_MC_940ffcbb27_0_0.cell.nml to bNAC219_L1_SLAC_9f043bb71a_0_0.cell.nml\n",
      "\tAdded 24 connections from bNAC219_L23_MC_940ffcbb27_0_0.cell.nml to cNAC187_L1_SLAC_16735ed026_0_0.cell.nml\n",
      "\tAdded 6 connections from bNAC219_L23_MC_940ffcbb27_0_0.cell.nml to bNAC219_L1_SLAC_bb26216f9f_0_0.cell.nml\n",
      "\tAdded 15 connections from bNAC219_L23_MC_940ffcbb27_0_0.cell.nml to cNAC187_L1_SLAC_26e7460577_0_0.cell.nml\n",
      "\tAdded 9 connections from bNAC219_L23_MC_940ffcbb27_0_0.cell.nml to cACint209_L1_SLAC_9fb2ec760b_0_0.cell.nml\n",
      "\tAdded 15 connections from bNAC219_L23_MC_940ffcbb27_0_0.cell.nml to cNAC187_L1_SLAC_3759bf3d94_0_0.cell.nml\n",
      "\tAdded 12 connections from bNAC219_L23_MC_940ffcbb27_0_0.cell.nml to cNAC187_L1_SLAC_9d4b6f19da_0_0.cell.nml\n",
      "\tAdded 18 connections from bNAC219_L23_MC_940ffcbb27_0_0.cell.nml to cNAC187_L1_SLAC_1b78a7b294_0_0.cell.nml\n",
      "\tAdded 12 connections from bNAC219_L23_MC_940ffcbb27_0_0.cell.nml to bNAC219_L1_SLAC_d22d584760_0_0.cell.nml\n",
      "\tAdded 3 connections from bNAC219_L23_MC_940ffcbb27_0_0.cell.nml to bNAC219_L1_SLAC_1aa0a09b13_0_0.cell.nml\n",
      "\tAdded 6 connections from bAC217_L23_MC_1490f15199_0_0.cell.nml to bNAC219_L1_SLAC_9f043bb71a_0_0.cell.nml\n",
      "\tAdded 16 connections from bAC217_L23_MC_1490f15199_0_0.cell.nml to cNAC187_L1_SLAC_16735ed026_0_0.cell.nml\n",
      "\tAdded 4 connections from bAC217_L23_MC_1490f15199_0_0.cell.nml to bNAC219_L1_SLAC_bb26216f9f_0_0.cell.nml\n",
      "\tAdded 10 connections from bAC217_L23_MC_1490f15199_0_0.cell.nml to cNAC187_L1_SLAC_26e7460577_0_0.cell.nml\n",
      "\tAdded 6 connections from bAC217_L23_MC_1490f15199_0_0.cell.nml to cACint209_L1_SLAC_9fb2ec760b_0_0.cell.nml\n",
      "\tAdded 10 connections from bAC217_L23_MC_1490f15199_0_0.cell.nml to cNAC187_L1_SLAC_3759bf3d94_0_0.cell.nml\n",
      "\tAdded 8 connections from bAC217_L23_MC_1490f15199_0_0.cell.nml to cNAC187_L1_SLAC_9d4b6f19da_0_0.cell.nml\n",
      "\tAdded 12 connections from bAC217_L23_MC_1490f15199_0_0.cell.nml to cNAC187_L1_SLAC_1b78a7b294_0_0.cell.nml\n",
      "\tAdded 8 connections from bAC217_L23_MC_1490f15199_0_0.cell.nml to bNAC219_L1_SLAC_d22d584760_0_0.cell.nml\n",
      "\tAdded 2 connections from bAC217_L23_MC_1490f15199_0_0.cell.nml to bNAC219_L1_SLAC_1aa0a09b13_0_0.cell.nml\n",
      "\tAdded 15 connections from bNAC219_L23_MC_b7a2c9d0ae_0_0.cell.nml to bNAC219_L1_SLAC_9f043bb71a_0_0.cell.nml\n",
      "\tAdded 40 connections from bNAC219_L23_MC_b7a2c9d0ae_0_0.cell.nml to cNAC187_L1_SLAC_16735ed026_0_0.cell.nml\n",
      "\tAdded 10 connections from bNAC219_L23_MC_b7a2c9d0ae_0_0.cell.nml to bNAC219_L1_SLAC_bb26216f9f_0_0.cell.nml\n",
      "\tAdded 25 connections from bNAC219_L23_MC_b7a2c9d0ae_0_0.cell.nml to cNAC187_L1_SLAC_26e7460577_0_0.cell.nml\n",
      "\tAdded 15 connections from bNAC219_L23_MC_b7a2c9d0ae_0_0.cell.nml to cACint209_L1_SLAC_9fb2ec760b_0_0.cell.nml\n",
      "\tAdded 25 connections from bNAC219_L23_MC_b7a2c9d0ae_0_0.cell.nml to cNAC187_L1_SLAC_3759bf3d94_0_0.cell.nml\n",
      "\tAdded 20 connections from bNAC219_L23_MC_b7a2c9d0ae_0_0.cell.nml to cNAC187_L1_SLAC_9d4b6f19da_0_0.cell.nml\n",
      "\tAdded 30 connections from bNAC219_L23_MC_b7a2c9d0ae_0_0.cell.nml to cNAC187_L1_SLAC_1b78a7b294_0_0.cell.nml\n",
      "\tAdded 20 connections from bNAC219_L23_MC_b7a2c9d0ae_0_0.cell.nml to bNAC219_L1_SLAC_d22d584760_0_0.cell.nml\n",
      "\tAdded 5 connections from bNAC219_L23_MC_b7a2c9d0ae_0_0.cell.nml to bNAC219_L1_SLAC_1aa0a09b13_0_0.cell.nml\n",
      "\tAdded 12 connections from dNAC222_L23_MC_31f333a601_0_0.cell.nml to bNAC219_L1_SLAC_9f043bb71a_0_0.cell.nml\n",
      "\tAdded 32 connections from dNAC222_L23_MC_31f333a601_0_0.cell.nml to cNAC187_L1_SLAC_16735ed026_0_0.cell.nml\n",
      "\tAdded 8 connections from dNAC222_L23_MC_31f333a601_0_0.cell.nml to bNAC219_L1_SLAC_bb26216f9f_0_0.cell.nml\n",
      "\tAdded 20 connections from dNAC222_L23_MC_31f333a601_0_0.cell.nml to cNAC187_L1_SLAC_26e7460577_0_0.cell.nml\n",
      "\tAdded 12 connections from dNAC222_L23_MC_31f333a601_0_0.cell.nml to cACint209_L1_SLAC_9fb2ec760b_0_0.cell.nml\n",
      "\tAdded 20 connections from dNAC222_L23_MC_31f333a601_0_0.cell.nml to cNAC187_L1_SLAC_3759bf3d94_0_0.cell.nml\n",
      "\tAdded 16 connections from dNAC222_L23_MC_31f333a601_0_0.cell.nml to cNAC187_L1_SLAC_9d4b6f19da_0_0.cell.nml\n",
      "\tAdded 24 connections from dNAC222_L23_MC_31f333a601_0_0.cell.nml to cNAC187_L1_SLAC_1b78a7b294_0_0.cell.nml\n",
      "\tAdded 16 connections from dNAC222_L23_MC_31f333a601_0_0.cell.nml to bNAC219_L1_SLAC_d22d584760_0_0.cell.nml\n",
      "\tAdded 4 connections from dNAC222_L23_MC_31f333a601_0_0.cell.nml to bNAC219_L1_SLAC_1aa0a09b13_0_0.cell.nml\n",
      "\tAdded 30 connections from cACint209_L23_MC_ba3c5063e4_0_0.cell.nml to bNAC219_L1_SLAC_9f043bb71a_0_0.cell.nml\n",
      "\tAdded 80 connections from cACint209_L23_MC_ba3c5063e4_0_0.cell.nml to cNAC187_L1_SLAC_16735ed026_0_0.cell.nml\n",
      "\tAdded 20 connections from cACint209_L23_MC_ba3c5063e4_0_0.cell.nml to bNAC219_L1_SLAC_bb26216f9f_0_0.cell.nml\n",
      "\tAdded 50 connections from cACint209_L23_MC_ba3c5063e4_0_0.cell.nml to cNAC187_L1_SLAC_26e7460577_0_0.cell.nml\n",
      "\tAdded 30 connections from cACint209_L23_MC_ba3c5063e4_0_0.cell.nml to cACint209_L1_SLAC_9fb2ec760b_0_0.cell.nml\n",
      "\tAdded 50 connections from cACint209_L23_MC_ba3c5063e4_0_0.cell.nml to cNAC187_L1_SLAC_3759bf3d94_0_0.cell.nml\n",
      "\tAdded 40 connections from cACint209_L23_MC_ba3c5063e4_0_0.cell.nml to cNAC187_L1_SLAC_9d4b6f19da_0_0.cell.nml\n",
      "\tAdded 60 connections from cACint209_L23_MC_ba3c5063e4_0_0.cell.nml to cNAC187_L1_SLAC_1b78a7b294_0_0.cell.nml\n",
      "\tAdded 40 connections from cACint209_L23_MC_ba3c5063e4_0_0.cell.nml to bNAC219_L1_SLAC_d22d584760_0_0.cell.nml\n",
      "\tAdded 10 connections from cACint209_L23_MC_ba3c5063e4_0_0.cell.nml to bNAC219_L1_SLAC_1aa0a09b13_0_0.cell.nml\n",
      "\tAdded 6 connections from bNAC219_L23_MC_55e4a7c88f_0_0.cell.nml to bNAC219_L1_SLAC_9f043bb71a_0_0.cell.nml\n",
      "\tAdded 16 connections from bNAC219_L23_MC_55e4a7c88f_0_0.cell.nml to cNAC187_L1_SLAC_16735ed026_0_0.cell.nml\n",
      "\tAdded 4 connections from bNAC219_L23_MC_55e4a7c88f_0_0.cell.nml to bNAC219_L1_SLAC_bb26216f9f_0_0.cell.nml\n",
      "\tAdded 10 connections from bNAC219_L23_MC_55e4a7c88f_0_0.cell.nml to cNAC187_L1_SLAC_26e7460577_0_0.cell.nml\n",
      "\tAdded 6 connections from bNAC219_L23_MC_55e4a7c88f_0_0.cell.nml to cACint209_L1_SLAC_9fb2ec760b_0_0.cell.nml\n",
      "\tAdded 10 connections from bNAC219_L23_MC_55e4a7c88f_0_0.cell.nml to cNAC187_L1_SLAC_3759bf3d94_0_0.cell.nml\n",
      "\tAdded 8 connections from bNAC219_L23_MC_55e4a7c88f_0_0.cell.nml to cNAC187_L1_SLAC_9d4b6f19da_0_0.cell.nml\n",
      "\tAdded 12 connections from bNAC219_L23_MC_55e4a7c88f_0_0.cell.nml to cNAC187_L1_SLAC_1b78a7b294_0_0.cell.nml\n",
      "\tAdded 8 connections from bNAC219_L23_MC_55e4a7c88f_0_0.cell.nml to bNAC219_L1_SLAC_d22d584760_0_0.cell.nml\n",
      "\tAdded 2 connections from bNAC219_L23_MC_55e4a7c88f_0_0.cell.nml to bNAC219_L1_SLAC_1aa0a09b13_0_0.cell.nml\n",
      "\tAdded 3 connections from bAC217_L23_MC_40be3bf0e8_0_0.cell.nml to bNAC219_L1_SLAC_9f043bb71a_0_0.cell.nml\n",
      "\tAdded 8 connections from bAC217_L23_MC_40be3bf0e8_0_0.cell.nml to cNAC187_L1_SLAC_16735ed026_0_0.cell.nml\n",
      "\tAdded 2 connections from bAC217_L23_MC_40be3bf0e8_0_0.cell.nml to bNAC219_L1_SLAC_bb26216f9f_0_0.cell.nml\n",
      "\tAdded 5 connections from bAC217_L23_MC_40be3bf0e8_0_0.cell.nml to cNAC187_L1_SLAC_26e7460577_0_0.cell.nml\n",
      "\tAdded 3 connections from bAC217_L23_MC_40be3bf0e8_0_0.cell.nml to cACint209_L1_SLAC_9fb2ec760b_0_0.cell.nml\n",
      "\tAdded 5 connections from bAC217_L23_MC_40be3bf0e8_0_0.cell.nml to cNAC187_L1_SLAC_3759bf3d94_0_0.cell.nml\n",
      "\tAdded 4 connections from bAC217_L23_MC_40be3bf0e8_0_0.cell.nml to cNAC187_L1_SLAC_9d4b6f19da_0_0.cell.nml\n",
      "\tAdded 6 connections from bAC217_L23_MC_40be3bf0e8_0_0.cell.nml to cNAC187_L1_SLAC_1b78a7b294_0_0.cell.nml\n",
      "\tAdded 4 connections from bAC217_L23_MC_40be3bf0e8_0_0.cell.nml to bNAC219_L1_SLAC_d22d584760_0_0.cell.nml\n",
      "\tAdded 1 connections from bAC217_L23_MC_40be3bf0e8_0_0.cell.nml to bNAC219_L1_SLAC_1aa0a09b13_0_0.cell.nml\n",
      "\tAdded 12 connections from cNAC187_L23_MC_940ffcbb27_0_0.cell.nml to bNAC219_L1_SLAC_9f043bb71a_0_0.cell.nml\n",
      "\tAdded 32 connections from cNAC187_L23_MC_940ffcbb27_0_0.cell.nml to cNAC187_L1_SLAC_16735ed026_0_0.cell.nml\n",
      "\tAdded 8 connections from cNAC187_L23_MC_940ffcbb27_0_0.cell.nml to bNAC219_L1_SLAC_bb26216f9f_0_0.cell.nml\n",
      "\tAdded 20 connections from cNAC187_L23_MC_940ffcbb27_0_0.cell.nml to cNAC187_L1_SLAC_26e7460577_0_0.cell.nml\n",
      "\tAdded 12 connections from cNAC187_L23_MC_940ffcbb27_0_0.cell.nml to cACint209_L1_SLAC_9fb2ec760b_0_0.cell.nml\n",
      "\tAdded 20 connections from cNAC187_L23_MC_940ffcbb27_0_0.cell.nml to cNAC187_L1_SLAC_3759bf3d94_0_0.cell.nml\n",
      "\tAdded 16 connections from cNAC187_L23_MC_940ffcbb27_0_0.cell.nml to cNAC187_L1_SLAC_9d4b6f19da_0_0.cell.nml\n",
      "\tAdded 24 connections from cNAC187_L23_MC_940ffcbb27_0_0.cell.nml to cNAC187_L1_SLAC_1b78a7b294_0_0.cell.nml\n",
      "\tAdded 16 connections from cNAC187_L23_MC_940ffcbb27_0_0.cell.nml to bNAC219_L1_SLAC_d22d584760_0_0.cell.nml\n",
      "\tAdded 4 connections from cNAC187_L23_MC_940ffcbb27_0_0.cell.nml to bNAC219_L1_SLAC_1aa0a09b13_0_0.cell.nml\n",
      "\tAdded 3 connections from bAC217_L23_MC_464f0bd828_0_0.cell.nml to bNAC219_L1_SLAC_9f043bb71a_0_0.cell.nml\n",
      "\tAdded 8 connections from bAC217_L23_MC_464f0bd828_0_0.cell.nml to cNAC187_L1_SLAC_16735ed026_0_0.cell.nml\n",
      "\tAdded 2 connections from bAC217_L23_MC_464f0bd828_0_0.cell.nml to bNAC219_L1_SLAC_bb26216f9f_0_0.cell.nml\n",
      "\tAdded 5 connections from bAC217_L23_MC_464f0bd828_0_0.cell.nml to cNAC187_L1_SLAC_26e7460577_0_0.cell.nml\n",
      "\tAdded 3 connections from bAC217_L23_MC_464f0bd828_0_0.cell.nml to cACint209_L1_SLAC_9fb2ec760b_0_0.cell.nml\n",
      "\tAdded 5 connections from bAC217_L23_MC_464f0bd828_0_0.cell.nml to cNAC187_L1_SLAC_3759bf3d94_0_0.cell.nml\n",
      "\tAdded 4 connections from bAC217_L23_MC_464f0bd828_0_0.cell.nml to cNAC187_L1_SLAC_9d4b6f19da_0_0.cell.nml\n",
      "\tAdded 6 connections from bAC217_L23_MC_464f0bd828_0_0.cell.nml to cNAC187_L1_SLAC_1b78a7b294_0_0.cell.nml\n",
      "\tAdded 4 connections from bAC217_L23_MC_464f0bd828_0_0.cell.nml to bNAC219_L1_SLAC_d22d584760_0_0.cell.nml\n",
      "\tAdded 1 connections from bAC217_L23_MC_464f0bd828_0_0.cell.nml to bNAC219_L1_SLAC_1aa0a09b13_0_0.cell.nml\n",
      "\tAdded 1827 connections from cACint209_L5_LBC_09c47b4905_0_0.cell.nml to cADpyr230_L4_SS_9e49de205b_0_0.cell.nml\n",
      "\tAdded 1911 connections from cACint209_L5_LBC_09c47b4905_0_0.cell.nml to cADpyr230_L4_SS_a8ef0f9d97_0_0.cell.nml\n",
      "\tAdded 1428 connections from cACint209_L5_LBC_09c47b4905_0_0.cell.nml to cADpyr230_L4_SS_08eefff078_0_0.cell.nml\n",
      "\tAdded 1680 connections from cACint209_L5_LBC_09c47b4905_0_0.cell.nml to cADpyr230_L4_SS_a5ca6392b3_0_0.cell.nml\n",
      "\tAdded 1680 connections from cACint209_L5_LBC_09c47b4905_0_0.cell.nml to cADpyr230_L4_SS_1afeb14f17_0_0.cell.nml\n",
      "\tAdded 522 connections from dNAC222_L5_LBC_99ab75ea98_0_0.cell.nml to cADpyr230_L4_SS_9e49de205b_0_0.cell.nml\n",
      "\tAdded 546 connections from dNAC222_L5_LBC_99ab75ea98_0_0.cell.nml to cADpyr230_L4_SS_a8ef0f9d97_0_0.cell.nml\n",
      "\tAdded 408 connections from dNAC222_L5_LBC_99ab75ea98_0_0.cell.nml to cADpyr230_L4_SS_08eefff078_0_0.cell.nml\n",
      "\tAdded 480 connections from dNAC222_L5_LBC_99ab75ea98_0_0.cell.nml to cADpyr230_L4_SS_a5ca6392b3_0_0.cell.nml\n",
      "\tAdded 480 connections from dNAC222_L5_LBC_99ab75ea98_0_0.cell.nml to cADpyr230_L4_SS_1afeb14f17_0_0.cell.nml\n",
      "\tAdded 696 connections from cNAC187_L5_LBC_078d827ab9_0_0.cell.nml to cADpyr230_L4_SS_9e49de205b_0_0.cell.nml\n",
      "\tAdded 728 connections from cNAC187_L5_LBC_078d827ab9_0_0.cell.nml to cADpyr230_L4_SS_a8ef0f9d97_0_0.cell.nml\n",
      "\tAdded 544 connections from cNAC187_L5_LBC_078d827ab9_0_0.cell.nml to cADpyr230_L4_SS_08eefff078_0_0.cell.nml\n",
      "\tAdded 640 connections from cNAC187_L5_LBC_078d827ab9_0_0.cell.nml to cADpyr230_L4_SS_a5ca6392b3_0_0.cell.nml\n",
      "\tAdded 640 connections from cNAC187_L5_LBC_078d827ab9_0_0.cell.nml to cADpyr230_L4_SS_1afeb14f17_0_0.cell.nml\n",
      "\tAdded 435 connections from cSTUT189_L5_LBC_7e5297a36c_0_0.cell.nml to cADpyr230_L4_SS_9e49de205b_0_0.cell.nml\n",
      "\tAdded 455 connections from cSTUT189_L5_LBC_7e5297a36c_0_0.cell.nml to cADpyr230_L4_SS_a8ef0f9d97_0_0.cell.nml\n",
      "\tAdded 340 connections from cSTUT189_L5_LBC_7e5297a36c_0_0.cell.nml to cADpyr230_L4_SS_08eefff078_0_0.cell.nml\n",
      "\tAdded 400 connections from cSTUT189_L5_LBC_7e5297a36c_0_0.cell.nml to cADpyr230_L4_SS_a5ca6392b3_0_0.cell.nml\n",
      "\tAdded 400 connections from cSTUT189_L5_LBC_7e5297a36c_0_0.cell.nml to cADpyr230_L4_SS_1afeb14f17_0_0.cell.nml\n",
      "\tAdded 435 connections from bAC217_L5_LBC_5fcaa92b0e_0_0.cell.nml to cADpyr230_L4_SS_9e49de205b_0_0.cell.nml\n",
      "\tAdded 455 connections from bAC217_L5_LBC_5fcaa92b0e_0_0.cell.nml to cADpyr230_L4_SS_a8ef0f9d97_0_0.cell.nml\n",
      "\tAdded 340 connections from bAC217_L5_LBC_5fcaa92b0e_0_0.cell.nml to cADpyr230_L4_SS_08eefff078_0_0.cell.nml\n",
      "\tAdded 400 connections from bAC217_L5_LBC_5fcaa92b0e_0_0.cell.nml to cADpyr230_L4_SS_a5ca6392b3_0_0.cell.nml\n",
      "\tAdded 400 connections from bAC217_L5_LBC_5fcaa92b0e_0_0.cell.nml to cADpyr230_L4_SS_1afeb14f17_0_0.cell.nml\n",
      "\tAdded 2088 connections from cACint209_L5_LBC_126a82ac08_0_0.cell.nml to cADpyr230_L4_SS_9e49de205b_0_0.cell.nml\n",
      "\tAdded 2184 connections from cACint209_L5_LBC_126a82ac08_0_0.cell.nml to cADpyr230_L4_SS_a8ef0f9d97_0_0.cell.nml\n",
      "\tAdded 1632 connections from cACint209_L5_LBC_126a82ac08_0_0.cell.nml to cADpyr230_L4_SS_08eefff078_0_0.cell.nml\n",
      "\tAdded 1920 connections from cACint209_L5_LBC_126a82ac08_0_0.cell.nml to cADpyr230_L4_SS_a5ca6392b3_0_0.cell.nml\n",
      "\tAdded 1920 connections from cACint209_L5_LBC_126a82ac08_0_0.cell.nml to cADpyr230_L4_SS_1afeb14f17_0_0.cell.nml\n",
      "\tAdded 957 connections from cACint209_L5_LBC_e7a596714b_0_0.cell.nml to cADpyr230_L4_SS_9e49de205b_0_0.cell.nml\n",
      "\tAdded 1001 connections from cACint209_L5_LBC_e7a596714b_0_0.cell.nml to cADpyr230_L4_SS_a8ef0f9d97_0_0.cell.nml\n",
      "\tAdded 748 connections from cACint209_L5_LBC_e7a596714b_0_0.cell.nml to cADpyr230_L4_SS_08eefff078_0_0.cell.nml\n",
      "\tAdded 880 connections from cACint209_L5_LBC_e7a596714b_0_0.cell.nml to cADpyr230_L4_SS_a5ca6392b3_0_0.cell.nml\n",
      "\tAdded 880 connections from cACint209_L5_LBC_e7a596714b_0_0.cell.nml to cADpyr230_L4_SS_1afeb14f17_0_0.cell.nml\n",
      "\tAdded 1305 connections from cACint209_L5_LBC_b1fb5cc4b0_0_0.cell.nml to cADpyr230_L4_SS_9e49de205b_0_0.cell.nml\n",
      "\tAdded 1365 connections from cACint209_L5_LBC_b1fb5cc4b0_0_0.cell.nml to cADpyr230_L4_SS_a8ef0f9d97_0_0.cell.nml\n",
      "\tAdded 1020 connections from cACint209_L5_LBC_b1fb5cc4b0_0_0.cell.nml to cADpyr230_L4_SS_08eefff078_0_0.cell.nml\n",
      "\tAdded 1200 connections from cACint209_L5_LBC_b1fb5cc4b0_0_0.cell.nml to cADpyr230_L4_SS_a5ca6392b3_0_0.cell.nml\n",
      "\tAdded 1200 connections from cACint209_L5_LBC_b1fb5cc4b0_0_0.cell.nml to cADpyr230_L4_SS_1afeb14f17_0_0.cell.nml\n",
      "\tAdded 435 connections from cNAC187_L5_LBC_ebed230edd_0_0.cell.nml to cADpyr230_L4_SS_9e49de205b_0_0.cell.nml\n",
      "\tAdded 455 connections from cNAC187_L5_LBC_ebed230edd_0_0.cell.nml to cADpyr230_L4_SS_a8ef0f9d97_0_0.cell.nml\n",
      "\tAdded 340 connections from cNAC187_L5_LBC_ebed230edd_0_0.cell.nml to cADpyr230_L4_SS_08eefff078_0_0.cell.nml\n",
      "\tAdded 400 connections from cNAC187_L5_LBC_ebed230edd_0_0.cell.nml to cADpyr230_L4_SS_a5ca6392b3_0_0.cell.nml\n",
      "\tAdded 400 connections from cNAC187_L5_LBC_ebed230edd_0_0.cell.nml to cADpyr230_L4_SS_1afeb14f17_0_0.cell.nml\n",
      "\tAdded 435 connections from dNAC222_L5_LBC_f906bb679c_0_0.cell.nml to cADpyr230_L4_SS_9e49de205b_0_0.cell.nml\n",
      "\tAdded 455 connections from dNAC222_L5_LBC_f906bb679c_0_0.cell.nml to cADpyr230_L4_SS_a8ef0f9d97_0_0.cell.nml\n",
      "\tAdded 340 connections from dNAC222_L5_LBC_f906bb679c_0_0.cell.nml to cADpyr230_L4_SS_08eefff078_0_0.cell.nml\n",
      "\tAdded 400 connections from dNAC222_L5_LBC_f906bb679c_0_0.cell.nml to cADpyr230_L4_SS_a5ca6392b3_0_0.cell.nml\n",
      "\tAdded 400 connections from dNAC222_L5_LBC_f906bb679c_0_0.cell.nml to cADpyr230_L4_SS_1afeb14f17_0_0.cell.nml\n",
      "\tAdded 435 connections from cSTUT189_L5_LBC_640a1cef1d_0_0.cell.nml to cADpyr230_L4_SS_9e49de205b_0_0.cell.nml\n",
      "\tAdded 455 connections from cSTUT189_L5_LBC_640a1cef1d_0_0.cell.nml to cADpyr230_L4_SS_a8ef0f9d97_0_0.cell.nml\n",
      "\tAdded 340 connections from cSTUT189_L5_LBC_640a1cef1d_0_0.cell.nml to cADpyr230_L4_SS_08eefff078_0_0.cell.nml\n",
      "\tAdded 400 connections from cSTUT189_L5_LBC_640a1cef1d_0_0.cell.nml to cADpyr230_L4_SS_a5ca6392b3_0_0.cell.nml\n",
      "\tAdded 400 connections from cSTUT189_L5_LBC_640a1cef1d_0_0.cell.nml to cADpyr230_L4_SS_1afeb14f17_0_0.cell.nml\n",
      "\tAdded 783 connections from cNAC187_L5_LBC_d19674cc92_0_0.cell.nml to cADpyr230_L4_SS_9e49de205b_0_0.cell.nml\n",
      "\tAdded 819 connections from cNAC187_L5_LBC_d19674cc92_0_0.cell.nml to cADpyr230_L4_SS_a8ef0f9d97_0_0.cell.nml\n",
      "\tAdded 612 connections from cNAC187_L5_LBC_d19674cc92_0_0.cell.nml to cADpyr230_L4_SS_08eefff078_0_0.cell.nml\n",
      "\tAdded 720 connections from cNAC187_L5_LBC_d19674cc92_0_0.cell.nml to cADpyr230_L4_SS_a5ca6392b3_0_0.cell.nml\n",
      "\tAdded 720 connections from cNAC187_L5_LBC_d19674cc92_0_0.cell.nml to cADpyr230_L4_SS_1afeb14f17_0_0.cell.nml\n",
      "\tAdded 609 connections from bAC217_L5_LBC_01750e1e18_0_0.cell.nml to cADpyr230_L4_SS_9e49de205b_0_0.cell.nml\n",
      "\tAdded 637 connections from bAC217_L5_LBC_01750e1e18_0_0.cell.nml to cADpyr230_L4_SS_a8ef0f9d97_0_0.cell.nml\n",
      "\tAdded 476 connections from bAC217_L5_LBC_01750e1e18_0_0.cell.nml to cADpyr230_L4_SS_08eefff078_0_0.cell.nml\n",
      "\tAdded 560 connections from bAC217_L5_LBC_01750e1e18_0_0.cell.nml to cADpyr230_L4_SS_a5ca6392b3_0_0.cell.nml\n",
      "\tAdded 560 connections from bAC217_L5_LBC_01750e1e18_0_0.cell.nml to cADpyr230_L4_SS_1afeb14f17_0_0.cell.nml\n",
      "\tAdded 957 connections from dNAC222_L5_LBC_0ffcc91920_0_0.cell.nml to cADpyr230_L4_SS_9e49de205b_0_0.cell.nml\n",
      "\tAdded 1001 connections from dNAC222_L5_LBC_0ffcc91920_0_0.cell.nml to cADpyr230_L4_SS_a8ef0f9d97_0_0.cell.nml\n",
      "\tAdded 748 connections from dNAC222_L5_LBC_0ffcc91920_0_0.cell.nml to cADpyr230_L4_SS_08eefff078_0_0.cell.nml\n",
      "\tAdded 880 connections from dNAC222_L5_LBC_0ffcc91920_0_0.cell.nml to cADpyr230_L4_SS_a5ca6392b3_0_0.cell.nml\n",
      "\tAdded 880 connections from dNAC222_L5_LBC_0ffcc91920_0_0.cell.nml to cADpyr230_L4_SS_1afeb14f17_0_0.cell.nml\n",
      "\tAdded 348 connections from bAC217_L5_LBC_3daa582d70_0_0.cell.nml to cADpyr230_L4_SS_9e49de205b_0_0.cell.nml\n",
      "\tAdded 364 connections from bAC217_L5_LBC_3daa582d70_0_0.cell.nml to cADpyr230_L4_SS_a8ef0f9d97_0_0.cell.nml\n",
      "\tAdded 272 connections from bAC217_L5_LBC_3daa582d70_0_0.cell.nml to cADpyr230_L4_SS_08eefff078_0_0.cell.nml\n",
      "\tAdded 320 connections from bAC217_L5_LBC_3daa582d70_0_0.cell.nml to cADpyr230_L4_SS_a5ca6392b3_0_0.cell.nml\n",
      "\tAdded 320 connections from bAC217_L5_LBC_3daa582d70_0_0.cell.nml to cADpyr230_L4_SS_1afeb14f17_0_0.cell.nml\n",
      "\tAdded 261 connections from cSTUT189_L5_LBC_6f185d799a_0_0.cell.nml to cADpyr230_L4_SS_9e49de205b_0_0.cell.nml\n",
      "\tAdded 273 connections from cSTUT189_L5_LBC_6f185d799a_0_0.cell.nml to cADpyr230_L4_SS_a8ef0f9d97_0_0.cell.nml\n",
      "\tAdded 204 connections from cSTUT189_L5_LBC_6f185d799a_0_0.cell.nml to cADpyr230_L4_SS_08eefff078_0_0.cell.nml\n",
      "\tAdded 240 connections from cSTUT189_L5_LBC_6f185d799a_0_0.cell.nml to cADpyr230_L4_SS_a5ca6392b3_0_0.cell.nml\n",
      "\tAdded 240 connections from cSTUT189_L5_LBC_6f185d799a_0_0.cell.nml to cADpyr230_L4_SS_1afeb14f17_0_0.cell.nml\n",
      "\tAdded 174 connections from dNAC222_L5_LBC_58bb1b2407_0_0.cell.nml to cADpyr230_L4_SS_9e49de205b_0_0.cell.nml\n",
      "\tAdded 182 connections from dNAC222_L5_LBC_58bb1b2407_0_0.cell.nml to cADpyr230_L4_SS_a8ef0f9d97_0_0.cell.nml\n",
      "\tAdded 136 connections from dNAC222_L5_LBC_58bb1b2407_0_0.cell.nml to cADpyr230_L4_SS_08eefff078_0_0.cell.nml\n",
      "\tAdded 160 connections from dNAC222_L5_LBC_58bb1b2407_0_0.cell.nml to cADpyr230_L4_SS_a5ca6392b3_0_0.cell.nml\n",
      "\tAdded 160 connections from dNAC222_L5_LBC_58bb1b2407_0_0.cell.nml to cADpyr230_L4_SS_1afeb14f17_0_0.cell.nml\n",
      "\tAdded 348 connections from cIR216_L5_LBC_34458d6725_0_0.cell.nml to cADpyr230_L4_SS_9e49de205b_0_0.cell.nml\n",
      "\tAdded 364 connections from cIR216_L5_LBC_34458d6725_0_0.cell.nml to cADpyr230_L4_SS_a8ef0f9d97_0_0.cell.nml\n",
      "\tAdded 272 connections from cIR216_L5_LBC_34458d6725_0_0.cell.nml to cADpyr230_L4_SS_08eefff078_0_0.cell.nml\n",
      "\tAdded 320 connections from cIR216_L5_LBC_34458d6725_0_0.cell.nml to cADpyr230_L4_SS_a5ca6392b3_0_0.cell.nml\n",
      "\tAdded 320 connections from cIR216_L5_LBC_34458d6725_0_0.cell.nml to cADpyr230_L4_SS_1afeb14f17_0_0.cell.nml\n",
      "\tAdded 261 connections from dSTUT214_L5_LBC_5dc27443f3_0_0.cell.nml to cADpyr230_L4_SS_9e49de205b_0_0.cell.nml\n",
      "\tAdded 273 connections from dSTUT214_L5_LBC_5dc27443f3_0_0.cell.nml to cADpyr230_L4_SS_a8ef0f9d97_0_0.cell.nml\n",
      "\tAdded 204 connections from dSTUT214_L5_LBC_5dc27443f3_0_0.cell.nml to cADpyr230_L4_SS_08eefff078_0_0.cell.nml\n",
      "\tAdded 240 connections from dSTUT214_L5_LBC_5dc27443f3_0_0.cell.nml to cADpyr230_L4_SS_a5ca6392b3_0_0.cell.nml\n",
      "\tAdded 240 connections from dSTUT214_L5_LBC_5dc27443f3_0_0.cell.nml to cADpyr230_L4_SS_1afeb14f17_0_0.cell.nml\n",
      "\tAdded 261 connections from cIR216_L5_LBC_c5448109e7_0_0.cell.nml to cADpyr230_L4_SS_9e49de205b_0_0.cell.nml\n",
      "\tAdded 273 connections from cIR216_L5_LBC_c5448109e7_0_0.cell.nml to cADpyr230_L4_SS_a8ef0f9d97_0_0.cell.nml\n",
      "\tAdded 204 connections from cIR216_L5_LBC_c5448109e7_0_0.cell.nml to cADpyr230_L4_SS_08eefff078_0_0.cell.nml\n",
      "\tAdded 240 connections from cIR216_L5_LBC_c5448109e7_0_0.cell.nml to cADpyr230_L4_SS_a5ca6392b3_0_0.cell.nml\n",
      "\tAdded 240 connections from cIR216_L5_LBC_c5448109e7_0_0.cell.nml to cADpyr230_L4_SS_1afeb14f17_0_0.cell.nml\n",
      "\tAdded 174 connections from cIR216_L5_LBC_8ce13ea42d_0_0.cell.nml to cADpyr230_L4_SS_9e49de205b_0_0.cell.nml\n",
      "\tAdded 182 connections from cIR216_L5_LBC_8ce13ea42d_0_0.cell.nml to cADpyr230_L4_SS_a8ef0f9d97_0_0.cell.nml\n",
      "\tAdded 136 connections from cIR216_L5_LBC_8ce13ea42d_0_0.cell.nml to cADpyr230_L4_SS_08eefff078_0_0.cell.nml\n",
      "\tAdded 160 connections from cIR216_L5_LBC_8ce13ea42d_0_0.cell.nml to cADpyr230_L4_SS_a5ca6392b3_0_0.cell.nml\n",
      "\tAdded 160 connections from cIR216_L5_LBC_8ce13ea42d_0_0.cell.nml to cADpyr230_L4_SS_1afeb14f17_0_0.cell.nml\n",
      "\tAdded 522 connections from dSTUT214_L5_LBC_82d782e650_0_0.cell.nml to cADpyr230_L4_SS_9e49de205b_0_0.cell.nml\n",
      "\tAdded 546 connections from dSTUT214_L5_LBC_82d782e650_0_0.cell.nml to cADpyr230_L4_SS_a8ef0f9d97_0_0.cell.nml\n",
      "\tAdded 408 connections from dSTUT214_L5_LBC_82d782e650_0_0.cell.nml to cADpyr230_L4_SS_08eefff078_0_0.cell.nml\n",
      "\tAdded 480 connections from dSTUT214_L5_LBC_82d782e650_0_0.cell.nml to cADpyr230_L4_SS_a5ca6392b3_0_0.cell.nml\n",
      "\tAdded 480 connections from dSTUT214_L5_LBC_82d782e650_0_0.cell.nml to cADpyr230_L4_SS_1afeb14f17_0_0.cell.nml\n",
      "\tAdded 1566 connections from cACint209_L5_LBC_3285d77dba_0_0.cell.nml to cADpyr230_L4_SS_9e49de205b_0_0.cell.nml\n",
      "\tAdded 1638 connections from cACint209_L5_LBC_3285d77dba_0_0.cell.nml to cADpyr230_L4_SS_a8ef0f9d97_0_0.cell.nml\n",
      "\tAdded 1224 connections from cACint209_L5_LBC_3285d77dba_0_0.cell.nml to cADpyr230_L4_SS_08eefff078_0_0.cell.nml\n",
      "\tAdded 1440 connections from cACint209_L5_LBC_3285d77dba_0_0.cell.nml to cADpyr230_L4_SS_a5ca6392b3_0_0.cell.nml\n",
      "\tAdded 1440 connections from cACint209_L5_LBC_3285d77dba_0_0.cell.nml to cADpyr230_L4_SS_1afeb14f17_0_0.cell.nml\n",
      "\tAdded 522 connections from cNAC187_L5_LBC_1e4112fe69_0_0.cell.nml to cADpyr230_L4_SS_9e49de205b_0_0.cell.nml\n",
      "\tAdded 546 connections from cNAC187_L5_LBC_1e4112fe69_0_0.cell.nml to cADpyr230_L4_SS_a8ef0f9d97_0_0.cell.nml\n",
      "\tAdded 408 connections from cNAC187_L5_LBC_1e4112fe69_0_0.cell.nml to cADpyr230_L4_SS_08eefff078_0_0.cell.nml\n",
      "\tAdded 480 connections from cNAC187_L5_LBC_1e4112fe69_0_0.cell.nml to cADpyr230_L4_SS_a5ca6392b3_0_0.cell.nml\n",
      "\tAdded 480 connections from cNAC187_L5_LBC_1e4112fe69_0_0.cell.nml to cADpyr230_L4_SS_1afeb14f17_0_0.cell.nml\n",
      "\tAdded 174 connections from bAC217_L5_LBC_c2cff91741_0_0.cell.nml to cADpyr230_L4_SS_9e49de205b_0_0.cell.nml\n",
      "\tAdded 182 connections from bAC217_L5_LBC_c2cff91741_0_0.cell.nml to cADpyr230_L4_SS_a8ef0f9d97_0_0.cell.nml\n",
      "\tAdded 136 connections from bAC217_L5_LBC_c2cff91741_0_0.cell.nml to cADpyr230_L4_SS_08eefff078_0_0.cell.nml\n",
      "\tAdded 160 connections from bAC217_L5_LBC_c2cff91741_0_0.cell.nml to cADpyr230_L4_SS_a5ca6392b3_0_0.cell.nml\n",
      "\tAdded 160 connections from bAC217_L5_LBC_c2cff91741_0_0.cell.nml to cADpyr230_L4_SS_1afeb14f17_0_0.cell.nml\n",
      "\tAdded 174 connections from cIR216_L5_LBC_c3984af99c_0_0.cell.nml to cADpyr230_L4_SS_9e49de205b_0_0.cell.nml\n",
      "\tAdded 182 connections from cIR216_L5_LBC_c3984af99c_0_0.cell.nml to cADpyr230_L4_SS_a8ef0f9d97_0_0.cell.nml\n",
      "\tAdded 136 connections from cIR216_L5_LBC_c3984af99c_0_0.cell.nml to cADpyr230_L4_SS_08eefff078_0_0.cell.nml\n",
      "\tAdded 160 connections from cIR216_L5_LBC_c3984af99c_0_0.cell.nml to cADpyr230_L4_SS_a5ca6392b3_0_0.cell.nml\n",
      "\tAdded 160 connections from cIR216_L5_LBC_c3984af99c_0_0.cell.nml to cADpyr230_L4_SS_1afeb14f17_0_0.cell.nml\n",
      "\tAdded 261 connections from cIR216_L5_LBC_b2c5f59c1a_0_0.cell.nml to cADpyr230_L4_SS_9e49de205b_0_0.cell.nml\n",
      "\tAdded 273 connections from cIR216_L5_LBC_b2c5f59c1a_0_0.cell.nml to cADpyr230_L4_SS_a8ef0f9d97_0_0.cell.nml\n",
      "\tAdded 204 connections from cIR216_L5_LBC_b2c5f59c1a_0_0.cell.nml to cADpyr230_L4_SS_08eefff078_0_0.cell.nml\n",
      "\tAdded 240 connections from cIR216_L5_LBC_b2c5f59c1a_0_0.cell.nml to cADpyr230_L4_SS_a5ca6392b3_0_0.cell.nml\n",
      "\tAdded 240 connections from cIR216_L5_LBC_b2c5f59c1a_0_0.cell.nml to cADpyr230_L4_SS_1afeb14f17_0_0.cell.nml\n",
      "\tAdded 435 connections from cNAC187_L5_LBC_b883da43ff_0_0.cell.nml to cADpyr230_L4_SS_9e49de205b_0_0.cell.nml\n",
      "\tAdded 455 connections from cNAC187_L5_LBC_b883da43ff_0_0.cell.nml to cADpyr230_L4_SS_a8ef0f9d97_0_0.cell.nml\n",
      "\tAdded 340 connections from cNAC187_L5_LBC_b883da43ff_0_0.cell.nml to cADpyr230_L4_SS_08eefff078_0_0.cell.nml\n",
      "\tAdded 400 connections from cNAC187_L5_LBC_b883da43ff_0_0.cell.nml to cADpyr230_L4_SS_a5ca6392b3_0_0.cell.nml\n",
      "\tAdded 400 connections from cNAC187_L5_LBC_b883da43ff_0_0.cell.nml to cADpyr230_L4_SS_1afeb14f17_0_0.cell.nml\n",
      "\tAdded 609 connections from bAC217_L5_LBC_b66dd6b653_0_0.cell.nml to cADpyr230_L4_SS_9e49de205b_0_0.cell.nml\n",
      "\tAdded 637 connections from bAC217_L5_LBC_b66dd6b653_0_0.cell.nml to cADpyr230_L4_SS_a8ef0f9d97_0_0.cell.nml\n",
      "\tAdded 476 connections from bAC217_L5_LBC_b66dd6b653_0_0.cell.nml to cADpyr230_L4_SS_08eefff078_0_0.cell.nml\n",
      "\tAdded 560 connections from bAC217_L5_LBC_b66dd6b653_0_0.cell.nml to cADpyr230_L4_SS_a5ca6392b3_0_0.cell.nml\n",
      "\tAdded 560 connections from bAC217_L5_LBC_b66dd6b653_0_0.cell.nml to cADpyr230_L4_SS_1afeb14f17_0_0.cell.nml\n",
      "\tAdded 87 connections from cSTUT189_L5_LBC_29803173bd_0_0.cell.nml to cADpyr230_L4_SS_9e49de205b_0_0.cell.nml\n",
      "\tAdded 91 connections from cSTUT189_L5_LBC_29803173bd_0_0.cell.nml to cADpyr230_L4_SS_a8ef0f9d97_0_0.cell.nml\n",
      "\tAdded 68 connections from cSTUT189_L5_LBC_29803173bd_0_0.cell.nml to cADpyr230_L4_SS_08eefff078_0_0.cell.nml\n",
      "\tAdded 80 connections from cSTUT189_L5_LBC_29803173bd_0_0.cell.nml to cADpyr230_L4_SS_a5ca6392b3_0_0.cell.nml\n",
      "\tAdded 80 connections from cSTUT189_L5_LBC_29803173bd_0_0.cell.nml to cADpyr230_L4_SS_1afeb14f17_0_0.cell.nml\n",
      "\tAdded 87 connections from cSTUT189_L5_LBC_0ffcc91920_0_0.cell.nml to cADpyr230_L4_SS_9e49de205b_0_0.cell.nml\n",
      "\tAdded 91 connections from cSTUT189_L5_LBC_0ffcc91920_0_0.cell.nml to cADpyr230_L4_SS_a8ef0f9d97_0_0.cell.nml\n",
      "\tAdded 68 connections from cSTUT189_L5_LBC_0ffcc91920_0_0.cell.nml to cADpyr230_L4_SS_08eefff078_0_0.cell.nml\n",
      "\tAdded 80 connections from cSTUT189_L5_LBC_0ffcc91920_0_0.cell.nml to cADpyr230_L4_SS_a5ca6392b3_0_0.cell.nml\n",
      "\tAdded 80 connections from cSTUT189_L5_LBC_0ffcc91920_0_0.cell.nml to cADpyr230_L4_SS_1afeb14f17_0_0.cell.nml\n",
      "\tAdded 87 connections from dSTUT214_L5_LBC_6a6d472ca8_0_0.cell.nml to cADpyr230_L4_SS_9e49de205b_0_0.cell.nml\n",
      "\tAdded 91 connections from dSTUT214_L5_LBC_6a6d472ca8_0_0.cell.nml to cADpyr230_L4_SS_a8ef0f9d97_0_0.cell.nml\n",
      "\tAdded 68 connections from dSTUT214_L5_LBC_6a6d472ca8_0_0.cell.nml to cADpyr230_L4_SS_08eefff078_0_0.cell.nml\n",
      "\tAdded 80 connections from dSTUT214_L5_LBC_6a6d472ca8_0_0.cell.nml to cADpyr230_L4_SS_a5ca6392b3_0_0.cell.nml\n",
      "\tAdded 80 connections from dSTUT214_L5_LBC_6a6d472ca8_0_0.cell.nml to cADpyr230_L4_SS_1afeb14f17_0_0.cell.nml\n",
      "\tAdded 7 connections from dNAC222_L23_LBC_1b6313448d_0_0.cell.nml to bNAC219_L23_NGC_d600988347_0_0.cell.nml\n",
      "\tAdded 7 connections from dNAC222_L23_LBC_1b6313448d_0_0.cell.nml to cNAC187_L23_NGC_e831b433a9_0_0.cell.nml\n",
      "\tAdded 14 connections from dNAC222_L23_LBC_1b6313448d_0_0.cell.nml to cNAC187_L23_NGC_d79ffc246d_0_0.cell.nml\n",
      "\tAdded 7 connections from dNAC222_L23_LBC_1b6313448d_0_0.cell.nml to bNAC219_L23_NGC_8d6df1ab35_0_0.cell.nml\n",
      "\tAdded 28 connections from dNAC222_L23_LBC_1b6313448d_0_0.cell.nml to cACint209_L23_NGC_be2ffb9c7d_0_0.cell.nml\n",
      "\tAdded 14 connections from dNAC222_L23_LBC_1b6313448d_0_0.cell.nml to bNAC219_L23_NGC_1c20d72451_0_0.cell.nml\n",
      "\tAdded 7 connections from dNAC222_L23_LBC_1b6313448d_0_0.cell.nml to cACint209_L23_NGC_8a9ea95bee_0_0.cell.nml\n",
      "\tAdded 21 connections from dNAC222_L23_LBC_1b6313448d_0_0.cell.nml to cACint209_L23_NGC_5d66592f99_0_0.cell.nml\n",
      "\tAdded 14 connections from dNAC222_L23_LBC_1b6313448d_0_0.cell.nml to cNAC187_L23_NGC_4cc11d30bc_0_0.cell.nml\n",
      "\tAdded 21 connections from dNAC222_L23_LBC_1b6313448d_0_0.cell.nml to cACint209_L23_NGC_ec67e9ba9b_0_0.cell.nml\n",
      "\tAdded 7 connections from dNAC222_L23_LBC_1b6313448d_0_0.cell.nml to bNAC219_L23_NGC_025b2126a1_0_0.cell.nml\n",
      "\tAdded 7 connections from dNAC222_L23_LBC_1b6313448d_0_0.cell.nml to cNAC187_L23_NGC_2477403bcb_0_0.cell.nml\n",
      "\tAdded 13 connections from cACint209_L23_LBC_d5fa8128ae_0_0.cell.nml to bNAC219_L23_NGC_d600988347_0_0.cell.nml\n",
      "\tAdded 13 connections from cACint209_L23_LBC_d5fa8128ae_0_0.cell.nml to cNAC187_L23_NGC_e831b433a9_0_0.cell.nml\n",
      "\tAdded 26 connections from cACint209_L23_LBC_d5fa8128ae_0_0.cell.nml to cNAC187_L23_NGC_d79ffc246d_0_0.cell.nml\n",
      "\tAdded 13 connections from cACint209_L23_LBC_d5fa8128ae_0_0.cell.nml to bNAC219_L23_NGC_8d6df1ab35_0_0.cell.nml\n",
      "\tAdded 52 connections from cACint209_L23_LBC_d5fa8128ae_0_0.cell.nml to cACint209_L23_NGC_be2ffb9c7d_0_0.cell.nml\n",
      "\tAdded 26 connections from cACint209_L23_LBC_d5fa8128ae_0_0.cell.nml to bNAC219_L23_NGC_1c20d72451_0_0.cell.nml\n",
      "\tAdded 13 connections from cACint209_L23_LBC_d5fa8128ae_0_0.cell.nml to cACint209_L23_NGC_8a9ea95bee_0_0.cell.nml\n",
      "\tAdded 39 connections from cACint209_L23_LBC_d5fa8128ae_0_0.cell.nml to cACint209_L23_NGC_5d66592f99_0_0.cell.nml\n",
      "\tAdded 26 connections from cACint209_L23_LBC_d5fa8128ae_0_0.cell.nml to cNAC187_L23_NGC_4cc11d30bc_0_0.cell.nml\n",
      "\tAdded 39 connections from cACint209_L23_LBC_d5fa8128ae_0_0.cell.nml to cACint209_L23_NGC_ec67e9ba9b_0_0.cell.nml\n",
      "\tAdded 13 connections from cACint209_L23_LBC_d5fa8128ae_0_0.cell.nml to bNAC219_L23_NGC_025b2126a1_0_0.cell.nml\n",
      "\tAdded 13 connections from cACint209_L23_LBC_d5fa8128ae_0_0.cell.nml to cNAC187_L23_NGC_2477403bcb_0_0.cell.nml\n",
      "\tAdded 10 connections from dNAC222_L23_LBC_df15689e81_0_0.cell.nml to bNAC219_L23_NGC_d600988347_0_0.cell.nml\n",
      "\tAdded 10 connections from dNAC222_L23_LBC_df15689e81_0_0.cell.nml to cNAC187_L23_NGC_e831b433a9_0_0.cell.nml\n",
      "\tAdded 20 connections from dNAC222_L23_LBC_df15689e81_0_0.cell.nml to cNAC187_L23_NGC_d79ffc246d_0_0.cell.nml\n",
      "\tAdded 10 connections from dNAC222_L23_LBC_df15689e81_0_0.cell.nml to bNAC219_L23_NGC_8d6df1ab35_0_0.cell.nml\n",
      "\tAdded 40 connections from dNAC222_L23_LBC_df15689e81_0_0.cell.nml to cACint209_L23_NGC_be2ffb9c7d_0_0.cell.nml\n",
      "\tAdded 20 connections from dNAC222_L23_LBC_df15689e81_0_0.cell.nml to bNAC219_L23_NGC_1c20d72451_0_0.cell.nml\n",
      "\tAdded 10 connections from dNAC222_L23_LBC_df15689e81_0_0.cell.nml to cACint209_L23_NGC_8a9ea95bee_0_0.cell.nml\n",
      "\tAdded 30 connections from dNAC222_L23_LBC_df15689e81_0_0.cell.nml to cACint209_L23_NGC_5d66592f99_0_0.cell.nml\n",
      "\tAdded 20 connections from dNAC222_L23_LBC_df15689e81_0_0.cell.nml to cNAC187_L23_NGC_4cc11d30bc_0_0.cell.nml\n",
      "\tAdded 30 connections from dNAC222_L23_LBC_df15689e81_0_0.cell.nml to cACint209_L23_NGC_ec67e9ba9b_0_0.cell.nml\n",
      "\tAdded 10 connections from dNAC222_L23_LBC_df15689e81_0_0.cell.nml to bNAC219_L23_NGC_025b2126a1_0_0.cell.nml\n",
      "\tAdded 10 connections from dNAC222_L23_LBC_df15689e81_0_0.cell.nml to cNAC187_L23_NGC_2477403bcb_0_0.cell.nml\n",
      "\tAdded 1 connections from bAC217_L23_LBC_aebca8458d_0_0.cell.nml to bNAC219_L23_NGC_d600988347_0_0.cell.nml\n",
      "\tAdded 1 connections from bAC217_L23_LBC_aebca8458d_0_0.cell.nml to cNAC187_L23_NGC_e831b433a9_0_0.cell.nml\n",
      "\tAdded 2 connections from bAC217_L23_LBC_aebca8458d_0_0.cell.nml to cNAC187_L23_NGC_d79ffc246d_0_0.cell.nml\n",
      "\tAdded 1 connections from bAC217_L23_LBC_aebca8458d_0_0.cell.nml to bNAC219_L23_NGC_8d6df1ab35_0_0.cell.nml\n",
      "\tAdded 4 connections from bAC217_L23_LBC_aebca8458d_0_0.cell.nml to cACint209_L23_NGC_be2ffb9c7d_0_0.cell.nml\n",
      "\tAdded 2 connections from bAC217_L23_LBC_aebca8458d_0_0.cell.nml to bNAC219_L23_NGC_1c20d72451_0_0.cell.nml\n",
      "\tAdded 1 connections from bAC217_L23_LBC_aebca8458d_0_0.cell.nml to cACint209_L23_NGC_8a9ea95bee_0_0.cell.nml\n",
      "\tAdded 3 connections from bAC217_L23_LBC_aebca8458d_0_0.cell.nml to cACint209_L23_NGC_5d66592f99_0_0.cell.nml\n",
      "\tAdded 2 connections from bAC217_L23_LBC_aebca8458d_0_0.cell.nml to cNAC187_L23_NGC_4cc11d30bc_0_0.cell.nml\n",
      "\tAdded 3 connections from bAC217_L23_LBC_aebca8458d_0_0.cell.nml to cACint209_L23_NGC_ec67e9ba9b_0_0.cell.nml\n",
      "\tAdded 1 connections from bAC217_L23_LBC_aebca8458d_0_0.cell.nml to bNAC219_L23_NGC_025b2126a1_0_0.cell.nml\n",
      "\tAdded 1 connections from bAC217_L23_LBC_aebca8458d_0_0.cell.nml to cNAC187_L23_NGC_2477403bcb_0_0.cell.nml\n",
      "\tAdded 10 connections from cACint209_L23_LBC_fece30537a_0_0.cell.nml to bNAC219_L23_NGC_d600988347_0_0.cell.nml\n",
      "\tAdded 10 connections from cACint209_L23_LBC_fece30537a_0_0.cell.nml to cNAC187_L23_NGC_e831b433a9_0_0.cell.nml\n",
      "\tAdded 20 connections from cACint209_L23_LBC_fece30537a_0_0.cell.nml to cNAC187_L23_NGC_d79ffc246d_0_0.cell.nml\n",
      "\tAdded 10 connections from cACint209_L23_LBC_fece30537a_0_0.cell.nml to bNAC219_L23_NGC_8d6df1ab35_0_0.cell.nml\n",
      "\tAdded 40 connections from cACint209_L23_LBC_fece30537a_0_0.cell.nml to cACint209_L23_NGC_be2ffb9c7d_0_0.cell.nml\n",
      "\tAdded 20 connections from cACint209_L23_LBC_fece30537a_0_0.cell.nml to bNAC219_L23_NGC_1c20d72451_0_0.cell.nml\n",
      "\tAdded 10 connections from cACint209_L23_LBC_fece30537a_0_0.cell.nml to cACint209_L23_NGC_8a9ea95bee_0_0.cell.nml\n",
      "\tAdded 30 connections from cACint209_L23_LBC_fece30537a_0_0.cell.nml to cACint209_L23_NGC_5d66592f99_0_0.cell.nml\n",
      "\tAdded 20 connections from cACint209_L23_LBC_fece30537a_0_0.cell.nml to cNAC187_L23_NGC_4cc11d30bc_0_0.cell.nml\n",
      "\tAdded 30 connections from cACint209_L23_LBC_fece30537a_0_0.cell.nml to cACint209_L23_NGC_ec67e9ba9b_0_0.cell.nml\n",
      "\tAdded 10 connections from cACint209_L23_LBC_fece30537a_0_0.cell.nml to bNAC219_L23_NGC_025b2126a1_0_0.cell.nml\n",
      "\tAdded 10 connections from cACint209_L23_LBC_fece30537a_0_0.cell.nml to cNAC187_L23_NGC_2477403bcb_0_0.cell.nml\n",
      "\tAdded 7 connections from cACint209_L23_LBC_c6138544ab_0_0.cell.nml to bNAC219_L23_NGC_d600988347_0_0.cell.nml\n",
      "\tAdded 7 connections from cACint209_L23_LBC_c6138544ab_0_0.cell.nml to cNAC187_L23_NGC_e831b433a9_0_0.cell.nml\n",
      "\tAdded 14 connections from cACint209_L23_LBC_c6138544ab_0_0.cell.nml to cNAC187_L23_NGC_d79ffc246d_0_0.cell.nml\n",
      "\tAdded 7 connections from cACint209_L23_LBC_c6138544ab_0_0.cell.nml to bNAC219_L23_NGC_8d6df1ab35_0_0.cell.nml\n",
      "\tAdded 28 connections from cACint209_L23_LBC_c6138544ab_0_0.cell.nml to cACint209_L23_NGC_be2ffb9c7d_0_0.cell.nml\n",
      "\tAdded 14 connections from cACint209_L23_LBC_c6138544ab_0_0.cell.nml to bNAC219_L23_NGC_1c20d72451_0_0.cell.nml\n",
      "\tAdded 7 connections from cACint209_L23_LBC_c6138544ab_0_0.cell.nml to cACint209_L23_NGC_8a9ea95bee_0_0.cell.nml\n",
      "\tAdded 21 connections from cACint209_L23_LBC_c6138544ab_0_0.cell.nml to cACint209_L23_NGC_5d66592f99_0_0.cell.nml\n",
      "\tAdded 14 connections from cACint209_L23_LBC_c6138544ab_0_0.cell.nml to cNAC187_L23_NGC_4cc11d30bc_0_0.cell.nml\n",
      "\tAdded 21 connections from cACint209_L23_LBC_c6138544ab_0_0.cell.nml to cACint209_L23_NGC_ec67e9ba9b_0_0.cell.nml\n",
      "\tAdded 7 connections from cACint209_L23_LBC_c6138544ab_0_0.cell.nml to bNAC219_L23_NGC_025b2126a1_0_0.cell.nml\n",
      "\tAdded 7 connections from cACint209_L23_LBC_c6138544ab_0_0.cell.nml to cNAC187_L23_NGC_2477403bcb_0_0.cell.nml\n",
      "\tAdded 1 connections from cSTUT189_L23_LBC_91044b50b3_0_0.cell.nml to bNAC219_L23_NGC_d600988347_0_0.cell.nml\n",
      "\tAdded 1 connections from cSTUT189_L23_LBC_91044b50b3_0_0.cell.nml to cNAC187_L23_NGC_e831b433a9_0_0.cell.nml\n",
      "\tAdded 2 connections from cSTUT189_L23_LBC_91044b50b3_0_0.cell.nml to cNAC187_L23_NGC_d79ffc246d_0_0.cell.nml\n",
      "\tAdded 1 connections from cSTUT189_L23_LBC_91044b50b3_0_0.cell.nml to bNAC219_L23_NGC_8d6df1ab35_0_0.cell.nml\n",
      "\tAdded 4 connections from cSTUT189_L23_LBC_91044b50b3_0_0.cell.nml to cACint209_L23_NGC_be2ffb9c7d_0_0.cell.nml\n",
      "\tAdded 2 connections from cSTUT189_L23_LBC_91044b50b3_0_0.cell.nml to bNAC219_L23_NGC_1c20d72451_0_0.cell.nml\n",
      "\tAdded 1 connections from cSTUT189_L23_LBC_91044b50b3_0_0.cell.nml to cACint209_L23_NGC_8a9ea95bee_0_0.cell.nml\n",
      "\tAdded 3 connections from cSTUT189_L23_LBC_91044b50b3_0_0.cell.nml to cACint209_L23_NGC_5d66592f99_0_0.cell.nml\n",
      "\tAdded 2 connections from cSTUT189_L23_LBC_91044b50b3_0_0.cell.nml to cNAC187_L23_NGC_4cc11d30bc_0_0.cell.nml\n",
      "\tAdded 3 connections from cSTUT189_L23_LBC_91044b50b3_0_0.cell.nml to cACint209_L23_NGC_ec67e9ba9b_0_0.cell.nml\n",
      "\tAdded 1 connections from cSTUT189_L23_LBC_91044b50b3_0_0.cell.nml to bNAC219_L23_NGC_025b2126a1_0_0.cell.nml\n",
      "\tAdded 1 connections from cSTUT189_L23_LBC_91044b50b3_0_0.cell.nml to cNAC187_L23_NGC_2477403bcb_0_0.cell.nml\n",
      "\tAdded 6 connections from dNAC222_L23_LBC_19cea46eb3_0_0.cell.nml to bNAC219_L23_NGC_d600988347_0_0.cell.nml\n",
      "\tAdded 6 connections from dNAC222_L23_LBC_19cea46eb3_0_0.cell.nml to cNAC187_L23_NGC_e831b433a9_0_0.cell.nml\n",
      "\tAdded 12 connections from dNAC222_L23_LBC_19cea46eb3_0_0.cell.nml to cNAC187_L23_NGC_d79ffc246d_0_0.cell.nml\n",
      "\tAdded 6 connections from dNAC222_L23_LBC_19cea46eb3_0_0.cell.nml to bNAC219_L23_NGC_8d6df1ab35_0_0.cell.nml\n",
      "\tAdded 24 connections from dNAC222_L23_LBC_19cea46eb3_0_0.cell.nml to cACint209_L23_NGC_be2ffb9c7d_0_0.cell.nml\n",
      "\tAdded 12 connections from dNAC222_L23_LBC_19cea46eb3_0_0.cell.nml to bNAC219_L23_NGC_1c20d72451_0_0.cell.nml\n",
      "\tAdded 6 connections from dNAC222_L23_LBC_19cea46eb3_0_0.cell.nml to cACint209_L23_NGC_8a9ea95bee_0_0.cell.nml\n",
      "\tAdded 18 connections from dNAC222_L23_LBC_19cea46eb3_0_0.cell.nml to cACint209_L23_NGC_5d66592f99_0_0.cell.nml\n",
      "\tAdded 12 connections from dNAC222_L23_LBC_19cea46eb3_0_0.cell.nml to cNAC187_L23_NGC_4cc11d30bc_0_0.cell.nml\n",
      "\tAdded 18 connections from dNAC222_L23_LBC_19cea46eb3_0_0.cell.nml to cACint209_L23_NGC_ec67e9ba9b_0_0.cell.nml\n",
      "\tAdded 6 connections from dNAC222_L23_LBC_19cea46eb3_0_0.cell.nml to bNAC219_L23_NGC_025b2126a1_0_0.cell.nml\n",
      "\tAdded 6 connections from dNAC222_L23_LBC_19cea46eb3_0_0.cell.nml to cNAC187_L23_NGC_2477403bcb_0_0.cell.nml\n",
      "\tAdded 9 connections from cNAC187_L23_LBC_d3f79b893e_0_0.cell.nml to bNAC219_L23_NGC_d600988347_0_0.cell.nml\n",
      "\tAdded 9 connections from cNAC187_L23_LBC_d3f79b893e_0_0.cell.nml to cNAC187_L23_NGC_e831b433a9_0_0.cell.nml\n",
      "\tAdded 18 connections from cNAC187_L23_LBC_d3f79b893e_0_0.cell.nml to cNAC187_L23_NGC_d79ffc246d_0_0.cell.nml\n",
      "\tAdded 9 connections from cNAC187_L23_LBC_d3f79b893e_0_0.cell.nml to bNAC219_L23_NGC_8d6df1ab35_0_0.cell.nml\n",
      "\tAdded 36 connections from cNAC187_L23_LBC_d3f79b893e_0_0.cell.nml to cACint209_L23_NGC_be2ffb9c7d_0_0.cell.nml\n",
      "\tAdded 18 connections from cNAC187_L23_LBC_d3f79b893e_0_0.cell.nml to bNAC219_L23_NGC_1c20d72451_0_0.cell.nml\n",
      "\tAdded 9 connections from cNAC187_L23_LBC_d3f79b893e_0_0.cell.nml to cACint209_L23_NGC_8a9ea95bee_0_0.cell.nml\n",
      "\tAdded 27 connections from cNAC187_L23_LBC_d3f79b893e_0_0.cell.nml to cACint209_L23_NGC_5d66592f99_0_0.cell.nml\n",
      "\tAdded 18 connections from cNAC187_L23_LBC_d3f79b893e_0_0.cell.nml to cNAC187_L23_NGC_4cc11d30bc_0_0.cell.nml\n",
      "\tAdded 27 connections from cNAC187_L23_LBC_d3f79b893e_0_0.cell.nml to cACint209_L23_NGC_ec67e9ba9b_0_0.cell.nml\n",
      "\tAdded 9 connections from cNAC187_L23_LBC_d3f79b893e_0_0.cell.nml to bNAC219_L23_NGC_025b2126a1_0_0.cell.nml\n",
      "\tAdded 9 connections from cNAC187_L23_LBC_d3f79b893e_0_0.cell.nml to cNAC187_L23_NGC_2477403bcb_0_0.cell.nml\n",
      "\tAdded 12 connections from cACint209_L23_LBC_10ecac904b_0_0.cell.nml to bNAC219_L23_NGC_d600988347_0_0.cell.nml\n",
      "\tAdded 12 connections from cACint209_L23_LBC_10ecac904b_0_0.cell.nml to cNAC187_L23_NGC_e831b433a9_0_0.cell.nml\n",
      "\tAdded 24 connections from cACint209_L23_LBC_10ecac904b_0_0.cell.nml to cNAC187_L23_NGC_d79ffc246d_0_0.cell.nml\n",
      "\tAdded 12 connections from cACint209_L23_LBC_10ecac904b_0_0.cell.nml to bNAC219_L23_NGC_8d6df1ab35_0_0.cell.nml\n",
      "\tAdded 48 connections from cACint209_L23_LBC_10ecac904b_0_0.cell.nml to cACint209_L23_NGC_be2ffb9c7d_0_0.cell.nml\n",
      "\tAdded 24 connections from cACint209_L23_LBC_10ecac904b_0_0.cell.nml to bNAC219_L23_NGC_1c20d72451_0_0.cell.nml\n",
      "\tAdded 12 connections from cACint209_L23_LBC_10ecac904b_0_0.cell.nml to cACint209_L23_NGC_8a9ea95bee_0_0.cell.nml\n",
      "\tAdded 36 connections from cACint209_L23_LBC_10ecac904b_0_0.cell.nml to cACint209_L23_NGC_5d66592f99_0_0.cell.nml\n",
      "\tAdded 24 connections from cACint209_L23_LBC_10ecac904b_0_0.cell.nml to cNAC187_L23_NGC_4cc11d30bc_0_0.cell.nml\n",
      "\tAdded 36 connections from cACint209_L23_LBC_10ecac904b_0_0.cell.nml to cACint209_L23_NGC_ec67e9ba9b_0_0.cell.nml\n",
      "\tAdded 12 connections from cACint209_L23_LBC_10ecac904b_0_0.cell.nml to bNAC219_L23_NGC_025b2126a1_0_0.cell.nml\n",
      "\tAdded 12 connections from cACint209_L23_LBC_10ecac904b_0_0.cell.nml to cNAC187_L23_NGC_2477403bcb_0_0.cell.nml\n",
      "\tAdded 11 connections from dNAC222_L23_LBC_3872d55b42_0_0.cell.nml to bNAC219_L23_NGC_d600988347_0_0.cell.nml\n",
      "\tAdded 11 connections from dNAC222_L23_LBC_3872d55b42_0_0.cell.nml to cNAC187_L23_NGC_e831b433a9_0_0.cell.nml\n",
      "\tAdded 22 connections from dNAC222_L23_LBC_3872d55b42_0_0.cell.nml to cNAC187_L23_NGC_d79ffc246d_0_0.cell.nml\n",
      "\tAdded 11 connections from dNAC222_L23_LBC_3872d55b42_0_0.cell.nml to bNAC219_L23_NGC_8d6df1ab35_0_0.cell.nml\n",
      "\tAdded 44 connections from dNAC222_L23_LBC_3872d55b42_0_0.cell.nml to cACint209_L23_NGC_be2ffb9c7d_0_0.cell.nml\n",
      "\tAdded 22 connections from dNAC222_L23_LBC_3872d55b42_0_0.cell.nml to bNAC219_L23_NGC_1c20d72451_0_0.cell.nml\n",
      "\tAdded 11 connections from dNAC222_L23_LBC_3872d55b42_0_0.cell.nml to cACint209_L23_NGC_8a9ea95bee_0_0.cell.nml\n",
      "\tAdded 33 connections from dNAC222_L23_LBC_3872d55b42_0_0.cell.nml to cACint209_L23_NGC_5d66592f99_0_0.cell.nml\n",
      "\tAdded 22 connections from dNAC222_L23_LBC_3872d55b42_0_0.cell.nml to cNAC187_L23_NGC_4cc11d30bc_0_0.cell.nml\n",
      "\tAdded 33 connections from dNAC222_L23_LBC_3872d55b42_0_0.cell.nml to cACint209_L23_NGC_ec67e9ba9b_0_0.cell.nml\n",
      "\tAdded 11 connections from dNAC222_L23_LBC_3872d55b42_0_0.cell.nml to bNAC219_L23_NGC_025b2126a1_0_0.cell.nml\n",
      "\tAdded 11 connections from dNAC222_L23_LBC_3872d55b42_0_0.cell.nml to cNAC187_L23_NGC_2477403bcb_0_0.cell.nml\n",
      "\tAdded 3 connections from bAC217_L23_LBC_4738b5c12c_0_0.cell.nml to bNAC219_L23_NGC_d600988347_0_0.cell.nml\n",
      "\tAdded 3 connections from bAC217_L23_LBC_4738b5c12c_0_0.cell.nml to cNAC187_L23_NGC_e831b433a9_0_0.cell.nml\n",
      "\tAdded 6 connections from bAC217_L23_LBC_4738b5c12c_0_0.cell.nml to cNAC187_L23_NGC_d79ffc246d_0_0.cell.nml\n",
      "\tAdded 3 connections from bAC217_L23_LBC_4738b5c12c_0_0.cell.nml to bNAC219_L23_NGC_8d6df1ab35_0_0.cell.nml\n",
      "\tAdded 12 connections from bAC217_L23_LBC_4738b5c12c_0_0.cell.nml to cACint209_L23_NGC_be2ffb9c7d_0_0.cell.nml\n",
      "\tAdded 6 connections from bAC217_L23_LBC_4738b5c12c_0_0.cell.nml to bNAC219_L23_NGC_1c20d72451_0_0.cell.nml\n",
      "\tAdded 3 connections from bAC217_L23_LBC_4738b5c12c_0_0.cell.nml to cACint209_L23_NGC_8a9ea95bee_0_0.cell.nml\n",
      "\tAdded 9 connections from bAC217_L23_LBC_4738b5c12c_0_0.cell.nml to cACint209_L23_NGC_5d66592f99_0_0.cell.nml\n",
      "\tAdded 6 connections from bAC217_L23_LBC_4738b5c12c_0_0.cell.nml to cNAC187_L23_NGC_4cc11d30bc_0_0.cell.nml\n",
      "\tAdded 9 connections from bAC217_L23_LBC_4738b5c12c_0_0.cell.nml to cACint209_L23_NGC_ec67e9ba9b_0_0.cell.nml\n",
      "\tAdded 3 connections from bAC217_L23_LBC_4738b5c12c_0_0.cell.nml to bNAC219_L23_NGC_025b2126a1_0_0.cell.nml\n",
      "\tAdded 3 connections from bAC217_L23_LBC_4738b5c12c_0_0.cell.nml to cNAC187_L23_NGC_2477403bcb_0_0.cell.nml\n",
      "\tAdded 10 connections from bNAC219_L23_LBC_b35128281c_0_0.cell.nml to bNAC219_L23_NGC_d600988347_0_0.cell.nml\n",
      "\tAdded 10 connections from bNAC219_L23_LBC_b35128281c_0_0.cell.nml to cNAC187_L23_NGC_e831b433a9_0_0.cell.nml\n",
      "\tAdded 20 connections from bNAC219_L23_LBC_b35128281c_0_0.cell.nml to cNAC187_L23_NGC_d79ffc246d_0_0.cell.nml\n",
      "\tAdded 10 connections from bNAC219_L23_LBC_b35128281c_0_0.cell.nml to bNAC219_L23_NGC_8d6df1ab35_0_0.cell.nml\n",
      "\tAdded 40 connections from bNAC219_L23_LBC_b35128281c_0_0.cell.nml to cACint209_L23_NGC_be2ffb9c7d_0_0.cell.nml\n",
      "\tAdded 20 connections from bNAC219_L23_LBC_b35128281c_0_0.cell.nml to bNAC219_L23_NGC_1c20d72451_0_0.cell.nml\n",
      "\tAdded 10 connections from bNAC219_L23_LBC_b35128281c_0_0.cell.nml to cACint209_L23_NGC_8a9ea95bee_0_0.cell.nml\n",
      "\tAdded 30 connections from bNAC219_L23_LBC_b35128281c_0_0.cell.nml to cACint209_L23_NGC_5d66592f99_0_0.cell.nml\n",
      "\tAdded 20 connections from bNAC219_L23_LBC_b35128281c_0_0.cell.nml to cNAC187_L23_NGC_4cc11d30bc_0_0.cell.nml\n",
      "\tAdded 30 connections from bNAC219_L23_LBC_b35128281c_0_0.cell.nml to cACint209_L23_NGC_ec67e9ba9b_0_0.cell.nml\n",
      "\tAdded 10 connections from bNAC219_L23_LBC_b35128281c_0_0.cell.nml to bNAC219_L23_NGC_025b2126a1_0_0.cell.nml\n",
      "\tAdded 10 connections from bNAC219_L23_LBC_b35128281c_0_0.cell.nml to cNAC187_L23_NGC_2477403bcb_0_0.cell.nml\n",
      "\tAdded 6 connections from bNAC219_L23_LBC_936c35a9e1_0_0.cell.nml to bNAC219_L23_NGC_d600988347_0_0.cell.nml\n",
      "\tAdded 6 connections from bNAC219_L23_LBC_936c35a9e1_0_0.cell.nml to cNAC187_L23_NGC_e831b433a9_0_0.cell.nml\n",
      "\tAdded 12 connections from bNAC219_L23_LBC_936c35a9e1_0_0.cell.nml to cNAC187_L23_NGC_d79ffc246d_0_0.cell.nml\n",
      "\tAdded 6 connections from bNAC219_L23_LBC_936c35a9e1_0_0.cell.nml to bNAC219_L23_NGC_8d6df1ab35_0_0.cell.nml\n",
      "\tAdded 24 connections from bNAC219_L23_LBC_936c35a9e1_0_0.cell.nml to cACint209_L23_NGC_be2ffb9c7d_0_0.cell.nml\n",
      "\tAdded 12 connections from bNAC219_L23_LBC_936c35a9e1_0_0.cell.nml to bNAC219_L23_NGC_1c20d72451_0_0.cell.nml\n",
      "\tAdded 6 connections from bNAC219_L23_LBC_936c35a9e1_0_0.cell.nml to cACint209_L23_NGC_8a9ea95bee_0_0.cell.nml\n",
      "\tAdded 18 connections from bNAC219_L23_LBC_936c35a9e1_0_0.cell.nml to cACint209_L23_NGC_5d66592f99_0_0.cell.nml\n",
      "\tAdded 12 connections from bNAC219_L23_LBC_936c35a9e1_0_0.cell.nml to cNAC187_L23_NGC_4cc11d30bc_0_0.cell.nml\n",
      "\tAdded 18 connections from bNAC219_L23_LBC_936c35a9e1_0_0.cell.nml to cACint209_L23_NGC_ec67e9ba9b_0_0.cell.nml\n",
      "\tAdded 6 connections from bNAC219_L23_LBC_936c35a9e1_0_0.cell.nml to bNAC219_L23_NGC_025b2126a1_0_0.cell.nml\n",
      "\tAdded 6 connections from bNAC219_L23_LBC_936c35a9e1_0_0.cell.nml to cNAC187_L23_NGC_2477403bcb_0_0.cell.nml\n",
      "\tAdded 10 connections from cNAC187_L23_LBC_95f37b59ec_0_0.cell.nml to bNAC219_L23_NGC_d600988347_0_0.cell.nml\n",
      "\tAdded 10 connections from cNAC187_L23_LBC_95f37b59ec_0_0.cell.nml to cNAC187_L23_NGC_e831b433a9_0_0.cell.nml\n",
      "\tAdded 20 connections from cNAC187_L23_LBC_95f37b59ec_0_0.cell.nml to cNAC187_L23_NGC_d79ffc246d_0_0.cell.nml\n",
      "\tAdded 10 connections from cNAC187_L23_LBC_95f37b59ec_0_0.cell.nml to bNAC219_L23_NGC_8d6df1ab35_0_0.cell.nml\n",
      "\tAdded 40 connections from cNAC187_L23_LBC_95f37b59ec_0_0.cell.nml to cACint209_L23_NGC_be2ffb9c7d_0_0.cell.nml\n",
      "\tAdded 20 connections from cNAC187_L23_LBC_95f37b59ec_0_0.cell.nml to bNAC219_L23_NGC_1c20d72451_0_0.cell.nml\n",
      "\tAdded 10 connections from cNAC187_L23_LBC_95f37b59ec_0_0.cell.nml to cACint209_L23_NGC_8a9ea95bee_0_0.cell.nml\n",
      "\tAdded 30 connections from cNAC187_L23_LBC_95f37b59ec_0_0.cell.nml to cACint209_L23_NGC_5d66592f99_0_0.cell.nml\n",
      "\tAdded 20 connections from cNAC187_L23_LBC_95f37b59ec_0_0.cell.nml to cNAC187_L23_NGC_4cc11d30bc_0_0.cell.nml\n",
      "\tAdded 30 connections from cNAC187_L23_LBC_95f37b59ec_0_0.cell.nml to cACint209_L23_NGC_ec67e9ba9b_0_0.cell.nml\n",
      "\tAdded 10 connections from cNAC187_L23_LBC_95f37b59ec_0_0.cell.nml to bNAC219_L23_NGC_025b2126a1_0_0.cell.nml\n",
      "\tAdded 10 connections from cNAC187_L23_LBC_95f37b59ec_0_0.cell.nml to cNAC187_L23_NGC_2477403bcb_0_0.cell.nml\n",
      "\tAdded 5 connections from bAC217_L23_LBC_361cffb4c6_0_0.cell.nml to bNAC219_L23_NGC_d600988347_0_0.cell.nml\n",
      "\tAdded 5 connections from bAC217_L23_LBC_361cffb4c6_0_0.cell.nml to cNAC187_L23_NGC_e831b433a9_0_0.cell.nml\n",
      "\tAdded 10 connections from bAC217_L23_LBC_361cffb4c6_0_0.cell.nml to cNAC187_L23_NGC_d79ffc246d_0_0.cell.nml\n",
      "\tAdded 5 connections from bAC217_L23_LBC_361cffb4c6_0_0.cell.nml to bNAC219_L23_NGC_8d6df1ab35_0_0.cell.nml\n",
      "\tAdded 20 connections from bAC217_L23_LBC_361cffb4c6_0_0.cell.nml to cACint209_L23_NGC_be2ffb9c7d_0_0.cell.nml\n",
      "\tAdded 10 connections from bAC217_L23_LBC_361cffb4c6_0_0.cell.nml to bNAC219_L23_NGC_1c20d72451_0_0.cell.nml\n",
      "\tAdded 5 connections from bAC217_L23_LBC_361cffb4c6_0_0.cell.nml to cACint209_L23_NGC_8a9ea95bee_0_0.cell.nml\n",
      "\tAdded 15 connections from bAC217_L23_LBC_361cffb4c6_0_0.cell.nml to cACint209_L23_NGC_5d66592f99_0_0.cell.nml\n",
      "\tAdded 10 connections from bAC217_L23_LBC_361cffb4c6_0_0.cell.nml to cNAC187_L23_NGC_4cc11d30bc_0_0.cell.nml\n",
      "\tAdded 15 connections from bAC217_L23_LBC_361cffb4c6_0_0.cell.nml to cACint209_L23_NGC_ec67e9ba9b_0_0.cell.nml\n",
      "\tAdded 5 connections from bAC217_L23_LBC_361cffb4c6_0_0.cell.nml to bNAC219_L23_NGC_025b2126a1_0_0.cell.nml\n",
      "\tAdded 5 connections from bAC217_L23_LBC_361cffb4c6_0_0.cell.nml to cNAC187_L23_NGC_2477403bcb_0_0.cell.nml\n",
      "\tAdded 10 connections from cNAC187_L23_LBC_d031f0be22_0_0.cell.nml to bNAC219_L23_NGC_d600988347_0_0.cell.nml\n",
      "\tAdded 10 connections from cNAC187_L23_LBC_d031f0be22_0_0.cell.nml to cNAC187_L23_NGC_e831b433a9_0_0.cell.nml\n",
      "\tAdded 20 connections from cNAC187_L23_LBC_d031f0be22_0_0.cell.nml to cNAC187_L23_NGC_d79ffc246d_0_0.cell.nml\n",
      "\tAdded 10 connections from cNAC187_L23_LBC_d031f0be22_0_0.cell.nml to bNAC219_L23_NGC_8d6df1ab35_0_0.cell.nml\n",
      "\tAdded 40 connections from cNAC187_L23_LBC_d031f0be22_0_0.cell.nml to cACint209_L23_NGC_be2ffb9c7d_0_0.cell.nml\n",
      "\tAdded 20 connections from cNAC187_L23_LBC_d031f0be22_0_0.cell.nml to bNAC219_L23_NGC_1c20d72451_0_0.cell.nml\n",
      "\tAdded 10 connections from cNAC187_L23_LBC_d031f0be22_0_0.cell.nml to cACint209_L23_NGC_8a9ea95bee_0_0.cell.nml\n",
      "\tAdded 30 connections from cNAC187_L23_LBC_d031f0be22_0_0.cell.nml to cACint209_L23_NGC_5d66592f99_0_0.cell.nml\n",
      "\tAdded 20 connections from cNAC187_L23_LBC_d031f0be22_0_0.cell.nml to cNAC187_L23_NGC_4cc11d30bc_0_0.cell.nml\n",
      "\tAdded 30 connections from cNAC187_L23_LBC_d031f0be22_0_0.cell.nml to cACint209_L23_NGC_ec67e9ba9b_0_0.cell.nml\n",
      "\tAdded 10 connections from cNAC187_L23_LBC_d031f0be22_0_0.cell.nml to bNAC219_L23_NGC_025b2126a1_0_0.cell.nml\n",
      "\tAdded 10 connections from cNAC187_L23_LBC_d031f0be22_0_0.cell.nml to cNAC187_L23_NGC_2477403bcb_0_0.cell.nml\n",
      "\tAdded 14 connections from cACint209_L23_LBC_78b571a886_0_0.cell.nml to bNAC219_L23_NGC_d600988347_0_0.cell.nml\n",
      "\tAdded 14 connections from cACint209_L23_LBC_78b571a886_0_0.cell.nml to cNAC187_L23_NGC_e831b433a9_0_0.cell.nml\n",
      "\tAdded 28 connections from cACint209_L23_LBC_78b571a886_0_0.cell.nml to cNAC187_L23_NGC_d79ffc246d_0_0.cell.nml\n",
      "\tAdded 14 connections from cACint209_L23_LBC_78b571a886_0_0.cell.nml to bNAC219_L23_NGC_8d6df1ab35_0_0.cell.nml\n",
      "\tAdded 56 connections from cACint209_L23_LBC_78b571a886_0_0.cell.nml to cACint209_L23_NGC_be2ffb9c7d_0_0.cell.nml\n",
      "\tAdded 28 connections from cACint209_L23_LBC_78b571a886_0_0.cell.nml to bNAC219_L23_NGC_1c20d72451_0_0.cell.nml\n",
      "\tAdded 14 connections from cACint209_L23_LBC_78b571a886_0_0.cell.nml to cACint209_L23_NGC_8a9ea95bee_0_0.cell.nml\n",
      "\tAdded 42 connections from cACint209_L23_LBC_78b571a886_0_0.cell.nml to cACint209_L23_NGC_5d66592f99_0_0.cell.nml\n",
      "\tAdded 28 connections from cACint209_L23_LBC_78b571a886_0_0.cell.nml to cNAC187_L23_NGC_4cc11d30bc_0_0.cell.nml\n",
      "\tAdded 42 connections from cACint209_L23_LBC_78b571a886_0_0.cell.nml to cACint209_L23_NGC_ec67e9ba9b_0_0.cell.nml\n",
      "\tAdded 14 connections from cACint209_L23_LBC_78b571a886_0_0.cell.nml to bNAC219_L23_NGC_025b2126a1_0_0.cell.nml\n",
      "\tAdded 14 connections from cACint209_L23_LBC_78b571a886_0_0.cell.nml to cNAC187_L23_NGC_2477403bcb_0_0.cell.nml\n",
      "\tAdded 2 connections from bAC217_L23_LBC_c5ee2b20c2_0_0.cell.nml to bNAC219_L23_NGC_d600988347_0_0.cell.nml\n",
      "\tAdded 2 connections from bAC217_L23_LBC_c5ee2b20c2_0_0.cell.nml to cNAC187_L23_NGC_e831b433a9_0_0.cell.nml\n",
      "\tAdded 4 connections from bAC217_L23_LBC_c5ee2b20c2_0_0.cell.nml to cNAC187_L23_NGC_d79ffc246d_0_0.cell.nml\n",
      "\tAdded 2 connections from bAC217_L23_LBC_c5ee2b20c2_0_0.cell.nml to bNAC219_L23_NGC_8d6df1ab35_0_0.cell.nml\n",
      "\tAdded 8 connections from bAC217_L23_LBC_c5ee2b20c2_0_0.cell.nml to cACint209_L23_NGC_be2ffb9c7d_0_0.cell.nml\n",
      "\tAdded 4 connections from bAC217_L23_LBC_c5ee2b20c2_0_0.cell.nml to bNAC219_L23_NGC_1c20d72451_0_0.cell.nml\n",
      "\tAdded 2 connections from bAC217_L23_LBC_c5ee2b20c2_0_0.cell.nml to cACint209_L23_NGC_8a9ea95bee_0_0.cell.nml\n",
      "\tAdded 6 connections from bAC217_L23_LBC_c5ee2b20c2_0_0.cell.nml to cACint209_L23_NGC_5d66592f99_0_0.cell.nml\n",
      "\tAdded 4 connections from bAC217_L23_LBC_c5ee2b20c2_0_0.cell.nml to cNAC187_L23_NGC_4cc11d30bc_0_0.cell.nml\n",
      "\tAdded 6 connections from bAC217_L23_LBC_c5ee2b20c2_0_0.cell.nml to cACint209_L23_NGC_ec67e9ba9b_0_0.cell.nml\n",
      "\tAdded 2 connections from bAC217_L23_LBC_c5ee2b20c2_0_0.cell.nml to bNAC219_L23_NGC_025b2126a1_0_0.cell.nml\n",
      "\tAdded 2 connections from bAC217_L23_LBC_c5ee2b20c2_0_0.cell.nml to cNAC187_L23_NGC_2477403bcb_0_0.cell.nml\n",
      "\tAdded 1 connections from bNAC219_L23_LBC_fe2122c75c_0_0.cell.nml to bNAC219_L23_NGC_d600988347_0_0.cell.nml\n",
      "\tAdded 1 connections from bNAC219_L23_LBC_fe2122c75c_0_0.cell.nml to cNAC187_L23_NGC_e831b433a9_0_0.cell.nml\n",
      "\tAdded 2 connections from bNAC219_L23_LBC_fe2122c75c_0_0.cell.nml to cNAC187_L23_NGC_d79ffc246d_0_0.cell.nml\n",
      "\tAdded 1 connections from bNAC219_L23_LBC_fe2122c75c_0_0.cell.nml to bNAC219_L23_NGC_8d6df1ab35_0_0.cell.nml\n",
      "\tAdded 4 connections from bNAC219_L23_LBC_fe2122c75c_0_0.cell.nml to cACint209_L23_NGC_be2ffb9c7d_0_0.cell.nml\n",
      "\tAdded 2 connections from bNAC219_L23_LBC_fe2122c75c_0_0.cell.nml to bNAC219_L23_NGC_1c20d72451_0_0.cell.nml\n",
      "\tAdded 1 connections from bNAC219_L23_LBC_fe2122c75c_0_0.cell.nml to cACint209_L23_NGC_8a9ea95bee_0_0.cell.nml\n",
      "\tAdded 3 connections from bNAC219_L23_LBC_fe2122c75c_0_0.cell.nml to cACint209_L23_NGC_5d66592f99_0_0.cell.nml\n",
      "\tAdded 2 connections from bNAC219_L23_LBC_fe2122c75c_0_0.cell.nml to cNAC187_L23_NGC_4cc11d30bc_0_0.cell.nml\n",
      "\tAdded 3 connections from bNAC219_L23_LBC_fe2122c75c_0_0.cell.nml to cACint209_L23_NGC_ec67e9ba9b_0_0.cell.nml\n",
      "\tAdded 1 connections from bNAC219_L23_LBC_fe2122c75c_0_0.cell.nml to bNAC219_L23_NGC_025b2126a1_0_0.cell.nml\n",
      "\tAdded 1 connections from bNAC219_L23_LBC_fe2122c75c_0_0.cell.nml to cNAC187_L23_NGC_2477403bcb_0_0.cell.nml\n",
      "\tAdded 1 connections from cSTUT189_L23_LBC_e6e8f83407_0_0.cell.nml to bNAC219_L23_NGC_d600988347_0_0.cell.nml\n",
      "\tAdded 1 connections from cSTUT189_L23_LBC_e6e8f83407_0_0.cell.nml to cNAC187_L23_NGC_e831b433a9_0_0.cell.nml\n",
      "\tAdded 2 connections from cSTUT189_L23_LBC_e6e8f83407_0_0.cell.nml to cNAC187_L23_NGC_d79ffc246d_0_0.cell.nml\n",
      "\tAdded 1 connections from cSTUT189_L23_LBC_e6e8f83407_0_0.cell.nml to bNAC219_L23_NGC_8d6df1ab35_0_0.cell.nml\n",
      "\tAdded 4 connections from cSTUT189_L23_LBC_e6e8f83407_0_0.cell.nml to cACint209_L23_NGC_be2ffb9c7d_0_0.cell.nml\n",
      "\tAdded 2 connections from cSTUT189_L23_LBC_e6e8f83407_0_0.cell.nml to bNAC219_L23_NGC_1c20d72451_0_0.cell.nml\n",
      "\tAdded 1 connections from cSTUT189_L23_LBC_e6e8f83407_0_0.cell.nml to cACint209_L23_NGC_8a9ea95bee_0_0.cell.nml\n",
      "\tAdded 3 connections from cSTUT189_L23_LBC_e6e8f83407_0_0.cell.nml to cACint209_L23_NGC_5d66592f99_0_0.cell.nml\n",
      "\tAdded 2 connections from cSTUT189_L23_LBC_e6e8f83407_0_0.cell.nml to cNAC187_L23_NGC_4cc11d30bc_0_0.cell.nml\n",
      "\tAdded 3 connections from cSTUT189_L23_LBC_e6e8f83407_0_0.cell.nml to cACint209_L23_NGC_ec67e9ba9b_0_0.cell.nml\n",
      "\tAdded 1 connections from cSTUT189_L23_LBC_e6e8f83407_0_0.cell.nml to bNAC219_L23_NGC_025b2126a1_0_0.cell.nml\n",
      "\tAdded 1 connections from cSTUT189_L23_LBC_e6e8f83407_0_0.cell.nml to cNAC187_L23_NGC_2477403bcb_0_0.cell.nml\n",
      "\tAdded 12 connections from cNAC187_L23_LBC_df15689e81_0_0.cell.nml to bNAC219_L23_NGC_d600988347_0_0.cell.nml\n",
      "\tAdded 12 connections from cNAC187_L23_LBC_df15689e81_0_0.cell.nml to cNAC187_L23_NGC_e831b433a9_0_0.cell.nml\n",
      "\tAdded 24 connections from cNAC187_L23_LBC_df15689e81_0_0.cell.nml to cNAC187_L23_NGC_d79ffc246d_0_0.cell.nml\n",
      "\tAdded 12 connections from cNAC187_L23_LBC_df15689e81_0_0.cell.nml to bNAC219_L23_NGC_8d6df1ab35_0_0.cell.nml\n",
      "\tAdded 48 connections from cNAC187_L23_LBC_df15689e81_0_0.cell.nml to cACint209_L23_NGC_be2ffb9c7d_0_0.cell.nml\n",
      "\tAdded 24 connections from cNAC187_L23_LBC_df15689e81_0_0.cell.nml to bNAC219_L23_NGC_1c20d72451_0_0.cell.nml\n",
      "\tAdded 12 connections from cNAC187_L23_LBC_df15689e81_0_0.cell.nml to cACint209_L23_NGC_8a9ea95bee_0_0.cell.nml\n",
      "\tAdded 36 connections from cNAC187_L23_LBC_df15689e81_0_0.cell.nml to cACint209_L23_NGC_5d66592f99_0_0.cell.nml\n",
      "\tAdded 24 connections from cNAC187_L23_LBC_df15689e81_0_0.cell.nml to cNAC187_L23_NGC_4cc11d30bc_0_0.cell.nml\n",
      "\tAdded 36 connections from cNAC187_L23_LBC_df15689e81_0_0.cell.nml to cACint209_L23_NGC_ec67e9ba9b_0_0.cell.nml\n",
      "\tAdded 12 connections from cNAC187_L23_LBC_df15689e81_0_0.cell.nml to bNAC219_L23_NGC_025b2126a1_0_0.cell.nml\n",
      "\tAdded 12 connections from cNAC187_L23_LBC_df15689e81_0_0.cell.nml to cNAC187_L23_NGC_2477403bcb_0_0.cell.nml\n",
      "\tAdded 7 connections from bNAC219_L23_LBC_97118d2391_0_0.cell.nml to bNAC219_L23_NGC_d600988347_0_0.cell.nml\n",
      "\tAdded 7 connections from bNAC219_L23_LBC_97118d2391_0_0.cell.nml to cNAC187_L23_NGC_e831b433a9_0_0.cell.nml\n",
      "\tAdded 14 connections from bNAC219_L23_LBC_97118d2391_0_0.cell.nml to cNAC187_L23_NGC_d79ffc246d_0_0.cell.nml\n",
      "\tAdded 7 connections from bNAC219_L23_LBC_97118d2391_0_0.cell.nml to bNAC219_L23_NGC_8d6df1ab35_0_0.cell.nml\n",
      "\tAdded 28 connections from bNAC219_L23_LBC_97118d2391_0_0.cell.nml to cACint209_L23_NGC_be2ffb9c7d_0_0.cell.nml\n",
      "\tAdded 14 connections from bNAC219_L23_LBC_97118d2391_0_0.cell.nml to bNAC219_L23_NGC_1c20d72451_0_0.cell.nml\n",
      "\tAdded 7 connections from bNAC219_L23_LBC_97118d2391_0_0.cell.nml to cACint209_L23_NGC_8a9ea95bee_0_0.cell.nml\n",
      "\tAdded 21 connections from bNAC219_L23_LBC_97118d2391_0_0.cell.nml to cACint209_L23_NGC_5d66592f99_0_0.cell.nml\n",
      "\tAdded 14 connections from bNAC219_L23_LBC_97118d2391_0_0.cell.nml to cNAC187_L23_NGC_4cc11d30bc_0_0.cell.nml\n",
      "\tAdded 21 connections from bNAC219_L23_LBC_97118d2391_0_0.cell.nml to cACint209_L23_NGC_ec67e9ba9b_0_0.cell.nml\n",
      "\tAdded 7 connections from bNAC219_L23_LBC_97118d2391_0_0.cell.nml to bNAC219_L23_NGC_025b2126a1_0_0.cell.nml\n",
      "\tAdded 7 connections from bNAC219_L23_LBC_97118d2391_0_0.cell.nml to cNAC187_L23_NGC_2477403bcb_0_0.cell.nml\n",
      "\tAdded 3 connections from cNAC187_L23_LBC_f39fa9100b_0_0.cell.nml to bNAC219_L23_NGC_d600988347_0_0.cell.nml\n",
      "\tAdded 3 connections from cNAC187_L23_LBC_f39fa9100b_0_0.cell.nml to cNAC187_L23_NGC_e831b433a9_0_0.cell.nml\n",
      "\tAdded 6 connections from cNAC187_L23_LBC_f39fa9100b_0_0.cell.nml to cNAC187_L23_NGC_d79ffc246d_0_0.cell.nml\n",
      "\tAdded 3 connections from cNAC187_L23_LBC_f39fa9100b_0_0.cell.nml to bNAC219_L23_NGC_8d6df1ab35_0_0.cell.nml\n",
      "\tAdded 12 connections from cNAC187_L23_LBC_f39fa9100b_0_0.cell.nml to cACint209_L23_NGC_be2ffb9c7d_0_0.cell.nml\n",
      "\tAdded 6 connections from cNAC187_L23_LBC_f39fa9100b_0_0.cell.nml to bNAC219_L23_NGC_1c20d72451_0_0.cell.nml\n",
      "\tAdded 3 connections from cNAC187_L23_LBC_f39fa9100b_0_0.cell.nml to cACint209_L23_NGC_8a9ea95bee_0_0.cell.nml\n",
      "\tAdded 9 connections from cNAC187_L23_LBC_f39fa9100b_0_0.cell.nml to cACint209_L23_NGC_5d66592f99_0_0.cell.nml\n",
      "\tAdded 6 connections from cNAC187_L23_LBC_f39fa9100b_0_0.cell.nml to cNAC187_L23_NGC_4cc11d30bc_0_0.cell.nml\n",
      "\tAdded 9 connections from cNAC187_L23_LBC_f39fa9100b_0_0.cell.nml to cACint209_L23_NGC_ec67e9ba9b_0_0.cell.nml\n",
      "\tAdded 3 connections from cNAC187_L23_LBC_f39fa9100b_0_0.cell.nml to bNAC219_L23_NGC_025b2126a1_0_0.cell.nml\n",
      "\tAdded 3 connections from cNAC187_L23_LBC_f39fa9100b_0_0.cell.nml to cNAC187_L23_NGC_2477403bcb_0_0.cell.nml\n",
      "\tAdded 2 connections from bAC217_L23_LBC_72e65525d3_0_0.cell.nml to bNAC219_L23_NGC_d600988347_0_0.cell.nml\n",
      "\tAdded 2 connections from bAC217_L23_LBC_72e65525d3_0_0.cell.nml to cNAC187_L23_NGC_e831b433a9_0_0.cell.nml\n",
      "\tAdded 4 connections from bAC217_L23_LBC_72e65525d3_0_0.cell.nml to cNAC187_L23_NGC_d79ffc246d_0_0.cell.nml\n",
      "\tAdded 2 connections from bAC217_L23_LBC_72e65525d3_0_0.cell.nml to bNAC219_L23_NGC_8d6df1ab35_0_0.cell.nml\n",
      "\tAdded 8 connections from bAC217_L23_LBC_72e65525d3_0_0.cell.nml to cACint209_L23_NGC_be2ffb9c7d_0_0.cell.nml\n",
      "\tAdded 4 connections from bAC217_L23_LBC_72e65525d3_0_0.cell.nml to bNAC219_L23_NGC_1c20d72451_0_0.cell.nml\n",
      "\tAdded 2 connections from bAC217_L23_LBC_72e65525d3_0_0.cell.nml to cACint209_L23_NGC_8a9ea95bee_0_0.cell.nml\n",
      "\tAdded 6 connections from bAC217_L23_LBC_72e65525d3_0_0.cell.nml to cACint209_L23_NGC_5d66592f99_0_0.cell.nml\n",
      "\tAdded 4 connections from bAC217_L23_LBC_72e65525d3_0_0.cell.nml to cNAC187_L23_NGC_4cc11d30bc_0_0.cell.nml\n",
      "\tAdded 6 connections from bAC217_L23_LBC_72e65525d3_0_0.cell.nml to cACint209_L23_NGC_ec67e9ba9b_0_0.cell.nml\n",
      "\tAdded 2 connections from bAC217_L23_LBC_72e65525d3_0_0.cell.nml to bNAC219_L23_NGC_025b2126a1_0_0.cell.nml\n",
      "\tAdded 2 connections from bAC217_L23_LBC_72e65525d3_0_0.cell.nml to cNAC187_L23_NGC_2477403bcb_0_0.cell.nml\n",
      "\tAdded 3 connections from bNAC219_L23_LBC_91044b50b3_0_0.cell.nml to bNAC219_L23_NGC_d600988347_0_0.cell.nml\n",
      "\tAdded 3 connections from bNAC219_L23_LBC_91044b50b3_0_0.cell.nml to cNAC187_L23_NGC_e831b433a9_0_0.cell.nml\n",
      "\tAdded 6 connections from bNAC219_L23_LBC_91044b50b3_0_0.cell.nml to cNAC187_L23_NGC_d79ffc246d_0_0.cell.nml\n",
      "\tAdded 3 connections from bNAC219_L23_LBC_91044b50b3_0_0.cell.nml to bNAC219_L23_NGC_8d6df1ab35_0_0.cell.nml\n",
      "\tAdded 12 connections from bNAC219_L23_LBC_91044b50b3_0_0.cell.nml to cACint209_L23_NGC_be2ffb9c7d_0_0.cell.nml\n",
      "\tAdded 6 connections from bNAC219_L23_LBC_91044b50b3_0_0.cell.nml to bNAC219_L23_NGC_1c20d72451_0_0.cell.nml\n",
      "\tAdded 3 connections from bNAC219_L23_LBC_91044b50b3_0_0.cell.nml to cACint209_L23_NGC_8a9ea95bee_0_0.cell.nml\n",
      "\tAdded 9 connections from bNAC219_L23_LBC_91044b50b3_0_0.cell.nml to cACint209_L23_NGC_5d66592f99_0_0.cell.nml\n",
      "\tAdded 6 connections from bNAC219_L23_LBC_91044b50b3_0_0.cell.nml to cNAC187_L23_NGC_4cc11d30bc_0_0.cell.nml\n",
      "\tAdded 9 connections from bNAC219_L23_LBC_91044b50b3_0_0.cell.nml to cACint209_L23_NGC_ec67e9ba9b_0_0.cell.nml\n",
      "\tAdded 3 connections from bNAC219_L23_LBC_91044b50b3_0_0.cell.nml to bNAC219_L23_NGC_025b2126a1_0_0.cell.nml\n",
      "\tAdded 3 connections from bNAC219_L23_LBC_91044b50b3_0_0.cell.nml to cNAC187_L23_NGC_2477403bcb_0_0.cell.nml\n",
      "\tAdded 3 connections from dNAC222_L23_LBC_936c35a9e1_0_0.cell.nml to bNAC219_L23_NGC_d600988347_0_0.cell.nml\n",
      "\tAdded 3 connections from dNAC222_L23_LBC_936c35a9e1_0_0.cell.nml to cNAC187_L23_NGC_e831b433a9_0_0.cell.nml\n",
      "\tAdded 6 connections from dNAC222_L23_LBC_936c35a9e1_0_0.cell.nml to cNAC187_L23_NGC_d79ffc246d_0_0.cell.nml\n",
      "\tAdded 3 connections from dNAC222_L23_LBC_936c35a9e1_0_0.cell.nml to bNAC219_L23_NGC_8d6df1ab35_0_0.cell.nml\n",
      "\tAdded 12 connections from dNAC222_L23_LBC_936c35a9e1_0_0.cell.nml to cACint209_L23_NGC_be2ffb9c7d_0_0.cell.nml\n",
      "\tAdded 6 connections from dNAC222_L23_LBC_936c35a9e1_0_0.cell.nml to bNAC219_L23_NGC_1c20d72451_0_0.cell.nml\n",
      "\tAdded 3 connections from dNAC222_L23_LBC_936c35a9e1_0_0.cell.nml to cACint209_L23_NGC_8a9ea95bee_0_0.cell.nml\n",
      "\tAdded 9 connections from dNAC222_L23_LBC_936c35a9e1_0_0.cell.nml to cACint209_L23_NGC_5d66592f99_0_0.cell.nml\n",
      "\tAdded 6 connections from dNAC222_L23_LBC_936c35a9e1_0_0.cell.nml to cNAC187_L23_NGC_4cc11d30bc_0_0.cell.nml\n",
      "\tAdded 9 connections from dNAC222_L23_LBC_936c35a9e1_0_0.cell.nml to cACint209_L23_NGC_ec67e9ba9b_0_0.cell.nml\n",
      "\tAdded 3 connections from dNAC222_L23_LBC_936c35a9e1_0_0.cell.nml to bNAC219_L23_NGC_025b2126a1_0_0.cell.nml\n",
      "\tAdded 3 connections from dNAC222_L23_LBC_936c35a9e1_0_0.cell.nml to cNAC187_L23_NGC_2477403bcb_0_0.cell.nml\n"
     ]
    },
    {
     "ename": "KeyboardInterrupt",
     "evalue": "",
     "output_type": "error",
     "traceback": [
      "\u001b[1;31m---------------------------------------------------------------------------\u001b[0m",
      "\u001b[1;31mKeyboardInterrupt\u001b[0m                         Traceback (most recent call last)",
      "\u001b[1;32m~\\AppData\\Local\\Temp\\1\\ipykernel_27816\\3879296076.py\u001b[0m in \u001b[0;36m?\u001b[1;34m()\u001b[0m\n\u001b[0;32m     46\u001b[0m                             \u001b[0mpost_cell_id\u001b[0m\u001b[1;33m=\u001b[0m\u001b[1;34m\"%s[%i]\"\u001b[0m \u001b[1;33m%\u001b[0m \u001b[1;33m(\u001b[0m\u001b[0mme_pop2\u001b[0m\u001b[1;33m.\u001b[0m\u001b[0mid\u001b[0m\u001b[1;33m,\u001b[0m \u001b[0mj\u001b[0m\u001b[1;33m)\u001b[0m\u001b[1;33m,\u001b[0m\u001b[1;33m\u001b[0m\u001b[1;33m\u001b[0m\u001b[0m\n\u001b[0;32m     47\u001b[0m                             \u001b[0mweight\u001b[0m\u001b[1;33m=\u001b[0m\u001b[0mrandom\u001b[0m\u001b[1;33m.\u001b[0m\u001b[0mrandom\u001b[0m\u001b[1;33m(\u001b[0m\u001b[1;33m)\u001b[0m\u001b[1;33m,\u001b[0m\u001b[1;33m\u001b[0m\u001b[1;33m\u001b[0m\u001b[0m\n\u001b[0;32m     48\u001b[0m                             \u001b[0mdelay\u001b[0m\u001b[1;33m=\u001b[0m\u001b[1;34m'0ms'\u001b[0m\u001b[1;33m\u001b[0m\u001b[1;33m\u001b[0m\u001b[0m\n\u001b[0;32m     49\u001b[0m                         )\n\u001b[1;32m---> 50\u001b[1;33m                         \u001b[0mprojection\u001b[0m\u001b[1;33m.\u001b[0m\u001b[0madd\u001b[0m\u001b[1;33m(\u001b[0m\u001b[0mconnection\u001b[0m\u001b[1;33m)\u001b[0m\u001b[1;33m\u001b[0m\u001b[1;33m\u001b[0m\u001b[0m\n\u001b[0m\u001b[0;32m     51\u001b[0m                         \u001b[0mproj_count\u001b[0m \u001b[1;33m+=\u001b[0m \u001b[1;36m1\u001b[0m\u001b[1;33m\u001b[0m\u001b[1;33m\u001b[0m\u001b[0m\n\u001b[0;32m     52\u001b[0m             \u001b[0mprint\u001b[0m\u001b[1;33m(\u001b[0m\u001b[1;34m\"\\tAdded %i connections from %s to %s\"\u001b[0m \u001b[1;33m%\u001b[0m \u001b[1;33m(\u001b[0m\u001b[0mproj_count\u001b[0m\u001b[1;33m,\u001b[0m \u001b[0mme1\u001b[0m\u001b[1;33m,\u001b[0m \u001b[0mme2\u001b[0m\u001b[1;33m)\u001b[0m\u001b[1;33m)\u001b[0m\u001b[1;33m\u001b[0m\u001b[1;33m\u001b[0m\u001b[0m\n\u001b[0;32m     53\u001b[0m             \u001b[0mtotal_connections\u001b[0m \u001b[1;33m+=\u001b[0m \u001b[0mproj_count\u001b[0m\u001b[1;33m\u001b[0m\u001b[1;33m\u001b[0m\u001b[0m\n",
      "\u001b[1;32mc:\\Users\\jjudge3\\AppData\\Local\\anaconda3\\envs\\in-silico-hVOS\\lib\\site-packages\\neuroml\\nml\\generatedssupersuper.py\u001b[0m in \u001b[0;36m?\u001b[1;34m(self, obj, hint, force, validate, **kwargs)\u001b[0m\n\u001b[0;32m    107\u001b[0m             )\n\u001b[0;32m    108\u001b[0m             \u001b[1;32mraise\u001b[0m \u001b[0me\u001b[0m\u001b[1;33m\u001b[0m\u001b[1;33m\u001b[0m\u001b[0m\n\u001b[0;32m    109\u001b[0m         \u001b[1;32melif\u001b[0m \u001b[0mlen\u001b[0m\u001b[1;33m(\u001b[0m\u001b[0mtargets\u001b[0m\u001b[1;33m)\u001b[0m \u001b[1;33m==\u001b[0m \u001b[1;36m1\u001b[0m\u001b[1;33m:\u001b[0m\u001b[1;33m\u001b[0m\u001b[1;33m\u001b[0m\u001b[0m\n\u001b[0;32m    110\u001b[0m             \u001b[1;31m# good, just add it\u001b[0m\u001b[1;33m\u001b[0m\u001b[1;33m\u001b[0m\u001b[0m\n\u001b[1;32m--> 111\u001b[1;33m             \u001b[0mself\u001b[0m\u001b[1;33m.\u001b[0m\u001b[0m__add\u001b[0m\u001b[1;33m(\u001b[0m\u001b[0mobj\u001b[0m\u001b[1;33m,\u001b[0m \u001b[0mtargets\u001b[0m\u001b[1;33m[\u001b[0m\u001b[1;36m0\u001b[0m\u001b[1;33m]\u001b[0m\u001b[1;33m,\u001b[0m \u001b[0mforce\u001b[0m\u001b[1;33m)\u001b[0m\u001b[1;33m\u001b[0m\u001b[1;33m\u001b[0m\u001b[0m\n\u001b[0m\u001b[0;32m    112\u001b[0m         \u001b[1;32melse\u001b[0m\u001b[1;33m:\u001b[0m\u001b[1;33m\u001b[0m\u001b[1;33m\u001b[0m\u001b[0m\n\u001b[0;32m    113\u001b[0m             \u001b[1;31m# more than one target\u001b[0m\u001b[1;33m\u001b[0m\u001b[1;33m\u001b[0m\u001b[0m\n\u001b[0;32m    114\u001b[0m             \u001b[1;32mif\u001b[0m \u001b[1;32mnot\u001b[0m \u001b[0mhint\u001b[0m\u001b[1;33m:\u001b[0m\u001b[1;33m\u001b[0m\u001b[1;33m\u001b[0m\u001b[0m\n",
      "\u001b[1;32mc:\\Users\\jjudge3\\AppData\\Local\\anaconda3\\envs\\in-silico-hVOS\\lib\\site-packages\\neuroml\\nml\\generatedssupersuper.py\u001b[0m in \u001b[0;36m?\u001b[1;34m(self, obj, member, force)\u001b[0m\n\u001b[0;32m    269\u001b[0m                     \u001b[1;31m# \"obj in ..\" checks by identity and value.\u001b[0m\u001b[1;33m\u001b[0m\u001b[1;33m\u001b[0m\u001b[0m\n\u001b[0;32m    270\u001b[0m                     \u001b[1;31m# In XML, two children with same values are identical.\u001b[0m\u001b[1;33m\u001b[0m\u001b[1;33m\u001b[0m\u001b[0m\n\u001b[0;32m    271\u001b[0m                     \u001b[1;31m# There is no use case where the same child would be added\u001b[0m\u001b[1;33m\u001b[0m\u001b[1;33m\u001b[0m\u001b[0m\n\u001b[0;32m    272\u001b[0m                     \u001b[1;31m# twice to a component.\u001b[0m\u001b[1;33m\u001b[0m\u001b[1;33m\u001b[0m\u001b[0m\n\u001b[1;32m--> 273\u001b[1;33m                     \u001b[1;32mif\u001b[0m \u001b[0mobj\u001b[0m \u001b[1;32min\u001b[0m \u001b[0mvars\u001b[0m\u001b[1;33m(\u001b[0m\u001b[0mself\u001b[0m\u001b[1;33m)\u001b[0m\u001b[1;33m[\u001b[0m\u001b[0mmember\u001b[0m\u001b[1;33m.\u001b[0m\u001b[0mget_name\u001b[0m\u001b[1;33m(\u001b[0m\u001b[1;33m)\u001b[0m\u001b[1;33m]\u001b[0m\u001b[1;33m:\u001b[0m\u001b[1;33m\u001b[0m\u001b[1;33m\u001b[0m\u001b[0m\n\u001b[0m\u001b[0;32m    274\u001b[0m                         self.logger.warning(\n\u001b[0;32m    275\u001b[0m                             \"\"\"{} already exists in {}. Use `force=True` to force readdition.\"\"\".format(\n\u001b[0;32m    276\u001b[0m                                 \u001b[0mobj\u001b[0m\u001b[1;33m,\u001b[0m \u001b[0mmember\u001b[0m\u001b[1;33m.\u001b[0m\u001b[0mget_name\u001b[0m\u001b[1;33m(\u001b[0m\u001b[1;33m)\u001b[0m\u001b[1;33m\u001b[0m\u001b[1;33m\u001b[0m\u001b[0m\n",
      "\u001b[1;32mc:\\Users\\jjudge3\\AppData\\Local\\anaconda3\\envs\\in-silico-hVOS\\lib\\site-packages\\neuroml\\nml\\nml.py\u001b[0m in \u001b[0;36m?\u001b[1;34m(self, other)\u001b[0m\n\u001b[0;32m    764\u001b[0m                 \u001b[1;32mreturn\u001b[0m \u001b[0mobj\u001b[0m\u001b[1;33m[\u001b[0m\u001b[1;36m0\u001b[0m\u001b[1;33m]\u001b[0m \u001b[1;33m!=\u001b[0m \u001b[1;34m\"parent_object_\"\u001b[0m \u001b[1;32mand\u001b[0m \u001b[0mobj\u001b[0m\u001b[1;33m[\u001b[0m\u001b[1;36m0\u001b[0m\u001b[1;33m]\u001b[0m \u001b[1;33m!=\u001b[0m \u001b[1;34m\"gds_collector_\"\u001b[0m\u001b[1;33m\u001b[0m\u001b[1;33m\u001b[0m\u001b[0m\n\u001b[0;32m    765\u001b[0m \u001b[1;33m\u001b[0m\u001b[0m\n\u001b[0;32m    766\u001b[0m             \u001b[1;32mif\u001b[0m \u001b[0mtype\u001b[0m\u001b[1;33m(\u001b[0m\u001b[0mself\u001b[0m\u001b[1;33m)\u001b[0m \u001b[1;33m!=\u001b[0m \u001b[0mtype\u001b[0m\u001b[1;33m(\u001b[0m\u001b[0mother\u001b[0m\u001b[1;33m)\u001b[0m\u001b[1;33m:\u001b[0m\u001b[1;33m\u001b[0m\u001b[1;33m\u001b[0m\u001b[0m\n\u001b[0;32m    767\u001b[0m                 \u001b[1;32mreturn\u001b[0m \u001b[1;32mFalse\u001b[0m\u001b[1;33m\u001b[0m\u001b[1;33m\u001b[0m\u001b[0m\n\u001b[1;32m--> 768\u001b[1;33m             return all(\n\u001b[0m\u001b[0;32m    769\u001b[0m                 \u001b[0mx\u001b[0m \u001b[1;33m==\u001b[0m \u001b[0my\u001b[0m\u001b[1;33m\u001b[0m\u001b[1;33m\u001b[0m\u001b[0m\n\u001b[0;32m    770\u001b[0m                 for x, y in zip_longest(\n\u001b[0;32m    771\u001b[0m                     \u001b[0mfilter\u001b[0m\u001b[1;33m(\u001b[0m\u001b[0mexcl_select_objs_\u001b[0m\u001b[1;33m,\u001b[0m \u001b[0mself\u001b[0m\u001b[1;33m.\u001b[0m\u001b[0m__dict__\u001b[0m\u001b[1;33m.\u001b[0m\u001b[0mitems\u001b[0m\u001b[1;33m(\u001b[0m\u001b[1;33m)\u001b[0m\u001b[1;33m)\u001b[0m\u001b[1;33m,\u001b[0m\u001b[1;33m\u001b[0m\u001b[1;33m\u001b[0m\u001b[0m\n",
      "\u001b[1;32mc:\\Users\\jjudge3\\AppData\\Local\\anaconda3\\envs\\in-silico-hVOS\\lib\\site-packages\\neuroml\\nml\\nml.py\u001b[0m in \u001b[0;36m?\u001b[1;34m(.0)\u001b[0m\n\u001b[1;32m--> 768\u001b[1;33m             \u001b[1;32mdef\u001b[0m \u001b[0mexcl_select_objs_\u001b[0m\u001b[1;33m(\u001b[0m\u001b[0mobj\u001b[0m\u001b[1;33m)\u001b[0m\u001b[1;33m:\u001b[0m\u001b[1;33m\u001b[0m\u001b[1;33m\u001b[0m\u001b[0m\n\u001b[0m\u001b[0;32m    769\u001b[0m                 \u001b[1;32mreturn\u001b[0m \u001b[0mobj\u001b[0m\u001b[1;33m[\u001b[0m\u001b[1;36m0\u001b[0m\u001b[1;33m]\u001b[0m \u001b[1;33m!=\u001b[0m \u001b[1;34m\"parent_object_\"\u001b[0m \u001b[1;32mand\u001b[0m \u001b[0mobj\u001b[0m\u001b[1;33m[\u001b[0m\u001b[1;36m0\u001b[0m\u001b[1;33m]\u001b[0m \u001b[1;33m!=\u001b[0m \u001b[1;34m\"gds_collector_\"\u001b[0m\u001b[1;33m\u001b[0m\u001b[1;33m\u001b[0m\u001b[0m\n",
      "\u001b[1;32mc:\\Users\\jjudge3\\AppData\\Local\\anaconda3\\envs\\in-silico-hVOS\\lib\\site-packages\\neuroml\\nml\\nml.py\u001b[0m in \u001b[0;36m?\u001b[1;34m(obj)\u001b[0m\n\u001b[1;32m--> 763\u001b[1;33m             \u001b[1;32mdef\u001b[0m \u001b[0mexcl_select_objs_\u001b[0m\u001b[1;33m(\u001b[0m\u001b[0mobj\u001b[0m\u001b[1;33m)\u001b[0m\u001b[1;33m:\u001b[0m\u001b[1;33m\u001b[0m\u001b[1;33m\u001b[0m\u001b[0m\n\u001b[0m\u001b[0;32m    764\u001b[0m                 \u001b[1;32mreturn\u001b[0m \u001b[0mobj\u001b[0m\u001b[1;33m[\u001b[0m\u001b[1;36m0\u001b[0m\u001b[1;33m]\u001b[0m \u001b[1;33m!=\u001b[0m \u001b[1;34m\"parent_object_\"\u001b[0m \u001b[1;32mand\u001b[0m \u001b[0mobj\u001b[0m\u001b[1;33m[\u001b[0m\u001b[1;36m0\u001b[0m\u001b[1;33m]\u001b[0m \u001b[1;33m!=\u001b[0m \u001b[1;34m\"gds_collector_\"\u001b[0m\u001b[1;33m\u001b[0m\u001b[1;33m\u001b[0m\u001b[0m\n",
      "\u001b[1;31mKeyboardInterrupt\u001b[0m: "
     ]
    }
   ],
   "source": [
    "total_connections = 0\n",
    "for m1m2_key in pathways_anatomy_data:\n",
    "    syn_anatomy = pathways_anatomy_data[m1m2_key]\n",
    "    syn_physiology = pathways_physiology_data[m1m2_key]\n",
    "\n",
    "    m1, m2 = m1m2_key.split(\":\")\n",
    "    connection_prob = syn_anatomy[\"connection_probability\"]\n",
    "    decay_mean = syn_physiology[\"decay_mean\"]\n",
    "\n",
    "    # simple mono-exponential synapse\n",
    "    # <Property name=\"weight\" dimension=\"none\" defaultValue=\"1\"/>\n",
    "\n",
    "    # <Parameter name=\"tauDecay\" dimension=\"time\" description=\"Time course of decay\"/>\n",
    "    # <Parameter name=\"gbase\" dimension=\"conductance\" description=\"Baseline conductance, generally the maximum conductance following a single spike\"/>\n",
    "    # <Parameter name=\"erev\" dimension=\"voltage\" description=\"Reversal potential of the synapse\"/>\n",
    "\n",
    "    syn0 = nml_doc.add(\n",
    "        \"ExpOneSynapse\", id=m1m2_key.replace(\":\", \"_\"), gbase=\"65nS\", erev=\"0mV\", tau_decay= str(decay_mean) + \"ms\"\n",
    "    )\n",
    "    #print(\"me-types:\")\n",
    "    #print(neuron_population_dict[m1])\n",
    "    #print(neuron_population_dict[m2])\n",
    "    # for every pair of me-types, create a fraction of the synapses\n",
    "    for me1 in neuron_population_dict[m1]:\n",
    "        me_pop1 = neuron_population_dict[m1][me1]\n",
    "        for me2 in neuron_population_dict[m2]:\n",
    "            me_pop2 = neuron_population_dict[m2][me2]\n",
    "\n",
    "            # Create connections and inputs\n",
    "            proj_count = 0\n",
    "\n",
    "            projection = Projection(\n",
    "                                id=\"Proj_\",\n",
    "                                presynaptic_population=me_pop1.id,\n",
    "                                postsynaptic_population=me_pop2.id,\n",
    "                                synapse=syn0.id,\n",
    "                            )\n",
    "\n",
    "            net.projections.append(projection)\n",
    "            for i in range(me_pop1.size):\n",
    "                for j in range(me_pop2.size // scale_down_factor_synapse):  # scale down the number of synapses\n",
    "                    if random.random() <= connection_prob: # probablistic connection...\n",
    "                        connection = ConnectionWD(\n",
    "                            id=proj_count,\n",
    "                            pre_cell_id=\"%s[%i]\" % (me_pop1.id, i),\n",
    "                            post_cell_id=\"%s[%i]\" % (me_pop2.id, j),\n",
    "                            weight=random.random(),\n",
    "                            delay='0ms'\n",
    "                        )\n",
    "                        projection.add(connection)\n",
    "                        proj_count += 1\n",
    "            print(\"\\tAdded %i connections from %s to %s\" % (proj_count, me1, me2))\n",
    "            total_connections += proj_count\n",
    "print(\"Total so far: %i\" % total_connections + \"\\n\\n\")\n",
    "\n"
   ]
  },
  {
   "cell_type": "code",
   "execution_count": 18,
   "metadata": {},
   "outputs": [
    {
     "name": "stderr",
     "output_type": "stream",
     "text": [
      "pyNeuroML >>> 2025-01-29 16:19:41,711 - neuroml.nml.generatedssupersuper - WARNING - Explicit Input of type pg_exc_0 to Exc(cell 0), destination: unspecified already exists in explicit_inputs. Use `force=True` to force readdition.\n",
      "pyNeuroML >>> 2025-01-29 16:19:41,713 - neuroml.nml.generatedssupersuper - WARNING - Explicit Input of type pg_exc_1 to Exc(cell 1), destination: unspecified already exists in explicit_inputs. Use `force=True` to force readdition.\n",
      "pyNeuroML >>> 2025-01-29 16:19:41,714 - neuroml.nml.generatedssupersuper - WARNING - Explicit Input of type pg_exc_2 to Exc(cell 2), destination: unspecified already exists in explicit_inputs. Use `force=True` to force readdition.\n",
      "pyNeuroML >>> 2025-01-29 16:19:41,716 - neuroml.nml.generatedssupersuper - WARNING - Explicit Input of type pg_exc_3 to Exc(cell 3), destination: unspecified already exists in explicit_inputs. Use `force=True` to force readdition.\n",
      "pyNeuroML >>> 2025-01-29 16:19:41,718 - neuroml.nml.generatedssupersuper - WARNING - Explicit Input of type pg_exc_4 to Exc(cell 4), destination: unspecified already exists in explicit_inputs. Use `force=True` to force readdition.\n",
      "pyNeuroML >>> 2025-01-29 16:19:41,719 - neuroml.nml.generatedssupersuper - WARNING - Explicit Input of type pg_exc_5 to Exc(cell 5), destination: unspecified already exists in explicit_inputs. Use `force=True` to force readdition.\n",
      "pyNeuroML >>> 2025-01-29 16:19:41,721 - neuroml.nml.generatedssupersuper - WARNING - Explicit Input of type pg_exc_6 to Exc(cell 6), destination: unspecified already exists in explicit_inputs. Use `force=True` to force readdition.\n",
      "pyNeuroML >>> 2025-01-29 16:19:41,722 - neuroml.nml.generatedssupersuper - WARNING - Explicit Input of type pg_exc_7 to Exc(cell 7), destination: unspecified already exists in explicit_inputs. Use `force=True` to force readdition.\n",
      "pyNeuroML >>> 2025-01-29 16:19:41,725 - neuroml.nml.generatedssupersuper - WARNING - Explicit Input of type pg_exc_8 to Exc(cell 8), destination: unspecified already exists in explicit_inputs. Use `force=True` to force readdition.\n",
      "pyNeuroML >>> 2025-01-29 16:19:41,726 - neuroml.nml.generatedssupersuper - WARNING - Explicit Input of type pg_exc_9 to Exc(cell 9), destination: unspecified already exists in explicit_inputs. Use `force=True` to force readdition.\n",
      "pyNeuroML >>> 2025-01-29 16:19:41,727 - neuroml.nml.generatedssupersuper - WARNING - Explicit Input of type pg_exc_10 to Exc(cell 10), destination: unspecified already exists in explicit_inputs. Use `force=True` to force readdition.\n",
      "pyNeuroML >>> 2025-01-29 16:19:41,728 - neuroml.nml.generatedssupersuper - WARNING - Explicit Input of type pg_exc_11 to Exc(cell 11), destination: unspecified already exists in explicit_inputs. Use `force=True` to force readdition.\n",
      "pyNeuroML >>> 2025-01-29 16:19:41,730 - neuroml.nml.generatedssupersuper - WARNING - Explicit Input of type pg_exc_12 to Exc(cell 12), destination: unspecified already exists in explicit_inputs. Use `force=True` to force readdition.\n",
      "pyNeuroML >>> 2025-01-29 16:19:41,734 - neuroml.nml.generatedssupersuper - WARNING - Explicit Input of type pg_exc_13 to Exc(cell 13), destination: unspecified already exists in explicit_inputs. Use `force=True` to force readdition.\n",
      "pyNeuroML >>> 2025-01-29 16:19:41,736 - neuroml.nml.generatedssupersuper - WARNING - Explicit Input of type pg_exc_14 to Exc(cell 14), destination: unspecified already exists in explicit_inputs. Use `force=True` to force readdition.\n",
      "pyNeuroML >>> 2025-01-29 16:19:41,738 - neuroml.nml.generatedssupersuper - WARNING - Explicit Input of type pg_exc_15 to Exc(cell 15), destination: unspecified already exists in explicit_inputs. Use `force=True` to force readdition.\n",
      "pyNeuroML >>> 2025-01-29 16:19:41,741 - neuroml.nml.generatedssupersuper - WARNING - Explicit Input of type pg_exc_16 to Exc(cell 16), destination: unspecified already exists in explicit_inputs. Use `force=True` to force readdition.\n",
      "pyNeuroML >>> 2025-01-29 16:19:41,743 - neuroml.nml.generatedssupersuper - WARNING - Explicit Input of type pg_exc_17 to Exc(cell 17), destination: unspecified already exists in explicit_inputs. Use `force=True` to force readdition.\n",
      "pyNeuroML >>> 2025-01-29 16:19:41,746 - neuroml.nml.generatedssupersuper - WARNING - Explicit Input of type pg_exc_18 to Exc(cell 18), destination: unspecified already exists in explicit_inputs. Use `force=True` to force readdition.\n",
      "pyNeuroML >>> 2025-01-29 16:19:41,748 - neuroml.nml.generatedssupersuper - WARNING - Explicit Input of type pg_exc_19 to Exc(cell 19), destination: unspecified already exists in explicit_inputs. Use `force=True` to force readdition.\n",
      "pyNeuroML >>> 2025-01-29 16:19:41,753 - neuroml.nml.generatedssupersuper - WARNING - Explicit Input of type pg_exc_20 to Exc(cell 20), destination: unspecified already exists in explicit_inputs. Use `force=True` to force readdition.\n",
      "pyNeuroML >>> 2025-01-29 16:19:41,755 - neuroml.nml.generatedssupersuper - WARNING - Explicit Input of type pg_exc_21 to Exc(cell 21), destination: unspecified already exists in explicit_inputs. Use `force=True` to force readdition.\n",
      "pyNeuroML >>> 2025-01-29 16:19:41,761 - neuroml.nml.generatedssupersuper - WARNING - Explicit Input of type pg_exc_22 to Exc(cell 22), destination: unspecified already exists in explicit_inputs. Use `force=True` to force readdition.\n",
      "pyNeuroML >>> 2025-01-29 16:19:41,763 - neuroml.nml.generatedssupersuper - WARNING - Explicit Input of type pg_exc_23 to Exc(cell 23), destination: unspecified already exists in explicit_inputs. Use `force=True` to force readdition.\n",
      "pyNeuroML >>> 2025-01-29 16:19:41,764 - neuroml.nml.generatedssupersuper - WARNING - Explicit Input of type pg_exc_24 to Exc(cell 24), destination: unspecified already exists in explicit_inputs. Use `force=True` to force readdition.\n",
      "pyNeuroML >>> 2025-01-29 16:19:41,768 - neuroml.nml.generatedssupersuper - WARNING - Explicit Input of type pg_exc_25 to Exc(cell 25), destination: unspecified already exists in explicit_inputs. Use `force=True` to force readdition.\n",
      "pyNeuroML >>> 2025-01-29 16:19:41,771 - neuroml.nml.generatedssupersuper - WARNING - Explicit Input of type pg_exc_26 to Exc(cell 26), destination: unspecified already exists in explicit_inputs. Use `force=True` to force readdition.\n",
      "pyNeuroML >>> 2025-01-29 16:19:41,774 - neuroml.nml.generatedssupersuper - WARNING - Explicit Input of type pg_exc_27 to Exc(cell 27), destination: unspecified already exists in explicit_inputs. Use `force=True` to force readdition.\n",
      "pyNeuroML >>> 2025-01-29 16:19:41,776 - neuroml.nml.generatedssupersuper - WARNING - Explicit Input of type pg_exc_28 to Exc(cell 28), destination: unspecified already exists in explicit_inputs. Use `force=True` to force readdition.\n",
      "pyNeuroML >>> 2025-01-29 16:19:41,777 - neuroml.nml.generatedssupersuper - WARNING - Explicit Input of type pg_exc_29 to Exc(cell 29), destination: unspecified already exists in explicit_inputs. Use `force=True` to force readdition.\n",
      "pyNeuroML >>> 2025-01-29 16:19:41,779 - neuroml.nml.generatedssupersuper - WARNING - Explicit Input of type pg_exc_30 to Exc(cell 30), destination: unspecified already exists in explicit_inputs. Use `force=True` to force readdition.\n",
      "pyNeuroML >>> 2025-01-29 16:19:41,781 - neuroml.nml.generatedssupersuper - WARNING - Explicit Input of type pg_exc_31 to Exc(cell 31), destination: unspecified already exists in explicit_inputs. Use `force=True` to force readdition.\n",
      "pyNeuroML >>> 2025-01-29 16:19:41,784 - neuroml.nml.generatedssupersuper - WARNING - Explicit Input of type pg_exc_32 to Exc(cell 32), destination: unspecified already exists in explicit_inputs. Use `force=True` to force readdition.\n",
      "pyNeuroML >>> 2025-01-29 16:19:41,785 - neuroml.nml.generatedssupersuper - WARNING - Explicit Input of type pg_exc_33 to Exc(cell 33), destination: unspecified already exists in explicit_inputs. Use `force=True` to force readdition.\n",
      "pyNeuroML >>> 2025-01-29 16:19:41,787 - neuroml.nml.generatedssupersuper - WARNING - Explicit Input of type pg_exc_34 to Exc(cell 34), destination: unspecified already exists in explicit_inputs. Use `force=True` to force readdition.\n",
      "pyNeuroML >>> 2025-01-29 16:19:41,788 - neuroml.nml.generatedssupersuper - WARNING - Explicit Input of type pg_exc_35 to Exc(cell 35), destination: unspecified already exists in explicit_inputs. Use `force=True` to force readdition.\n",
      "pyNeuroML >>> 2025-01-29 16:19:41,790 - neuroml.nml.generatedssupersuper - WARNING - Explicit Input of type pg_exc_36 to Exc(cell 36), destination: unspecified already exists in explicit_inputs. Use `force=True` to force readdition.\n",
      "pyNeuroML >>> 2025-01-29 16:19:41,792 - neuroml.nml.generatedssupersuper - WARNING - Explicit Input of type pg_exc_37 to Exc(cell 37), destination: unspecified already exists in explicit_inputs. Use `force=True` to force readdition.\n",
      "pyNeuroML >>> 2025-01-29 16:19:41,793 - neuroml.nml.generatedssupersuper - WARNING - Explicit Input of type pg_exc_38 to Exc(cell 38), destination: unspecified already exists in explicit_inputs. Use `force=True` to force readdition.\n",
      "pyNeuroML >>> 2025-01-29 16:19:41,794 - neuroml.nml.generatedssupersuper - WARNING - Explicit Input of type pg_exc_39 to Exc(cell 39), destination: unspecified already exists in explicit_inputs. Use `force=True` to force readdition.\n",
      "pyNeuroML >>> 2025-01-29 16:19:41,795 - neuroml.nml.generatedssupersuper - WARNING - Explicit Input of type pg_exc_40 to Exc(cell 40), destination: unspecified already exists in explicit_inputs. Use `force=True` to force readdition.\n",
      "pyNeuroML >>> 2025-01-29 16:19:41,797 - neuroml.nml.generatedssupersuper - WARNING - Explicit Input of type pg_exc_41 to Exc(cell 41), destination: unspecified already exists in explicit_inputs. Use `force=True` to force readdition.\n",
      "pyNeuroML >>> 2025-01-29 16:19:41,799 - neuroml.nml.generatedssupersuper - WARNING - Explicit Input of type pg_exc_42 to Exc(cell 42), destination: unspecified already exists in explicit_inputs. Use `force=True` to force readdition.\n",
      "pyNeuroML >>> 2025-01-29 16:19:41,802 - neuroml.nml.generatedssupersuper - WARNING - Explicit Input of type pg_exc_43 to Exc(cell 43), destination: unspecified already exists in explicit_inputs. Use `force=True` to force readdition.\n",
      "pyNeuroML >>> 2025-01-29 16:19:41,804 - neuroml.nml.generatedssupersuper - WARNING - Explicit Input of type pg_exc_44 to Exc(cell 44), destination: unspecified already exists in explicit_inputs. Use `force=True` to force readdition.\n",
      "pyNeuroML >>> 2025-01-29 16:19:41,806 - neuroml.nml.generatedssupersuper - WARNING - Explicit Input of type pg_exc_45 to Exc(cell 45), destination: unspecified already exists in explicit_inputs. Use `force=True` to force readdition.\n",
      "pyNeuroML >>> 2025-01-29 16:19:41,808 - neuroml.nml.generatedssupersuper - WARNING - Explicit Input of type pg_exc_46 to Exc(cell 46), destination: unspecified already exists in explicit_inputs. Use `force=True` to force readdition.\n",
      "pyNeuroML >>> 2025-01-29 16:19:41,809 - neuroml.nml.generatedssupersuper - WARNING - Explicit Input of type pg_exc_47 to Exc(cell 47), destination: unspecified already exists in explicit_inputs. Use `force=True` to force readdition.\n",
      "pyNeuroML >>> 2025-01-29 16:19:41,812 - neuroml.nml.generatedssupersuper - WARNING - Explicit Input of type pg_exc_48 to Exc(cell 48), destination: unspecified already exists in explicit_inputs. Use `force=True` to force readdition.\n",
      "pyNeuroML >>> 2025-01-29 16:19:41,815 - neuroml.nml.generatedssupersuper - WARNING - Explicit Input of type pg_exc_49 to Exc(cell 49), destination: unspecified already exists in explicit_inputs. Use `force=True` to force readdition.\n",
      "pyNeuroML >>> 2025-01-29 16:19:41,817 - neuroml.nml.generatedssupersuper - WARNING - Explicit Input of type pg_exc_50 to Exc(cell 50), destination: unspecified already exists in explicit_inputs. Use `force=True` to force readdition.\n",
      "pyNeuroML >>> 2025-01-29 16:19:41,819 - neuroml.nml.generatedssupersuper - WARNING - Explicit Input of type pg_exc_51 to Exc(cell 51), destination: unspecified already exists in explicit_inputs. Use `force=True` to force readdition.\n",
      "pyNeuroML >>> 2025-01-29 16:19:41,822 - neuroml.nml.generatedssupersuper - WARNING - Explicit Input of type pg_exc_52 to Exc(cell 52), destination: unspecified already exists in explicit_inputs. Use `force=True` to force readdition.\n",
      "pyNeuroML >>> 2025-01-29 16:19:41,824 - neuroml.nml.generatedssupersuper - WARNING - Explicit Input of type pg_exc_53 to Exc(cell 53), destination: unspecified already exists in explicit_inputs. Use `force=True` to force readdition.\n",
      "pyNeuroML >>> 2025-01-29 16:19:41,826 - neuroml.nml.generatedssupersuper - WARNING - Explicit Input of type pg_exc_54 to Exc(cell 54), destination: unspecified already exists in explicit_inputs. Use `force=True` to force readdition.\n",
      "pyNeuroML >>> 2025-01-29 16:19:41,828 - neuroml.nml.generatedssupersuper - WARNING - Explicit Input of type pg_exc_55 to Exc(cell 55), destination: unspecified already exists in explicit_inputs. Use `force=True` to force readdition.\n",
      "pyNeuroML >>> 2025-01-29 16:19:41,830 - neuroml.nml.generatedssupersuper - WARNING - Explicit Input of type pg_exc_56 to Exc(cell 56), destination: unspecified already exists in explicit_inputs. Use `force=True` to force readdition.\n",
      "pyNeuroML >>> 2025-01-29 16:19:41,831 - neuroml.nml.generatedssupersuper - WARNING - Explicit Input of type pg_exc_57 to Exc(cell 57), destination: unspecified already exists in explicit_inputs. Use `force=True` to force readdition.\n",
      "pyNeuroML >>> 2025-01-29 16:19:41,833 - neuroml.nml.generatedssupersuper - WARNING - Explicit Input of type pg_exc_58 to Exc(cell 58), destination: unspecified already exists in explicit_inputs. Use `force=True` to force readdition.\n",
      "pyNeuroML >>> 2025-01-29 16:19:41,835 - neuroml.nml.generatedssupersuper - WARNING - Explicit Input of type pg_exc_59 to Exc(cell 59), destination: unspecified already exists in explicit_inputs. Use `force=True` to force readdition.\n",
      "pyNeuroML >>> 2025-01-29 16:19:41,842 - neuroml.nml.generatedssupersuper - WARNING - Explicit Input of type pg_exc_60 to Exc(cell 60), destination: unspecified already exists in explicit_inputs. Use `force=True` to force readdition.\n",
      "pyNeuroML >>> 2025-01-29 16:19:41,844 - neuroml.nml.generatedssupersuper - WARNING - Explicit Input of type pg_exc_61 to Exc(cell 61), destination: unspecified already exists in explicit_inputs. Use `force=True` to force readdition.\n",
      "pyNeuroML >>> 2025-01-29 16:19:41,848 - neuroml.nml.generatedssupersuper - WARNING - Explicit Input of type pg_exc_62 to Exc(cell 62), destination: unspecified already exists in explicit_inputs. Use `force=True` to force readdition.\n",
      "pyNeuroML >>> 2025-01-29 16:19:41,851 - neuroml.nml.generatedssupersuper - WARNING - Explicit Input of type pg_exc_63 to Exc(cell 63), destination: unspecified already exists in explicit_inputs. Use `force=True` to force readdition.\n",
      "pyNeuroML >>> 2025-01-29 16:19:41,852 - neuroml.nml.generatedssupersuper - WARNING - Explicit Input of type pg_exc_64 to Exc(cell 64), destination: unspecified already exists in explicit_inputs. Use `force=True` to force readdition.\n",
      "pyNeuroML >>> 2025-01-29 16:19:41,861 - neuroml.nml.generatedssupersuper - WARNING - Explicit Input of type pg_exc_65 to Exc(cell 65), destination: unspecified already exists in explicit_inputs. Use `force=True` to force readdition.\n",
      "pyNeuroML >>> 2025-01-29 16:19:41,862 - neuroml.nml.generatedssupersuper - WARNING - Explicit Input of type pg_exc_66 to Exc(cell 66), destination: unspecified already exists in explicit_inputs. Use `force=True` to force readdition.\n",
      "pyNeuroML >>> 2025-01-29 16:19:41,864 - neuroml.nml.generatedssupersuper - WARNING - Explicit Input of type pg_exc_67 to Exc(cell 67), destination: unspecified already exists in explicit_inputs. Use `force=True` to force readdition.\n",
      "pyNeuroML >>> 2025-01-29 16:19:41,867 - neuroml.nml.generatedssupersuper - WARNING - Explicit Input of type pg_exc_68 to Exc(cell 68), destination: unspecified already exists in explicit_inputs. Use `force=True` to force readdition.\n",
      "pyNeuroML >>> 2025-01-29 16:19:41,875 - neuroml.nml.generatedssupersuper - WARNING - Explicit Input of type pg_exc_69 to Exc(cell 69), destination: unspecified already exists in explicit_inputs. Use `force=True` to force readdition.\n",
      "pyNeuroML >>> 2025-01-29 16:19:41,878 - neuroml.nml.generatedssupersuper - WARNING - Explicit Input of type pg_exc_70 to Exc(cell 70), destination: unspecified already exists in explicit_inputs. Use `force=True` to force readdition.\n",
      "pyNeuroML >>> 2025-01-29 16:19:41,881 - neuroml.nml.generatedssupersuper - WARNING - Explicit Input of type pg_exc_71 to Exc(cell 71), destination: unspecified already exists in explicit_inputs. Use `force=True` to force readdition.\n",
      "pyNeuroML >>> 2025-01-29 16:19:41,885 - neuroml.nml.generatedssupersuper - WARNING - Explicit Input of type pg_exc_72 to Exc(cell 72), destination: unspecified already exists in explicit_inputs. Use `force=True` to force readdition.\n",
      "pyNeuroML >>> 2025-01-29 16:19:41,887 - neuroml.nml.generatedssupersuper - WARNING - Explicit Input of type pg_exc_73 to Exc(cell 73), destination: unspecified already exists in explicit_inputs. Use `force=True` to force readdition.\n",
      "pyNeuroML >>> 2025-01-29 16:19:41,890 - neuroml.nml.generatedssupersuper - WARNING - Explicit Input of type pg_exc_74 to Exc(cell 74), destination: unspecified already exists in explicit_inputs. Use `force=True` to force readdition.\n",
      "pyNeuroML >>> 2025-01-29 16:19:41,894 - neuroml.nml.generatedssupersuper - WARNING - Explicit Input of type pg_exc_75 to Exc(cell 75), destination: unspecified already exists in explicit_inputs. Use `force=True` to force readdition.\n",
      "pyNeuroML >>> 2025-01-29 16:19:41,898 - neuroml.nml.generatedssupersuper - WARNING - Explicit Input of type pg_exc_76 to Exc(cell 76), destination: unspecified already exists in explicit_inputs. Use `force=True` to force readdition.\n",
      "pyNeuroML >>> 2025-01-29 16:19:41,903 - neuroml.nml.generatedssupersuper - WARNING - Explicit Input of type pg_exc_0 to Exc(cell 0), destination: unspecified already exists in explicit_inputs. Use `force=True` to force readdition.\n",
      "pyNeuroML >>> 2025-01-29 16:19:41,908 - neuroml.nml.generatedssupersuper - WARNING - Explicit Input of type pg_exc_1 to Exc(cell 1), destination: unspecified already exists in explicit_inputs. Use `force=True` to force readdition.\n",
      "pyNeuroML >>> 2025-01-29 16:19:41,910 - neuroml.nml.generatedssupersuper - WARNING - Explicit Input of type pg_exc_2 to Exc(cell 2), destination: unspecified already exists in explicit_inputs. Use `force=True` to force readdition.\n",
      "pyNeuroML >>> 2025-01-29 16:19:41,912 - neuroml.nml.generatedssupersuper - WARNING - Explicit Input of type pg_exc_3 to Exc(cell 3), destination: unspecified already exists in explicit_inputs. Use `force=True` to force readdition.\n",
      "pyNeuroML >>> 2025-01-29 16:19:41,914 - neuroml.nml.generatedssupersuper - WARNING - Explicit Input of type pg_exc_4 to Exc(cell 4), destination: unspecified already exists in explicit_inputs. Use `force=True` to force readdition.\n",
      "pyNeuroML >>> 2025-01-29 16:19:41,916 - neuroml.nml.generatedssupersuper - WARNING - Explicit Input of type pg_exc_5 to Exc(cell 5), destination: unspecified already exists in explicit_inputs. Use `force=True` to force readdition.\n",
      "pyNeuroML >>> 2025-01-29 16:19:41,921 - neuroml.nml.generatedssupersuper - WARNING - Explicit Input of type pg_exc_6 to Exc(cell 6), destination: unspecified already exists in explicit_inputs. Use `force=True` to force readdition.\n",
      "pyNeuroML >>> 2025-01-29 16:19:41,926 - neuroml.nml.generatedssupersuper - WARNING - Explicit Input of type pg_exc_7 to Exc(cell 7), destination: unspecified already exists in explicit_inputs. Use `force=True` to force readdition.\n",
      "pyNeuroML >>> 2025-01-29 16:19:41,928 - neuroml.nml.generatedssupersuper - WARNING - Explicit Input of type pg_exc_8 to Exc(cell 8), destination: unspecified already exists in explicit_inputs. Use `force=True` to force readdition.\n",
      "pyNeuroML >>> 2025-01-29 16:19:41,930 - neuroml.nml.generatedssupersuper - WARNING - Explicit Input of type pg_exc_9 to Exc(cell 9), destination: unspecified already exists in explicit_inputs. Use `force=True` to force readdition.\n",
      "pyNeuroML >>> 2025-01-29 16:19:41,933 - neuroml.nml.generatedssupersuper - WARNING - Explicit Input of type pg_exc_10 to Exc(cell 10), destination: unspecified already exists in explicit_inputs. Use `force=True` to force readdition.\n",
      "pyNeuroML >>> 2025-01-29 16:19:41,937 - neuroml.nml.generatedssupersuper - WARNING - Explicit Input of type pg_exc_11 to Exc(cell 11), destination: unspecified already exists in explicit_inputs. Use `force=True` to force readdition.\n",
      "pyNeuroML >>> 2025-01-29 16:19:41,940 - neuroml.nml.generatedssupersuper - WARNING - Explicit Input of type pg_exc_12 to Exc(cell 12), destination: unspecified already exists in explicit_inputs. Use `force=True` to force readdition.\n",
      "pyNeuroML >>> 2025-01-29 16:19:41,945 - neuroml.nml.generatedssupersuper - WARNING - Explicit Input of type pg_exc_13 to Exc(cell 13), destination: unspecified already exists in explicit_inputs. Use `force=True` to force readdition.\n",
      "pyNeuroML >>> 2025-01-29 16:19:41,947 - neuroml.nml.generatedssupersuper - WARNING - Explicit Input of type pg_exc_14 to Exc(cell 14), destination: unspecified already exists in explicit_inputs. Use `force=True` to force readdition.\n",
      "pyNeuroML >>> 2025-01-29 16:19:41,952 - neuroml.nml.generatedssupersuper - WARNING - Explicit Input of type pg_exc_15 to Exc(cell 15), destination: unspecified already exists in explicit_inputs. Use `force=True` to force readdition.\n",
      "pyNeuroML >>> 2025-01-29 16:19:41,954 - neuroml.nml.generatedssupersuper - WARNING - Explicit Input of type pg_exc_16 to Exc(cell 16), destination: unspecified already exists in explicit_inputs. Use `force=True` to force readdition.\n",
      "pyNeuroML >>> 2025-01-29 16:19:41,956 - neuroml.nml.generatedssupersuper - WARNING - Explicit Input of type pg_exc_17 to Exc(cell 17), destination: unspecified already exists in explicit_inputs. Use `force=True` to force readdition.\n",
      "pyNeuroML >>> 2025-01-29 16:19:41,960 - neuroml.nml.generatedssupersuper - WARNING - Explicit Input of type pg_exc_18 to Exc(cell 18), destination: unspecified already exists in explicit_inputs. Use `force=True` to force readdition.\n",
      "pyNeuroML >>> 2025-01-29 16:19:41,961 - neuroml.nml.generatedssupersuper - WARNING - Explicit Input of type pg_exc_19 to Exc(cell 19), destination: unspecified already exists in explicit_inputs. Use `force=True` to force readdition.\n",
      "pyNeuroML >>> 2025-01-29 16:19:41,963 - neuroml.nml.generatedssupersuper - WARNING - Explicit Input of type pg_exc_20 to Exc(cell 20), destination: unspecified already exists in explicit_inputs. Use `force=True` to force readdition.\n",
      "pyNeuroML >>> 2025-01-29 16:19:41,969 - neuroml.nml.generatedssupersuper - WARNING - Explicit Input of type pg_exc_21 to Exc(cell 21), destination: unspecified already exists in explicit_inputs. Use `force=True` to force readdition.\n",
      "pyNeuroML >>> 2025-01-29 16:19:41,972 - neuroml.nml.generatedssupersuper - WARNING - Explicit Input of type pg_exc_22 to Exc(cell 22), destination: unspecified already exists in explicit_inputs. Use `force=True` to force readdition.\n",
      "pyNeuroML >>> 2025-01-29 16:19:41,976 - neuroml.nml.generatedssupersuper - WARNING - Explicit Input of type pg_exc_23 to Exc(cell 23), destination: unspecified already exists in explicit_inputs. Use `force=True` to force readdition.\n",
      "pyNeuroML >>> 2025-01-29 16:19:41,978 - neuroml.nml.generatedssupersuper - WARNING - Explicit Input of type pg_exc_24 to Exc(cell 24), destination: unspecified already exists in explicit_inputs. Use `force=True` to force readdition.\n",
      "pyNeuroML >>> 2025-01-29 16:19:41,980 - neuroml.nml.generatedssupersuper - WARNING - Explicit Input of type pg_exc_25 to Exc(cell 25), destination: unspecified already exists in explicit_inputs. Use `force=True` to force readdition.\n",
      "pyNeuroML >>> 2025-01-29 16:19:41,985 - neuroml.nml.generatedssupersuper - WARNING - Explicit Input of type pg_exc_26 to Exc(cell 26), destination: unspecified already exists in explicit_inputs. Use `force=True` to force readdition.\n",
      "pyNeuroML >>> 2025-01-29 16:19:41,987 - neuroml.nml.generatedssupersuper - WARNING - Explicit Input of type pg_exc_27 to Exc(cell 27), destination: unspecified already exists in explicit_inputs. Use `force=True` to force readdition.\n",
      "pyNeuroML >>> 2025-01-29 16:19:41,992 - neuroml.nml.generatedssupersuper - WARNING - Explicit Input of type pg_exc_28 to Exc(cell 28), destination: unspecified already exists in explicit_inputs. Use `force=True` to force readdition.\n",
      "pyNeuroML >>> 2025-01-29 16:19:41,994 - neuroml.nml.generatedssupersuper - WARNING - Explicit Input of type pg_exc_29 to Exc(cell 29), destination: unspecified already exists in explicit_inputs. Use `force=True` to force readdition.\n",
      "pyNeuroML >>> 2025-01-29 16:19:41,996 - neuroml.nml.generatedssupersuper - WARNING - Explicit Input of type pg_exc_30 to Exc(cell 30), destination: unspecified already exists in explicit_inputs. Use `force=True` to force readdition.\n",
      "pyNeuroML >>> 2025-01-29 16:19:41,998 - neuroml.nml.generatedssupersuper - WARNING - Explicit Input of type pg_exc_31 to Exc(cell 31), destination: unspecified already exists in explicit_inputs. Use `force=True` to force readdition.\n",
      "pyNeuroML >>> 2025-01-29 16:19:42,002 - neuroml.nml.generatedssupersuper - WARNING - Explicit Input of type pg_exc_32 to Exc(cell 32), destination: unspecified already exists in explicit_inputs. Use `force=True` to force readdition.\n",
      "pyNeuroML >>> 2025-01-29 16:19:42,006 - neuroml.nml.generatedssupersuper - WARNING - Explicit Input of type pg_exc_33 to Exc(cell 33), destination: unspecified already exists in explicit_inputs. Use `force=True` to force readdition.\n",
      "pyNeuroML >>> 2025-01-29 16:19:42,010 - neuroml.nml.generatedssupersuper - WARNING - Explicit Input of type pg_exc_34 to Exc(cell 34), destination: unspecified already exists in explicit_inputs. Use `force=True` to force readdition.\n",
      "pyNeuroML >>> 2025-01-29 16:19:42,012 - neuroml.nml.generatedssupersuper - WARNING - Explicit Input of type pg_exc_35 to Exc(cell 35), destination: unspecified already exists in explicit_inputs. Use `force=True` to force readdition.\n",
      "pyNeuroML >>> 2025-01-29 16:19:42,015 - neuroml.nml.generatedssupersuper - WARNING - Explicit Input of type pg_exc_36 to Exc(cell 36), destination: unspecified already exists in explicit_inputs. Use `force=True` to force readdition.\n",
      "pyNeuroML >>> 2025-01-29 16:19:42,020 - neuroml.nml.generatedssupersuper - WARNING - Explicit Input of type pg_exc_37 to Exc(cell 37), destination: unspecified already exists in explicit_inputs. Use `force=True` to force readdition.\n",
      "pyNeuroML >>> 2025-01-29 16:19:42,026 - neuroml.nml.generatedssupersuper - WARNING - Explicit Input of type pg_exc_38 to Exc(cell 38), destination: unspecified already exists in explicit_inputs. Use `force=True` to force readdition.\n",
      "pyNeuroML >>> 2025-01-29 16:19:42,029 - neuroml.nml.generatedssupersuper - WARNING - Explicit Input of type pg_exc_39 to Exc(cell 39), destination: unspecified already exists in explicit_inputs. Use `force=True` to force readdition.\n",
      "pyNeuroML >>> 2025-01-29 16:19:42,031 - neuroml.nml.generatedssupersuper - WARNING - Explicit Input of type pg_exc_40 to Exc(cell 40), destination: unspecified already exists in explicit_inputs. Use `force=True` to force readdition.\n",
      "pyNeuroML >>> 2025-01-29 16:19:42,035 - neuroml.nml.generatedssupersuper - WARNING - Explicit Input of type pg_exc_41 to Exc(cell 41), destination: unspecified already exists in explicit_inputs. Use `force=True` to force readdition.\n",
      "pyNeuroML >>> 2025-01-29 16:19:42,039 - neuroml.nml.generatedssupersuper - WARNING - Explicit Input of type pg_exc_42 to Exc(cell 42), destination: unspecified already exists in explicit_inputs. Use `force=True` to force readdition.\n",
      "pyNeuroML >>> 2025-01-29 16:19:42,043 - neuroml.nml.generatedssupersuper - WARNING - Explicit Input of type pg_exc_43 to Exc(cell 43), destination: unspecified already exists in explicit_inputs. Use `force=True` to force readdition.\n",
      "pyNeuroML >>> 2025-01-29 16:19:42,046 - neuroml.nml.generatedssupersuper - WARNING - Explicit Input of type pg_exc_44 to Exc(cell 44), destination: unspecified already exists in explicit_inputs. Use `force=True` to force readdition.\n",
      "pyNeuroML >>> 2025-01-29 16:19:42,050 - neuroml.nml.generatedssupersuper - WARNING - Explicit Input of type pg_exc_45 to Exc(cell 45), destination: unspecified already exists in explicit_inputs. Use `force=True` to force readdition.\n",
      "pyNeuroML >>> 2025-01-29 16:19:42,053 - neuroml.nml.generatedssupersuper - WARNING - Explicit Input of type pg_exc_46 to Exc(cell 46), destination: unspecified already exists in explicit_inputs. Use `force=True` to force readdition.\n",
      "pyNeuroML >>> 2025-01-29 16:19:42,059 - neuroml.nml.generatedssupersuper - WARNING - Explicit Input of type pg_exc_47 to Exc(cell 47), destination: unspecified already exists in explicit_inputs. Use `force=True` to force readdition.\n",
      "pyNeuroML >>> 2025-01-29 16:19:42,061 - neuroml.nml.generatedssupersuper - WARNING - Explicit Input of type pg_exc_48 to Exc(cell 48), destination: unspecified already exists in explicit_inputs. Use `force=True` to force readdition.\n",
      "pyNeuroML >>> 2025-01-29 16:19:42,063 - neuroml.nml.generatedssupersuper - WARNING - Explicit Input of type pg_exc_49 to Exc(cell 49), destination: unspecified already exists in explicit_inputs. Use `force=True` to force readdition.\n",
      "pyNeuroML >>> 2025-01-29 16:19:42,065 - neuroml.nml.generatedssupersuper - WARNING - Explicit Input of type pg_exc_50 to Exc(cell 50), destination: unspecified already exists in explicit_inputs. Use `force=True` to force readdition.\n",
      "pyNeuroML >>> 2025-01-29 16:19:42,069 - neuroml.nml.generatedssupersuper - WARNING - Explicit Input of type pg_exc_51 to Exc(cell 51), destination: unspecified already exists in explicit_inputs. Use `force=True` to force readdition.\n",
      "pyNeuroML >>> 2025-01-29 16:19:42,071 - neuroml.nml.generatedssupersuper - WARNING - Explicit Input of type pg_exc_52 to Exc(cell 52), destination: unspecified already exists in explicit_inputs. Use `force=True` to force readdition.\n",
      "pyNeuroML >>> 2025-01-29 16:19:42,074 - neuroml.nml.generatedssupersuper - WARNING - Explicit Input of type pg_exc_53 to Exc(cell 53), destination: unspecified already exists in explicit_inputs. Use `force=True` to force readdition.\n",
      "pyNeuroML >>> 2025-01-29 16:19:42,077 - neuroml.nml.generatedssupersuper - WARNING - Explicit Input of type pg_exc_54 to Exc(cell 54), destination: unspecified already exists in explicit_inputs. Use `force=True` to force readdition.\n",
      "pyNeuroML >>> 2025-01-29 16:19:42,079 - neuroml.nml.generatedssupersuper - WARNING - Explicit Input of type pg_exc_55 to Exc(cell 55), destination: unspecified already exists in explicit_inputs. Use `force=True` to force readdition.\n",
      "pyNeuroML >>> 2025-01-29 16:19:42,081 - neuroml.nml.generatedssupersuper - WARNING - Explicit Input of type pg_exc_56 to Exc(cell 56), destination: unspecified already exists in explicit_inputs. Use `force=True` to force readdition.\n",
      "pyNeuroML >>> 2025-01-29 16:19:42,085 - neuroml.nml.generatedssupersuper - WARNING - Explicit Input of type pg_exc_57 to Exc(cell 57), destination: unspecified already exists in explicit_inputs. Use `force=True` to force readdition.\n",
      "pyNeuroML >>> 2025-01-29 16:19:42,092 - neuroml.nml.generatedssupersuper - WARNING - Explicit Input of type pg_exc_58 to Exc(cell 58), destination: unspecified already exists in explicit_inputs. Use `force=True` to force readdition.\n",
      "pyNeuroML >>> 2025-01-29 16:19:42,094 - neuroml.nml.generatedssupersuper - WARNING - Explicit Input of type pg_exc_59 to Exc(cell 59), destination: unspecified already exists in explicit_inputs. Use `force=True` to force readdition.\n",
      "pyNeuroML >>> 2025-01-29 16:19:42,098 - neuroml.nml.generatedssupersuper - WARNING - Explicit Input of type pg_exc_60 to Exc(cell 60), destination: unspecified already exists in explicit_inputs. Use `force=True` to force readdition.\n",
      "pyNeuroML >>> 2025-01-29 16:19:42,101 - neuroml.nml.generatedssupersuper - WARNING - Explicit Input of type pg_exc_61 to Exc(cell 61), destination: unspecified already exists in explicit_inputs. Use `force=True` to force readdition.\n",
      "pyNeuroML >>> 2025-01-29 16:19:42,104 - neuroml.nml.generatedssupersuper - WARNING - Explicit Input of type pg_exc_62 to Exc(cell 62), destination: unspecified already exists in explicit_inputs. Use `force=True` to force readdition.\n",
      "pyNeuroML >>> 2025-01-29 16:19:42,108 - neuroml.nml.generatedssupersuper - WARNING - Explicit Input of type pg_exc_63 to Exc(cell 63), destination: unspecified already exists in explicit_inputs. Use `force=True` to force readdition.\n",
      "pyNeuroML >>> 2025-01-29 16:19:42,111 - neuroml.nml.generatedssupersuper - WARNING - Explicit Input of type pg_exc_64 to Exc(cell 64), destination: unspecified already exists in explicit_inputs. Use `force=True` to force readdition.\n",
      "pyNeuroML >>> 2025-01-29 16:19:42,114 - neuroml.nml.generatedssupersuper - WARNING - Explicit Input of type pg_exc_65 to Exc(cell 65), destination: unspecified already exists in explicit_inputs. Use `force=True` to force readdition.\n",
      "pyNeuroML >>> 2025-01-29 16:19:42,117 - neuroml.nml.generatedssupersuper - WARNING - Explicit Input of type pg_exc_66 to Exc(cell 66), destination: unspecified already exists in explicit_inputs. Use `force=True` to force readdition.\n",
      "pyNeuroML >>> 2025-01-29 16:19:42,121 - neuroml.nml.generatedssupersuper - WARNING - Explicit Input of type pg_exc_67 to Exc(cell 67), destination: unspecified already exists in explicit_inputs. Use `force=True` to force readdition.\n",
      "pyNeuroML >>> 2025-01-29 16:19:42,125 - neuroml.nml.generatedssupersuper - WARNING - Explicit Input of type pg_exc_68 to Exc(cell 68), destination: unspecified already exists in explicit_inputs. Use `force=True` to force readdition.\n",
      "pyNeuroML >>> 2025-01-29 16:19:42,127 - neuroml.nml.generatedssupersuper - WARNING - Explicit Input of type pg_exc_69 to Exc(cell 69), destination: unspecified already exists in explicit_inputs. Use `force=True` to force readdition.\n",
      "pyNeuroML >>> 2025-01-29 16:19:42,129 - neuroml.nml.generatedssupersuper - WARNING - Explicit Input of type pg_exc_70 to Exc(cell 70), destination: unspecified already exists in explicit_inputs. Use `force=True` to force readdition.\n",
      "pyNeuroML >>> 2025-01-29 16:19:42,131 - neuroml.nml.generatedssupersuper - WARNING - Explicit Input of type pg_exc_71 to Exc(cell 71), destination: unspecified already exists in explicit_inputs. Use `force=True` to force readdition.\n",
      "pyNeuroML >>> 2025-01-29 16:19:42,135 - neuroml.nml.generatedssupersuper - WARNING - Explicit Input of type pg_exc_72 to Exc(cell 72), destination: unspecified already exists in explicit_inputs. Use `force=True` to force readdition.\n",
      "pyNeuroML >>> 2025-01-29 16:19:42,141 - neuroml.nml.generatedssupersuper - WARNING - Explicit Input of type pg_exc_73 to Exc(cell 73), destination: unspecified already exists in explicit_inputs. Use `force=True` to force readdition.\n",
      "pyNeuroML >>> 2025-01-29 16:19:42,143 - neuroml.nml.generatedssupersuper - WARNING - Explicit Input of type pg_exc_74 to Exc(cell 74), destination: unspecified already exists in explicit_inputs. Use `force=True` to force readdition.\n",
      "pyNeuroML >>> 2025-01-29 16:19:42,145 - neuroml.nml.generatedssupersuper - WARNING - Explicit Input of type pg_exc_75 to Exc(cell 75), destination: unspecified already exists in explicit_inputs. Use `force=True` to force readdition.\n",
      "pyNeuroML >>> 2025-01-29 16:19:42,147 - neuroml.nml.generatedssupersuper - WARNING - Explicit Input of type pg_exc_76 to Exc(cell 76), destination: unspecified already exists in explicit_inputs. Use `force=True` to force readdition.\n",
      "pyNeuroML >>> 2025-01-29 16:19:42,150 - neuroml.nml.generatedssupersuper - WARNING - Explicit Input of type pg_exc_77 to Exc(cell 77), destination: unspecified already exists in explicit_inputs. Use `force=True` to force readdition.\n",
      "pyNeuroML >>> 2025-01-29 16:19:42,154 - neuroml.nml.generatedssupersuper - WARNING - Explicit Input of type pg_exc_78 to Exc(cell 78), destination: unspecified already exists in explicit_inputs. Use `force=True` to force readdition.\n",
      "pyNeuroML >>> 2025-01-29 16:19:42,160 - neuroml.nml.generatedssupersuper - WARNING - Explicit Input of type pg_exc_0 to Exc(cell 0), destination: unspecified already exists in explicit_inputs. Use `force=True` to force readdition.\n",
      "pyNeuroML >>> 2025-01-29 16:19:42,162 - neuroml.nml.generatedssupersuper - WARNING - Explicit Input of type pg_exc_1 to Exc(cell 1), destination: unspecified already exists in explicit_inputs. Use `force=True` to force readdition.\n",
      "pyNeuroML >>> 2025-01-29 16:19:42,165 - neuroml.nml.generatedssupersuper - WARNING - Explicit Input of type pg_exc_2 to Exc(cell 2), destination: unspecified already exists in explicit_inputs. Use `force=True` to force readdition.\n",
      "pyNeuroML >>> 2025-01-29 16:19:42,169 - neuroml.nml.generatedssupersuper - WARNING - Explicit Input of type pg_exc_3 to Exc(cell 3), destination: unspecified already exists in explicit_inputs. Use `force=True` to force readdition.\n",
      "pyNeuroML >>> 2025-01-29 16:19:42,171 - neuroml.nml.generatedssupersuper - WARNING - Explicit Input of type pg_exc_4 to Exc(cell 4), destination: unspecified already exists in explicit_inputs. Use `force=True` to force readdition.\n",
      "pyNeuroML >>> 2025-01-29 16:19:42,174 - neuroml.nml.generatedssupersuper - WARNING - Explicit Input of type pg_exc_5 to Exc(cell 5), destination: unspecified already exists in explicit_inputs. Use `force=True` to force readdition.\n",
      "pyNeuroML >>> 2025-01-29 16:19:42,176 - neuroml.nml.generatedssupersuper - WARNING - Explicit Input of type pg_exc_6 to Exc(cell 6), destination: unspecified already exists in explicit_inputs. Use `force=True` to force readdition.\n",
      "pyNeuroML >>> 2025-01-29 16:19:42,178 - neuroml.nml.generatedssupersuper - WARNING - Explicit Input of type pg_exc_7 to Exc(cell 7), destination: unspecified already exists in explicit_inputs. Use `force=True` to force readdition.\n",
      "pyNeuroML >>> 2025-01-29 16:19:42,180 - neuroml.nml.generatedssupersuper - WARNING - Explicit Input of type pg_exc_8 to Exc(cell 8), destination: unspecified already exists in explicit_inputs. Use `force=True` to force readdition.\n",
      "pyNeuroML >>> 2025-01-29 16:19:42,182 - neuroml.nml.generatedssupersuper - WARNING - Explicit Input of type pg_exc_9 to Exc(cell 9), destination: unspecified already exists in explicit_inputs. Use `force=True` to force readdition.\n",
      "pyNeuroML >>> 2025-01-29 16:19:42,185 - neuroml.nml.generatedssupersuper - WARNING - Explicit Input of type pg_exc_10 to Exc(cell 10), destination: unspecified already exists in explicit_inputs. Use `force=True` to force readdition.\n",
      "pyNeuroML >>> 2025-01-29 16:19:42,188 - neuroml.nml.generatedssupersuper - WARNING - Explicit Input of type pg_exc_11 to Exc(cell 11), destination: unspecified already exists in explicit_inputs. Use `force=True` to force readdition.\n",
      "pyNeuroML >>> 2025-01-29 16:19:42,191 - neuroml.nml.generatedssupersuper - WARNING - Explicit Input of type pg_exc_12 to Exc(cell 12), destination: unspecified already exists in explicit_inputs. Use `force=True` to force readdition.\n",
      "pyNeuroML >>> 2025-01-29 16:19:42,193 - neuroml.nml.generatedssupersuper - WARNING - Explicit Input of type pg_exc_13 to Exc(cell 13), destination: unspecified already exists in explicit_inputs. Use `force=True` to force readdition.\n",
      "pyNeuroML >>> 2025-01-29 16:19:42,195 - neuroml.nml.generatedssupersuper - WARNING - Explicit Input of type pg_exc_14 to Exc(cell 14), destination: unspecified already exists in explicit_inputs. Use `force=True` to force readdition.\n",
      "pyNeuroML >>> 2025-01-29 16:19:42,197 - neuroml.nml.generatedssupersuper - WARNING - Explicit Input of type pg_exc_15 to Exc(cell 15), destination: unspecified already exists in explicit_inputs. Use `force=True` to force readdition.\n",
      "pyNeuroML >>> 2025-01-29 16:19:42,202 - neuroml.nml.generatedssupersuper - WARNING - Explicit Input of type pg_exc_16 to Exc(cell 16), destination: unspecified already exists in explicit_inputs. Use `force=True` to force readdition.\n",
      "pyNeuroML >>> 2025-01-29 16:19:42,209 - neuroml.nml.generatedssupersuper - WARNING - Explicit Input of type pg_exc_17 to Exc(cell 17), destination: unspecified already exists in explicit_inputs. Use `force=True` to force readdition.\n",
      "pyNeuroML >>> 2025-01-29 16:19:42,211 - neuroml.nml.generatedssupersuper - WARNING - Explicit Input of type pg_exc_18 to Exc(cell 18), destination: unspecified already exists in explicit_inputs. Use `force=True` to force readdition.\n",
      "pyNeuroML >>> 2025-01-29 16:19:42,214 - neuroml.nml.generatedssupersuper - WARNING - Explicit Input of type pg_exc_19 to Exc(cell 19), destination: unspecified already exists in explicit_inputs. Use `force=True` to force readdition.\n",
      "pyNeuroML >>> 2025-01-29 16:19:42,219 - neuroml.nml.generatedssupersuper - WARNING - Explicit Input of type pg_exc_20 to Exc(cell 20), destination: unspecified already exists in explicit_inputs. Use `force=True` to force readdition.\n",
      "pyNeuroML >>> 2025-01-29 16:19:42,225 - neuroml.nml.generatedssupersuper - WARNING - Explicit Input of type pg_exc_21 to Exc(cell 21), destination: unspecified already exists in explicit_inputs. Use `force=True` to force readdition.\n",
      "pyNeuroML >>> 2025-01-29 16:19:42,228 - neuroml.nml.generatedssupersuper - WARNING - Explicit Input of type pg_exc_22 to Exc(cell 22), destination: unspecified already exists in explicit_inputs. Use `force=True` to force readdition.\n",
      "pyNeuroML >>> 2025-01-29 16:19:42,230 - neuroml.nml.generatedssupersuper - WARNING - Explicit Input of type pg_exc_23 to Exc(cell 23), destination: unspecified already exists in explicit_inputs. Use `force=True` to force readdition.\n",
      "pyNeuroML >>> 2025-01-29 16:19:42,237 - neuroml.nml.generatedssupersuper - WARNING - Explicit Input of type pg_exc_24 to Exc(cell 24), destination: unspecified already exists in explicit_inputs. Use `force=True` to force readdition.\n",
      "pyNeuroML >>> 2025-01-29 16:19:42,241 - neuroml.nml.generatedssupersuper - WARNING - Explicit Input of type pg_exc_25 to Exc(cell 25), destination: unspecified already exists in explicit_inputs. Use `force=True` to force readdition.\n",
      "pyNeuroML >>> 2025-01-29 16:19:42,246 - neuroml.nml.generatedssupersuper - WARNING - Explicit Input of type pg_exc_26 to Exc(cell 26), destination: unspecified already exists in explicit_inputs. Use `force=True` to force readdition.\n",
      "pyNeuroML >>> 2025-01-29 16:19:42,251 - neuroml.nml.generatedssupersuper - WARNING - Explicit Input of type pg_exc_27 to Exc(cell 27), destination: unspecified already exists in explicit_inputs. Use `force=True` to force readdition.\n",
      "pyNeuroML >>> 2025-01-29 16:19:42,254 - neuroml.nml.generatedssupersuper - WARNING - Explicit Input of type pg_exc_28 to Exc(cell 28), destination: unspecified already exists in explicit_inputs. Use `force=True` to force readdition.\n",
      "pyNeuroML >>> 2025-01-29 16:19:42,257 - neuroml.nml.generatedssupersuper - WARNING - Explicit Input of type pg_exc_29 to Exc(cell 29), destination: unspecified already exists in explicit_inputs. Use `force=True` to force readdition.\n",
      "pyNeuroML >>> 2025-01-29 16:19:42,261 - neuroml.nml.generatedssupersuper - WARNING - Explicit Input of type pg_exc_30 to Exc(cell 30), destination: unspecified already exists in explicit_inputs. Use `force=True` to force readdition.\n",
      "pyNeuroML >>> 2025-01-29 16:19:42,264 - neuroml.nml.generatedssupersuper - WARNING - Explicit Input of type pg_exc_31 to Exc(cell 31), destination: unspecified already exists in explicit_inputs. Use `force=True` to force readdition.\n",
      "pyNeuroML >>> 2025-01-29 16:19:42,269 - neuroml.nml.generatedssupersuper - WARNING - Explicit Input of type pg_exc_32 to Exc(cell 32), destination: unspecified already exists in explicit_inputs. Use `force=True` to force readdition.\n",
      "pyNeuroML >>> 2025-01-29 16:19:42,274 - neuroml.nml.generatedssupersuper - WARNING - Explicit Input of type pg_exc_33 to Exc(cell 33), destination: unspecified already exists in explicit_inputs. Use `force=True` to force readdition.\n",
      "pyNeuroML >>> 2025-01-29 16:19:42,277 - neuroml.nml.generatedssupersuper - WARNING - Explicit Input of type pg_exc_34 to Exc(cell 34), destination: unspecified already exists in explicit_inputs. Use `force=True` to force readdition.\n",
      "pyNeuroML >>> 2025-01-29 16:19:42,280 - neuroml.nml.generatedssupersuper - WARNING - Explicit Input of type pg_exc_35 to Exc(cell 35), destination: unspecified already exists in explicit_inputs. Use `force=True` to force readdition.\n",
      "pyNeuroML >>> 2025-01-29 16:19:42,285 - neuroml.nml.generatedssupersuper - WARNING - Explicit Input of type pg_exc_36 to Exc(cell 36), destination: unspecified already exists in explicit_inputs. Use `force=True` to force readdition.\n",
      "pyNeuroML >>> 2025-01-29 16:19:42,290 - neuroml.nml.generatedssupersuper - WARNING - Explicit Input of type pg_exc_37 to Exc(cell 37), destination: unspecified already exists in explicit_inputs. Use `force=True` to force readdition.\n",
      "pyNeuroML >>> 2025-01-29 16:19:42,293 - neuroml.nml.generatedssupersuper - WARNING - Explicit Input of type pg_exc_38 to Exc(cell 38), destination: unspecified already exists in explicit_inputs. Use `force=True` to force readdition.\n",
      "pyNeuroML >>> 2025-01-29 16:19:42,296 - neuroml.nml.generatedssupersuper - WARNING - Explicit Input of type pg_exc_39 to Exc(cell 39), destination: unspecified already exists in explicit_inputs. Use `force=True` to force readdition.\n",
      "pyNeuroML >>> 2025-01-29 16:19:42,302 - neuroml.nml.generatedssupersuper - WARNING - Explicit Input of type pg_exc_40 to Exc(cell 40), destination: unspecified already exists in explicit_inputs. Use `force=True` to force readdition.\n",
      "pyNeuroML >>> 2025-01-29 16:19:42,308 - neuroml.nml.generatedssupersuper - WARNING - Explicit Input of type pg_exc_41 to Exc(cell 41), destination: unspecified already exists in explicit_inputs. Use `force=True` to force readdition.\n",
      "pyNeuroML >>> 2025-01-29 16:19:42,311 - neuroml.nml.generatedssupersuper - WARNING - Explicit Input of type pg_exc_42 to Exc(cell 42), destination: unspecified already exists in explicit_inputs. Use `force=True` to force readdition.\n",
      "pyNeuroML >>> 2025-01-29 16:19:42,313 - neuroml.nml.generatedssupersuper - WARNING - Explicit Input of type pg_exc_43 to Exc(cell 43), destination: unspecified already exists in explicit_inputs. Use `force=True` to force readdition.\n",
      "pyNeuroML >>> 2025-01-29 16:19:42,317 - neuroml.nml.generatedssupersuper - WARNING - Explicit Input of type pg_exc_44 to Exc(cell 44), destination: unspecified already exists in explicit_inputs. Use `force=True` to force readdition.\n",
      "pyNeuroML >>> 2025-01-29 16:19:42,321 - neuroml.nml.generatedssupersuper - WARNING - Explicit Input of type pg_exc_45 to Exc(cell 45), destination: unspecified already exists in explicit_inputs. Use `force=True` to force readdition.\n",
      "pyNeuroML >>> 2025-01-29 16:19:42,326 - neuroml.nml.generatedssupersuper - WARNING - Explicit Input of type pg_exc_46 to Exc(cell 46), destination: unspecified already exists in explicit_inputs. Use `force=True` to force readdition.\n",
      "pyNeuroML >>> 2025-01-29 16:19:42,329 - neuroml.nml.generatedssupersuper - WARNING - Explicit Input of type pg_exc_47 to Exc(cell 47), destination: unspecified already exists in explicit_inputs. Use `force=True` to force readdition.\n",
      "pyNeuroML >>> 2025-01-29 16:19:42,332 - neuroml.nml.generatedssupersuper - WARNING - Explicit Input of type pg_exc_48 to Exc(cell 48), destination: unspecified already exists in explicit_inputs. Use `force=True` to force readdition.\n",
      "pyNeuroML >>> 2025-01-29 16:19:42,335 - neuroml.nml.generatedssupersuper - WARNING - Explicit Input of type pg_exc_49 to Exc(cell 49), destination: unspecified already exists in explicit_inputs. Use `force=True` to force readdition.\n",
      "pyNeuroML >>> 2025-01-29 16:19:42,340 - neuroml.nml.generatedssupersuper - WARNING - Explicit Input of type pg_exc_50 to Exc(cell 50), destination: unspecified already exists in explicit_inputs. Use `force=True` to force readdition.\n",
      "pyNeuroML >>> 2025-01-29 16:19:42,342 - neuroml.nml.generatedssupersuper - WARNING - Explicit Input of type pg_exc_51 to Exc(cell 51), destination: unspecified already exists in explicit_inputs. Use `force=True` to force readdition.\n",
      "pyNeuroML >>> 2025-01-29 16:19:42,346 - neuroml.nml.generatedssupersuper - WARNING - Explicit Input of type pg_exc_52 to Exc(cell 52), destination: unspecified already exists in explicit_inputs. Use `force=True` to force readdition.\n",
      "pyNeuroML >>> 2025-01-29 16:19:42,354 - neuroml.nml.generatedssupersuper - WARNING - Explicit Input of type pg_exc_53 to Exc(cell 53), destination: unspecified already exists in explicit_inputs. Use `force=True` to force readdition.\n",
      "pyNeuroML >>> 2025-01-29 16:19:42,360 - neuroml.nml.generatedssupersuper - WARNING - Explicit Input of type pg_exc_54 to Exc(cell 54), destination: unspecified already exists in explicit_inputs. Use `force=True` to force readdition.\n",
      "pyNeuroML >>> 2025-01-29 16:19:42,367 - neuroml.nml.generatedssupersuper - WARNING - Explicit Input of type pg_exc_55 to Exc(cell 55), destination: unspecified already exists in explicit_inputs. Use `force=True` to force readdition.\n",
      "pyNeuroML >>> 2025-01-29 16:19:42,370 - neuroml.nml.generatedssupersuper - WARNING - Explicit Input of type pg_exc_56 to Exc(cell 56), destination: unspecified already exists in explicit_inputs. Use `force=True` to force readdition.\n",
      "pyNeuroML >>> 2025-01-29 16:19:42,377 - neuroml.nml.generatedssupersuper - WARNING - Explicit Input of type pg_exc_57 to Exc(cell 57), destination: unspecified already exists in explicit_inputs. Use `force=True` to force readdition.\n",
      "pyNeuroML >>> 2025-01-29 16:19:42,380 - neuroml.nml.generatedssupersuper - WARNING - Explicit Input of type pg_exc_58 to Exc(cell 58), destination: unspecified already exists in explicit_inputs. Use `force=True` to force readdition.\n",
      "pyNeuroML >>> 2025-01-29 16:19:42,384 - neuroml.nml.generatedssupersuper - WARNING - Explicit Input of type pg_exc_59 to Exc(cell 59), destination: unspecified already exists in explicit_inputs. Use `force=True` to force readdition.\n",
      "pyNeuroML >>> 2025-01-29 16:19:42,386 - neuroml.nml.generatedssupersuper - WARNING - Explicit Input of type pg_exc_60 to Exc(cell 60), destination: unspecified already exists in explicit_inputs. Use `force=True` to force readdition.\n",
      "pyNeuroML >>> 2025-01-29 16:19:42,389 - neuroml.nml.generatedssupersuper - WARNING - Explicit Input of type pg_exc_61 to Exc(cell 61), destination: unspecified already exists in explicit_inputs. Use `force=True` to force readdition.\n",
      "pyNeuroML >>> 2025-01-29 16:19:42,392 - neuroml.nml.generatedssupersuper - WARNING - Explicit Input of type pg_exc_62 to Exc(cell 62), destination: unspecified already exists in explicit_inputs. Use `force=True` to force readdition.\n",
      "pyNeuroML >>> 2025-01-29 16:19:42,395 - neuroml.nml.generatedssupersuper - WARNING - Explicit Input of type pg_exc_63 to Exc(cell 63), destination: unspecified already exists in explicit_inputs. Use `force=True` to force readdition.\n",
      "pyNeuroML >>> 2025-01-29 16:19:42,398 - neuroml.nml.generatedssupersuper - WARNING - Explicit Input of type pg_exc_64 to Exc(cell 64), destination: unspecified already exists in explicit_inputs. Use `force=True` to force readdition.\n",
      "pyNeuroML >>> 2025-01-29 16:19:42,402 - neuroml.nml.generatedssupersuper - WARNING - Explicit Input of type pg_exc_65 to Exc(cell 65), destination: unspecified already exists in explicit_inputs. Use `force=True` to force readdition.\n",
      "pyNeuroML >>> 2025-01-29 16:19:42,406 - neuroml.nml.generatedssupersuper - WARNING - Explicit Input of type pg_exc_66 to Exc(cell 66), destination: unspecified already exists in explicit_inputs. Use `force=True` to force readdition.\n",
      "pyNeuroML >>> 2025-01-29 16:19:42,409 - neuroml.nml.generatedssupersuper - WARNING - Explicit Input of type pg_exc_67 to Exc(cell 67), destination: unspecified already exists in explicit_inputs. Use `force=True` to force readdition.\n",
      "pyNeuroML >>> 2025-01-29 16:19:42,413 - neuroml.nml.generatedssupersuper - WARNING - Explicit Input of type pg_exc_68 to Exc(cell 68), destination: unspecified already exists in explicit_inputs. Use `force=True` to force readdition.\n",
      "pyNeuroML >>> 2025-01-29 16:19:42,419 - neuroml.nml.generatedssupersuper - WARNING - Explicit Input of type pg_exc_69 to Exc(cell 69), destination: unspecified already exists in explicit_inputs. Use `force=True` to force readdition.\n",
      "pyNeuroML >>> 2025-01-29 16:19:42,422 - neuroml.nml.generatedssupersuper - WARNING - Explicit Input of type pg_exc_70 to Exc(cell 70), destination: unspecified already exists in explicit_inputs. Use `force=True` to force readdition.\n",
      "pyNeuroML >>> 2025-01-29 16:19:42,425 - neuroml.nml.generatedssupersuper - WARNING - Explicit Input of type pg_exc_71 to Exc(cell 71), destination: unspecified already exists in explicit_inputs. Use `force=True` to force readdition.\n",
      "pyNeuroML >>> 2025-01-29 16:19:42,428 - neuroml.nml.generatedssupersuper - WARNING - Explicit Input of type pg_exc_72 to Exc(cell 72), destination: unspecified already exists in explicit_inputs. Use `force=True` to force readdition.\n",
      "pyNeuroML >>> 2025-01-29 16:19:42,437 - neuroml.nml.generatedssupersuper - WARNING - Explicit Input of type pg_exc_73 to Exc(cell 73), destination: unspecified already exists in explicit_inputs. Use `force=True` to force readdition.\n",
      "pyNeuroML >>> 2025-01-29 16:19:42,450 - neuroml.nml.generatedssupersuper - WARNING - Explicit Input of type pg_exc_74 to Exc(cell 74), destination: unspecified already exists in explicit_inputs. Use `force=True` to force readdition.\n",
      "pyNeuroML >>> 2025-01-29 16:19:42,469 - neuroml.nml.generatedssupersuper - WARNING - Explicit Input of type pg_exc_75 to Exc(cell 75), destination: unspecified already exists in explicit_inputs. Use `force=True` to force readdition.\n",
      "pyNeuroML >>> 2025-01-29 16:19:42,493 - neuroml.nml.generatedssupersuper - WARNING - Explicit Input of type pg_exc_76 to Exc(cell 76), destination: unspecified already exists in explicit_inputs. Use `force=True` to force readdition.\n",
      "pyNeuroML >>> 2025-01-29 16:19:42,497 - neuroml.nml.generatedssupersuper - WARNING - Explicit Input of type pg_exc_77 to Exc(cell 77), destination: unspecified already exists in explicit_inputs. Use `force=True` to force readdition.\n",
      "pyNeuroML >>> 2025-01-29 16:19:42,503 - neuroml.nml.generatedssupersuper - WARNING - Explicit Input of type pg_exc_0 to Exc(cell 0), destination: unspecified already exists in explicit_inputs. Use `force=True` to force readdition.\n",
      "pyNeuroML >>> 2025-01-29 16:19:42,506 - neuroml.nml.generatedssupersuper - WARNING - Explicit Input of type pg_exc_1 to Exc(cell 1), destination: unspecified already exists in explicit_inputs. Use `force=True` to force readdition.\n",
      "pyNeuroML >>> 2025-01-29 16:19:42,509 - neuroml.nml.generatedssupersuper - WARNING - Explicit Input of type pg_exc_2 to Exc(cell 2), destination: unspecified already exists in explicit_inputs. Use `force=True` to force readdition.\n",
      "pyNeuroML >>> 2025-01-29 16:19:42,512 - neuroml.nml.generatedssupersuper - WARNING - Explicit Input of type pg_exc_3 to Exc(cell 3), destination: unspecified already exists in explicit_inputs. Use `force=True` to force readdition.\n",
      "pyNeuroML >>> 2025-01-29 16:19:42,517 - neuroml.nml.generatedssupersuper - WARNING - Explicit Input of type pg_exc_4 to Exc(cell 4), destination: unspecified already exists in explicit_inputs. Use `force=True` to force readdition.\n",
      "pyNeuroML >>> 2025-01-29 16:19:42,521 - neuroml.nml.generatedssupersuper - WARNING - Explicit Input of type pg_exc_5 to Exc(cell 5), destination: unspecified already exists in explicit_inputs. Use `force=True` to force readdition.\n",
      "pyNeuroML >>> 2025-01-29 16:19:42,524 - neuroml.nml.generatedssupersuper - WARNING - Explicit Input of type pg_exc_6 to Exc(cell 6), destination: unspecified already exists in explicit_inputs. Use `force=True` to force readdition.\n",
      "pyNeuroML >>> 2025-01-29 16:19:42,526 - neuroml.nml.generatedssupersuper - WARNING - Explicit Input of type pg_exc_7 to Exc(cell 7), destination: unspecified already exists in explicit_inputs. Use `force=True` to force readdition.\n",
      "pyNeuroML >>> 2025-01-29 16:19:42,529 - neuroml.nml.generatedssupersuper - WARNING - Explicit Input of type pg_exc_8 to Exc(cell 8), destination: unspecified already exists in explicit_inputs. Use `force=True` to force readdition.\n",
      "pyNeuroML >>> 2025-01-29 16:19:42,532 - neuroml.nml.generatedssupersuper - WARNING - Explicit Input of type pg_exc_9 to Exc(cell 9), destination: unspecified already exists in explicit_inputs. Use `force=True` to force readdition.\n",
      "pyNeuroML >>> 2025-01-29 16:19:42,536 - neuroml.nml.generatedssupersuper - WARNING - Explicit Input of type pg_exc_10 to Exc(cell 10), destination: unspecified already exists in explicit_inputs. Use `force=True` to force readdition.\n",
      "pyNeuroML >>> 2025-01-29 16:19:42,542 - neuroml.nml.generatedssupersuper - WARNING - Explicit Input of type pg_exc_11 to Exc(cell 11), destination: unspecified already exists in explicit_inputs. Use `force=True` to force readdition.\n",
      "pyNeuroML >>> 2025-01-29 16:19:42,557 - neuroml.nml.generatedssupersuper - WARNING - Explicit Input of type pg_exc_12 to Exc(cell 12), destination: unspecified already exists in explicit_inputs. Use `force=True` to force readdition.\n",
      "pyNeuroML >>> 2025-01-29 16:19:42,560 - neuroml.nml.generatedssupersuper - WARNING - Explicit Input of type pg_exc_13 to Exc(cell 13), destination: unspecified already exists in explicit_inputs. Use `force=True` to force readdition.\n",
      "pyNeuroML >>> 2025-01-29 16:19:42,562 - neuroml.nml.generatedssupersuper - WARNING - Explicit Input of type pg_exc_14 to Exc(cell 14), destination: unspecified already exists in explicit_inputs. Use `force=True` to force readdition.\n",
      "pyNeuroML >>> 2025-01-29 16:19:42,566 - neuroml.nml.generatedssupersuper - WARNING - Explicit Input of type pg_exc_15 to Exc(cell 15), destination: unspecified already exists in explicit_inputs. Use `force=True` to force readdition.\n",
      "pyNeuroML >>> 2025-01-29 16:19:42,569 - neuroml.nml.generatedssupersuper - WARNING - Explicit Input of type pg_exc_16 to Exc(cell 16), destination: unspecified already exists in explicit_inputs. Use `force=True` to force readdition.\n",
      "pyNeuroML >>> 2025-01-29 16:19:42,573 - neuroml.nml.generatedssupersuper - WARNING - Explicit Input of type pg_exc_17 to Exc(cell 17), destination: unspecified already exists in explicit_inputs. Use `force=True` to force readdition.\n",
      "pyNeuroML >>> 2025-01-29 16:19:42,575 - neuroml.nml.generatedssupersuper - WARNING - Explicit Input of type pg_exc_18 to Exc(cell 18), destination: unspecified already exists in explicit_inputs. Use `force=True` to force readdition.\n",
      "pyNeuroML >>> 2025-01-29 16:19:42,578 - neuroml.nml.generatedssupersuper - WARNING - Explicit Input of type pg_exc_19 to Exc(cell 19), destination: unspecified already exists in explicit_inputs. Use `force=True` to force readdition.\n",
      "pyNeuroML >>> 2025-01-29 16:19:42,580 - neuroml.nml.generatedssupersuper - WARNING - Explicit Input of type pg_exc_20 to Exc(cell 20), destination: unspecified already exists in explicit_inputs. Use `force=True` to force readdition.\n",
      "pyNeuroML >>> 2025-01-29 16:19:42,584 - neuroml.nml.generatedssupersuper - WARNING - Explicit Input of type pg_exc_21 to Exc(cell 21), destination: unspecified already exists in explicit_inputs. Use `force=True` to force readdition.\n",
      "pyNeuroML >>> 2025-01-29 16:19:42,587 - neuroml.nml.generatedssupersuper - WARNING - Explicit Input of type pg_exc_22 to Exc(cell 22), destination: unspecified already exists in explicit_inputs. Use `force=True` to force readdition.\n",
      "pyNeuroML >>> 2025-01-29 16:19:42,590 - neuroml.nml.generatedssupersuper - WARNING - Explicit Input of type pg_exc_23 to Exc(cell 23), destination: unspecified already exists in explicit_inputs. Use `force=True` to force readdition.\n",
      "pyNeuroML >>> 2025-01-29 16:19:42,595 - neuroml.nml.generatedssupersuper - WARNING - Explicit Input of type pg_exc_24 to Exc(cell 24), destination: unspecified already exists in explicit_inputs. Use `force=True` to force readdition.\n",
      "pyNeuroML >>> 2025-01-29 16:19:42,597 - neuroml.nml.generatedssupersuper - WARNING - Explicit Input of type pg_exc_25 to Exc(cell 25), destination: unspecified already exists in explicit_inputs. Use `force=True` to force readdition.\n",
      "pyNeuroML >>> 2025-01-29 16:19:42,601 - neuroml.nml.generatedssupersuper - WARNING - Explicit Input of type pg_exc_26 to Exc(cell 26), destination: unspecified already exists in explicit_inputs. Use `force=True` to force readdition.\n",
      "pyNeuroML >>> 2025-01-29 16:19:42,607 - neuroml.nml.generatedssupersuper - WARNING - Explicit Input of type pg_exc_27 to Exc(cell 27), destination: unspecified already exists in explicit_inputs. Use `force=True` to force readdition.\n",
      "pyNeuroML >>> 2025-01-29 16:19:42,610 - neuroml.nml.generatedssupersuper - WARNING - Explicit Input of type pg_exc_28 to Exc(cell 28), destination: unspecified already exists in explicit_inputs. Use `force=True` to force readdition.\n",
      "pyNeuroML >>> 2025-01-29 16:19:42,612 - neuroml.nml.generatedssupersuper - WARNING - Explicit Input of type pg_exc_29 to Exc(cell 29), destination: unspecified already exists in explicit_inputs. Use `force=True` to force readdition.\n",
      "pyNeuroML >>> 2025-01-29 16:19:42,615 - neuroml.nml.generatedssupersuper - WARNING - Explicit Input of type pg_exc_30 to Exc(cell 30), destination: unspecified already exists in explicit_inputs. Use `force=True` to force readdition.\n",
      "pyNeuroML >>> 2025-01-29 16:19:42,619 - neuroml.nml.generatedssupersuper - WARNING - Explicit Input of type pg_exc_31 to Exc(cell 31), destination: unspecified already exists in explicit_inputs. Use `force=True` to force readdition.\n",
      "pyNeuroML >>> 2025-01-29 16:19:42,623 - neuroml.nml.generatedssupersuper - WARNING - Explicit Input of type pg_exc_32 to Exc(cell 32), destination: unspecified already exists in explicit_inputs. Use `force=True` to force readdition.\n",
      "pyNeuroML >>> 2025-01-29 16:19:42,626 - neuroml.nml.generatedssupersuper - WARNING - Explicit Input of type pg_exc_33 to Exc(cell 33), destination: unspecified already exists in explicit_inputs. Use `force=True` to force readdition.\n",
      "pyNeuroML >>> 2025-01-29 16:19:42,629 - neuroml.nml.generatedssupersuper - WARNING - Explicit Input of type pg_exc_34 to Exc(cell 34), destination: unspecified already exists in explicit_inputs. Use `force=True` to force readdition.\n",
      "pyNeuroML >>> 2025-01-29 16:19:42,632 - neuroml.nml.generatedssupersuper - WARNING - Explicit Input of type pg_exc_35 to Exc(cell 35), destination: unspecified already exists in explicit_inputs. Use `force=True` to force readdition.\n",
      "pyNeuroML >>> 2025-01-29 16:19:42,636 - neuroml.nml.generatedssupersuper - WARNING - Explicit Input of type pg_exc_36 to Exc(cell 36), destination: unspecified already exists in explicit_inputs. Use `force=True` to force readdition.\n",
      "pyNeuroML >>> 2025-01-29 16:19:42,640 - neuroml.nml.generatedssupersuper - WARNING - Explicit Input of type pg_exc_37 to Exc(cell 37), destination: unspecified already exists in explicit_inputs. Use `force=True` to force readdition.\n",
      "pyNeuroML >>> 2025-01-29 16:19:42,643 - neuroml.nml.generatedssupersuper - WARNING - Explicit Input of type pg_exc_38 to Exc(cell 38), destination: unspecified already exists in explicit_inputs. Use `force=True` to force readdition.\n",
      "pyNeuroML >>> 2025-01-29 16:19:42,646 - neuroml.nml.generatedssupersuper - WARNING - Explicit Input of type pg_exc_39 to Exc(cell 39), destination: unspecified already exists in explicit_inputs. Use `force=True` to force readdition.\n",
      "pyNeuroML >>> 2025-01-29 16:19:42,649 - neuroml.nml.generatedssupersuper - WARNING - Explicit Input of type pg_exc_40 to Exc(cell 40), destination: unspecified already exists in explicit_inputs. Use `force=True` to force readdition.\n",
      "pyNeuroML >>> 2025-01-29 16:19:42,653 - neuroml.nml.generatedssupersuper - WARNING - Explicit Input of type pg_exc_41 to Exc(cell 41), destination: unspecified already exists in explicit_inputs. Use `force=True` to force readdition.\n",
      "pyNeuroML >>> 2025-01-29 16:19:42,658 - neuroml.nml.generatedssupersuper - WARNING - Explicit Input of type pg_exc_42 to Exc(cell 42), destination: unspecified already exists in explicit_inputs. Use `force=True` to force readdition.\n",
      "pyNeuroML >>> 2025-01-29 16:19:42,660 - neuroml.nml.generatedssupersuper - WARNING - Explicit Input of type pg_exc_43 to Exc(cell 43), destination: unspecified already exists in explicit_inputs. Use `force=True` to force readdition.\n",
      "pyNeuroML >>> 2025-01-29 16:19:42,663 - neuroml.nml.generatedssupersuper - WARNING - Explicit Input of type pg_exc_44 to Exc(cell 44), destination: unspecified already exists in explicit_inputs. Use `force=True` to force readdition.\n",
      "pyNeuroML >>> 2025-01-29 16:19:42,666 - neuroml.nml.generatedssupersuper - WARNING - Explicit Input of type pg_exc_45 to Exc(cell 45), destination: unspecified already exists in explicit_inputs. Use `force=True` to force readdition.\n",
      "pyNeuroML >>> 2025-01-29 16:19:42,671 - neuroml.nml.generatedssupersuper - WARNING - Explicit Input of type pg_exc_46 to Exc(cell 46), destination: unspecified already exists in explicit_inputs. Use `force=True` to force readdition.\n",
      "pyNeuroML >>> 2025-01-29 16:19:42,676 - neuroml.nml.generatedssupersuper - WARNING - Explicit Input of type pg_exc_47 to Exc(cell 47), destination: unspecified already exists in explicit_inputs. Use `force=True` to force readdition.\n",
      "pyNeuroML >>> 2025-01-29 16:19:42,679 - neuroml.nml.generatedssupersuper - WARNING - Explicit Input of type pg_exc_48 to Exc(cell 48), destination: unspecified already exists in explicit_inputs. Use `force=True` to force readdition.\n",
      "pyNeuroML >>> 2025-01-29 16:19:42,682 - neuroml.nml.generatedssupersuper - WARNING - Explicit Input of type pg_exc_49 to Exc(cell 49), destination: unspecified already exists in explicit_inputs. Use `force=True` to force readdition.\n",
      "pyNeuroML >>> 2025-01-29 16:19:42,686 - neuroml.nml.generatedssupersuper - WARNING - Explicit Input of type pg_exc_50 to Exc(cell 50), destination: unspecified already exists in explicit_inputs. Use `force=True` to force readdition.\n",
      "pyNeuroML >>> 2025-01-29 16:19:42,691 - neuroml.nml.generatedssupersuper - WARNING - Explicit Input of type pg_exc_51 to Exc(cell 51), destination: unspecified already exists in explicit_inputs. Use `force=True` to force readdition.\n",
      "pyNeuroML >>> 2025-01-29 16:19:42,694 - neuroml.nml.generatedssupersuper - WARNING - Explicit Input of type pg_exc_52 to Exc(cell 52), destination: unspecified already exists in explicit_inputs. Use `force=True` to force readdition.\n",
      "pyNeuroML >>> 2025-01-29 16:19:42,697 - neuroml.nml.generatedssupersuper - WARNING - Explicit Input of type pg_exc_53 to Exc(cell 53), destination: unspecified already exists in explicit_inputs. Use `force=True` to force readdition.\n",
      "pyNeuroML >>> 2025-01-29 16:19:42,700 - neuroml.nml.generatedssupersuper - WARNING - Explicit Input of type pg_exc_54 to Exc(cell 54), destination: unspecified already exists in explicit_inputs. Use `force=True` to force readdition.\n",
      "pyNeuroML >>> 2025-01-29 16:19:42,705 - neuroml.nml.generatedssupersuper - WARNING - Explicit Input of type pg_exc_55 to Exc(cell 55), destination: unspecified already exists in explicit_inputs. Use `force=True` to force readdition.\n",
      "pyNeuroML >>> 2025-01-29 16:19:42,708 - neuroml.nml.generatedssupersuper - WARNING - Explicit Input of type pg_exc_56 to Exc(cell 56), destination: unspecified already exists in explicit_inputs. Use `force=True` to force readdition.\n",
      "pyNeuroML >>> 2025-01-29 16:19:42,711 - neuroml.nml.generatedssupersuper - WARNING - Explicit Input of type pg_exc_57 to Exc(cell 57), destination: unspecified already exists in explicit_inputs. Use `force=True` to force readdition.\n",
      "pyNeuroML >>> 2025-01-29 16:19:42,713 - neuroml.nml.generatedssupersuper - WARNING - Explicit Input of type pg_exc_58 to Exc(cell 58), destination: unspecified already exists in explicit_inputs. Use `force=True` to force readdition.\n",
      "pyNeuroML >>> 2025-01-29 16:19:42,717 - neuroml.nml.generatedssupersuper - WARNING - Explicit Input of type pg_exc_59 to Exc(cell 59), destination: unspecified already exists in explicit_inputs. Use `force=True` to force readdition.\n",
      "pyNeuroML >>> 2025-01-29 16:19:42,720 - neuroml.nml.generatedssupersuper - WARNING - Explicit Input of type pg_exc_60 to Exc(cell 60), destination: unspecified already exists in explicit_inputs. Use `force=True` to force readdition.\n",
      "pyNeuroML >>> 2025-01-29 16:19:42,725 - neuroml.nml.generatedssupersuper - WARNING - Explicit Input of type pg_exc_61 to Exc(cell 61), destination: unspecified already exists in explicit_inputs. Use `force=True` to force readdition.\n",
      "pyNeuroML >>> 2025-01-29 16:19:42,728 - neuroml.nml.generatedssupersuper - WARNING - Explicit Input of type pg_exc_62 to Exc(cell 62), destination: unspecified already exists in explicit_inputs. Use `force=True` to force readdition.\n",
      "pyNeuroML >>> 2025-01-29 16:19:42,730 - neuroml.nml.generatedssupersuper - WARNING - Explicit Input of type pg_exc_63 to Exc(cell 63), destination: unspecified already exists in explicit_inputs. Use `force=True` to force readdition.\n",
      "pyNeuroML >>> 2025-01-29 16:19:42,734 - neuroml.nml.generatedssupersuper - WARNING - Explicit Input of type pg_exc_64 to Exc(cell 64), destination: unspecified already exists in explicit_inputs. Use `force=True` to force readdition.\n",
      "pyNeuroML >>> 2025-01-29 16:19:42,739 - neuroml.nml.generatedssupersuper - WARNING - Explicit Input of type pg_exc_65 to Exc(cell 65), destination: unspecified already exists in explicit_inputs. Use `force=True` to force readdition.\n",
      "pyNeuroML >>> 2025-01-29 16:19:42,743 - neuroml.nml.generatedssupersuper - WARNING - Explicit Input of type pg_exc_66 to Exc(cell 66), destination: unspecified already exists in explicit_inputs. Use `force=True` to force readdition.\n",
      "pyNeuroML >>> 2025-01-29 16:19:42,746 - neuroml.nml.generatedssupersuper - WARNING - Explicit Input of type pg_exc_67 to Exc(cell 67), destination: unspecified already exists in explicit_inputs. Use `force=True` to force readdition.\n",
      "pyNeuroML >>> 2025-01-29 16:19:42,749 - neuroml.nml.generatedssupersuper - WARNING - Explicit Input of type pg_exc_68 to Exc(cell 68), destination: unspecified already exists in explicit_inputs. Use `force=True` to force readdition.\n",
      "pyNeuroML >>> 2025-01-29 16:19:42,754 - neuroml.nml.generatedssupersuper - WARNING - Explicit Input of type pg_exc_69 to Exc(cell 69), destination: unspecified already exists in explicit_inputs. Use `force=True` to force readdition.\n",
      "pyNeuroML >>> 2025-01-29 16:19:42,758 - neuroml.nml.generatedssupersuper - WARNING - Explicit Input of type pg_exc_70 to Exc(cell 70), destination: unspecified already exists in explicit_inputs. Use `force=True` to force readdition.\n",
      "pyNeuroML >>> 2025-01-29 16:19:42,760 - neuroml.nml.generatedssupersuper - WARNING - Explicit Input of type pg_exc_71 to Exc(cell 71), destination: unspecified already exists in explicit_inputs. Use `force=True` to force readdition.\n",
      "pyNeuroML >>> 2025-01-29 16:19:42,763 - neuroml.nml.generatedssupersuper - WARNING - Explicit Input of type pg_exc_72 to Exc(cell 72), destination: unspecified already exists in explicit_inputs. Use `force=True` to force readdition.\n",
      "pyNeuroML >>> 2025-01-29 16:19:42,768 - neuroml.nml.generatedssupersuper - WARNING - Explicit Input of type pg_exc_73 to Exc(cell 73), destination: unspecified already exists in explicit_inputs. Use `force=True` to force readdition.\n",
      "pyNeuroML >>> 2025-01-29 16:19:42,771 - neuroml.nml.generatedssupersuper - WARNING - Explicit Input of type pg_exc_74 to Exc(cell 74), destination: unspecified already exists in explicit_inputs. Use `force=True` to force readdition.\n",
      "pyNeuroML >>> 2025-01-29 16:19:42,776 - neuroml.nml.generatedssupersuper - WARNING - Explicit Input of type pg_exc_75 to Exc(cell 75), destination: unspecified already exists in explicit_inputs. Use `force=True` to force readdition.\n",
      "pyNeuroML >>> 2025-01-29 16:19:42,778 - neuroml.nml.generatedssupersuper - WARNING - Explicit Input of type pg_exc_76 to Exc(cell 76), destination: unspecified already exists in explicit_inputs. Use `force=True` to force readdition.\n",
      "pyNeuroML >>> 2025-01-29 16:19:42,797 - neuroml.nml.generatedssupersuper - WARNING - Explicit Input of type pg_exc_77 to Exc(cell 77), destination: unspecified already exists in explicit_inputs. Use `force=True` to force readdition.\n",
      "pyNeuroML >>> 2025-01-29 16:19:42,802 - neuroml.nml.generatedssupersuper - WARNING - Explicit Input of type pg_exc_78 to Exc(cell 78), destination: unspecified already exists in explicit_inputs. Use `force=True` to force readdition.\n",
      "pyNeuroML >>> 2025-01-29 16:19:42,805 - neuroml.nml.generatedssupersuper - WARNING - Explicit Input of type pg_exc_79 to Exc(cell 79), destination: unspecified already exists in explicit_inputs. Use `force=True` to force readdition.\n"
     ]
    },
    {
     "name": "stdout",
     "output_type": "stream",
     "text": [
      "*******************************************************\n",
      "* NeuroMLDocument: Cortex_Network\n",
      "*\n",
      "*  ExpOneSynapse: ['L23_LBC_L23_NGC', 'L23_MC_L1_SLAC', 'L4_MC_L23_BTC', 'L4_PC_L6_TPC_L1', 'L5_LBC_L4_SS', 'L6_BP_L4_SS']\n",
      "*  IncludeType: ['../NMC_model/NMC.NeuronML2/bAC217_L23_BP_2004171a4c_0_0.cell.nml', '../NMC_model/NMC.NeuronML2/bAC217_L23_BTC_65225ca4f8_0_0.cell.nml', '../NMC_model/NMC.NeuronML2/bAC217_L23_BTC_e5d9eb2ec3_0_0.cell.nml', '../NMC_model/NMC.NeuronML2/bAC217_L23_DBC_393cc5cca5_0_0.cell.nml', '../NMC_model/NMC.NeuronML2/bAC217_L23_DBC_3f985b6ce2_0_0.cell.nml', '../NMC_model/NMC.NeuronML2/bAC217_L23_DBC_55c1d16c8c_0_0.cell.nml', '../NMC_model/NMC.NeuronML2/bAC217_L23_DBC_e5ab405051_0_0.cell.nml', '../NMC_model/NMC.NeuronML2/bAC217_L23_LBC_361cffb4c6_0_0.cell.nml', '../NMC_model/NMC.NeuronML2/bAC217_L23_LBC_4738b5c12c_0_0.cell.nml', '../NMC_model/NMC.NeuronML2/bAC217_L23_LBC_72e65525d3_0_0.cell.nml', '../NMC_model/NMC.NeuronML2/bAC217_L23_LBC_c5ee2b20c2_0_0.cell.nml', '../NMC_model/NMC.NeuronML2/bAC217_L23_MC_1490f15199_0_0.cell.nml', '../NMC_model/NMC.NeuronML2/bAC217_L23_MC_40be3bf0e8_0_0.cell.nml', '../NMC_model/NMC.NeuronML2/bAC217_L23_MC_464f0bd828_0_0.cell.nml', '../NMC_model/NMC.NeuronML2/bAC217_L23_NBC_421c200e4e_0_0.cell.nml', '../NMC_model/NMC.NeuronML2/bAC217_L23_NBC_55cf872277_0_0.cell.nml', '../NMC_model/NMC.NeuronML2/bAC217_L23_NBC_da24c6bffc_0_0.cell.nml', '../NMC_model/NMC.NeuronML2/bAC217_L23_NBC_dc5e34b933_0_0.cell.nml', '../NMC_model/NMC.NeuronML2/bAC217_L4_DBC_78a99c338d_0_0.cell.nml', '../NMC_model/NMC.NeuronML2/bAC217_L4_DBC_87482e342d_0_0.cell.nml', '../NMC_model/NMC.NeuronML2/bAC217_L4_MC_3110386c07_0_0.cell.nml', '../NMC_model/NMC.NeuronML2/bAC217_L4_MC_8a4a02932c_0_0.cell.nml', '../NMC_model/NMC.NeuronML2/bAC217_L5_BP_55bc20256d_0_0.cell.nml', '../NMC_model/NMC.NeuronML2/bAC217_L5_BP_a122f83294_0_0.cell.nml', '../NMC_model/NMC.NeuronML2/bAC217_L5_BP_d0cc8d7615_0_0.cell.nml', '../NMC_model/NMC.NeuronML2/bAC217_L5_BP_e3706556cb_0_0.cell.nml', '../NMC_model/NMC.NeuronML2/bAC217_L5_BTC_160272643a_0_0.cell.nml', '../NMC_model/NMC.NeuronML2/bAC217_L5_BTC_3d68fea85d_0_0.cell.nml', '../NMC_model/NMC.NeuronML2/bAC217_L5_BTC_5b195d0631_0_0.cell.nml', '../NMC_model/NMC.NeuronML2/bAC217_L5_BTC_8807af3a2b_0_0.cell.nml', '../NMC_model/NMC.NeuronML2/bAC217_L5_BTC_9b82f426e5_0_0.cell.nml', '../NMC_model/NMC.NeuronML2/bAC217_L5_DBC_4765d943f4_0_0.cell.nml', '../NMC_model/NMC.NeuronML2/bAC217_L5_DBC_7f0bb8efe9_0_0.cell.nml', '../NMC_model/NMC.NeuronML2/bAC217_L5_DBC_a60ab35166_0_0.cell.nml', '../NMC_model/NMC.NeuronML2/bAC217_L5_DBC_e2f2301440_0_0.cell.nml', '../NMC_model/NMC.NeuronML2/bAC217_L5_DBC_e731906688_0_0.cell.nml', '../NMC_model/NMC.NeuronML2/bAC217_L5_LBC_01750e1e18_0_0.cell.nml', '../NMC_model/NMC.NeuronML2/bAC217_L5_LBC_3daa582d70_0_0.cell.nml', '../NMC_model/NMC.NeuronML2/bAC217_L5_LBC_5fcaa92b0e_0_0.cell.nml', '../NMC_model/NMC.NeuronML2/bAC217_L5_LBC_b66dd6b653_0_0.cell.nml', '../NMC_model/NMC.NeuronML2/bAC217_L5_LBC_c2cff91741_0_0.cell.nml', '../NMC_model/NMC.NeuronML2/bAC217_L5_MC_7eeb7cff0f_0_0.cell.nml', '../NMC_model/NMC.NeuronML2/bAC217_L5_MC_8a4a02932c_0_0.cell.nml', '../NMC_model/NMC.NeuronML2/bAC217_L5_MC_bf2b2fbcbf_0_0.cell.nml', '../NMC_model/NMC.NeuronML2/bAC217_L5_MC_c135727743_0_0.cell.nml', '../NMC_model/NMC.NeuronML2/bAC217_L5_MC_cc2a170ef6_0_0.cell.nml', '../NMC_model/NMC.NeuronML2/bAC217_L5_NBC_2db880c523_0_0.cell.nml', '../NMC_model/NMC.NeuronML2/bAC217_L5_NBC_768f1bf7ac_0_0.cell.nml', '../NMC_model/NMC.NeuronML2/bAC217_L5_NBC_913c40083e_0_0.cell.nml', '../NMC_model/NMC.NeuronML2/bAC217_L5_NBC_a34c1bf418_0_0.cell.nml', '../NMC_model/NMC.NeuronML2/bAC217_L5_NBC_e943473349_0_0.cell.nml', '../NMC_model/NMC.NeuronML2/bAC217_L6_BTC_0aac470ea8_0_0.cell.nml', '../NMC_model/NMC.NeuronML2/bAC217_L6_BTC_459ef88946_0_0.cell.nml', '../NMC_model/NMC.NeuronML2/bAC217_L6_BTC_9e335e53f6_0_0.cell.nml', '../NMC_model/NMC.NeuronML2/bAC217_L6_BTC_c021ea90e3_0_0.cell.nml', '../NMC_model/NMC.NeuronML2/bAC217_L6_DBC_4fe83bdbb1_0_0.cell.nml', '../NMC_model/NMC.NeuronML2/bAC217_L6_DBC_52e1730bbd_0_0.cell.nml', '../NMC_model/NMC.NeuronML2/bAC217_L6_DBC_d59edbb45e_0_0.cell.nml', '../NMC_model/NMC.NeuronML2/bAC217_L6_LBC_2571ecba02_0_0.cell.nml', '../NMC_model/NMC.NeuronML2/bAC217_L6_LBC_5d73327936_0_0.cell.nml', '../NMC_model/NMC.NeuronML2/bAC217_L6_LBC_a08d7d7c5e_0_0.cell.nml', '../NMC_model/NMC.NeuronML2/bAC217_L6_LBC_e2449b7b3c_0_0.cell.nml', '../NMC_model/NMC.NeuronML2/bAC217_L6_LBC_e85c51cdb8_0_0.cell.nml', '../NMC_model/NMC.NeuronML2/bAC217_L6_MC_38015c3bc0_0_0.cell.nml', '../NMC_model/NMC.NeuronML2/bAC217_L6_MC_6c575906a7_0_0.cell.nml', '../NMC_model/NMC.NeuronML2/bAC217_L6_MC_792eb41cce_0_0.cell.nml', '../NMC_model/NMC.NeuronML2/bAC217_L6_MC_d379cda689_0_0.cell.nml', '../NMC_model/NMC.NeuronML2/bAC217_L6_MC_df869132b9_0_0.cell.nml', '../NMC_model/NMC.NeuronML2/bAC217_L6_NBC_1ef33fd873_0_0.cell.nml', '../NMC_model/NMC.NeuronML2/bAC217_L6_NBC_35ea10d24d_0_0.cell.nml', '../NMC_model/NMC.NeuronML2/bAC217_L6_NBC_3fc0dff69e_0_0.cell.nml', '../NMC_model/NMC.NeuronML2/bAC217_L6_NBC_656e1c0a2d_0_0.cell.nml', '../NMC_model/NMC.NeuronML2/bAC217_L6_NBC_ee7b52323f_0_0.cell.nml', '../NMC_model/NMC.NeuronML2/bIR215_L23_DBC_8485afb4d4_0_0.cell.nml', '../NMC_model/NMC.NeuronML2/bIR215_L23_DBC_b0d0b3615e_0_0.cell.nml', '../NMC_model/NMC.NeuronML2/bIR215_L4_BTC_4e26f3a393_0_0.cell.nml', '../NMC_model/NMC.NeuronML2/bIR215_L4_BTC_d656c19ac5_0_0.cell.nml', '../NMC_model/NMC.NeuronML2/bIR215_L4_DBC_5a91010028_0_0.cell.nml', '../NMC_model/NMC.NeuronML2/bIR215_L4_DBC_e57b56d14c_0_0.cell.nml', '../NMC_model/NMC.NeuronML2/bIR215_L5_BP_15aa299646_0_0.cell.nml', '../NMC_model/NMC.NeuronML2/bIR215_L5_DBC_08b1fddce5_0_0.cell.nml', '../NMC_model/NMC.NeuronML2/bIR215_L5_DBC_50ea904e54_0_0.cell.nml', '../NMC_model/NMC.NeuronML2/bIR215_L5_DBC_893b78d08e_0_0.cell.nml', '../NMC_model/NMC.NeuronML2/bIR215_L5_DBC_e2f2301440_0_0.cell.nml', '../NMC_model/NMC.NeuronML2/bIR215_L5_MC_7eeb7cff0f_0_0.cell.nml', '../NMC_model/NMC.NeuronML2/bIR215_L5_MC_8a4a02932c_0_0.cell.nml', '../NMC_model/NMC.NeuronML2/bIR215_L5_MC_bf2b2fbcbf_0_0.cell.nml', '../NMC_model/NMC.NeuronML2/bIR215_L5_MC_cc2a170ef6_0_0.cell.nml', '../NMC_model/NMC.NeuronML2/bIR215_L5_MC_fdc7bd1d07_0_0.cell.nml', '../NMC_model/NMC.NeuronML2/bIR215_L5_NBC_0871cd68c5_0_0.cell.nml', '../NMC_model/NMC.NeuronML2/bIR215_L5_NBC_809407f588_0_0.cell.nml', '../NMC_model/NMC.NeuronML2/bIR215_L5_NBC_83f56a1270_0_0.cell.nml', '../NMC_model/NMC.NeuronML2/bIR215_L5_NBC_913c40083e_0_0.cell.nml', '../NMC_model/NMC.NeuronML2/bIR215_L5_NBC_cb87ec754a_0_0.cell.nml', '../NMC_model/NMC.NeuronML2/bIR215_L6_DBC_0271760b42_0_0.cell.nml', '../NMC_model/NMC.NeuronML2/bIR215_L6_DBC_53b6888784_0_0.cell.nml', '../NMC_model/NMC.NeuronML2/bIR215_L6_DBC_a60ab35166_0_0.cell.nml', '../NMC_model/NMC.NeuronML2/bIR215_L6_DBC_e3438da2c9_0_0.cell.nml', '../NMC_model/NMC.NeuronML2/bIR215_L6_LBC_05f55c6541_0_0.cell.nml', '../NMC_model/NMC.NeuronML2/bIR215_L6_LBC_b4586f425b_0_0.cell.nml', '../NMC_model/NMC.NeuronML2/bIR215_L6_LBC_d854e4228e_0_0.cell.nml', '../NMC_model/NMC.NeuronML2/bIR215_L6_LBC_ef1920e6b8_0_0.cell.nml', '../NMC_model/NMC.NeuronML2/bIR215_L6_LBC_f0665c9d1a_0_0.cell.nml', '../NMC_model/NMC.NeuronML2/bIR215_L6_MC_62cf39b45d_0_0.cell.nml', '../NMC_model/NMC.NeuronML2/bIR215_L6_MC_6c575906a7_0_0.cell.nml', '../NMC_model/NMC.NeuronML2/bIR215_L6_MC_6ed36072e7_0_0.cell.nml', '../NMC_model/NMC.NeuronML2/bIR215_L6_MC_8f46a0ad62_0_0.cell.nml', '../NMC_model/NMC.NeuronML2/bIR215_L6_MC_d379cda689_0_0.cell.nml', '../NMC_model/NMC.NeuronML2/bIR215_L6_NBC_5d97f161ff_0_0.cell.nml', '../NMC_model/NMC.NeuronML2/bIR215_L6_NBC_8c6aecf604_0_0.cell.nml', '../NMC_model/NMC.NeuronML2/bIR215_L6_NBC_a104961d30_0_0.cell.nml', '../NMC_model/NMC.NeuronML2/bIR215_L6_NBC_ce39e26284_0_0.cell.nml', '../NMC_model/NMC.NeuronML2/bIR215_L6_NBC_ebdeb060a6_0_0.cell.nml', '../NMC_model/NMC.NeuronML2/bNAC219_L1_DAC_0d58fdf14a_0_0.cell.nml', '../NMC_model/NMC.NeuronML2/bNAC219_L1_DAC_56906d7a99_0_0.cell.nml', '../NMC_model/NMC.NeuronML2/bNAC219_L1_DAC_81e928d216_0_0.cell.nml', '../NMC_model/NMC.NeuronML2/bNAC219_L1_DAC_a9ae5cbbf5_0_0.cell.nml', '../NMC_model/NMC.NeuronML2/bNAC219_L1_DAC_ec2fc5f0de_0_0.cell.nml', '../NMC_model/NMC.NeuronML2/bNAC219_L1_HAC_369e749269_0_0.cell.nml', '../NMC_model/NMC.NeuronML2/bNAC219_L1_HAC_5c847ea2ef_0_0.cell.nml', '../NMC_model/NMC.NeuronML2/bNAC219_L1_HAC_dfd993e67b_0_0.cell.nml', '../NMC_model/NMC.NeuronML2/bNAC219_L1_HAC_f7023f0666_0_0.cell.nml', '../NMC_model/NMC.NeuronML2/bNAC219_L1_HAC_f8c9772d9d_0_0.cell.nml', '../NMC_model/NMC.NeuronML2/bNAC219_L1_SLAC_1aa0a09b13_0_0.cell.nml', '../NMC_model/NMC.NeuronML2/bNAC219_L1_SLAC_9f043bb71a_0_0.cell.nml', '../NMC_model/NMC.NeuronML2/bNAC219_L1_SLAC_bb26216f9f_0_0.cell.nml', '../NMC_model/NMC.NeuronML2/bNAC219_L1_SLAC_d22d584760_0_0.cell.nml', '../NMC_model/NMC.NeuronML2/bNAC219_L23_BP_40adbb9f96_0_0.cell.nml', '../NMC_model/NMC.NeuronML2/bNAC219_L23_BP_e8c88c2686_0_0.cell.nml', '../NMC_model/NMC.NeuronML2/bNAC219_L23_BTC_07c7c10a30_0_0.cell.nml', '../NMC_model/NMC.NeuronML2/bNAC219_L23_BTC_08c8d4004b_0_0.cell.nml', '../NMC_model/NMC.NeuronML2/bNAC219_L23_BTC_38a5da4025_0_0.cell.nml', '../NMC_model/NMC.NeuronML2/bNAC219_L23_BTC_62b9f5e9f6_0_0.cell.nml', '../NMC_model/NMC.NeuronML2/bNAC219_L23_BTC_f83ba90238_0_0.cell.nml', '../NMC_model/NMC.NeuronML2/bNAC219_L23_DBC_4c3b81ee8f_0_0.cell.nml', '../NMC_model/NMC.NeuronML2/bNAC219_L23_DBC_8b03af6e83_0_0.cell.nml', '../NMC_model/NMC.NeuronML2/bNAC219_L23_DBC_c9af6970b4_0_0.cell.nml', '../NMC_model/NMC.NeuronML2/bNAC219_L23_DBC_f7a3d54a01_0_0.cell.nml', '../NMC_model/NMC.NeuronML2/bNAC219_L23_LBC_91044b50b3_0_0.cell.nml', '../NMC_model/NMC.NeuronML2/bNAC219_L23_LBC_936c35a9e1_0_0.cell.nml', '../NMC_model/NMC.NeuronML2/bNAC219_L23_LBC_97118d2391_0_0.cell.nml', '../NMC_model/NMC.NeuronML2/bNAC219_L23_LBC_b35128281c_0_0.cell.nml', '../NMC_model/NMC.NeuronML2/bNAC219_L23_LBC_fe2122c75c_0_0.cell.nml', '../NMC_model/NMC.NeuronML2/bNAC219_L23_MC_31f333a601_0_0.cell.nml', '../NMC_model/NMC.NeuronML2/bNAC219_L23_MC_44b474bb8f_0_0.cell.nml', '../NMC_model/NMC.NeuronML2/bNAC219_L23_MC_55e4a7c88f_0_0.cell.nml', '../NMC_model/NMC.NeuronML2/bNAC219_L23_MC_940ffcbb27_0_0.cell.nml', '../NMC_model/NMC.NeuronML2/bNAC219_L23_MC_b7a2c9d0ae_0_0.cell.nml', '../NMC_model/NMC.NeuronML2/bNAC219_L23_NBC_01d2e3caa6_0_0.cell.nml', '../NMC_model/NMC.NeuronML2/bNAC219_L23_NBC_6561f8d865_0_0.cell.nml', '../NMC_model/NMC.NeuronML2/bNAC219_L23_NBC_68416e1f93_0_0.cell.nml', '../NMC_model/NMC.NeuronML2/bNAC219_L23_NBC_d27deeaf6a_0_0.cell.nml', '../NMC_model/NMC.NeuronML2/bNAC219_L23_NBC_ff73785e1d_0_0.cell.nml', '../NMC_model/NMC.NeuronML2/bNAC219_L23_NGC_1c20d72451_0_0.cell.nml', '../NMC_model/NMC.NeuronML2/bNAC219_L23_NGC_2ed16864d8_0_0.cell.nml', '../NMC_model/NMC.NeuronML2/bNAC219_L23_NGC_8d6df1ab35_0_0.cell.nml', '../NMC_model/NMC.NeuronML2/bNAC219_L23_SBC_1361ded4e5_0_0.cell.nml', '../NMC_model/NMC.NeuronML2/bNAC219_L23_SBC_6cab0b0a69_0_0.cell.nml', '../NMC_model/NMC.NeuronML2/bNAC219_L23_SBC_6d12eabed9_0_0.cell.nml', '../NMC_model/NMC.NeuronML2/bNAC219_L23_SBC_cf92e1b802_0_0.cell.nml', '../NMC_model/NMC.NeuronML2/bNAC219_L4_BP_a436dc77d5_0_0.cell.nml', '../NMC_model/NMC.NeuronML2/bNAC219_L4_BP_b88746aff4_0_0.cell.nml', '../NMC_model/NMC.NeuronML2/bNAC219_L4_DBC_0d7219bf46_0_0.cell.nml', '../NMC_model/NMC.NeuronML2/bNAC219_L4_DBC_519f8feedc_0_0.cell.nml', '../NMC_model/NMC.NeuronML2/bNAC219_L4_DBC_beb47bee0e_0_0.cell.nml', '../NMC_model/NMC.NeuronML2/bNAC219_L4_MC_29457dde26_0_0.cell.nml', '../NMC_model/NMC.NeuronML2/bNAC219_L4_MC_2eb83e1eed_0_0.cell.nml', '../NMC_model/NMC.NeuronML2/bNAC219_L4_MC_5fa0a62bd0_0_0.cell.nml', '../NMC_model/NMC.NeuronML2/bNAC219_L4_MC_8a4a02932c_0_0.cell.nml', '../NMC_model/NMC.NeuronML2/bNAC219_L4_MC_ba3c5063e4_0_0.cell.nml', '../NMC_model/NMC.NeuronML2/bNAC219_L4_SBC_140df1eca7_0_0.cell.nml', '../NMC_model/NMC.NeuronML2/bNAC219_L4_SBC_20e5caa0d2_0_0.cell.nml', '../NMC_model/NMC.NeuronML2/bNAC219_L4_SBC_dbf40425f3_0_0.cell.nml', '../NMC_model/NMC.NeuronML2/bNAC219_L5_BP_46b0f41def_0_0.cell.nml', '../NMC_model/NMC.NeuronML2/bNAC219_L5_BP_bc09d28ed4_0_0.cell.nml', '../NMC_model/NMC.NeuronML2/bNAC219_L5_DBC_0271760b42_0_0.cell.nml', '../NMC_model/NMC.NeuronML2/bNAC219_L5_DBC_d56fbcd5cf_0_0.cell.nml', '../NMC_model/NMC.NeuronML2/bNAC219_L5_DBC_ec8ca02d79_0_0.cell.nml', '../NMC_model/NMC.NeuronML2/bNAC219_L5_SBC_30bda13a76_0_0.cell.nml', '../NMC_model/NMC.NeuronML2/bNAC219_L5_SBC_f02100dc02_0_0.cell.nml', '../NMC_model/NMC.NeuronML2/bNAC219_L6_DBC_65305c1be2_0_0.cell.nml', '../NMC_model/NMC.NeuronML2/bNAC219_L6_DBC_9daccafbcb_0_0.cell.nml', '../NMC_model/NMC.NeuronML2/bNAC219_L6_DBC_b8f064ed89_0_0.cell.nml', '../NMC_model/NMC.NeuronML2/bNAC219_L6_LBC_0491f28d21_0_0.cell.nml', '../NMC_model/NMC.NeuronML2/bNAC219_L6_LBC_9918304f5f_0_0.cell.nml', '../NMC_model/NMC.NeuronML2/bNAC219_L6_LBC_9f176c343a_0_0.cell.nml', '../NMC_model/NMC.NeuronML2/bNAC219_L6_LBC_c5d7d5e5ee_0_0.cell.nml', '../NMC_model/NMC.NeuronML2/bNAC219_L6_LBC_dbef3c6e51_0_0.cell.nml', '../NMC_model/NMC.NeuronML2/bNAC219_L6_MC_5597e4d536_0_0.cell.nml', '../NMC_model/NMC.NeuronML2/bNAC219_L6_MC_62cf39b45d_0_0.cell.nml', '../NMC_model/NMC.NeuronML2/bNAC219_L6_MC_6c575906a7_0_0.cell.nml', '../NMC_model/NMC.NeuronML2/bNAC219_L6_MC_d379cda689_0_0.cell.nml', '../NMC_model/NMC.NeuronML2/bNAC219_L6_MC_df869132b9_0_0.cell.nml', '../NMC_model/NMC.NeuronML2/bNAC219_L6_NGC_6bf1113bb8_0_0.cell.nml', '../NMC_model/NMC.NeuronML2/bNAC219_L6_NGC_72634352c5_0_0.cell.nml', '../NMC_model/NMC.NeuronML2/bNAC219_L6_NGC_91137e1b70_0_0.cell.nml', '../NMC_model/NMC.NeuronML2/bNAC219_L6_SBC_28362da21f_0_0.cell.nml', '../NMC_model/NMC.NeuronML2/bNAC219_L6_SBC_6c1acec83a_0_0.cell.nml', '../NMC_model/NMC.NeuronML2/bNAC219_L6_SBC_6dbc1eb2b9_0_0.cell.nml', '../NMC_model/NMC.NeuronML2/bNAC219_L6_SBC_d20c9b88b4_0_0.cell.nml', '../NMC_model/NMC.NeuronML2/bNAC219_L6_SBC_fb9380858b_0_0.cell.nml', '../NMC_model/NMC.NeuronML2/bSTUT213_L4_BTC_62f17815ed_0_0.cell.nml', '../NMC_model/NMC.NeuronML2/bSTUT213_L5_DBC_44eae19442_0_0.cell.nml', '../NMC_model/NMC.NeuronML2/bSTUT213_L5_DBC_b770304226_0_0.cell.nml', '../NMC_model/NMC.NeuronML2/bSTUT213_L5_MC_13c5267e91_0_0.cell.nml', '../NMC_model/NMC.NeuronML2/bSTUT213_L5_MC_162814b80d_0_0.cell.nml', '../NMC_model/NMC.NeuronML2/bSTUT213_L5_MC_8a4a02932c_0_0.cell.nml', '../NMC_model/NMC.NeuronML2/bSTUT213_L5_MC_abb77ac4ef_0_0.cell.nml', '../NMC_model/NMC.NeuronML2/bSTUT213_L5_MC_fdc7bd1d07_0_0.cell.nml', '../NMC_model/NMC.NeuronML2/bSTUT213_L5_NBC_6c09f2f610_0_0.cell.nml', '../NMC_model/NMC.NeuronML2/bSTUT213_L5_NBC_bb8fc44e15_0_0.cell.nml', '../NMC_model/NMC.NeuronML2/bSTUT213_L5_NBC_e0eb22f024_0_0.cell.nml', '../NMC_model/NMC.NeuronML2/bSTUT213_L5_NBC_e7c18ce52f_0_0.cell.nml', '../NMC_model/NMC.NeuronML2/bSTUT213_L6_DBC_eb2bf85006_0_0.cell.nml', '../NMC_model/NMC.NeuronML2/bSTUT213_L6_DBC_f56173144c_0_0.cell.nml', '../NMC_model/NMC.NeuronML2/bSTUT213_L6_LBC_0823165631_0_0.cell.nml', '../NMC_model/NMC.NeuronML2/bSTUT213_L6_LBC_40c756925d_0_0.cell.nml', '../NMC_model/NMC.NeuronML2/bSTUT213_L6_LBC_9961376dfe_0_0.cell.nml', '../NMC_model/NMC.NeuronML2/bSTUT213_L6_LBC_b4f69c277d_0_0.cell.nml', '../NMC_model/NMC.NeuronML2/bSTUT213_L6_LBC_e36a750de6_0_0.cell.nml', '../NMC_model/NMC.NeuronML2/bSTUT213_L6_MC_5597e4d536_0_0.cell.nml', '../NMC_model/NMC.NeuronML2/bSTUT213_L6_MC_8f46a0ad62_0_0.cell.nml', '../NMC_model/NMC.NeuronML2/bSTUT213_L6_MC_d379cda689_0_0.cell.nml', '../NMC_model/NMC.NeuronML2/bSTUT213_L6_MC_df869132b9_0_0.cell.nml', '../NMC_model/NMC.NeuronML2/bSTUT213_L6_MC_e8d04feaa6_0_0.cell.nml', '../NMC_model/NMC.NeuronML2/bSTUT213_L6_NBC_1873e25157_0_0.cell.nml', '../NMC_model/NMC.NeuronML2/bSTUT213_L6_NBC_4b88b7a151_0_0.cell.nml', '../NMC_model/NMC.NeuronML2/bSTUT213_L6_NBC_91e841ee63_0_0.cell.nml', '../NMC_model/NMC.NeuronML2/bSTUT213_L6_NBC_9c726011d7_0_0.cell.nml', '../NMC_model/NMC.NeuronML2/bSTUT213_L6_NBC_a3ddbb0af0_0_0.cell.nml', '../NMC_model/NMC.NeuronML2/cACint209_L1_SLAC_0a908934ff_0_0.cell.nml', '../NMC_model/NMC.NeuronML2/cACint209_L1_SLAC_23649a0c82_0_0.cell.nml', '../NMC_model/NMC.NeuronML2/cACint209_L1_SLAC_8c41d76d82_0_0.cell.nml', '../NMC_model/NMC.NeuronML2/cACint209_L23_BP_13d0a0f335_0_0.cell.nml', '../NMC_model/NMC.NeuronML2/cACint209_L23_BP_4c3a004bfc_0_0.cell.nml', '../NMC_model/NMC.NeuronML2/cACint209_L23_BP_ca85cefc69_0_0.cell.nml', '../NMC_model/NMC.NeuronML2/cACint209_L23_BTC_3ac7d39218_0_0.cell.nml', '../NMC_model/NMC.NeuronML2/cACint209_L23_BTC_4f730ef7d0_0_0.cell.nml', '../NMC_model/NMC.NeuronML2/cACint209_L23_BTC_59062d6e7d_0_0.cell.nml', '../NMC_model/NMC.NeuronML2/cACint209_L23_BTC_acb33d4029_0_0.cell.nml', '../NMC_model/NMC.NeuronML2/cACint209_L23_BTC_c745595fbe_0_0.cell.nml', '../NMC_model/NMC.NeuronML2/cACint209_L23_ChC_34ad1ccef7_0_0.cell.nml', '../NMC_model/NMC.NeuronML2/cACint209_L23_ChC_87b9dd7336_0_0.cell.nml', '../NMC_model/NMC.NeuronML2/cACint209_L23_ChC_9b21151736_0_0.cell.nml', '../NMC_model/NMC.NeuronML2/cACint209_L23_ChC_a7e068ee2e_0_0.cell.nml', '../NMC_model/NMC.NeuronML2/cACint209_L23_ChC_cfcfe12e37_0_0.cell.nml', '../NMC_model/NMC.NeuronML2/cACint209_L23_DBC_2907e308d8_0_0.cell.nml', '../NMC_model/NMC.NeuronML2/cACint209_L23_DBC_4041312e0d_0_0.cell.nml', '../NMC_model/NMC.NeuronML2/cACint209_L23_DBC_4114c4c36c_0_0.cell.nml', '../NMC_model/NMC.NeuronML2/cACint209_L23_DBC_8060414f1a_0_0.cell.nml', '../NMC_model/NMC.NeuronML2/cACint209_L23_DBC_d6b3e3e96c_0_0.cell.nml', '../NMC_model/NMC.NeuronML2/cACint209_L23_LBC_10ecac904b_0_0.cell.nml', '../NMC_model/NMC.NeuronML2/cACint209_L23_LBC_78b571a886_0_0.cell.nml', '../NMC_model/NMC.NeuronML2/cACint209_L23_LBC_c6138544ab_0_0.cell.nml', '../NMC_model/NMC.NeuronML2/cACint209_L23_LBC_d5fa8128ae_0_0.cell.nml', '../NMC_model/NMC.NeuronML2/cACint209_L23_LBC_fece30537a_0_0.cell.nml', '../NMC_model/NMC.NeuronML2/cACint209_L23_MC_31f333a601_0_0.cell.nml', '../NMC_model/NMC.NeuronML2/cACint209_L23_MC_3303d0ff68_0_0.cell.nml', '../NMC_model/NMC.NeuronML2/cACint209_L23_MC_55e4a7c88f_0_0.cell.nml', '../NMC_model/NMC.NeuronML2/cACint209_L23_MC_940ffcbb27_0_0.cell.nml', '../NMC_model/NMC.NeuronML2/cACint209_L23_MC_ba3c5063e4_0_0.cell.nml', '../NMC_model/NMC.NeuronML2/cACint209_L23_NBC_2d5f9c7a57_0_0.cell.nml', '../NMC_model/NMC.NeuronML2/cACint209_L23_NBC_2f018ce735_0_0.cell.nml', '../NMC_model/NMC.NeuronML2/cACint209_L23_NBC_7e8781b0f2_0_0.cell.nml', '../NMC_model/NMC.NeuronML2/cACint209_L23_NBC_ad562fc72b_0_0.cell.nml', '../NMC_model/NMC.NeuronML2/cACint209_L23_NBC_f831ad7a1f_0_0.cell.nml', '../NMC_model/NMC.NeuronML2/cACint209_L23_NGC_8a9ea95bee_0_0.cell.nml', '../NMC_model/NMC.NeuronML2/cACint209_L23_NGC_90d34530b4_0_0.cell.nml', '../NMC_model/NMC.NeuronML2/cACint209_L23_NGC_be2ffb9c7d_0_0.cell.nml', '../NMC_model/NMC.NeuronML2/cACint209_L23_NGC_ec67e9ba9b_0_0.cell.nml', '../NMC_model/NMC.NeuronML2/cACint209_L23_SBC_0869c1fd12_0_0.cell.nml', '../NMC_model/NMC.NeuronML2/cACint209_L23_SBC_1fa95380bf_0_0.cell.nml', '../NMC_model/NMC.NeuronML2/cACint209_L23_SBC_7b122f5ac9_0_0.cell.nml', '../NMC_model/NMC.NeuronML2/cACint209_L23_SBC_afc0be559d_0_0.cell.nml', '../NMC_model/NMC.NeuronML2/cACint209_L23_SBC_c2414afe0b_0_0.cell.nml', '../NMC_model/NMC.NeuronML2/cACint209_L4_BP_a436dc77d5_0_0.cell.nml', '../NMC_model/NMC.NeuronML2/cACint209_L4_BP_a90620dca0_0_0.cell.nml', '../NMC_model/NMC.NeuronML2/cACint209_L4_BP_c99c259f39_0_0.cell.nml', '../NMC_model/NMC.NeuronML2/cACint209_L4_BP_ff2b6d7b3d_0_0.cell.nml', '../NMC_model/NMC.NeuronML2/cACint209_L4_BTC_04273604d2_0_0.cell.nml', '../NMC_model/NMC.NeuronML2/cACint209_L4_BTC_20d24e55d5_0_0.cell.nml', '../NMC_model/NMC.NeuronML2/cACint209_L4_BTC_6909c18187_0_0.cell.nml', '../NMC_model/NMC.NeuronML2/cACint209_L4_BTC_87c80e7368_0_0.cell.nml', '../NMC_model/NMC.NeuronML2/cACint209_L4_BTC_8af90b418f_0_0.cell.nml', '../NMC_model/NMC.NeuronML2/cACint209_L4_ChC_85076eeecc_0_0.cell.nml', '../NMC_model/NMC.NeuronML2/cACint209_L4_ChC_a78ee53c37_0_0.cell.nml', '../NMC_model/NMC.NeuronML2/cACint209_L4_DBC_280e20a247_0_0.cell.nml', '../NMC_model/NMC.NeuronML2/cACint209_L4_DBC_78b422a17a_0_0.cell.nml', '../NMC_model/NMC.NeuronML2/cACint209_L4_DBC_a7aa7154d8_0_0.cell.nml', '../NMC_model/NMC.NeuronML2/cACint209_L4_DBC_cd818dfadf_0_0.cell.nml', '../NMC_model/NMC.NeuronML2/cACint209_L4_DBC_e8a6fe8924_0_0.cell.nml', '../NMC_model/NMC.NeuronML2/cACint209_L4_LBC_45f62e2816_0_0.cell.nml', '../NMC_model/NMC.NeuronML2/cACint209_L4_LBC_66ec8fed8f_0_0.cell.nml', '../NMC_model/NMC.NeuronML2/cACint209_L4_LBC_852c3c018f_0_0.cell.nml', '../NMC_model/NMC.NeuronML2/cACint209_L4_LBC_baa757490e_0_0.cell.nml', '../NMC_model/NMC.NeuronML2/cACint209_L4_LBC_db543bcdea_0_0.cell.nml', '../NMC_model/NMC.NeuronML2/cACint209_L4_MC_5fa0a62bd0_0_0.cell.nml', '../NMC_model/NMC.NeuronML2/cACint209_L4_MC_8a4a02932c_0_0.cell.nml', '../NMC_model/NMC.NeuronML2/cACint209_L4_MC_ba3c5063e4_0_0.cell.nml', '../NMC_model/NMC.NeuronML2/cACint209_L4_MC_f8c62d11b0_0_0.cell.nml', '../NMC_model/NMC.NeuronML2/cACint209_L4_MC_fa0d941a0b_0_0.cell.nml', '../NMC_model/NMC.NeuronML2/cACint209_L4_NBC_2eca058e75_0_0.cell.nml', '../NMC_model/NMC.NeuronML2/cACint209_L4_NBC_3552e1f34a_0_0.cell.nml', '../NMC_model/NMC.NeuronML2/cACint209_L4_NBC_70775a2036_0_0.cell.nml', '../NMC_model/NMC.NeuronML2/cACint209_L4_NBC_7b7132634e_0_0.cell.nml', '../NMC_model/NMC.NeuronML2/cACint209_L4_NBC_9060dda08b_0_0.cell.nml', '../NMC_model/NMC.NeuronML2/cACint209_L4_NGC_00ae03b116_0_0.cell.nml', '../NMC_model/NMC.NeuronML2/cACint209_L4_NGC_5afa44ef6a_0_0.cell.nml', '../NMC_model/NMC.NeuronML2/cACint209_L4_NGC_9f0f008375_0_0.cell.nml', '../NMC_model/NMC.NeuronML2/cACint209_L4_SBC_12caedd28c_0_0.cell.nml', '../NMC_model/NMC.NeuronML2/cACint209_L4_SBC_4148f86d4f_0_0.cell.nml', '../NMC_model/NMC.NeuronML2/cACint209_L4_SBC_684e05d4eb_0_0.cell.nml', '../NMC_model/NMC.NeuronML2/cACint209_L4_SBC_7382b080d8_0_0.cell.nml', '../NMC_model/NMC.NeuronML2/cACint209_L4_SBC_fc7c18ae57_0_0.cell.nml', '../NMC_model/NMC.NeuronML2/cACint209_L5_BP_46b07f0520_0_0.cell.nml', '../NMC_model/NMC.NeuronML2/cACint209_L5_BP_946d6468c0_0_0.cell.nml', '../NMC_model/NMC.NeuronML2/cACint209_L5_BP_94d2820eba_0_0.cell.nml', '../NMC_model/NMC.NeuronML2/cACint209_L5_BP_b43315e986_0_0.cell.nml', '../NMC_model/NMC.NeuronML2/cACint209_L5_BP_f600080385_0_0.cell.nml', '../NMC_model/NMC.NeuronML2/cACint209_L5_BTC_0a7f6392e3_0_0.cell.nml', '../NMC_model/NMC.NeuronML2/cACint209_L5_BTC_41f7db5b85_0_0.cell.nml', '../NMC_model/NMC.NeuronML2/cACint209_L5_BTC_6ab22ae2e0_0_0.cell.nml', '../NMC_model/NMC.NeuronML2/cACint209_L5_BTC_7412fd9a84_0_0.cell.nml', '../NMC_model/NMC.NeuronML2/cACint209_L5_BTC_a4bce5d682_0_0.cell.nml', '../NMC_model/NMC.NeuronML2/cACint209_L5_ChC_759d7f7dc1_0_0.cell.nml', '../NMC_model/NMC.NeuronML2/cACint209_L5_ChC_8eec342856_0_0.cell.nml', '../NMC_model/NMC.NeuronML2/cACint209_L5_ChC_ab30296908_0_0.cell.nml', '../NMC_model/NMC.NeuronML2/cACint209_L5_ChC_c38923facb_0_0.cell.nml', '../NMC_model/NMC.NeuronML2/cACint209_L5_ChC_e98f63217d_0_0.cell.nml', '../NMC_model/NMC.NeuronML2/cACint209_L5_DBC_189fcfd9e0_0_0.cell.nml', '../NMC_model/NMC.NeuronML2/cACint209_L5_DBC_5f1980557e_0_0.cell.nml', '../NMC_model/NMC.NeuronML2/cACint209_L5_DBC_6a2bbf2a1b_0_0.cell.nml', '../NMC_model/NMC.NeuronML2/cACint209_L5_DBC_74050baf6d_0_0.cell.nml', '../NMC_model/NMC.NeuronML2/cACint209_L5_DBC_e2f2301440_0_0.cell.nml', '../NMC_model/NMC.NeuronML2/cACint209_L5_LBC_09c47b4905_0_0.cell.nml', '../NMC_model/NMC.NeuronML2/cACint209_L5_LBC_126a82ac08_0_0.cell.nml', '../NMC_model/NMC.NeuronML2/cACint209_L5_LBC_3285d77dba_0_0.cell.nml', '../NMC_model/NMC.NeuronML2/cACint209_L5_LBC_b1fb5cc4b0_0_0.cell.nml', '../NMC_model/NMC.NeuronML2/cACint209_L5_LBC_e7a596714b_0_0.cell.nml', '../NMC_model/NMC.NeuronML2/cACint209_L5_MC_42542e071a_0_0.cell.nml', '../NMC_model/NMC.NeuronML2/cACint209_L5_MC_575d31ccfd_0_0.cell.nml', '../NMC_model/NMC.NeuronML2/cACint209_L5_MC_bf2b2fbcbf_0_0.cell.nml', '../NMC_model/NMC.NeuronML2/cACint209_L5_MC_cc2a170ef6_0_0.cell.nml', '../NMC_model/NMC.NeuronML2/cACint209_L5_MC_fdc7bd1d07_0_0.cell.nml', '../NMC_model/NMC.NeuronML2/cACint209_L5_NBC_3064d86d49_0_0.cell.nml', '../NMC_model/NMC.NeuronML2/cACint209_L5_NBC_3bb78a3daa_0_0.cell.nml', '../NMC_model/NMC.NeuronML2/cACint209_L5_NBC_63fe8b2e25_0_0.cell.nml', '../NMC_model/NMC.NeuronML2/cACint209_L5_NBC_ac16f8ddcb_0_0.cell.nml', '../NMC_model/NMC.NeuronML2/cACint209_L5_NBC_e9641cafc3_0_0.cell.nml', '../NMC_model/NMC.NeuronML2/cACint209_L5_NGC_182e4f4a95_0_0.cell.nml', '../NMC_model/NMC.NeuronML2/cACint209_L5_NGC_2ab508e906_0_0.cell.nml', '../NMC_model/NMC.NeuronML2/cACint209_L5_NGC_9ee242e8ff_0_0.cell.nml', '../NMC_model/NMC.NeuronML2/cACint209_L5_NGC_a22132f37b_0_0.cell.nml', '../NMC_model/NMC.NeuronML2/cACint209_L5_SBC_0e6ba49679_0_0.cell.nml', '../NMC_model/NMC.NeuronML2/cACint209_L5_SBC_3ba116236f_0_0.cell.nml', '../NMC_model/NMC.NeuronML2/cACint209_L5_SBC_5318cbf0cb_0_0.cell.nml', '../NMC_model/NMC.NeuronML2/cACint209_L5_SBC_61a753bff1_0_0.cell.nml', '../NMC_model/NMC.NeuronML2/cACint209_L5_SBC_e8567af242_0_0.cell.nml', '../NMC_model/NMC.NeuronML2/cACint209_L6_BTC_045fb87685_0_0.cell.nml', '../NMC_model/NMC.NeuronML2/cACint209_L6_BTC_0aac470ea8_0_0.cell.nml', '../NMC_model/NMC.NeuronML2/cACint209_L6_BTC_2d87a29e8a_0_0.cell.nml', '../NMC_model/NMC.NeuronML2/cACint209_L6_BTC_bc69dce0ae_0_0.cell.nml', '../NMC_model/NMC.NeuronML2/cACint209_L6_BTC_c021ea90e3_0_0.cell.nml', '../NMC_model/NMC.NeuronML2/cACint209_L6_ChC_14a89428ba_0_0.cell.nml', '../NMC_model/NMC.NeuronML2/cACint209_L6_ChC_8eec342856_0_0.cell.nml', '../NMC_model/NMC.NeuronML2/cACint209_L6_ChC_9060a4c27e_0_0.cell.nml', '../NMC_model/NMC.NeuronML2/cACint209_L6_ChC_9cc7bcef1d_0_0.cell.nml', '../NMC_model/NMC.NeuronML2/cACint209_L6_DBC_98012db3f3_0_0.cell.nml', '../NMC_model/NMC.NeuronML2/cACint209_L6_DBC_d59edbb45e_0_0.cell.nml', '../NMC_model/NMC.NeuronML2/cACint209_L6_DBC_e432520e46_0_0.cell.nml', '../NMC_model/NMC.NeuronML2/cACint209_L6_MC_0686f3517c_0_0.cell.nml', '../NMC_model/NMC.NeuronML2/cACint209_L6_MC_5597e4d536_0_0.cell.nml', '../NMC_model/NMC.NeuronML2/cACint209_L6_MC_62cf39b45d_0_0.cell.nml', '../NMC_model/NMC.NeuronML2/cACint209_L6_MC_792eb41cce_0_0.cell.nml', '../NMC_model/NMC.NeuronML2/cACint209_L6_MC_df869132b9_0_0.cell.nml', '../NMC_model/NMC.NeuronML2/cACint209_L6_NBC_0de57faa51_0_0.cell.nml', '../NMC_model/NMC.NeuronML2/cACint209_L6_NBC_495063b057_0_0.cell.nml', '../NMC_model/NMC.NeuronML2/cACint209_L6_NBC_780c5f5ae3_0_0.cell.nml', '../NMC_model/NMC.NeuronML2/cACint209_L6_NBC_a3972c5d97_0_0.cell.nml', '../NMC_model/NMC.NeuronML2/cACint209_L6_NBC_ad3dd575d2_0_0.cell.nml', '../NMC_model/NMC.NeuronML2/cACint209_L6_NGC_2ab508e906_0_0.cell.nml', '../NMC_model/NMC.NeuronML2/cACint209_L6_NGC_48dc33e388_0_0.cell.nml', '../NMC_model/NMC.NeuronML2/cACint209_L6_NGC_913febfa36_0_0.cell.nml', '../NMC_model/NMC.NeuronML2/cACint209_L6_SBC_02fff5e56a_0_0.cell.nml', '../NMC_model/NMC.NeuronML2/cACint209_L6_SBC_1994e395b2_0_0.cell.nml', '../NMC_model/NMC.NeuronML2/cACint209_L6_SBC_48827298f3_0_0.cell.nml', '../NMC_model/NMC.NeuronML2/cACint209_L6_SBC_63156a236c_0_0.cell.nml', '../NMC_model/NMC.NeuronML2/cACint209_L6_SBC_6c406e9f09_0_0.cell.nml', '../NMC_model/NMC.NeuronML2/cADpyr229_L23_PC_5ecbf9b163_0_0.cell.nml', '../NMC_model/NMC.NeuronML2/cADpyr229_L23_PC_863902f300_0_0.cell.nml', '../NMC_model/NMC.NeuronML2/cADpyr229_L23_PC_8ef1aa6602_0_0.cell.nml', '../NMC_model/NMC.NeuronML2/cADpyr229_L23_PC_c292d67a2e_0_0.cell.nml', '../NMC_model/NMC.NeuronML2/cADpyr229_L23_PC_c2e79db05a_0_0.cell.nml', '../NMC_model/NMC.NeuronML2/cADpyr230_L4_PC_0dbf678e7f_0_0.cell.nml', '../NMC_model/NMC.NeuronML2/cADpyr230_L4_PC_2d5807a37b_0_0.cell.nml', '../NMC_model/NMC.NeuronML2/cADpyr230_L4_PC_75e11d6cee_0_0.cell.nml', '../NMC_model/NMC.NeuronML2/cADpyr230_L4_PC_d3b8beb606_0_0.cell.nml', '../NMC_model/NMC.NeuronML2/cADpyr230_L4_PC_f15e35e578_0_0.cell.nml', '../NMC_model/NMC.NeuronML2/cADpyr230_L4_SP_0dc3a9acaf_0_0.cell.nml', '../NMC_model/NMC.NeuronML2/cADpyr230_L4_SP_1c98df1fde_0_0.cell.nml', '../NMC_model/NMC.NeuronML2/cADpyr230_L4_SP_274e5a90fb_0_0.cell.nml', '../NMC_model/NMC.NeuronML2/cADpyr230_L4_SP_6fe41ae9cd_0_0.cell.nml', '../NMC_model/NMC.NeuronML2/cADpyr230_L4_SP_c3f779f565_0_0.cell.nml', '../NMC_model/NMC.NeuronML2/cADpyr230_L4_SS_08eefff078_0_0.cell.nml', '../NMC_model/NMC.NeuronML2/cADpyr230_L4_SS_1afeb14f17_0_0.cell.nml', '../NMC_model/NMC.NeuronML2/cADpyr230_L4_SS_9e49de205b_0_0.cell.nml', '../NMC_model/NMC.NeuronML2/cADpyr230_L4_SS_a5ca6392b3_0_0.cell.nml', '../NMC_model/NMC.NeuronML2/cADpyr230_L4_SS_a8ef0f9d97_0_0.cell.nml', '../NMC_model/NMC.NeuronML2/cADpyr231_L6_BPC_05f7073f5f_0_0.cell.nml', '../NMC_model/NMC.NeuronML2/cADpyr231_L6_BPC_1ed55c8860_0_0.cell.nml', '../NMC_model/NMC.NeuronML2/cADpyr231_L6_BPC_2f96fbbd13_0_0.cell.nml', '../NMC_model/NMC.NeuronML2/cADpyr231_L6_BPC_3406e7f0b2_0_0.cell.nml', '../NMC_model/NMC.NeuronML2/cADpyr231_L6_BPC_4e9a9465d3_0_0.cell.nml', '../NMC_model/NMC.NeuronML2/cADpyr231_L6_IPC_5ada6448ea_0_0.cell.nml', '../NMC_model/NMC.NeuronML2/cADpyr231_L6_IPC_80ec904753_0_0.cell.nml', '../NMC_model/NMC.NeuronML2/cADpyr231_L6_IPC_8d0f3a7d2e_0_0.cell.nml', '../NMC_model/NMC.NeuronML2/cADpyr231_L6_IPC_c56c0e0779_0_0.cell.nml', '../NMC_model/NMC.NeuronML2/cADpyr231_L6_IPC_c95b8bde99_0_0.cell.nml', '../NMC_model/NMC.NeuronML2/cADpyr231_L6_TPC_L1_1856ba2db5_0_0.cell.nml', '../NMC_model/NMC.NeuronML2/cADpyr231_L6_TPC_L1_44f2206f70_0_0.cell.nml', '../NMC_model/NMC.NeuronML2/cADpyr231_L6_TPC_L1_68efb03f39_0_0.cell.nml', '../NMC_model/NMC.NeuronML2/cADpyr231_L6_TPC_L1_7fc2c927c9_0_0.cell.nml', '../NMC_model/NMC.NeuronML2/cADpyr231_L6_TPC_L1_f2d985e7ff_0_0.cell.nml', '../NMC_model/NMC.NeuronML2/cADpyr231_L6_TPC_L4_0cb1e9aa6b_0_0.cell.nml', '../NMC_model/NMC.NeuronML2/cADpyr231_L6_TPC_L4_117b9dfb71_0_0.cell.nml', '../NMC_model/NMC.NeuronML2/cADpyr231_L6_TPC_L4_184fd5677b_0_0.cell.nml', '../NMC_model/NMC.NeuronML2/cADpyr231_L6_TPC_L4_3f1b0bd478_0_0.cell.nml', '../NMC_model/NMC.NeuronML2/cADpyr231_L6_TPC_L4_91b667d362_0_0.cell.nml', '../NMC_model/NMC.NeuronML2/cADpyr231_L6_UTPC_15731e5081_0_0.cell.nml', '../NMC_model/NMC.NeuronML2/cADpyr231_L6_UTPC_186e8dd6aa_0_0.cell.nml', '../NMC_model/NMC.NeuronML2/cADpyr231_L6_UTPC_295f0e6025_0_0.cell.nml', '../NMC_model/NMC.NeuronML2/cADpyr231_L6_UTPC_9d28264fcd_0_0.cell.nml', '../NMC_model/NMC.NeuronML2/cADpyr231_L6_UTPC_9f3da79327_0_0.cell.nml', '../NMC_model/NMC.NeuronML2/cADpyr232_L5_STPC_4ec7a36770_0_0.cell.nml', '../NMC_model/NMC.NeuronML2/cADpyr232_L5_STPC_6d41d50fcb_0_0.cell.nml', '../NMC_model/NMC.NeuronML2/cADpyr232_L5_STPC_a78c3cbca8_0_0.cell.nml', '../NMC_model/NMC.NeuronML2/cADpyr232_L5_STPC_d16b0be14e_0_0.cell.nml', '../NMC_model/NMC.NeuronML2/cADpyr232_L5_STPC_d63221b7a8_0_0.cell.nml', '../NMC_model/NMC.NeuronML2/cADpyr232_L5_TTPC1_0fb1ca4724_0_0.cell.nml', '../NMC_model/NMC.NeuronML2/cADpyr232_L5_TTPC1_b6836fcf6f_0_0.cell.nml', '../NMC_model/NMC.NeuronML2/cADpyr232_L5_TTPC1_da1088139b_0_0.cell.nml', '../NMC_model/NMC.NeuronML2/cADpyr232_L5_TTPC1_ded64abc4d_0_0.cell.nml', '../NMC_model/NMC.NeuronML2/cADpyr232_L5_TTPC1_fc944c2cf3_0_0.cell.nml', '../NMC_model/NMC.NeuronML2/cADpyr232_L5_TTPC2_8052133265_0_0.cell.nml', '../NMC_model/NMC.NeuronML2/cADpyr232_L5_TTPC2_8bab918b58_0_0.cell.nml', '../NMC_model/NMC.NeuronML2/cADpyr232_L5_TTPC2_a28017c6c7_0_0.cell.nml', '../NMC_model/NMC.NeuronML2/cADpyr232_L5_TTPC2_a467781f53_0_0.cell.nml', '../NMC_model/NMC.NeuronML2/cADpyr232_L5_TTPC2_c46a93702c_0_0.cell.nml', '../NMC_model/NMC.NeuronML2/cADpyr232_L5_UTPC_34f655e7f8_0_0.cell.nml', '../NMC_model/NMC.NeuronML2/cADpyr232_L5_UTPC_5e3840b51e_0_0.cell.nml', '../NMC_model/NMC.NeuronML2/cADpyr232_L5_UTPC_79412a7e72_0_0.cell.nml', '../NMC_model/NMC.NeuronML2/cADpyr232_L5_UTPC_d736225429_0_0.cell.nml', '../NMC_model/NMC.NeuronML2/cADpyr232_L5_UTPC_da1143b075_0_0.cell.nml', '../NMC_model/NMC.NeuronML2/cIR216_L1_HAC_84f0f8f321_0_0.cell.nml', '../NMC_model/NMC.NeuronML2/cIR216_L1_HAC_cc210b8244_0_0.cell.nml', '../NMC_model/NMC.NeuronML2/cIR216_L1_HAC_edfad4a560_0_0.cell.nml', '../NMC_model/NMC.NeuronML2/cIR216_L4_NBC_724d9652d6_0_0.cell.nml', '../NMC_model/NMC.NeuronML2/cIR216_L5_DBC_5f1980557e_0_0.cell.nml', '../NMC_model/NMC.NeuronML2/cIR216_L5_DBC_b81a484394_0_0.cell.nml', '../NMC_model/NMC.NeuronML2/cIR216_L5_DBC_d8e0abdc7c_0_0.cell.nml', '../NMC_model/NMC.NeuronML2/cIR216_L5_LBC_34458d6725_0_0.cell.nml', '../NMC_model/NMC.NeuronML2/cIR216_L5_LBC_8ce13ea42d_0_0.cell.nml', '../NMC_model/NMC.NeuronML2/cIR216_L5_LBC_b2c5f59c1a_0_0.cell.nml', '../NMC_model/NMC.NeuronML2/cIR216_L5_LBC_c5448109e7_0_0.cell.nml', '../NMC_model/NMC.NeuronML2/cIR216_L5_NBC_650c18e6aa_0_0.cell.nml', '../NMC_model/NMC.NeuronML2/cIR216_L5_NBC_d30015ad95_0_0.cell.nml', '../NMC_model/NMC.NeuronML2/cIR216_L5_NBC_ded84149de_0_0.cell.nml', '../NMC_model/NMC.NeuronML2/cIR216_L6_DBC_65305c1be2_0_0.cell.nml', '../NMC_model/NMC.NeuronML2/cIR216_L6_DBC_f7446db64e_0_0.cell.nml', '../NMC_model/NMC.NeuronML2/cIR216_L6_MC_87e499e11e_0_0.cell.nml', '../NMC_model/NMC.NeuronML2/cIR216_L6_MC_8f96a2b924_0_0.cell.nml', '../NMC_model/NMC.NeuronML2/cIR216_L6_MC_a405be0ec4_0_0.cell.nml', '../NMC_model/NMC.NeuronML2/cIR216_L6_MC_dc1f55aab0_0_0.cell.nml', '../NMC_model/NMC.NeuronML2/cIR216_L6_MC_e8d04feaa6_0_0.cell.nml', '../NMC_model/NMC.NeuronML2/cIR216_L6_NBC_0546dde601_0_0.cell.nml', '../NMC_model/NMC.NeuronML2/cIR216_L6_NBC_4eea8c6853_0_0.cell.nml', '../NMC_model/NMC.NeuronML2/cIR216_L6_NBC_656e1c0a2d_0_0.cell.nml', '../NMC_model/NMC.NeuronML2/cIR216_L6_NBC_e6f3e8d1f4_0_0.cell.nml', '../NMC_model/NMC.NeuronML2/cNAC187_L1_DAC_1e259ec3b0_0_0.cell.nml', '../NMC_model/NMC.NeuronML2/cNAC187_L1_DAC_2e9c9967f8_0_0.cell.nml', '../NMC_model/NMC.NeuronML2/cNAC187_L1_DAC_81e928d216_0_0.cell.nml', '../NMC_model/NMC.NeuronML2/cNAC187_L1_DAC_8c45268d6a_0_0.cell.nml', '../NMC_model/NMC.NeuronML2/cNAC187_L1_DAC_a4cb1c245c_0_0.cell.nml', '../NMC_model/NMC.NeuronML2/cNAC187_L1_DLAC_3a1208130a_0_0.cell.nml', '../NMC_model/NMC.NeuronML2/cNAC187_L1_DLAC_4822ddb519_0_0.cell.nml', '../NMC_model/NMC.NeuronML2/cNAC187_L1_DLAC_612b4ae64f_0_0.cell.nml', '../NMC_model/NMC.NeuronML2/cNAC187_L1_DLAC_d51b8a96ed_0_0.cell.nml', '../NMC_model/NMC.NeuronML2/cNAC187_L1_DLAC_d80e9f2875_0_0.cell.nml', '../NMC_model/NMC.NeuronML2/cNAC187_L1_HAC_369e749269_0_0.cell.nml', '../NMC_model/NMC.NeuronML2/cNAC187_L1_HAC_cc210b8244_0_0.cell.nml', '../NMC_model/NMC.NeuronML2/cNAC187_L1_HAC_dfd993e67b_0_0.cell.nml', '../NMC_model/NMC.NeuronML2/cNAC187_L1_HAC_f7023f0666_0_0.cell.nml', '../NMC_model/NMC.NeuronML2/cNAC187_L1_HAC_f8c9772d9d_0_0.cell.nml', '../NMC_model/NMC.NeuronML2/cNAC187_L1_SLAC_16735ed026_0_0.cell.nml', '../NMC_model/NMC.NeuronML2/cNAC187_L1_SLAC_1b78a7b294_0_0.cell.nml', '../NMC_model/NMC.NeuronML2/cNAC187_L1_SLAC_26e7460577_0_0.cell.nml', '../NMC_model/NMC.NeuronML2/cNAC187_L1_SLAC_3759bf3d94_0_0.cell.nml', '../NMC_model/NMC.NeuronML2/cNAC187_L1_SLAC_9d4b6f19da_0_0.cell.nml', '../NMC_model/NMC.NeuronML2/cNAC187_L23_BP_2004171a4c_0_0.cell.nml', '../NMC_model/NMC.NeuronML2/cNAC187_L23_BP_84f37d935d_0_0.cell.nml', '../NMC_model/NMC.NeuronML2/cNAC187_L23_BP_a9d486b0d6_0_0.cell.nml', '../NMC_model/NMC.NeuronML2/cNAC187_L23_BTC_13a502998f_0_0.cell.nml', '../NMC_model/NMC.NeuronML2/cNAC187_L23_BTC_9902cd4960_0_0.cell.nml', '../NMC_model/NMC.NeuronML2/cNAC187_L23_BTC_9deeb00a62_0_0.cell.nml', '../NMC_model/NMC.NeuronML2/cNAC187_L23_BTC_b7a569ac13_0_0.cell.nml', '../NMC_model/NMC.NeuronML2/cNAC187_L23_ChC_2baab5270e_0_0.cell.nml', '../NMC_model/NMC.NeuronML2/cNAC187_L23_ChC_6f06a0ce3d_0_0.cell.nml', '../NMC_model/NMC.NeuronML2/cNAC187_L23_ChC_85582ca6d2_0_0.cell.nml', '../NMC_model/NMC.NeuronML2/cNAC187_L23_ChC_88b9ee8f5d_0_0.cell.nml', '../NMC_model/NMC.NeuronML2/cNAC187_L23_LBC_95f37b59ec_0_0.cell.nml', '../NMC_model/NMC.NeuronML2/cNAC187_L23_LBC_d031f0be22_0_0.cell.nml', '../NMC_model/NMC.NeuronML2/cNAC187_L23_LBC_d3f79b893e_0_0.cell.nml', '../NMC_model/NMC.NeuronML2/cNAC187_L23_LBC_df15689e81_0_0.cell.nml', '../NMC_model/NMC.NeuronML2/cNAC187_L23_LBC_f39fa9100b_0_0.cell.nml', '../NMC_model/NMC.NeuronML2/cNAC187_L23_MC_2c0a7badf4_0_0.cell.nml', '../NMC_model/NMC.NeuronML2/cNAC187_L23_MC_3110386c07_0_0.cell.nml', '../NMC_model/NMC.NeuronML2/cNAC187_L23_MC_44b474bb8f_0_0.cell.nml', '../NMC_model/NMC.NeuronML2/cNAC187_L23_MC_4a274f4915_0_0.cell.nml', '../NMC_model/NMC.NeuronML2/cNAC187_L23_MC_940ffcbb27_0_0.cell.nml', '../NMC_model/NMC.NeuronML2/cNAC187_L23_NBC_1bb1c095e5_0_0.cell.nml', '../NMC_model/NMC.NeuronML2/cNAC187_L23_NBC_7f97b8e83f_0_0.cell.nml', '../NMC_model/NMC.NeuronML2/cNAC187_L23_NBC_9004ab9cec_0_0.cell.nml', '../NMC_model/NMC.NeuronML2/cNAC187_L23_NBC_98c1faeec7_0_0.cell.nml', '../NMC_model/NMC.NeuronML2/cNAC187_L23_NBC_9d37c4b1f8_0_0.cell.nml', '../NMC_model/NMC.NeuronML2/cNAC187_L23_NGC_3c9a6fcd96_0_0.cell.nml', '../NMC_model/NMC.NeuronML2/cNAC187_L23_NGC_d79ffc246d_0_0.cell.nml', '../NMC_model/NMC.NeuronML2/cNAC187_L23_NGC_e831b433a9_0_0.cell.nml', '../NMC_model/NMC.NeuronML2/cNAC187_L4_BP_29d7636cbc_0_0.cell.nml', '../NMC_model/NMC.NeuronML2/cNAC187_L4_BTC_d58cc3840a_0_0.cell.nml', '../NMC_model/NMC.NeuronML2/cNAC187_L4_BTC_dbb05c9cf3_0_0.cell.nml', '../NMC_model/NMC.NeuronML2/cNAC187_L4_BTC_ff1cebdea2_0_0.cell.nml', '../NMC_model/NMC.NeuronML2/cNAC187_L4_ChC_0f9f727230_0_0.cell.nml', '../NMC_model/NMC.NeuronML2/cNAC187_L4_ChC_22d43e8e41_0_0.cell.nml', '../NMC_model/NMC.NeuronML2/cNAC187_L4_ChC_fa7ba30f35_0_0.cell.nml', '../NMC_model/NMC.NeuronML2/cNAC187_L4_DBC_23ffe29c8b_0_0.cell.nml', '../NMC_model/NMC.NeuronML2/cNAC187_L4_DBC_c6dae7aa61_0_0.cell.nml', '../NMC_model/NMC.NeuronML2/cNAC187_L4_DBC_d99bd73381_0_0.cell.nml', '../NMC_model/NMC.NeuronML2/cNAC187_L4_DBC_efeb05a196_0_0.cell.nml', '../NMC_model/NMC.NeuronML2/cNAC187_L4_LBC_0226c205f1_0_0.cell.nml', '../NMC_model/NMC.NeuronML2/cNAC187_L4_LBC_1cf329956f_0_0.cell.nml', '../NMC_model/NMC.NeuronML2/cNAC187_L4_LBC_8e834c24cb_0_0.cell.nml', '../NMC_model/NMC.NeuronML2/cNAC187_L4_LBC_990b7ac7df_0_0.cell.nml', '../NMC_model/NMC.NeuronML2/cNAC187_L4_LBC_cf3f064b85_0_0.cell.nml', '../NMC_model/NMC.NeuronML2/cNAC187_L4_MC_29457dde26_0_0.cell.nml', '../NMC_model/NMC.NeuronML2/cNAC187_L4_MC_2eb83e1eed_0_0.cell.nml', '../NMC_model/NMC.NeuronML2/cNAC187_L4_MC_3110386c07_0_0.cell.nml', '../NMC_model/NMC.NeuronML2/cNAC187_L4_MC_8a4a02932c_0_0.cell.nml', '../NMC_model/NMC.NeuronML2/cNAC187_L4_MC_f8c62d11b0_0_0.cell.nml', '../NMC_model/NMC.NeuronML2/cNAC187_L4_NBC_0bf743ff25_0_0.cell.nml', '../NMC_model/NMC.NeuronML2/cNAC187_L4_NBC_327fc63584_0_0.cell.nml', '../NMC_model/NMC.NeuronML2/cNAC187_L4_NBC_36cd91dc08_0_0.cell.nml', '../NMC_model/NMC.NeuronML2/cNAC187_L4_NBC_900ac15b61_0_0.cell.nml', '../NMC_model/NMC.NeuronML2/cNAC187_L4_NBC_bfc793de90_0_0.cell.nml', '../NMC_model/NMC.NeuronML2/cNAC187_L4_NGC_cf97ea357c_0_0.cell.nml', '../NMC_model/NMC.NeuronML2/cNAC187_L5_BP_3085e9694e_0_0.cell.nml', '../NMC_model/NMC.NeuronML2/cNAC187_L5_BP_491c00476b_0_0.cell.nml', '../NMC_model/NMC.NeuronML2/cNAC187_L5_BP_94e814803e_0_0.cell.nml', '../NMC_model/NMC.NeuronML2/cNAC187_L5_BP_bf9275d56a_0_0.cell.nml', '../NMC_model/NMC.NeuronML2/cNAC187_L5_BP_d97748152f_0_0.cell.nml', '../NMC_model/NMC.NeuronML2/cNAC187_L5_BTC_18584bfae6_0_0.cell.nml', '../NMC_model/NMC.NeuronML2/cNAC187_L5_BTC_87f7404d17_0_0.cell.nml', '../NMC_model/NMC.NeuronML2/cNAC187_L5_BTC_a47bfc03bb_0_0.cell.nml', '../NMC_model/NMC.NeuronML2/cNAC187_L5_BTC_af3d0dad8e_0_0.cell.nml', '../NMC_model/NMC.NeuronML2/cNAC187_L5_ChC_7c8be3c828_0_0.cell.nml', '../NMC_model/NMC.NeuronML2/cNAC187_L5_ChC_8901e742c7_0_0.cell.nml', '../NMC_model/NMC.NeuronML2/cNAC187_L5_ChC_b51988187a_0_0.cell.nml', '../NMC_model/NMC.NeuronML2/cNAC187_L5_ChC_dfe3a6b301_0_0.cell.nml', '../NMC_model/NMC.NeuronML2/cNAC187_L5_DBC_893b78d08e_0_0.cell.nml', '../NMC_model/NMC.NeuronML2/cNAC187_L5_DBC_8be7b81168_0_0.cell.nml', '../NMC_model/NMC.NeuronML2/cNAC187_L5_DBC_ad487d347d_0_0.cell.nml', '../NMC_model/NMC.NeuronML2/cNAC187_L5_DBC_d8e0abdc7c_0_0.cell.nml', '../NMC_model/NMC.NeuronML2/cNAC187_L5_DBC_d900bc4e97_0_0.cell.nml', '../NMC_model/NMC.NeuronML2/cNAC187_L5_LBC_078d827ab9_0_0.cell.nml', '../NMC_model/NMC.NeuronML2/cNAC187_L5_LBC_1e4112fe69_0_0.cell.nml', '../NMC_model/NMC.NeuronML2/cNAC187_L5_LBC_b883da43ff_0_0.cell.nml', '../NMC_model/NMC.NeuronML2/cNAC187_L5_LBC_d19674cc92_0_0.cell.nml', '../NMC_model/NMC.NeuronML2/cNAC187_L5_LBC_ebed230edd_0_0.cell.nml', '../NMC_model/NMC.NeuronML2/cNAC187_L5_MC_42542e071a_0_0.cell.nml', '../NMC_model/NMC.NeuronML2/cNAC187_L5_MC_575d31ccfd_0_0.cell.nml', '../NMC_model/NMC.NeuronML2/cNAC187_L5_MC_8a4a02932c_0_0.cell.nml', '../NMC_model/NMC.NeuronML2/cNAC187_L5_MC_9935c06ba6_0_0.cell.nml', '../NMC_model/NMC.NeuronML2/cNAC187_L5_MC_bf2b2fbcbf_0_0.cell.nml', '../NMC_model/NMC.NeuronML2/cNAC187_L5_NBC_2444ed2bac_0_0.cell.nml', '../NMC_model/NMC.NeuronML2/cNAC187_L5_NBC_8d74f99eef_0_0.cell.nml', '../NMC_model/NMC.NeuronML2/cNAC187_L5_NBC_a91e150b71_0_0.cell.nml', '../NMC_model/NMC.NeuronML2/cNAC187_L5_NBC_d4cc42ae25_0_0.cell.nml', '../NMC_model/NMC.NeuronML2/cNAC187_L5_NBC_ded84149de_0_0.cell.nml', '../NMC_model/NMC.NeuronML2/cNAC187_L5_NGC_86e570892b_0_0.cell.nml', '../NMC_model/NMC.NeuronML2/cNAC187_L5_NGC_ea12cd3d1a_0_0.cell.nml', '../NMC_model/NMC.NeuronML2/cNAC187_L6_BTC_459ef88946_0_0.cell.nml', '../NMC_model/NMC.NeuronML2/cNAC187_L6_BTC_6b85c850ab_0_0.cell.nml', '../NMC_model/NMC.NeuronML2/cNAC187_L6_BTC_844c3bba88_0_0.cell.nml', '../NMC_model/NMC.NeuronML2/cNAC187_L6_BTC_bc69dce0ae_0_0.cell.nml', '../NMC_model/NMC.NeuronML2/cNAC187_L6_BTC_c021ea90e3_0_0.cell.nml', '../NMC_model/NMC.NeuronML2/cNAC187_L6_ChC_44806c5355_0_0.cell.nml', '../NMC_model/NMC.NeuronML2/cNAC187_L6_ChC_a3c657441e_0_0.cell.nml', '../NMC_model/NMC.NeuronML2/cNAC187_L6_ChC_d1b33e54c2_0_0.cell.nml', '../NMC_model/NMC.NeuronML2/cNAC187_L6_DBC_166d3f579a_0_0.cell.nml', '../NMC_model/NMC.NeuronML2/cNAC187_L6_DBC_2bb1f65738_0_0.cell.nml', '../NMC_model/NMC.NeuronML2/cNAC187_L6_DBC_d59edbb45e_0_0.cell.nml', '../NMC_model/NMC.NeuronML2/cNAC187_L6_LBC_41f715f2d0_0_0.cell.nml', '../NMC_model/NMC.NeuronML2/cNAC187_L6_LBC_7fd94465af_0_0.cell.nml', '../NMC_model/NMC.NeuronML2/cNAC187_L6_LBC_9ab2498c23_0_0.cell.nml', '../NMC_model/NMC.NeuronML2/cNAC187_L6_LBC_ae0d738c6e_0_0.cell.nml', '../NMC_model/NMC.NeuronML2/cNAC187_L6_LBC_f9ea5d0925_0_0.cell.nml', '../NMC_model/NMC.NeuronML2/cNAC187_L6_MC_5597e4d536_0_0.cell.nml', '../NMC_model/NMC.NeuronML2/cNAC187_L6_MC_6c575906a7_0_0.cell.nml', '../NMC_model/NMC.NeuronML2/cNAC187_L6_MC_8f46a0ad62_0_0.cell.nml', '../NMC_model/NMC.NeuronML2/cNAC187_L6_MC_d379cda689_0_0.cell.nml', '../NMC_model/NMC.NeuronML2/cNAC187_L6_MC_df869132b9_0_0.cell.nml', '../NMC_model/NMC.NeuronML2/cNAC187_L6_NBC_4225ab5b52_0_0.cell.nml', '../NMC_model/NMC.NeuronML2/cNAC187_L6_NBC_777b9bec91_0_0.cell.nml', '../NMC_model/NMC.NeuronML2/cNAC187_L6_NBC_81f6eae6fc_0_0.cell.nml', '../NMC_model/NMC.NeuronML2/cNAC187_L6_NBC_96f68bef66_0_0.cell.nml', '../NMC_model/NMC.NeuronML2/cNAC187_L6_NBC_c0fd8f67e2_0_0.cell.nml', '../NMC_model/NMC.NeuronML2/cNAC187_L6_NGC_43bfe487c7_0_0.cell.nml', '../NMC_model/NMC.NeuronML2/cNAC187_L6_NGC_4eb0813b69_0_0.cell.nml', '../NMC_model/NMC.NeuronML2/cNAC187_L6_NGC_aa5e388292_0_0.cell.nml', '../NMC_model/NMC.NeuronML2/cNAC187_L6_NGC_f566e0b2a9_0_0.cell.nml', '../NMC_model/NMC.NeuronML2/cSTUT189_L23_LBC_91044b50b3_0_0.cell.nml', '../NMC_model/NMC.NeuronML2/cSTUT189_L4_LBC_1d4118b33e_0_0.cell.nml', '../NMC_model/NMC.NeuronML2/cSTUT189_L4_LBC_28153c03c4_0_0.cell.nml', '../NMC_model/NMC.NeuronML2/cSTUT189_L4_LBC_2a3578f975_0_0.cell.nml', '../NMC_model/NMC.NeuronML2/cSTUT189_L4_LBC_fe3c0498a4_0_0.cell.nml', '../NMC_model/NMC.NeuronML2/cSTUT189_L4_NGC_1c20d72451_0_0.cell.nml', '../NMC_model/NMC.NeuronML2/cSTUT189_L4_NGC_ec67e9ba9b_0_0.cell.nml', '../NMC_model/NMC.NeuronML2/cSTUT189_L5_LBC_0ffcc91920_0_0.cell.nml', '../NMC_model/NMC.NeuronML2/cSTUT189_L5_LBC_29803173bd_0_0.cell.nml', '../NMC_model/NMC.NeuronML2/cSTUT189_L5_LBC_640a1cef1d_0_0.cell.nml', '../NMC_model/NMC.NeuronML2/cSTUT189_L5_LBC_6f185d799a_0_0.cell.nml', '../NMC_model/NMC.NeuronML2/cSTUT189_L5_LBC_7e5297a36c_0_0.cell.nml', '../NMC_model/NMC.NeuronML2/cSTUT189_L5_MC_42542e071a_0_0.cell.nml', '../NMC_model/NMC.NeuronML2/cSTUT189_L5_MC_575d31ccfd_0_0.cell.nml', '../NMC_model/NMC.NeuronML2/cSTUT189_L5_MC_8a4a02932c_0_0.cell.nml', '../NMC_model/NMC.NeuronML2/cSTUT189_L5_MC_bf2b2fbcbf_0_0.cell.nml', '../NMC_model/NMC.NeuronML2/cSTUT189_L5_MC_cc2a170ef6_0_0.cell.nml', '../NMC_model/NMC.NeuronML2/cSTUT189_L5_NBC_031c89778f_0_0.cell.nml', '../NMC_model/NMC.NeuronML2/cSTUT189_L5_NBC_4126235f8b_0_0.cell.nml', '../NMC_model/NMC.NeuronML2/cSTUT189_L5_NBC_42f781cf08_0_0.cell.nml', '../NMC_model/NMC.NeuronML2/cSTUT189_L5_NBC_adc0ce53be_0_0.cell.nml', '../NMC_model/NMC.NeuronML2/cSTUT189_L5_NBC_cb87ec754a_0_0.cell.nml', '../NMC_model/NMC.NeuronML2/cSTUT189_L6_LBC_040eb0bc59_0_0.cell.nml', '../NMC_model/NMC.NeuronML2/cSTUT189_L6_LBC_0f06cad592_0_0.cell.nml', '../NMC_model/NMC.NeuronML2/cSTUT189_L6_LBC_1f1d59d3f5_0_0.cell.nml', '../NMC_model/NMC.NeuronML2/cSTUT189_L6_LBC_530a402f3f_0_0.cell.nml', '../NMC_model/NMC.NeuronML2/cSTUT189_L6_LBC_6e6465f06a_0_0.cell.nml', '../NMC_model/NMC.NeuronML2/cSTUT189_L6_NBC_23c8220f56_0_0.cell.nml', '../NMC_model/NMC.NeuronML2/cSTUT189_L6_NBC_55825b9e30_0_0.cell.nml', '../NMC_model/NMC.NeuronML2/cSTUT189_L6_NBC_63dc8fdbb5_0_0.cell.nml', '../NMC_model/NMC.NeuronML2/cSTUT189_L6_NBC_b88c4c3f75_0_0.cell.nml', '../NMC_model/NMC.NeuronML2/cSTUT189_L6_NBC_df448fd9b1_0_0.cell.nml', '../NMC_model/NMC.NeuronML2/cSTUT189_L6_NGC_4cb459d73b_0_0.cell.nml', '../NMC_model/NMC.NeuronML2/dNAC222_L23_ChC_4587365020_0_0.cell.nml', '../NMC_model/NMC.NeuronML2/dNAC222_L23_ChC_9b0e709c9c_0_0.cell.nml', '../NMC_model/NMC.NeuronML2/dNAC222_L23_ChC_cfcfe12e37_0_0.cell.nml', '../NMC_model/NMC.NeuronML2/dNAC222_L23_LBC_19cea46eb3_0_0.cell.nml', '../NMC_model/NMC.NeuronML2/dNAC222_L23_LBC_1b6313448d_0_0.cell.nml', '../NMC_model/NMC.NeuronML2/dNAC222_L23_LBC_3872d55b42_0_0.cell.nml', '../NMC_model/NMC.NeuronML2/dNAC222_L23_LBC_936c35a9e1_0_0.cell.nml', '../NMC_model/NMC.NeuronML2/dNAC222_L23_LBC_df15689e81_0_0.cell.nml', '../NMC_model/NMC.NeuronML2/dNAC222_L23_MC_1490f15199_0_0.cell.nml', '../NMC_model/NMC.NeuronML2/dNAC222_L23_MC_31f333a601_0_0.cell.nml', '../NMC_model/NMC.NeuronML2/dNAC222_L23_MC_55e4a7c88f_0_0.cell.nml', '../NMC_model/NMC.NeuronML2/dNAC222_L23_MC_940ffcbb27_0_0.cell.nml', '../NMC_model/NMC.NeuronML2/dNAC222_L23_MC_b7a2c9d0ae_0_0.cell.nml', '../NMC_model/NMC.NeuronML2/dNAC222_L23_NBC_2f216c0d74_0_0.cell.nml', '../NMC_model/NMC.NeuronML2/dNAC222_L23_NBC_46256e0cca_0_0.cell.nml', '../NMC_model/NMC.NeuronML2/dNAC222_L23_NBC_df01e73cd3_0_0.cell.nml', '../NMC_model/NMC.NeuronML2/dNAC222_L23_NBC_ec4aba2351_0_0.cell.nml', '../NMC_model/NMC.NeuronML2/dNAC222_L23_NBC_ed12f3afab_0_0.cell.nml', '../NMC_model/NMC.NeuronML2/dNAC222_L23_SBC_0c85d8e325_0_0.cell.nml', '../NMC_model/NMC.NeuronML2/dNAC222_L23_SBC_48c120ddd5_0_0.cell.nml', '../NMC_model/NMC.NeuronML2/dNAC222_L23_SBC_7b122f5ac9_0_0.cell.nml', '../NMC_model/NMC.NeuronML2/dNAC222_L23_SBC_cf92e1b802_0_0.cell.nml', '../NMC_model/NMC.NeuronML2/dNAC222_L23_SBC_ef99b8a177_0_0.cell.nml', '../NMC_model/NMC.NeuronML2/dNAC222_L4_BTC_2d64e36d0b_0_0.cell.nml', '../NMC_model/NMC.NeuronML2/dNAC222_L4_BTC_5612242ada_0_0.cell.nml', '../NMC_model/NMC.NeuronML2/dNAC222_L4_BTC_e8dd2ca96e_0_0.cell.nml', '../NMC_model/NMC.NeuronML2/dNAC222_L4_ChC_7a1b7e3c70_0_0.cell.nml', '../NMC_model/NMC.NeuronML2/dNAC222_L4_ChC_9b41babcdb_0_0.cell.nml', '../NMC_model/NMC.NeuronML2/dNAC222_L4_LBC_3530c2c05e_0_0.cell.nml', '../NMC_model/NMC.NeuronML2/dNAC222_L4_LBC_992411393b_0_0.cell.nml', '../NMC_model/NMC.NeuronML2/dNAC222_L4_LBC_a6205ed0df_0_0.cell.nml', '../NMC_model/NMC.NeuronML2/dNAC222_L4_LBC_f0975c96e7_0_0.cell.nml', '../NMC_model/NMC.NeuronML2/dNAC222_L4_LBC_f6a71a338d_0_0.cell.nml', '../NMC_model/NMC.NeuronML2/dNAC222_L4_MC_29457dde26_0_0.cell.nml', '../NMC_model/NMC.NeuronML2/dNAC222_L4_MC_2eb83e1eed_0_0.cell.nml', '../NMC_model/NMC.NeuronML2/dNAC222_L4_MC_3110386c07_0_0.cell.nml', '../NMC_model/NMC.NeuronML2/dNAC222_L4_MC_8a4a02932c_0_0.cell.nml', '../NMC_model/NMC.NeuronML2/dNAC222_L4_MC_f8c62d11b0_0_0.cell.nml', '../NMC_model/NMC.NeuronML2/dNAC222_L4_NBC_0dd32b6386_0_0.cell.nml', '../NMC_model/NMC.NeuronML2/dNAC222_L4_NBC_4cad2587d3_0_0.cell.nml', '../NMC_model/NMC.NeuronML2/dNAC222_L4_NBC_695ce74c39_0_0.cell.nml', '../NMC_model/NMC.NeuronML2/dNAC222_L4_NBC_aa36da75a3_0_0.cell.nml', '../NMC_model/NMC.NeuronML2/dNAC222_L4_NBC_c61eec6aeb_0_0.cell.nml', '../NMC_model/NMC.NeuronML2/dNAC222_L4_SBC_1bad5bb92b_0_0.cell.nml', '../NMC_model/NMC.NeuronML2/dNAC222_L4_SBC_799e027057_0_0.cell.nml', '../NMC_model/NMC.NeuronML2/dNAC222_L4_SBC_9995bf5c97_0_0.cell.nml', '../NMC_model/NMC.NeuronML2/dNAC222_L4_SBC_dcee829578_0_0.cell.nml', '../NMC_model/NMC.NeuronML2/dNAC222_L4_SBC_f48f4f7670_0_0.cell.nml', '../NMC_model/NMC.NeuronML2/dNAC222_L5_ChC_75c658c9b8_0_0.cell.nml', '../NMC_model/NMC.NeuronML2/dNAC222_L5_LBC_0ffcc91920_0_0.cell.nml', '../NMC_model/NMC.NeuronML2/dNAC222_L5_LBC_58bb1b2407_0_0.cell.nml', '../NMC_model/NMC.NeuronML2/dNAC222_L5_LBC_93c04dc3d5_0_0.cell.nml', '../NMC_model/NMC.NeuronML2/dNAC222_L5_LBC_99ab75ea98_0_0.cell.nml', '../NMC_model/NMC.NeuronML2/dNAC222_L5_LBC_f906bb679c_0_0.cell.nml', '../NMC_model/NMC.NeuronML2/dNAC222_L5_MC_7eeb7cff0f_0_0.cell.nml', '../NMC_model/NMC.NeuronML2/dNAC222_L5_MC_8a4a02932c_0_0.cell.nml', '../NMC_model/NMC.NeuronML2/dNAC222_L5_MC_9935c06ba6_0_0.cell.nml', '../NMC_model/NMC.NeuronML2/dNAC222_L5_MC_bf2b2fbcbf_0_0.cell.nml', '../NMC_model/NMC.NeuronML2/dNAC222_L5_MC_c135727743_0_0.cell.nml', '../NMC_model/NMC.NeuronML2/dNAC222_L5_SBC_365080b27f_0_0.cell.nml', '../NMC_model/NMC.NeuronML2/dNAC222_L5_SBC_513d1f1596_0_0.cell.nml', '../NMC_model/NMC.NeuronML2/dNAC222_L5_SBC_64157b3c40_0_0.cell.nml', '../NMC_model/NMC.NeuronML2/dNAC222_L5_SBC_655c77b594_0_0.cell.nml', '../NMC_model/NMC.NeuronML2/dNAC222_L6_ChC_feef7b2013_0_0.cell.nml', '../NMC_model/NMC.NeuronML2/dNAC222_L6_SBC_1404bc18ce_0_0.cell.nml', '../NMC_model/NMC.NeuronML2/dNAC222_L6_SBC_194972ee43_0_0.cell.nml', '../NMC_model/NMC.NeuronML2/dNAC222_L6_SBC_f2d2498fe5_0_0.cell.nml', '../NMC_model/NMC.NeuronML2/dNAC222_L6_SBC_fb9380858b_0_0.cell.nml', '../NMC_model/NMC.NeuronML2/dSTUT214_L4_BP_0b51bbc21b_0_0.cell.nml', '../NMC_model/NMC.NeuronML2/dSTUT214_L4_LBC_23aa2e3048_0_0.cell.nml', '../NMC_model/NMC.NeuronML2/dSTUT214_L4_LBC_aecec7aee9_0_0.cell.nml', '../NMC_model/NMC.NeuronML2/dSTUT214_L5_BP_0cbab2a2ce_0_0.cell.nml', '../NMC_model/NMC.NeuronML2/dSTUT214_L5_BP_55f9b731a1_0_0.cell.nml', '../NMC_model/NMC.NeuronML2/dSTUT214_L5_BP_60923f9e40_0_0.cell.nml', '../NMC_model/NMC.NeuronML2/dSTUT214_L5_LBC_5dc27443f3_0_0.cell.nml', '../NMC_model/NMC.NeuronML2/dSTUT214_L5_LBC_6a6d472ca8_0_0.cell.nml', '../NMC_model/NMC.NeuronML2/dSTUT214_L5_LBC_82d782e650_0_0.cell.nml', '../NMC_model/NMC.NeuronML2/dSTUT214_L5_LBC_a7bdd51160_0_0.cell.nml', '../NMC_model/NMC.NeuronML2/dSTUT214_L5_LBC_bf8ea1e366_0_0.cell.nml', '../NMC_model/NMC.NeuronML2/dSTUT214_L5_NBC_2518b7a9e0_0_0.cell.nml', '../NMC_model/NMC.NeuronML2/dSTUT214_L5_NBC_3a23cf60a6_0_0.cell.nml', '../NMC_model/NMC.NeuronML2/dSTUT214_L5_NBC_4a41f068df_0_0.cell.nml', '../NMC_model/NMC.NeuronML2/dSTUT214_L5_NBC_d4cc42ae25_0_0.cell.nml', '../NMC_model/NMC.NeuronML2/dSTUT214_L6_NBC_1c98947546_0_0.cell.nml', '../NMC_model/NMC.NeuronML2/dSTUT214_L6_NBC_73114eff1a_0_0.cell.nml']\n",
      "*  PulseGenerator: ['pg_exc_0', 'pg_exc_0', 'pg_exc_0', 'pg_exc_0', 'pg_exc_0', 'pg_exc_1', 'pg_exc_1', 'pg_exc_1', 'pg_exc_1', 'pg_exc_1', 'pg_exc_10', 'pg_exc_10', 'pg_exc_10', 'pg_exc_10', 'pg_exc_10', 'pg_exc_11', 'pg_exc_11', 'pg_exc_11', 'pg_exc_11', 'pg_exc_11', 'pg_exc_12', 'pg_exc_12', 'pg_exc_12', 'pg_exc_12', 'pg_exc_12', 'pg_exc_13', 'pg_exc_13', 'pg_exc_13', 'pg_exc_13', 'pg_exc_13', 'pg_exc_14', 'pg_exc_14', 'pg_exc_14', 'pg_exc_14', 'pg_exc_14', 'pg_exc_15', 'pg_exc_15', 'pg_exc_15', 'pg_exc_15', 'pg_exc_15', 'pg_exc_16', 'pg_exc_16', 'pg_exc_16', 'pg_exc_16', 'pg_exc_16', 'pg_exc_17', 'pg_exc_17', 'pg_exc_17', 'pg_exc_17', 'pg_exc_17', 'pg_exc_18', 'pg_exc_18', 'pg_exc_18', 'pg_exc_18', 'pg_exc_18', 'pg_exc_19', 'pg_exc_19', 'pg_exc_19', 'pg_exc_19', 'pg_exc_19', 'pg_exc_2', 'pg_exc_2', 'pg_exc_2', 'pg_exc_2', 'pg_exc_2', 'pg_exc_20', 'pg_exc_20', 'pg_exc_20', 'pg_exc_20', 'pg_exc_20', 'pg_exc_21', 'pg_exc_21', 'pg_exc_21', 'pg_exc_21', 'pg_exc_21', 'pg_exc_22', 'pg_exc_22', 'pg_exc_22', 'pg_exc_22', 'pg_exc_22', 'pg_exc_23', 'pg_exc_23', 'pg_exc_23', 'pg_exc_23', 'pg_exc_23', 'pg_exc_24', 'pg_exc_24', 'pg_exc_24', 'pg_exc_24', 'pg_exc_24', 'pg_exc_25', 'pg_exc_25', 'pg_exc_25', 'pg_exc_25', 'pg_exc_25', 'pg_exc_26', 'pg_exc_26', 'pg_exc_26', 'pg_exc_26', 'pg_exc_26', 'pg_exc_27', 'pg_exc_27', 'pg_exc_27', 'pg_exc_27', 'pg_exc_27', 'pg_exc_28', 'pg_exc_28', 'pg_exc_28', 'pg_exc_28', 'pg_exc_28', 'pg_exc_29', 'pg_exc_29', 'pg_exc_29', 'pg_exc_29', 'pg_exc_29', 'pg_exc_3', 'pg_exc_3', 'pg_exc_3', 'pg_exc_3', 'pg_exc_3', 'pg_exc_30', 'pg_exc_30', 'pg_exc_30', 'pg_exc_30', 'pg_exc_30', 'pg_exc_31', 'pg_exc_31', 'pg_exc_31', 'pg_exc_31', 'pg_exc_31', 'pg_exc_32', 'pg_exc_32', 'pg_exc_32', 'pg_exc_32', 'pg_exc_32', 'pg_exc_33', 'pg_exc_33', 'pg_exc_33', 'pg_exc_33', 'pg_exc_33', 'pg_exc_34', 'pg_exc_34', 'pg_exc_34', 'pg_exc_34', 'pg_exc_34', 'pg_exc_35', 'pg_exc_35', 'pg_exc_35', 'pg_exc_35', 'pg_exc_35', 'pg_exc_36', 'pg_exc_36', 'pg_exc_36', 'pg_exc_36', 'pg_exc_36', 'pg_exc_37', 'pg_exc_37', 'pg_exc_37', 'pg_exc_37', 'pg_exc_37', 'pg_exc_38', 'pg_exc_38', 'pg_exc_38', 'pg_exc_38', 'pg_exc_38', 'pg_exc_39', 'pg_exc_39', 'pg_exc_39', 'pg_exc_39', 'pg_exc_39', 'pg_exc_4', 'pg_exc_4', 'pg_exc_4', 'pg_exc_4', 'pg_exc_4', 'pg_exc_40', 'pg_exc_40', 'pg_exc_40', 'pg_exc_40', 'pg_exc_40', 'pg_exc_41', 'pg_exc_41', 'pg_exc_41', 'pg_exc_41', 'pg_exc_41', 'pg_exc_42', 'pg_exc_42', 'pg_exc_42', 'pg_exc_42', 'pg_exc_42', 'pg_exc_43', 'pg_exc_43', 'pg_exc_43', 'pg_exc_43', 'pg_exc_43', 'pg_exc_44', 'pg_exc_44', 'pg_exc_44', 'pg_exc_44', 'pg_exc_44', 'pg_exc_45', 'pg_exc_45', 'pg_exc_45', 'pg_exc_45', 'pg_exc_45', 'pg_exc_46', 'pg_exc_46', 'pg_exc_46', 'pg_exc_46', 'pg_exc_46', 'pg_exc_47', 'pg_exc_47', 'pg_exc_47', 'pg_exc_47', 'pg_exc_47', 'pg_exc_48', 'pg_exc_48', 'pg_exc_48', 'pg_exc_48', 'pg_exc_48', 'pg_exc_49', 'pg_exc_49', 'pg_exc_49', 'pg_exc_49', 'pg_exc_49', 'pg_exc_5', 'pg_exc_5', 'pg_exc_5', 'pg_exc_5', 'pg_exc_5', 'pg_exc_50', 'pg_exc_50', 'pg_exc_50', 'pg_exc_50', 'pg_exc_50', 'pg_exc_51', 'pg_exc_51', 'pg_exc_51', 'pg_exc_51', 'pg_exc_51', 'pg_exc_52', 'pg_exc_52', 'pg_exc_52', 'pg_exc_52', 'pg_exc_52', 'pg_exc_53', 'pg_exc_53', 'pg_exc_53', 'pg_exc_53', 'pg_exc_53', 'pg_exc_54', 'pg_exc_54', 'pg_exc_54', 'pg_exc_54', 'pg_exc_54', 'pg_exc_55', 'pg_exc_55', 'pg_exc_55', 'pg_exc_55', 'pg_exc_55', 'pg_exc_56', 'pg_exc_56', 'pg_exc_56', 'pg_exc_56', 'pg_exc_56', 'pg_exc_57', 'pg_exc_57', 'pg_exc_57', 'pg_exc_57', 'pg_exc_57', 'pg_exc_58', 'pg_exc_58', 'pg_exc_58', 'pg_exc_58', 'pg_exc_58', 'pg_exc_59', 'pg_exc_59', 'pg_exc_59', 'pg_exc_59', 'pg_exc_59', 'pg_exc_6', 'pg_exc_6', 'pg_exc_6', 'pg_exc_6', 'pg_exc_6', 'pg_exc_60', 'pg_exc_60', 'pg_exc_60', 'pg_exc_60', 'pg_exc_60', 'pg_exc_61', 'pg_exc_61', 'pg_exc_61', 'pg_exc_61', 'pg_exc_61', 'pg_exc_62', 'pg_exc_62', 'pg_exc_62', 'pg_exc_62', 'pg_exc_62', 'pg_exc_63', 'pg_exc_63', 'pg_exc_63', 'pg_exc_63', 'pg_exc_63', 'pg_exc_64', 'pg_exc_64', 'pg_exc_64', 'pg_exc_64', 'pg_exc_64', 'pg_exc_65', 'pg_exc_65', 'pg_exc_65', 'pg_exc_65', 'pg_exc_65', 'pg_exc_66', 'pg_exc_66', 'pg_exc_66', 'pg_exc_66', 'pg_exc_66', 'pg_exc_67', 'pg_exc_67', 'pg_exc_67', 'pg_exc_67', 'pg_exc_67', 'pg_exc_68', 'pg_exc_68', 'pg_exc_68', 'pg_exc_68', 'pg_exc_68', 'pg_exc_69', 'pg_exc_69', 'pg_exc_69', 'pg_exc_69', 'pg_exc_69', 'pg_exc_7', 'pg_exc_7', 'pg_exc_7', 'pg_exc_7', 'pg_exc_7', 'pg_exc_70', 'pg_exc_70', 'pg_exc_70', 'pg_exc_70', 'pg_exc_70', 'pg_exc_71', 'pg_exc_71', 'pg_exc_71', 'pg_exc_71', 'pg_exc_71', 'pg_exc_72', 'pg_exc_72', 'pg_exc_72', 'pg_exc_72', 'pg_exc_72', 'pg_exc_73', 'pg_exc_73', 'pg_exc_73', 'pg_exc_73', 'pg_exc_73', 'pg_exc_74', 'pg_exc_74', 'pg_exc_74', 'pg_exc_74', 'pg_exc_74', 'pg_exc_75', 'pg_exc_75', 'pg_exc_75', 'pg_exc_75', 'pg_exc_75', 'pg_exc_76', 'pg_exc_76', 'pg_exc_76', 'pg_exc_76', 'pg_exc_76', 'pg_exc_77', 'pg_exc_77', 'pg_exc_77', 'pg_exc_77', 'pg_exc_78', 'pg_exc_78', 'pg_exc_78', 'pg_exc_79', 'pg_exc_79', 'pg_exc_8', 'pg_exc_8', 'pg_exc_8', 'pg_exc_8', 'pg_exc_8', 'pg_exc_80', 'pg_exc_81', 'pg_exc_82', 'pg_exc_83', 'pg_exc_84', 'pg_exc_85', 'pg_exc_86', 'pg_exc_87', 'pg_exc_88', 'pg_exc_89', 'pg_exc_9', 'pg_exc_9', 'pg_exc_9', 'pg_exc_9', 'pg_exc_9', 'pg_exc_90', 'pg_exc_91']\n",
      "*\n",
      "*  Network: Cortex_Network (temperature: 34.0degC)\n",
      "*\n",
      "*   27744 cells in 741 populations \n",
      "*     Population: Exc with 13 components of type NeuroML2_file_exported_from_NEURON\n",
      "*     Population: Exc with 8 components of type NeuroML2_file_exported_from_NEURON\n",
      "*     Population: Exc with 20 components of type NeuroML2_file_exported_from_NEURON\n",
      "*     Population: Exc with 7 components of type NeuroML2_file_exported_from_NEURON\n",
      "*     Population: Exc with 15 components of type NeuroML2_file_exported_from_NEURON\n",
      "*     Population: Exc with 11 components of type NeuroML2_file_exported_from_NEURON\n",
      "*     Population: Exc with 11 components of type NeuroML2_file_exported_from_NEURON\n",
      "*     Population: Exc with 18 components of type NeuroML2_file_exported_from_NEURON\n",
      "*     Population: Exc with 5 components of type NeuroML2_file_exported_from_NEURON\n",
      "*     Population: Exc with 12 components of type NeuroML2_file_exported_from_NEURON\n",
      "*     Population: Exc with 10 components of type NeuroML2_file_exported_from_NEURON\n",
      "*     Population: Exc with 11 components of type NeuroML2_file_exported_from_NEURON\n",
      "*     Population: Exc with 18 components of type NeuroML2_file_exported_from_NEURON\n",
      "*     Population: Exc with 19 components of type NeuroML2_file_exported_from_NEURON\n",
      "*     Population: Exc with 17 components of type NeuroML2_file_exported_from_NEURON\n",
      "*     Population: Exc with 9 components of type NeuroML2_file_exported_from_NEURON\n",
      "*     Population: Exc with 17 components of type NeuroML2_file_exported_from_NEURON\n",
      "*     Population: Exc with 12 components of type NeuroML2_file_exported_from_NEURON\n",
      "*     Population: Exc with 7 components of type NeuroML2_file_exported_from_NEURON\n",
      "*     Population: Exc with 3 components of type NeuroML2_file_exported_from_NEURON\n",
      "*     Population: Exc with 10 components of type NeuroML2_file_exported_from_NEURON\n",
      "*     Population: Exc with 9 components of type NeuroML2_file_exported_from_NEURON\n",
      "*     Population: Exc with 5 components of type NeuroML2_file_exported_from_NEURON\n",
      "*     Population: Exc with 7 components of type NeuroML2_file_exported_from_NEURON\n",
      "*     Population: Exc with 16 components of type NeuroML2_file_exported_from_NEURON\n",
      "*     Population: Exc with 1 components of type NeuroML2_file_exported_from_NEURON\n",
      "*     Population: Exc with 4 components of type NeuroML2_file_exported_from_NEURON\n",
      "*     Population: Exc with 6 components of type NeuroML2_file_exported_from_NEURON\n",
      "*     Population: Exc with 13 components of type NeuroML2_file_exported_from_NEURON\n",
      "*     Population: Exc with 7 components of type NeuroML2_file_exported_from_NEURON\n",
      "*     Population: Exc with 5 components of type NeuroML2_file_exported_from_NEURON\n",
      "*     Population: Exc with 4 components of type NeuroML2_file_exported_from_NEURON\n",
      "*     Population: Exc with 1 components of type NeuroML2_file_exported_from_NEURON\n",
      "*     Population: Exc with 4 components of type NeuroML2_file_exported_from_NEURON\n",
      "*     Population: Exc with 1 components of type NeuroML2_file_exported_from_NEURON\n",
      "*     Population: Exc with 2 components of type NeuroML2_file_exported_from_NEURON\n",
      "*     Population: Exc with 5 components of type NeuroML2_file_exported_from_NEURON\n",
      "*     Population: Exc with 1 components of type NeuroML2_file_exported_from_NEURON\n",
      "*     Population: Exc with 2 components of type NeuroML2_file_exported_from_NEURON\n",
      "*     Population: Exc with 2 components of type NeuroML2_file_exported_from_NEURON\n",
      "*     Population: Exc with 2 components of type NeuroML2_file_exported_from_NEURON\n",
      "*     Population: Exc with 1 components of type NeuroML2_file_exported_from_NEURON\n",
      "*     Population: Exc with 1 components of type NeuroML2_file_exported_from_NEURON\n",
      "*     Population: Exc with 14 components of type NeuroML2_file_exported_from_NEURON\n",
      "*     Population: Exc with 4 components of type NeuroML2_file_exported_from_NEURON\n",
      "*     Population: Exc with 7 components of type NeuroML2_file_exported_from_NEURON\n",
      "*     Population: Exc with 13 components of type NeuroML2_file_exported_from_NEURON\n",
      "*     Population: Exc with 4 components of type NeuroML2_file_exported_from_NEURON\n",
      "*     Population: Exc with 8 components of type NeuroML2_file_exported_from_NEURON\n",
      "*     Population: Exc with 3 components of type NeuroML2_file_exported_from_NEURON\n",
      "*     Population: Exc with 3 components of type NeuroML2_file_exported_from_NEURON\n",
      "*     Population: Exc with 1 components of type NeuroML2_file_exported_from_NEURON\n",
      "*     Population: Exc with 3 components of type NeuroML2_file_exported_from_NEURON\n",
      "*     Population: Exc with 3 components of type NeuroML2_file_exported_from_NEURON\n",
      "*     Population: Exc with 2 components of type NeuroML2_file_exported_from_NEURON\n",
      "*     Population: Exc with 1 components of type NeuroML2_file_exported_from_NEURON\n",
      "*     Population: Exc with 1 components of type NeuroML2_file_exported_from_NEURON\n",
      "*     Population: Exc with 2 components of type NeuroML2_file_exported_from_NEURON\n",
      "*     Population: Exc with 2 components of type NeuroML2_file_exported_from_NEURON\n",
      "*     Population: Exc with 1 components of type NeuroML2_file_exported_from_NEURON\n",
      "*     Population: Exc with 2 components of type NeuroML2_file_exported_from_NEURON\n",
      "*     Population: Exc with 2 components of type NeuroML2_file_exported_from_NEURON\n",
      "*     Population: Exc with 2 components of type NeuroML2_file_exported_from_NEURON\n",
      "*     Population: Exc with 1 components of type NeuroML2_file_exported_from_NEURON\n",
      "*     Population: Exc with 1 components of type NeuroML2_file_exported_from_NEURON\n",
      "*     Population: Exc with 2 components of type NeuroML2_file_exported_from_NEURON\n",
      "*     Population: Exc with 1 components of type NeuroML2_file_exported_from_NEURON\n",
      "*     Population: Exc with 1 components of type NeuroML2_file_exported_from_NEURON\n",
      "*     Population: Exc with 27 components of type NeuroML2_file_exported_from_NEURON\n",
      "*     Population: Exc with 30 components of type NeuroML2_file_exported_from_NEURON\n",
      "*     Population: Exc with 14 components of type NeuroML2_file_exported_from_NEURON\n",
      "*     Population: Exc with 15 components of type NeuroML2_file_exported_from_NEURON\n",
      "*     Population: Exc with 10 components of type NeuroML2_file_exported_from_NEURON\n",
      "*     Population: Exc with 28 components of type NeuroML2_file_exported_from_NEURON\n",
      "*     Population: Exc with 17 components of type NeuroML2_file_exported_from_NEURON\n",
      "*     Population: Exc with 11 components of type NeuroML2_file_exported_from_NEURON\n",
      "*     Population: Exc with 31 components of type NeuroML2_file_exported_from_NEURON\n",
      "*     Population: Exc with 14 components of type NeuroML2_file_exported_from_NEURON\n",
      "*     Population: Exc with 16 components of type NeuroML2_file_exported_from_NEURON\n",
      "*     Population: Exc with 18 components of type NeuroML2_file_exported_from_NEURON\n",
      "*     Population: Exc with 20 components of type NeuroML2_file_exported_from_NEURON\n",
      "*     Population: Exc with 9 components of type NeuroML2_file_exported_from_NEURON\n",
      "*     Population: Exc with 7 components of type NeuroML2_file_exported_from_NEURON\n",
      "*     Population: Exc with 9 components of type NeuroML2_file_exported_from_NEURON\n",
      "*     Population: Exc with 16 components of type NeuroML2_file_exported_from_NEURON\n",
      "*     Population: Exc with 16 components of type NeuroML2_file_exported_from_NEURON\n",
      "*     Population: Exc with 18 components of type NeuroML2_file_exported_from_NEURON\n",
      "*     Population: Exc with 20 components of type NeuroML2_file_exported_from_NEURON\n",
      "*     Population: Exc with 13 components of type NeuroML2_file_exported_from_NEURON\n",
      "*     Population: Exc with 24 components of type NeuroML2_file_exported_from_NEURON\n",
      "*     Population: Exc with 9 components of type NeuroML2_file_exported_from_NEURON\n",
      "*     Population: Exc with 9 components of type NeuroML2_file_exported_from_NEURON\n",
      "*     Population: Exc with 9 components of type NeuroML2_file_exported_from_NEURON\n",
      "*     Population: Exc with 6 components of type NeuroML2_file_exported_from_NEURON\n",
      "*     Population: Exc with 30 components of type NeuroML2_file_exported_from_NEURON\n",
      "*     Population: Exc with 9 components of type NeuroML2_file_exported_from_NEURON\n",
      "*     Population: Exc with 3 components of type NeuroML2_file_exported_from_NEURON\n",
      "*     Population: Exc with 5 components of type NeuroML2_file_exported_from_NEURON\n",
      "*     Population: Exc with 7 components of type NeuroML2_file_exported_from_NEURON\n",
      "*     Population: Exc with 6 components of type NeuroML2_file_exported_from_NEURON\n",
      "*     Population: Exc with 7 components of type NeuroML2_file_exported_from_NEURON\n",
      "*     Population: Exc with 9 components of type NeuroML2_file_exported_from_NEURON\n",
      "*     Population: Exc with 3 components of type NeuroML2_file_exported_from_NEURON\n",
      "*     Population: Exc with 4 components of type NeuroML2_file_exported_from_NEURON\n",
      "*     Population: Exc with 1 components of type NeuroML2_file_exported_from_NEURON\n",
      "*     Population: Exc with 2 components of type NeuroML2_file_exported_from_NEURON\n",
      "*     Population: Exc with 2 components of type NeuroML2_file_exported_from_NEURON\n",
      "*     Population: Exc with 3 components of type NeuroML2_file_exported_from_NEURON\n",
      "*     Population: Exc with 4 components of type NeuroML2_file_exported_from_NEURON\n",
      "*     Population: Exc with 4 components of type NeuroML2_file_exported_from_NEURON\n",
      "*     Population: Exc with 1 components of type NeuroML2_file_exported_from_NEURON\n",
      "*     Population: Exc with 1 components of type NeuroML2_file_exported_from_NEURON\n",
      "*     Population: Exc with 7 components of type NeuroML2_file_exported_from_NEURON\n",
      "*     Population: Exc with 4 components of type NeuroML2_file_exported_from_NEURON\n",
      "*     Population: Exc with 5 components of type NeuroML2_file_exported_from_NEURON\n",
      "*     Population: Exc with 19 components of type NeuroML2_file_exported_from_NEURON\n",
      "*     Population: Exc with 9 components of type NeuroML2_file_exported_from_NEURON\n",
      "*     Population: Exc with 10 components of type NeuroML2_file_exported_from_NEURON\n",
      "*     Population: Exc with 7 components of type NeuroML2_file_exported_from_NEURON\n",
      "*     Population: Exc with 10 components of type NeuroML2_file_exported_from_NEURON\n",
      "*     Population: Exc with 9 components of type NeuroML2_file_exported_from_NEURON\n",
      "*     Population: Exc with 1 components of type NeuroML2_file_exported_from_NEURON\n",
      "*     Population: Exc with 5 components of type NeuroML2_file_exported_from_NEURON\n",
      "*     Population: Exc with 5 components of type NeuroML2_file_exported_from_NEURON\n",
      "*     Population: Exc with 12 components of type NeuroML2_file_exported_from_NEURON\n",
      "*     Population: Exc with 10 components of type NeuroML2_file_exported_from_NEURON\n",
      "*     Population: Exc with 2 components of type NeuroML2_file_exported_from_NEURON\n",
      "*     Population: Exc with 1 components of type NeuroML2_file_exported_from_NEURON\n",
      "*     Population: Exc with 3 components of type NeuroML2_file_exported_from_NEURON\n",
      "*     Population: Exc with 5 components of type NeuroML2_file_exported_from_NEURON\n",
      "*     Population: Exc with 3 components of type NeuroML2_file_exported_from_NEURON\n",
      "*     Population: Exc with 3 components of type NeuroML2_file_exported_from_NEURON\n",
      "*     Population: Exc with 7 components of type NeuroML2_file_exported_from_NEURON\n",
      "*     Population: Exc with 19 components of type NeuroML2_file_exported_from_NEURON\n",
      "*     Population: Exc with 1 components of type NeuroML2_file_exported_from_NEURON\n",
      "*     Population: Exc with 6 components of type NeuroML2_file_exported_from_NEURON\n",
      "*     Population: Exc with 4 components of type NeuroML2_file_exported_from_NEURON\n",
      "*     Population: Exc with 4 components of type NeuroML2_file_exported_from_NEURON\n",
      "*     Population: Exc with 3 components of type NeuroML2_file_exported_from_NEURON\n",
      "*     Population: Exc with 3 components of type NeuroML2_file_exported_from_NEURON\n",
      "*     Population: Exc with 4 components of type NeuroML2_file_exported_from_NEURON\n",
      "*     Population: Exc with 4 components of type NeuroML2_file_exported_from_NEURON\n",
      "*     Population: Exc with 1 components of type NeuroML2_file_exported_from_NEURON\n",
      "*     Population: Exc with 2 components of type NeuroML2_file_exported_from_NEURON\n",
      "*     Population: Exc with 4 components of type NeuroML2_file_exported_from_NEURON\n",
      "*     Population: Exc with 1 components of type NeuroML2_file_exported_from_NEURON\n",
      "*     Population: Exc with 2 components of type NeuroML2_file_exported_from_NEURON\n",
      "*     Population: Exc with 3 components of type NeuroML2_file_exported_from_NEURON\n",
      "*     Population: Exc with 604 components of type NeuroML2_file_exported_from_NEURON\n",
      "*     Population: Exc with 624 components of type NeuroML2_file_exported_from_NEURON\n",
      "*     Population: Exc with 662 components of type NeuroML2_file_exported_from_NEURON\n",
      "*     Population: Exc with 655 components of type NeuroML2_file_exported_from_NEURON\n",
      "*     Population: Exc with 629 components of type NeuroML2_file_exported_from_NEURON\n",
      "*     Population: Exc with 694 components of type NeuroML2_file_exported_from_NEURON\n",
      "*     Population: Exc with 651 components of type NeuroML2_file_exported_from_NEURON\n",
      "*     Population: Exc with 758 components of type NeuroML2_file_exported_from_NEURON\n",
      "*     Population: Exc with 680 components of type NeuroML2_file_exported_from_NEURON\n",
      "*     Population: Exc with 693 components of type NeuroML2_file_exported_from_NEURON\n",
      "*     Population: Exc with 347 components of type NeuroML2_file_exported_from_NEURON\n",
      "*     Population: Exc with 339 components of type NeuroML2_file_exported_from_NEURON\n",
      "*     Population: Exc with 318 components of type NeuroML2_file_exported_from_NEURON\n",
      "*     Population: Exc with 300 components of type NeuroML2_file_exported_from_NEURON\n",
      "*     Population: Exc with 333 components of type NeuroML2_file_exported_from_NEURON\n",
      "*     Population: Exc with 2 components of type NeuroML2_file_exported_from_NEURON\n",
      "*     Population: Exc with 1 components of type NeuroML2_file_exported_from_NEURON\n",
      "*     Population: Exc with 2 components of type NeuroML2_file_exported_from_NEURON\n",
      "*     Population: Exc with 1 components of type NeuroML2_file_exported_from_NEURON\n",
      "*     Population: Exc with 1 components of type NeuroML2_file_exported_from_NEURON\n",
      "*     Population: Exc with 1 components of type NeuroML2_file_exported_from_NEURON\n",
      "*     Population: Exc with 1 components of type NeuroML2_file_exported_from_NEURON\n",
      "*     Population: Exc with 1 components of type NeuroML2_file_exported_from_NEURON\n",
      "*     Population: Exc with 3 components of type NeuroML2_file_exported_from_NEURON\n",
      "*     Population: Exc with 7 components of type NeuroML2_file_exported_from_NEURON\n",
      "*     Population: Exc with 1 components of type NeuroML2_file_exported_from_NEURON\n",
      "*     Population: Exc with 2 components of type NeuroML2_file_exported_from_NEURON\n",
      "*     Population: Exc with 1 components of type NeuroML2_file_exported_from_NEURON\n",
      "*     Population: Exc with 1 components of type NeuroML2_file_exported_from_NEURON\n",
      "*     Population: Exc with 1 components of type NeuroML2_file_exported_from_NEURON\n",
      "*     Population: Exc with 1 components of type NeuroML2_file_exported_from_NEURON\n",
      "*     Population: Exc with 1 components of type NeuroML2_file_exported_from_NEURON\n",
      "*     Population: Exc with 1 components of type NeuroML2_file_exported_from_NEURON\n",
      "*     Population: Exc with 1 components of type NeuroML2_file_exported_from_NEURON\n",
      "*     Population: Exc with 1 components of type NeuroML2_file_exported_from_NEURON\n",
      "*     Population: Exc with 260 components of type NeuroML2_file_exported_from_NEURON\n",
      "*     Population: Exc with 304 components of type NeuroML2_file_exported_from_NEURON\n",
      "*     Population: Exc with 283 components of type NeuroML2_file_exported_from_NEURON\n",
      "*     Population: Exc with 297 components of type NeuroML2_file_exported_from_NEURON\n",
      "*     Population: Exc with 296 components of type NeuroML2_file_exported_from_NEURON\n",
      "*     Population: Exc with 320 components of type NeuroML2_file_exported_from_NEURON\n",
      "*     Population: Exc with 366 components of type NeuroML2_file_exported_from_NEURON\n",
      "*     Population: Exc with 387 components of type NeuroML2_file_exported_from_NEURON\n",
      "*     Population: Exc with 329 components of type NeuroML2_file_exported_from_NEURON\n",
      "*     Population: Exc with 333 components of type NeuroML2_file_exported_from_NEURON\n",
      "*     Population: Exc with 3 components of type NeuroML2_file_exported_from_NEURON\n",
      "*     Population: Exc with 2 components of type NeuroML2_file_exported_from_NEURON\n",
      "*     Population: Exc with 1 components of type NeuroML2_file_exported_from_NEURON\n",
      "*     Population: Exc with 1 components of type NeuroML2_file_exported_from_NEURON\n",
      "*     Population: Exc with 5 components of type NeuroML2_file_exported_from_NEURON\n",
      "*     Population: Exc with 17 components of type NeuroML2_file_exported_from_NEURON\n",
      "*     Population: Exc with 3 components of type NeuroML2_file_exported_from_NEURON\n",
      "*     Population: Exc with 4 components of type NeuroML2_file_exported_from_NEURON\n",
      "*     Population: Exc with 12 components of type NeuroML2_file_exported_from_NEURON\n",
      "*     Population: Exc with 12 components of type NeuroML2_file_exported_from_NEURON\n",
      "*     Population: Exc with 1 components of type NeuroML2_file_exported_from_NEURON\n",
      "*     Population: Exc with 2 components of type NeuroML2_file_exported_from_NEURON\n",
      "*     Population: Exc with 3 components of type NeuroML2_file_exported_from_NEURON\n",
      "*     Population: Exc with 2 components of type NeuroML2_file_exported_from_NEURON\n",
      "*     Population: Exc with 1 components of type NeuroML2_file_exported_from_NEURON\n",
      "*     Population: Exc with 2 components of type NeuroML2_file_exported_from_NEURON\n",
      "*     Population: Exc with 1 components of type NeuroML2_file_exported_from_NEURON\n",
      "*     Population: Exc with 1 components of type NeuroML2_file_exported_from_NEURON\n",
      "*     Population: Exc with 3 components of type NeuroML2_file_exported_from_NEURON\n",
      "*     Population: Exc with 1 components of type NeuroML2_file_exported_from_NEURON\n",
      "*     Population: Exc with 2 components of type NeuroML2_file_exported_from_NEURON\n",
      "*     Population: Exc with 1 components of type NeuroML2_file_exported_from_NEURON\n",
      "*     Population: Exc with 2 components of type NeuroML2_file_exported_from_NEURON\n",
      "*     Population: Exc with 1 components of type NeuroML2_file_exported_from_NEURON\n",
      "*     Population: Exc with 2 components of type NeuroML2_file_exported_from_NEURON\n",
      "*     Population: Exc with 1 components of type NeuroML2_file_exported_from_NEURON\n",
      "*     Population: Exc with 1 components of type NeuroML2_file_exported_from_NEURON\n",
      "*     Population: Exc with 1 components of type NeuroML2_file_exported_from_NEURON\n",
      "*     Population: Exc with 15 components of type NeuroML2_file_exported_from_NEURON\n",
      "*     Population: Exc with 15 components of type NeuroML2_file_exported_from_NEURON\n",
      "*     Population: Exc with 18 components of type NeuroML2_file_exported_from_NEURON\n",
      "*     Population: Exc with 7 components of type NeuroML2_file_exported_from_NEURON\n",
      "*     Population: Exc with 18 components of type NeuroML2_file_exported_from_NEURON\n",
      "*     Population: Exc with 12 components of type NeuroML2_file_exported_from_NEURON\n",
      "*     Population: Exc with 7 components of type NeuroML2_file_exported_from_NEURON\n",
      "*     Population: Exc with 7 components of type NeuroML2_file_exported_from_NEURON\n",
      "*     Population: Exc with 9 components of type NeuroML2_file_exported_from_NEURON\n",
      "*     Population: Exc with 6 components of type NeuroML2_file_exported_from_NEURON\n",
      "*     Population: Exc with 14 components of type NeuroML2_file_exported_from_NEURON\n",
      "*     Population: Exc with 3 components of type NeuroML2_file_exported_from_NEURON\n",
      "*     Population: Exc with 3 components of type NeuroML2_file_exported_from_NEURON\n",
      "*     Population: Exc with 6 components of type NeuroML2_file_exported_from_NEURON\n",
      "*     Population: Exc with 2 components of type NeuroML2_file_exported_from_NEURON\n",
      "*     Population: Exc with 5 components of type NeuroML2_file_exported_from_NEURON\n",
      "*     Population: Exc with 5 components of type NeuroML2_file_exported_from_NEURON\n",
      "*     Population: Exc with 3 components of type NeuroML2_file_exported_from_NEURON\n",
      "*     Population: Exc with 6 components of type NeuroML2_file_exported_from_NEURON\n",
      "*     Population: Exc with 1 components of type NeuroML2_file_exported_from_NEURON\n",
      "*     Population: Exc with 3 components of type NeuroML2_file_exported_from_NEURON\n",
      "*     Population: Exc with 1 components of type NeuroML2_file_exported_from_NEURON\n",
      "*     Population: Exc with 4 components of type NeuroML2_file_exported_from_NEURON\n",
      "*     Population: Exc with 6 components of type NeuroML2_file_exported_from_NEURON\n",
      "*     Population: Exc with 3 components of type NeuroML2_file_exported_from_NEURON\n",
      "*     Population: Exc with 2 components of type NeuroML2_file_exported_from_NEURON\n",
      "*     Population: Exc with 1 components of type NeuroML2_file_exported_from_NEURON\n",
      "*     Population: Exc with 2 components of type NeuroML2_file_exported_from_NEURON\n",
      "*     Population: Exc with 8 components of type NeuroML2_file_exported_from_NEURON\n",
      "*     Population: Exc with 1 components of type NeuroML2_file_exported_from_NEURON\n",
      "*     Population: Exc with 1 components of type NeuroML2_file_exported_from_NEURON\n",
      "*     Population: Exc with 3 components of type NeuroML2_file_exported_from_NEURON\n",
      "*     Population: Exc with 1 components of type NeuroML2_file_exported_from_NEURON\n",
      "*     Population: Exc with 2 components of type NeuroML2_file_exported_from_NEURON\n",
      "*     Population: Exc with 1 components of type NeuroML2_file_exported_from_NEURON\n",
      "*     Population: Exc with 3 components of type NeuroML2_file_exported_from_NEURON\n",
      "*     Population: Exc with 8 components of type NeuroML2_file_exported_from_NEURON\n",
      "*     Population: Exc with 6 components of type NeuroML2_file_exported_from_NEURON\n",
      "*     Population: Exc with 10 components of type NeuroML2_file_exported_from_NEURON\n",
      "*     Population: Exc with 3 components of type NeuroML2_file_exported_from_NEURON\n",
      "*     Population: Exc with 5 components of type NeuroML2_file_exported_from_NEURON\n",
      "*     Population: Exc with 6 components of type NeuroML2_file_exported_from_NEURON\n",
      "*     Population: Exc with 5 components of type NeuroML2_file_exported_from_NEURON\n",
      "*     Population: Exc with 7 components of type NeuroML2_file_exported_from_NEURON\n",
      "*     Population: Exc with 8 components of type NeuroML2_file_exported_from_NEURON\n",
      "*     Population: Exc with 10 components of type NeuroML2_file_exported_from_NEURON\n",
      "*     Population: Exc with 2 components of type NeuroML2_file_exported_from_NEURON\n",
      "*     Population: Exc with 5 components of type NeuroML2_file_exported_from_NEURON\n",
      "*     Population: Exc with 4 components of type NeuroML2_file_exported_from_NEURON\n",
      "*     Population: Exc with 3 components of type NeuroML2_file_exported_from_NEURON\n",
      "*     Population: Exc with 1 components of type NeuroML2_file_exported_from_NEURON\n",
      "*     Population: Exc with 4 components of type NeuroML2_file_exported_from_NEURON\n",
      "*     Population: Exc with 5 components of type NeuroML2_file_exported_from_NEURON\n",
      "*     Population: Exc with 5 components of type NeuroML2_file_exported_from_NEURON\n",
      "*     Population: Exc with 2 components of type NeuroML2_file_exported_from_NEURON\n",
      "*     Population: Exc with 2 components of type NeuroML2_file_exported_from_NEURON\n",
      "*     Population: Exc with 2 components of type NeuroML2_file_exported_from_NEURON\n",
      "*     Population: Exc with 1 components of type NeuroML2_file_exported_from_NEURON\n",
      "*     Population: Exc with 1 components of type NeuroML2_file_exported_from_NEURON\n",
      "*     Population: Exc with 9 components of type NeuroML2_file_exported_from_NEURON\n",
      "*     Population: Exc with 4 components of type NeuroML2_file_exported_from_NEURON\n",
      "*     Population: Exc with 10 components of type NeuroML2_file_exported_from_NEURON\n",
      "*     Population: Exc with 11 components of type NeuroML2_file_exported_from_NEURON\n",
      "*     Population: Exc with 4 components of type NeuroML2_file_exported_from_NEURON\n",
      "*     Population: Exc with 4 components of type NeuroML2_file_exported_from_NEURON\n",
      "*     Population: Exc with 4 components of type NeuroML2_file_exported_from_NEURON\n",
      "*     Population: Exc with 3 components of type NeuroML2_file_exported_from_NEURON\n",
      "*     Population: Exc with 3 components of type NeuroML2_file_exported_from_NEURON\n",
      "*     Population: Exc with 4 components of type NeuroML2_file_exported_from_NEURON\n",
      "*     Population: Exc with 7 components of type NeuroML2_file_exported_from_NEURON\n",
      "*     Population: Exc with 1 components of type NeuroML2_file_exported_from_NEURON\n",
      "*     Population: Exc with 2 components of type NeuroML2_file_exported_from_NEURON\n",
      "*     Population: Exc with 1 components of type NeuroML2_file_exported_from_NEURON\n",
      "*     Population: Exc with 3 components of type NeuroML2_file_exported_from_NEURON\n",
      "*     Population: Exc with 2 components of type NeuroML2_file_exported_from_NEURON\n",
      "*     Population: Exc with 2 components of type NeuroML2_file_exported_from_NEURON\n",
      "*     Population: Exc with 4 components of type NeuroML2_file_exported_from_NEURON\n",
      "*     Population: Exc with 3 components of type NeuroML2_file_exported_from_NEURON\n",
      "*     Population: Exc with 1 components of type NeuroML2_file_exported_from_NEURON\n",
      "*     Population: Exc with 2 components of type NeuroML2_file_exported_from_NEURON\n",
      "*     Population: Exc with 2 components of type NeuroML2_file_exported_from_NEURON\n",
      "*     Population: Exc with 2 components of type NeuroML2_file_exported_from_NEURON\n",
      "*     Population: Exc with 1 components of type NeuroML2_file_exported_from_NEURON\n",
      "*     Population: Exc with 1 components of type NeuroML2_file_exported_from_NEURON\n",
      "*     Population: Exc with 1 components of type NeuroML2_file_exported_from_NEURON\n",
      "*     Population: Exc with 8 components of type NeuroML2_file_exported_from_NEURON\n",
      "*     Population: Exc with 1 components of type NeuroML2_file_exported_from_NEURON\n",
      "*     Population: Exc with 4 components of type NeuroML2_file_exported_from_NEURON\n",
      "*     Population: Exc with 3 components of type NeuroML2_file_exported_from_NEURON\n",
      "*     Population: Exc with 1 components of type NeuroML2_file_exported_from_NEURON\n",
      "*     Population: Exc with 5 components of type NeuroML2_file_exported_from_NEURON\n",
      "*     Population: Exc with 1 components of type NeuroML2_file_exported_from_NEURON\n",
      "*     Population: Exc with 2 components of type NeuroML2_file_exported_from_NEURON\n",
      "*     Population: Exc with 4 components of type NeuroML2_file_exported_from_NEURON\n",
      "*     Population: Exc with 2 components of type NeuroML2_file_exported_from_NEURON\n",
      "*     Population: Exc with 1 components of type NeuroML2_file_exported_from_NEURON\n",
      "*     Population: Exc with 1 components of type NeuroML2_file_exported_from_NEURON\n",
      "*     Population: Exc with 2 components of type NeuroML2_file_exported_from_NEURON\n",
      "*     Population: Exc with 2 components of type NeuroML2_file_exported_from_NEURON\n",
      "*     Population: Exc with 3 components of type NeuroML2_file_exported_from_NEURON\n",
      "*     Population: Exc with 1 components of type NeuroML2_file_exported_from_NEURON\n",
      "*     Population: Exc with 684 components of type NeuroML2_file_exported_from_NEURON\n",
      "*     Population: Exc with 716 components of type NeuroML2_file_exported_from_NEURON\n",
      "*     Population: Exc with 660 components of type NeuroML2_file_exported_from_NEURON\n",
      "*     Population: Exc with 712 components of type NeuroML2_file_exported_from_NEURON\n",
      "*     Population: Exc with 684 components of type NeuroML2_file_exported_from_NEURON\n",
      "*     Population: Exc with 17 components of type NeuroML2_file_exported_from_NEURON\n",
      "*     Population: Exc with 5 components of type NeuroML2_file_exported_from_NEURON\n",
      "*     Population: Exc with 3 components of type NeuroML2_file_exported_from_NEURON\n",
      "*     Population: Exc with 4 components of type NeuroML2_file_exported_from_NEURON\n",
      "*     Population: Exc with 6 components of type NeuroML2_file_exported_from_NEURON\n",
      "*     Population: Exc with 7 components of type NeuroML2_file_exported_from_NEURON\n",
      "*     Population: Exc with 2 components of type NeuroML2_file_exported_from_NEURON\n",
      "*     Population: Exc with 17 components of type NeuroML2_file_exported_from_NEURON\n",
      "*     Population: Exc with 7 components of type NeuroML2_file_exported_from_NEURON\n",
      "*     Population: Exc with 8 components of type NeuroML2_file_exported_from_NEURON\n",
      "*     Population: Exc with 4 components of type NeuroML2_file_exported_from_NEURON\n",
      "*     Population: Exc with 4 components of type NeuroML2_file_exported_from_NEURON\n",
      "*     Population: Exc with 7 components of type NeuroML2_file_exported_from_NEURON\n",
      "*     Population: Exc with 3 components of type NeuroML2_file_exported_from_NEURON\n",
      "*     Population: Exc with 1 components of type NeuroML2_file_exported_from_NEURON\n",
      "*     Population: Exc with 4 components of type NeuroML2_file_exported_from_NEURON\n",
      "*     Population: Exc with 5 components of type NeuroML2_file_exported_from_NEURON\n",
      "*     Population: Exc with 2 components of type NeuroML2_file_exported_from_NEURON\n",
      "*     Population: Exc with 7 components of type NeuroML2_file_exported_from_NEURON\n",
      "*     Population: Exc with 4 components of type NeuroML2_file_exported_from_NEURON\n",
      "*     Population: Exc with 7 components of type NeuroML2_file_exported_from_NEURON\n",
      "*     Population: Exc with 6 components of type NeuroML2_file_exported_from_NEURON\n",
      "*     Population: Exc with 1 components of type NeuroML2_file_exported_from_NEURON\n",
      "*     Population: Exc with 4 components of type NeuroML2_file_exported_from_NEURON\n",
      "*     Population: Exc with 7 components of type NeuroML2_file_exported_from_NEURON\n",
      "*     Population: Exc with 6 components of type NeuroML2_file_exported_from_NEURON\n",
      "*     Population: Exc with 7 components of type NeuroML2_file_exported_from_NEURON\n",
      "*     Population: Exc with 1 components of type NeuroML2_file_exported_from_NEURON\n",
      "*     Population: Exc with 6 components of type NeuroML2_file_exported_from_NEURON\n",
      "*     Population: Exc with 4 components of type NeuroML2_file_exported_from_NEURON\n",
      "*     Population: Exc with 3 components of type NeuroML2_file_exported_from_NEURON\n",
      "*     Population: Exc with 7 components of type NeuroML2_file_exported_from_NEURON\n",
      "*     Population: Exc with 1 components of type NeuroML2_file_exported_from_NEURON\n",
      "*     Population: Exc with 3 components of type NeuroML2_file_exported_from_NEURON\n",
      "*     Population: Exc with 2 components of type NeuroML2_file_exported_from_NEURON\n",
      "*     Population: Exc with 1 components of type NeuroML2_file_exported_from_NEURON\n",
      "*     Population: Exc with 5 components of type NeuroML2_file_exported_from_NEURON\n",
      "*     Population: Exc with 3 components of type NeuroML2_file_exported_from_NEURON\n",
      "*     Population: Exc with 3 components of type NeuroML2_file_exported_from_NEURON\n",
      "*     Population: Exc with 4 components of type NeuroML2_file_exported_from_NEURON\n",
      "*     Population: Exc with 5 components of type NeuroML2_file_exported_from_NEURON\n",
      "*     Population: Exc with 9 components of type NeuroML2_file_exported_from_NEURON\n",
      "*     Population: Exc with 2 components of type NeuroML2_file_exported_from_NEURON\n",
      "*     Population: Exc with 1 components of type NeuroML2_file_exported_from_NEURON\n",
      "*     Population: Exc with 4 components of type NeuroML2_file_exported_from_NEURON\n",
      "*     Population: Exc with 4 components of type NeuroML2_file_exported_from_NEURON\n",
      "*     Population: Exc with 1 components of type NeuroML2_file_exported_from_NEURON\n",
      "*     Population: Exc with 1 components of type NeuroML2_file_exported_from_NEURON\n",
      "*     Population: Exc with 1 components of type NeuroML2_file_exported_from_NEURON\n",
      "*     Population: Exc with 1 components of type NeuroML2_file_exported_from_NEURON\n",
      "*     Population: Exc with 2 components of type NeuroML2_file_exported_from_NEURON\n",
      "*     Population: Exc with 1 components of type NeuroML2_file_exported_from_NEURON\n",
      "*     Population: Exc with 1 components of type NeuroML2_file_exported_from_NEURON\n",
      "*     Population: Exc with 1 components of type NeuroML2_file_exported_from_NEURON\n",
      "*     Population: Exc with 2 components of type NeuroML2_file_exported_from_NEURON\n",
      "*     Population: Exc with 3 components of type NeuroML2_file_exported_from_NEURON\n",
      "*     Population: Exc with 6 components of type NeuroML2_file_exported_from_NEURON\n",
      "*     Population: Exc with 1 components of type NeuroML2_file_exported_from_NEURON\n",
      "*     Population: Exc with 2 components of type NeuroML2_file_exported_from_NEURON\n",
      "*     Population: Exc with 2 components of type NeuroML2_file_exported_from_NEURON\n",
      "*     Population: Exc with 2 components of type NeuroML2_file_exported_from_NEURON\n",
      "*     Population: Exc with 2 components of type NeuroML2_file_exported_from_NEURON\n",
      "*     Population: Exc with 1 components of type NeuroML2_file_exported_from_NEURON\n",
      "*     Population: Exc with 1 components of type NeuroML2_file_exported_from_NEURON\n",
      "*     Population: Exc with 1 components of type NeuroML2_file_exported_from_NEURON\n",
      "*     Population: Exc with 2 components of type NeuroML2_file_exported_from_NEURON\n",
      "*     Population: Exc with 1 components of type NeuroML2_file_exported_from_NEURON\n",
      "*     Population: Exc with 1 components of type NeuroML2_file_exported_from_NEURON\n",
      "*     Population: Exc with 1 components of type NeuroML2_file_exported_from_NEURON\n",
      "*     Population: Exc with 1 components of type NeuroML2_file_exported_from_NEURON\n",
      "*     Population: Exc with 8 components of type NeuroML2_file_exported_from_NEURON\n",
      "*     Population: Exc with 3 components of type NeuroML2_file_exported_from_NEURON\n",
      "*     Population: Exc with 17 components of type NeuroML2_file_exported_from_NEURON\n",
      "*     Population: Exc with 17 components of type NeuroML2_file_exported_from_NEURON\n",
      "*     Population: Exc with 17 components of type NeuroML2_file_exported_from_NEURON\n",
      "*     Population: Exc with 4 components of type NeuroML2_file_exported_from_NEURON\n",
      "*     Population: Exc with 13 components of type NeuroML2_file_exported_from_NEURON\n",
      "*     Population: Exc with 6 components of type NeuroML2_file_exported_from_NEURON\n",
      "*     Population: Exc with 9 components of type NeuroML2_file_exported_from_NEURON\n",
      "*     Population: Exc with 1 components of type NeuroML2_file_exported_from_NEURON\n",
      "*     Population: Exc with 17 components of type NeuroML2_file_exported_from_NEURON\n",
      "*     Population: Exc with 10 components of type NeuroML2_file_exported_from_NEURON\n",
      "*     Population: Exc with 6 components of type NeuroML2_file_exported_from_NEURON\n",
      "*     Population: Exc with 2 components of type NeuroML2_file_exported_from_NEURON\n",
      "*     Population: Exc with 6 components of type NeuroML2_file_exported_from_NEURON\n",
      "*     Population: Exc with 4 components of type NeuroML2_file_exported_from_NEURON\n",
      "*     Population: Exc with 10 components of type NeuroML2_file_exported_from_NEURON\n",
      "*     Population: Exc with 3 components of type NeuroML2_file_exported_from_NEURON\n",
      "*     Population: Exc with 2 components of type NeuroML2_file_exported_from_NEURON\n",
      "*     Population: Exc with 5 components of type NeuroML2_file_exported_from_NEURON\n",
      "*     Population: Exc with 2 components of type NeuroML2_file_exported_from_NEURON\n",
      "*     Population: Exc with 4 components of type NeuroML2_file_exported_from_NEURON\n",
      "*     Population: Exc with 7 components of type NeuroML2_file_exported_from_NEURON\n",
      "*     Population: Exc with 5 components of type NeuroML2_file_exported_from_NEURON\n",
      "*     Population: Exc with 9 components of type NeuroML2_file_exported_from_NEURON\n",
      "*     Population: Exc with 3 components of type NeuroML2_file_exported_from_NEURON\n",
      "*     Population: Exc with 3 components of type NeuroML2_file_exported_from_NEURON\n",
      "*     Population: Exc with 4 components of type NeuroML2_file_exported_from_NEURON\n",
      "*     Population: Exc with 1 components of type NeuroML2_file_exported_from_NEURON\n",
      "*     Population: Exc with 5 components of type NeuroML2_file_exported_from_NEURON\n",
      "*     Population: Exc with 4 components of type NeuroML2_file_exported_from_NEURON\n",
      "*     Population: Exc with 1 components of type NeuroML2_file_exported_from_NEURON\n",
      "*     Population: Exc with 1 components of type NeuroML2_file_exported_from_NEURON\n",
      "*     Population: Exc with 1 components of type NeuroML2_file_exported_from_NEURON\n",
      "*     Population: Exc with 55 components of type NeuroML2_file_exported_from_NEURON\n",
      "*     Population: Exc with 62 components of type NeuroML2_file_exported_from_NEURON\n",
      "*     Population: Exc with 61 components of type NeuroML2_file_exported_from_NEURON\n",
      "*     Population: Exc with 63 components of type NeuroML2_file_exported_from_NEURON\n",
      "*     Population: Exc with 61 components of type NeuroML2_file_exported_from_NEURON\n",
      "*     Population: Exc with 2 components of type NeuroML2_file_exported_from_NEURON\n",
      "*     Population: Exc with 1 components of type NeuroML2_file_exported_from_NEURON\n",
      "*     Population: Exc with 1 components of type NeuroML2_file_exported_from_NEURON\n",
      "*     Population: Exc with 2 components of type NeuroML2_file_exported_from_NEURON\n",
      "*     Population: Exc with 1 components of type NeuroML2_file_exported_from_NEURON\n",
      "*     Population: Exc with 1 components of type NeuroML2_file_exported_from_NEURON\n",
      "*     Population: Exc with 1 components of type NeuroML2_file_exported_from_NEURON\n",
      "*     Population: Exc with 2 components of type NeuroML2_file_exported_from_NEURON\n",
      "*     Population: Exc with 6 components of type NeuroML2_file_exported_from_NEURON\n",
      "*     Population: Exc with 1 components of type NeuroML2_file_exported_from_NEURON\n",
      "*     Population: Exc with 3 components of type NeuroML2_file_exported_from_NEURON\n",
      "*     Population: Exc with 3 components of type NeuroML2_file_exported_from_NEURON\n",
      "*     Population: Exc with 4 components of type NeuroML2_file_exported_from_NEURON\n",
      "*     Population: Exc with 2 components of type NeuroML2_file_exported_from_NEURON\n",
      "*     Population: Exc with 1 components of type NeuroML2_file_exported_from_NEURON\n",
      "*     Population: Exc with 1 components of type NeuroML2_file_exported_from_NEURON\n",
      "*     Population: Exc with 1 components of type NeuroML2_file_exported_from_NEURON\n",
      "*     Population: Exc with 2 components of type NeuroML2_file_exported_from_NEURON\n",
      "*     Population: Exc with 21 components of type NeuroML2_file_exported_from_NEURON\n",
      "*     Population: Exc with 21 components of type NeuroML2_file_exported_from_NEURON\n",
      "*     Population: Exc with 5 components of type NeuroML2_file_exported_from_NEURON\n",
      "*     Population: Exc with 4 components of type NeuroML2_file_exported_from_NEURON\n",
      "*     Population: Exc with 8 components of type NeuroML2_file_exported_from_NEURON\n",
      "*     Population: Exc with 5 components of type NeuroML2_file_exported_from_NEURON\n",
      "*     Population: Exc with 8 components of type NeuroML2_file_exported_from_NEURON\n",
      "*     Population: Exc with 7 components of type NeuroML2_file_exported_from_NEURON\n",
      "*     Population: Exc with 13 components of type NeuroML2_file_exported_from_NEURON\n",
      "*     Population: Exc with 3 components of type NeuroML2_file_exported_from_NEURON\n",
      "*     Population: Exc with 8 components of type NeuroML2_file_exported_from_NEURON\n",
      "*     Population: Exc with 2 components of type NeuroML2_file_exported_from_NEURON\n",
      "*     Population: Exc with 2 components of type NeuroML2_file_exported_from_NEURON\n",
      "*     Population: Exc with 3 components of type NeuroML2_file_exported_from_NEURON\n",
      "*     Population: Exc with 13 components of type NeuroML2_file_exported_from_NEURON\n",
      "*     Population: Exc with 3 components of type NeuroML2_file_exported_from_NEURON\n",
      "*     Population: Exc with 14 components of type NeuroML2_file_exported_from_NEURON\n",
      "*     Population: Exc with 11 components of type NeuroML2_file_exported_from_NEURON\n",
      "*     Population: Exc with 4 components of type NeuroML2_file_exported_from_NEURON\n",
      "*     Population: Exc with 3 components of type NeuroML2_file_exported_from_NEURON\n",
      "*     Population: Exc with 3 components of type NeuroML2_file_exported_from_NEURON\n",
      "*     Population: Exc with 5 components of type NeuroML2_file_exported_from_NEURON\n",
      "*     Population: Exc with 5 components of type NeuroML2_file_exported_from_NEURON\n",
      "*     Population: Exc with 3 components of type NeuroML2_file_exported_from_NEURON\n",
      "*     Population: Exc with 3 components of type NeuroML2_file_exported_from_NEURON\n",
      "*     Population: Exc with 6 components of type NeuroML2_file_exported_from_NEURON\n",
      "*     Population: Exc with 1 components of type NeuroML2_file_exported_from_NEURON\n",
      "*     Population: Exc with 1 components of type NeuroML2_file_exported_from_NEURON\n",
      "*     Population: Exc with 2 components of type NeuroML2_file_exported_from_NEURON\n",
      "*     Population: Exc with 3 components of type NeuroML2_file_exported_from_NEURON\n",
      "*     Population: Exc with 4 components of type NeuroML2_file_exported_from_NEURON\n",
      "*     Population: Exc with 1 components of type NeuroML2_file_exported_from_NEURON\n",
      "*     Population: Exc with 2 components of type NeuroML2_file_exported_from_NEURON\n",
      "*     Population: Exc with 1 components of type NeuroML2_file_exported_from_NEURON\n",
      "*     Population: Exc with 1 components of type NeuroML2_file_exported_from_NEURON\n",
      "*     Population: Exc with 3 components of type NeuroML2_file_exported_from_NEURON\n",
      "*     Population: Exc with 1 components of type NeuroML2_file_exported_from_NEURON\n",
      "*     Population: Exc with 2 components of type NeuroML2_file_exported_from_NEURON\n",
      "*     Population: Exc with 3 components of type NeuroML2_file_exported_from_NEURON\n",
      "*     Population: Exc with 2 components of type NeuroML2_file_exported_from_NEURON\n",
      "*     Population: Exc with 2 components of type NeuroML2_file_exported_from_NEURON\n",
      "*     Population: Exc with 1 components of type NeuroML2_file_exported_from_NEURON\n",
      "*     Population: Exc with 2 components of type NeuroML2_file_exported_from_NEURON\n",
      "*     Population: Exc with 2 components of type NeuroML2_file_exported_from_NEURON\n",
      "*     Population: Exc with 1 components of type NeuroML2_file_exported_from_NEURON\n",
      "*     Population: Exc with 6 components of type NeuroML2_file_exported_from_NEURON\n",
      "*     Population: Exc with 5 components of type NeuroML2_file_exported_from_NEURON\n",
      "*     Population: Exc with 6 components of type NeuroML2_file_exported_from_NEURON\n",
      "*     Population: Exc with 4 components of type NeuroML2_file_exported_from_NEURON\n",
      "*     Population: Exc with 11 components of type NeuroML2_file_exported_from_NEURON\n",
      "*     Population: Exc with 6 components of type NeuroML2_file_exported_from_NEURON\n",
      "*     Population: Exc with 3 components of type NeuroML2_file_exported_from_NEURON\n",
      "*     Population: Exc with 6 components of type NeuroML2_file_exported_from_NEURON\n",
      "*     Population: Exc with 6 components of type NeuroML2_file_exported_from_NEURON\n",
      "*     Population: Exc with 4 components of type NeuroML2_file_exported_from_NEURON\n",
      "*     Population: Exc with 4 components of type NeuroML2_file_exported_from_NEURON\n",
      "*     Population: Exc with 10 components of type NeuroML2_file_exported_from_NEURON\n",
      "*     Population: Exc with 2 components of type NeuroML2_file_exported_from_NEURON\n",
      "*     Population: Exc with 3 components of type NeuroML2_file_exported_from_NEURON\n",
      "*     Population: Exc with 509 components of type NeuroML2_file_exported_from_NEURON\n",
      "*     Population: Exc with 486 components of type NeuroML2_file_exported_from_NEURON\n",
      "*     Population: Exc with 484 components of type NeuroML2_file_exported_from_NEURON\n",
      "*     Population: Exc with 478 components of type NeuroML2_file_exported_from_NEURON\n",
      "*     Population: Exc with 446 components of type NeuroML2_file_exported_from_NEURON\n",
      "*     Population: Exc with 14 components of type NeuroML2_file_exported_from_NEURON\n",
      "*     Population: Exc with 19 components of type NeuroML2_file_exported_from_NEURON\n",
      "*     Population: Exc with 14 components of type NeuroML2_file_exported_from_NEURON\n",
      "*     Population: Exc with 29 components of type NeuroML2_file_exported_from_NEURON\n",
      "*     Population: Exc with 12 components of type NeuroML2_file_exported_from_NEURON\n",
      "*     Population: Exc with 33 components of type NeuroML2_file_exported_from_NEURON\n",
      "*     Population: Exc with 30 components of type NeuroML2_file_exported_from_NEURON\n",
      "*     Population: Exc with 11 components of type NeuroML2_file_exported_from_NEURON\n",
      "*     Population: Exc with 8 components of type NeuroML2_file_exported_from_NEURON\n",
      "*     Population: Exc with 15 components of type NeuroML2_file_exported_from_NEURON\n",
      "*     Population: Exc with 7 components of type NeuroML2_file_exported_from_NEURON\n",
      "*     Population: Exc with 33 components of type NeuroML2_file_exported_from_NEURON\n",
      "*     Population: Exc with 11 components of type NeuroML2_file_exported_from_NEURON\n",
      "*     Population: Exc with 15 components of type NeuroML2_file_exported_from_NEURON\n",
      "*     Population: Exc with 8 components of type NeuroML2_file_exported_from_NEURON\n",
      "*     Population: Exc with 28 components of type NeuroML2_file_exported_from_NEURON\n",
      "*     Population: Exc with 5 components of type NeuroML2_file_exported_from_NEURON\n",
      "*     Population: Exc with 13 components of type NeuroML2_file_exported_from_NEURON\n",
      "*     Population: Exc with 10 components of type NeuroML2_file_exported_from_NEURON\n",
      "*     Population: Exc with 5 components of type NeuroML2_file_exported_from_NEURON\n",
      "*     Population: Exc with 8 components of type NeuroML2_file_exported_from_NEURON\n",
      "*     Population: Exc with 10 components of type NeuroML2_file_exported_from_NEURON\n",
      "*     Population: Exc with 3 components of type NeuroML2_file_exported_from_NEURON\n",
      "*     Population: Exc with 14 components of type NeuroML2_file_exported_from_NEURON\n",
      "*     Population: Exc with 5 components of type NeuroML2_file_exported_from_NEURON\n",
      "*     Population: Exc with 3 components of type NeuroML2_file_exported_from_NEURON\n",
      "*     Population: Exc with 4 components of type NeuroML2_file_exported_from_NEURON\n",
      "*     Population: Exc with 1 components of type NeuroML2_file_exported_from_NEURON\n",
      "*     Population: Exc with 3 components of type NeuroML2_file_exported_from_NEURON\n",
      "*     Population: Exc with 7 components of type NeuroML2_file_exported_from_NEURON\n",
      "*     Population: Exc with 5 components of type NeuroML2_file_exported_from_NEURON\n",
      "*     Population: Exc with 2 components of type NeuroML2_file_exported_from_NEURON\n",
      "*     Population: Exc with 4 components of type NeuroML2_file_exported_from_NEURON\n",
      "*     Population: Exc with 3 components of type NeuroML2_file_exported_from_NEURON\n",
      "*     Population: Exc with 3 components of type NeuroML2_file_exported_from_NEURON\n",
      "*     Population: Exc with 64 components of type NeuroML2_file_exported_from_NEURON\n",
      "*     Population: Exc with 78 components of type NeuroML2_file_exported_from_NEURON\n",
      "*     Population: Exc with 70 components of type NeuroML2_file_exported_from_NEURON\n",
      "*     Population: Exc with 67 components of type NeuroML2_file_exported_from_NEURON\n",
      "*     Population: Exc with 63 components of type NeuroML2_file_exported_from_NEURON\n",
      "*     Population: Exc with 420 components of type NeuroML2_file_exported_from_NEURON\n",
      "*     Population: Exc with 407 components of type NeuroML2_file_exported_from_NEURON\n",
      "*     Population: Exc with 387 components of type NeuroML2_file_exported_from_NEURON\n",
      "*     Population: Exc with 387 components of type NeuroML2_file_exported_from_NEURON\n",
      "*     Population: Exc with 402 components of type NeuroML2_file_exported_from_NEURON\n",
      "*     Population: Exc with 2 components of type NeuroML2_file_exported_from_NEURON\n",
      "*     Population: Exc with 1 components of type NeuroML2_file_exported_from_NEURON\n",
      "*     Population: Exc with 1 components of type NeuroML2_file_exported_from_NEURON\n",
      "*     Population: Exc with 1 components of type NeuroML2_file_exported_from_NEURON\n",
      "*     Population: Exc with 1 components of type NeuroML2_file_exported_from_NEURON\n",
      "*     Population: Exc with 1 components of type NeuroML2_file_exported_from_NEURON\n",
      "*     Population: Exc with 1 components of type NeuroML2_file_exported_from_NEURON\n",
      "*     Population: Exc with 11 components of type NeuroML2_file_exported_from_NEURON\n",
      "*     Population: Exc with 1 components of type NeuroML2_file_exported_from_NEURON\n",
      "*     Population: Exc with 8 components of type NeuroML2_file_exported_from_NEURON\n",
      "*     Population: Exc with 10 components of type NeuroML2_file_exported_from_NEURON\n",
      "*     Population: Exc with 3 components of type NeuroML2_file_exported_from_NEURON\n",
      "*     Population: Exc with 7 components of type NeuroML2_file_exported_from_NEURON\n",
      "*     Population: Exc with 9 components of type NeuroML2_file_exported_from_NEURON\n",
      "*     Population: Exc with 11 components of type NeuroML2_file_exported_from_NEURON\n",
      "*     Population: Exc with 6 components of type NeuroML2_file_exported_from_NEURON\n",
      "*     Population: Exc with 6 components of type NeuroML2_file_exported_from_NEURON\n",
      "*     Population: Exc with 9 components of type NeuroML2_file_exported_from_NEURON\n",
      "*     Population: Exc with 4 components of type NeuroML2_file_exported_from_NEURON\n",
      "*     Population: Exc with 1 components of type NeuroML2_file_exported_from_NEURON\n",
      "*     Population: Exc with 2 components of type NeuroML2_file_exported_from_NEURON\n",
      "*     Population: Exc with 5 components of type NeuroML2_file_exported_from_NEURON\n",
      "*     Population: Exc with 3 components of type NeuroML2_file_exported_from_NEURON\n",
      "*     Population: Exc with 7 components of type NeuroML2_file_exported_from_NEURON\n",
      "*     Population: Exc with 7 components of type NeuroML2_file_exported_from_NEURON\n",
      "*     Population: Exc with 14 components of type NeuroML2_file_exported_from_NEURON\n",
      "*     Population: Exc with 2 components of type NeuroML2_file_exported_from_NEURON\n",
      "*     Population: Exc with 5 components of type NeuroML2_file_exported_from_NEURON\n",
      "*     Population: Exc with 9 components of type NeuroML2_file_exported_from_NEURON\n",
      "*     Population: Exc with 9 components of type NeuroML2_file_exported_from_NEURON\n",
      "*     Population: Exc with 9 components of type NeuroML2_file_exported_from_NEURON\n",
      "*     Population: Exc with 1 components of type NeuroML2_file_exported_from_NEURON\n",
      "*     Population: Exc with 14 components of type NeuroML2_file_exported_from_NEURON\n",
      "*     Population: Exc with 9 components of type NeuroML2_file_exported_from_NEURON\n",
      "*     Population: Exc with 8 components of type NeuroML2_file_exported_from_NEURON\n",
      "*     Population: Exc with 6 components of type NeuroML2_file_exported_from_NEURON\n",
      "*     Population: Exc with 3 components of type NeuroML2_file_exported_from_NEURON\n",
      "*     Population: Exc with 9 components of type NeuroML2_file_exported_from_NEURON\n",
      "*     Population: Exc with 1 components of type NeuroML2_file_exported_from_NEURON\n",
      "*     Population: Exc with 3 components of type NeuroML2_file_exported_from_NEURON\n",
      "*     Population: Exc with 2 components of type NeuroML2_file_exported_from_NEURON\n",
      "*     Population: Exc with 2 components of type NeuroML2_file_exported_from_NEURON\n",
      "*     Population: Exc with 1 components of type NeuroML2_file_exported_from_NEURON\n",
      "*     Population: Exc with 1 components of type NeuroML2_file_exported_from_NEURON\n",
      "*     Population: Exc with 2 components of type NeuroML2_file_exported_from_NEURON\n",
      "*     Population: Exc with 7 components of type NeuroML2_file_exported_from_NEURON\n",
      "*     Population: Exc with 8 components of type NeuroML2_file_exported_from_NEURON\n",
      "*     Population: Exc with 5 components of type NeuroML2_file_exported_from_NEURON\n",
      "*     Population: Exc with 10 components of type NeuroML2_file_exported_from_NEURON\n",
      "*     Population: Exc with 9 components of type NeuroML2_file_exported_from_NEURON\n",
      "*     Population: Exc with 5 components of type NeuroML2_file_exported_from_NEURON\n",
      "*     Population: Exc with 9 components of type NeuroML2_file_exported_from_NEURON\n",
      "*     Population: Exc with 10 components of type NeuroML2_file_exported_from_NEURON\n",
      "*     Population: Exc with 1 components of type NeuroML2_file_exported_from_NEURON\n",
      "*     Population: Exc with 8 components of type NeuroML2_file_exported_from_NEURON\n",
      "*     Population: Exc with 1 components of type NeuroML2_file_exported_from_NEURON\n",
      "*     Population: Exc with 5 components of type NeuroML2_file_exported_from_NEURON\n",
      "*     Population: Exc with 7 components of type NeuroML2_file_exported_from_NEURON\n",
      "*     Population: Exc with 4 components of type NeuroML2_file_exported_from_NEURON\n",
      "*     Population: Exc with 14 components of type NeuroML2_file_exported_from_NEURON\n",
      "*     Population: Exc with 1 components of type NeuroML2_file_exported_from_NEURON\n",
      "*     Population: Exc with 3 components of type NeuroML2_file_exported_from_NEURON\n",
      "*     Population: Exc with 4 components of type NeuroML2_file_exported_from_NEURON\n",
      "*     Population: Exc with 3 components of type NeuroML2_file_exported_from_NEURON\n",
      "*     Population: Exc with 1 components of type NeuroML2_file_exported_from_NEURON\n",
      "*     Population: Exc with 1 components of type NeuroML2_file_exported_from_NEURON\n",
      "*     Population: Exc with 77 components of type NeuroML2_file_exported_from_NEURON\n",
      "*     Population: Exc with 79 components of type NeuroML2_file_exported_from_NEURON\n",
      "*     Population: Exc with 80 components of type NeuroML2_file_exported_from_NEURON\n",
      "*     Population: Exc with 78 components of type NeuroML2_file_exported_from_NEURON\n",
      "*     Population: Exc with 92 components of type NeuroML2_file_exported_from_NEURON\n",
      "*     Population: Exc with 8 components of type NeuroML2_file_exported_from_NEURON\n",
      "*     Population: Exc with 5 components of type NeuroML2_file_exported_from_NEURON\n",
      "*     Population: Exc with 4 components of type NeuroML2_file_exported_from_NEURON\n",
      "*     Population: Exc with 8 components of type NeuroML2_file_exported_from_NEURON\n",
      "*     Population: Exc with 6 components of type NeuroML2_file_exported_from_NEURON\n",
      "*     Population: Exc with 4 components of type NeuroML2_file_exported_from_NEURON\n",
      "*     Population: Exc with 6 components of type NeuroML2_file_exported_from_NEURON\n",
      "*     Population: Exc with 3 components of type NeuroML2_file_exported_from_NEURON\n",
      "*     Population: Exc with 6 components of type NeuroML2_file_exported_from_NEURON\n",
      "*     Population: Exc with 3 components of type NeuroML2_file_exported_from_NEURON\n",
      "*     Population: Exc with 4 components of type NeuroML2_file_exported_from_NEURON\n",
      "*     Population: Exc with 2 components of type NeuroML2_file_exported_from_NEURON\n",
      "*     Population: Exc with 1 components of type NeuroML2_file_exported_from_NEURON\n",
      "*     Population: Exc with 5 components of type NeuroML2_file_exported_from_NEURON\n",
      "*     Population: Exc with 3 components of type NeuroML2_file_exported_from_NEURON\n",
      "*     Population: Exc with 3 components of type NeuroML2_file_exported_from_NEURON\n",
      "*     Population: Exc with 5 components of type NeuroML2_file_exported_from_NEURON\n",
      "*     Population: Exc with 3 components of type NeuroML2_file_exported_from_NEURON\n",
      "*     Population: Exc with 3 components of type NeuroML2_file_exported_from_NEURON\n",
      "*     Population: Exc with 6 components of type NeuroML2_file_exported_from_NEURON\n",
      "*     Population: Exc with 1 components of type NeuroML2_file_exported_from_NEURON\n",
      "*     Population: Exc with 1 components of type NeuroML2_file_exported_from_NEURON\n",
      "*     Population: Exc with 2 components of type NeuroML2_file_exported_from_NEURON\n",
      "*     Population: Exc with 2 components of type NeuroML2_file_exported_from_NEURON\n",
      "*     Population: Exc with 2 components of type NeuroML2_file_exported_from_NEURON\n",
      "*     Population: Exc with 1 components of type NeuroML2_file_exported_from_NEURON\n",
      "*     Population: Exc with 1 components of type NeuroML2_file_exported_from_NEURON\n",
      "*     Population: Exc with 1 components of type NeuroML2_file_exported_from_NEURON\n",
      "*     Population: Exc with 1 components of type NeuroML2_file_exported_from_NEURON\n",
      "*     Population: Exc with 195 components of type NeuroML2_file_exported_from_NEURON\n",
      "*     Population: Exc with 199 components of type NeuroML2_file_exported_from_NEURON\n",
      "*     Population: Exc with 235 components of type NeuroML2_file_exported_from_NEURON\n",
      "*     Population: Exc with 233 components of type NeuroML2_file_exported_from_NEURON\n",
      "*     Population: Exc with 236 components of type NeuroML2_file_exported_from_NEURON\n",
      "*     Population: Exc with 522 components of type NeuroML2_file_exported_from_NEURON\n",
      "*     Population: Exc with 555 components of type NeuroML2_file_exported_from_NEURON\n",
      "*     Population: Exc with 517 components of type NeuroML2_file_exported_from_NEURON\n",
      "*     Population: Exc with 545 components of type NeuroML2_file_exported_from_NEURON\n",
      "*     Population: Exc with 535 components of type NeuroML2_file_exported_from_NEURON\n",
      "*     Population: Exc with 2 components of type NeuroML2_file_exported_from_NEURON\n",
      "*     Population: Exc with 2 components of type NeuroML2_file_exported_from_NEURON\n",
      "*     Population: Exc with 4 components of type NeuroML2_file_exported_from_NEURON\n",
      "*     Population: Exc with 2 components of type NeuroML2_file_exported_from_NEURON\n",
      "*     Population: Exc with 1 components of type NeuroML2_file_exported_from_NEURON\n",
      "*     Population: Exc with 1 components of type NeuroML2_file_exported_from_NEURON\n",
      "*     Population: Exc with 1 components of type NeuroML2_file_exported_from_NEURON\n",
      "*     Population: Exc with 1 components of type NeuroML2_file_exported_from_NEURON\n",
      "*     Population: Exc with 1 components of type NeuroML2_file_exported_from_NEURON\n",
      "*     Population: Exc with 1 components of type NeuroML2_file_exported_from_NEURON\n",
      "*     Population: Exc with 1 components of type NeuroML2_file_exported_from_NEURON\n",
      "*     Population: Exc with 1 components of type NeuroML2_file_exported_from_NEURON\n",
      "*     Population: Exc with 1 components of type NeuroML2_file_exported_from_NEURON\n",
      "*     Population: Exc with 1 components of type NeuroML2_file_exported_from_NEURON\n",
      "*     Population: Exc with 1 components of type NeuroML2_file_exported_from_NEURON\n",
      "*     Population: Exc with 1 components of type NeuroML2_file_exported_from_NEURON\n",
      "*     Population: Exc with 1 components of type NeuroML2_file_exported_from_NEURON\n",
      "*     Population: Exc with 1 components of type NeuroML2_file_exported_from_NEURON\n",
      "*     Population: Exc with 1 components of type NeuroML2_file_exported_from_NEURON\n",
      "*     Population: Exc with 1 components of type NeuroML2_file_exported_from_NEURON\n",
      "*     Population: Exc with 1 components of type NeuroML2_file_exported_from_NEURON\n",
      "*     Population: Exc with 1 components of type NeuroML2_file_exported_from_NEURON\n",
      "*     Population: Exc with 1 components of type NeuroML2_file_exported_from_NEURON\n",
      "*     Population: Exc with 1 components of type NeuroML2_file_exported_from_NEURON\n",
      "*     Population: Exc with 1 components of type NeuroML2_file_exported_from_NEURON\n",
      "*     Population: Exc with 1 components of type NeuroML2_file_exported_from_NEURON\n",
      "*     Population: Exc with 1 components of type NeuroML2_file_exported_from_NEURON\n",
      "*     Population: Exc with 1 components of type NeuroML2_file_exported_from_NEURON\n",
      "*     Population: Exc with 9 components of type NeuroML2_file_exported_from_NEURON\n",
      "*     Population: Exc with 9 components of type NeuroML2_file_exported_from_NEURON\n",
      "*     Population: Exc with 6 components of type NeuroML2_file_exported_from_NEURON\n",
      "*     Population: Exc with 10 components of type NeuroML2_file_exported_from_NEURON\n",
      "*     Population: Exc with 8 components of type NeuroML2_file_exported_from_NEURON\n",
      "*     Population: Exc with 3 components of type NeuroML2_file_exported_from_NEURON\n",
      "*     Population: Exc with 3 components of type NeuroML2_file_exported_from_NEURON\n",
      "*     Population: Exc with 4 components of type NeuroML2_file_exported_from_NEURON\n",
      "*     Population: Exc with 2 components of type NeuroML2_file_exported_from_NEURON\n",
      "*     Population: Exc with 4 components of type NeuroML2_file_exported_from_NEURON\n",
      "*     Population: Exc with 2 components of type NeuroML2_file_exported_from_NEURON\n",
      "*     Population: Exc with 6 components of type NeuroML2_file_exported_from_NEURON\n",
      "*     Population: Exc with 10 components of type NeuroML2_file_exported_from_NEURON\n",
      "*     Population: Exc with 1 components of type NeuroML2_file_exported_from_NEURON\n",
      "*     Population: Exc with 5 components of type NeuroML2_file_exported_from_NEURON\n",
      "*     Population: Exc with 13 components of type NeuroML2_file_exported_from_NEURON\n",
      "*     Population: Exc with 5 components of type NeuroML2_file_exported_from_NEURON\n",
      "*     Population: Exc with 13 components of type NeuroML2_file_exported_from_NEURON\n",
      "*     Population: Exc with 6 components of type NeuroML2_file_exported_from_NEURON\n",
      "*     Population: Exc with 12 components of type NeuroML2_file_exported_from_NEURON\n",
      "*     Population: Exc with 2 components of type NeuroML2_file_exported_from_NEURON\n",
      "*     Population: Exc with 15 components of type NeuroML2_file_exported_from_NEURON\n",
      "*     Population: Exc with 16 components of type NeuroML2_file_exported_from_NEURON\n",
      "*     Population: Exc with 1 components of type NeuroML2_file_exported_from_NEURON\n",
      "*     Population: Exc with 2 components of type NeuroML2_file_exported_from_NEURON\n",
      "*     Population: Exc with 4 components of type NeuroML2_file_exported_from_NEURON\n",
      "*     Population: Exc with 1 components of type NeuroML2_file_exported_from_NEURON\n",
      "*     Population: Exc with 1 components of type NeuroML2_file_exported_from_NEURON\n",
      "*     Population: Exc with 6 components of type NeuroML2_file_exported_from_NEURON\n",
      "*     Population: Exc with 8 components of type NeuroML2_file_exported_from_NEURON\n",
      "*     Population: Exc with 6 components of type NeuroML2_file_exported_from_NEURON\n",
      "*     Population: Exc with 5 components of type NeuroML2_file_exported_from_NEURON\n",
      "*     Population: Exc with 6 components of type NeuroML2_file_exported_from_NEURON\n",
      "*     Population: Exc with 2 components of type NeuroML2_file_exported_from_NEURON\n",
      "*     Population: Exc with 1 components of type NeuroML2_file_exported_from_NEURON\n",
      "*     Population: Exc with 2 components of type NeuroML2_file_exported_from_NEURON\n",
      "*     Population: Exc with 1 components of type NeuroML2_file_exported_from_NEURON\n",
      "*     Population: Exc with 1 components of type NeuroML2_file_exported_from_NEURON\n",
      "*     Population: Exc with 1 components of type NeuroML2_file_exported_from_NEURON\n",
      "*     Population: Exc with 2 components of type NeuroML2_file_exported_from_NEURON\n",
      "*\n",
      "*   118798 connections in 1069 projections \n",
      "*     Projection: Proj_ from Exc to Exc, synapse: L6_BP_L4_SS\n",
      "*       134 connections (wd): [(Connection 0: 0 -> 0, weight: 0.407792, delay: 0.00000 ms), ...]\n",
      "*     Projection: Proj_ from Exc to Exc, synapse: L6_BP_L4_SS\n",
      "*       131 connections (wd): [(Connection 0: 0 -> 0, weight: 0.835682, delay: 0.00000 ms), ...]\n",
      "*     Projection: Proj_ from Exc to Exc, synapse: L6_BP_L4_SS\n",
      "*       126 connections (wd): [(Connection 0: 0 -> 0, weight: 0.183242, delay: 0.00000 ms), ...]\n",
      "*     Projection: Proj_ from Exc to Exc, synapse: L6_BP_L4_SS\n",
      "*       137 connections (wd): [(Connection 0: 0 -> 1, weight: 0.445168, delay: 0.00000 ms), ...]\n",
      "*     Projection: Proj_ from Exc to Exc, synapse: L6_BP_L4_SS\n",
      "*       161 connections (wd): [(Connection 0: 0 -> 1, weight: 0.504604, delay: 0.00000 ms), ...]\n",
      "*     Projection: Proj_ from Exc to Exc, synapse: L6_BP_L4_SS\n",
      "*       87 connections (wd): [(Connection 0: 0 -> 0, weight: 0.153371, delay: 0.00000 ms), ...]\n",
      "*     Projection: Proj_ from Exc to Exc, synapse: L6_BP_L4_SS\n",
      "*       91 connections (wd): [(Connection 0: 0 -> 0, weight: 0.186879, delay: 0.00000 ms), ...]\n",
      "*     Projection: Proj_ from Exc to Exc, synapse: L6_BP_L4_SS\n",
      "*       75 connections (wd): [(Connection 0: 0 -> 1, weight: 0.548140, delay: 0.00000 ms), ...]\n",
      "*     Projection: Proj_ from Exc to Exc, synapse: L6_BP_L4_SS\n",
      "*       88 connections (wd): [(Connection 0: 0 -> 1, weight: 0.363001, delay: 0.00000 ms), ...]\n",
      "*     Projection: Proj_ from Exc to Exc, synapse: L6_BP_L4_SS\n",
      "*       99 connections (wd): [(Connection 0: 0 -> 1, weight: 0.238294, delay: 0.00000 ms), ...]\n",
      "*     Projection: Proj_ from Exc to Exc, synapse: L6_BP_L4_SS\n",
      "*       47 connections (wd): [(Connection 0: 0 -> 1, weight: 0.186482, delay: 0.00000 ms), ...]\n",
      "*     Projection: Proj_ from Exc to Exc, synapse: L6_BP_L4_SS\n",
      "*       38 connections (wd): [(Connection 0: 0 -> 2, weight: 0.357244, delay: 0.00000 ms), ...]\n",
      "*     Projection: Proj_ from Exc to Exc, synapse: L6_BP_L4_SS\n",
      "*       42 connections (wd): [(Connection 0: 0 -> 1, weight: 0.181743, delay: 0.00000 ms), ...]\n",
      "*     Projection: Proj_ from Exc to Exc, synapse: L6_BP_L4_SS\n",
      "*       46 connections (wd): [(Connection 0: 0 -> 1, weight: 0.323951, delay: 0.00000 ms), ...]\n",
      "*     Projection: Proj_ from Exc to Exc, synapse: L6_BP_L4_SS\n",
      "*       50 connections (wd): [(Connection 0: 0 -> 0, weight: 0.431504, delay: 0.00000 ms), ...]\n",
      "*     Projection: Proj_ from Exc to Exc, synapse: L6_BP_L4_SS\n",
      "*       40 connections (wd): [(Connection 0: 0 -> 2, weight: 0.338947, delay: 0.00000 ms), ...]\n",
      "*     Projection: Proj_ from Exc to Exc, synapse: L6_BP_L4_SS\n",
      "*       51 connections (wd): [(Connection 0: 0 -> 0, weight: 0.735888, delay: 0.00000 ms), ...]\n",
      "*     Projection: Proj_ from Exc to Exc, synapse: L6_BP_L4_SS\n",
      "*       46 connections (wd): [(Connection 0: 0 -> 0, weight: 0.812638, delay: 0.00000 ms), ...]\n",
      "*     Projection: Proj_ from Exc to Exc, synapse: L6_BP_L4_SS\n",
      "*       48 connections (wd): [(Connection 0: 0 -> 0, weight: 0.882802, delay: 0.00000 ms), ...]\n",
      "*     Projection: Proj_ from Exc to Exc, synapse: L6_BP_L4_SS\n",
      "*       54 connections (wd): [(Connection 0: 0 -> 0, weight: 0.054335, delay: 0.00000 ms), ...]\n",
      "*     Projection: Proj_ from Exc to Exc, synapse: L4_MC_L23_BTC\n",
      "*       16 connections (wd): [(Connection 0: 0 -> 0, weight: 0.201898, delay: 0.00000 ms), ...]\n",
      "*     Projection: Proj_ from Exc to Exc, synapse: L4_MC_L23_BTC\n",
      "*       2 connections (wd): [(Connection 0: 0 -> 0, weight: 0.528452, delay: 0.00000 ms), ...]\n",
      "*     Projection: Proj_ from Exc to Exc, synapse: L4_MC_L23_BTC\n",
      "*       8 connections (wd): [(Connection 0: 0 -> 0, weight: 0.941730, delay: 0.00000 ms), ...]\n",
      "*     Projection: Proj_ from Exc to Exc, synapse: L4_MC_L23_BTC\n",
      "*       6 connections (wd): [(Connection 0: 0 -> 0, weight: 0.536524, delay: 0.00000 ms), ...]\n",
      "*     Projection: Proj_ from Exc to Exc, synapse: L4_MC_L23_BTC\n",
      "*       2 connections (wd): [(Connection 0: 0 -> 0, weight: 0.727043, delay: 0.00000 ms), ...]\n",
      "*     Projection: Proj_ from Exc to Exc, synapse: L4_MC_L23_BTC\n",
      "*       10 connections (wd): [(Connection 0: 0 -> 0, weight: 0.268202, delay: 0.00000 ms), ...]\n",
      "*     Projection: Proj_ from Exc to Exc, synapse: L4_MC_L23_BTC\n",
      "*       2 connections (wd): [(Connection 0: 0 -> 0, weight: 0.322421, delay: 0.00000 ms), ...]\n",
      "*     Projection: Proj_ from Exc to Exc, synapse: L4_MC_L23_BTC\n",
      "*       4 connections (wd): [(Connection 0: 0 -> 0, weight: 0.516571, delay: 0.00000 ms), ...]\n",
      "*     Projection: Proj_ from Exc to Exc, synapse: L4_MC_L23_BTC\n",
      "*       8 connections (wd): [(Connection 0: 0 -> 0, weight: 0.708817, delay: 0.00000 ms), ...]\n",
      "*     Projection: Proj_ from Exc to Exc, synapse: L4_MC_L23_BTC\n",
      "*       4 connections (wd): [(Connection 0: 0 -> 0, weight: 0.044089, delay: 0.00000 ms), ...]\n",
      "*     Projection: Proj_ from Exc to Exc, synapse: L4_MC_L23_BTC\n",
      "*       2 connections (wd): [(Connection 0: 0 -> 0, weight: 0.118478, delay: 0.00000 ms), ...]\n",
      "*     Projection: Proj_ from Exc to Exc, synapse: L4_MC_L23_BTC\n",
      "*       2 connections (wd): [(Connection 0: 0 -> 0, weight: 0.440363, delay: 0.00000 ms), ...]\n",
      "*     Projection: Proj_ from Exc to Exc, synapse: L4_MC_L23_BTC\n",
      "*       4 connections (wd): [(Connection 0: 0 -> 0, weight: 0.544815, delay: 0.00000 ms), ...]\n",
      "*     Projection: Proj_ from Exc to Exc, synapse: L4_MC_L23_BTC\n",
      "*       4 connections (wd): [(Connection 0: 0 -> 0, weight: 0.826714, delay: 0.00000 ms), ...]\n",
      "*     Projection: Proj_ from Exc to Exc, synapse: L4_MC_L23_BTC\n",
      "*       6 connections (wd): [(Connection 0: 0 -> 0, weight: 0.233548, delay: 0.00000 ms), ...]\n",
      "*     Projection: Proj_ from Exc to Exc, synapse: L4_MC_L23_BTC\n",
      "*       2 connections (wd): [(Connection 0: 0 -> 0, weight: 0.863025, delay: 0.00000 ms), ...]\n",
      "*     Projection: Proj_ from Exc to Exc, synapse: L4_MC_L23_BTC\n",
      "*       56 connections (wd): [(Connection 0: 0 -> 0, weight: 0.303001, delay: 0.00000 ms), ...]\n",
      "*     Projection: Proj_ from Exc to Exc, synapse: L4_MC_L23_BTC\n",
      "*       7 connections (wd): [(Connection 0: 0 -> 0, weight: 0.890695, delay: 0.00000 ms), ...]\n",
      "*     Projection: Proj_ from Exc to Exc, synapse: L4_MC_L23_BTC\n",
      "*       28 connections (wd): [(Connection 0: 0 -> 0, weight: 0.040761, delay: 0.00000 ms), ...]\n",
      "*     Projection: Proj_ from Exc to Exc, synapse: L4_MC_L23_BTC\n",
      "*       21 connections (wd): [(Connection 0: 0 -> 0, weight: 0.946382, delay: 0.00000 ms), ...]\n",
      "*     Projection: Proj_ from Exc to Exc, synapse: L4_MC_L23_BTC\n",
      "*       7 connections (wd): [(Connection 0: 0 -> 0, weight: 0.396842, delay: 0.00000 ms), ...]\n",
      "*     Projection: Proj_ from Exc to Exc, synapse: L4_MC_L23_BTC\n",
      "*       35 connections (wd): [(Connection 0: 0 -> 0, weight: 0.848239, delay: 0.00000 ms), ...]\n",
      "*     Projection: Proj_ from Exc to Exc, synapse: L4_MC_L23_BTC\n",
      "*       7 connections (wd): [(Connection 0: 0 -> 0, weight: 0.074970, delay: 0.00000 ms), ...]\n",
      "*     Projection: Proj_ from Exc to Exc, synapse: L4_MC_L23_BTC\n",
      "*       14 connections (wd): [(Connection 0: 0 -> 0, weight: 0.162239, delay: 0.00000 ms), ...]\n",
      "*     Projection: Proj_ from Exc to Exc, synapse: L4_MC_L23_BTC\n",
      "*       28 connections (wd): [(Connection 0: 0 -> 0, weight: 0.059641, delay: 0.00000 ms), ...]\n",
      "*     Projection: Proj_ from Exc to Exc, synapse: L4_MC_L23_BTC\n",
      "*       14 connections (wd): [(Connection 0: 0 -> 0, weight: 0.641629, delay: 0.00000 ms), ...]\n",
      "*     Projection: Proj_ from Exc to Exc, synapse: L4_MC_L23_BTC\n",
      "*       7 connections (wd): [(Connection 0: 0 -> 0, weight: 0.989794, delay: 0.00000 ms), ...]\n",
      "*     Projection: Proj_ from Exc to Exc, synapse: L4_MC_L23_BTC\n",
      "*       7 connections (wd): [(Connection 0: 0 -> 0, weight: 0.524114, delay: 0.00000 ms), ...]\n",
      "*     Projection: Proj_ from Exc to Exc, synapse: L4_MC_L23_BTC\n",
      "*       14 connections (wd): [(Connection 0: 0 -> 0, weight: 0.443295, delay: 0.00000 ms), ...]\n",
      "*     Projection: Proj_ from Exc to Exc, synapse: L4_MC_L23_BTC\n",
      "*       14 connections (wd): [(Connection 0: 0 -> 0, weight: 0.621789, delay: 0.00000 ms), ...]\n",
      "*     Projection: Proj_ from Exc to Exc, synapse: L4_MC_L23_BTC\n",
      "*       21 connections (wd): [(Connection 0: 0 -> 0, weight: 0.738217, delay: 0.00000 ms), ...]\n",
      "*     Projection: Proj_ from Exc to Exc, synapse: L4_MC_L23_BTC\n",
      "*       7 connections (wd): [(Connection 0: 0 -> 0, weight: 0.905157, delay: 0.00000 ms), ...]\n",
      "*     Projection: Proj_ from Exc to Exc, synapse: L4_MC_L23_BTC\n",
      "*       64 connections (wd): [(Connection 0: 0 -> 0, weight: 0.151097, delay: 0.00000 ms), ...]\n",
      "*     Projection: Proj_ from Exc to Exc, synapse: L4_MC_L23_BTC\n",
      "*       8 connections (wd): [(Connection 0: 0 -> 0, weight: 0.916613, delay: 0.00000 ms), ...]\n",
      "*     Projection: Proj_ from Exc to Exc, synapse: L4_MC_L23_BTC\n",
      "*       32 connections (wd): [(Connection 0: 0 -> 0, weight: 0.912991, delay: 0.00000 ms), ...]\n",
      "*     Projection: Proj_ from Exc to Exc, synapse: L4_MC_L23_BTC\n",
      "*       24 connections (wd): [(Connection 0: 0 -> 0, weight: 0.985832, delay: 0.00000 ms), ...]\n",
      "*     Projection: Proj_ from Exc to Exc, synapse: L4_MC_L23_BTC\n",
      "*       8 connections (wd): [(Connection 0: 0 -> 0, weight: 0.992195, delay: 0.00000 ms), ...]\n",
      "*     Projection: Proj_ from Exc to Exc, synapse: L4_MC_L23_BTC\n",
      "*       40 connections (wd): [(Connection 0: 0 -> 0, weight: 0.524301, delay: 0.00000 ms), ...]\n",
      "*     Projection: Proj_ from Exc to Exc, synapse: L4_MC_L23_BTC\n",
      "*       8 connections (wd): [(Connection 0: 0 -> 0, weight: 0.362195, delay: 0.00000 ms), ...]\n",
      "*     Projection: Proj_ from Exc to Exc, synapse: L4_MC_L23_BTC\n",
      "*       16 connections (wd): [(Connection 0: 0 -> 0, weight: 0.121281, delay: 0.00000 ms), ...]\n",
      "*     Projection: Proj_ from Exc to Exc, synapse: L4_MC_L23_BTC\n",
      "*       32 connections (wd): [(Connection 0: 0 -> 0, weight: 0.796489, delay: 0.00000 ms), ...]\n",
      "*     Projection: Proj_ from Exc to Exc, synapse: L4_MC_L23_BTC\n",
      "*       16 connections (wd): [(Connection 0: 0 -> 0, weight: 0.809492, delay: 0.00000 ms), ...]\n",
      "*     Projection: Proj_ from Exc to Exc, synapse: L4_MC_L23_BTC\n",
      "*       8 connections (wd): [(Connection 0: 0 -> 0, weight: 0.386677, delay: 0.00000 ms), ...]\n",
      "*     Projection: Proj_ from Exc to Exc, synapse: L4_MC_L23_BTC\n",
      "*       8 connections (wd): [(Connection 0: 0 -> 0, weight: 0.211762, delay: 0.00000 ms), ...]\n",
      "*     Projection: Proj_ from Exc to Exc, synapse: L4_MC_L23_BTC\n",
      "*       16 connections (wd): [(Connection 0: 0 -> 0, weight: 0.684528, delay: 0.00000 ms), ...]\n",
      "*     Projection: Proj_ from Exc to Exc, synapse: L4_MC_L23_BTC\n",
      "*       16 connections (wd): [(Connection 0: 0 -> 0, weight: 0.220160, delay: 0.00000 ms), ...]\n",
      "*     Projection: Proj_ from Exc to Exc, synapse: L4_MC_L23_BTC\n",
      "*       24 connections (wd): [(Connection 0: 0 -> 0, weight: 0.796892, delay: 0.00000 ms), ...]\n",
      "*     Projection: Proj_ from Exc to Exc, synapse: L4_MC_L23_BTC\n",
      "*       8 connections (wd): [(Connection 0: 0 -> 0, weight: 0.018368, delay: 0.00000 ms), ...]\n",
      "*     Projection: Proj_ from Exc to Exc, synapse: L4_MC_L23_BTC\n",
      "*       40 connections (wd): [(Connection 0: 0 -> 0, weight: 0.209351, delay: 0.00000 ms), ...]\n",
      "*     Projection: Proj_ from Exc to Exc, synapse: L4_MC_L23_BTC\n",
      "*       5 connections (wd): [(Connection 0: 0 -> 0, weight: 0.090170, delay: 0.00000 ms), ...]\n",
      "*     Projection: Proj_ from Exc to Exc, synapse: L4_MC_L23_BTC\n",
      "*       20 connections (wd): [(Connection 0: 0 -> 0, weight: 0.918170, delay: 0.00000 ms), ...]\n",
      "*     Projection: Proj_ from Exc to Exc, synapse: L4_MC_L23_BTC\n",
      "*       15 connections (wd): [(Connection 0: 0 -> 0, weight: 0.319147, delay: 0.00000 ms), ...]\n",
      "*     Projection: Proj_ from Exc to Exc, synapse: L4_MC_L23_BTC\n",
      "*       5 connections (wd): [(Connection 0: 0 -> 0, weight: 0.114343, delay: 0.00000 ms), ...]\n",
      "*     Projection: Proj_ from Exc to Exc, synapse: L4_MC_L23_BTC\n",
      "*       25 connections (wd): [(Connection 0: 0 -> 0, weight: 0.557062, delay: 0.00000 ms), ...]\n",
      "*     Projection: Proj_ from Exc to Exc, synapse: L4_MC_L23_BTC\n",
      "*       5 connections (wd): [(Connection 0: 0 -> 0, weight: 0.788413, delay: 0.00000 ms), ...]\n",
      "*     Projection: Proj_ from Exc to Exc, synapse: L4_MC_L23_BTC\n",
      "*       10 connections (wd): [(Connection 0: 0 -> 0, weight: 0.879657, delay: 0.00000 ms), ...]\n",
      "*     Projection: Proj_ from Exc to Exc, synapse: L4_MC_L23_BTC\n",
      "*       20 connections (wd): [(Connection 0: 0 -> 0, weight: 0.366033, delay: 0.00000 ms), ...]\n",
      "*     Projection: Proj_ from Exc to Exc, synapse: L4_MC_L23_BTC\n",
      "*       10 connections (wd): [(Connection 0: 0 -> 0, weight: 0.024064, delay: 0.00000 ms), ...]\n",
      "*     Projection: Proj_ from Exc to Exc, synapse: L4_MC_L23_BTC\n",
      "*       5 connections (wd): [(Connection 0: 0 -> 0, weight: 0.161695, delay: 0.00000 ms), ...]\n",
      "*     Projection: Proj_ from Exc to Exc, synapse: L4_MC_L23_BTC\n",
      "*       5 connections (wd): [(Connection 0: 0 -> 0, weight: 0.332223, delay: 0.00000 ms), ...]\n",
      "*     Projection: Proj_ from Exc to Exc, synapse: L4_MC_L23_BTC\n",
      "*       10 connections (wd): [(Connection 0: 0 -> 0, weight: 0.832730, delay: 0.00000 ms), ...]\n",
      "*     Projection: Proj_ from Exc to Exc, synapse: L4_MC_L23_BTC\n",
      "*       10 connections (wd): [(Connection 0: 0 -> 0, weight: 0.828672, delay: 0.00000 ms), ...]\n",
      "*     Projection: Proj_ from Exc to Exc, synapse: L4_MC_L23_BTC\n",
      "*       15 connections (wd): [(Connection 0: 0 -> 0, weight: 0.266564, delay: 0.00000 ms), ...]\n",
      "*     Projection: Proj_ from Exc to Exc, synapse: L4_MC_L23_BTC\n",
      "*       5 connections (wd): [(Connection 0: 0 -> 0, weight: 0.275785, delay: 0.00000 ms), ...]\n",
      "*     Projection: Proj_ from Exc to Exc, synapse: L4_MC_L23_BTC\n",
      "*       80 connections (wd): [(Connection 0: 0 -> 0, weight: 0.187691, delay: 0.00000 ms), ...]\n",
      "*     Projection: Proj_ from Exc to Exc, synapse: L4_MC_L23_BTC\n",
      "*       10 connections (wd): [(Connection 0: 0 -> 0, weight: 0.595636, delay: 0.00000 ms), ...]\n",
      "*     Projection: Proj_ from Exc to Exc, synapse: L4_MC_L23_BTC\n",
      "*       40 connections (wd): [(Connection 0: 0 -> 0, weight: 0.838590, delay: 0.00000 ms), ...]\n",
      "*     Projection: Proj_ from Exc to Exc, synapse: L4_MC_L23_BTC\n",
      "*       30 connections (wd): [(Connection 0: 0 -> 0, weight: 0.011176, delay: 0.00000 ms), ...]\n",
      "*     Projection: Proj_ from Exc to Exc, synapse: L4_MC_L23_BTC\n",
      "*       10 connections (wd): [(Connection 0: 0 -> 0, weight: 0.898460, delay: 0.00000 ms), ...]\n",
      "*     Projection: Proj_ from Exc to Exc, synapse: L4_MC_L23_BTC\n",
      "*       50 connections (wd): [(Connection 0: 0 -> 0, weight: 0.036339, delay: 0.00000 ms), ...]\n",
      "*     Projection: Proj_ from Exc to Exc, synapse: L4_MC_L23_BTC\n",
      "*       10 connections (wd): [(Connection 0: 0 -> 0, weight: 0.348031, delay: 0.00000 ms), ...]\n",
      "*     Projection: Proj_ from Exc to Exc, synapse: L4_MC_L23_BTC\n",
      "*       20 connections (wd): [(Connection 0: 0 -> 0, weight: 0.779431, delay: 0.00000 ms), ...]\n",
      "*     Projection: Proj_ from Exc to Exc, synapse: L4_MC_L23_BTC\n",
      "*       40 connections (wd): [(Connection 0: 0 -> 0, weight: 0.077846, delay: 0.00000 ms), ...]\n",
      "*     Projection: Proj_ from Exc to Exc, synapse: L4_MC_L23_BTC\n",
      "*       20 connections (wd): [(Connection 0: 0 -> 0, weight: 0.471236, delay: 0.00000 ms), ...]\n",
      "*     Projection: Proj_ from Exc to Exc, synapse: L4_MC_L23_BTC\n",
      "*       10 connections (wd): [(Connection 0: 0 -> 0, weight: 0.750028, delay: 0.00000 ms), ...]\n",
      "*     Projection: Proj_ from Exc to Exc, synapse: L4_MC_L23_BTC\n",
      "*       10 connections (wd): [(Connection 0: 0 -> 0, weight: 0.470290, delay: 0.00000 ms), ...]\n",
      "*     Projection: Proj_ from Exc to Exc, synapse: L4_MC_L23_BTC\n",
      "*       20 connections (wd): [(Connection 0: 0 -> 0, weight: 0.118332, delay: 0.00000 ms), ...]\n",
      "*     Projection: Proj_ from Exc to Exc, synapse: L4_MC_L23_BTC\n",
      "*       20 connections (wd): [(Connection 0: 0 -> 0, weight: 0.956271, delay: 0.00000 ms), ...]\n",
      "*     Projection: Proj_ from Exc to Exc, synapse: L4_MC_L23_BTC\n",
      "*       30 connections (wd): [(Connection 0: 0 -> 0, weight: 0.053641, delay: 0.00000 ms), ...]\n",
      "*     Projection: Proj_ from Exc to Exc, synapse: L4_MC_L23_BTC\n",
      "*       10 connections (wd): [(Connection 0: 0 -> 0, weight: 0.354790, delay: 0.00000 ms), ...]\n",
      "*     Projection: Proj_ from Exc to Exc, synapse: L4_MC_L23_BTC\n",
      "*       72 connections (wd): [(Connection 0: 0 -> 0, weight: 0.724825, delay: 0.00000 ms), ...]\n",
      "*     Projection: Proj_ from Exc to Exc, synapse: L4_MC_L23_BTC\n",
      "*       9 connections (wd): [(Connection 0: 0 -> 0, weight: 0.467195, delay: 0.00000 ms), ...]\n",
      "*     Projection: Proj_ from Exc to Exc, synapse: L4_MC_L23_BTC\n",
      "*       36 connections (wd): [(Connection 0: 0 -> 0, weight: 0.496945, delay: 0.00000 ms), ...]\n",
      "*     Projection: Proj_ from Exc to Exc, synapse: L4_MC_L23_BTC\n",
      "*       27 connections (wd): [(Connection 0: 0 -> 0, weight: 0.851091, delay: 0.00000 ms), ...]\n",
      "*     Projection: Proj_ from Exc to Exc, synapse: L4_MC_L23_BTC\n",
      "*       9 connections (wd): [(Connection 0: 0 -> 0, weight: 0.453468, delay: 0.00000 ms), ...]\n",
      "*     Projection: Proj_ from Exc to Exc, synapse: L4_MC_L23_BTC\n",
      "*       45 connections (wd): [(Connection 0: 0 -> 0, weight: 0.924191, delay: 0.00000 ms), ...]\n",
      "*     Projection: Proj_ from Exc to Exc, synapse: L4_MC_L23_BTC\n",
      "*       9 connections (wd): [(Connection 0: 0 -> 0, weight: 0.767029, delay: 0.00000 ms), ...]\n",
      "*     Projection: Proj_ from Exc to Exc, synapse: L4_MC_L23_BTC\n",
      "*       18 connections (wd): [(Connection 0: 0 -> 0, weight: 0.714842, delay: 0.00000 ms), ...]\n",
      "*     Projection: Proj_ from Exc to Exc, synapse: L4_MC_L23_BTC\n",
      "*       36 connections (wd): [(Connection 0: 0 -> 0, weight: 0.316448, delay: 0.00000 ms), ...]\n",
      "*     Projection: Proj_ from Exc to Exc, synapse: L4_MC_L23_BTC\n",
      "*       18 connections (wd): [(Connection 0: 0 -> 0, weight: 0.007530, delay: 0.00000 ms), ...]\n",
      "*     Projection: Proj_ from Exc to Exc, synapse: L4_MC_L23_BTC\n",
      "*       9 connections (wd): [(Connection 0: 0 -> 0, weight: 0.974538, delay: 0.00000 ms), ...]\n",
      "*     Projection: Proj_ from Exc to Exc, synapse: L4_MC_L23_BTC\n",
      "*       9 connections (wd): [(Connection 0: 0 -> 0, weight: 0.782714, delay: 0.00000 ms), ...]\n",
      "*     Projection: Proj_ from Exc to Exc, synapse: L4_MC_L23_BTC\n",
      "*       18 connections (wd): [(Connection 0: 0 -> 0, weight: 0.612130, delay: 0.00000 ms), ...]\n",
      "*     Projection: Proj_ from Exc to Exc, synapse: L4_MC_L23_BTC\n",
      "*       18 connections (wd): [(Connection 0: 0 -> 0, weight: 0.746569, delay: 0.00000 ms), ...]\n",
      "*     Projection: Proj_ from Exc to Exc, synapse: L4_MC_L23_BTC\n",
      "*       27 connections (wd): [(Connection 0: 0 -> 0, weight: 0.211703, delay: 0.00000 ms), ...]\n",
      "*     Projection: Proj_ from Exc to Exc, synapse: L4_MC_L23_BTC\n",
      "*       9 connections (wd): [(Connection 0: 0 -> 0, weight: 0.417610, delay: 0.00000 ms), ...]\n",
      "*     Projection: Proj_ from Exc to Exc, synapse: L4_MC_L23_BTC\n",
      "*       40 connections (wd): [(Connection 0: 0 -> 0, weight: 0.533932, delay: 0.00000 ms), ...]\n",
      "*     Projection: Proj_ from Exc to Exc, synapse: L4_MC_L23_BTC\n",
      "*       5 connections (wd): [(Connection 0: 0 -> 0, weight: 0.730056, delay: 0.00000 ms), ...]\n",
      "*     Projection: Proj_ from Exc to Exc, synapse: L4_MC_L23_BTC\n",
      "*       20 connections (wd): [(Connection 0: 0 -> 0, weight: 0.702722, delay: 0.00000 ms), ...]\n",
      "*     Projection: Proj_ from Exc to Exc, synapse: L4_MC_L23_BTC\n",
      "*       15 connections (wd): [(Connection 0: 0 -> 0, weight: 0.858579, delay: 0.00000 ms), ...]\n",
      "*     Projection: Proj_ from Exc to Exc, synapse: L4_MC_L23_BTC\n",
      "*       5 connections (wd): [(Connection 0: 0 -> 0, weight: 0.418377, delay: 0.00000 ms), ...]\n",
      "*     Projection: Proj_ from Exc to Exc, synapse: L4_MC_L23_BTC\n",
      "*       25 connections (wd): [(Connection 0: 0 -> 0, weight: 0.581722, delay: 0.00000 ms), ...]\n",
      "*     Projection: Proj_ from Exc to Exc, synapse: L4_MC_L23_BTC\n",
      "*       5 connections (wd): [(Connection 0: 0 -> 0, weight: 0.559031, delay: 0.00000 ms), ...]\n",
      "*     Projection: Proj_ from Exc to Exc, synapse: L4_MC_L23_BTC\n",
      "*       10 connections (wd): [(Connection 0: 0 -> 0, weight: 0.515425, delay: 0.00000 ms), ...]\n",
      "*     Projection: Proj_ from Exc to Exc, synapse: L4_MC_L23_BTC\n",
      "*       20 connections (wd): [(Connection 0: 0 -> 0, weight: 0.463481, delay: 0.00000 ms), ...]\n",
      "*     Projection: Proj_ from Exc to Exc, synapse: L4_MC_L23_BTC\n",
      "*       10 connections (wd): [(Connection 0: 0 -> 0, weight: 0.345854, delay: 0.00000 ms), ...]\n",
      "*     Projection: Proj_ from Exc to Exc, synapse: L4_MC_L23_BTC\n",
      "*       5 connections (wd): [(Connection 0: 0 -> 0, weight: 0.426318, delay: 0.00000 ms), ...]\n",
      "*     Projection: Proj_ from Exc to Exc, synapse: L4_MC_L23_BTC\n",
      "*       5 connections (wd): [(Connection 0: 0 -> 0, weight: 0.294277, delay: 0.00000 ms), ...]\n",
      "*     Projection: Proj_ from Exc to Exc, synapse: L4_MC_L23_BTC\n",
      "*       10 connections (wd): [(Connection 0: 0 -> 0, weight: 0.135524, delay: 0.00000 ms), ...]\n",
      "*     Projection: Proj_ from Exc to Exc, synapse: L4_MC_L23_BTC\n",
      "*       10 connections (wd): [(Connection 0: 0 -> 0, weight: 0.398312, delay: 0.00000 ms), ...]\n",
      "*     Projection: Proj_ from Exc to Exc, synapse: L4_MC_L23_BTC\n",
      "*       15 connections (wd): [(Connection 0: 0 -> 0, weight: 0.049443, delay: 0.00000 ms), ...]\n",
      "*     Projection: Proj_ from Exc to Exc, synapse: L4_MC_L23_BTC\n",
      "*       5 connections (wd): [(Connection 0: 0 -> 0, weight: 0.590628, delay: 0.00000 ms), ...]\n",
      "*     Projection: Proj_ from Exc to Exc, synapse: L4_MC_L23_BTC\n",
      "*       72 connections (wd): [(Connection 0: 0 -> 0, weight: 0.142512, delay: 0.00000 ms), ...]\n",
      "*     Projection: Proj_ from Exc to Exc, synapse: L4_MC_L23_BTC\n",
      "*       9 connections (wd): [(Connection 0: 0 -> 0, weight: 0.578879, delay: 0.00000 ms), ...]\n",
      "*     Projection: Proj_ from Exc to Exc, synapse: L4_MC_L23_BTC\n",
      "*       36 connections (wd): [(Connection 0: 0 -> 0, weight: 0.852618, delay: 0.00000 ms), ...]\n",
      "*     Projection: Proj_ from Exc to Exc, synapse: L4_MC_L23_BTC\n",
      "*       27 connections (wd): [(Connection 0: 0 -> 0, weight: 0.410828, delay: 0.00000 ms), ...]\n",
      "*     Projection: Proj_ from Exc to Exc, synapse: L4_MC_L23_BTC\n",
      "*       9 connections (wd): [(Connection 0: 0 -> 0, weight: 0.430500, delay: 0.00000 ms), ...]\n",
      "*     Projection: Proj_ from Exc to Exc, synapse: L4_MC_L23_BTC\n",
      "*       45 connections (wd): [(Connection 0: 0 -> 0, weight: 0.151574, delay: 0.00000 ms), ...]\n",
      "*     Projection: Proj_ from Exc to Exc, synapse: L4_MC_L23_BTC\n",
      "*       9 connections (wd): [(Connection 0: 0 -> 0, weight: 0.886080, delay: 0.00000 ms), ...]\n",
      "*     Projection: Proj_ from Exc to Exc, synapse: L4_MC_L23_BTC\n",
      "*       18 connections (wd): [(Connection 0: 0 -> 0, weight: 0.076130, delay: 0.00000 ms), ...]\n",
      "*     Projection: Proj_ from Exc to Exc, synapse: L4_MC_L23_BTC\n",
      "*       36 connections (wd): [(Connection 0: 0 -> 0, weight: 0.341431, delay: 0.00000 ms), ...]\n",
      "*     Projection: Proj_ from Exc to Exc, synapse: L4_MC_L23_BTC\n",
      "*       18 connections (wd): [(Connection 0: 0 -> 0, weight: 0.256621, delay: 0.00000 ms), ...]\n",
      "*     Projection: Proj_ from Exc to Exc, synapse: L4_MC_L23_BTC\n",
      "*       9 connections (wd): [(Connection 0: 0 -> 0, weight: 0.133534, delay: 0.00000 ms), ...]\n",
      "*     Projection: Proj_ from Exc to Exc, synapse: L4_MC_L23_BTC\n",
      "*       9 connections (wd): [(Connection 0: 0 -> 0, weight: 0.061941, delay: 0.00000 ms), ...]\n",
      "*     Projection: Proj_ from Exc to Exc, synapse: L4_MC_L23_BTC\n",
      "*       18 connections (wd): [(Connection 0: 0 -> 0, weight: 0.076562, delay: 0.00000 ms), ...]\n",
      "*     Projection: Proj_ from Exc to Exc, synapse: L4_MC_L23_BTC\n",
      "*       18 connections (wd): [(Connection 0: 0 -> 0, weight: 0.346180, delay: 0.00000 ms), ...]\n",
      "*     Projection: Proj_ from Exc to Exc, synapse: L4_MC_L23_BTC\n",
      "*       27 connections (wd): [(Connection 0: 0 -> 0, weight: 0.978184, delay: 0.00000 ms), ...]\n",
      "*     Projection: Proj_ from Exc to Exc, synapse: L4_MC_L23_BTC\n",
      "*       9 connections (wd): [(Connection 0: 0 -> 0, weight: 0.650823, delay: 0.00000 ms), ...]\n",
      "*     Projection: Proj_ from Exc to Exc, synapse: L4_MC_L23_BTC\n",
      "*       80 connections (wd): [(Connection 0: 0 -> 0, weight: 0.149193, delay: 0.00000 ms), ...]\n",
      "*     Projection: Proj_ from Exc to Exc, synapse: L4_MC_L23_BTC\n",
      "*       10 connections (wd): [(Connection 0: 0 -> 0, weight: 0.446736, delay: 0.00000 ms), ...]\n",
      "*     Projection: Proj_ from Exc to Exc, synapse: L4_MC_L23_BTC\n",
      "*       40 connections (wd): [(Connection 0: 0 -> 0, weight: 0.054988, delay: 0.00000 ms), ...]\n",
      "*     Projection: Proj_ from Exc to Exc, synapse: L4_MC_L23_BTC\n",
      "*       30 connections (wd): [(Connection 0: 0 -> 0, weight: 0.281458, delay: 0.00000 ms), ...]\n",
      "*     Projection: Proj_ from Exc to Exc, synapse: L4_MC_L23_BTC\n",
      "*       10 connections (wd): [(Connection 0: 0 -> 0, weight: 0.890152, delay: 0.00000 ms), ...]\n",
      "*     Projection: Proj_ from Exc to Exc, synapse: L4_MC_L23_BTC\n",
      "*       50 connections (wd): [(Connection 0: 0 -> 0, weight: 0.569371, delay: 0.00000 ms), ...]\n",
      "*     Projection: Proj_ from Exc to Exc, synapse: L4_MC_L23_BTC\n",
      "*       10 connections (wd): [(Connection 0: 0 -> 0, weight: 0.806395, delay: 0.00000 ms), ...]\n",
      "*     Projection: Proj_ from Exc to Exc, synapse: L4_MC_L23_BTC\n",
      "*       20 connections (wd): [(Connection 0: 0 -> 0, weight: 0.544664, delay: 0.00000 ms), ...]\n",
      "*     Projection: Proj_ from Exc to Exc, synapse: L4_MC_L23_BTC\n",
      "*       40 connections (wd): [(Connection 0: 0 -> 0, weight: 0.455027, delay: 0.00000 ms), ...]\n",
      "*     Projection: Proj_ from Exc to Exc, synapse: L4_MC_L23_BTC\n",
      "*       20 connections (wd): [(Connection 0: 0 -> 0, weight: 0.989282, delay: 0.00000 ms), ...]\n",
      "*     Projection: Proj_ from Exc to Exc, synapse: L4_MC_L23_BTC\n",
      "*       10 connections (wd): [(Connection 0: 0 -> 0, weight: 0.478096, delay: 0.00000 ms), ...]\n",
      "*     Projection: Proj_ from Exc to Exc, synapse: L4_MC_L23_BTC\n",
      "*       10 connections (wd): [(Connection 0: 0 -> 0, weight: 0.110292, delay: 0.00000 ms), ...]\n",
      "*     Projection: Proj_ from Exc to Exc, synapse: L4_MC_L23_BTC\n",
      "*       20 connections (wd): [(Connection 0: 0 -> 0, weight: 0.449342, delay: 0.00000 ms), ...]\n",
      "*     Projection: Proj_ from Exc to Exc, synapse: L4_MC_L23_BTC\n",
      "*       20 connections (wd): [(Connection 0: 0 -> 0, weight: 0.102911, delay: 0.00000 ms), ...]\n",
      "*     Projection: Proj_ from Exc to Exc, synapse: L4_MC_L23_BTC\n",
      "*       30 connections (wd): [(Connection 0: 0 -> 0, weight: 0.298661, delay: 0.00000 ms), ...]\n",
      "*     Projection: Proj_ from Exc to Exc, synapse: L4_MC_L23_BTC\n",
      "*       10 connections (wd): [(Connection 0: 0 -> 0, weight: 0.675920, delay: 0.00000 ms), ...]\n",
      "*     Projection: Proj_ from Exc to Exc, synapse: L4_MC_L23_BTC\n",
      "*       8 connections (wd): [(Connection 0: 0 -> 0, weight: 0.001819, delay: 0.00000 ms), ...]\n",
      "*     Projection: Proj_ from Exc to Exc, synapse: L4_MC_L23_BTC\n",
      "*       1 connections (wd): [(Connection 0: 0 -> 0, weight: 0.307175, delay: 0.00000 ms), ...]\n",
      "*     Projection: Proj_ from Exc to Exc, synapse: L4_MC_L23_BTC\n",
      "*       4 connections (wd): [(Connection 0: 0 -> 0, weight: 0.103499, delay: 0.00000 ms), ...]\n",
      "*     Projection: Proj_ from Exc to Exc, synapse: L4_MC_L23_BTC\n",
      "*       3 connections (wd): [(Connection 0: 0 -> 0, weight: 0.288169, delay: 0.00000 ms), ...]\n",
      "*     Projection: Proj_ from Exc to Exc, synapse: L4_MC_L23_BTC\n",
      "*       1 connections (wd): [(Connection 0: 0 -> 0, weight: 0.061431, delay: 0.00000 ms), ...]\n",
      "*     Projection: Proj_ from Exc to Exc, synapse: L4_MC_L23_BTC\n",
      "*       5 connections (wd): [(Connection 0: 0 -> 0, weight: 0.214926, delay: 0.00000 ms), ...]\n",
      "*     Projection: Proj_ from Exc to Exc, synapse: L4_MC_L23_BTC\n",
      "*       1 connections (wd): [(Connection 0: 0 -> 0, weight: 0.267275, delay: 0.00000 ms), ...]\n",
      "*     Projection: Proj_ from Exc to Exc, synapse: L4_MC_L23_BTC\n",
      "*       2 connections (wd): [(Connection 0: 0 -> 0, weight: 0.274299, delay: 0.00000 ms), ...]\n",
      "*     Projection: Proj_ from Exc to Exc, synapse: L4_MC_L23_BTC\n",
      "*       4 connections (wd): [(Connection 0: 0 -> 0, weight: 0.688662, delay: 0.00000 ms), ...]\n",
      "*     Projection: Proj_ from Exc to Exc, synapse: L4_MC_L23_BTC\n",
      "*       2 connections (wd): [(Connection 0: 0 -> 0, weight: 0.531564, delay: 0.00000 ms), ...]\n",
      "*     Projection: Proj_ from Exc to Exc, synapse: L4_MC_L23_BTC\n",
      "*       1 connections (wd): [(Connection 0: 0 -> 0, weight: 0.082514, delay: 0.00000 ms), ...]\n",
      "*     Projection: Proj_ from Exc to Exc, synapse: L4_MC_L23_BTC\n",
      "*       1 connections (wd): [(Connection 0: 0 -> 0, weight: 0.505035, delay: 0.00000 ms), ...]\n",
      "*     Projection: Proj_ from Exc to Exc, synapse: L4_MC_L23_BTC\n",
      "*       2 connections (wd): [(Connection 0: 0 -> 0, weight: 0.320523, delay: 0.00000 ms), ...]\n",
      "*     Projection: Proj_ from Exc to Exc, synapse: L4_MC_L23_BTC\n",
      "*       2 connections (wd): [(Connection 0: 0 -> 0, weight: 0.599524, delay: 0.00000 ms), ...]\n",
      "*     Projection: Proj_ from Exc to Exc, synapse: L4_MC_L23_BTC\n",
      "*       3 connections (wd): [(Connection 0: 0 -> 0, weight: 0.222197, delay: 0.00000 ms), ...]\n",
      "*     Projection: Proj_ from Exc to Exc, synapse: L4_MC_L23_BTC\n",
      "*       1 connections (wd): [(Connection 0: 0 -> 0, weight: 0.885025, delay: 0.00000 ms), ...]\n",
      "*     Projection: Proj_ from Exc to Exc, synapse: L4_MC_L23_BTC\n",
      "*       64 connections (wd): [(Connection 0: 0 -> 0, weight: 0.729330, delay: 0.00000 ms), ...]\n",
      "*     Projection: Proj_ from Exc to Exc, synapse: L4_MC_L23_BTC\n",
      "*       8 connections (wd): [(Connection 0: 0 -> 0, weight: 0.295536, delay: 0.00000 ms), ...]\n",
      "*     Projection: Proj_ from Exc to Exc, synapse: L4_MC_L23_BTC\n",
      "*       32 connections (wd): [(Connection 0: 0 -> 0, weight: 0.959949, delay: 0.00000 ms), ...]\n",
      "*     Projection: Proj_ from Exc to Exc, synapse: L4_MC_L23_BTC\n",
      "*       24 connections (wd): [(Connection 0: 0 -> 0, weight: 0.781812, delay: 0.00000 ms), ...]\n",
      "*     Projection: Proj_ from Exc to Exc, synapse: L4_MC_L23_BTC\n",
      "*       8 connections (wd): [(Connection 0: 0 -> 0, weight: 0.156959, delay: 0.00000 ms), ...]\n",
      "*     Projection: Proj_ from Exc to Exc, synapse: L4_MC_L23_BTC\n",
      "*       40 connections (wd): [(Connection 0: 0 -> 0, weight: 0.612750, delay: 0.00000 ms), ...]\n",
      "*     Projection: Proj_ from Exc to Exc, synapse: L4_MC_L23_BTC\n",
      "*       8 connections (wd): [(Connection 0: 0 -> 0, weight: 0.224050, delay: 0.00000 ms), ...]\n",
      "*     Projection: Proj_ from Exc to Exc, synapse: L4_MC_L23_BTC\n",
      "*       16 connections (wd): [(Connection 0: 0 -> 0, weight: 0.664816, delay: 0.00000 ms), ...]\n",
      "*     Projection: Proj_ from Exc to Exc, synapse: L4_MC_L23_BTC\n",
      "*       32 connections (wd): [(Connection 0: 0 -> 0, weight: 0.736858, delay: 0.00000 ms), ...]\n",
      "*     Projection: Proj_ from Exc to Exc, synapse: L4_MC_L23_BTC\n",
      "*       16 connections (wd): [(Connection 0: 0 -> 0, weight: 0.298452, delay: 0.00000 ms), ...]\n",
      "*     Projection: Proj_ from Exc to Exc, synapse: L4_MC_L23_BTC\n",
      "*       8 connections (wd): [(Connection 0: 0 -> 0, weight: 0.708479, delay: 0.00000 ms), ...]\n",
      "*     Projection: Proj_ from Exc to Exc, synapse: L4_MC_L23_BTC\n",
      "*       8 connections (wd): [(Connection 0: 0 -> 0, weight: 0.605807, delay: 0.00000 ms), ...]\n",
      "*     Projection: Proj_ from Exc to Exc, synapse: L4_MC_L23_BTC\n",
      "*       16 connections (wd): [(Connection 0: 0 -> 0, weight: 0.534465, delay: 0.00000 ms), ...]\n",
      "*     Projection: Proj_ from Exc to Exc, synapse: L4_MC_L23_BTC\n",
      "*       16 connections (wd): [(Connection 0: 0 -> 0, weight: 0.654989, delay: 0.00000 ms), ...]\n",
      "*     Projection: Proj_ from Exc to Exc, synapse: L4_MC_L23_BTC\n",
      "*       24 connections (wd): [(Connection 0: 0 -> 0, weight: 0.536387, delay: 0.00000 ms), ...]\n",
      "*     Projection: Proj_ from Exc to Exc, synapse: L4_MC_L23_BTC\n",
      "*       8 connections (wd): [(Connection 0: 0 -> 0, weight: 0.264411, delay: 0.00000 ms), ...]\n",
      "*     Projection: Proj_ from Exc to Exc, synapse: L4_MC_L23_BTC\n",
      "*       8 connections (wd): [(Connection 0: 0 -> 0, weight: 0.780868, delay: 0.00000 ms), ...]\n",
      "*     Projection: Proj_ from Exc to Exc, synapse: L4_MC_L23_BTC\n",
      "*       1 connections (wd): [(Connection 0: 0 -> 0, weight: 0.190445, delay: 0.00000 ms), ...]\n",
      "*     Projection: Proj_ from Exc to Exc, synapse: L4_MC_L23_BTC\n",
      "*       4 connections (wd): [(Connection 0: 0 -> 0, weight: 0.361380, delay: 0.00000 ms), ...]\n",
      "*     Projection: Proj_ from Exc to Exc, synapse: L4_MC_L23_BTC\n",
      "*       3 connections (wd): [(Connection 0: 0 -> 0, weight: 0.773341, delay: 0.00000 ms), ...]\n",
      "*     Projection: Proj_ from Exc to Exc, synapse: L4_MC_L23_BTC\n",
      "*       1 connections (wd): [(Connection 0: 0 -> 0, weight: 0.243465, delay: 0.00000 ms), ...]\n",
      "*     Projection: Proj_ from Exc to Exc, synapse: L4_MC_L23_BTC\n",
      "*       5 connections (wd): [(Connection 0: 0 -> 0, weight: 0.150447, delay: 0.00000 ms), ...]\n",
      "*     Projection: Proj_ from Exc to Exc, synapse: L4_MC_L23_BTC\n",
      "*       1 connections (wd): [(Connection 0: 0 -> 0, weight: 0.106530, delay: 0.00000 ms), ...]\n",
      "*     Projection: Proj_ from Exc to Exc, synapse: L4_MC_L23_BTC\n",
      "*       2 connections (wd): [(Connection 0: 0 -> 0, weight: 0.525892, delay: 0.00000 ms), ...]\n",
      "*     Projection: Proj_ from Exc to Exc, synapse: L4_MC_L23_BTC\n",
      "*       4 connections (wd): [(Connection 0: 0 -> 0, weight: 0.256405, delay: 0.00000 ms), ...]\n",
      "*     Projection: Proj_ from Exc to Exc, synapse: L4_MC_L23_BTC\n",
      "*       2 connections (wd): [(Connection 0: 0 -> 0, weight: 0.839424, delay: 0.00000 ms), ...]\n",
      "*     Projection: Proj_ from Exc to Exc, synapse: L4_MC_L23_BTC\n",
      "*       1 connections (wd): [(Connection 0: 0 -> 0, weight: 0.969395, delay: 0.00000 ms), ...]\n",
      "*     Projection: Proj_ from Exc to Exc, synapse: L4_MC_L23_BTC\n",
      "*       1 connections (wd): [(Connection 0: 0 -> 0, weight: 0.518844, delay: 0.00000 ms), ...]\n",
      "*     Projection: Proj_ from Exc to Exc, synapse: L4_MC_L23_BTC\n",
      "*       2 connections (wd): [(Connection 0: 0 -> 0, weight: 0.967056, delay: 0.00000 ms), ...]\n",
      "*     Projection: Proj_ from Exc to Exc, synapse: L4_MC_L23_BTC\n",
      "*       2 connections (wd): [(Connection 0: 0 -> 0, weight: 0.576839, delay: 0.00000 ms), ...]\n",
      "*     Projection: Proj_ from Exc to Exc, synapse: L4_MC_L23_BTC\n",
      "*       3 connections (wd): [(Connection 0: 0 -> 0, weight: 0.083393, delay: 0.00000 ms), ...]\n",
      "*     Projection: Proj_ from Exc to Exc, synapse: L4_MC_L23_BTC\n",
      "*       1 connections (wd): [(Connection 0: 0 -> 0, weight: 0.187101, delay: 0.00000 ms), ...]\n",
      "*     Projection: Proj_ from Exc to Exc, synapse: L4_MC_L23_BTC\n",
      "*       40 connections (wd): [(Connection 0: 0 -> 0, weight: 0.146294, delay: 0.00000 ms), ...]\n",
      "*     Projection: Proj_ from Exc to Exc, synapse: L4_MC_L23_BTC\n",
      "*       5 connections (wd): [(Connection 0: 0 -> 0, weight: 0.335475, delay: 0.00000 ms), ...]\n",
      "*     Projection: Proj_ from Exc to Exc, synapse: L4_MC_L23_BTC\n",
      "*       20 connections (wd): [(Connection 0: 0 -> 0, weight: 0.862066, delay: 0.00000 ms), ...]\n",
      "*     Projection: Proj_ from Exc to Exc, synapse: L4_MC_L23_BTC\n",
      "*       15 connections (wd): [(Connection 0: 0 -> 0, weight: 0.230147, delay: 0.00000 ms), ...]\n",
      "*     Projection: Proj_ from Exc to Exc, synapse: L4_MC_L23_BTC\n",
      "*       5 connections (wd): [(Connection 0: 0 -> 0, weight: 0.096634, delay: 0.00000 ms), ...]\n",
      "*     Projection: Proj_ from Exc to Exc, synapse: L4_MC_L23_BTC\n",
      "*       25 connections (wd): [(Connection 0: 0 -> 0, weight: 0.931434, delay: 0.00000 ms), ...]\n",
      "*     Projection: Proj_ from Exc to Exc, synapse: L4_MC_L23_BTC\n",
      "*       5 connections (wd): [(Connection 0: 0 -> 0, weight: 0.150072, delay: 0.00000 ms), ...]\n",
      "*     Projection: Proj_ from Exc to Exc, synapse: L4_MC_L23_BTC\n",
      "*       10 connections (wd): [(Connection 0: 0 -> 0, weight: 0.854879, delay: 0.00000 ms), ...]\n",
      "*     Projection: Proj_ from Exc to Exc, synapse: L4_MC_L23_BTC\n",
      "*       20 connections (wd): [(Connection 0: 0 -> 0, weight: 0.339797, delay: 0.00000 ms), ...]\n",
      "*     Projection: Proj_ from Exc to Exc, synapse: L4_MC_L23_BTC\n",
      "*       10 connections (wd): [(Connection 0: 0 -> 0, weight: 0.564029, delay: 0.00000 ms), ...]\n",
      "*     Projection: Proj_ from Exc to Exc, synapse: L4_MC_L23_BTC\n",
      "*       5 connections (wd): [(Connection 0: 0 -> 0, weight: 0.750465, delay: 0.00000 ms), ...]\n",
      "*     Projection: Proj_ from Exc to Exc, synapse: L4_MC_L23_BTC\n",
      "*       5 connections (wd): [(Connection 0: 0 -> 0, weight: 0.337582, delay: 0.00000 ms), ...]\n",
      "*     Projection: Proj_ from Exc to Exc, synapse: L4_MC_L23_BTC\n",
      "*       10 connections (wd): [(Connection 0: 0 -> 0, weight: 0.084640, delay: 0.00000 ms), ...]\n",
      "*     Projection: Proj_ from Exc to Exc, synapse: L4_MC_L23_BTC\n",
      "*       10 connections (wd): [(Connection 0: 0 -> 0, weight: 0.595288, delay: 0.00000 ms), ...]\n",
      "*     Projection: Proj_ from Exc to Exc, synapse: L4_MC_L23_BTC\n",
      "*       15 connections (wd): [(Connection 0: 0 -> 0, weight: 0.934128, delay: 0.00000 ms), ...]\n",
      "*     Projection: Proj_ from Exc to Exc, synapse: L4_MC_L23_BTC\n",
      "*       5 connections (wd): [(Connection 0: 0 -> 0, weight: 0.972406, delay: 0.00000 ms), ...]\n",
      "*     Projection: Proj_ from Exc to Exc, synapse: L4_MC_L23_BTC\n",
      "*       56 connections (wd): [(Connection 0: 0 -> 0, weight: 0.829008, delay: 0.00000 ms), ...]\n",
      "*     Projection: Proj_ from Exc to Exc, synapse: L4_MC_L23_BTC\n",
      "*       7 connections (wd): [(Connection 0: 0 -> 0, weight: 0.210545, delay: 0.00000 ms), ...]\n",
      "*     Projection: Proj_ from Exc to Exc, synapse: L4_MC_L23_BTC\n",
      "*       28 connections (wd): [(Connection 0: 0 -> 0, weight: 0.956946, delay: 0.00000 ms), ...]\n",
      "*     Projection: Proj_ from Exc to Exc, synapse: L4_MC_L23_BTC\n",
      "*       21 connections (wd): [(Connection 0: 0 -> 0, weight: 0.409689, delay: 0.00000 ms), ...]\n",
      "*     Projection: Proj_ from Exc to Exc, synapse: L4_MC_L23_BTC\n",
      "*       7 connections (wd): [(Connection 0: 0 -> 0, weight: 0.187540, delay: 0.00000 ms), ...]\n",
      "*     Projection: Proj_ from Exc to Exc, synapse: L4_MC_L23_BTC\n",
      "*       35 connections (wd): [(Connection 0: 0 -> 0, weight: 0.588715, delay: 0.00000 ms), ...]\n",
      "*     Projection: Proj_ from Exc to Exc, synapse: L4_MC_L23_BTC\n",
      "*       7 connections (wd): [(Connection 0: 0 -> 0, weight: 0.473882, delay: 0.00000 ms), ...]\n",
      "*     Projection: Proj_ from Exc to Exc, synapse: L4_MC_L23_BTC\n",
      "*       14 connections (wd): [(Connection 0: 0 -> 0, weight: 0.352920, delay: 0.00000 ms), ...]\n",
      "*     Projection: Proj_ from Exc to Exc, synapse: L4_MC_L23_BTC\n",
      "*       28 connections (wd): [(Connection 0: 0 -> 0, weight: 0.453170, delay: 0.00000 ms), ...]\n",
      "*     Projection: Proj_ from Exc to Exc, synapse: L4_MC_L23_BTC\n",
      "*       14 connections (wd): [(Connection 0: 0 -> 0, weight: 0.576012, delay: 0.00000 ms), ...]\n",
      "*     Projection: Proj_ from Exc to Exc, synapse: L4_MC_L23_BTC\n",
      "*       7 connections (wd): [(Connection 0: 0 -> 0, weight: 0.130680, delay: 0.00000 ms), ...]\n",
      "*     Projection: Proj_ from Exc to Exc, synapse: L4_MC_L23_BTC\n",
      "*       7 connections (wd): [(Connection 0: 0 -> 0, weight: 0.623340, delay: 0.00000 ms), ...]\n",
      "*     Projection: Proj_ from Exc to Exc, synapse: L4_MC_L23_BTC\n",
      "*       14 connections (wd): [(Connection 0: 0 -> 0, weight: 0.651723, delay: 0.00000 ms), ...]\n",
      "*     Projection: Proj_ from Exc to Exc, synapse: L4_MC_L23_BTC\n",
      "*       14 connections (wd): [(Connection 0: 0 -> 0, weight: 0.344980, delay: 0.00000 ms), ...]\n",
      "*     Projection: Proj_ from Exc to Exc, synapse: L4_MC_L23_BTC\n",
      "*       21 connections (wd): [(Connection 0: 0 -> 0, weight: 0.975980, delay: 0.00000 ms), ...]\n",
      "*     Projection: Proj_ from Exc to Exc, synapse: L4_MC_L23_BTC\n",
      "*       7 connections (wd): [(Connection 0: 0 -> 0, weight: 0.133673, delay: 0.00000 ms), ...]\n",
      "*     Projection: Proj_ from Exc to Exc, synapse: L4_MC_L23_BTC\n",
      "*       32 connections (wd): [(Connection 0: 0 -> 0, weight: 0.453212, delay: 0.00000 ms), ...]\n",
      "*     Projection: Proj_ from Exc to Exc, synapse: L4_MC_L23_BTC\n",
      "*       4 connections (wd): [(Connection 0: 0 -> 0, weight: 0.079971, delay: 0.00000 ms), ...]\n",
      "*     Projection: Proj_ from Exc to Exc, synapse: L4_MC_L23_BTC\n",
      "*       16 connections (wd): [(Connection 0: 0 -> 0, weight: 0.100366, delay: 0.00000 ms), ...]\n",
      "*     Projection: Proj_ from Exc to Exc, synapse: L4_MC_L23_BTC\n",
      "*       12 connections (wd): [(Connection 0: 0 -> 0, weight: 0.959426, delay: 0.00000 ms), ...]\n",
      "*     Projection: Proj_ from Exc to Exc, synapse: L4_MC_L23_BTC\n",
      "*       4 connections (wd): [(Connection 0: 0 -> 0, weight: 0.563262, delay: 0.00000 ms), ...]\n",
      "*     Projection: Proj_ from Exc to Exc, synapse: L4_MC_L23_BTC\n",
      "*       20 connections (wd): [(Connection 0: 0 -> 0, weight: 0.512932, delay: 0.00000 ms), ...]\n",
      "*     Projection: Proj_ from Exc to Exc, synapse: L4_MC_L23_BTC\n",
      "*       4 connections (wd): [(Connection 0: 0 -> 0, weight: 0.024565, delay: 0.00000 ms), ...]\n",
      "*     Projection: Proj_ from Exc to Exc, synapse: L4_MC_L23_BTC\n",
      "*       8 connections (wd): [(Connection 0: 0 -> 0, weight: 0.098652, delay: 0.00000 ms), ...]\n",
      "*     Projection: Proj_ from Exc to Exc, synapse: L4_MC_L23_BTC\n",
      "*       16 connections (wd): [(Connection 0: 0 -> 0, weight: 0.901133, delay: 0.00000 ms), ...]\n",
      "*     Projection: Proj_ from Exc to Exc, synapse: L4_MC_L23_BTC\n",
      "*       8 connections (wd): [(Connection 0: 0 -> 0, weight: 0.763266, delay: 0.00000 ms), ...]\n",
      "*     Projection: Proj_ from Exc to Exc, synapse: L4_MC_L23_BTC\n",
      "*       4 connections (wd): [(Connection 0: 0 -> 0, weight: 0.894887, delay: 0.00000 ms), ...]\n",
      "*     Projection: Proj_ from Exc to Exc, synapse: L4_MC_L23_BTC\n",
      "*       4 connections (wd): [(Connection 0: 0 -> 0, weight: 0.179058, delay: 0.00000 ms), ...]\n",
      "*     Projection: Proj_ from Exc to Exc, synapse: L4_MC_L23_BTC\n",
      "*       8 connections (wd): [(Connection 0: 0 -> 0, weight: 0.549465, delay: 0.00000 ms), ...]\n",
      "*     Projection: Proj_ from Exc to Exc, synapse: L4_MC_L23_BTC\n",
      "*       8 connections (wd): [(Connection 0: 0 -> 0, weight: 0.279902, delay: 0.00000 ms), ...]\n",
      "*     Projection: Proj_ from Exc to Exc, synapse: L4_MC_L23_BTC\n",
      "*       12 connections (wd): [(Connection 0: 0 -> 0, weight: 0.727188, delay: 0.00000 ms), ...]\n",
      "*     Projection: Proj_ from Exc to Exc, synapse: L4_MC_L23_BTC\n",
      "*       4 connections (wd): [(Connection 0: 0 -> 0, weight: 0.935251, delay: 0.00000 ms), ...]\n",
      "*     Projection: Proj_ from Exc to Exc, synapse: L4_MC_L23_BTC\n",
      "*       112 connections (wd): [(Connection 0: 0 -> 0, weight: 0.327265, delay: 0.00000 ms), ...]\n",
      "*     Projection: Proj_ from Exc to Exc, synapse: L4_MC_L23_BTC\n",
      "*       14 connections (wd): [(Connection 0: 0 -> 0, weight: 0.454026, delay: 0.00000 ms), ...]\n",
      "*     Projection: Proj_ from Exc to Exc, synapse: L4_MC_L23_BTC\n",
      "*       56 connections (wd): [(Connection 0: 0 -> 0, weight: 0.417775, delay: 0.00000 ms), ...]\n",
      "*     Projection: Proj_ from Exc to Exc, synapse: L4_MC_L23_BTC\n",
      "*       42 connections (wd): [(Connection 0: 0 -> 0, weight: 0.087301, delay: 0.00000 ms), ...]\n",
      "*     Projection: Proj_ from Exc to Exc, synapse: L4_MC_L23_BTC\n",
      "*       14 connections (wd): [(Connection 0: 0 -> 0, weight: 0.533081, delay: 0.00000 ms), ...]\n",
      "*     Projection: Proj_ from Exc to Exc, synapse: L4_MC_L23_BTC\n",
      "*       70 connections (wd): [(Connection 0: 0 -> 0, weight: 0.228307, delay: 0.00000 ms), ...]\n",
      "*     Projection: Proj_ from Exc to Exc, synapse: L4_MC_L23_BTC\n",
      "*       14 connections (wd): [(Connection 0: 0 -> 0, weight: 0.590775, delay: 0.00000 ms), ...]\n",
      "*     Projection: Proj_ from Exc to Exc, synapse: L4_MC_L23_BTC\n",
      "*       28 connections (wd): [(Connection 0: 0 -> 0, weight: 0.141415, delay: 0.00000 ms), ...]\n",
      "*     Projection: Proj_ from Exc to Exc, synapse: L4_MC_L23_BTC\n",
      "*       56 connections (wd): [(Connection 0: 0 -> 0, weight: 0.356218, delay: 0.00000 ms), ...]\n",
      "*     Projection: Proj_ from Exc to Exc, synapse: L4_MC_L23_BTC\n",
      "*       28 connections (wd): [(Connection 0: 0 -> 0, weight: 0.855862, delay: 0.00000 ms), ...]\n",
      "*     Projection: Proj_ from Exc to Exc, synapse: L4_MC_L23_BTC\n",
      "*       14 connections (wd): [(Connection 0: 0 -> 0, weight: 0.433627, delay: 0.00000 ms), ...]\n",
      "*     Projection: Proj_ from Exc to Exc, synapse: L4_MC_L23_BTC\n",
      "*       14 connections (wd): [(Connection 0: 0 -> 0, weight: 0.378511, delay: 0.00000 ms), ...]\n",
      "*     Projection: Proj_ from Exc to Exc, synapse: L4_MC_L23_BTC\n",
      "*       28 connections (wd): [(Connection 0: 0 -> 0, weight: 0.144316, delay: 0.00000 ms), ...]\n",
      "*     Projection: Proj_ from Exc to Exc, synapse: L4_MC_L23_BTC\n",
      "*       28 connections (wd): [(Connection 0: 0 -> 0, weight: 0.511835, delay: 0.00000 ms), ...]\n",
      "*     Projection: Proj_ from Exc to Exc, synapse: L4_MC_L23_BTC\n",
      "*       42 connections (wd): [(Connection 0: 0 -> 0, weight: 0.503399, delay: 0.00000 ms), ...]\n",
      "*     Projection: Proj_ from Exc to Exc, synapse: L4_MC_L23_BTC\n",
      "*       14 connections (wd): [(Connection 0: 0 -> 0, weight: 0.849671, delay: 0.00000 ms), ...]\n",
      "*     Projection: Proj_ from Exc to Exc, synapse: L4_MC_L23_BTC\n",
      "*       8 connections (wd): [(Connection 0: 0 -> 0, weight: 0.290762, delay: 0.00000 ms), ...]\n",
      "*     Projection: Proj_ from Exc to Exc, synapse: L4_MC_L23_BTC\n",
      "*       1 connections (wd): [(Connection 0: 0 -> 0, weight: 0.677264, delay: 0.00000 ms), ...]\n",
      "*     Projection: Proj_ from Exc to Exc, synapse: L4_MC_L23_BTC\n",
      "*       4 connections (wd): [(Connection 0: 0 -> 0, weight: 0.538789, delay: 0.00000 ms), ...]\n",
      "*     Projection: Proj_ from Exc to Exc, synapse: L4_MC_L23_BTC\n",
      "*       3 connections (wd): [(Connection 0: 0 -> 0, weight: 0.263278, delay: 0.00000 ms), ...]\n",
      "*     Projection: Proj_ from Exc to Exc, synapse: L4_MC_L23_BTC\n",
      "*       1 connections (wd): [(Connection 0: 0 -> 0, weight: 0.929631, delay: 0.00000 ms), ...]\n",
      "*     Projection: Proj_ from Exc to Exc, synapse: L4_MC_L23_BTC\n",
      "*       5 connections (wd): [(Connection 0: 0 -> 0, weight: 0.388623, delay: 0.00000 ms), ...]\n",
      "*     Projection: Proj_ from Exc to Exc, synapse: L4_MC_L23_BTC\n",
      "*       1 connections (wd): [(Connection 0: 0 -> 0, weight: 0.799639, delay: 0.00000 ms), ...]\n",
      "*     Projection: Proj_ from Exc to Exc, synapse: L4_MC_L23_BTC\n",
      "*       2 connections (wd): [(Connection 0: 0 -> 0, weight: 0.706548, delay: 0.00000 ms), ...]\n",
      "*     Projection: Proj_ from Exc to Exc, synapse: L4_MC_L23_BTC\n",
      "*       4 connections (wd): [(Connection 0: 0 -> 0, weight: 0.188894, delay: 0.00000 ms), ...]\n",
      "*     Projection: Proj_ from Exc to Exc, synapse: L4_MC_L23_BTC\n",
      "*       2 connections (wd): [(Connection 0: 0 -> 0, weight: 0.008469, delay: 0.00000 ms), ...]\n",
      "*     Projection: Proj_ from Exc to Exc, synapse: L4_MC_L23_BTC\n",
      "*       1 connections (wd): [(Connection 0: 0 -> 0, weight: 0.670972, delay: 0.00000 ms), ...]\n",
      "*     Projection: Proj_ from Exc to Exc, synapse: L4_MC_L23_BTC\n",
      "*       1 connections (wd): [(Connection 0: 0 -> 0, weight: 0.172188, delay: 0.00000 ms), ...]\n",
      "*     Projection: Proj_ from Exc to Exc, synapse: L4_MC_L23_BTC\n",
      "*       2 connections (wd): [(Connection 0: 0 -> 0, weight: 0.178170, delay: 0.00000 ms), ...]\n",
      "*     Projection: Proj_ from Exc to Exc, synapse: L4_MC_L23_BTC\n",
      "*       2 connections (wd): [(Connection 0: 0 -> 0, weight: 0.037495, delay: 0.00000 ms), ...]\n",
      "*     Projection: Proj_ from Exc to Exc, synapse: L4_MC_L23_BTC\n",
      "*       3 connections (wd): [(Connection 0: 0 -> 0, weight: 0.968246, delay: 0.00000 ms), ...]\n",
      "*     Projection: Proj_ from Exc to Exc, synapse: L4_MC_L23_BTC\n",
      "*       1 connections (wd): [(Connection 0: 0 -> 0, weight: 0.508870, delay: 0.00000 ms), ...]\n",
      "*     Projection: Proj_ from Exc to Exc, synapse: L4_MC_L23_BTC\n",
      "*       24 connections (wd): [(Connection 0: 0 -> 0, weight: 0.086509, delay: 0.00000 ms), ...]\n",
      "*     Projection: Proj_ from Exc to Exc, synapse: L4_MC_L23_BTC\n",
      "*       3 connections (wd): [(Connection 0: 0 -> 0, weight: 0.444366, delay: 0.00000 ms), ...]\n",
      "*     Projection: Proj_ from Exc to Exc, synapse: L4_MC_L23_BTC\n",
      "*       12 connections (wd): [(Connection 0: 0 -> 0, weight: 0.510652, delay: 0.00000 ms), ...]\n",
      "*     Projection: Proj_ from Exc to Exc, synapse: L4_MC_L23_BTC\n",
      "*       9 connections (wd): [(Connection 0: 0 -> 0, weight: 0.365154, delay: 0.00000 ms), ...]\n",
      "*     Projection: Proj_ from Exc to Exc, synapse: L4_MC_L23_BTC\n",
      "*       3 connections (wd): [(Connection 0: 0 -> 0, weight: 0.120933, delay: 0.00000 ms), ...]\n",
      "*     Projection: Proj_ from Exc to Exc, synapse: L4_MC_L23_BTC\n",
      "*       15 connections (wd): [(Connection 0: 0 -> 0, weight: 0.104676, delay: 0.00000 ms), ...]\n",
      "*     Projection: Proj_ from Exc to Exc, synapse: L4_MC_L23_BTC\n",
      "*       3 connections (wd): [(Connection 0: 0 -> 0, weight: 0.531464, delay: 0.00000 ms), ...]\n",
      "*     Projection: Proj_ from Exc to Exc, synapse: L4_MC_L23_BTC\n",
      "*       6 connections (wd): [(Connection 0: 0 -> 0, weight: 0.051351, delay: 0.00000 ms), ...]\n",
      "*     Projection: Proj_ from Exc to Exc, synapse: L4_MC_L23_BTC\n",
      "*       12 connections (wd): [(Connection 0: 0 -> 0, weight: 0.978173, delay: 0.00000 ms), ...]\n",
      "*     Projection: Proj_ from Exc to Exc, synapse: L4_MC_L23_BTC\n",
      "*       6 connections (wd): [(Connection 0: 0 -> 0, weight: 0.671377, delay: 0.00000 ms), ...]\n",
      "*     Projection: Proj_ from Exc to Exc, synapse: L4_MC_L23_BTC\n",
      "*       3 connections (wd): [(Connection 0: 0 -> 0, weight: 0.146309, delay: 0.00000 ms), ...]\n",
      "*     Projection: Proj_ from Exc to Exc, synapse: L4_MC_L23_BTC\n",
      "*       3 connections (wd): [(Connection 0: 0 -> 0, weight: 0.957177, delay: 0.00000 ms), ...]\n",
      "*     Projection: Proj_ from Exc to Exc, synapse: L4_MC_L23_BTC\n",
      "*       6 connections (wd): [(Connection 0: 0 -> 0, weight: 0.219604, delay: 0.00000 ms), ...]\n",
      "*     Projection: Proj_ from Exc to Exc, synapse: L4_MC_L23_BTC\n",
      "*       6 connections (wd): [(Connection 0: 0 -> 0, weight: 0.187059, delay: 0.00000 ms), ...]\n",
      "*     Projection: Proj_ from Exc to Exc, synapse: L4_MC_L23_BTC\n",
      "*       9 connections (wd): [(Connection 0: 0 -> 0, weight: 0.425791, delay: 0.00000 ms), ...]\n",
      "*     Projection: Proj_ from Exc to Exc, synapse: L4_MC_L23_BTC\n",
      "*       3 connections (wd): [(Connection 0: 0 -> 0, weight: 0.292322, delay: 0.00000 ms), ...]\n",
      "*     Projection: Proj_ from Exc to Exc, synapse: L4_MC_L23_BTC\n",
      "*       32 connections (wd): [(Connection 0: 0 -> 0, weight: 0.606277, delay: 0.00000 ms), ...]\n",
      "*     Projection: Proj_ from Exc to Exc, synapse: L4_MC_L23_BTC\n",
      "*       4 connections (wd): [(Connection 0: 0 -> 0, weight: 0.671711, delay: 0.00000 ms), ...]\n",
      "*     Projection: Proj_ from Exc to Exc, synapse: L4_MC_L23_BTC\n",
      "*       16 connections (wd): [(Connection 0: 0 -> 0, weight: 0.417200, delay: 0.00000 ms), ...]\n",
      "*     Projection: Proj_ from Exc to Exc, synapse: L4_MC_L23_BTC\n",
      "*       12 connections (wd): [(Connection 0: 0 -> 0, weight: 0.781734, delay: 0.00000 ms), ...]\n",
      "*     Projection: Proj_ from Exc to Exc, synapse: L4_MC_L23_BTC\n",
      "*       4 connections (wd): [(Connection 0: 0 -> 0, weight: 0.300210, delay: 0.00000 ms), ...]\n",
      "*     Projection: Proj_ from Exc to Exc, synapse: L4_MC_L23_BTC\n",
      "*       20 connections (wd): [(Connection 0: 0 -> 0, weight: 0.474740, delay: 0.00000 ms), ...]\n",
      "*     Projection: Proj_ from Exc to Exc, synapse: L4_MC_L23_BTC\n",
      "*       4 connections (wd): [(Connection 0: 0 -> 0, weight: 0.246489, delay: 0.00000 ms), ...]\n",
      "*     Projection: Proj_ from Exc to Exc, synapse: L4_MC_L23_BTC\n",
      "*       8 connections (wd): [(Connection 0: 0 -> 0, weight: 0.942271, delay: 0.00000 ms), ...]\n",
      "*     Projection: Proj_ from Exc to Exc, synapse: L4_MC_L23_BTC\n",
      "*       16 connections (wd): [(Connection 0: 0 -> 0, weight: 0.540249, delay: 0.00000 ms), ...]\n",
      "*     Projection: Proj_ from Exc to Exc, synapse: L4_MC_L23_BTC\n",
      "*       8 connections (wd): [(Connection 0: 0 -> 0, weight: 0.186932, delay: 0.00000 ms), ...]\n",
      "*     Projection: Proj_ from Exc to Exc, synapse: L4_MC_L23_BTC\n",
      "*       4 connections (wd): [(Connection 0: 0 -> 0, weight: 0.069051, delay: 0.00000 ms), ...]\n",
      "*     Projection: Proj_ from Exc to Exc, synapse: L4_MC_L23_BTC\n",
      "*       4 connections (wd): [(Connection 0: 0 -> 0, weight: 0.337445, delay: 0.00000 ms), ...]\n",
      "*     Projection: Proj_ from Exc to Exc, synapse: L4_MC_L23_BTC\n",
      "*       8 connections (wd): [(Connection 0: 0 -> 0, weight: 0.978233, delay: 0.00000 ms), ...]\n",
      "*     Projection: Proj_ from Exc to Exc, synapse: L4_MC_L23_BTC\n",
      "*       8 connections (wd): [(Connection 0: 0 -> 0, weight: 0.172706, delay: 0.00000 ms), ...]\n",
      "*     Projection: Proj_ from Exc to Exc, synapse: L4_MC_L23_BTC\n",
      "*       12 connections (wd): [(Connection 0: 0 -> 0, weight: 0.128903, delay: 0.00000 ms), ...]\n",
      "*     Projection: Proj_ from Exc to Exc, synapse: L4_MC_L23_BTC\n",
      "*       4 connections (wd): [(Connection 0: 0 -> 0, weight: 0.700067, delay: 0.00000 ms), ...]\n",
      "*     Projection: Proj_ from Exc to Exc, synapse: L4_MC_L23_BTC\n",
      "*       24 connections (wd): [(Connection 0: 0 -> 0, weight: 0.961003, delay: 0.00000 ms), ...]\n",
      "*     Projection: Proj_ from Exc to Exc, synapse: L4_MC_L23_BTC\n",
      "*       3 connections (wd): [(Connection 0: 0 -> 0, weight: 0.351955, delay: 0.00000 ms), ...]\n",
      "*     Projection: Proj_ from Exc to Exc, synapse: L4_MC_L23_BTC\n",
      "*       12 connections (wd): [(Connection 0: 0 -> 0, weight: 0.790370, delay: 0.00000 ms), ...]\n",
      "*     Projection: Proj_ from Exc to Exc, synapse: L4_MC_L23_BTC\n",
      "*       9 connections (wd): [(Connection 0: 0 -> 0, weight: 0.346850, delay: 0.00000 ms), ...]\n",
      "*     Projection: Proj_ from Exc to Exc, synapse: L4_MC_L23_BTC\n",
      "*       3 connections (wd): [(Connection 0: 0 -> 0, weight: 0.037552, delay: 0.00000 ms), ...]\n",
      "*     Projection: Proj_ from Exc to Exc, synapse: L4_MC_L23_BTC\n",
      "*       15 connections (wd): [(Connection 0: 0 -> 0, weight: 0.081422, delay: 0.00000 ms), ...]\n",
      "*     Projection: Proj_ from Exc to Exc, synapse: L4_MC_L23_BTC\n",
      "*       3 connections (wd): [(Connection 0: 0 -> 0, weight: 0.601783, delay: 0.00000 ms), ...]\n",
      "*     Projection: Proj_ from Exc to Exc, synapse: L4_MC_L23_BTC\n",
      "*       6 connections (wd): [(Connection 0: 0 -> 0, weight: 0.072245, delay: 0.00000 ms), ...]\n",
      "*     Projection: Proj_ from Exc to Exc, synapse: L4_MC_L23_BTC\n",
      "*       12 connections (wd): [(Connection 0: 0 -> 0, weight: 0.209789, delay: 0.00000 ms), ...]\n",
      "*     Projection: Proj_ from Exc to Exc, synapse: L4_MC_L23_BTC\n",
      "*       6 connections (wd): [(Connection 0: 0 -> 0, weight: 0.637777, delay: 0.00000 ms), ...]\n",
      "*     Projection: Proj_ from Exc to Exc, synapse: L4_MC_L23_BTC\n",
      "*       3 connections (wd): [(Connection 0: 0 -> 0, weight: 0.500374, delay: 0.00000 ms), ...]\n",
      "*     Projection: Proj_ from Exc to Exc, synapse: L4_MC_L23_BTC\n",
      "*       3 connections (wd): [(Connection 0: 0 -> 0, weight: 0.155046, delay: 0.00000 ms), ...]\n",
      "*     Projection: Proj_ from Exc to Exc, synapse: L4_MC_L23_BTC\n",
      "*       6 connections (wd): [(Connection 0: 0 -> 0, weight: 0.004383, delay: 0.00000 ms), ...]\n",
      "*     Projection: Proj_ from Exc to Exc, synapse: L4_MC_L23_BTC\n",
      "*       6 connections (wd): [(Connection 0: 0 -> 0, weight: 0.811266, delay: 0.00000 ms), ...]\n",
      "*     Projection: Proj_ from Exc to Exc, synapse: L4_MC_L23_BTC\n",
      "*       9 connections (wd): [(Connection 0: 0 -> 0, weight: 0.472086, delay: 0.00000 ms), ...]\n",
      "*     Projection: Proj_ from Exc to Exc, synapse: L4_MC_L23_BTC\n",
      "*       3 connections (wd): [(Connection 0: 0 -> 0, weight: 0.953018, delay: 0.00000 ms), ...]\n",
      "*     Projection: Proj_ from Exc to Exc, synapse: L4_MC_L23_BTC\n",
      "*       8 connections (wd): [(Connection 0: 0 -> 0, weight: 0.875110, delay: 0.00000 ms), ...]\n",
      "*     Projection: Proj_ from Exc to Exc, synapse: L4_MC_L23_BTC\n",
      "*       1 connections (wd): [(Connection 0: 0 -> 0, weight: 0.256766, delay: 0.00000 ms), ...]\n",
      "*     Projection: Proj_ from Exc to Exc, synapse: L4_MC_L23_BTC\n",
      "*       4 connections (wd): [(Connection 0: 0 -> 0, weight: 0.664816, delay: 0.00000 ms), ...]\n",
      "*     Projection: Proj_ from Exc to Exc, synapse: L4_MC_L23_BTC\n",
      "*       3 connections (wd): [(Connection 0: 0 -> 0, weight: 0.471448, delay: 0.00000 ms), ...]\n",
      "*     Projection: Proj_ from Exc to Exc, synapse: L4_MC_L23_BTC\n",
      "*       1 connections (wd): [(Connection 0: 0 -> 0, weight: 0.485650, delay: 0.00000 ms), ...]\n",
      "*     Projection: Proj_ from Exc to Exc, synapse: L4_MC_L23_BTC\n",
      "*       5 connections (wd): [(Connection 0: 0 -> 0, weight: 0.857806, delay: 0.00000 ms), ...]\n",
      "*     Projection: Proj_ from Exc to Exc, synapse: L4_MC_L23_BTC\n",
      "*       1 connections (wd): [(Connection 0: 0 -> 0, weight: 0.484863, delay: 0.00000 ms), ...]\n",
      "*     Projection: Proj_ from Exc to Exc, synapse: L4_MC_L23_BTC\n",
      "*       2 connections (wd): [(Connection 0: 0 -> 0, weight: 0.458266, delay: 0.00000 ms), ...]\n",
      "*     Projection: Proj_ from Exc to Exc, synapse: L4_MC_L23_BTC\n",
      "*       4 connections (wd): [(Connection 0: 0 -> 0, weight: 0.791616, delay: 0.00000 ms), ...]\n",
      "*     Projection: Proj_ from Exc to Exc, synapse: L4_MC_L23_BTC\n",
      "*       2 connections (wd): [(Connection 0: 0 -> 0, weight: 0.877365, delay: 0.00000 ms), ...]\n",
      "*     Projection: Proj_ from Exc to Exc, synapse: L4_MC_L23_BTC\n",
      "*       1 connections (wd): [(Connection 0: 0 -> 0, weight: 0.104725, delay: 0.00000 ms), ...]\n",
      "*     Projection: Proj_ from Exc to Exc, synapse: L4_MC_L23_BTC\n",
      "*       1 connections (wd): [(Connection 0: 0 -> 0, weight: 0.229984, delay: 0.00000 ms), ...]\n",
      "*     Projection: Proj_ from Exc to Exc, synapse: L4_MC_L23_BTC\n",
      "*       2 connections (wd): [(Connection 0: 0 -> 0, weight: 0.444523, delay: 0.00000 ms), ...]\n",
      "*     Projection: Proj_ from Exc to Exc, synapse: L4_MC_L23_BTC\n",
      "*       2 connections (wd): [(Connection 0: 0 -> 0, weight: 0.977831, delay: 0.00000 ms), ...]\n",
      "*     Projection: Proj_ from Exc to Exc, synapse: L4_MC_L23_BTC\n",
      "*       3 connections (wd): [(Connection 0: 0 -> 0, weight: 0.686671, delay: 0.00000 ms), ...]\n",
      "*     Projection: Proj_ from Exc to Exc, synapse: L4_MC_L23_BTC\n",
      "*       1 connections (wd): [(Connection 0: 0 -> 0, weight: 0.651492, delay: 0.00000 ms), ...]\n",
      "*     Projection: Proj_ from Exc to Exc, synapse: L4_MC_L23_BTC\n",
      "*       8 connections (wd): [(Connection 0: 0 -> 0, weight: 0.447950, delay: 0.00000 ms), ...]\n",
      "*     Projection: Proj_ from Exc to Exc, synapse: L4_MC_L23_BTC\n",
      "*       1 connections (wd): [(Connection 0: 0 -> 0, weight: 0.620627, delay: 0.00000 ms), ...]\n",
      "*     Projection: Proj_ from Exc to Exc, synapse: L4_MC_L23_BTC\n",
      "*       4 connections (wd): [(Connection 0: 0 -> 0, weight: 0.363885, delay: 0.00000 ms), ...]\n",
      "*     Projection: Proj_ from Exc to Exc, synapse: L4_MC_L23_BTC\n",
      "*       3 connections (wd): [(Connection 0: 0 -> 0, weight: 0.772160, delay: 0.00000 ms), ...]\n",
      "*     Projection: Proj_ from Exc to Exc, synapse: L4_MC_L23_BTC\n",
      "*       1 connections (wd): [(Connection 0: 0 -> 0, weight: 0.010017, delay: 0.00000 ms), ...]\n",
      "*     Projection: Proj_ from Exc to Exc, synapse: L4_MC_L23_BTC\n",
      "*       5 connections (wd): [(Connection 0: 0 -> 0, weight: 0.932382, delay: 0.00000 ms), ...]\n",
      "*     Projection: Proj_ from Exc to Exc, synapse: L4_MC_L23_BTC\n",
      "*       1 connections (wd): [(Connection 0: 0 -> 0, weight: 0.256215, delay: 0.00000 ms), ...]\n",
      "*     Projection: Proj_ from Exc to Exc, synapse: L4_MC_L23_BTC\n",
      "*       2 connections (wd): [(Connection 0: 0 -> 0, weight: 0.851266, delay: 0.00000 ms), ...]\n",
      "*     Projection: Proj_ from Exc to Exc, synapse: L4_MC_L23_BTC\n",
      "*       4 connections (wd): [(Connection 0: 0 -> 0, weight: 0.500402, delay: 0.00000 ms), ...]\n",
      "*     Projection: Proj_ from Exc to Exc, synapse: L4_MC_L23_BTC\n",
      "*       2 connections (wd): [(Connection 0: 0 -> 0, weight: 0.688309, delay: 0.00000 ms), ...]\n",
      "*     Projection: Proj_ from Exc to Exc, synapse: L4_MC_L23_BTC\n",
      "*       1 connections (wd): [(Connection 0: 0 -> 0, weight: 0.402127, delay: 0.00000 ms), ...]\n",
      "*     Projection: Proj_ from Exc to Exc, synapse: L4_MC_L23_BTC\n",
      "*       1 connections (wd): [(Connection 0: 0 -> 0, weight: 0.349374, delay: 0.00000 ms), ...]\n",
      "*     Projection: Proj_ from Exc to Exc, synapse: L4_MC_L23_BTC\n",
      "*       2 connections (wd): [(Connection 0: 0 -> 0, weight: 0.812216, delay: 0.00000 ms), ...]\n",
      "*     Projection: Proj_ from Exc to Exc, synapse: L4_MC_L23_BTC\n",
      "*       2 connections (wd): [(Connection 0: 0 -> 0, weight: 0.013931, delay: 0.00000 ms), ...]\n",
      "*     Projection: Proj_ from Exc to Exc, synapse: L4_MC_L23_BTC\n",
      "*       3 connections (wd): [(Connection 0: 0 -> 0, weight: 0.254515, delay: 0.00000 ms), ...]\n",
      "*     Projection: Proj_ from Exc to Exc, synapse: L4_MC_L23_BTC\n",
      "*       1 connections (wd): [(Connection 0: 0 -> 0, weight: 0.075086, delay: 0.00000 ms), ...]\n",
      "*     Projection: Proj_ from Exc to Exc, synapse: L23_MC_L1_SLAC\n",
      "*       102 connections (wd): [(Connection 0: 0 -> 0, weight: 0.102662, delay: 0.00000 ms), ...]\n",
      "*     Projection: Proj_ from Exc to Exc, synapse: L23_MC_L1_SLAC\n",
      "*       136 connections (wd): [(Connection 0: 0 -> 0, weight: 0.720048, delay: 0.00000 ms), ...]\n",
      "*     Projection: Proj_ from Exc to Exc, synapse: L23_MC_L1_SLAC\n",
      "*       102 connections (wd): [(Connection 0: 0 -> 0, weight: 0.784903, delay: 0.00000 ms), ...]\n",
      "*     Projection: Proj_ from Exc to Exc, synapse: L23_MC_L1_SLAC\n",
      "*       85 connections (wd): [(Connection 0: 0 -> 0, weight: 0.409771, delay: 0.00000 ms), ...]\n",
      "*     Projection: Proj_ from Exc to Exc, synapse: L23_MC_L1_SLAC\n",
      "*       102 connections (wd): [(Connection 0: 0 -> 0, weight: 0.424533, delay: 0.00000 ms), ...]\n",
      "*     Projection: Proj_ from Exc to Exc, synapse: L23_MC_L1_SLAC\n",
      "*       34 connections (wd): [(Connection 0: 0 -> 0, weight: 0.681173, delay: 0.00000 ms), ...]\n",
      "*     Projection: Proj_ from Exc to Exc, synapse: L23_MC_L1_SLAC\n",
      "*       17 connections (wd): [(Connection 0: 0 -> 0, weight: 0.862547, delay: 0.00000 ms), ...]\n",
      "*     Projection: Proj_ from Exc to Exc, synapse: L23_MC_L1_SLAC\n",
      "*       34 connections (wd): [(Connection 0: 0 -> 0, weight: 0.573408, delay: 0.00000 ms), ...]\n",
      "*     Projection: Proj_ from Exc to Exc, synapse: L23_MC_L1_SLAC\n",
      "*       17 connections (wd): [(Connection 0: 0 -> 0, weight: 0.240013, delay: 0.00000 ms), ...]\n",
      "*     Projection: Proj_ from Exc to Exc, synapse: L23_MC_L1_SLAC\n",
      "*       17 connections (wd): [(Connection 0: 0 -> 0, weight: 0.728063, delay: 0.00000 ms), ...]\n",
      "*     Projection: Proj_ from Exc to Exc, synapse: L23_MC_L1_SLAC\n",
      "*       17 connections (wd): [(Connection 0: 0 -> 0, weight: 0.387247, delay: 0.00000 ms), ...]\n",
      "*     Projection: Proj_ from Exc to Exc, synapse: L23_MC_L1_SLAC\n",
      "*       34 connections (wd): [(Connection 0: 0 -> 0, weight: 0.900112, delay: 0.00000 ms), ...]\n",
      "*     Projection: Proj_ from Exc to Exc, synapse: L23_MC_L1_SLAC\n",
      "*       30 connections (wd): [(Connection 0: 0 -> 0, weight: 0.935611, delay: 0.00000 ms), ...]\n",
      "*     Projection: Proj_ from Exc to Exc, synapse: L23_MC_L1_SLAC\n",
      "*       40 connections (wd): [(Connection 0: 0 -> 0, weight: 0.517597, delay: 0.00000 ms), ...]\n",
      "*     Projection: Proj_ from Exc to Exc, synapse: L23_MC_L1_SLAC\n",
      "*       30 connections (wd): [(Connection 0: 0 -> 0, weight: 0.426624, delay: 0.00000 ms), ...]\n",
      "*     Projection: Proj_ from Exc to Exc, synapse: L23_MC_L1_SLAC\n",
      "*       25 connections (wd): [(Connection 0: 0 -> 0, weight: 0.029599, delay: 0.00000 ms), ...]\n",
      "*     Projection: Proj_ from Exc to Exc, synapse: L23_MC_L1_SLAC\n",
      "*       30 connections (wd): [(Connection 0: 0 -> 0, weight: 0.349617, delay: 0.00000 ms), ...]\n",
      "*     Projection: Proj_ from Exc to Exc, synapse: L23_MC_L1_SLAC\n",
      "*       10 connections (wd): [(Connection 0: 0 -> 0, weight: 0.786692, delay: 0.00000 ms), ...]\n",
      "*     Projection: Proj_ from Exc to Exc, synapse: L23_MC_L1_SLAC\n",
      "*       5 connections (wd): [(Connection 0: 0 -> 0, weight: 0.398969, delay: 0.00000 ms), ...]\n",
      "*     Projection: Proj_ from Exc to Exc, synapse: L23_MC_L1_SLAC\n",
      "*       10 connections (wd): [(Connection 0: 0 -> 0, weight: 0.152677, delay: 0.00000 ms), ...]\n",
      "*     Projection: Proj_ from Exc to Exc, synapse: L23_MC_L1_SLAC\n",
      "*       5 connections (wd): [(Connection 0: 0 -> 0, weight: 0.969208, delay: 0.00000 ms), ...]\n",
      "*     Projection: Proj_ from Exc to Exc, synapse: L23_MC_L1_SLAC\n",
      "*       5 connections (wd): [(Connection 0: 0 -> 0, weight: 0.956381, delay: 0.00000 ms), ...]\n",
      "*     Projection: Proj_ from Exc to Exc, synapse: L23_MC_L1_SLAC\n",
      "*       5 connections (wd): [(Connection 0: 0 -> 0, weight: 0.816635, delay: 0.00000 ms), ...]\n",
      "*     Projection: Proj_ from Exc to Exc, synapse: L23_MC_L1_SLAC\n",
      "*       10 connections (wd): [(Connection 0: 0 -> 0, weight: 0.251480, delay: 0.00000 ms), ...]\n",
      "*     Projection: Proj_ from Exc to Exc, synapse: L23_MC_L1_SLAC\n",
      "*       18 connections (wd): [(Connection 0: 0 -> 0, weight: 0.952347, delay: 0.00000 ms), ...]\n",
      "*     Projection: Proj_ from Exc to Exc, synapse: L23_MC_L1_SLAC\n",
      "*       24 connections (wd): [(Connection 0: 0 -> 0, weight: 0.213914, delay: 0.00000 ms), ...]\n",
      "*     Projection: Proj_ from Exc to Exc, synapse: L23_MC_L1_SLAC\n",
      "*       18 connections (wd): [(Connection 0: 0 -> 0, weight: 0.562531, delay: 0.00000 ms), ...]\n",
      "*     Projection: Proj_ from Exc to Exc, synapse: L23_MC_L1_SLAC\n",
      "*       15 connections (wd): [(Connection 0: 0 -> 0, weight: 0.131313, delay: 0.00000 ms), ...]\n",
      "*     Projection: Proj_ from Exc to Exc, synapse: L23_MC_L1_SLAC\n",
      "*       18 connections (wd): [(Connection 0: 0 -> 0, weight: 0.039186, delay: 0.00000 ms), ...]\n",
      "*     Projection: Proj_ from Exc to Exc, synapse: L23_MC_L1_SLAC\n",
      "*       6 connections (wd): [(Connection 0: 0 -> 0, weight: 0.704221, delay: 0.00000 ms), ...]\n",
      "*     Projection: Proj_ from Exc to Exc, synapse: L23_MC_L1_SLAC\n",
      "*       3 connections (wd): [(Connection 0: 0 -> 0, weight: 0.801407, delay: 0.00000 ms), ...]\n",
      "*     Projection: Proj_ from Exc to Exc, synapse: L23_MC_L1_SLAC\n",
      "*       6 connections (wd): [(Connection 0: 0 -> 0, weight: 0.859213, delay: 0.00000 ms), ...]\n",
      "*     Projection: Proj_ from Exc to Exc, synapse: L23_MC_L1_SLAC\n",
      "*       3 connections (wd): [(Connection 0: 0 -> 0, weight: 0.792680, delay: 0.00000 ms), ...]\n",
      "*     Projection: Proj_ from Exc to Exc, synapse: L23_MC_L1_SLAC\n",
      "*       3 connections (wd): [(Connection 0: 0 -> 0, weight: 0.580693, delay: 0.00000 ms), ...]\n",
      "*     Projection: Proj_ from Exc to Exc, synapse: L23_MC_L1_SLAC\n",
      "*       3 connections (wd): [(Connection 0: 0 -> 0, weight: 0.440008, delay: 0.00000 ms), ...]\n",
      "*     Projection: Proj_ from Exc to Exc, synapse: L23_MC_L1_SLAC\n",
      "*       6 connections (wd): [(Connection 0: 0 -> 0, weight: 0.108191, delay: 0.00000 ms), ...]\n",
      "*     Projection: Proj_ from Exc to Exc, synapse: L23_MC_L1_SLAC\n",
      "*       24 connections (wd): [(Connection 0: 0 -> 0, weight: 0.219052, delay: 0.00000 ms), ...]\n",
      "*     Projection: Proj_ from Exc to Exc, synapse: L23_MC_L1_SLAC\n",
      "*       32 connections (wd): [(Connection 0: 0 -> 0, weight: 0.150582, delay: 0.00000 ms), ...]\n",
      "*     Projection: Proj_ from Exc to Exc, synapse: L23_MC_L1_SLAC\n",
      "*       24 connections (wd): [(Connection 0: 0 -> 0, weight: 0.948989, delay: 0.00000 ms), ...]\n",
      "*     Projection: Proj_ from Exc to Exc, synapse: L23_MC_L1_SLAC\n",
      "*       20 connections (wd): [(Connection 0: 0 -> 0, weight: 0.224636, delay: 0.00000 ms), ...]\n",
      "*     Projection: Proj_ from Exc to Exc, synapse: L23_MC_L1_SLAC\n",
      "*       24 connections (wd): [(Connection 0: 0 -> 0, weight: 0.474483, delay: 0.00000 ms), ...]\n",
      "*     Projection: Proj_ from Exc to Exc, synapse: L23_MC_L1_SLAC\n",
      "*       8 connections (wd): [(Connection 0: 0 -> 0, weight: 0.343486, delay: 0.00000 ms), ...]\n",
      "*     Projection: Proj_ from Exc to Exc, synapse: L23_MC_L1_SLAC\n",
      "*       4 connections (wd): [(Connection 0: 0 -> 0, weight: 0.062487, delay: 0.00000 ms), ...]\n",
      "*     Projection: Proj_ from Exc to Exc, synapse: L23_MC_L1_SLAC\n",
      "*       8 connections (wd): [(Connection 0: 0 -> 0, weight: 0.953721, delay: 0.00000 ms), ...]\n",
      "*     Projection: Proj_ from Exc to Exc, synapse: L23_MC_L1_SLAC\n",
      "*       4 connections (wd): [(Connection 0: 0 -> 0, weight: 0.368417, delay: 0.00000 ms), ...]\n",
      "*     Projection: Proj_ from Exc to Exc, synapse: L23_MC_L1_SLAC\n",
      "*       4 connections (wd): [(Connection 0: 0 -> 0, weight: 0.164712, delay: 0.00000 ms), ...]\n",
      "*     Projection: Proj_ from Exc to Exc, synapse: L23_MC_L1_SLAC\n",
      "*       4 connections (wd): [(Connection 0: 0 -> 0, weight: 0.334192, delay: 0.00000 ms), ...]\n",
      "*     Projection: Proj_ from Exc to Exc, synapse: L23_MC_L1_SLAC\n",
      "*       8 connections (wd): [(Connection 0: 0 -> 0, weight: 0.614914, delay: 0.00000 ms), ...]\n",
      "*     Projection: Proj_ from Exc to Exc, synapse: L23_MC_L1_SLAC\n",
      "*       36 connections (wd): [(Connection 0: 0 -> 0, weight: 0.476198, delay: 0.00000 ms), ...]\n",
      "*     Projection: Proj_ from Exc to Exc, synapse: L23_MC_L1_SLAC\n",
      "*       48 connections (wd): [(Connection 0: 0 -> 0, weight: 0.906850, delay: 0.00000 ms), ...]\n",
      "*     Projection: Proj_ from Exc to Exc, synapse: L23_MC_L1_SLAC\n",
      "*       36 connections (wd): [(Connection 0: 0 -> 0, weight: 0.398947, delay: 0.00000 ms), ...]\n",
      "*     Projection: Proj_ from Exc to Exc, synapse: L23_MC_L1_SLAC\n",
      "*       30 connections (wd): [(Connection 0: 0 -> 0, weight: 0.287237, delay: 0.00000 ms), ...]\n",
      "*     Projection: Proj_ from Exc to Exc, synapse: L23_MC_L1_SLAC\n",
      "*       36 connections (wd): [(Connection 0: 0 -> 0, weight: 0.231193, delay: 0.00000 ms), ...]\n",
      "*     Projection: Proj_ from Exc to Exc, synapse: L23_MC_L1_SLAC\n",
      "*       12 connections (wd): [(Connection 0: 0 -> 0, weight: 0.659205, delay: 0.00000 ms), ...]\n",
      "*     Projection: Proj_ from Exc to Exc, synapse: L23_MC_L1_SLAC\n",
      "*       6 connections (wd): [(Connection 0: 0 -> 0, weight: 0.307337, delay: 0.00000 ms), ...]\n",
      "*     Projection: Proj_ from Exc to Exc, synapse: L23_MC_L1_SLAC\n",
      "*       12 connections (wd): [(Connection 0: 0 -> 0, weight: 0.096532, delay: 0.00000 ms), ...]\n",
      "*     Projection: Proj_ from Exc to Exc, synapse: L23_MC_L1_SLAC\n",
      "*       6 connections (wd): [(Connection 0: 0 -> 0, weight: 0.407374, delay: 0.00000 ms), ...]\n",
      "*     Projection: Proj_ from Exc to Exc, synapse: L23_MC_L1_SLAC\n",
      "*       6 connections (wd): [(Connection 0: 0 -> 0, weight: 0.276999, delay: 0.00000 ms), ...]\n",
      "*     Projection: Proj_ from Exc to Exc, synapse: L23_MC_L1_SLAC\n",
      "*       6 connections (wd): [(Connection 0: 0 -> 0, weight: 0.949568, delay: 0.00000 ms), ...]\n",
      "*     Projection: Proj_ from Exc to Exc, synapse: L23_MC_L1_SLAC\n",
      "*       12 connections (wd): [(Connection 0: 0 -> 0, weight: 0.163155, delay: 0.00000 ms), ...]\n",
      "*     Projection: Proj_ from Exc to Exc, synapse: L23_MC_L1_SLAC\n",
      "*       42 connections (wd): [(Connection 0: 0 -> 0, weight: 0.647922, delay: 0.00000 ms), ...]\n",
      "*     Projection: Proj_ from Exc to Exc, synapse: L23_MC_L1_SLAC\n",
      "*       56 connections (wd): [(Connection 0: 0 -> 0, weight: 0.598168, delay: 0.00000 ms), ...]\n",
      "*     Projection: Proj_ from Exc to Exc, synapse: L23_MC_L1_SLAC\n",
      "*       42 connections (wd): [(Connection 0: 0 -> 0, weight: 0.353690, delay: 0.00000 ms), ...]\n",
      "*     Projection: Proj_ from Exc to Exc, synapse: L23_MC_L1_SLAC\n",
      "*       35 connections (wd): [(Connection 0: 0 -> 0, weight: 0.719166, delay: 0.00000 ms), ...]\n",
      "*     Projection: Proj_ from Exc to Exc, synapse: L23_MC_L1_SLAC\n",
      "*       42 connections (wd): [(Connection 0: 0 -> 0, weight: 0.446083, delay: 0.00000 ms), ...]\n",
      "*     Projection: Proj_ from Exc to Exc, synapse: L23_MC_L1_SLAC\n",
      "*       14 connections (wd): [(Connection 0: 0 -> 0, weight: 0.852403, delay: 0.00000 ms), ...]\n",
      "*     Projection: Proj_ from Exc to Exc, synapse: L23_MC_L1_SLAC\n",
      "*       7 connections (wd): [(Connection 0: 0 -> 0, weight: 0.411403, delay: 0.00000 ms), ...]\n",
      "*     Projection: Proj_ from Exc to Exc, synapse: L23_MC_L1_SLAC\n",
      "*       14 connections (wd): [(Connection 0: 0 -> 0, weight: 0.434537, delay: 0.00000 ms), ...]\n",
      "*     Projection: Proj_ from Exc to Exc, synapse: L23_MC_L1_SLAC\n",
      "*       7 connections (wd): [(Connection 0: 0 -> 0, weight: 0.004176, delay: 0.00000 ms), ...]\n",
      "*     Projection: Proj_ from Exc to Exc, synapse: L23_MC_L1_SLAC\n",
      "*       7 connections (wd): [(Connection 0: 0 -> 0, weight: 0.884040, delay: 0.00000 ms), ...]\n",
      "*     Projection: Proj_ from Exc to Exc, synapse: L23_MC_L1_SLAC\n",
      "*       7 connections (wd): [(Connection 0: 0 -> 0, weight: 0.644687, delay: 0.00000 ms), ...]\n",
      "*     Projection: Proj_ from Exc to Exc, synapse: L23_MC_L1_SLAC\n",
      "*       14 connections (wd): [(Connection 0: 0 -> 0, weight: 0.121117, delay: 0.00000 ms), ...]\n",
      "*     Projection: Proj_ from Exc to Exc, synapse: L23_MC_L1_SLAC\n",
      "*       12 connections (wd): [(Connection 0: 0 -> 0, weight: 0.331700, delay: 0.00000 ms), ...]\n",
      "*     Projection: Proj_ from Exc to Exc, synapse: L23_MC_L1_SLAC\n",
      "*       16 connections (wd): [(Connection 0: 0 -> 0, weight: 0.462993, delay: 0.00000 ms), ...]\n",
      "*     Projection: Proj_ from Exc to Exc, synapse: L23_MC_L1_SLAC\n",
      "*       12 connections (wd): [(Connection 0: 0 -> 0, weight: 0.369257, delay: 0.00000 ms), ...]\n",
      "*     Projection: Proj_ from Exc to Exc, synapse: L23_MC_L1_SLAC\n",
      "*       10 connections (wd): [(Connection 0: 0 -> 0, weight: 0.034377, delay: 0.00000 ms), ...]\n",
      "*     Projection: Proj_ from Exc to Exc, synapse: L23_MC_L1_SLAC\n",
      "*       12 connections (wd): [(Connection 0: 0 -> 0, weight: 0.217449, delay: 0.00000 ms), ...]\n",
      "*     Projection: Proj_ from Exc to Exc, synapse: L23_MC_L1_SLAC\n",
      "*       4 connections (wd): [(Connection 0: 0 -> 0, weight: 0.189197, delay: 0.00000 ms), ...]\n",
      "*     Projection: Proj_ from Exc to Exc, synapse: L23_MC_L1_SLAC\n",
      "*       2 connections (wd): [(Connection 0: 0 -> 0, weight: 0.678989, delay: 0.00000 ms), ...]\n",
      "*     Projection: Proj_ from Exc to Exc, synapse: L23_MC_L1_SLAC\n",
      "*       4 connections (wd): [(Connection 0: 0 -> 0, weight: 0.957339, delay: 0.00000 ms), ...]\n",
      "*     Projection: Proj_ from Exc to Exc, synapse: L23_MC_L1_SLAC\n",
      "*       2 connections (wd): [(Connection 0: 0 -> 0, weight: 0.710180, delay: 0.00000 ms), ...]\n",
      "*     Projection: Proj_ from Exc to Exc, synapse: L23_MC_L1_SLAC\n",
      "*       2 connections (wd): [(Connection 0: 0 -> 0, weight: 0.734374, delay: 0.00000 ms), ...]\n",
      "*     Projection: Proj_ from Exc to Exc, synapse: L23_MC_L1_SLAC\n",
      "*       2 connections (wd): [(Connection 0: 0 -> 0, weight: 0.797259, delay: 0.00000 ms), ...]\n",
      "*     Projection: Proj_ from Exc to Exc, synapse: L23_MC_L1_SLAC\n",
      "*       4 connections (wd): [(Connection 0: 0 -> 0, weight: 0.695258, delay: 0.00000 ms), ...]\n",
      "*     Projection: Proj_ from Exc to Exc, synapse: L23_MC_L1_SLAC\n",
      "*       102 connections (wd): [(Connection 0: 0 -> 0, weight: 0.398471, delay: 0.00000 ms), ...]\n",
      "*     Projection: Proj_ from Exc to Exc, synapse: L23_MC_L1_SLAC\n",
      "*       136 connections (wd): [(Connection 0: 0 -> 0, weight: 0.502657, delay: 0.00000 ms), ...]\n",
      "*     Projection: Proj_ from Exc to Exc, synapse: L23_MC_L1_SLAC\n",
      "*       102 connections (wd): [(Connection 0: 0 -> 0, weight: 0.034468, delay: 0.00000 ms), ...]\n",
      "*     Projection: Proj_ from Exc to Exc, synapse: L23_MC_L1_SLAC\n",
      "*       85 connections (wd): [(Connection 0: 0 -> 0, weight: 0.589867, delay: 0.00000 ms), ...]\n",
      "*     Projection: Proj_ from Exc to Exc, synapse: L23_MC_L1_SLAC\n",
      "*       102 connections (wd): [(Connection 0: 0 -> 0, weight: 0.750482, delay: 0.00000 ms), ...]\n",
      "*     Projection: Proj_ from Exc to Exc, synapse: L23_MC_L1_SLAC\n",
      "*       34 connections (wd): [(Connection 0: 0 -> 0, weight: 0.522041, delay: 0.00000 ms), ...]\n",
      "*     Projection: Proj_ from Exc to Exc, synapse: L23_MC_L1_SLAC\n",
      "*       17 connections (wd): [(Connection 0: 0 -> 0, weight: 0.215365, delay: 0.00000 ms), ...]\n",
      "*     Projection: Proj_ from Exc to Exc, synapse: L23_MC_L1_SLAC\n",
      "*       34 connections (wd): [(Connection 0: 0 -> 0, weight: 0.199072, delay: 0.00000 ms), ...]\n",
      "*     Projection: Proj_ from Exc to Exc, synapse: L23_MC_L1_SLAC\n",
      "*       17 connections (wd): [(Connection 0: 0 -> 0, weight: 0.176380, delay: 0.00000 ms), ...]\n",
      "*     Projection: Proj_ from Exc to Exc, synapse: L23_MC_L1_SLAC\n",
      "*       17 connections (wd): [(Connection 0: 0 -> 0, weight: 0.962327, delay: 0.00000 ms), ...]\n",
      "*     Projection: Proj_ from Exc to Exc, synapse: L23_MC_L1_SLAC\n",
      "*       17 connections (wd): [(Connection 0: 0 -> 0, weight: 0.032959, delay: 0.00000 ms), ...]\n",
      "*     Projection: Proj_ from Exc to Exc, synapse: L23_MC_L1_SLAC\n",
      "*       34 connections (wd): [(Connection 0: 0 -> 0, weight: 0.145491, delay: 0.00000 ms), ...]\n",
      "*     Projection: Proj_ from Exc to Exc, synapse: L23_MC_L1_SLAC\n",
      "*       42 connections (wd): [(Connection 0: 0 -> 0, weight: 0.602825, delay: 0.00000 ms), ...]\n",
      "*     Projection: Proj_ from Exc to Exc, synapse: L23_MC_L1_SLAC\n",
      "*       56 connections (wd): [(Connection 0: 0 -> 0, weight: 0.408729, delay: 0.00000 ms), ...]\n",
      "*     Projection: Proj_ from Exc to Exc, synapse: L23_MC_L1_SLAC\n",
      "*       42 connections (wd): [(Connection 0: 0 -> 0, weight: 0.961480, delay: 0.00000 ms), ...]\n",
      "*     Projection: Proj_ from Exc to Exc, synapse: L23_MC_L1_SLAC\n",
      "*       35 connections (wd): [(Connection 0: 0 -> 0, weight: 0.273121, delay: 0.00000 ms), ...]\n",
      "*     Projection: Proj_ from Exc to Exc, synapse: L23_MC_L1_SLAC\n",
      "*       42 connections (wd): [(Connection 0: 0 -> 0, weight: 0.760867, delay: 0.00000 ms), ...]\n",
      "*     Projection: Proj_ from Exc to Exc, synapse: L23_MC_L1_SLAC\n",
      "*       14 connections (wd): [(Connection 0: 0 -> 0, weight: 0.955119, delay: 0.00000 ms), ...]\n",
      "*     Projection: Proj_ from Exc to Exc, synapse: L23_MC_L1_SLAC\n",
      "*       7 connections (wd): [(Connection 0: 0 -> 0, weight: 0.600088, delay: 0.00000 ms), ...]\n",
      "*     Projection: Proj_ from Exc to Exc, synapse: L23_MC_L1_SLAC\n",
      "*       14 connections (wd): [(Connection 0: 0 -> 0, weight: 0.167422, delay: 0.00000 ms), ...]\n",
      "*     Projection: Proj_ from Exc to Exc, synapse: L23_MC_L1_SLAC\n",
      "*       7 connections (wd): [(Connection 0: 0 -> 0, weight: 0.722758, delay: 0.00000 ms), ...]\n",
      "*     Projection: Proj_ from Exc to Exc, synapse: L23_MC_L1_SLAC\n",
      "*       7 connections (wd): [(Connection 0: 0 -> 0, weight: 0.104876, delay: 0.00000 ms), ...]\n",
      "*     Projection: Proj_ from Exc to Exc, synapse: L23_MC_L1_SLAC\n",
      "*       7 connections (wd): [(Connection 0: 0 -> 0, weight: 0.053004, delay: 0.00000 ms), ...]\n",
      "*     Projection: Proj_ from Exc to Exc, synapse: L23_MC_L1_SLAC\n",
      "*       14 connections (wd): [(Connection 0: 0 -> 0, weight: 0.763687, delay: 0.00000 ms), ...]\n",
      "*     Projection: Proj_ from Exc to Exc, synapse: L23_MC_L1_SLAC\n",
      "*       48 connections (wd): [(Connection 0: 0 -> 0, weight: 0.372972, delay: 0.00000 ms), ...]\n",
      "*     Projection: Proj_ from Exc to Exc, synapse: L23_MC_L1_SLAC\n",
      "*       64 connections (wd): [(Connection 0: 0 -> 0, weight: 0.512418, delay: 0.00000 ms), ...]\n",
      "*     Projection: Proj_ from Exc to Exc, synapse: L23_MC_L1_SLAC\n",
      "*       48 connections (wd): [(Connection 0: 0 -> 0, weight: 0.360531, delay: 0.00000 ms), ...]\n",
      "*     Projection: Proj_ from Exc to Exc, synapse: L23_MC_L1_SLAC\n",
      "*       40 connections (wd): [(Connection 0: 0 -> 0, weight: 0.594098, delay: 0.00000 ms), ...]\n",
      "*     Projection: Proj_ from Exc to Exc, synapse: L23_MC_L1_SLAC\n",
      "*       48 connections (wd): [(Connection 0: 0 -> 0, weight: 0.429675, delay: 0.00000 ms), ...]\n",
      "*     Projection: Proj_ from Exc to Exc, synapse: L23_MC_L1_SLAC\n",
      "*       16 connections (wd): [(Connection 0: 0 -> 0, weight: 0.761296, delay: 0.00000 ms), ...]\n",
      "*     Projection: Proj_ from Exc to Exc, synapse: L23_MC_L1_SLAC\n",
      "*       8 connections (wd): [(Connection 0: 0 -> 0, weight: 0.491464, delay: 0.00000 ms), ...]\n",
      "*     Projection: Proj_ from Exc to Exc, synapse: L23_MC_L1_SLAC\n",
      "*       16 connections (wd): [(Connection 0: 0 -> 0, weight: 0.654737, delay: 0.00000 ms), ...]\n",
      "*     Projection: Proj_ from Exc to Exc, synapse: L23_MC_L1_SLAC\n",
      "*       8 connections (wd): [(Connection 0: 0 -> 0, weight: 0.318438, delay: 0.00000 ms), ...]\n",
      "*     Projection: Proj_ from Exc to Exc, synapse: L23_MC_L1_SLAC\n",
      "*       8 connections (wd): [(Connection 0: 0 -> 0, weight: 0.783084, delay: 0.00000 ms), ...]\n",
      "*     Projection: Proj_ from Exc to Exc, synapse: L23_MC_L1_SLAC\n",
      "*       8 connections (wd): [(Connection 0: 0 -> 0, weight: 0.286886, delay: 0.00000 ms), ...]\n",
      "*     Projection: Proj_ from Exc to Exc, synapse: L23_MC_L1_SLAC\n",
      "*       16 connections (wd): [(Connection 0: 0 -> 0, weight: 0.819137, delay: 0.00000 ms), ...]\n",
      "*     Projection: Proj_ from Exc to Exc, synapse: L23_MC_L1_SLAC\n",
      "*       24 connections (wd): [(Connection 0: 0 -> 0, weight: 0.528293, delay: 0.00000 ms), ...]\n",
      "*     Projection: Proj_ from Exc to Exc, synapse: L23_MC_L1_SLAC\n",
      "*       32 connections (wd): [(Connection 0: 0 -> 0, weight: 0.263851, delay: 0.00000 ms), ...]\n",
      "*     Projection: Proj_ from Exc to Exc, synapse: L23_MC_L1_SLAC\n",
      "*       24 connections (wd): [(Connection 0: 0 -> 0, weight: 0.732221, delay: 0.00000 ms), ...]\n",
      "*     Projection: Proj_ from Exc to Exc, synapse: L23_MC_L1_SLAC\n",
      "*       20 connections (wd): [(Connection 0: 0 -> 0, weight: 0.746198, delay: 0.00000 ms), ...]\n",
      "*     Projection: Proj_ from Exc to Exc, synapse: L23_MC_L1_SLAC\n",
      "*       24 connections (wd): [(Connection 0: 0 -> 0, weight: 0.179642, delay: 0.00000 ms), ...]\n",
      "*     Projection: Proj_ from Exc to Exc, synapse: L23_MC_L1_SLAC\n",
      "*       8 connections (wd): [(Connection 0: 0 -> 0, weight: 0.001610, delay: 0.00000 ms), ...]\n",
      "*     Projection: Proj_ from Exc to Exc, synapse: L23_MC_L1_SLAC\n",
      "*       4 connections (wd): [(Connection 0: 0 -> 0, weight: 0.227824, delay: 0.00000 ms), ...]\n",
      "*     Projection: Proj_ from Exc to Exc, synapse: L23_MC_L1_SLAC\n",
      "*       8 connections (wd): [(Connection 0: 0 -> 0, weight: 0.538252, delay: 0.00000 ms), ...]\n",
      "*     Projection: Proj_ from Exc to Exc, synapse: L23_MC_L1_SLAC\n",
      "*       4 connections (wd): [(Connection 0: 0 -> 0, weight: 0.641873, delay: 0.00000 ms), ...]\n",
      "*     Projection: Proj_ from Exc to Exc, synapse: L23_MC_L1_SLAC\n",
      "*       4 connections (wd): [(Connection 0: 0 -> 0, weight: 0.715622, delay: 0.00000 ms), ...]\n",
      "*     Projection: Proj_ from Exc to Exc, synapse: L23_MC_L1_SLAC\n",
      "*       4 connections (wd): [(Connection 0: 0 -> 0, weight: 0.690135, delay: 0.00000 ms), ...]\n",
      "*     Projection: Proj_ from Exc to Exc, synapse: L23_MC_L1_SLAC\n",
      "*       8 connections (wd): [(Connection 0: 0 -> 0, weight: 0.734256, delay: 0.00000 ms), ...]\n",
      "*     Projection: Proj_ from Exc to Exc, synapse: L23_MC_L1_SLAC\n",
      "*       24 connections (wd): [(Connection 0: 0 -> 0, weight: 0.177088, delay: 0.00000 ms), ...]\n",
      "*     Projection: Proj_ from Exc to Exc, synapse: L23_MC_L1_SLAC\n",
      "*       32 connections (wd): [(Connection 0: 0 -> 0, weight: 0.091324, delay: 0.00000 ms), ...]\n",
      "*     Projection: Proj_ from Exc to Exc, synapse: L23_MC_L1_SLAC\n",
      "*       24 connections (wd): [(Connection 0: 0 -> 0, weight: 0.002731, delay: 0.00000 ms), ...]\n",
      "*     Projection: Proj_ from Exc to Exc, synapse: L23_MC_L1_SLAC\n",
      "*       20 connections (wd): [(Connection 0: 0 -> 0, weight: 0.480696, delay: 0.00000 ms), ...]\n",
      "*     Projection: Proj_ from Exc to Exc, synapse: L23_MC_L1_SLAC\n",
      "*       24 connections (wd): [(Connection 0: 0 -> 0, weight: 0.150718, delay: 0.00000 ms), ...]\n",
      "*     Projection: Proj_ from Exc to Exc, synapse: L23_MC_L1_SLAC\n",
      "*       8 connections (wd): [(Connection 0: 0 -> 0, weight: 0.432904, delay: 0.00000 ms), ...]\n",
      "*     Projection: Proj_ from Exc to Exc, synapse: L23_MC_L1_SLAC\n",
      "*       4 connections (wd): [(Connection 0: 0 -> 0, weight: 0.586886, delay: 0.00000 ms), ...]\n",
      "*     Projection: Proj_ from Exc to Exc, synapse: L23_MC_L1_SLAC\n",
      "*       8 connections (wd): [(Connection 0: 0 -> 0, weight: 0.669470, delay: 0.00000 ms), ...]\n",
      "*     Projection: Proj_ from Exc to Exc, synapse: L23_MC_L1_SLAC\n",
      "*       4 connections (wd): [(Connection 0: 0 -> 0, weight: 0.016639, delay: 0.00000 ms), ...]\n",
      "*     Projection: Proj_ from Exc to Exc, synapse: L23_MC_L1_SLAC\n",
      "*       4 connections (wd): [(Connection 0: 0 -> 0, weight: 0.351353, delay: 0.00000 ms), ...]\n",
      "*     Projection: Proj_ from Exc to Exc, synapse: L23_MC_L1_SLAC\n",
      "*       4 connections (wd): [(Connection 0: 0 -> 0, weight: 0.486434, delay: 0.00000 ms), ...]\n",
      "*     Projection: Proj_ from Exc to Exc, synapse: L23_MC_L1_SLAC\n",
      "*       8 connections (wd): [(Connection 0: 0 -> 0, weight: 0.852810, delay: 0.00000 ms), ...]\n",
      "*     Projection: Proj_ from Exc to Exc, synapse: L23_MC_L1_SLAC\n",
      "*       42 connections (wd): [(Connection 0: 0 -> 0, weight: 0.547849, delay: 0.00000 ms), ...]\n",
      "*     Projection: Proj_ from Exc to Exc, synapse: L23_MC_L1_SLAC\n",
      "*       56 connections (wd): [(Connection 0: 0 -> 0, weight: 0.252025, delay: 0.00000 ms), ...]\n",
      "*     Projection: Proj_ from Exc to Exc, synapse: L23_MC_L1_SLAC\n",
      "*       42 connections (wd): [(Connection 0: 0 -> 0, weight: 0.029489, delay: 0.00000 ms), ...]\n",
      "*     Projection: Proj_ from Exc to Exc, synapse: L23_MC_L1_SLAC\n",
      "*       35 connections (wd): [(Connection 0: 0 -> 0, weight: 0.127323, delay: 0.00000 ms), ...]\n",
      "*     Projection: Proj_ from Exc to Exc, synapse: L23_MC_L1_SLAC\n",
      "*       42 connections (wd): [(Connection 0: 0 -> 0, weight: 0.670226, delay: 0.00000 ms), ...]\n",
      "*     Projection: Proj_ from Exc to Exc, synapse: L23_MC_L1_SLAC\n",
      "*       14 connections (wd): [(Connection 0: 0 -> 0, weight: 0.901101, delay: 0.00000 ms), ...]\n",
      "*     Projection: Proj_ from Exc to Exc, synapse: L23_MC_L1_SLAC\n",
      "*       7 connections (wd): [(Connection 0: 0 -> 0, weight: 0.569629, delay: 0.00000 ms), ...]\n",
      "*     Projection: Proj_ from Exc to Exc, synapse: L23_MC_L1_SLAC\n",
      "*       14 connections (wd): [(Connection 0: 0 -> 0, weight: 0.225205, delay: 0.00000 ms), ...]\n",
      "*     Projection: Proj_ from Exc to Exc, synapse: L23_MC_L1_SLAC\n",
      "*       7 connections (wd): [(Connection 0: 0 -> 0, weight: 0.783408, delay: 0.00000 ms), ...]\n",
      "*     Projection: Proj_ from Exc to Exc, synapse: L23_MC_L1_SLAC\n",
      "*       7 connections (wd): [(Connection 0: 0 -> 0, weight: 0.901253, delay: 0.00000 ms), ...]\n",
      "*     Projection: Proj_ from Exc to Exc, synapse: L23_MC_L1_SLAC\n",
      "*       7 connections (wd): [(Connection 0: 0 -> 0, weight: 0.299797, delay: 0.00000 ms), ...]\n",
      "*     Projection: Proj_ from Exc to Exc, synapse: L23_MC_L1_SLAC\n",
      "*       14 connections (wd): [(Connection 0: 0 -> 0, weight: 0.864216, delay: 0.00000 ms), ...]\n",
      "*     Projection: Proj_ from Exc to Exc, synapse: L23_MC_L1_SLAC\n",
      "*       18 connections (wd): [(Connection 0: 0 -> 0, weight: 0.117034, delay: 0.00000 ms), ...]\n",
      "*     Projection: Proj_ from Exc to Exc, synapse: L23_MC_L1_SLAC\n",
      "*       24 connections (wd): [(Connection 0: 0 -> 0, weight: 0.621492, delay: 0.00000 ms), ...]\n",
      "*     Projection: Proj_ from Exc to Exc, synapse: L23_MC_L1_SLAC\n",
      "*       18 connections (wd): [(Connection 0: 0 -> 0, weight: 0.555423, delay: 0.00000 ms), ...]\n",
      "*     Projection: Proj_ from Exc to Exc, synapse: L23_MC_L1_SLAC\n",
      "*       15 connections (wd): [(Connection 0: 0 -> 0, weight: 0.918386, delay: 0.00000 ms), ...]\n",
      "*     Projection: Proj_ from Exc to Exc, synapse: L23_MC_L1_SLAC\n",
      "*       18 connections (wd): [(Connection 0: 0 -> 0, weight: 0.252779, delay: 0.00000 ms), ...]\n",
      "*     Projection: Proj_ from Exc to Exc, synapse: L23_MC_L1_SLAC\n",
      "*       6 connections (wd): [(Connection 0: 0 -> 0, weight: 0.204710, delay: 0.00000 ms), ...]\n",
      "*     Projection: Proj_ from Exc to Exc, synapse: L23_MC_L1_SLAC\n",
      "*       3 connections (wd): [(Connection 0: 0 -> 0, weight: 0.662598, delay: 0.00000 ms), ...]\n",
      "*     Projection: Proj_ from Exc to Exc, synapse: L23_MC_L1_SLAC\n",
      "*       6 connections (wd): [(Connection 0: 0 -> 0, weight: 0.216020, delay: 0.00000 ms), ...]\n",
      "*     Projection: Proj_ from Exc to Exc, synapse: L23_MC_L1_SLAC\n",
      "*       3 connections (wd): [(Connection 0: 0 -> 0, weight: 0.996340, delay: 0.00000 ms), ...]\n",
      "*     Projection: Proj_ from Exc to Exc, synapse: L23_MC_L1_SLAC\n",
      "*       3 connections (wd): [(Connection 0: 0 -> 0, weight: 0.676787, delay: 0.00000 ms), ...]\n",
      "*     Projection: Proj_ from Exc to Exc, synapse: L23_MC_L1_SLAC\n",
      "*       3 connections (wd): [(Connection 0: 0 -> 0, weight: 0.764774, delay: 0.00000 ms), ...]\n",
      "*     Projection: Proj_ from Exc to Exc, synapse: L23_MC_L1_SLAC\n",
      "*       6 connections (wd): [(Connection 0: 0 -> 0, weight: 0.655058, delay: 0.00000 ms), ...]\n",
      "*     Projection: Proj_ from Exc to Exc, synapse: L23_MC_L1_SLAC\n",
      "*       6 connections (wd): [(Connection 0: 0 -> 0, weight: 0.463224, delay: 0.00000 ms), ...]\n",
      "*     Projection: Proj_ from Exc to Exc, synapse: L23_MC_L1_SLAC\n",
      "*       8 connections (wd): [(Connection 0: 0 -> 0, weight: 0.210535, delay: 0.00000 ms), ...]\n",
      "*     Projection: Proj_ from Exc to Exc, synapse: L23_MC_L1_SLAC\n",
      "*       6 connections (wd): [(Connection 0: 0 -> 0, weight: 0.752323, delay: 0.00000 ms), ...]\n",
      "*     Projection: Proj_ from Exc to Exc, synapse: L23_MC_L1_SLAC\n",
      "*       5 connections (wd): [(Connection 0: 0 -> 0, weight: 0.837899, delay: 0.00000 ms), ...]\n",
      "*     Projection: Proj_ from Exc to Exc, synapse: L23_MC_L1_SLAC\n",
      "*       6 connections (wd): [(Connection 0: 0 -> 0, weight: 0.145482, delay: 0.00000 ms), ...]\n",
      "*     Projection: Proj_ from Exc to Exc, synapse: L23_MC_L1_SLAC\n",
      "*       2 connections (wd): [(Connection 0: 0 -> 0, weight: 0.208815, delay: 0.00000 ms), ...]\n",
      "*     Projection: Proj_ from Exc to Exc, synapse: L23_MC_L1_SLAC\n",
      "*       1 connections (wd): [(Connection 0: 0 -> 0, weight: 0.660953, delay: 0.00000 ms), ...]\n",
      "*     Projection: Proj_ from Exc to Exc, synapse: L23_MC_L1_SLAC\n",
      "*       2 connections (wd): [(Connection 0: 0 -> 0, weight: 0.481777, delay: 0.00000 ms), ...]\n",
      "*     Projection: Proj_ from Exc to Exc, synapse: L23_MC_L1_SLAC\n",
      "*       1 connections (wd): [(Connection 0: 0 -> 0, weight: 0.746909, delay: 0.00000 ms), ...]\n",
      "*     Projection: Proj_ from Exc to Exc, synapse: L23_MC_L1_SLAC\n",
      "*       1 connections (wd): [(Connection 0: 0 -> 0, weight: 0.288125, delay: 0.00000 ms), ...]\n",
      "*     Projection: Proj_ from Exc to Exc, synapse: L23_MC_L1_SLAC\n",
      "*       1 connections (wd): [(Connection 0: 0 -> 0, weight: 0.704720, delay: 0.00000 ms), ...]\n",
      "*     Projection: Proj_ from Exc to Exc, synapse: L23_MC_L1_SLAC\n",
      "*       2 connections (wd): [(Connection 0: 0 -> 0, weight: 0.826769, delay: 0.00000 ms), ...]\n",
      "*     Projection: Proj_ from Exc to Exc, synapse: L23_MC_L1_SLAC\n",
      "*       24 connections (wd): [(Connection 0: 0 -> 0, weight: 0.417251, delay: 0.00000 ms), ...]\n",
      "*     Projection: Proj_ from Exc to Exc, synapse: L23_MC_L1_SLAC\n",
      "*       32 connections (wd): [(Connection 0: 0 -> 0, weight: 0.202455, delay: 0.00000 ms), ...]\n",
      "*     Projection: Proj_ from Exc to Exc, synapse: L23_MC_L1_SLAC\n",
      "*       24 connections (wd): [(Connection 0: 0 -> 0, weight: 0.302894, delay: 0.00000 ms), ...]\n",
      "*     Projection: Proj_ from Exc to Exc, synapse: L23_MC_L1_SLAC\n",
      "*       20 connections (wd): [(Connection 0: 0 -> 0, weight: 0.003939, delay: 0.00000 ms), ...]\n",
      "*     Projection: Proj_ from Exc to Exc, synapse: L23_MC_L1_SLAC\n",
      "*       24 connections (wd): [(Connection 0: 0 -> 0, weight: 0.008816, delay: 0.00000 ms), ...]\n",
      "*     Projection: Proj_ from Exc to Exc, synapse: L23_MC_L1_SLAC\n",
      "*       8 connections (wd): [(Connection 0: 0 -> 0, weight: 0.339667, delay: 0.00000 ms), ...]\n",
      "*     Projection: Proj_ from Exc to Exc, synapse: L23_MC_L1_SLAC\n",
      "*       4 connections (wd): [(Connection 0: 0 -> 0, weight: 0.345900, delay: 0.00000 ms), ...]\n",
      "*     Projection: Proj_ from Exc to Exc, synapse: L23_MC_L1_SLAC\n",
      "*       8 connections (wd): [(Connection 0: 0 -> 0, weight: 0.308143, delay: 0.00000 ms), ...]\n",
      "*     Projection: Proj_ from Exc to Exc, synapse: L23_MC_L1_SLAC\n",
      "*       4 connections (wd): [(Connection 0: 0 -> 0, weight: 0.862729, delay: 0.00000 ms), ...]\n",
      "*     Projection: Proj_ from Exc to Exc, synapse: L23_MC_L1_SLAC\n",
      "*       4 connections (wd): [(Connection 0: 0 -> 0, weight: 0.828921, delay: 0.00000 ms), ...]\n",
      "*     Projection: Proj_ from Exc to Exc, synapse: L23_MC_L1_SLAC\n",
      "*       4 connections (wd): [(Connection 0: 0 -> 0, weight: 0.549447, delay: 0.00000 ms), ...]\n",
      "*     Projection: Proj_ from Exc to Exc, synapse: L23_MC_L1_SLAC\n",
      "*       8 connections (wd): [(Connection 0: 0 -> 0, weight: 0.336146, delay: 0.00000 ms), ...]\n",
      "*     Projection: Proj_ from Exc to Exc, synapse: L23_MC_L1_SLAC\n",
      "*       30 connections (wd): [(Connection 0: 0 -> 0, weight: 0.590119, delay: 0.00000 ms), ...]\n",
      "*     Projection: Proj_ from Exc to Exc, synapse: L23_MC_L1_SLAC\n",
      "*       40 connections (wd): [(Connection 0: 0 -> 0, weight: 0.363909, delay: 0.00000 ms), ...]\n",
      "*     Projection: Proj_ from Exc to Exc, synapse: L23_MC_L1_SLAC\n",
      "*       30 connections (wd): [(Connection 0: 0 -> 0, weight: 0.079534, delay: 0.00000 ms), ...]\n",
      "*     Projection: Proj_ from Exc to Exc, synapse: L23_MC_L1_SLAC\n",
      "*       25 connections (wd): [(Connection 0: 0 -> 0, weight: 0.856291, delay: 0.00000 ms), ...]\n",
      "*     Projection: Proj_ from Exc to Exc, synapse: L23_MC_L1_SLAC\n",
      "*       30 connections (wd): [(Connection 0: 0 -> 0, weight: 0.877582, delay: 0.00000 ms), ...]\n",
      "*     Projection: Proj_ from Exc to Exc, synapse: L23_MC_L1_SLAC\n",
      "*       10 connections (wd): [(Connection 0: 0 -> 0, weight: 0.005920, delay: 0.00000 ms), ...]\n",
      "*     Projection: Proj_ from Exc to Exc, synapse: L23_MC_L1_SLAC\n",
      "*       5 connections (wd): [(Connection 0: 0 -> 0, weight: 0.126450, delay: 0.00000 ms), ...]\n",
      "*     Projection: Proj_ from Exc to Exc, synapse: L23_MC_L1_SLAC\n",
      "*       10 connections (wd): [(Connection 0: 0 -> 0, weight: 0.528347, delay: 0.00000 ms), ...]\n",
      "*     Projection: Proj_ from Exc to Exc, synapse: L23_MC_L1_SLAC\n",
      "*       5 connections (wd): [(Connection 0: 0 -> 0, weight: 0.546193, delay: 0.00000 ms), ...]\n",
      "*     Projection: Proj_ from Exc to Exc, synapse: L23_MC_L1_SLAC\n",
      "*       5 connections (wd): [(Connection 0: 0 -> 0, weight: 0.664655, delay: 0.00000 ms), ...]\n",
      "*     Projection: Proj_ from Exc to Exc, synapse: L23_MC_L1_SLAC\n",
      "*       5 connections (wd): [(Connection 0: 0 -> 0, weight: 0.300026, delay: 0.00000 ms), ...]\n",
      "*     Projection: Proj_ from Exc to Exc, synapse: L23_MC_L1_SLAC\n",
      "*       10 connections (wd): [(Connection 0: 0 -> 0, weight: 0.352362, delay: 0.00000 ms), ...]\n",
      "*     Projection: Proj_ from Exc to Exc, synapse: L23_MC_L1_SLAC\n",
      "*       12 connections (wd): [(Connection 0: 0 -> 0, weight: 0.424557, delay: 0.00000 ms), ...]\n",
      "*     Projection: Proj_ from Exc to Exc, synapse: L23_MC_L1_SLAC\n",
      "*       16 connections (wd): [(Connection 0: 0 -> 0, weight: 0.310067, delay: 0.00000 ms), ...]\n",
      "*     Projection: Proj_ from Exc to Exc, synapse: L23_MC_L1_SLAC\n",
      "*       12 connections (wd): [(Connection 0: 0 -> 0, weight: 0.074295, delay: 0.00000 ms), ...]\n",
      "*     Projection: Proj_ from Exc to Exc, synapse: L23_MC_L1_SLAC\n",
      "*       10 connections (wd): [(Connection 0: 0 -> 0, weight: 0.902819, delay: 0.00000 ms), ...]\n",
      "*     Projection: Proj_ from Exc to Exc, synapse: L23_MC_L1_SLAC\n",
      "*       12 connections (wd): [(Connection 0: 0 -> 0, weight: 0.066291, delay: 0.00000 ms), ...]\n",
      "*     Projection: Proj_ from Exc to Exc, synapse: L23_MC_L1_SLAC\n",
      "*       4 connections (wd): [(Connection 0: 0 -> 0, weight: 0.685099, delay: 0.00000 ms), ...]\n",
      "*     Projection: Proj_ from Exc to Exc, synapse: L23_MC_L1_SLAC\n",
      "*       2 connections (wd): [(Connection 0: 0 -> 0, weight: 0.517714, delay: 0.00000 ms), ...]\n",
      "*     Projection: Proj_ from Exc to Exc, synapse: L23_MC_L1_SLAC\n",
      "*       4 connections (wd): [(Connection 0: 0 -> 0, weight: 0.615885, delay: 0.00000 ms), ...]\n",
      "*     Projection: Proj_ from Exc to Exc, synapse: L23_MC_L1_SLAC\n",
      "*       2 connections (wd): [(Connection 0: 0 -> 0, weight: 0.188494, delay: 0.00000 ms), ...]\n",
      "*     Projection: Proj_ from Exc to Exc, synapse: L23_MC_L1_SLAC\n",
      "*       2 connections (wd): [(Connection 0: 0 -> 0, weight: 0.089916, delay: 0.00000 ms), ...]\n",
      "*     Projection: Proj_ from Exc to Exc, synapse: L23_MC_L1_SLAC\n",
      "*       2 connections (wd): [(Connection 0: 0 -> 0, weight: 0.967484, delay: 0.00000 ms), ...]\n",
      "*     Projection: Proj_ from Exc to Exc, synapse: L23_MC_L1_SLAC\n",
      "*       4 connections (wd): [(Connection 0: 0 -> 0, weight: 0.016323, delay: 0.00000 ms), ...]\n",
      "*     Projection: Proj_ from Exc to Exc, synapse: L23_MC_L1_SLAC\n",
      "*       42 connections (wd): [(Connection 0: 0 -> 0, weight: 0.194455, delay: 0.00000 ms), ...]\n",
      "*     Projection: Proj_ from Exc to Exc, synapse: L23_MC_L1_SLAC\n",
      "*       56 connections (wd): [(Connection 0: 0 -> 0, weight: 0.156363, delay: 0.00000 ms), ...]\n",
      "*     Projection: Proj_ from Exc to Exc, synapse: L23_MC_L1_SLAC\n",
      "*       42 connections (wd): [(Connection 0: 0 -> 0, weight: 0.479795, delay: 0.00000 ms), ...]\n",
      "*     Projection: Proj_ from Exc to Exc, synapse: L23_MC_L1_SLAC\n",
      "*       35 connections (wd): [(Connection 0: 0 -> 0, weight: 0.666092, delay: 0.00000 ms), ...]\n",
      "*     Projection: Proj_ from Exc to Exc, synapse: L23_MC_L1_SLAC\n",
      "*       42 connections (wd): [(Connection 0: 0 -> 0, weight: 0.802431, delay: 0.00000 ms), ...]\n",
      "*     Projection: Proj_ from Exc to Exc, synapse: L23_MC_L1_SLAC\n",
      "*       14 connections (wd): [(Connection 0: 0 -> 0, weight: 0.646654, delay: 0.00000 ms), ...]\n",
      "*     Projection: Proj_ from Exc to Exc, synapse: L23_MC_L1_SLAC\n",
      "*       7 connections (wd): [(Connection 0: 0 -> 0, weight: 0.704926, delay: 0.00000 ms), ...]\n",
      "*     Projection: Proj_ from Exc to Exc, synapse: L23_MC_L1_SLAC\n",
      "*       14 connections (wd): [(Connection 0: 0 -> 0, weight: 0.677747, delay: 0.00000 ms), ...]\n",
      "*     Projection: Proj_ from Exc to Exc, synapse: L23_MC_L1_SLAC\n",
      "*       7 connections (wd): [(Connection 0: 0 -> 0, weight: 0.910271, delay: 0.00000 ms), ...]\n",
      "*     Projection: Proj_ from Exc to Exc, synapse: L23_MC_L1_SLAC\n",
      "*       7 connections (wd): [(Connection 0: 0 -> 0, weight: 0.306356, delay: 0.00000 ms), ...]\n",
      "*     Projection: Proj_ from Exc to Exc, synapse: L23_MC_L1_SLAC\n",
      "*       7 connections (wd): [(Connection 0: 0 -> 0, weight: 0.436446, delay: 0.00000 ms), ...]\n",
      "*     Projection: Proj_ from Exc to Exc, synapse: L23_MC_L1_SLAC\n",
      "*       14 connections (wd): [(Connection 0: 0 -> 0, weight: 0.454896, delay: 0.00000 ms), ...]\n",
      "*     Projection: Proj_ from Exc to Exc, synapse: L23_MC_L1_SLAC\n",
      "*       24 connections (wd): [(Connection 0: 0 -> 0, weight: 0.734780, delay: 0.00000 ms), ...]\n",
      "*     Projection: Proj_ from Exc to Exc, synapse: L23_MC_L1_SLAC\n",
      "*       32 connections (wd): [(Connection 0: 0 -> 0, weight: 0.709704, delay: 0.00000 ms), ...]\n",
      "*     Projection: Proj_ from Exc to Exc, synapse: L23_MC_L1_SLAC\n",
      "*       24 connections (wd): [(Connection 0: 0 -> 0, weight: 0.479889, delay: 0.00000 ms), ...]\n",
      "*     Projection: Proj_ from Exc to Exc, synapse: L23_MC_L1_SLAC\n",
      "*       20 connections (wd): [(Connection 0: 0 -> 0, weight: 0.905269, delay: 0.00000 ms), ...]\n",
      "*     Projection: Proj_ from Exc to Exc, synapse: L23_MC_L1_SLAC\n",
      "*       24 connections (wd): [(Connection 0: 0 -> 0, weight: 0.152485, delay: 0.00000 ms), ...]\n",
      "*     Projection: Proj_ from Exc to Exc, synapse: L23_MC_L1_SLAC\n",
      "*       8 connections (wd): [(Connection 0: 0 -> 0, weight: 0.510736, delay: 0.00000 ms), ...]\n",
      "*     Projection: Proj_ from Exc to Exc, synapse: L23_MC_L1_SLAC\n",
      "*       4 connections (wd): [(Connection 0: 0 -> 0, weight: 0.185584, delay: 0.00000 ms), ...]\n",
      "*     Projection: Proj_ from Exc to Exc, synapse: L23_MC_L1_SLAC\n",
      "*       8 connections (wd): [(Connection 0: 0 -> 0, weight: 0.330516, delay: 0.00000 ms), ...]\n",
      "*     Projection: Proj_ from Exc to Exc, synapse: L23_MC_L1_SLAC\n",
      "*       4 connections (wd): [(Connection 0: 0 -> 0, weight: 0.447679, delay: 0.00000 ms), ...]\n",
      "*     Projection: Proj_ from Exc to Exc, synapse: L23_MC_L1_SLAC\n",
      "*       4 connections (wd): [(Connection 0: 0 -> 0, weight: 0.558379, delay: 0.00000 ms), ...]\n",
      "*     Projection: Proj_ from Exc to Exc, synapse: L23_MC_L1_SLAC\n",
      "*       4 connections (wd): [(Connection 0: 0 -> 0, weight: 0.219117, delay: 0.00000 ms), ...]\n",
      "*     Projection: Proj_ from Exc to Exc, synapse: L23_MC_L1_SLAC\n",
      "*       8 connections (wd): [(Connection 0: 0 -> 0, weight: 0.964012, delay: 0.00000 ms), ...]\n",
      "*     Projection: Proj_ from Exc to Exc, synapse: L23_MC_L1_SLAC\n",
      "*       42 connections (wd): [(Connection 0: 0 -> 0, weight: 0.089284, delay: 0.00000 ms), ...]\n",
      "*     Projection: Proj_ from Exc to Exc, synapse: L23_MC_L1_SLAC\n",
      "*       56 connections (wd): [(Connection 0: 0 -> 0, weight: 0.613280, delay: 0.00000 ms), ...]\n",
      "*     Projection: Proj_ from Exc to Exc, synapse: L23_MC_L1_SLAC\n",
      "*       42 connections (wd): [(Connection 0: 0 -> 0, weight: 0.483047, delay: 0.00000 ms), ...]\n",
      "*     Projection: Proj_ from Exc to Exc, synapse: L23_MC_L1_SLAC\n",
      "*       35 connections (wd): [(Connection 0: 0 -> 0, weight: 0.065363, delay: 0.00000 ms), ...]\n",
      "*     Projection: Proj_ from Exc to Exc, synapse: L23_MC_L1_SLAC\n",
      "*       42 connections (wd): [(Connection 0: 0 -> 0, weight: 0.257802, delay: 0.00000 ms), ...]\n",
      "*     Projection: Proj_ from Exc to Exc, synapse: L23_MC_L1_SLAC\n",
      "*       14 connections (wd): [(Connection 0: 0 -> 0, weight: 0.715586, delay: 0.00000 ms), ...]\n",
      "*     Projection: Proj_ from Exc to Exc, synapse: L23_MC_L1_SLAC\n",
      "*       7 connections (wd): [(Connection 0: 0 -> 0, weight: 0.462540, delay: 0.00000 ms), ...]\n",
      "*     Projection: Proj_ from Exc to Exc, synapse: L23_MC_L1_SLAC\n",
      "*       14 connections (wd): [(Connection 0: 0 -> 0, weight: 0.188357, delay: 0.00000 ms), ...]\n",
      "*     Projection: Proj_ from Exc to Exc, synapse: L23_MC_L1_SLAC\n",
      "*       7 connections (wd): [(Connection 0: 0 -> 0, weight: 0.048074, delay: 0.00000 ms), ...]\n",
      "*     Projection: Proj_ from Exc to Exc, synapse: L23_MC_L1_SLAC\n",
      "*       7 connections (wd): [(Connection 0: 0 -> 0, weight: 0.498669, delay: 0.00000 ms), ...]\n",
      "*     Projection: Proj_ from Exc to Exc, synapse: L23_MC_L1_SLAC\n",
      "*       7 connections (wd): [(Connection 0: 0 -> 0, weight: 0.245334, delay: 0.00000 ms), ...]\n",
      "*     Projection: Proj_ from Exc to Exc, synapse: L23_MC_L1_SLAC\n",
      "*       14 connections (wd): [(Connection 0: 0 -> 0, weight: 0.168356, delay: 0.00000 ms), ...]\n",
      "*     Projection: Proj_ from Exc to Exc, synapse: L23_MC_L1_SLAC\n",
      "*       36 connections (wd): [(Connection 0: 0 -> 0, weight: 0.507880, delay: 0.00000 ms), ...]\n",
      "*     Projection: Proj_ from Exc to Exc, synapse: L23_MC_L1_SLAC\n",
      "*       48 connections (wd): [(Connection 0: 0 -> 0, weight: 0.340929, delay: 0.00000 ms), ...]\n",
      "*     Projection: Proj_ from Exc to Exc, synapse: L23_MC_L1_SLAC\n",
      "*       36 connections (wd): [(Connection 0: 0 -> 0, weight: 0.775197, delay: 0.00000 ms), ...]\n",
      "*     Projection: Proj_ from Exc to Exc, synapse: L23_MC_L1_SLAC\n",
      "*       30 connections (wd): [(Connection 0: 0 -> 0, weight: 0.011257, delay: 0.00000 ms), ...]\n",
      "*     Projection: Proj_ from Exc to Exc, synapse: L23_MC_L1_SLAC\n",
      "*       36 connections (wd): [(Connection 0: 0 -> 0, weight: 0.852057, delay: 0.00000 ms), ...]\n",
      "*     Projection: Proj_ from Exc to Exc, synapse: L23_MC_L1_SLAC\n",
      "*       12 connections (wd): [(Connection 0: 0 -> 0, weight: 0.094865, delay: 0.00000 ms), ...]\n",
      "*     Projection: Proj_ from Exc to Exc, synapse: L23_MC_L1_SLAC\n",
      "*       6 connections (wd): [(Connection 0: 0 -> 0, weight: 0.851422, delay: 0.00000 ms), ...]\n",
      "*     Projection: Proj_ from Exc to Exc, synapse: L23_MC_L1_SLAC\n",
      "*       12 connections (wd): [(Connection 0: 0 -> 0, weight: 0.709104, delay: 0.00000 ms), ...]\n",
      "*     Projection: Proj_ from Exc to Exc, synapse: L23_MC_L1_SLAC\n",
      "*       6 connections (wd): [(Connection 0: 0 -> 0, weight: 0.772605, delay: 0.00000 ms), ...]\n",
      "*     Projection: Proj_ from Exc to Exc, synapse: L23_MC_L1_SLAC\n",
      "*       6 connections (wd): [(Connection 0: 0 -> 0, weight: 0.103966, delay: 0.00000 ms), ...]\n",
      "*     Projection: Proj_ from Exc to Exc, synapse: L23_MC_L1_SLAC\n",
      "*       6 connections (wd): [(Connection 0: 0 -> 0, weight: 0.548003, delay: 0.00000 ms), ...]\n",
      "*     Projection: Proj_ from Exc to Exc, synapse: L23_MC_L1_SLAC\n",
      "*       12 connections (wd): [(Connection 0: 0 -> 0, weight: 0.408218, delay: 0.00000 ms), ...]\n",
      "*     Projection: Proj_ from Exc to Exc, synapse: L23_MC_L1_SLAC\n",
      "*       6 connections (wd): [(Connection 0: 0 -> 0, weight: 0.701422, delay: 0.00000 ms), ...]\n",
      "*     Projection: Proj_ from Exc to Exc, synapse: L23_MC_L1_SLAC\n",
      "*       8 connections (wd): [(Connection 0: 0 -> 0, weight: 0.195539, delay: 0.00000 ms), ...]\n",
      "*     Projection: Proj_ from Exc to Exc, synapse: L23_MC_L1_SLAC\n",
      "*       6 connections (wd): [(Connection 0: 0 -> 0, weight: 0.055190, delay: 0.00000 ms), ...]\n",
      "*     Projection: Proj_ from Exc to Exc, synapse: L23_MC_L1_SLAC\n",
      "*       5 connections (wd): [(Connection 0: 0 -> 0, weight: 0.165865, delay: 0.00000 ms), ...]\n",
      "*     Projection: Proj_ from Exc to Exc, synapse: L23_MC_L1_SLAC\n",
      "*       6 connections (wd): [(Connection 0: 0 -> 0, weight: 0.235443, delay: 0.00000 ms), ...]\n",
      "*     Projection: Proj_ from Exc to Exc, synapse: L23_MC_L1_SLAC\n",
      "*       2 connections (wd): [(Connection 0: 0 -> 0, weight: 0.150297, delay: 0.00000 ms), ...]\n",
      "*     Projection: Proj_ from Exc to Exc, synapse: L23_MC_L1_SLAC\n",
      "*       1 connections (wd): [(Connection 0: 0 -> 0, weight: 0.688088, delay: 0.00000 ms), ...]\n",
      "*     Projection: Proj_ from Exc to Exc, synapse: L23_MC_L1_SLAC\n",
      "*       2 connections (wd): [(Connection 0: 0 -> 0, weight: 0.833877, delay: 0.00000 ms), ...]\n",
      "*     Projection: Proj_ from Exc to Exc, synapse: L23_MC_L1_SLAC\n",
      "*       1 connections (wd): [(Connection 0: 0 -> 0, weight: 0.358805, delay: 0.00000 ms), ...]\n",
      "*     Projection: Proj_ from Exc to Exc, synapse: L23_MC_L1_SLAC\n",
      "*       1 connections (wd): [(Connection 0: 0 -> 0, weight: 0.049668, delay: 0.00000 ms), ...]\n",
      "*     Projection: Proj_ from Exc to Exc, synapse: L23_MC_L1_SLAC\n",
      "*       1 connections (wd): [(Connection 0: 0 -> 0, weight: 0.780430, delay: 0.00000 ms), ...]\n",
      "*     Projection: Proj_ from Exc to Exc, synapse: L23_MC_L1_SLAC\n",
      "*       2 connections (wd): [(Connection 0: 0 -> 0, weight: 0.337070, delay: 0.00000 ms), ...]\n",
      "*     Projection: Proj_ from Exc to Exc, synapse: L5_LBC_L4_SS\n",
      "*       616 connections (wd): [(Connection 0: 0 -> 0, weight: 0.925927, delay: 0.00000 ms), ...]\n",
      "*     Projection: Proj_ from Exc to Exc, synapse: L5_LBC_L4_SS\n",
      "*       632 connections (wd): [(Connection 0: 0 -> 0, weight: 0.405676, delay: 0.00000 ms), ...]\n",
      "*     Projection: Proj_ from Exc to Exc, synapse: L5_LBC_L4_SS\n",
      "*       640 connections (wd): [(Connection 0: 0 -> 0, weight: 0.636431, delay: 0.00000 ms), ...]\n",
      "*     Projection: Proj_ from Exc to Exc, synapse: L5_LBC_L4_SS\n",
      "*       624 connections (wd): [(Connection 0: 0 -> 0, weight: 0.842273, delay: 0.00000 ms), ...]\n",
      "*     Projection: Proj_ from Exc to Exc, synapse: L5_LBC_L4_SS\n",
      "*       736 connections (wd): [(Connection 0: 0 -> 0, weight: 0.587285, delay: 0.00000 ms), ...]\n",
      "*     Projection: Proj_ from Exc to Exc, synapse: L5_LBC_L4_SS\n",
      "*       231 connections (wd): [(Connection 0: 0 -> 0, weight: 0.295381, delay: 0.00000 ms), ...]\n",
      "*     Projection: Proj_ from Exc to Exc, synapse: L5_LBC_L4_SS\n",
      "*       237 connections (wd): [(Connection 0: 0 -> 0, weight: 0.110749, delay: 0.00000 ms), ...]\n",
      "*     Projection: Proj_ from Exc to Exc, synapse: L5_LBC_L4_SS\n",
      "*       240 connections (wd): [(Connection 0: 0 -> 0, weight: 0.859091, delay: 0.00000 ms), ...]\n",
      "*     Projection: Proj_ from Exc to Exc, synapse: L5_LBC_L4_SS\n",
      "*       234 connections (wd): [(Connection 0: 0 -> 0, weight: 0.750770, delay: 0.00000 ms), ...]\n",
      "*     Projection: Proj_ from Exc to Exc, synapse: L5_LBC_L4_SS\n",
      "*       276 connections (wd): [(Connection 0: 0 -> 0, weight: 0.017538, delay: 0.00000 ms), ...]\n",
      "*     Projection: Proj_ from Exc to Exc, synapse: L5_LBC_L4_SS\n",
      "*       1309 connections (wd): [(Connection 0: 0 -> 0, weight: 0.248813, delay: 0.00000 ms), ...]\n",
      "*     Projection: Proj_ from Exc to Exc, synapse: L5_LBC_L4_SS\n",
      "*       1343 connections (wd): [(Connection 0: 0 -> 0, weight: 0.727830, delay: 0.00000 ms), ...]\n",
      "*     Projection: Proj_ from Exc to Exc, synapse: L5_LBC_L4_SS\n",
      "*       1360 connections (wd): [(Connection 0: 0 -> 0, weight: 0.663523, delay: 0.00000 ms), ...]\n",
      "*     Projection: Proj_ from Exc to Exc, synapse: L5_LBC_L4_SS\n",
      "*       1326 connections (wd): [(Connection 0: 0 -> 0, weight: 0.368773, delay: 0.00000 ms), ...]\n",
      "*     Projection: Proj_ from Exc to Exc, synapse: L5_LBC_L4_SS\n",
      "*       1564 connections (wd): [(Connection 0: 0 -> 0, weight: 0.155988, delay: 0.00000 ms), ...]\n",
      "*     Projection: Proj_ from Exc to Exc, synapse: L5_LBC_L4_SS\n",
      "*       1309 connections (wd): [(Connection 0: 0 -> 0, weight: 0.782013, delay: 0.00000 ms), ...]\n",
      "*     Projection: Proj_ from Exc to Exc, synapse: L5_LBC_L4_SS\n",
      "*       1343 connections (wd): [(Connection 0: 0 -> 0, weight: 0.412930, delay: 0.00000 ms), ...]\n",
      "*     Projection: Proj_ from Exc to Exc, synapse: L5_LBC_L4_SS\n",
      "*       1360 connections (wd): [(Connection 0: 0 -> 0, weight: 0.859707, delay: 0.00000 ms), ...]\n",
      "*     Projection: Proj_ from Exc to Exc, synapse: L5_LBC_L4_SS\n",
      "*       1326 connections (wd): [(Connection 0: 0 -> 0, weight: 0.757164, delay: 0.00000 ms), ...]\n",
      "*     Projection: Proj_ from Exc to Exc, synapse: L5_LBC_L4_SS\n",
      "*       1564 connections (wd): [(Connection 0: 0 -> 0, weight: 0.785900, delay: 0.00000 ms), ...]\n",
      "*     Projection: Proj_ from Exc to Exc, synapse: L5_LBC_L4_SS\n",
      "*       1309 connections (wd): [(Connection 0: 0 -> 0, weight: 0.926130, delay: 0.00000 ms), ...]\n",
      "*     Projection: Proj_ from Exc to Exc, synapse: L5_LBC_L4_SS\n",
      "*       1343 connections (wd): [(Connection 0: 0 -> 0, weight: 0.088124, delay: 0.00000 ms), ...]\n",
      "*     Projection: Proj_ from Exc to Exc, synapse: L5_LBC_L4_SS\n",
      "*       1360 connections (wd): [(Connection 0: 0 -> 0, weight: 0.416187, delay: 0.00000 ms), ...]\n",
      "*     Projection: Proj_ from Exc to Exc, synapse: L5_LBC_L4_SS\n",
      "*       1326 connections (wd): [(Connection 0: 0 -> 0, weight: 0.933985, delay: 0.00000 ms), ...]\n",
      "*     Projection: Proj_ from Exc to Exc, synapse: L5_LBC_L4_SS\n",
      "*       1564 connections (wd): [(Connection 0: 0 -> 0, weight: 0.854664, delay: 0.00000 ms), ...]\n",
      "*     Projection: Proj_ from Exc to Exc, synapse: L5_LBC_L4_SS\n",
      "*       308 connections (wd): [(Connection 0: 0 -> 0, weight: 0.100634, delay: 0.00000 ms), ...]\n",
      "*     Projection: Proj_ from Exc to Exc, synapse: L5_LBC_L4_SS\n",
      "*       316 connections (wd): [(Connection 0: 0 -> 0, weight: 0.727123, delay: 0.00000 ms), ...]\n",
      "*     Projection: Proj_ from Exc to Exc, synapse: L5_LBC_L4_SS\n",
      "*       320 connections (wd): [(Connection 0: 0 -> 0, weight: 0.342191, delay: 0.00000 ms), ...]\n",
      "*     Projection: Proj_ from Exc to Exc, synapse: L5_LBC_L4_SS\n",
      "*       312 connections (wd): [(Connection 0: 0 -> 0, weight: 0.025692, delay: 0.00000 ms), ...]\n",
      "*     Projection: Proj_ from Exc to Exc, synapse: L5_LBC_L4_SS\n",
      "*       368 connections (wd): [(Connection 0: 0 -> 0, weight: 0.785781, delay: 0.00000 ms), ...]\n",
      "*     Projection: Proj_ from Exc to Exc, synapse: L5_LBC_L4_SS\n",
      "*       1001 connections (wd): [(Connection 0: 0 -> 0, weight: 0.322525, delay: 0.00000 ms), ...]\n",
      "*     Projection: Proj_ from Exc to Exc, synapse: L5_LBC_L4_SS\n",
      "*       1027 connections (wd): [(Connection 0: 0 -> 0, weight: 0.585422, delay: 0.00000 ms), ...]\n",
      "*     Projection: Proj_ from Exc to Exc, synapse: L5_LBC_L4_SS\n",
      "*       1040 connections (wd): [(Connection 0: 0 -> 0, weight: 0.418261, delay: 0.00000 ms), ...]\n",
      "*     Projection: Proj_ from Exc to Exc, synapse: L5_LBC_L4_SS\n",
      "*       1014 connections (wd): [(Connection 0: 0 -> 0, weight: 0.167696, delay: 0.00000 ms), ...]\n",
      "*     Projection: Proj_ from Exc to Exc, synapse: L5_LBC_L4_SS\n",
      "*       1196 connections (wd): [(Connection 0: 0 -> 0, weight: 0.705793, delay: 0.00000 ms), ...]\n",
      "*     Projection: Proj_ from Exc to Exc, synapse: L5_LBC_L4_SS\n",
      "*       462 connections (wd): [(Connection 0: 0 -> 0, weight: 0.605286, delay: 0.00000 ms), ...]\n",
      "*     Projection: Proj_ from Exc to Exc, synapse: L5_LBC_L4_SS\n",
      "*       474 connections (wd): [(Connection 0: 0 -> 0, weight: 0.285170, delay: 0.00000 ms), ...]\n",
      "*     Projection: Proj_ from Exc to Exc, synapse: L5_LBC_L4_SS\n",
      "*       480 connections (wd): [(Connection 0: 0 -> 0, weight: 0.716734, delay: 0.00000 ms), ...]\n",
      "*     Projection: Proj_ from Exc to Exc, synapse: L5_LBC_L4_SS\n",
      "*       468 connections (wd): [(Connection 0: 0 -> 0, weight: 0.953789, delay: 0.00000 ms), ...]\n",
      "*     Projection: Proj_ from Exc to Exc, synapse: L5_LBC_L4_SS\n",
      "*       552 connections (wd): [(Connection 0: 0 -> 0, weight: 0.455715, delay: 0.00000 ms), ...]\n",
      "*     Projection: Proj_ from Exc to Exc, synapse: L5_LBC_L4_SS\n",
      "*       693 connections (wd): [(Connection 0: 0 -> 0, weight: 0.750909, delay: 0.00000 ms), ...]\n",
      "*     Projection: Proj_ from Exc to Exc, synapse: L5_LBC_L4_SS\n",
      "*       711 connections (wd): [(Connection 0: 0 -> 0, weight: 0.243485, delay: 0.00000 ms), ...]\n",
      "*     Projection: Proj_ from Exc to Exc, synapse: L5_LBC_L4_SS\n",
      "*       720 connections (wd): [(Connection 0: 0 -> 0, weight: 0.619194, delay: 0.00000 ms), ...]\n",
      "*     Projection: Proj_ from Exc to Exc, synapse: L5_LBC_L4_SS\n",
      "*       702 connections (wd): [(Connection 0: 0 -> 0, weight: 0.299462, delay: 0.00000 ms), ...]\n",
      "*     Projection: Proj_ from Exc to Exc, synapse: L5_LBC_L4_SS\n",
      "*       828 connections (wd): [(Connection 0: 0 -> 0, weight: 0.547506, delay: 0.00000 ms), ...]\n",
      "*     Projection: Proj_ from Exc to Exc, synapse: L5_LBC_L4_SS\n",
      "*       77 connections (wd): [(Connection 0: 0 -> 0, weight: 0.651324, delay: 0.00000 ms), ...]\n",
      "*     Projection: Proj_ from Exc to Exc, synapse: L5_LBC_L4_SS\n",
      "*       79 connections (wd): [(Connection 0: 0 -> 0, weight: 0.414058, delay: 0.00000 ms), ...]\n",
      "*     Projection: Proj_ from Exc to Exc, synapse: L5_LBC_L4_SS\n",
      "*       80 connections (wd): [(Connection 0: 0 -> 0, weight: 0.168566, delay: 0.00000 ms), ...]\n",
      "*     Projection: Proj_ from Exc to Exc, synapse: L5_LBC_L4_SS\n",
      "*       78 connections (wd): [(Connection 0: 0 -> 0, weight: 0.402898, delay: 0.00000 ms), ...]\n",
      "*     Projection: Proj_ from Exc to Exc, synapse: L5_LBC_L4_SS\n",
      "*       92 connections (wd): [(Connection 0: 0 -> 0, weight: 0.395089, delay: 0.00000 ms), ...]\n",
      "*     Projection: Proj_ from Exc to Exc, synapse: L5_LBC_L4_SS\n",
      "*       1309 connections (wd): [(Connection 0: 0 -> 0, weight: 0.068181, delay: 0.00000 ms), ...]\n",
      "*     Projection: Proj_ from Exc to Exc, synapse: L5_LBC_L4_SS\n",
      "*       1343 connections (wd): [(Connection 0: 0 -> 0, weight: 0.739493, delay: 0.00000 ms), ...]\n",
      "*     Projection: Proj_ from Exc to Exc, synapse: L5_LBC_L4_SS\n",
      "*       1360 connections (wd): [(Connection 0: 0 -> 0, weight: 0.053794, delay: 0.00000 ms), ...]\n",
      "*     Projection: Proj_ from Exc to Exc, synapse: L5_LBC_L4_SS\n",
      "*       1326 connections (wd): [(Connection 0: 0 -> 0, weight: 0.403110, delay: 0.00000 ms), ...]\n",
      "*     Projection: Proj_ from Exc to Exc, synapse: L5_LBC_L4_SS\n",
      "*       1564 connections (wd): [(Connection 0: 0 -> 0, weight: 0.233407, delay: 0.00000 ms), ...]\n",
      "*     Projection: Proj_ from Exc to Exc, synapse: L5_LBC_L4_SS\n",
      "*       770 connections (wd): [(Connection 0: 0 -> 0, weight: 0.580998, delay: 0.00000 ms), ...]\n",
      "*     Projection: Proj_ from Exc to Exc, synapse: L5_LBC_L4_SS\n",
      "*       790 connections (wd): [(Connection 0: 0 -> 0, weight: 0.372960, delay: 0.00000 ms), ...]\n",
      "*     Projection: Proj_ from Exc to Exc, synapse: L5_LBC_L4_SS\n",
      "*       800 connections (wd): [(Connection 0: 0 -> 0, weight: 0.409210, delay: 0.00000 ms), ...]\n",
      "*     Projection: Proj_ from Exc to Exc, synapse: L5_LBC_L4_SS\n",
      "*       780 connections (wd): [(Connection 0: 0 -> 0, weight: 0.607653, delay: 0.00000 ms), ...]\n",
      "*     Projection: Proj_ from Exc to Exc, synapse: L5_LBC_L4_SS\n",
      "*       920 connections (wd): [(Connection 0: 0 -> 0, weight: 0.400809, delay: 0.00000 ms), ...]\n",
      "*     Projection: Proj_ from Exc to Exc, synapse: L5_LBC_L4_SS\n",
      "*       462 connections (wd): [(Connection 0: 0 -> 0, weight: 0.726293, delay: 0.00000 ms), ...]\n",
      "*     Projection: Proj_ from Exc to Exc, synapse: L5_LBC_L4_SS\n",
      "*       474 connections (wd): [(Connection 0: 0 -> 0, weight: 0.407232, delay: 0.00000 ms), ...]\n",
      "*     Projection: Proj_ from Exc to Exc, synapse: L5_LBC_L4_SS\n",
      "*       480 connections (wd): [(Connection 0: 0 -> 0, weight: 0.208492, delay: 0.00000 ms), ...]\n",
      "*     Projection: Proj_ from Exc to Exc, synapse: L5_LBC_L4_SS\n",
      "*       468 connections (wd): [(Connection 0: 0 -> 0, weight: 0.267383, delay: 0.00000 ms), ...]\n",
      "*     Projection: Proj_ from Exc to Exc, synapse: L5_LBC_L4_SS\n",
      "*       552 connections (wd): [(Connection 0: 0 -> 0, weight: 0.416156, delay: 0.00000 ms), ...]\n",
      "*     Projection: Proj_ from Exc to Exc, synapse: L5_LBC_L4_SS\n",
      "*       154 connections (wd): [(Connection 0: 0 -> 0, weight: 0.211014, delay: 0.00000 ms), ...]\n",
      "*     Projection: Proj_ from Exc to Exc, synapse: L5_LBC_L4_SS\n",
      "*       158 connections (wd): [(Connection 0: 0 -> 0, weight: 0.163564, delay: 0.00000 ms), ...]\n",
      "*     Projection: Proj_ from Exc to Exc, synapse: L5_LBC_L4_SS\n",
      "*       160 connections (wd): [(Connection 0: 0 -> 0, weight: 0.849569, delay: 0.00000 ms), ...]\n",
      "*     Projection: Proj_ from Exc to Exc, synapse: L5_LBC_L4_SS\n",
      "*       156 connections (wd): [(Connection 0: 0 -> 0, weight: 0.109709, delay: 0.00000 ms), ...]\n",
      "*     Projection: Proj_ from Exc to Exc, synapse: L5_LBC_L4_SS\n",
      "*       184 connections (wd): [(Connection 0: 0 -> 0, weight: 0.092886, delay: 0.00000 ms), ...]\n",
      "*     Projection: Proj_ from Exc to Exc, synapse: L5_LBC_L4_SS\n",
      "*       462 connections (wd): [(Connection 0: 0 -> 0, weight: 0.563945, delay: 0.00000 ms), ...]\n",
      "*     Projection: Proj_ from Exc to Exc, synapse: L5_LBC_L4_SS\n",
      "*       474 connections (wd): [(Connection 0: 0 -> 0, weight: 0.762246, delay: 0.00000 ms), ...]\n",
      "*     Projection: Proj_ from Exc to Exc, synapse: L5_LBC_L4_SS\n",
      "*       480 connections (wd): [(Connection 0: 0 -> 0, weight: 0.417323, delay: 0.00000 ms), ...]\n",
      "*     Projection: Proj_ from Exc to Exc, synapse: L5_LBC_L4_SS\n",
      "*       468 connections (wd): [(Connection 0: 0 -> 0, weight: 0.279950, delay: 0.00000 ms), ...]\n",
      "*     Projection: Proj_ from Exc to Exc, synapse: L5_LBC_L4_SS\n",
      "*       552 connections (wd): [(Connection 0: 0 -> 0, weight: 0.664579, delay: 0.00000 ms), ...]\n",
      "*     Projection: Proj_ from Exc to Exc, synapse: L5_LBC_L4_SS\n",
      "*       308 connections (wd): [(Connection 0: 0 -> 0, weight: 0.505945, delay: 0.00000 ms), ...]\n",
      "*     Projection: Proj_ from Exc to Exc, synapse: L5_LBC_L4_SS\n",
      "*       316 connections (wd): [(Connection 0: 0 -> 0, weight: 0.704338, delay: 0.00000 ms), ...]\n",
      "*     Projection: Proj_ from Exc to Exc, synapse: L5_LBC_L4_SS\n",
      "*       320 connections (wd): [(Connection 0: 0 -> 0, weight: 0.897541, delay: 0.00000 ms), ...]\n",
      "*     Projection: Proj_ from Exc to Exc, synapse: L5_LBC_L4_SS\n",
      "*       312 connections (wd): [(Connection 0: 0 -> 0, weight: 0.426561, delay: 0.00000 ms), ...]\n",
      "*     Projection: Proj_ from Exc to Exc, synapse: L5_LBC_L4_SS\n",
      "*       368 connections (wd): [(Connection 0: 0 -> 0, weight: 0.643141, delay: 0.00000 ms), ...]\n",
      "*     Projection: Proj_ from Exc to Exc, synapse: L5_LBC_L4_SS\n",
      "*       770 connections (wd): [(Connection 0: 0 -> 0, weight: 0.703627, delay: 0.00000 ms), ...]\n",
      "*     Projection: Proj_ from Exc to Exc, synapse: L5_LBC_L4_SS\n",
      "*       790 connections (wd): [(Connection 0: 0 -> 0, weight: 0.660075, delay: 0.00000 ms), ...]\n",
      "*     Projection: Proj_ from Exc to Exc, synapse: L5_LBC_L4_SS\n",
      "*       800 connections (wd): [(Connection 0: 0 -> 0, weight: 0.836108, delay: 0.00000 ms), ...]\n",
      "*     Projection: Proj_ from Exc to Exc, synapse: L5_LBC_L4_SS\n",
      "*       780 connections (wd): [(Connection 0: 0 -> 0, weight: 0.886738, delay: 0.00000 ms), ...]\n",
      "*     Projection: Proj_ from Exc to Exc, synapse: L5_LBC_L4_SS\n",
      "*       920 connections (wd): [(Connection 0: 0 -> 0, weight: 0.307429, delay: 0.00000 ms), ...]\n",
      "*     Projection: Proj_ from Exc to Exc, synapse: L5_LBC_L4_SS\n",
      "*       231 connections (wd): [(Connection 0: 0 -> 0, weight: 0.452323, delay: 0.00000 ms), ...]\n",
      "*     Projection: Proj_ from Exc to Exc, synapse: L5_LBC_L4_SS\n",
      "*       237 connections (wd): [(Connection 0: 0 -> 0, weight: 0.309353, delay: 0.00000 ms), ...]\n",
      "*     Projection: Proj_ from Exc to Exc, synapse: L5_LBC_L4_SS\n",
      "*       240 connections (wd): [(Connection 0: 0 -> 0, weight: 0.249754, delay: 0.00000 ms), ...]\n",
      "*     Projection: Proj_ from Exc to Exc, synapse: L5_LBC_L4_SS\n",
      "*       234 connections (wd): [(Connection 0: 0 -> 0, weight: 0.530764, delay: 0.00000 ms), ...]\n",
      "*     Projection: Proj_ from Exc to Exc, synapse: L5_LBC_L4_SS\n",
      "*       276 connections (wd): [(Connection 0: 0 -> 0, weight: 0.529691, delay: 0.00000 ms), ...]\n",
      "*     Projection: Proj_ from Exc to Exc, synapse: L5_LBC_L4_SS\n",
      "*       154 connections (wd): [(Connection 0: 0 -> 0, weight: 0.002611, delay: 0.00000 ms), ...]\n",
      "*     Projection: Proj_ from Exc to Exc, synapse: L5_LBC_L4_SS\n",
      "*       158 connections (wd): [(Connection 0: 0 -> 0, weight: 0.142392, delay: 0.00000 ms), ...]\n",
      "*     Projection: Proj_ from Exc to Exc, synapse: L5_LBC_L4_SS\n",
      "*       160 connections (wd): [(Connection 0: 0 -> 0, weight: 0.461767, delay: 0.00000 ms), ...]\n",
      "*     Projection: Proj_ from Exc to Exc, synapse: L5_LBC_L4_SS\n",
      "*       156 connections (wd): [(Connection 0: 0 -> 0, weight: 0.795702, delay: 0.00000 ms), ...]\n",
      "*     Projection: Proj_ from Exc to Exc, synapse: L5_LBC_L4_SS\n",
      "*       184 connections (wd): [(Connection 0: 0 -> 0, weight: 0.499023, delay: 0.00000 ms), ...]\n",
      "*     Projection: Proj_ from Exc to Exc, synapse: L5_LBC_L4_SS\n",
      "*       385 connections (wd): [(Connection 0: 0 -> 0, weight: 0.858341, delay: 0.00000 ms), ...]\n",
      "*     Projection: Proj_ from Exc to Exc, synapse: L5_LBC_L4_SS\n",
      "*       395 connections (wd): [(Connection 0: 0 -> 0, weight: 0.421892, delay: 0.00000 ms), ...]\n",
      "*     Projection: Proj_ from Exc to Exc, synapse: L5_LBC_L4_SS\n",
      "*       400 connections (wd): [(Connection 0: 0 -> 0, weight: 0.103022, delay: 0.00000 ms), ...]\n",
      "*     Projection: Proj_ from Exc to Exc, synapse: L5_LBC_L4_SS\n",
      "*       390 connections (wd): [(Connection 0: 0 -> 0, weight: 0.174856, delay: 0.00000 ms), ...]\n",
      "*     Projection: Proj_ from Exc to Exc, synapse: L5_LBC_L4_SS\n",
      "*       460 connections (wd): [(Connection 0: 0 -> 0, weight: 0.146832, delay: 0.00000 ms), ...]\n",
      "*     Projection: Proj_ from Exc to Exc, synapse: L5_LBC_L4_SS\n",
      "*       154 connections (wd): [(Connection 0: 0 -> 0, weight: 0.254289, delay: 0.00000 ms), ...]\n",
      "*     Projection: Proj_ from Exc to Exc, synapse: L5_LBC_L4_SS\n",
      "*       158 connections (wd): [(Connection 0: 0 -> 0, weight: 0.401789, delay: 0.00000 ms), ...]\n",
      "*     Projection: Proj_ from Exc to Exc, synapse: L5_LBC_L4_SS\n",
      "*       160 connections (wd): [(Connection 0: 0 -> 0, weight: 0.907016, delay: 0.00000 ms), ...]\n",
      "*     Projection: Proj_ from Exc to Exc, synapse: L5_LBC_L4_SS\n",
      "*       156 connections (wd): [(Connection 0: 0 -> 0, weight: 0.008605, delay: 0.00000 ms), ...]\n",
      "*     Projection: Proj_ from Exc to Exc, synapse: L5_LBC_L4_SS\n",
      "*       184 connections (wd): [(Connection 0: 0 -> 0, weight: 0.387120, delay: 0.00000 ms), ...]\n",
      "*     Projection: Proj_ from Exc to Exc, synapse: L5_LBC_L4_SS\n",
      "*       308 connections (wd): [(Connection 0: 0 -> 0, weight: 0.568822, delay: 0.00000 ms), ...]\n",
      "*     Projection: Proj_ from Exc to Exc, synapse: L5_LBC_L4_SS\n",
      "*       316 connections (wd): [(Connection 0: 0 -> 0, weight: 0.754677, delay: 0.00000 ms), ...]\n",
      "*     Projection: Proj_ from Exc to Exc, synapse: L5_LBC_L4_SS\n",
      "*       320 connections (wd): [(Connection 0: 0 -> 0, weight: 0.768767, delay: 0.00000 ms), ...]\n",
      "*     Projection: Proj_ from Exc to Exc, synapse: L5_LBC_L4_SS\n",
      "*       312 connections (wd): [(Connection 0: 0 -> 0, weight: 0.743194, delay: 0.00000 ms), ...]\n",
      "*     Projection: Proj_ from Exc to Exc, synapse: L5_LBC_L4_SS\n",
      "*       368 connections (wd): [(Connection 0: 0 -> 0, weight: 0.915481, delay: 0.00000 ms), ...]\n",
      "*     Projection: Proj_ from Exc to Exc, synapse: L5_LBC_L4_SS\n",
      "*       539 connections (wd): [(Connection 0: 0 -> 0, weight: 0.219822, delay: 0.00000 ms), ...]\n",
      "*     Projection: Proj_ from Exc to Exc, synapse: L5_LBC_L4_SS\n",
      "*       553 connections (wd): [(Connection 0: 0 -> 0, weight: 0.758956, delay: 0.00000 ms), ...]\n",
      "*     Projection: Proj_ from Exc to Exc, synapse: L5_LBC_L4_SS\n",
      "*       560 connections (wd): [(Connection 0: 0 -> 0, weight: 0.466580, delay: 0.00000 ms), ...]\n",
      "*     Projection: Proj_ from Exc to Exc, synapse: L5_LBC_L4_SS\n",
      "*       546 connections (wd): [(Connection 0: 0 -> 0, weight: 0.701421, delay: 0.00000 ms), ...]\n",
      "*     Projection: Proj_ from Exc to Exc, synapse: L5_LBC_L4_SS\n",
      "*       644 connections (wd): [(Connection 0: 0 -> 0, weight: 0.785659, delay: 0.00000 ms), ...]\n",
      "*     Projection: Proj_ from Exc to Exc, synapse: L5_LBC_L4_SS\n",
      "*       385 connections (wd): [(Connection 0: 0 -> 0, weight: 0.842309, delay: 0.00000 ms), ...]\n",
      "*     Projection: Proj_ from Exc to Exc, synapse: L5_LBC_L4_SS\n",
      "*       395 connections (wd): [(Connection 0: 0 -> 0, weight: 0.417746, delay: 0.00000 ms), ...]\n",
      "*     Projection: Proj_ from Exc to Exc, synapse: L5_LBC_L4_SS\n",
      "*       400 connections (wd): [(Connection 0: 0 -> 0, weight: 0.486831, delay: 0.00000 ms), ...]\n",
      "*     Projection: Proj_ from Exc to Exc, synapse: L5_LBC_L4_SS\n",
      "*       390 connections (wd): [(Connection 0: 0 -> 0, weight: 0.185743, delay: 0.00000 ms), ...]\n",
      "*     Projection: Proj_ from Exc to Exc, synapse: L5_LBC_L4_SS\n",
      "*       460 connections (wd): [(Connection 0: 0 -> 0, weight: 0.634904, delay: 0.00000 ms), ...]\n",
      "*     Projection: Proj_ from Exc to Exc, synapse: L5_LBC_L4_SS\n",
      "*       693 connections (wd): [(Connection 0: 0 -> 0, weight: 0.928510, delay: 0.00000 ms), ...]\n",
      "*     Projection: Proj_ from Exc to Exc, synapse: L5_LBC_L4_SS\n",
      "*       711 connections (wd): [(Connection 0: 0 -> 0, weight: 0.335131, delay: 0.00000 ms), ...]\n",
      "*     Projection: Proj_ from Exc to Exc, synapse: L5_LBC_L4_SS\n",
      "*       720 connections (wd): [(Connection 0: 0 -> 0, weight: 0.756454, delay: 0.00000 ms), ...]\n",
      "*     Projection: Proj_ from Exc to Exc, synapse: L5_LBC_L4_SS\n",
      "*       702 connections (wd): [(Connection 0: 0 -> 0, weight: 0.037946, delay: 0.00000 ms), ...]\n",
      "*     Projection: Proj_ from Exc to Exc, synapse: L5_LBC_L4_SS\n",
      "*       828 connections (wd): [(Connection 0: 0 -> 0, weight: 0.365981, delay: 0.00000 ms), ...]\n",
      "*     Projection: Proj_ from Exc to Exc, synapse: L5_LBC_L4_SS\n",
      "*       231 connections (wd): [(Connection 0: 0 -> 0, weight: 0.799856, delay: 0.00000 ms), ...]\n",
      "*     Projection: Proj_ from Exc to Exc, synapse: L5_LBC_L4_SS\n",
      "*       237 connections (wd): [(Connection 0: 0 -> 0, weight: 0.830195, delay: 0.00000 ms), ...]\n",
      "*     Projection: Proj_ from Exc to Exc, synapse: L5_LBC_L4_SS\n",
      "*       240 connections (wd): [(Connection 0: 0 -> 0, weight: 0.904577, delay: 0.00000 ms), ...]\n",
      "*     Projection: Proj_ from Exc to Exc, synapse: L5_LBC_L4_SS\n",
      "*       234 connections (wd): [(Connection 0: 0 -> 0, weight: 0.079524, delay: 0.00000 ms), ...]\n",
      "*     Projection: Proj_ from Exc to Exc, synapse: L5_LBC_L4_SS\n",
      "*       276 connections (wd): [(Connection 0: 0 -> 0, weight: 0.817668, delay: 0.00000 ms), ...]\n",
      "*     Projection: Proj_ from Exc to Exc, synapse: L5_LBC_L4_SS\n",
      "*       231 connections (wd): [(Connection 0: 0 -> 0, weight: 0.209647, delay: 0.00000 ms), ...]\n",
      "*     Projection: Proj_ from Exc to Exc, synapse: L5_LBC_L4_SS\n",
      "*       237 connections (wd): [(Connection 0: 0 -> 0, weight: 0.264297, delay: 0.00000 ms), ...]\n",
      "*     Projection: Proj_ from Exc to Exc, synapse: L5_LBC_L4_SS\n",
      "*       240 connections (wd): [(Connection 0: 0 -> 0, weight: 0.418659, delay: 0.00000 ms), ...]\n",
      "*     Projection: Proj_ from Exc to Exc, synapse: L5_LBC_L4_SS\n",
      "*       234 connections (wd): [(Connection 0: 0 -> 0, weight: 0.400478, delay: 0.00000 ms), ...]\n",
      "*     Projection: Proj_ from Exc to Exc, synapse: L5_LBC_L4_SS\n",
      "*       276 connections (wd): [(Connection 0: 0 -> 0, weight: 0.390949, delay: 0.00000 ms), ...]\n",
      "*     Projection: Proj_ from Exc to Exc, synapse: L5_LBC_L4_SS\n",
      "*       308 connections (wd): [(Connection 0: 0 -> 0, weight: 0.746884, delay: 0.00000 ms), ...]\n",
      "*     Projection: Proj_ from Exc to Exc, synapse: L5_LBC_L4_SS\n",
      "*       316 connections (wd): [(Connection 0: 0 -> 0, weight: 0.814521, delay: 0.00000 ms), ...]\n",
      "*     Projection: Proj_ from Exc to Exc, synapse: L5_LBC_L4_SS\n",
      "*       320 connections (wd): [(Connection 0: 0 -> 0, weight: 0.918662, delay: 0.00000 ms), ...]\n",
      "*     Projection: Proj_ from Exc to Exc, synapse: L5_LBC_L4_SS\n",
      "*       312 connections (wd): [(Connection 0: 0 -> 0, weight: 0.768880, delay: 0.00000 ms), ...]\n",
      "*     Projection: Proj_ from Exc to Exc, synapse: L5_LBC_L4_SS\n",
      "*       368 connections (wd): [(Connection 0: 0 -> 0, weight: 0.667549, delay: 0.00000 ms), ...]\n",
      "*     Projection: Proj_ from Exc to Exc, synapse: L5_LBC_L4_SS\n",
      "*       77 connections (wd): [(Connection 0: 0 -> 0, weight: 0.055331, delay: 0.00000 ms), ...]\n",
      "*     Projection: Proj_ from Exc to Exc, synapse: L5_LBC_L4_SS\n",
      "*       79 connections (wd): [(Connection 0: 0 -> 0, weight: 0.268449, delay: 0.00000 ms), ...]\n",
      "*     Projection: Proj_ from Exc to Exc, synapse: L5_LBC_L4_SS\n",
      "*       80 connections (wd): [(Connection 0: 0 -> 0, weight: 0.047825, delay: 0.00000 ms), ...]\n",
      "*     Projection: Proj_ from Exc to Exc, synapse: L5_LBC_L4_SS\n",
      "*       78 connections (wd): [(Connection 0: 0 -> 0, weight: 0.972629, delay: 0.00000 ms), ...]\n",
      "*     Projection: Proj_ from Exc to Exc, synapse: L5_LBC_L4_SS\n",
      "*       92 connections (wd): [(Connection 0: 0 -> 0, weight: 0.350226, delay: 0.00000 ms), ...]\n",
      "*     Projection: Proj_ from Exc to Exc, synapse: L5_LBC_L4_SS\n",
      "*       385 connections (wd): [(Connection 0: 0 -> 0, weight: 0.896416, delay: 0.00000 ms), ...]\n",
      "*     Projection: Proj_ from Exc to Exc, synapse: L5_LBC_L4_SS\n",
      "*       395 connections (wd): [(Connection 0: 0 -> 0, weight: 0.998429, delay: 0.00000 ms), ...]\n",
      "*     Projection: Proj_ from Exc to Exc, synapse: L5_LBC_L4_SS\n",
      "*       400 connections (wd): [(Connection 0: 0 -> 0, weight: 0.724870, delay: 0.00000 ms), ...]\n",
      "*     Projection: Proj_ from Exc to Exc, synapse: L5_LBC_L4_SS\n",
      "*       390 connections (wd): [(Connection 0: 0 -> 0, weight: 0.437905, delay: 0.00000 ms), ...]\n",
      "*     Projection: Proj_ from Exc to Exc, synapse: L5_LBC_L4_SS\n",
      "*       460 connections (wd): [(Connection 0: 0 -> 0, weight: 0.846040, delay: 0.00000 ms), ...]\n",
      "*     Projection: Proj_ from Exc to Exc, synapse: L5_LBC_L4_SS\n",
      "*       308 connections (wd): [(Connection 0: 0 -> 0, weight: 0.183878, delay: 0.00000 ms), ...]\n",
      "*     Projection: Proj_ from Exc to Exc, synapse: L5_LBC_L4_SS\n",
      "*       316 connections (wd): [(Connection 0: 0 -> 0, weight: 0.061400, delay: 0.00000 ms), ...]\n",
      "*     Projection: Proj_ from Exc to Exc, synapse: L5_LBC_L4_SS\n",
      "*       320 connections (wd): [(Connection 0: 0 -> 0, weight: 0.281138, delay: 0.00000 ms), ...]\n",
      "*     Projection: Proj_ from Exc to Exc, synapse: L5_LBC_L4_SS\n",
      "*       312 connections (wd): [(Connection 0: 0 -> 0, weight: 0.264108, delay: 0.00000 ms), ...]\n",
      "*     Projection: Proj_ from Exc to Exc, synapse: L5_LBC_L4_SS\n",
      "*       368 connections (wd): [(Connection 0: 0 -> 0, weight: 0.378445, delay: 0.00000 ms), ...]\n",
      "*     Projection: Proj_ from Exc to Exc, synapse: L5_LBC_L4_SS\n",
      "*       77 connections (wd): [(Connection 0: 0 -> 0, weight: 0.483419, delay: 0.00000 ms), ...]\n",
      "*     Projection: Proj_ from Exc to Exc, synapse: L5_LBC_L4_SS\n",
      "*       79 connections (wd): [(Connection 0: 0 -> 0, weight: 0.725693, delay: 0.00000 ms), ...]\n",
      "*     Projection: Proj_ from Exc to Exc, synapse: L5_LBC_L4_SS\n",
      "*       80 connections (wd): [(Connection 0: 0 -> 0, weight: 0.875025, delay: 0.00000 ms), ...]\n",
      "*     Projection: Proj_ from Exc to Exc, synapse: L5_LBC_L4_SS\n",
      "*       78 connections (wd): [(Connection 0: 0 -> 0, weight: 0.924915, delay: 0.00000 ms), ...]\n",
      "*     Projection: Proj_ from Exc to Exc, synapse: L5_LBC_L4_SS\n",
      "*       92 connections (wd): [(Connection 0: 0 -> 0, weight: 0.685935, delay: 0.00000 ms), ...]\n",
      "*     Projection: Proj_ from Exc to Exc, synapse: L5_LBC_L4_SS\n",
      "*       77 connections (wd): [(Connection 0: 0 -> 0, weight: 0.494535, delay: 0.00000 ms), ...]\n",
      "*     Projection: Proj_ from Exc to Exc, synapse: L5_LBC_L4_SS\n",
      "*       79 connections (wd): [(Connection 0: 0 -> 0, weight: 0.351739, delay: 0.00000 ms), ...]\n",
      "*     Projection: Proj_ from Exc to Exc, synapse: L5_LBC_L4_SS\n",
      "*       80 connections (wd): [(Connection 0: 0 -> 0, weight: 0.612757, delay: 0.00000 ms), ...]\n",
      "*     Projection: Proj_ from Exc to Exc, synapse: L5_LBC_L4_SS\n",
      "*       78 connections (wd): [(Connection 0: 0 -> 0, weight: 0.603392, delay: 0.00000 ms), ...]\n",
      "*     Projection: Proj_ from Exc to Exc, synapse: L5_LBC_L4_SS\n",
      "*       92 connections (wd): [(Connection 0: 0 -> 0, weight: 0.126549, delay: 0.00000 ms), ...]\n",
      "*     Projection: Proj_ from Exc to Exc, synapse: L5_LBC_L4_SS\n",
      "*       77 connections (wd): [(Connection 0: 0 -> 0, weight: 0.607602, delay: 0.00000 ms), ...]\n",
      "*     Projection: Proj_ from Exc to Exc, synapse: L5_LBC_L4_SS\n",
      "*       79 connections (wd): [(Connection 0: 0 -> 0, weight: 0.152876, delay: 0.00000 ms), ...]\n",
      "*     Projection: Proj_ from Exc to Exc, synapse: L5_LBC_L4_SS\n",
      "*       80 connections (wd): [(Connection 0: 0 -> 0, weight: 0.241331, delay: 0.00000 ms), ...]\n",
      "*     Projection: Proj_ from Exc to Exc, synapse: L5_LBC_L4_SS\n",
      "*       78 connections (wd): [(Connection 0: 0 -> 0, weight: 0.002999, delay: 0.00000 ms), ...]\n",
      "*     Projection: Proj_ from Exc to Exc, synapse: L5_LBC_L4_SS\n",
      "*       92 connections (wd): [(Connection 0: 0 -> 0, weight: 0.198717, delay: 0.00000 ms), ...]\n",
      "*     Projection: Proj_ from Exc to Exc, synapse: L23_LBC_L23_NGC\n",
      "*       30 connections (wd): [(Connection 0: 0 -> 0, weight: 0.551509, delay: 0.00000 ms), ...]\n",
      "*     Projection: Proj_ from Exc to Exc, synapse: L23_LBC_L23_NGC\n",
      "*       15 connections (wd): [(Connection 0: 0 -> 0, weight: 0.696329, delay: 0.00000 ms), ...]\n",
      "*     Projection: Proj_ from Exc to Exc, synapse: L23_LBC_L23_NGC\n",
      "*       30 connections (wd): [(Connection 0: 0 -> 0, weight: 0.351543, delay: 0.00000 ms), ...]\n",
      "*     Projection: Proj_ from Exc to Exc, synapse: L23_LBC_L23_NGC\n",
      "*       120 connections (wd): [(Connection 0: 0 -> 0, weight: 0.026527, delay: 0.00000 ms), ...]\n",
      "*     Projection: Proj_ from Exc to Exc, synapse: L23_LBC_L23_NGC\n",
      "*       15 connections (wd): [(Connection 0: 0 -> 0, weight: 0.949440, delay: 0.00000 ms), ...]\n",
      "*     Projection: Proj_ from Exc to Exc, synapse: L23_LBC_L23_NGC\n",
      "*       15 connections (wd): [(Connection 0: 0 -> 0, weight: 0.566060, delay: 0.00000 ms), ...]\n",
      "*     Projection: Proj_ from Exc to Exc, synapse: L23_LBC_L23_NGC\n",
      "*       45 connections (wd): [(Connection 0: 0 -> 0, weight: 0.325749, delay: 0.00000 ms), ...]\n",
      "*     Projection: Proj_ from Exc to Exc, synapse: L23_LBC_L23_NGC\n",
      "*       15 connections (wd): [(Connection 0: 0 -> 0, weight: 0.560749, delay: 0.00000 ms), ...]\n",
      "*     Projection: Proj_ from Exc to Exc, synapse: L23_LBC_L23_NGC\n",
      "*       30 connections (wd): [(Connection 0: 0 -> 0, weight: 0.342709, delay: 0.00000 ms), ...]\n",
      "*     Projection: Proj_ from Exc to Exc, synapse: L23_LBC_L23_NGC\n",
      "*       15 connections (wd): [(Connection 0: 0 -> 0, weight: 0.529033, delay: 0.00000 ms), ...]\n",
      "*     Projection: Proj_ from Exc to Exc, synapse: L23_LBC_L23_NGC\n",
      "*       30 connections (wd): [(Connection 0: 0 -> 0, weight: 0.474439, delay: 0.00000 ms), ...]\n",
      "*     Projection: Proj_ from Exc to Exc, synapse: L23_LBC_L23_NGC\n",
      "*       15 connections (wd): [(Connection 0: 0 -> 0, weight: 0.619883, delay: 0.00000 ms), ...]\n",
      "*     Projection: Proj_ from Exc to Exc, synapse: L23_LBC_L23_NGC\n",
      "*       30 connections (wd): [(Connection 0: 0 -> 0, weight: 0.686837, delay: 0.00000 ms), ...]\n",
      "*     Projection: Proj_ from Exc to Exc, synapse: L23_LBC_L23_NGC\n",
      "*       120 connections (wd): [(Connection 0: 0 -> 0, weight: 0.034349, delay: 0.00000 ms), ...]\n",
      "*     Projection: Proj_ from Exc to Exc, synapse: L23_LBC_L23_NGC\n",
      "*       15 connections (wd): [(Connection 0: 0 -> 0, weight: 0.400510, delay: 0.00000 ms), ...]\n",
      "*     Projection: Proj_ from Exc to Exc, synapse: L23_LBC_L23_NGC\n",
      "*       15 connections (wd): [(Connection 0: 0 -> 0, weight: 0.809726, delay: 0.00000 ms), ...]\n",
      "*     Projection: Proj_ from Exc to Exc, synapse: L23_LBC_L23_NGC\n",
      "*       45 connections (wd): [(Connection 0: 0 -> 0, weight: 0.305338, delay: 0.00000 ms), ...]\n",
      "*     Projection: Proj_ from Exc to Exc, synapse: L23_LBC_L23_NGC\n",
      "*       15 connections (wd): [(Connection 0: 0 -> 0, weight: 0.013788, delay: 0.00000 ms), ...]\n",
      "*     Projection: Proj_ from Exc to Exc, synapse: L23_LBC_L23_NGC\n",
      "*       30 connections (wd): [(Connection 0: 0 -> 0, weight: 0.648312, delay: 0.00000 ms), ...]\n",
      "*     Projection: Proj_ from Exc to Exc, synapse: L23_LBC_L23_NGC\n",
      "*       15 connections (wd): [(Connection 0: 0 -> 0, weight: 0.871632, delay: 0.00000 ms), ...]\n",
      "*     Projection: Proj_ from Exc to Exc, synapse: L23_LBC_L23_NGC\n",
      "*       36 connections (wd): [(Connection 0: 0 -> 0, weight: 0.235568, delay: 0.00000 ms), ...]\n",
      "*     Projection: Proj_ from Exc to Exc, synapse: L23_LBC_L23_NGC\n",
      "*       18 connections (wd): [(Connection 0: 0 -> 0, weight: 0.012906, delay: 0.00000 ms), ...]\n",
      "*     Projection: Proj_ from Exc to Exc, synapse: L23_LBC_L23_NGC\n",
      "*       36 connections (wd): [(Connection 0: 0 -> 0, weight: 0.258489, delay: 0.00000 ms), ...]\n",
      "*     Projection: Proj_ from Exc to Exc, synapse: L23_LBC_L23_NGC\n",
      "*       144 connections (wd): [(Connection 0: 0 -> 0, weight: 0.488217, delay: 0.00000 ms), ...]\n",
      "*     Projection: Proj_ from Exc to Exc, synapse: L23_LBC_L23_NGC\n",
      "*       18 connections (wd): [(Connection 0: 0 -> 0, weight: 0.043100, delay: 0.00000 ms), ...]\n",
      "*     Projection: Proj_ from Exc to Exc, synapse: L23_LBC_L23_NGC\n",
      "*       18 connections (wd): [(Connection 0: 0 -> 0, weight: 0.537947, delay: 0.00000 ms), ...]\n",
      "*     Projection: Proj_ from Exc to Exc, synapse: L23_LBC_L23_NGC\n",
      "*       54 connections (wd): [(Connection 0: 0 -> 0, weight: 0.521788, delay: 0.00000 ms), ...]\n",
      "*     Projection: Proj_ from Exc to Exc, synapse: L23_LBC_L23_NGC\n",
      "*       18 connections (wd): [(Connection 0: 0 -> 0, weight: 0.356465, delay: 0.00000 ms), ...]\n",
      "*     Projection: Proj_ from Exc to Exc, synapse: L23_LBC_L23_NGC\n",
      "*       36 connections (wd): [(Connection 0: 0 -> 0, weight: 0.498484, delay: 0.00000 ms), ...]\n",
      "*     Projection: Proj_ from Exc to Exc, synapse: L23_LBC_L23_NGC\n",
      "*       18 connections (wd): [(Connection 0: 0 -> 0, weight: 0.604699, delay: 0.00000 ms), ...]\n",
      "*     Projection: Proj_ from Exc to Exc, synapse: L23_LBC_L23_NGC\n",
      "*       14 connections (wd): [(Connection 0: 0 -> 0, weight: 0.391821, delay: 0.00000 ms), ...]\n",
      "*     Projection: Proj_ from Exc to Exc, synapse: L23_LBC_L23_NGC\n",
      "*       7 connections (wd): [(Connection 0: 0 -> 0, weight: 0.503318, delay: 0.00000 ms), ...]\n",
      "*     Projection: Proj_ from Exc to Exc, synapse: L23_LBC_L23_NGC\n",
      "*       14 connections (wd): [(Connection 0: 0 -> 0, weight: 0.606434, delay: 0.00000 ms), ...]\n",
      "*     Projection: Proj_ from Exc to Exc, synapse: L23_LBC_L23_NGC\n",
      "*       56 connections (wd): [(Connection 0: 0 -> 0, weight: 0.466899, delay: 0.00000 ms), ...]\n",
      "*     Projection: Proj_ from Exc to Exc, synapse: L23_LBC_L23_NGC\n",
      "*       7 connections (wd): [(Connection 0: 0 -> 0, weight: 0.207906, delay: 0.00000 ms), ...]\n",
      "*     Projection: Proj_ from Exc to Exc, synapse: L23_LBC_L23_NGC\n",
      "*       7 connections (wd): [(Connection 0: 0 -> 0, weight: 0.658242, delay: 0.00000 ms), ...]\n",
      "*     Projection: Proj_ from Exc to Exc, synapse: L23_LBC_L23_NGC\n",
      "*       21 connections (wd): [(Connection 0: 0 -> 0, weight: 0.210779, delay: 0.00000 ms), ...]\n",
      "*     Projection: Proj_ from Exc to Exc, synapse: L23_LBC_L23_NGC\n",
      "*       7 connections (wd): [(Connection 0: 0 -> 0, weight: 0.066124, delay: 0.00000 ms), ...]\n",
      "*     Projection: Proj_ from Exc to Exc, synapse: L23_LBC_L23_NGC\n",
      "*       14 connections (wd): [(Connection 0: 0 -> 0, weight: 0.093673, delay: 0.00000 ms), ...]\n",
      "*     Projection: Proj_ from Exc to Exc, synapse: L23_LBC_L23_NGC\n",
      "*       7 connections (wd): [(Connection 0: 0 -> 0, weight: 0.341969, delay: 0.00000 ms), ...]\n",
      "*     Projection: Proj_ from Exc to Exc, synapse: L23_LBC_L23_NGC\n",
      "*       36 connections (wd): [(Connection 0: 0 -> 0, weight: 0.011348, delay: 0.00000 ms), ...]\n",
      "*     Projection: Proj_ from Exc to Exc, synapse: L23_LBC_L23_NGC\n",
      "*       18 connections (wd): [(Connection 0: 0 -> 0, weight: 0.301867, delay: 0.00000 ms), ...]\n",
      "*     Projection: Proj_ from Exc to Exc, synapse: L23_LBC_L23_NGC\n",
      "*       36 connections (wd): [(Connection 0: 0 -> 0, weight: 0.434734, delay: 0.00000 ms), ...]\n",
      "*     Projection: Proj_ from Exc to Exc, synapse: L23_LBC_L23_NGC\n",
      "*       144 connections (wd): [(Connection 0: 0 -> 0, weight: 0.933132, delay: 0.00000 ms), ...]\n",
      "*     Projection: Proj_ from Exc to Exc, synapse: L23_LBC_L23_NGC\n",
      "*       18 connections (wd): [(Connection 0: 0 -> 0, weight: 0.772837, delay: 0.00000 ms), ...]\n",
      "*     Projection: Proj_ from Exc to Exc, synapse: L23_LBC_L23_NGC\n",
      "*       18 connections (wd): [(Connection 0: 0 -> 0, weight: 0.043064, delay: 0.00000 ms), ...]\n",
      "*     Projection: Proj_ from Exc to Exc, synapse: L23_LBC_L23_NGC\n",
      "*       54 connections (wd): [(Connection 0: 0 -> 0, weight: 0.143138, delay: 0.00000 ms), ...]\n",
      "*     Projection: Proj_ from Exc to Exc, synapse: L23_LBC_L23_NGC\n",
      "*       18 connections (wd): [(Connection 0: 0 -> 0, weight: 0.283753, delay: 0.00000 ms), ...]\n",
      "*     Projection: Proj_ from Exc to Exc, synapse: L23_LBC_L23_NGC\n",
      "*       36 connections (wd): [(Connection 0: 0 -> 0, weight: 0.645957, delay: 0.00000 ms), ...]\n",
      "*     Projection: Proj_ from Exc to Exc, synapse: L23_LBC_L23_NGC\n",
      "*       18 connections (wd): [(Connection 0: 0 -> 0, weight: 0.331669, delay: 0.00000 ms), ...]\n",
      "*     Projection: Proj_ from Exc to Exc, synapse: L23_LBC_L23_NGC\n",
      "*       24 connections (wd): [(Connection 0: 0 -> 0, weight: 0.550726, delay: 0.00000 ms), ...]\n",
      "*     Projection: Proj_ from Exc to Exc, synapse: L23_LBC_L23_NGC\n",
      "*       12 connections (wd): [(Connection 0: 0 -> 0, weight: 0.478882, delay: 0.00000 ms), ...]\n",
      "*     Projection: Proj_ from Exc to Exc, synapse: L23_LBC_L23_NGC\n",
      "*       24 connections (wd): [(Connection 0: 0 -> 0, weight: 0.901237, delay: 0.00000 ms), ...]\n",
      "*     Projection: Proj_ from Exc to Exc, synapse: L23_LBC_L23_NGC\n",
      "*       96 connections (wd): [(Connection 0: 0 -> 0, weight: 0.954054, delay: 0.00000 ms), ...]\n",
      "*     Projection: Proj_ from Exc to Exc, synapse: L23_LBC_L23_NGC\n",
      "*       12 connections (wd): [(Connection 0: 0 -> 0, weight: 0.916026, delay: 0.00000 ms), ...]\n",
      "*     Projection: Proj_ from Exc to Exc, synapse: L23_LBC_L23_NGC\n",
      "*       12 connections (wd): [(Connection 0: 0 -> 0, weight: 0.548822, delay: 0.00000 ms), ...]\n",
      "*     Projection: Proj_ from Exc to Exc, synapse: L23_LBC_L23_NGC\n",
      "*       36 connections (wd): [(Connection 0: 0 -> 0, weight: 0.007117, delay: 0.00000 ms), ...]\n",
      "*     Projection: Proj_ from Exc to Exc, synapse: L23_LBC_L23_NGC\n",
      "*       12 connections (wd): [(Connection 0: 0 -> 0, weight: 0.494092, delay: 0.00000 ms), ...]\n",
      "*     Projection: Proj_ from Exc to Exc, synapse: L23_LBC_L23_NGC\n",
      "*       24 connections (wd): [(Connection 0: 0 -> 0, weight: 0.049476, delay: 0.00000 ms), ...]\n",
      "*     Projection: Proj_ from Exc to Exc, synapse: L23_LBC_L23_NGC\n",
      "*       12 connections (wd): [(Connection 0: 0 -> 0, weight: 0.319616, delay: 0.00000 ms), ...]\n",
      "*     Projection: Proj_ from Exc to Exc, synapse: L23_LBC_L23_NGC\n",
      "*       14 connections (wd): [(Connection 0: 0 -> 0, weight: 0.435477, delay: 0.00000 ms), ...]\n",
      "*     Projection: Proj_ from Exc to Exc, synapse: L23_LBC_L23_NGC\n",
      "*       7 connections (wd): [(Connection 0: 0 -> 0, weight: 0.499156, delay: 0.00000 ms), ...]\n",
      "*     Projection: Proj_ from Exc to Exc, synapse: L23_LBC_L23_NGC\n",
      "*       14 connections (wd): [(Connection 0: 0 -> 0, weight: 0.086233, delay: 0.00000 ms), ...]\n",
      "*     Projection: Proj_ from Exc to Exc, synapse: L23_LBC_L23_NGC\n",
      "*       56 connections (wd): [(Connection 0: 0 -> 0, weight: 0.466397, delay: 0.00000 ms), ...]\n",
      "*     Projection: Proj_ from Exc to Exc, synapse: L23_LBC_L23_NGC\n",
      "*       7 connections (wd): [(Connection 0: 0 -> 0, weight: 0.786226, delay: 0.00000 ms), ...]\n",
      "*     Projection: Proj_ from Exc to Exc, synapse: L23_LBC_L23_NGC\n",
      "*       7 connections (wd): [(Connection 0: 0 -> 0, weight: 0.493935, delay: 0.00000 ms), ...]\n",
      "*     Projection: Proj_ from Exc to Exc, synapse: L23_LBC_L23_NGC\n",
      "*       21 connections (wd): [(Connection 0: 0 -> 0, weight: 0.530182, delay: 0.00000 ms), ...]\n",
      "*     Projection: Proj_ from Exc to Exc, synapse: L23_LBC_L23_NGC\n",
      "*       7 connections (wd): [(Connection 0: 0 -> 0, weight: 0.500817, delay: 0.00000 ms), ...]\n",
      "*     Projection: Proj_ from Exc to Exc, synapse: L23_LBC_L23_NGC\n",
      "*       14 connections (wd): [(Connection 0: 0 -> 0, weight: 0.070464, delay: 0.00000 ms), ...]\n",
      "*     Projection: Proj_ from Exc to Exc, synapse: L23_LBC_L23_NGC\n",
      "*       7 connections (wd): [(Connection 0: 0 -> 0, weight: 0.122287, delay: 0.00000 ms), ...]\n",
      "*     Projection: Proj_ from Exc to Exc, synapse: L23_LBC_L23_NGC\n",
      "*       14 connections (wd): [(Connection 0: 0 -> 0, weight: 0.613015, delay: 0.00000 ms), ...]\n",
      "*     Projection: Proj_ from Exc to Exc, synapse: L23_LBC_L23_NGC\n",
      "*       7 connections (wd): [(Connection 0: 0 -> 0, weight: 0.395314, delay: 0.00000 ms), ...]\n",
      "*     Projection: Proj_ from Exc to Exc, synapse: L23_LBC_L23_NGC\n",
      "*       14 connections (wd): [(Connection 0: 0 -> 0, weight: 0.403768, delay: 0.00000 ms), ...]\n",
      "*     Projection: Proj_ from Exc to Exc, synapse: L23_LBC_L23_NGC\n",
      "*       56 connections (wd): [(Connection 0: 0 -> 0, weight: 0.659149, delay: 0.00000 ms), ...]\n",
      "*     Projection: Proj_ from Exc to Exc, synapse: L23_LBC_L23_NGC\n",
      "*       7 connections (wd): [(Connection 0: 0 -> 0, weight: 0.990778, delay: 0.00000 ms), ...]\n",
      "*     Projection: Proj_ from Exc to Exc, synapse: L23_LBC_L23_NGC\n",
      "*       7 connections (wd): [(Connection 0: 0 -> 0, weight: 0.071340, delay: 0.00000 ms), ...]\n",
      "*     Projection: Proj_ from Exc to Exc, synapse: L23_LBC_L23_NGC\n",
      "*       21 connections (wd): [(Connection 0: 0 -> 0, weight: 0.666109, delay: 0.00000 ms), ...]\n",
      "*     Projection: Proj_ from Exc to Exc, synapse: L23_LBC_L23_NGC\n",
      "*       7 connections (wd): [(Connection 0: 0 -> 0, weight: 0.566654, delay: 0.00000 ms), ...]\n",
      "*     Projection: Proj_ from Exc to Exc, synapse: L23_LBC_L23_NGC\n",
      "*       14 connections (wd): [(Connection 0: 0 -> 0, weight: 0.766908, delay: 0.00000 ms), ...]\n",
      "*     Projection: Proj_ from Exc to Exc, synapse: L23_LBC_L23_NGC\n",
      "*       7 connections (wd): [(Connection 0: 0 -> 0, weight: 0.651344, delay: 0.00000 ms), ...]\n",
      "*     Projection: Proj_ from Exc to Exc, synapse: L23_LBC_L23_NGC\n",
      "*       18 connections (wd): [(Connection 0: 0 -> 0, weight: 0.982859, delay: 0.00000 ms), ...]\n",
      "*     Projection: Proj_ from Exc to Exc, synapse: L23_LBC_L23_NGC\n",
      "*       9 connections (wd): [(Connection 0: 0 -> 0, weight: 0.074786, delay: 0.00000 ms), ...]\n",
      "*     Projection: Proj_ from Exc to Exc, synapse: L23_LBC_L23_NGC\n",
      "*       18 connections (wd): [(Connection 0: 0 -> 0, weight: 0.586277, delay: 0.00000 ms), ...]\n",
      "*     Projection: Proj_ from Exc to Exc, synapse: L23_LBC_L23_NGC\n",
      "*       72 connections (wd): [(Connection 0: 0 -> 0, weight: 0.734209, delay: 0.00000 ms), ...]\n",
      "*     Projection: Proj_ from Exc to Exc, synapse: L23_LBC_L23_NGC\n",
      "*       9 connections (wd): [(Connection 0: 0 -> 0, weight: 0.098980, delay: 0.00000 ms), ...]\n",
      "*     Projection: Proj_ from Exc to Exc, synapse: L23_LBC_L23_NGC\n",
      "*       9 connections (wd): [(Connection 0: 0 -> 0, weight: 0.928131, delay: 0.00000 ms), ...]\n",
      "*     Projection: Proj_ from Exc to Exc, synapse: L23_LBC_L23_NGC\n",
      "*       27 connections (wd): [(Connection 0: 0 -> 0, weight: 0.749369, delay: 0.00000 ms), ...]\n",
      "*     Projection: Proj_ from Exc to Exc, synapse: L23_LBC_L23_NGC\n",
      "*       9 connections (wd): [(Connection 0: 0 -> 0, weight: 0.505251, delay: 0.00000 ms), ...]\n",
      "*     Projection: Proj_ from Exc to Exc, synapse: L23_LBC_L23_NGC\n",
      "*       18 connections (wd): [(Connection 0: 0 -> 0, weight: 0.198894, delay: 0.00000 ms), ...]\n",
      "*     Projection: Proj_ from Exc to Exc, synapse: L23_LBC_L23_NGC\n",
      "*       9 connections (wd): [(Connection 0: 0 -> 0, weight: 0.788982, delay: 0.00000 ms), ...]\n",
      "*     Projection: Proj_ from Exc to Exc, synapse: L23_LBC_L23_NGC\n",
      "*       12 connections (wd): [(Connection 0: 0 -> 0, weight: 0.305641, delay: 0.00000 ms), ...]\n",
      "*     Projection: Proj_ from Exc to Exc, synapse: L23_LBC_L23_NGC\n",
      "*       6 connections (wd): [(Connection 0: 0 -> 0, weight: 0.783372, delay: 0.00000 ms), ...]\n",
      "*     Projection: Proj_ from Exc to Exc, synapse: L23_LBC_L23_NGC\n",
      "*       12 connections (wd): [(Connection 0: 0 -> 0, weight: 0.854119, delay: 0.00000 ms), ...]\n",
      "*     Projection: Proj_ from Exc to Exc, synapse: L23_LBC_L23_NGC\n",
      "*       48 connections (wd): [(Connection 0: 0 -> 0, weight: 0.060883, delay: 0.00000 ms), ...]\n",
      "*     Projection: Proj_ from Exc to Exc, synapse: L23_LBC_L23_NGC\n",
      "*       6 connections (wd): [(Connection 0: 0 -> 0, weight: 0.039606, delay: 0.00000 ms), ...]\n",
      "*     Projection: Proj_ from Exc to Exc, synapse: L23_LBC_L23_NGC\n",
      "*       6 connections (wd): [(Connection 0: 0 -> 0, weight: 0.683454, delay: 0.00000 ms), ...]\n",
      "*     Projection: Proj_ from Exc to Exc, synapse: L23_LBC_L23_NGC\n",
      "*       18 connections (wd): [(Connection 0: 0 -> 0, weight: 0.414428, delay: 0.00000 ms), ...]\n",
      "*     Projection: Proj_ from Exc to Exc, synapse: L23_LBC_L23_NGC\n",
      "*       6 connections (wd): [(Connection 0: 0 -> 0, weight: 0.193162, delay: 0.00000 ms), ...]\n",
      "*     Projection: Proj_ from Exc to Exc, synapse: L23_LBC_L23_NGC\n",
      "*       12 connections (wd): [(Connection 0: 0 -> 0, weight: 0.542842, delay: 0.00000 ms), ...]\n",
      "*     Projection: Proj_ from Exc to Exc, synapse: L23_LBC_L23_NGC\n",
      "*       6 connections (wd): [(Connection 0: 0 -> 0, weight: 0.613255, delay: 0.00000 ms), ...]\n",
      "*     Projection: Proj_ from Exc to Exc, synapse: L23_LBC_L23_NGC\n",
      "*       28 connections (wd): [(Connection 0: 0 -> 0, weight: 0.220848, delay: 0.00000 ms), ...]\n",
      "*     Projection: Proj_ from Exc to Exc, synapse: L23_LBC_L23_NGC\n",
      "*       14 connections (wd): [(Connection 0: 0 -> 0, weight: 0.661869, delay: 0.00000 ms), ...]\n",
      "*     Projection: Proj_ from Exc to Exc, synapse: L23_LBC_L23_NGC\n",
      "*       28 connections (wd): [(Connection 0: 0 -> 0, weight: 0.577312, delay: 0.00000 ms), ...]\n",
      "*     Projection: Proj_ from Exc to Exc, synapse: L23_LBC_L23_NGC\n",
      "*       112 connections (wd): [(Connection 0: 0 -> 0, weight: 0.752007, delay: 0.00000 ms), ...]\n",
      "*     Projection: Proj_ from Exc to Exc, synapse: L23_LBC_L23_NGC\n",
      "*       14 connections (wd): [(Connection 0: 0 -> 0, weight: 0.298450, delay: 0.00000 ms), ...]\n",
      "*     Projection: Proj_ from Exc to Exc, synapse: L23_LBC_L23_NGC\n",
      "*       14 connections (wd): [(Connection 0: 0 -> 0, weight: 0.991998, delay: 0.00000 ms), ...]\n",
      "*     Projection: Proj_ from Exc to Exc, synapse: L23_LBC_L23_NGC\n",
      "*       42 connections (wd): [(Connection 0: 0 -> 0, weight: 0.043522, delay: 0.00000 ms), ...]\n",
      "*     Projection: Proj_ from Exc to Exc, synapse: L23_LBC_L23_NGC\n",
      "*       14 connections (wd): [(Connection 0: 0 -> 0, weight: 0.378528, delay: 0.00000 ms), ...]\n",
      "*     Projection: Proj_ from Exc to Exc, synapse: L23_LBC_L23_NGC\n",
      "*       28 connections (wd): [(Connection 0: 0 -> 0, weight: 0.555610, delay: 0.00000 ms), ...]\n",
      "*     Projection: Proj_ from Exc to Exc, synapse: L23_LBC_L23_NGC\n",
      "*       14 connections (wd): [(Connection 0: 0 -> 0, weight: 0.158344, delay: 0.00000 ms), ...]\n",
      "*     Projection: Proj_ from Exc to Exc, synapse: L23_LBC_L23_NGC\n",
      "*       6 connections (wd): [(Connection 0: 0 -> 0, weight: 0.490582, delay: 0.00000 ms), ...]\n",
      "*     Projection: Proj_ from Exc to Exc, synapse: L23_LBC_L23_NGC\n",
      "*       3 connections (wd): [(Connection 0: 0 -> 0, weight: 0.608821, delay: 0.00000 ms), ...]\n",
      "*     Projection: Proj_ from Exc to Exc, synapse: L23_LBC_L23_NGC\n",
      "*       6 connections (wd): [(Connection 0: 0 -> 0, weight: 0.749288, delay: 0.00000 ms), ...]\n",
      "*     Projection: Proj_ from Exc to Exc, synapse: L23_LBC_L23_NGC\n",
      "*       24 connections (wd): [(Connection 0: 0 -> 0, weight: 0.150794, delay: 0.00000 ms), ...]\n",
      "*     Projection: Proj_ from Exc to Exc, synapse: L23_LBC_L23_NGC\n",
      "*       3 connections (wd): [(Connection 0: 0 -> 0, weight: 0.386551, delay: 0.00000 ms), ...]\n",
      "*     Projection: Proj_ from Exc to Exc, synapse: L23_LBC_L23_NGC\n",
      "*       3 connections (wd): [(Connection 0: 0 -> 0, weight: 0.752330, delay: 0.00000 ms), ...]\n",
      "*     Projection: Proj_ from Exc to Exc, synapse: L23_LBC_L23_NGC\n",
      "*       9 connections (wd): [(Connection 0: 0 -> 0, weight: 0.079613, delay: 0.00000 ms), ...]\n",
      "*     Projection: Proj_ from Exc to Exc, synapse: L23_LBC_L23_NGC\n",
      "*       3 connections (wd): [(Connection 0: 0 -> 0, weight: 0.914865, delay: 0.00000 ms), ...]\n",
      "*     Projection: Proj_ from Exc to Exc, synapse: L23_LBC_L23_NGC\n",
      "*       6 connections (wd): [(Connection 0: 0 -> 0, weight: 0.706708, delay: 0.00000 ms), ...]\n",
      "*     Projection: Proj_ from Exc to Exc, synapse: L23_LBC_L23_NGC\n",
      "*       3 connections (wd): [(Connection 0: 0 -> 0, weight: 0.628509, delay: 0.00000 ms), ...]\n",
      "*     Projection: Proj_ from Exc to Exc, synapse: L23_LBC_L23_NGC\n",
      "*       6 connections (wd): [(Connection 0: 0 -> 0, weight: 0.521196, delay: 0.00000 ms), ...]\n",
      "*     Projection: Proj_ from Exc to Exc, synapse: L23_LBC_L23_NGC\n",
      "*       3 connections (wd): [(Connection 0: 0 -> 0, weight: 0.956898, delay: 0.00000 ms), ...]\n",
      "*     Projection: Proj_ from Exc to Exc, synapse: L23_LBC_L23_NGC\n",
      "*       6 connections (wd): [(Connection 0: 0 -> 0, weight: 0.756697, delay: 0.00000 ms), ...]\n",
      "*     Projection: Proj_ from Exc to Exc, synapse: L23_LBC_L23_NGC\n",
      "*       24 connections (wd): [(Connection 0: 0 -> 0, weight: 0.996528, delay: 0.00000 ms), ...]\n",
      "*     Projection: Proj_ from Exc to Exc, synapse: L23_LBC_L23_NGC\n",
      "*       3 connections (wd): [(Connection 0: 0 -> 0, weight: 0.720541, delay: 0.00000 ms), ...]\n",
      "*     Projection: Proj_ from Exc to Exc, synapse: L23_LBC_L23_NGC\n",
      "*       3 connections (wd): [(Connection 0: 0 -> 0, weight: 0.112711, delay: 0.00000 ms), ...]\n",
      "*     Projection: Proj_ from Exc to Exc, synapse: L23_LBC_L23_NGC\n",
      "*       9 connections (wd): [(Connection 0: 0 -> 0, weight: 0.404140, delay: 0.00000 ms), ...]\n",
      "*     Projection: Proj_ from Exc to Exc, synapse: L23_LBC_L23_NGC\n",
      "*       3 connections (wd): [(Connection 0: 0 -> 0, weight: 0.886083, delay: 0.00000 ms), ...]\n",
      "*     Projection: Proj_ from Exc to Exc, synapse: L23_LBC_L23_NGC\n",
      "*       6 connections (wd): [(Connection 0: 0 -> 0, weight: 0.388872, delay: 0.00000 ms), ...]\n",
      "*     Projection: Proj_ from Exc to Exc, synapse: L23_LBC_L23_NGC\n",
      "*       3 connections (wd): [(Connection 0: 0 -> 0, weight: 0.781803, delay: 0.00000 ms), ...]\n",
      "*     Projection: Proj_ from Exc to Exc, synapse: L23_LBC_L23_NGC\n",
      "*       12 connections (wd): [(Connection 0: 0 -> 0, weight: 0.944788, delay: 0.00000 ms), ...]\n",
      "*     Projection: Proj_ from Exc to Exc, synapse: L23_LBC_L23_NGC\n",
      "*       6 connections (wd): [(Connection 0: 0 -> 0, weight: 0.314290, delay: 0.00000 ms), ...]\n",
      "*     Projection: Proj_ from Exc to Exc, synapse: L23_LBC_L23_NGC\n",
      "*       12 connections (wd): [(Connection 0: 0 -> 0, weight: 0.810357, delay: 0.00000 ms), ...]\n",
      "*     Projection: Proj_ from Exc to Exc, synapse: L23_LBC_L23_NGC\n",
      "*       48 connections (wd): [(Connection 0: 0 -> 0, weight: 0.381816, delay: 0.00000 ms), ...]\n",
      "*     Projection: Proj_ from Exc to Exc, synapse: L23_LBC_L23_NGC\n",
      "*       6 connections (wd): [(Connection 0: 0 -> 0, weight: 0.418879, delay: 0.00000 ms), ...]\n",
      "*     Projection: Proj_ from Exc to Exc, synapse: L23_LBC_L23_NGC\n",
      "*       6 connections (wd): [(Connection 0: 0 -> 0, weight: 0.789525, delay: 0.00000 ms), ...]\n",
      "*     Projection: Proj_ from Exc to Exc, synapse: L23_LBC_L23_NGC\n",
      "*       18 connections (wd): [(Connection 0: 0 -> 0, weight: 0.689704, delay: 0.00000 ms), ...]\n",
      "*     Projection: Proj_ from Exc to Exc, synapse: L23_LBC_L23_NGC\n",
      "*       6 connections (wd): [(Connection 0: 0 -> 0, weight: 0.885321, delay: 0.00000 ms), ...]\n",
      "*     Projection: Proj_ from Exc to Exc, synapse: L23_LBC_L23_NGC\n",
      "*       12 connections (wd): [(Connection 0: 0 -> 0, weight: 0.926692, delay: 0.00000 ms), ...]\n",
      "*     Projection: Proj_ from Exc to Exc, synapse: L23_LBC_L23_NGC\n",
      "*       6 connections (wd): [(Connection 0: 0 -> 0, weight: 0.388299, delay: 0.00000 ms), ...]\n",
      "*     Projection: Proj_ from Exc to Exc, synapse: L23_LBC_L23_NGC\n",
      "*       4 connections (wd): [(Connection 0: 0 -> 0, weight: 0.834825, delay: 0.00000 ms), ...]\n",
      "*     Projection: Proj_ from Exc to Exc, synapse: L23_LBC_L23_NGC\n",
      "*       2 connections (wd): [(Connection 0: 0 -> 0, weight: 0.384457, delay: 0.00000 ms), ...]\n",
      "*     Projection: Proj_ from Exc to Exc, synapse: L23_LBC_L23_NGC\n",
      "*       4 connections (wd): [(Connection 0: 0 -> 0, weight: 0.841426, delay: 0.00000 ms), ...]\n",
      "*     Projection: Proj_ from Exc to Exc, synapse: L23_LBC_L23_NGC\n",
      "*       16 connections (wd): [(Connection 0: 0 -> 0, weight: 0.889537, delay: 0.00000 ms), ...]\n",
      "*     Projection: Proj_ from Exc to Exc, synapse: L23_LBC_L23_NGC\n",
      "*       2 connections (wd): [(Connection 0: 0 -> 0, weight: 0.679744, delay: 0.00000 ms), ...]\n",
      "*     Projection: Proj_ from Exc to Exc, synapse: L23_LBC_L23_NGC\n",
      "*       2 connections (wd): [(Connection 0: 0 -> 0, weight: 0.262053, delay: 0.00000 ms), ...]\n",
      "*     Projection: Proj_ from Exc to Exc, synapse: L23_LBC_L23_NGC\n",
      "*       6 connections (wd): [(Connection 0: 0 -> 0, weight: 0.058768, delay: 0.00000 ms), ...]\n",
      "*     Projection: Proj_ from Exc to Exc, synapse: L23_LBC_L23_NGC\n",
      "*       2 connections (wd): [(Connection 0: 0 -> 0, weight: 0.497491, delay: 0.00000 ms), ...]\n",
      "*     Projection: Proj_ from Exc to Exc, synapse: L23_LBC_L23_NGC\n",
      "*       4 connections (wd): [(Connection 0: 0 -> 0, weight: 0.130675, delay: 0.00000 ms), ...]\n",
      "*     Projection: Proj_ from Exc to Exc, synapse: L23_LBC_L23_NGC\n",
      "*       2 connections (wd): [(Connection 0: 0 -> 0, weight: 0.392007, delay: 0.00000 ms), ...]\n",
      "*     Projection: Proj_ from Exc to Exc, synapse: L23_LBC_L23_NGC\n",
      "*       10 connections (wd): [(Connection 0: 0 -> 0, weight: 0.998535, delay: 0.00000 ms), ...]\n",
      "*     Projection: Proj_ from Exc to Exc, synapse: L23_LBC_L23_NGC\n",
      "*       5 connections (wd): [(Connection 0: 0 -> 0, weight: 0.064087, delay: 0.00000 ms), ...]\n",
      "*     Projection: Proj_ from Exc to Exc, synapse: L23_LBC_L23_NGC\n",
      "*       10 connections (wd): [(Connection 0: 0 -> 0, weight: 0.485575, delay: 0.00000 ms), ...]\n",
      "*     Projection: Proj_ from Exc to Exc, synapse: L23_LBC_L23_NGC\n",
      "*       40 connections (wd): [(Connection 0: 0 -> 0, weight: 0.273707, delay: 0.00000 ms), ...]\n",
      "*     Projection: Proj_ from Exc to Exc, synapse: L23_LBC_L23_NGC\n",
      "*       5 connections (wd): [(Connection 0: 0 -> 0, weight: 0.586687, delay: 0.00000 ms), ...]\n",
      "*     Projection: Proj_ from Exc to Exc, synapse: L23_LBC_L23_NGC\n",
      "*       5 connections (wd): [(Connection 0: 0 -> 0, weight: 0.307832, delay: 0.00000 ms), ...]\n",
      "*     Projection: Proj_ from Exc to Exc, synapse: L23_LBC_L23_NGC\n",
      "*       15 connections (wd): [(Connection 0: 0 -> 0, weight: 0.295042, delay: 0.00000 ms), ...]\n",
      "*     Projection: Proj_ from Exc to Exc, synapse: L23_LBC_L23_NGC\n",
      "*       5 connections (wd): [(Connection 0: 0 -> 0, weight: 0.192956, delay: 0.00000 ms), ...]\n",
      "*     Projection: Proj_ from Exc to Exc, synapse: L23_LBC_L23_NGC\n",
      "*       10 connections (wd): [(Connection 0: 0 -> 0, weight: 0.683898, delay: 0.00000 ms), ...]\n",
      "*     Projection: Proj_ from Exc to Exc, synapse: L23_LBC_L23_NGC\n",
      "*       5 connections (wd): [(Connection 0: 0 -> 0, weight: 0.643553, delay: 0.00000 ms), ...]\n",
      "*     Projection: Proj_ from Exc to Exc, synapse: L23_LBC_L23_NGC\n",
      "*       10 connections (wd): [(Connection 0: 0 -> 0, weight: 0.568764, delay: 0.00000 ms), ...]\n",
      "*     Projection: Proj_ from Exc to Exc, synapse: L23_LBC_L23_NGC\n",
      "*       5 connections (wd): [(Connection 0: 0 -> 0, weight: 0.391004, delay: 0.00000 ms), ...]\n",
      "*     Projection: Proj_ from Exc to Exc, synapse: L23_LBC_L23_NGC\n",
      "*       10 connections (wd): [(Connection 0: 0 -> 0, weight: 0.968497, delay: 0.00000 ms), ...]\n",
      "*     Projection: Proj_ from Exc to Exc, synapse: L23_LBC_L23_NGC\n",
      "*       40 connections (wd): [(Connection 0: 0 -> 0, weight: 0.334050, delay: 0.00000 ms), ...]\n",
      "*     Projection: Proj_ from Exc to Exc, synapse: L23_LBC_L23_NGC\n",
      "*       5 connections (wd): [(Connection 0: 0 -> 0, weight: 0.576703, delay: 0.00000 ms), ...]\n",
      "*     Projection: Proj_ from Exc to Exc, synapse: L23_LBC_L23_NGC\n",
      "*       5 connections (wd): [(Connection 0: 0 -> 0, weight: 0.070587, delay: 0.00000 ms), ...]\n",
      "*     Projection: Proj_ from Exc to Exc, synapse: L23_LBC_L23_NGC\n",
      "*       15 connections (wd): [(Connection 0: 0 -> 0, weight: 0.097384, delay: 0.00000 ms), ...]\n",
      "*     Projection: Proj_ from Exc to Exc, synapse: L23_LBC_L23_NGC\n",
      "*       5 connections (wd): [(Connection 0: 0 -> 0, weight: 0.841005, delay: 0.00000 ms), ...]\n",
      "*     Projection: Proj_ from Exc to Exc, synapse: L23_LBC_L23_NGC\n",
      "*       10 connections (wd): [(Connection 0: 0 -> 0, weight: 0.102189, delay: 0.00000 ms), ...]\n",
      "*     Projection: Proj_ from Exc to Exc, synapse: L23_LBC_L23_NGC\n",
      "*       5 connections (wd): [(Connection 0: 0 -> 0, weight: 0.555809, delay: 0.00000 ms), ...]\n",
      "*     Projection: Proj_ from Exc to Exc, synapse: L23_LBC_L23_NGC\n",
      "*       6 connections (wd): [(Connection 0: 0 -> 0, weight: 0.558255, delay: 0.00000 ms), ...]\n",
      "*     Projection: Proj_ from Exc to Exc, synapse: L23_LBC_L23_NGC\n",
      "*       3 connections (wd): [(Connection 0: 0 -> 0, weight: 0.575696, delay: 0.00000 ms), ...]\n",
      "*     Projection: Proj_ from Exc to Exc, synapse: L23_LBC_L23_NGC\n",
      "*       6 connections (wd): [(Connection 0: 0 -> 0, weight: 0.364572, delay: 0.00000 ms), ...]\n",
      "*     Projection: Proj_ from Exc to Exc, synapse: L23_LBC_L23_NGC\n",
      "*       24 connections (wd): [(Connection 0: 0 -> 0, weight: 0.897292, delay: 0.00000 ms), ...]\n",
      "*     Projection: Proj_ from Exc to Exc, synapse: L23_LBC_L23_NGC\n",
      "*       3 connections (wd): [(Connection 0: 0 -> 0, weight: 0.496426, delay: 0.00000 ms), ...]\n",
      "*     Projection: Proj_ from Exc to Exc, synapse: L23_LBC_L23_NGC\n",
      "*       3 connections (wd): [(Connection 0: 0 -> 0, weight: 0.413066, delay: 0.00000 ms), ...]\n",
      "*     Projection: Proj_ from Exc to Exc, synapse: L23_LBC_L23_NGC\n",
      "*       9 connections (wd): [(Connection 0: 0 -> 0, weight: 0.547383, delay: 0.00000 ms), ...]\n",
      "*     Projection: Proj_ from Exc to Exc, synapse: L23_LBC_L23_NGC\n",
      "*       3 connections (wd): [(Connection 0: 0 -> 0, weight: 0.678509, delay: 0.00000 ms), ...]\n",
      "*     Projection: Proj_ from Exc to Exc, synapse: L23_LBC_L23_NGC\n",
      "*       6 connections (wd): [(Connection 0: 0 -> 0, weight: 0.106359, delay: 0.00000 ms), ...]\n",
      "*     Projection: Proj_ from Exc to Exc, synapse: L23_LBC_L23_NGC\n",
      "*       3 connections (wd): [(Connection 0: 0 -> 0, weight: 0.925540, delay: 0.00000 ms), ...]\n",
      "*     Projection: Proj_ from Exc to Exc, synapse: L23_LBC_L23_NGC\n",
      "*       12 connections (wd): [(Connection 0: 0 -> 0, weight: 0.095145, delay: 0.00000 ms), ...]\n",
      "*     Projection: Proj_ from Exc to Exc, synapse: L23_LBC_L23_NGC\n",
      "*       6 connections (wd): [(Connection 0: 0 -> 0, weight: 0.326931, delay: 0.00000 ms), ...]\n",
      "*     Projection: Proj_ from Exc to Exc, synapse: L23_LBC_L23_NGC\n",
      "*       12 connections (wd): [(Connection 0: 0 -> 0, weight: 0.635548, delay: 0.00000 ms), ...]\n",
      "*     Projection: Proj_ from Exc to Exc, synapse: L23_LBC_L23_NGC\n",
      "*       48 connections (wd): [(Connection 0: 0 -> 0, weight: 0.415063, delay: 0.00000 ms), ...]\n",
      "*     Projection: Proj_ from Exc to Exc, synapse: L23_LBC_L23_NGC\n",
      "*       6 connections (wd): [(Connection 0: 0 -> 0, weight: 0.555392, delay: 0.00000 ms), ...]\n",
      "*     Projection: Proj_ from Exc to Exc, synapse: L23_LBC_L23_NGC\n",
      "*       6 connections (wd): [(Connection 0: 0 -> 0, weight: 0.189830, delay: 0.00000 ms), ...]\n",
      "*     Projection: Proj_ from Exc to Exc, synapse: L23_LBC_L23_NGC\n",
      "*       18 connections (wd): [(Connection 0: 0 -> 0, weight: 0.032852, delay: 0.00000 ms), ...]\n",
      "*     Projection: Proj_ from Exc to Exc, synapse: L23_LBC_L23_NGC\n",
      "*       6 connections (wd): [(Connection 0: 0 -> 0, weight: 0.860259, delay: 0.00000 ms), ...]\n",
      "*     Projection: Proj_ from Exc to Exc, synapse: L23_LBC_L23_NGC\n",
      "*       12 connections (wd): [(Connection 0: 0 -> 0, weight: 0.634400, delay: 0.00000 ms), ...]\n",
      "*     Projection: Proj_ from Exc to Exc, synapse: L23_LBC_L23_NGC\n",
      "*       6 connections (wd): [(Connection 0: 0 -> 0, weight: 0.188467, delay: 0.00000 ms), ...]\n",
      "*     Projection: Proj_ from Exc to Exc, synapse: L23_LBC_L23_NGC\n",
      "*       2 connections (wd): [(Connection 0: 0 -> 0, weight: 0.146369, delay: 0.00000 ms), ...]\n",
      "*     Projection: Proj_ from Exc to Exc, synapse: L23_LBC_L23_NGC\n",
      "*       1 connections (wd): [(Connection 0: 0 -> 0, weight: 0.753864, delay: 0.00000 ms), ...]\n",
      "*     Projection: Proj_ from Exc to Exc, synapse: L23_LBC_L23_NGC\n",
      "*       2 connections (wd): [(Connection 0: 0 -> 0, weight: 0.060273, delay: 0.00000 ms), ...]\n",
      "*     Projection: Proj_ from Exc to Exc, synapse: L23_LBC_L23_NGC\n",
      "*       8 connections (wd): [(Connection 0: 0 -> 0, weight: 0.386153, delay: 0.00000 ms), ...]\n",
      "*     Projection: Proj_ from Exc to Exc, synapse: L23_LBC_L23_NGC\n",
      "*       1 connections (wd): [(Connection 0: 0 -> 0, weight: 0.222955, delay: 0.00000 ms), ...]\n",
      "*     Projection: Proj_ from Exc to Exc, synapse: L23_LBC_L23_NGC\n",
      "*       1 connections (wd): [(Connection 0: 0 -> 0, weight: 0.040262, delay: 0.00000 ms), ...]\n",
      "*     Projection: Proj_ from Exc to Exc, synapse: L23_LBC_L23_NGC\n",
      "*       3 connections (wd): [(Connection 0: 0 -> 0, weight: 0.113631, delay: 0.00000 ms), ...]\n",
      "*     Projection: Proj_ from Exc to Exc, synapse: L23_LBC_L23_NGC\n",
      "*       1 connections (wd): [(Connection 0: 0 -> 0, weight: 0.819901, delay: 0.00000 ms), ...]\n",
      "*     Projection: Proj_ from Exc to Exc, synapse: L23_LBC_L23_NGC\n",
      "*       2 connections (wd): [(Connection 0: 0 -> 0, weight: 0.781497, delay: 0.00000 ms), ...]\n",
      "*     Projection: Proj_ from Exc to Exc, synapse: L23_LBC_L23_NGC\n",
      "*       1 connections (wd): [(Connection 0: 0 -> 0, weight: 0.130148, delay: 0.00000 ms), ...]\n",
      "*     Projection: Proj_ from Exc to Exc, synapse: L23_LBC_L23_NGC\n",
      "*       6 connections (wd): [(Connection 0: 0 -> 0, weight: 0.987917, delay: 0.00000 ms), ...]\n",
      "*     Projection: Proj_ from Exc to Exc, synapse: L23_LBC_L23_NGC\n",
      "*       3 connections (wd): [(Connection 0: 0 -> 0, weight: 0.290757, delay: 0.00000 ms), ...]\n",
      "*     Projection: Proj_ from Exc to Exc, synapse: L23_LBC_L23_NGC\n",
      "*       6 connections (wd): [(Connection 0: 0 -> 0, weight: 0.847602, delay: 0.00000 ms), ...]\n",
      "*     Projection: Proj_ from Exc to Exc, synapse: L23_LBC_L23_NGC\n",
      "*       24 connections (wd): [(Connection 0: 0 -> 0, weight: 0.289614, delay: 0.00000 ms), ...]\n",
      "*     Projection: Proj_ from Exc to Exc, synapse: L23_LBC_L23_NGC\n",
      "*       3 connections (wd): [(Connection 0: 0 -> 0, weight: 0.429812, delay: 0.00000 ms), ...]\n",
      "*     Projection: Proj_ from Exc to Exc, synapse: L23_LBC_L23_NGC\n",
      "*       3 connections (wd): [(Connection 0: 0 -> 0, weight: 0.124642, delay: 0.00000 ms), ...]\n",
      "*     Projection: Proj_ from Exc to Exc, synapse: L23_LBC_L23_NGC\n",
      "*       9 connections (wd): [(Connection 0: 0 -> 0, weight: 0.351357, delay: 0.00000 ms), ...]\n",
      "*     Projection: Proj_ from Exc to Exc, synapse: L23_LBC_L23_NGC\n",
      "*       3 connections (wd): [(Connection 0: 0 -> 0, weight: 0.390852, delay: 0.00000 ms), ...]\n",
      "*     Projection: Proj_ from Exc to Exc, synapse: L23_LBC_L23_NGC\n",
      "*       6 connections (wd): [(Connection 0: 0 -> 0, weight: 0.899960, delay: 0.00000 ms), ...]\n",
      "*     Projection: Proj_ from Exc to Exc, synapse: L23_LBC_L23_NGC\n",
      "*       3 connections (wd): [(Connection 0: 0 -> 0, weight: 0.230824, delay: 0.00000 ms), ...]\n",
      "*     Projection: Proj_ from Exc to Exc, synapse: L23_LBC_L23_NGC\n",
      "*       2 connections (wd): [(Connection 0: 0 -> 0, weight: 0.456007, delay: 0.00000 ms), ...]\n",
      "*     Projection: Proj_ from Exc to Exc, synapse: L23_LBC_L23_NGC\n",
      "*       1 connections (wd): [(Connection 0: 0 -> 0, weight: 0.259820, delay: 0.00000 ms), ...]\n",
      "*     Projection: Proj_ from Exc to Exc, synapse: L23_LBC_L23_NGC\n",
      "*       2 connections (wd): [(Connection 0: 0 -> 0, weight: 0.558837, delay: 0.00000 ms), ...]\n",
      "*     Projection: Proj_ from Exc to Exc, synapse: L23_LBC_L23_NGC\n",
      "*       8 connections (wd): [(Connection 0: 0 -> 0, weight: 0.045624, delay: 0.00000 ms), ...]\n",
      "*     Projection: Proj_ from Exc to Exc, synapse: L23_LBC_L23_NGC\n",
      "*       1 connections (wd): [(Connection 0: 0 -> 0, weight: 0.203873, delay: 0.00000 ms), ...]\n",
      "*     Projection: Proj_ from Exc to Exc, synapse: L23_LBC_L23_NGC\n",
      "*       1 connections (wd): [(Connection 0: 0 -> 0, weight: 0.297987, delay: 0.00000 ms), ...]\n",
      "*     Projection: Proj_ from Exc to Exc, synapse: L23_LBC_L23_NGC\n",
      "*       3 connections (wd): [(Connection 0: 0 -> 0, weight: 0.363390, delay: 0.00000 ms), ...]\n",
      "*     Projection: Proj_ from Exc to Exc, synapse: L23_LBC_L23_NGC\n",
      "*       1 connections (wd): [(Connection 0: 0 -> 0, weight: 0.794666, delay: 0.00000 ms), ...]\n",
      "*     Projection: Proj_ from Exc to Exc, synapse: L23_LBC_L23_NGC\n",
      "*       2 connections (wd): [(Connection 0: 0 -> 0, weight: 0.614007, delay: 0.00000 ms), ...]\n",
      "*     Projection: Proj_ from Exc to Exc, synapse: L23_LBC_L23_NGC\n",
      "*       1 connections (wd): [(Connection 0: 0 -> 0, weight: 0.878766, delay: 0.00000 ms), ...]\n",
      "*     Projection: Proj_ from Exc to Exc, synapse: L23_LBC_L23_NGC\n",
      "*       8 connections (wd): [(Connection 0: 0 -> 0, weight: 0.153423, delay: 0.00000 ms), ...]\n",
      "*     Projection: Proj_ from Exc to Exc, synapse: L23_LBC_L23_NGC\n",
      "*       4 connections (wd): [(Connection 0: 0 -> 0, weight: 0.946235, delay: 0.00000 ms), ...]\n",
      "*     Projection: Proj_ from Exc to Exc, synapse: L23_LBC_L23_NGC\n",
      "*       8 connections (wd): [(Connection 0: 0 -> 0, weight: 0.966769, delay: 0.00000 ms), ...]\n",
      "*     Projection: Proj_ from Exc to Exc, synapse: L23_LBC_L23_NGC\n",
      "*       32 connections (wd): [(Connection 0: 0 -> 0, weight: 0.701532, delay: 0.00000 ms), ...]\n",
      "*     Projection: Proj_ from Exc to Exc, synapse: L23_LBC_L23_NGC\n",
      "*       4 connections (wd): [(Connection 0: 0 -> 0, weight: 0.495111, delay: 0.00000 ms), ...]\n",
      "*     Projection: Proj_ from Exc to Exc, synapse: L23_LBC_L23_NGC\n",
      "*       4 connections (wd): [(Connection 0: 0 -> 0, weight: 0.276967, delay: 0.00000 ms), ...]\n",
      "*     Projection: Proj_ from Exc to Exc, synapse: L23_LBC_L23_NGC\n",
      "*       12 connections (wd): [(Connection 0: 0 -> 0, weight: 0.662013, delay: 0.00000 ms), ...]\n",
      "*     Projection: Proj_ from Exc to Exc, synapse: L23_LBC_L23_NGC\n",
      "*       4 connections (wd): [(Connection 0: 0 -> 0, weight: 0.700548, delay: 0.00000 ms), ...]\n",
      "*     Projection: Proj_ from Exc to Exc, synapse: L23_LBC_L23_NGC\n",
      "*       8 connections (wd): [(Connection 0: 0 -> 0, weight: 0.050448, delay: 0.00000 ms), ...]\n",
      "*     Projection: Proj_ from Exc to Exc, synapse: L23_LBC_L23_NGC\n",
      "*       4 connections (wd): [(Connection 0: 0 -> 0, weight: 0.899923, delay: 0.00000 ms), ...]\n",
      "*     Projection: Proj_ from Exc to Exc, synapse: L23_LBC_L23_NGC\n",
      "*       12 connections (wd): [(Connection 0: 0 -> 0, weight: 0.940005, delay: 0.00000 ms), ...]\n",
      "*     Projection: Proj_ from Exc to Exc, synapse: L23_LBC_L23_NGC\n",
      "*       6 connections (wd): [(Connection 0: 0 -> 0, weight: 0.602695, delay: 0.00000 ms), ...]\n",
      "*     Projection: Proj_ from Exc to Exc, synapse: L23_LBC_L23_NGC\n",
      "*       12 connections (wd): [(Connection 0: 0 -> 0, weight: 0.823390, delay: 0.00000 ms), ...]\n",
      "*     Projection: Proj_ from Exc to Exc, synapse: L23_LBC_L23_NGC\n",
      "*       48 connections (wd): [(Connection 0: 0 -> 0, weight: 0.579297, delay: 0.00000 ms), ...]\n",
      "*     Projection: Proj_ from Exc to Exc, synapse: L23_LBC_L23_NGC\n",
      "*       6 connections (wd): [(Connection 0: 0 -> 0, weight: 0.414516, delay: 0.00000 ms), ...]\n",
      "*     Projection: Proj_ from Exc to Exc, synapse: L23_LBC_L23_NGC\n",
      "*       6 connections (wd): [(Connection 0: 0 -> 0, weight: 0.158450, delay: 0.00000 ms), ...]\n",
      "*     Projection: Proj_ from Exc to Exc, synapse: L23_LBC_L23_NGC\n",
      "*       18 connections (wd): [(Connection 0: 0 -> 0, weight: 0.514290, delay: 0.00000 ms), ...]\n",
      "*     Projection: Proj_ from Exc to Exc, synapse: L23_LBC_L23_NGC\n",
      "*       6 connections (wd): [(Connection 0: 0 -> 0, weight: 0.237017, delay: 0.00000 ms), ...]\n",
      "*     Projection: Proj_ from Exc to Exc, synapse: L23_LBC_L23_NGC\n",
      "*       12 connections (wd): [(Connection 0: 0 -> 0, weight: 0.419200, delay: 0.00000 ms), ...]\n",
      "*     Projection: Proj_ from Exc to Exc, synapse: L23_LBC_L23_NGC\n",
      "*       6 connections (wd): [(Connection 0: 0 -> 0, weight: 0.934083, delay: 0.00000 ms), ...]\n",
      "*     Projection: Proj_ from Exc to Exc, synapse: L23_LBC_L23_NGC\n",
      "*       6 connections (wd): [(Connection 0: 0 -> 0, weight: 0.482250, delay: 0.00000 ms), ...]\n",
      "*     Projection: Proj_ from Exc to Exc, synapse: L23_LBC_L23_NGC\n",
      "*       3 connections (wd): [(Connection 0: 0 -> 0, weight: 0.091827, delay: 0.00000 ms), ...]\n",
      "*     Projection: Proj_ from Exc to Exc, synapse: L23_LBC_L23_NGC\n",
      "*       6 connections (wd): [(Connection 0: 0 -> 0, weight: 0.589166, delay: 0.00000 ms), ...]\n",
      "*     Projection: Proj_ from Exc to Exc, synapse: L23_LBC_L23_NGC\n",
      "*       24 connections (wd): [(Connection 0: 0 -> 0, weight: 0.014304, delay: 0.00000 ms), ...]\n",
      "*     Projection: Proj_ from Exc to Exc, synapse: L23_LBC_L23_NGC\n",
      "*       3 connections (wd): [(Connection 0: 0 -> 0, weight: 0.040714, delay: 0.00000 ms), ...]\n",
      "*     Projection: Proj_ from Exc to Exc, synapse: L23_LBC_L23_NGC\n",
      "*       3 connections (wd): [(Connection 0: 0 -> 0, weight: 0.639714, delay: 0.00000 ms), ...]\n",
      "*     Projection: Proj_ from Exc to Exc, synapse: L23_LBC_L23_NGC\n",
      "*       9 connections (wd): [(Connection 0: 0 -> 0, weight: 0.200838, delay: 0.00000 ms), ...]\n",
      "*     Projection: Proj_ from Exc to Exc, synapse: L23_LBC_L23_NGC\n",
      "*       3 connections (wd): [(Connection 0: 0 -> 0, weight: 0.160461, delay: 0.00000 ms), ...]\n",
      "*     Projection: Proj_ from Exc to Exc, synapse: L23_LBC_L23_NGC\n",
      "*       6 connections (wd): [(Connection 0: 0 -> 0, weight: 0.336299, delay: 0.00000 ms), ...]\n",
      "*     Projection: Proj_ from Exc to Exc, synapse: L23_LBC_L23_NGC\n",
      "*       3 connections (wd): [(Connection 0: 0 -> 0, weight: 0.317775, delay: 0.00000 ms), ...]\n",
      "*     Projection: Proj_ from Exc to Exc, synapse: L4_PC_L6_TPC_L1\n",
      "*       17800 connections (wd): [(Connection 0: 0 -> 0, weight: 0.599658, delay: 0.00000 ms), ...]\n",
      "*\n",
      "*   0 inputs in 0 input lists \n",
      "*\n",
      "*   92 explicit inputs (outside of input lists)\n",
      "*     Explicit Input of type pg_exc_0 to Exc(cell 0), destination: unspecified\n",
      "*     Explicit Input of type pg_exc_1 to Exc(cell 1), destination: unspecified\n",
      "*     Explicit Input of type pg_exc_2 to Exc(cell 2), destination: unspecified\n",
      "*     Explicit Input of type pg_exc_3 to Exc(cell 3), destination: unspecified\n",
      "*     Explicit Input of type pg_exc_4 to Exc(cell 4), destination: unspecified\n",
      "*     Explicit Input of type pg_exc_5 to Exc(cell 5), destination: unspecified\n",
      "*     Explicit Input of type pg_exc_6 to Exc(cell 6), destination: unspecified\n",
      "*     Explicit Input of type pg_exc_7 to Exc(cell 7), destination: unspecified\n",
      "*     Explicit Input of type pg_exc_8 to Exc(cell 8), destination: unspecified\n",
      "*     Explicit Input of type pg_exc_9 to Exc(cell 9), destination: unspecified\n",
      "*     Explicit Input of type pg_exc_10 to Exc(cell 10), destination: unspecified\n",
      "*     Explicit Input of type pg_exc_11 to Exc(cell 11), destination: unspecified\n",
      "*     Explicit Input of type pg_exc_12 to Exc(cell 12), destination: unspecified\n",
      "*     Explicit Input of type pg_exc_13 to Exc(cell 13), destination: unspecified\n",
      "*     Explicit Input of type pg_exc_14 to Exc(cell 14), destination: unspecified\n",
      "*     Explicit Input of type pg_exc_15 to Exc(cell 15), destination: unspecified\n",
      "*     Explicit Input of type pg_exc_16 to Exc(cell 16), destination: unspecified\n",
      "*     Explicit Input of type pg_exc_17 to Exc(cell 17), destination: unspecified\n",
      "*     Explicit Input of type pg_exc_18 to Exc(cell 18), destination: unspecified\n",
      "*     Explicit Input of type pg_exc_19 to Exc(cell 19), destination: unspecified\n",
      "*     Explicit Input of type pg_exc_20 to Exc(cell 20), destination: unspecified\n",
      "*     Explicit Input of type pg_exc_21 to Exc(cell 21), destination: unspecified\n",
      "*     Explicit Input of type pg_exc_22 to Exc(cell 22), destination: unspecified\n",
      "*     Explicit Input of type pg_exc_23 to Exc(cell 23), destination: unspecified\n",
      "*     Explicit Input of type pg_exc_24 to Exc(cell 24), destination: unspecified\n",
      "*     Explicit Input of type pg_exc_25 to Exc(cell 25), destination: unspecified\n",
      "*     Explicit Input of type pg_exc_26 to Exc(cell 26), destination: unspecified\n",
      "*     Explicit Input of type pg_exc_27 to Exc(cell 27), destination: unspecified\n",
      "*     Explicit Input of type pg_exc_28 to Exc(cell 28), destination: unspecified\n",
      "*     Explicit Input of type pg_exc_29 to Exc(cell 29), destination: unspecified\n",
      "*     Explicit Input of type pg_exc_30 to Exc(cell 30), destination: unspecified\n",
      "*     Explicit Input of type pg_exc_31 to Exc(cell 31), destination: unspecified\n",
      "*     Explicit Input of type pg_exc_32 to Exc(cell 32), destination: unspecified\n",
      "*     Explicit Input of type pg_exc_33 to Exc(cell 33), destination: unspecified\n",
      "*     Explicit Input of type pg_exc_34 to Exc(cell 34), destination: unspecified\n",
      "*     Explicit Input of type pg_exc_35 to Exc(cell 35), destination: unspecified\n",
      "*     Explicit Input of type pg_exc_36 to Exc(cell 36), destination: unspecified\n",
      "*     Explicit Input of type pg_exc_37 to Exc(cell 37), destination: unspecified\n",
      "*     Explicit Input of type pg_exc_38 to Exc(cell 38), destination: unspecified\n",
      "*     Explicit Input of type pg_exc_39 to Exc(cell 39), destination: unspecified\n",
      "*     Explicit Input of type pg_exc_40 to Exc(cell 40), destination: unspecified\n",
      "*     Explicit Input of type pg_exc_41 to Exc(cell 41), destination: unspecified\n",
      "*     Explicit Input of type pg_exc_42 to Exc(cell 42), destination: unspecified\n",
      "*     Explicit Input of type pg_exc_43 to Exc(cell 43), destination: unspecified\n",
      "*     Explicit Input of type pg_exc_44 to Exc(cell 44), destination: unspecified\n",
      "*     Explicit Input of type pg_exc_45 to Exc(cell 45), destination: unspecified\n",
      "*     Explicit Input of type pg_exc_46 to Exc(cell 46), destination: unspecified\n",
      "*     Explicit Input of type pg_exc_47 to Exc(cell 47), destination: unspecified\n",
      "*     Explicit Input of type pg_exc_48 to Exc(cell 48), destination: unspecified\n",
      "*     Explicit Input of type pg_exc_49 to Exc(cell 49), destination: unspecified\n",
      "*     Explicit Input of type pg_exc_50 to Exc(cell 50), destination: unspecified\n",
      "*     Explicit Input of type pg_exc_51 to Exc(cell 51), destination: unspecified\n",
      "*     Explicit Input of type pg_exc_52 to Exc(cell 52), destination: unspecified\n",
      "*     Explicit Input of type pg_exc_53 to Exc(cell 53), destination: unspecified\n",
      "*     Explicit Input of type pg_exc_54 to Exc(cell 54), destination: unspecified\n",
      "*     Explicit Input of type pg_exc_55 to Exc(cell 55), destination: unspecified\n",
      "*     Explicit Input of type pg_exc_56 to Exc(cell 56), destination: unspecified\n",
      "*     Explicit Input of type pg_exc_57 to Exc(cell 57), destination: unspecified\n",
      "*     Explicit Input of type pg_exc_58 to Exc(cell 58), destination: unspecified\n",
      "*     Explicit Input of type pg_exc_59 to Exc(cell 59), destination: unspecified\n",
      "*     Explicit Input of type pg_exc_60 to Exc(cell 60), destination: unspecified\n",
      "*     Explicit Input of type pg_exc_61 to Exc(cell 61), destination: unspecified\n",
      "*     Explicit Input of type pg_exc_62 to Exc(cell 62), destination: unspecified\n",
      "*     Explicit Input of type pg_exc_63 to Exc(cell 63), destination: unspecified\n",
      "*     Explicit Input of type pg_exc_64 to Exc(cell 64), destination: unspecified\n",
      "*     Explicit Input of type pg_exc_65 to Exc(cell 65), destination: unspecified\n",
      "*     Explicit Input of type pg_exc_66 to Exc(cell 66), destination: unspecified\n",
      "*     Explicit Input of type pg_exc_67 to Exc(cell 67), destination: unspecified\n",
      "*     Explicit Input of type pg_exc_68 to Exc(cell 68), destination: unspecified\n",
      "*     Explicit Input of type pg_exc_69 to Exc(cell 69), destination: unspecified\n",
      "*     Explicit Input of type pg_exc_70 to Exc(cell 70), destination: unspecified\n",
      "*     Explicit Input of type pg_exc_71 to Exc(cell 71), destination: unspecified\n",
      "*     Explicit Input of type pg_exc_72 to Exc(cell 72), destination: unspecified\n",
      "*     Explicit Input of type pg_exc_73 to Exc(cell 73), destination: unspecified\n",
      "*     Explicit Input of type pg_exc_74 to Exc(cell 74), destination: unspecified\n",
      "*     Explicit Input of type pg_exc_75 to Exc(cell 75), destination: unspecified\n",
      "*     Explicit Input of type pg_exc_76 to Exc(cell 76), destination: unspecified\n",
      "*     Explicit Input of type pg_exc_77 to Exc(cell 77), destination: unspecified\n",
      "*     Explicit Input of type pg_exc_78 to Exc(cell 78), destination: unspecified\n",
      "*     Explicit Input of type pg_exc_79 to Exc(cell 79), destination: unspecified\n",
      "*     Explicit Input of type pg_exc_80 to Exc(cell 80), destination: unspecified\n",
      "*     Explicit Input of type pg_exc_81 to Exc(cell 81), destination: unspecified\n",
      "*     Explicit Input of type pg_exc_82 to Exc(cell 82), destination: unspecified\n",
      "*     Explicit Input of type pg_exc_83 to Exc(cell 83), destination: unspecified\n",
      "*     Explicit Input of type pg_exc_84 to Exc(cell 84), destination: unspecified\n",
      "*     Explicit Input of type pg_exc_85 to Exc(cell 85), destination: unspecified\n",
      "*     Explicit Input of type pg_exc_86 to Exc(cell 86), destination: unspecified\n",
      "*     Explicit Input of type pg_exc_87 to Exc(cell 87), destination: unspecified\n",
      "*     Explicit Input of type pg_exc_88 to Exc(cell 88), destination: unspecified\n",
      "*     Explicit Input of type pg_exc_89 to Exc(cell 89), destination: unspecified\n",
      "*     Explicit Input of type pg_exc_90 to Exc(cell 90), destination: unspecified\n",
      "*     Explicit Input of type pg_exc_91 to Exc(cell 91), destination: unspecified\n",
      "*\n",
      "*******************************************************\n"
     ]
    },
    {
     "name": "stderr",
     "output_type": "stream",
     "text": [
      "pyNeuroML >>> pyneuroml.pynml - INFO - Executing: (java -Xmx400M  -jar  \"C:\\Users\\jjudge3\\AppData\\Local\\anaconda3\\envs\\in-silico-hVOS\\Lib\\site-packages\\pyneuroml\\lib\\jNeuroML-0.11.0-jar-with-dependencies.jar\" -validate \"Cortex_Network.net.nml\" ) in directory: .\n",
      "pyNeuroML >>> 2025-01-29 16:19:44,203 - pyneuroml.pynml - INFO - Executing: (java -Xmx400M  -jar  \"C:\\Users\\jjudge3\\AppData\\Local\\anaconda3\\envs\\in-silico-hVOS\\Lib\\site-packages\\pyneuroml\\lib\\jNeuroML-0.11.0-jar-with-dependencies.jar\" -validate \"Cortex_Network.net.nml\" ) in directory: .\n"
     ]
    },
    {
     "name": "stdout",
     "output_type": "stream",
     "text": [
      "Written network file to: Cortex_Network.net.nml\n"
     ]
    },
    {
     "name": "stderr",
     "output_type": "stream",
     "text": [
      "pyNeuroML >>> pyneuroml.pynml - CRITICAL - *** Problem running command: \n",
      "       Command 'java -Xmx400M  -jar  \"C:\\Users\\jjudge3\\AppData\\Local\\anaconda3\\envs\\in-silico-hVOS\\Lib\\site-packages\\pyneuroml\\lib\\jNeuroML-0.11.0-jar-with-dependencies.jar\" -validate \"Cortex_Network.net.nml\" ' returned non-zero exit status 1.\n",
      "pyNeuroML >>> 2025-01-29 16:19:46,627 - pyneuroml.pynml - CRITICAL - *** Problem running command: \n",
      "       Command 'java -Xmx400M  -jar  \"C:\\Users\\jjudge3\\AppData\\Local\\anaconda3\\envs\\in-silico-hVOS\\Lib\\site-packages\\pyneuroml\\lib\\jNeuroML-0.11.0-jar-with-dependencies.jar\" -validate \"Cortex_Network.net.nml\" ' returned non-zero exit status 1.\n",
      "pyNeuroML >>> pyneuroml.pynml - CRITICAL -  jNeuroML >>   jNeuroML v0.11.0\n",
      " jNeuroML >>  Validating: c:\\Users\\jjudge3\\Desktop\\scratch\\in-silico-hVOS\\Cortex_Network.net.nml\n",
      " jNeuroML >>  \n",
      "pyNeuroML >>> 2025-01-29 16:19:46,629 - pyneuroml.pynml - CRITICAL -  jNeuroML >>   jNeuroML v0.11.0\n",
      " jNeuroML >>  Validating: c:\\Users\\jjudge3\\Desktop\\scratch\\in-silico-hVOS\\Cortex_Network.net.nml\n",
      " jNeuroML >>  \n"
     ]
    },
    {
     "data": {
      "text/plain": [
       "False"
      ]
     },
     "execution_count": 18,
     "metadata": {},
     "output_type": "execute_result"
    }
   ],
   "source": [
    "# stimulus: L4 spiny stellate neurons (simulating thalamic input) as a pulse generator at 20ms, duration 0.2ms, amplitude on 10^-1 nA scale\n",
    "for me_pop_key in neuron_population_dict[\"L4_SS\"]:\n",
    "    me_pop = neuron_population_dict[\"L4_SS\"][me_pop_key]\n",
    "    for i in range(0, me_pop.size):\n",
    "        # pulse generator as explicit stimulus\n",
    "        pg = nml_doc.add(\n",
    "            \"PulseGenerator\",\n",
    "            id=\"pg_exc_%i\" % i,\n",
    "            delay=\"20ms\",\n",
    "            duration=\"0.2ms\",\n",
    "            amplitude=\"%f nA\" % (0.3 + 0.1 * random.random()),\n",
    "        )\n",
    "        \n",
    "        exp_input = net.add(\n",
    "            \"ExplicitInput\", target=\"%s[%i]\" % (me_pop.id, i), input=pg.id\n",
    "        )\n",
    "\n",
    "print(nml_doc.summary())\n",
    "\n",
    "nml_net_file = 'Cortex_Network.net.nml'\n",
    "writers.NeuroMLWriter.write(nml_doc, nml_net_file)\n",
    "\n",
    "print(\"Written network file to: \" + nml_net_file)\n"
   ]
  },
  {
   "cell_type": "code",
   "execution_count": null,
   "metadata": {},
   "outputs": [],
   "source": [
    "# next, generate a LEMS file to run the simulation, with helper method\n",
    "# https://docs.neuroml.org/Userdocs/LEMSSimulation.html\n",
    "# https://github.com/NeuroML/pyNeuroML/blob/master/pyneuroml/lems/__init__.py#L19 \n",
    "\n",
    "sim_id = \"CortexNet\"\n",
    "target = \"simplenet\"\n",
    "duration = 200\n",
    "dt = 0.025\n",
    "lems_file_name = \"LEMS_%s.xml\" % sim_id\n",
    "target_dir = \"test_data\"\n",
    "\n",
    "\n",
    "# TO DO: to save computation time, only generate/save for cells within a 200-um slice of the network.\n",
    "generate_lems_file_for_neuroml(\n",
    "    sim_id,\n",
    "    nml_net_file,\n",
    "    target,\n",
    "    duration,\n",
    "    dt,\n",
    "    lems_file_name,\n",
    "    target_dir,\n",
    "    include_extra_files=[],\n",
    "    gen_plots_for_all_v=True,\n",
    "    plot_all_segments=True,\n",
    "    gen_plots_for_quantities={},  # Dict with displays vs lists of quantity paths\n",
    "    gen_plots_for_only_populations=[],  # List of populations, all pops if = []\n",
    "    gen_saves_for_all_v=True,\n",
    "    save_all_segments=True,\n",
    "    gen_saves_for_only_populations=[],  # List of populations, all pops if = []\n",
    "    gen_saves_for_quantities={},  # Dict with file names vs lists of quantity paths\n",
    "    gen_spike_saves_for_all_somas=True,\n",
    "    report_file_name=\"report.txt\",\n",
    "    copy_neuroml=True,\n",
    "    verbose=True,\n",
    ")"
   ]
  }
 ],
 "metadata": {
  "kernelspec": {
   "display_name": "in-silico-hVOS",
   "language": "python",
   "name": "python3"
  },
  "language_info": {
   "codemirror_mode": {
    "name": "ipython",
    "version": 3
   },
   "file_extension": ".py",
   "mimetype": "text/x-python",
   "name": "python",
   "nbconvert_exporter": "python",
   "pygments_lexer": "ipython3",
   "version": "3.13.1"
  }
 },
 "nbformat": 4,
 "nbformat_minor": 2
}
